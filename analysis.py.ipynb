{
 "cells": [
  {
   "cell_type": "code",
   "execution_count": 1,
   "id": "e298b578",
   "metadata": {},
   "outputs": [],
   "source": [
    "import pandas as pd\n",
    "import numpy as np\n",
    "from matplotlib import pyplot as plt"
   ]
  },
  {
   "cell_type": "code",
   "execution_count": 15,
   "id": "c92947e2",
   "metadata": {},
   "outputs": [
    {
     "data": {
      "text/html": [
       "<div>\n",
       "<style scoped>\n",
       "    .dataframe tbody tr th:only-of-type {\n",
       "        vertical-align: middle;\n",
       "    }\n",
       "\n",
       "    .dataframe tbody tr th {\n",
       "        vertical-align: top;\n",
       "    }\n",
       "\n",
       "    .dataframe thead th {\n",
       "        text-align: right;\n",
       "    }\n",
       "</style>\n",
       "<table border=\"1\" class=\"dataframe\">\n",
       "  <thead>\n",
       "    <tr style=\"text-align: right;\">\n",
       "      <th></th>\n",
       "      <th>Startup name</th>\n",
       "      <th>Sector</th>\n",
       "      <th>Sub-sector</th>\n",
       "      <th>Year of launch</th>\n",
       "      <th>HQ</th>\n",
       "      <th>Website</th>\n",
       "      <th>Description of business</th>\n",
       "      <th>Unnamed: 7</th>\n",
       "      <th>Female founder?</th>\n",
       "      <th>Accelerated?</th>\n",
       "      <th>Number of employees</th>\n",
       "    </tr>\n",
       "  </thead>\n",
       "  <tbody>\n",
       "    <tr>\n",
       "      <th>0</th>\n",
       "      <td>NaN</td>\n",
       "      <td>NaN</td>\n",
       "      <td>NaN</td>\n",
       "      <td>NaN</td>\n",
       "      <td>NaN</td>\n",
       "      <td>NaN</td>\n",
       "      <td>NaN</td>\n",
       "      <td>NaN</td>\n",
       "      <td>NaN</td>\n",
       "      <td>NaN</td>\n",
       "      <td>NaN</td>\n",
       "    </tr>\n",
       "    <tr>\n",
       "      <th>1</th>\n",
       "      <td>Fintech</td>\n",
       "      <td>NaN</td>\n",
       "      <td>NaN</td>\n",
       "      <td>NaN</td>\n",
       "      <td>NaN</td>\n",
       "      <td>NaN</td>\n",
       "      <td>NaN</td>\n",
       "      <td>NaN</td>\n",
       "      <td>NaN</td>\n",
       "      <td>NaN</td>\n",
       "      <td>NaN</td>\n",
       "    </tr>\n",
       "    <tr>\n",
       "      <th>2</th>\n",
       "      <td>Abacus</td>\n",
       "      <td>Fintech</td>\n",
       "      <td>Investtech</td>\n",
       "      <td>2014.0</td>\n",
       "      <td>Nairobi</td>\n",
       "      <td>https://abacus.co.ke/</td>\n",
       "      <td>Savings and investments platform</td>\n",
       "      <td>NaN</td>\n",
       "      <td>No</td>\n",
       "      <td>No</td>\n",
       "      <td>2.0</td>\n",
       "    </tr>\n",
       "    <tr>\n",
       "      <th>3</th>\n",
       "      <td>Alvin</td>\n",
       "      <td>Fintech</td>\n",
       "      <td>Personal finance</td>\n",
       "      <td>2021.0</td>\n",
       "      <td>Nairobi</td>\n",
       "      <td>https://www.alvinapp.com/</td>\n",
       "      <td>Savings and budgeting tool</td>\n",
       "      <td>NaN</td>\n",
       "      <td>No</td>\n",
       "      <td>No</td>\n",
       "      <td>7.0</td>\n",
       "    </tr>\n",
       "    <tr>\n",
       "      <th>4</th>\n",
       "      <td>Araka</td>\n",
       "      <td>Fintech</td>\n",
       "      <td>Lending and financing</td>\n",
       "      <td>2021.0</td>\n",
       "      <td>Nairobi</td>\n",
       "      <td>https://araka.app/</td>\n",
       "      <td>Vehicle financing platform</td>\n",
       "      <td>NaN</td>\n",
       "      <td>No</td>\n",
       "      <td>No</td>\n",
       "      <td>1.0</td>\n",
       "    </tr>\n",
       "  </tbody>\n",
       "</table>\n",
       "</div>"
      ],
      "text/plain": [
       "  Startup name   Sector             Sub-sector  Year of launch       HQ  \\\n",
       "0          NaN      NaN                    NaN             NaN      NaN   \n",
       "1      Fintech      NaN                    NaN             NaN      NaN   \n",
       "2       Abacus  Fintech             Investtech          2014.0  Nairobi   \n",
       "3        Alvin  Fintech       Personal finance          2021.0  Nairobi   \n",
       "4        Araka  Fintech  Lending and financing          2021.0  Nairobi   \n",
       "\n",
       "                     Website           Description of business  Unnamed: 7  \\\n",
       "0                        NaN                               NaN         NaN   \n",
       "1                        NaN                               NaN         NaN   \n",
       "2      https://abacus.co.ke/  Savings and investments platform         NaN   \n",
       "3  https://www.alvinapp.com/        Savings and budgeting tool         NaN   \n",
       "4         https://araka.app/        Vehicle financing platform         NaN   \n",
       "\n",
       "  Female founder? Accelerated?  Number of employees  \n",
       "0             NaN          NaN                  NaN  \n",
       "1             NaN          NaN                  NaN  \n",
       "2              No           No                  2.0  \n",
       "3              No           No                  7.0  \n",
       "4              No           No                  1.0  "
      ]
     },
     "execution_count": 15,
     "metadata": {},
     "output_type": "execute_result"
    }
   ],
   "source": [
    "df = pd.read_excel('Kenyan_Startup_Database_Kenyan_Startup_Ecosystem_Report_2022.xlsx')\n",
    "df.head()"
   ]
  },
  {
   "cell_type": "code",
   "execution_count": null,
   "id": "1b09fce0",
   "metadata": {},
   "outputs": [],
   "source": []
  },
  {
   "cell_type": "code",
   "execution_count": 16,
   "id": "30d6fa0b",
   "metadata": {},
   "outputs": [
    {
     "data": {
      "text/html": [
       "<div>\n",
       "<style scoped>\n",
       "    .dataframe tbody tr th:only-of-type {\n",
       "        vertical-align: middle;\n",
       "    }\n",
       "\n",
       "    .dataframe tbody tr th {\n",
       "        vertical-align: top;\n",
       "    }\n",
       "\n",
       "    .dataframe thead th {\n",
       "        text-align: right;\n",
       "    }\n",
       "</style>\n",
       "<table border=\"1\" class=\"dataframe\">\n",
       "  <thead>\n",
       "    <tr style=\"text-align: right;\">\n",
       "      <th></th>\n",
       "      <th>Startup name</th>\n",
       "      <th>Sector</th>\n",
       "      <th>Sub-sector</th>\n",
       "      <th>Year of launch</th>\n",
       "      <th>HQ</th>\n",
       "      <th>Website</th>\n",
       "      <th>Description of business</th>\n",
       "      <th>Female founder?</th>\n",
       "      <th>Accelerated?</th>\n",
       "      <th>Number of employees</th>\n",
       "    </tr>\n",
       "  </thead>\n",
       "  <tbody>\n",
       "    <tr>\n",
       "      <th>2</th>\n",
       "      <td>Abacus</td>\n",
       "      <td>Fintech</td>\n",
       "      <td>Investtech</td>\n",
       "      <td>2014.0</td>\n",
       "      <td>Nairobi</td>\n",
       "      <td>https://abacus.co.ke/</td>\n",
       "      <td>Savings and investments platform</td>\n",
       "      <td>No</td>\n",
       "      <td>No</td>\n",
       "      <td>2.0</td>\n",
       "    </tr>\n",
       "    <tr>\n",
       "      <th>3</th>\n",
       "      <td>Alvin</td>\n",
       "      <td>Fintech</td>\n",
       "      <td>Personal finance</td>\n",
       "      <td>2021.0</td>\n",
       "      <td>Nairobi</td>\n",
       "      <td>https://www.alvinapp.com/</td>\n",
       "      <td>Savings and budgeting tool</td>\n",
       "      <td>No</td>\n",
       "      <td>No</td>\n",
       "      <td>7.0</td>\n",
       "    </tr>\n",
       "    <tr>\n",
       "      <th>4</th>\n",
       "      <td>Araka</td>\n",
       "      <td>Fintech</td>\n",
       "      <td>Lending and financing</td>\n",
       "      <td>2021.0</td>\n",
       "      <td>Nairobi</td>\n",
       "      <td>https://araka.app/</td>\n",
       "      <td>Vehicle financing platform</td>\n",
       "      <td>No</td>\n",
       "      <td>No</td>\n",
       "      <td>1.0</td>\n",
       "    </tr>\n",
       "    <tr>\n",
       "      <th>5</th>\n",
       "      <td>Asante</td>\n",
       "      <td>Fintech</td>\n",
       "      <td>Lending and financing</td>\n",
       "      <td>2016.0</td>\n",
       "      <td>Nairobi</td>\n",
       "      <td>https://asantefinancegroup.com/</td>\n",
       "      <td>Credit-led neobank</td>\n",
       "      <td>No</td>\n",
       "      <td>No</td>\n",
       "      <td>38.0</td>\n",
       "    </tr>\n",
       "    <tr>\n",
       "      <th>6</th>\n",
       "      <td>Asilimia</td>\n",
       "      <td>Fintech</td>\n",
       "      <td>Business admin</td>\n",
       "      <td>2017.0</td>\n",
       "      <td>Nairobi</td>\n",
       "      <td>https://www.asilimia.co.ke/</td>\n",
       "      <td>Data infrastructure for SMEs</td>\n",
       "      <td>Yes</td>\n",
       "      <td>Yes</td>\n",
       "      <td>23.0</td>\n",
       "    </tr>\n",
       "  </tbody>\n",
       "</table>\n",
       "</div>"
      ],
      "text/plain": [
       "  Startup name   Sector             Sub-sector  Year of launch       HQ  \\\n",
       "2       Abacus  Fintech             Investtech          2014.0  Nairobi   \n",
       "3        Alvin  Fintech       Personal finance          2021.0  Nairobi   \n",
       "4        Araka  Fintech  Lending and financing          2021.0  Nairobi   \n",
       "5       Asante  Fintech  Lending and financing          2016.0  Nairobi   \n",
       "6     Asilimia  Fintech         Business admin          2017.0  Nairobi   \n",
       "\n",
       "                           Website           Description of business  \\\n",
       "2            https://abacus.co.ke/  Savings and investments platform   \n",
       "3        https://www.alvinapp.com/        Savings and budgeting tool   \n",
       "4               https://araka.app/        Vehicle financing platform   \n",
       "5  https://asantefinancegroup.com/                Credit-led neobank   \n",
       "6      https://www.asilimia.co.ke/      Data infrastructure for SMEs   \n",
       "\n",
       "  Female founder? Accelerated?  Number of employees  \n",
       "2              No           No                  2.0  \n",
       "3              No           No                  7.0  \n",
       "4              No           No                  1.0  \n",
       "5              No           No                 38.0  \n",
       "6             Yes          Yes                 23.0  "
      ]
     },
     "execution_count": 16,
     "metadata": {},
     "output_type": "execute_result"
    }
   ],
   "source": [
    "df.drop('Unnamed: 7', axis=1, inplace=True) #Remove Unnamed: 7 Column without reassigning the dataframe\n",
    "df = df[df['Sector'].notna()] # Override the dataframe with a new dataframe where the Sector column is not NaN\n",
    "df.head()"
   ]
  },
  {
   "cell_type": "code",
   "execution_count": 17,
   "id": "933b7fae",
   "metadata": {},
   "outputs": [
    {
     "name": "stdout",
     "output_type": "stream",
     "text": [
      "HQ\n",
      "Kisumu       2\n",
      "Meru         1\n",
      "Mombasa      6\n",
      "Nairobi    329\n",
      "dtype: int64\n"
     ]
    },
    {
     "data": {
      "text/plain": [
       "<AxesSubplot:xlabel='HQ'>"
      ]
     },
     "execution_count": 17,
     "metadata": {},
     "output_type": "execute_result"
    },
    {
     "data": {
      "image/png": "[encoded data removed]",
      "text/plain": [
       "<Figure size 432x288 with 1 Axes>"
      ]
     },
     "metadata": {
      "needs_background": "light"
     },
     "output_type": "display_data"
    }
   ],
   "source": [
    "locations = df.groupby(['HQ']).size()\n",
    "print(locations)\n",
    "locations.plot(kind='bar',x='HQ',y='')"
   ]
  },
  {
   "cell_type": "code",
   "execution_count": 28,
   "id": "9279e6f0",
   "metadata": {},
   "outputs": [
    {
     "data": {
      "image/png": "[encoded data removed]",
      "text/plain": [
       "<Figure size 432x288 with 1 Axes>"
      ]
     },
     "metadata": {
      "needs_background": "light"
     },
     "output_type": "display_data"
    }
   ],
   "source": [
    "year_created = df.groupby(['Year of launch']).size()\n",
    "df.plot(kind='scatter',y='Sector',x='Year of launch',color='red')\n",
    "plt.show()"
   ]
  },
  {
   "cell_type": "code",
   "execution_count": null,
   "id": "cf569158",
   "metadata": {},
   "outputs": [],
   "source": []
  },
  {
   "cell_type": "code",
   "execution_count": 27,
   "id": "15c0457f",
   "metadata": {},
   "outputs": [
    {
     "data": {
      "text/plain": [
       "Sector\n",
       "3D printing                     1\n",
       "AI/IoT                          5\n",
       "Agri-tech                      36\n",
       "Cloud                           4\n",
       "Communications                  1\n",
       "Connectivity                    2\n",
       "Conservation                    2\n",
       "Construction                    2\n",
       "Cybersecurity                   1\n",
       "Digital identity                4\n",
       "Drones                          1\n",
       "E-commerce and retail-tech     30\n",
       "E-health                       37\n",
       "Ed-tech                        18\n",
       "Energy                          8\n",
       "Entertainment                   4\n",
       "Field management                1\n",
       "Fintech                       105\n",
       "Legal-tech                      2\n",
       "Logistics                      16\n",
       "Marketing                       7\n",
       "Mobility                        8\n",
       "Procurement                     1\n",
       "Prop-tech                       4\n",
       "Recruitment and HR             19\n",
       "Software                       10\n",
       "Tourism                         3\n",
       "Trade tech                      2\n",
       "VR                              1\n",
       "Waste management                2\n",
       "Water management                1\n",
       "dtype: int64"
      ]
     },
     "execution_count": 27,
     "metadata": {},
     "output_type": "execute_result"
    }
   ],
   "source": [
    "sectors = df.groupby(['Sector']).size()\n",
    "sectors"
   ]
  },
  {
   "cell_type": "code",
   "execution_count": null,
   "id": "f4942057",
   "metadata": {},
   "outputs": [],
   "source": []
  },
  {
   "cell_type": "code",
   "execution_count": null,
   "id": "4c7a77d5",
   "metadata": {},
   "outputs": [],
   "source": []
  },
  {
   "cell_type": "code",
   "execution_count": null,
   "id": "3f358bd7",
   "metadata": {},
   "outputs": [],
   "source": []
  },
  {
   "cell_type": "code",
   "execution_count": null,
   "id": "28cb8163",
   "metadata": {},
   "outputs": [],
   "source": []
  },
  {
   "cell_type": "code",
   "execution_count": null,
   "id": "644b4a0a",
   "metadata": {},
   "outputs": [],
   "source": []
  },
  {
   "cell_type": "code",
   "execution_count": null,
   "id": "41fe3ab9",
   "metadata": {},
   "outputs": [],
   "source": []
  },
  {
   "cell_type": "code",
   "execution_count": null,
   "id": "a719cc09",
   "metadata": {},
   "outputs": [],
   "source": []
  },
  {
   "cell_type": "code",
   "execution_count": null,
   "id": "29d86642",
   "metadata": {},
   "outputs": [],
   "source": []
  },
  {
   "cell_type": "code",
   "execution_count": null,
   "id": "53c1ecb5",
   "metadata": {},
   "outputs": [],
   "source": []
  },
  {
   "cell_type": "code",
   "execution_count": null,
   "id": "b14465f4",
   "metadata": {},
   "outputs": [],
   "source": []
  },
  {
   "cell_type": "code",
   "execution_count": null,
   "id": "1b4d4f06",
   "metadata": {},
   "outputs": [],
   "source": []
  },
  {
   "cell_type": "code",
   "execution_count": null,
   "id": "9e0b4a9e",
   "metadata": {},
   "outputs": [],
   "source": []
  },
  {
   "cell_type": "code",
   "execution_count": null,
   "id": "a9d6e15a",
   "metadata": {},
   "outputs": [],
   "source": []
  },
  {
   "cell_type": "code",
   "execution_count": null,
   "id": "f7ee6638",
   "metadata": {},
   "outputs": [],
   "source": []
  },
  {
   "cell_type": "code",
   "execution_count": null,
   "id": "cddf0831",
   "metadata": {},
   "outputs": [],
   "source": []
  },
  {
   "cell_type": "code",
   "execution_count": null,
   "id": "a858493c",
   "metadata": {},
   "outputs": [],
   "source": []
  },
  {
   "cell_type": "code",
   "execution_count": null,
   "id": "d7d54212",
   "metadata": {},
   "outputs": [],
   "source": []
  },
  {
   "cell_type": "code",
   "execution_count": null,
   "id": "7ced10d7",
   "metadata": {},
   "outputs": [],
   "source": []
  },
  {
   "cell_type": "code",
   "execution_count": null,
   "id": "e32fea8a",
   "metadata": {},
   "outputs": [],
   "source": []
  },
  {
   "cell_type": "code",
   "execution_count": null,
   "id": "199d74bd",
   "metadata": {},
   "outputs": [],
   "source": []
  },
  {
   "cell_type": "code",
   "execution_count": null,
   "id": "cc0c6b1e",
   "metadata": {},
   "outputs": [],
   "source": []
  },
  {
   "cell_type": "code",
   "execution_count": null,
   "id": "c95f567e",
   "metadata": {},
   "outputs": [],
   "source": []
  },
  {
   "cell_type": "code",
   "execution_count": null,
   "id": "1daf1865",
   "metadata": {},
   "outputs": [],
   "source": []
  },
  {
   "cell_type": "code",
   "execution_count": null,
   "id": "518d5b0c",
   "metadata": {},
   "outputs": [],
   "source": []
  },
  {
   "cell_type": "code",
   "execution_count": null,
   "id": "32774933",
   "metadata": {},
   "outputs": [],
   "source": []
  },
  {
   "cell_type": "code",
   "execution_count": null,
   "id": "6a6df2d3",
   "metadata": {},
   "outputs": [],
   "source": []
  },
  {
   "cell_type": "code",
   "execution_count": null,
   "id": "e6956167",
   "metadata": {},
   "outputs": [],
   "source": []
  },
  {
   "cell_type": "code",
   "execution_count": null,
   "id": "22c735f7",
   "metadata": {},
   "outputs": [],
   "source": []
  },
  {
   "cell_type": "code",
   "execution_count": null,
   "id": "932de92a",
   "metadata": {},
   "outputs": [],
   "source": []
  },
  {
   "cell_type": "code",
   "execution_count": null,
   "id": "50d50ac1",
   "metadata": {},
   "outputs": [],
   "source": []
  },
  {
   "cell_type": "code",
   "execution_count": null,
   "id": "cedb1210",
   "metadata": {},
   "outputs": [],
   "source": []
  },
  {
   "cell_type": "code",
   "execution_count": null,
   "id": "16509498",
   "metadata": {},
   "outputs": [],
   "source": []
  }
 ],
 "metadata": {
  "kernelspec": {
   "display_name": "Python 3 (ipykernel)",
   "language": "python",
   "name": "python3"
  },
  "language_info": {
   "codemirror_mode": {
    "name": "ipython",
    "version": 3
   },
   "file_extension": ".py",
   "mimetype": "text/x-python",
   "name": "python",
   "nbconvert_exporter": "python",
   "pygments_lexer": "ipython3",
   "version": "3.10.2"
  }
 },
 "nbformat": 4,
 "nbformat_minor": 5
}
