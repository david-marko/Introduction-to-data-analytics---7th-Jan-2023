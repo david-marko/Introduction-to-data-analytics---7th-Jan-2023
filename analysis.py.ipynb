{
 "cells": [
  {
   "cell_type": "code",
   "execution_count": 114,
   "id": "e298b578",
   "metadata": {},
   "outputs": [],
   "source": [
    "import pandas as pd\n",
    "import numpy as np\n",
    "from matplotlib import pyplot as plt\n",
    "import plotly.express as px"
   ]
  },
  {
   "cell_type": "code",
   "execution_count": 113,
   "id": "6c1d5336",
   "metadata": {},
   "outputs": [
    {
     "data": {
      "text/html": [
       "<div>\n",
       "<style scoped>\n",
       "    .dataframe tbody tr th:only-of-type {\n",
       "        vertical-align: middle;\n",
       "    }\n",
       "\n",
       "    .dataframe tbody tr th {\n",
       "        vertical-align: top;\n",
       "    }\n",
       "\n",
       "    .dataframe thead th {\n",
       "        text-align: right;\n",
       "    }\n",
       "</style>\n",
       "<table border=\"1\" class=\"dataframe\">\n",
       "  <thead>\n",
       "    <tr style=\"text-align: right;\">\n",
       "      <th></th>\n",
       "      <th>Startup name</th>\n",
       "      <th>Sector</th>\n",
       "      <th>Sub-sector</th>\n",
       "      <th>Year of launch</th>\n",
       "      <th>HQ</th>\n",
       "      <th>Website</th>\n",
       "      <th>Description of business</th>\n",
       "      <th>Unnamed: 7</th>\n",
       "      <th>Female founder?</th>\n",
       "      <th>Accelerated?</th>\n",
       "      <th>Number of employees</th>\n",
       "    </tr>\n",
       "  </thead>\n",
       "  <tbody>\n",
       "    <tr>\n",
       "      <th>0</th>\n",
       "      <td>NaN</td>\n",
       "      <td>NaN</td>\n",
       "      <td>NaN</td>\n",
       "      <td>NaN</td>\n",
       "      <td>NaN</td>\n",
       "      <td>NaN</td>\n",
       "      <td>NaN</td>\n",
       "      <td>NaN</td>\n",
       "      <td>NaN</td>\n",
       "      <td>NaN</td>\n",
       "      <td>NaN</td>\n",
       "    </tr>\n",
       "    <tr>\n",
       "      <th>1</th>\n",
       "      <td>Fintech</td>\n",
       "      <td>NaN</td>\n",
       "      <td>NaN</td>\n",
       "      <td>NaN</td>\n",
       "      <td>NaN</td>\n",
       "      <td>NaN</td>\n",
       "      <td>NaN</td>\n",
       "      <td>NaN</td>\n",
       "      <td>NaN</td>\n",
       "      <td>NaN</td>\n",
       "      <td>NaN</td>\n",
       "    </tr>\n",
       "    <tr>\n",
       "      <th>2</th>\n",
       "      <td>Abacus</td>\n",
       "      <td>Fintech</td>\n",
       "      <td>Investtech</td>\n",
       "      <td>2014.0</td>\n",
       "      <td>Nairobi</td>\n",
       "      <td>https://abacus.co.ke/</td>\n",
       "      <td>Savings and investments platform</td>\n",
       "      <td>NaN</td>\n",
       "      <td>No</td>\n",
       "      <td>No</td>\n",
       "      <td>2.0</td>\n",
       "    </tr>\n",
       "    <tr>\n",
       "      <th>3</th>\n",
       "      <td>Alvin</td>\n",
       "      <td>Fintech</td>\n",
       "      <td>Personal finance</td>\n",
       "      <td>2021.0</td>\n",
       "      <td>Nairobi</td>\n",
       "      <td>https://www.alvinapp.com/</td>\n",
       "      <td>Savings and budgeting tool</td>\n",
       "      <td>NaN</td>\n",
       "      <td>No</td>\n",
       "      <td>No</td>\n",
       "      <td>7.0</td>\n",
       "    </tr>\n",
       "    <tr>\n",
       "      <th>4</th>\n",
       "      <td>Araka</td>\n",
       "      <td>Fintech</td>\n",
       "      <td>Lending and financing</td>\n",
       "      <td>2021.0</td>\n",
       "      <td>Nairobi</td>\n",
       "      <td>https://araka.app/</td>\n",
       "      <td>Vehicle financing platform</td>\n",
       "      <td>NaN</td>\n",
       "      <td>No</td>\n",
       "      <td>No</td>\n",
       "      <td>1.0</td>\n",
       "    </tr>\n",
       "    <tr>\n",
       "      <th>5</th>\n",
       "      <td>Asante</td>\n",
       "      <td>Fintech</td>\n",
       "      <td>Lending and financing</td>\n",
       "      <td>2016.0</td>\n",
       "      <td>Nairobi</td>\n",
       "      <td>https://asantefinancegroup.com/</td>\n",
       "      <td>Credit-led neobank</td>\n",
       "      <td>NaN</td>\n",
       "      <td>No</td>\n",
       "      <td>No</td>\n",
       "      <td>38.0</td>\n",
       "    </tr>\n",
       "    <tr>\n",
       "      <th>6</th>\n",
       "      <td>Asilimia</td>\n",
       "      <td>Fintech</td>\n",
       "      <td>Business admin</td>\n",
       "      <td>2017.0</td>\n",
       "      <td>Nairobi</td>\n",
       "      <td>https://www.asilimia.co.ke/</td>\n",
       "      <td>Data infrastructure for SMEs</td>\n",
       "      <td>NaN</td>\n",
       "      <td>Yes</td>\n",
       "      <td>Yes</td>\n",
       "      <td>23.0</td>\n",
       "    </tr>\n",
       "    <tr>\n",
       "      <th>7</th>\n",
       "      <td>AZA Finance</td>\n",
       "      <td>Fintech</td>\n",
       "      <td>Payments and remittances</td>\n",
       "      <td>2013.0</td>\n",
       "      <td>Nairobi</td>\n",
       "      <td>https://www.azafinance.com/</td>\n",
       "      <td>International money transfer service</td>\n",
       "      <td>NaN</td>\n",
       "      <td>Yes</td>\n",
       "      <td>No</td>\n",
       "      <td>218.0</td>\n",
       "    </tr>\n",
       "    <tr>\n",
       "      <th>8</th>\n",
       "      <td>Azima</td>\n",
       "      <td>Fintech</td>\n",
       "      <td>Lending and financing</td>\n",
       "      <td>2016.0</td>\n",
       "      <td>Nairobi</td>\n",
       "      <td>http://www.azima.tech/</td>\n",
       "      <td>Payroll lending platform</td>\n",
       "      <td>NaN</td>\n",
       "      <td>No</td>\n",
       "      <td>No</td>\n",
       "      <td>1.0</td>\n",
       "    </tr>\n",
       "    <tr>\n",
       "      <th>9</th>\n",
       "      <td>Bimaleo</td>\n",
       "      <td>Fintech</td>\n",
       "      <td>Insurtech</td>\n",
       "      <td>2020.0</td>\n",
       "      <td>Nairobi</td>\n",
       "      <td>https://bimaleo.com/</td>\n",
       "      <td>Digital insurance platform</td>\n",
       "      <td>NaN</td>\n",
       "      <td>No</td>\n",
       "      <td>No</td>\n",
       "      <td>1.0</td>\n",
       "    </tr>\n",
       "    <tr>\n",
       "      <th>10</th>\n",
       "      <td>Bismart</td>\n",
       "      <td>Fintech</td>\n",
       "      <td>Insurtech</td>\n",
       "      <td>2017.0</td>\n",
       "      <td>Nairobi</td>\n",
       "      <td>https://bismart.co.ke</td>\n",
       "      <td>Digital insurance platform</td>\n",
       "      <td>NaN</td>\n",
       "      <td>Yes</td>\n",
       "      <td>No</td>\n",
       "      <td>8.0</td>\n",
       "    </tr>\n",
       "    <tr>\n",
       "      <th>11</th>\n",
       "      <td>BitLipa</td>\n",
       "      <td>Fintech</td>\n",
       "      <td>Payments and remittances</td>\n",
       "      <td>2019.0</td>\n",
       "      <td>Nairobi</td>\n",
       "      <td>https://www.bitlipa.com/</td>\n",
       "      <td>Crypto payments platform</td>\n",
       "      <td>NaN</td>\n",
       "      <td>No</td>\n",
       "      <td>No</td>\n",
       "      <td>11.0</td>\n",
       "    </tr>\n",
       "    <tr>\n",
       "      <th>12</th>\n",
       "      <td>Bitsoko</td>\n",
       "      <td>Fintech</td>\n",
       "      <td>Blockchain</td>\n",
       "      <td>2013.0</td>\n",
       "      <td>Nairobi</td>\n",
       "      <td>https://bitsoko.wordpress.com/</td>\n",
       "      <td>Blockchain-based solutions for small businesses</td>\n",
       "      <td>NaN</td>\n",
       "      <td>No</td>\n",
       "      <td>No</td>\n",
       "      <td>1.0</td>\n",
       "    </tr>\n",
       "    <tr>\n",
       "      <th>13</th>\n",
       "      <td>Boya</td>\n",
       "      <td>Fintech</td>\n",
       "      <td>Business admin</td>\n",
       "      <td>2020.0</td>\n",
       "      <td>Nairobi</td>\n",
       "      <td>https://www.boya.co/</td>\n",
       "      <td>Business management solution</td>\n",
       "      <td>NaN</td>\n",
       "      <td>No</td>\n",
       "      <td>Yes</td>\n",
       "      <td>12.0</td>\n",
       "    </tr>\n",
       "    <tr>\n",
       "      <th>14</th>\n",
       "      <td>Cashlet</td>\n",
       "      <td>Fintech</td>\n",
       "      <td>Personal finance</td>\n",
       "      <td>2019.0</td>\n",
       "      <td>Nairobi</td>\n",
       "      <td>https://www.cashlet.co.ke/</td>\n",
       "      <td>Savings and investments platform</td>\n",
       "      <td>NaN</td>\n",
       "      <td>No</td>\n",
       "      <td>No</td>\n",
       "      <td>1.0</td>\n",
       "    </tr>\n",
       "    <tr>\n",
       "      <th>15</th>\n",
       "      <td>Chamasoft</td>\n",
       "      <td>Fintech</td>\n",
       "      <td>Investtech</td>\n",
       "      <td>2013.0</td>\n",
       "      <td>Nairobi</td>\n",
       "      <td>https://chamasoft.com/</td>\n",
       "      <td>Chama management platform</td>\n",
       "      <td>NaN</td>\n",
       "      <td>No</td>\n",
       "      <td>Yes</td>\n",
       "      <td>9.0</td>\n",
       "    </tr>\n",
       "    <tr>\n",
       "      <th>16</th>\n",
       "      <td>Chaptr Global</td>\n",
       "      <td>Fintech</td>\n",
       "      <td>Payments and remittances</td>\n",
       "      <td>2021.0</td>\n",
       "      <td>Nairobi</td>\n",
       "      <td>https://chaptrglobal.com/</td>\n",
       "      <td>Tuition payments platform</td>\n",
       "      <td>NaN</td>\n",
       "      <td>No</td>\n",
       "      <td>No</td>\n",
       "      <td>6.0</td>\n",
       "    </tr>\n",
       "    <tr>\n",
       "      <th>17</th>\n",
       "      <td>Cherehani Africa</td>\n",
       "      <td>Fintech</td>\n",
       "      <td>Other</td>\n",
       "      <td>2015.0</td>\n",
       "      <td>Nairobi</td>\n",
       "      <td>https://cherehani.org/</td>\n",
       "      <td>Multi-product fintech platform</td>\n",
       "      <td>NaN</td>\n",
       "      <td>No</td>\n",
       "      <td>No</td>\n",
       "      <td>1.0</td>\n",
       "    </tr>\n",
       "    <tr>\n",
       "      <th>18</th>\n",
       "      <td>Chumz</td>\n",
       "      <td>Fintech</td>\n",
       "      <td>Personal finance</td>\n",
       "      <td>2019.0</td>\n",
       "      <td>Nairobi</td>\n",
       "      <td>https://chumz.io/#/</td>\n",
       "      <td>Mobile money-based savings platform</td>\n",
       "      <td>NaN</td>\n",
       "      <td>No</td>\n",
       "      <td>Yes</td>\n",
       "      <td>12.0</td>\n",
       "    </tr>\n",
       "    <tr>\n",
       "      <th>19</th>\n",
       "      <td>Chura</td>\n",
       "      <td>Fintech</td>\n",
       "      <td>Payments and remittances</td>\n",
       "      <td>2012.0</td>\n",
       "      <td>Nairobi</td>\n",
       "      <td>https://www.chura.co.ke/</td>\n",
       "      <td>Airime and payments platform</td>\n",
       "      <td>NaN</td>\n",
       "      <td>Yes</td>\n",
       "      <td>Yes</td>\n",
       "      <td>4.0</td>\n",
       "    </tr>\n",
       "    <tr>\n",
       "      <th>20</th>\n",
       "      <td>Crediation</td>\n",
       "      <td>Fintech</td>\n",
       "      <td>Lending and financing</td>\n",
       "      <td>2018.0</td>\n",
       "      <td>Nairobi</td>\n",
       "      <td>https://crediation.com/</td>\n",
       "      <td>Business lending platform</td>\n",
       "      <td>NaN</td>\n",
       "      <td>No</td>\n",
       "      <td>Yes</td>\n",
       "      <td>15.0</td>\n",
       "    </tr>\n",
       "    <tr>\n",
       "      <th>21</th>\n",
       "      <td>Credit Factory</td>\n",
       "      <td>Fintech</td>\n",
       "      <td>Lending and financing</td>\n",
       "      <td>2015.0</td>\n",
       "      <td>Nairobi</td>\n",
       "      <td>http://www.creditfactory.co.ke/</td>\n",
       "      <td>Lending platform</td>\n",
       "      <td>NaN</td>\n",
       "      <td>No</td>\n",
       "      <td>Yes</td>\n",
       "      <td>4.0</td>\n",
       "    </tr>\n",
       "    <tr>\n",
       "      <th>22</th>\n",
       "      <td>Credrails</td>\n",
       "      <td>Fintech</td>\n",
       "      <td>Open finance</td>\n",
       "      <td>2020.0</td>\n",
       "      <td>Nairobi</td>\n",
       "      <td>https://www.credrails.com/</td>\n",
       "      <td>Open finance platform</td>\n",
       "      <td>NaN</td>\n",
       "      <td>Yes</td>\n",
       "      <td>No</td>\n",
       "      <td>19.0</td>\n",
       "    </tr>\n",
       "    <tr>\n",
       "      <th>23</th>\n",
       "      <td>Crypsense</td>\n",
       "      <td>Fintech</td>\n",
       "      <td>Blockchain</td>\n",
       "      <td>2022.0</td>\n",
       "      <td>Nairobi</td>\n",
       "      <td>https://www.crypsense.io/</td>\n",
       "      <td>Digital assets management platform</td>\n",
       "      <td>NaN</td>\n",
       "      <td>Yes</td>\n",
       "      <td>Yes</td>\n",
       "      <td>7.0</td>\n",
       "    </tr>\n",
       "    <tr>\n",
       "      <th>24</th>\n",
       "      <td>Denkim Insurance</td>\n",
       "      <td>Fintech</td>\n",
       "      <td>Insurtech</td>\n",
       "      <td>2016.0</td>\n",
       "      <td>Nairobi</td>\n",
       "      <td>http://www.denkiminsurance.com/</td>\n",
       "      <td>Mobile wallet for insurance products</td>\n",
       "      <td>NaN</td>\n",
       "      <td>No</td>\n",
       "      <td>No</td>\n",
       "      <td>4.0</td>\n",
       "    </tr>\n",
       "    <tr>\n",
       "      <th>25</th>\n",
       "      <td>DukaPOS</td>\n",
       "      <td>Fintech</td>\n",
       "      <td>Business admin</td>\n",
       "      <td>2020.0</td>\n",
       "      <td>Nairobi</td>\n",
       "      <td>https://www.dukapos.co.ke/</td>\n",
       "      <td>Business payments platform</td>\n",
       "      <td>NaN</td>\n",
       "      <td>No</td>\n",
       "      <td>No</td>\n",
       "      <td>1.0</td>\n",
       "    </tr>\n",
       "    <tr>\n",
       "      <th>26</th>\n",
       "      <td>EastPesa</td>\n",
       "      <td>Fintech</td>\n",
       "      <td>Payments and remittances</td>\n",
       "      <td>2016.0</td>\n",
       "      <td>Nairobi</td>\n",
       "      <td>https://www.eastpesa.com/</td>\n",
       "      <td>Remittances platform</td>\n",
       "      <td>NaN</td>\n",
       "      <td>No</td>\n",
       "      <td>No</td>\n",
       "      <td>5.0</td>\n",
       "    </tr>\n",
       "    <tr>\n",
       "      <th>27</th>\n",
       "      <td>Ed Partners</td>\n",
       "      <td>Fintech</td>\n",
       "      <td>Lending and financing</td>\n",
       "      <td>2018.0</td>\n",
       "      <td>Nairobi</td>\n",
       "      <td>https://edpartnersafrica.com/</td>\n",
       "      <td>Educational lending platform</td>\n",
       "      <td>NaN</td>\n",
       "      <td>No</td>\n",
       "      <td>No</td>\n",
       "      <td>31.0</td>\n",
       "    </tr>\n",
       "    <tr>\n",
       "      <th>28</th>\n",
       "      <td>Fanaka Hybrid</td>\n",
       "      <td>Fintech</td>\n",
       "      <td>Business admin</td>\n",
       "      <td>2015.0</td>\n",
       "      <td>Nairobi</td>\n",
       "      <td>https://fanakahb.com/</td>\n",
       "      <td>Business payments platform</td>\n",
       "      <td>NaN</td>\n",
       "      <td>No</td>\n",
       "      <td>No</td>\n",
       "      <td>1.0</td>\n",
       "    </tr>\n",
       "    <tr>\n",
       "      <th>29</th>\n",
       "      <td>FinAccess</td>\n",
       "      <td>Fintech</td>\n",
       "      <td>Lending and financing</td>\n",
       "      <td>2018.0</td>\n",
       "      <td>Nairobi</td>\n",
       "      <td>https://finaccess.co/</td>\n",
       "      <td>Software solutions for savings groups</td>\n",
       "      <td>NaN</td>\n",
       "      <td>No</td>\n",
       "      <td>No</td>\n",
       "      <td>19.0</td>\n",
       "    </tr>\n",
       "    <tr>\n",
       "      <th>30</th>\n",
       "      <td>Finplus</td>\n",
       "      <td>Fintech</td>\n",
       "      <td>Business admin</td>\n",
       "      <td>2017.0</td>\n",
       "      <td>Nairobi</td>\n",
       "      <td>https://finplusgroup.com/</td>\n",
       "      <td>Business management and payments solution</td>\n",
       "      <td>NaN</td>\n",
       "      <td>No</td>\n",
       "      <td>No</td>\n",
       "      <td>10.0</td>\n",
       "    </tr>\n",
       "    <tr>\n",
       "      <th>31</th>\n",
       "      <td>Flexpay</td>\n",
       "      <td>Fintech</td>\n",
       "      <td>Payments and remittances</td>\n",
       "      <td>2016.0</td>\n",
       "      <td>Nairobi</td>\n",
       "      <td>http://www.flexpay.co.ke/</td>\n",
       "      <td>Save now, buy later platform</td>\n",
       "      <td>NaN</td>\n",
       "      <td>No</td>\n",
       "      <td>Yes</td>\n",
       "      <td>27.0</td>\n",
       "    </tr>\n",
       "    <tr>\n",
       "      <th>32</th>\n",
       "      <td>Hakki Africa</td>\n",
       "      <td>Fintech</td>\n",
       "      <td>Lending and financing</td>\n",
       "      <td>2018.0</td>\n",
       "      <td>Nairobi</td>\n",
       "      <td>https://hakki-africa.com/</td>\n",
       "      <td>Vehicle financing platform</td>\n",
       "      <td>NaN</td>\n",
       "      <td>No</td>\n",
       "      <td>No</td>\n",
       "      <td>21.0</td>\n",
       "    </tr>\n",
       "    <tr>\n",
       "      <th>33</th>\n",
       "      <td>Hisa</td>\n",
       "      <td>Fintech</td>\n",
       "      <td>Investtech</td>\n",
       "      <td>2020.0</td>\n",
       "      <td>Nairobi</td>\n",
       "      <td>https://hisa.co/</td>\n",
       "      <td>Investments app</td>\n",
       "      <td>NaN</td>\n",
       "      <td>Yes</td>\n",
       "      <td>Yes</td>\n",
       "      <td>10.0</td>\n",
       "    </tr>\n",
       "    <tr>\n",
       "      <th>34</th>\n",
       "      <td>InstaSend</td>\n",
       "      <td>Fintech</td>\n",
       "      <td>Payments and remittances</td>\n",
       "      <td>2019.0</td>\n",
       "      <td>Nairobi</td>\n",
       "      <td>https://intasend.com/</td>\n",
       "      <td>Online payments platform</td>\n",
       "      <td>NaN</td>\n",
       "      <td>No</td>\n",
       "      <td>No</td>\n",
       "      <td>2.0</td>\n",
       "    </tr>\n",
       "    <tr>\n",
       "      <th>35</th>\n",
       "      <td>InsureAfrika</td>\n",
       "      <td>Fintech</td>\n",
       "      <td>Insurtech</td>\n",
       "      <td>2015.0</td>\n",
       "      <td>Nairobi</td>\n",
       "      <td>http://www.insureafrika.com/</td>\n",
       "      <td>Car insurance comparison platform</td>\n",
       "      <td>NaN</td>\n",
       "      <td>No</td>\n",
       "      <td>Yes</td>\n",
       "      <td>6.0</td>\n",
       "    </tr>\n",
       "    <tr>\n",
       "      <th>36</th>\n",
       "      <td>Jumuisha</td>\n",
       "      <td>Fintech</td>\n",
       "      <td>Payments and remittances</td>\n",
       "      <td>2020.0</td>\n",
       "      <td>Nairobi</td>\n",
       "      <td>https://jumuisha.com/</td>\n",
       "      <td>Church payments solution</td>\n",
       "      <td>NaN</td>\n",
       "      <td>No</td>\n",
       "      <td>No</td>\n",
       "      <td>11.0</td>\n",
       "    </tr>\n",
       "    <tr>\n",
       "      <th>37</th>\n",
       "      <td>Kakbima</td>\n",
       "      <td>Fintech</td>\n",
       "      <td>Insurtech</td>\n",
       "      <td>2018.0</td>\n",
       "      <td>Nairobi</td>\n",
       "      <td>https://www.kakbima.com/</td>\n",
       "      <td>Tools connecting insurance companies with cust...</td>\n",
       "      <td>NaN</td>\n",
       "      <td>No</td>\n",
       "      <td>Yes</td>\n",
       "      <td>3.0</td>\n",
       "    </tr>\n",
       "    <tr>\n",
       "      <th>38</th>\n",
       "      <td>Klientele</td>\n",
       "      <td>Fintech</td>\n",
       "      <td>Lending and financing</td>\n",
       "      <td>2017.0</td>\n",
       "      <td>Nairobi</td>\n",
       "      <td>http://www.klientele.co.ke/</td>\n",
       "      <td>Chama management platform</td>\n",
       "      <td>NaN</td>\n",
       "      <td>No</td>\n",
       "      <td>No</td>\n",
       "      <td>1.0</td>\n",
       "    </tr>\n",
       "    <tr>\n",
       "      <th>39</th>\n",
       "      <td>Koa</td>\n",
       "      <td>Fintech</td>\n",
       "      <td>Personal finance</td>\n",
       "      <td>2020.0</td>\n",
       "      <td>Nairobi</td>\n",
       "      <td>https://www.withkoa.com/</td>\n",
       "      <td>Savings app</td>\n",
       "      <td>NaN</td>\n",
       "      <td>Yes</td>\n",
       "      <td>Yes</td>\n",
       "      <td>29.0</td>\n",
       "    </tr>\n",
       "    <tr>\n",
       "      <th>40</th>\n",
       "      <td>Kopo Kopo</td>\n",
       "      <td>Fintech</td>\n",
       "      <td>Business admin</td>\n",
       "      <td>2012.0</td>\n",
       "      <td>Nairobi</td>\n",
       "      <td>http://kopokopo.co.ke/</td>\n",
       "      <td>Merchant payments platform</td>\n",
       "      <td>NaN</td>\n",
       "      <td>No</td>\n",
       "      <td>No</td>\n",
       "      <td>94.0</td>\n",
       "    </tr>\n",
       "    <tr>\n",
       "      <th>41</th>\n",
       "      <td>Kotani Pay</td>\n",
       "      <td>Fintech</td>\n",
       "      <td>Payments and remittances</td>\n",
       "      <td>2020.0</td>\n",
       "      <td>Nairobi</td>\n",
       "      <td>https://kotanipay.com/</td>\n",
       "      <td>Blockchain-based payments platform</td>\n",
       "      <td>NaN</td>\n",
       "      <td>No</td>\n",
       "      <td>Yes</td>\n",
       "      <td>12.0</td>\n",
       "    </tr>\n",
       "    <tr>\n",
       "      <th>42</th>\n",
       "      <td>Kwara</td>\n",
       "      <td>Fintech</td>\n",
       "      <td>Lending and financing</td>\n",
       "      <td>2018.0</td>\n",
       "      <td>Nairobi</td>\n",
       "      <td>https://kwara.com/</td>\n",
       "      <td>Credit union management platform</td>\n",
       "      <td>NaN</td>\n",
       "      <td>Yes</td>\n",
       "      <td>Yes</td>\n",
       "      <td>83.0</td>\n",
       "    </tr>\n",
       "    <tr>\n",
       "      <th>43</th>\n",
       "      <td>Kyanda</td>\n",
       "      <td>Fintech</td>\n",
       "      <td>Payments and remittances</td>\n",
       "      <td>2020.0</td>\n",
       "      <td>Nairobi</td>\n",
       "      <td>https://kyanda.co.ke/</td>\n",
       "      <td>Payments platform</td>\n",
       "      <td>NaN</td>\n",
       "      <td>No</td>\n",
       "      <td>No</td>\n",
       "      <td>10.0</td>\n",
       "    </tr>\n",
       "    <tr>\n",
       "      <th>44</th>\n",
       "      <td>Lakt</td>\n",
       "      <td>Fintech</td>\n",
       "      <td>Personal finance</td>\n",
       "      <td>2016.0</td>\n",
       "      <td>Nairobi</td>\n",
       "      <td>http://lakt.io/</td>\n",
       "      <td>Savings and investments platform</td>\n",
       "      <td>NaN</td>\n",
       "      <td>No</td>\n",
       "      <td>Yes</td>\n",
       "      <td>1.0</td>\n",
       "    </tr>\n",
       "    <tr>\n",
       "      <th>45</th>\n",
       "      <td>Lami</td>\n",
       "      <td>Fintech</td>\n",
       "      <td>Insurtech</td>\n",
       "      <td>2018.0</td>\n",
       "      <td>Nairobi</td>\n",
       "      <td>https://www.lami.world/</td>\n",
       "      <td>Insurance API provider</td>\n",
       "      <td>NaN</td>\n",
       "      <td>Yes</td>\n",
       "      <td>Yes</td>\n",
       "      <td>83.0</td>\n",
       "    </tr>\n",
       "    <tr>\n",
       "      <th>46</th>\n",
       "      <td>LipaLater</td>\n",
       "      <td>Fintech</td>\n",
       "      <td>Lending and financing</td>\n",
       "      <td>2017.0</td>\n",
       "      <td>Nairobi</td>\n",
       "      <td>https://lipalater.com/</td>\n",
       "      <td>BNPL service provider</td>\n",
       "      <td>NaN</td>\n",
       "      <td>No</td>\n",
       "      <td>Yes</td>\n",
       "      <td>100.0</td>\n",
       "    </tr>\n",
       "    <tr>\n",
       "      <th>47</th>\n",
       "      <td>Lipana</td>\n",
       "      <td>Fintech</td>\n",
       "      <td>Business admin</td>\n",
       "      <td>2021.0</td>\n",
       "      <td>Nairobi</td>\n",
       "      <td>https://www.lipana.co.ke/</td>\n",
       "      <td>Invoicing platform</td>\n",
       "      <td>NaN</td>\n",
       "      <td>No</td>\n",
       "      <td>No</td>\n",
       "      <td>3.0</td>\n",
       "    </tr>\n",
       "    <tr>\n",
       "      <th>48</th>\n",
       "      <td>LipaPlus</td>\n",
       "      <td>Fintech</td>\n",
       "      <td>Payments and remittances</td>\n",
       "      <td>2014.0</td>\n",
       "      <td>Nairobi</td>\n",
       "      <td>https://www.lipaplus.com/</td>\n",
       "      <td>SME payments platform</td>\n",
       "      <td>NaN</td>\n",
       "      <td>Yes</td>\n",
       "      <td>No</td>\n",
       "      <td>3.0</td>\n",
       "    </tr>\n",
       "    <tr>\n",
       "      <th>49</th>\n",
       "      <td>Lipisha</td>\n",
       "      <td>Fintech</td>\n",
       "      <td>Payments and remittances</td>\n",
       "      <td>2011.0</td>\n",
       "      <td>Nairobi</td>\n",
       "      <td>https://lipisha.com/</td>\n",
       "      <td>Mobile payments service</td>\n",
       "      <td>NaN</td>\n",
       "      <td>No</td>\n",
       "      <td>Yes</td>\n",
       "      <td>2.0</td>\n",
       "    </tr>\n",
       "    <tr>\n",
       "      <th>50</th>\n",
       "      <td>M-Changa</td>\n",
       "      <td>Fintech</td>\n",
       "      <td>Lending and financing</td>\n",
       "      <td>2012.0</td>\n",
       "      <td>Nairobi</td>\n",
       "      <td>http://changa.co.ke/</td>\n",
       "      <td>Crowdfunding platform</td>\n",
       "      <td>NaN</td>\n",
       "      <td>No</td>\n",
       "      <td>No</td>\n",
       "      <td>12.0</td>\n",
       "    </tr>\n",
       "    <tr>\n",
       "      <th>51</th>\n",
       "      <td>M-Payer</td>\n",
       "      <td>Fintech</td>\n",
       "      <td>Payments and remittances</td>\n",
       "      <td>2012.0</td>\n",
       "      <td>Nairobi</td>\n",
       "      <td>https://www.mpayer.co.ke/</td>\n",
       "      <td>Business payments platform</td>\n",
       "      <td>NaN</td>\n",
       "      <td>No</td>\n",
       "      <td>No</td>\n",
       "      <td>12.0</td>\n",
       "    </tr>\n",
       "    <tr>\n",
       "      <th>52</th>\n",
       "      <td>Mobi-Remit</td>\n",
       "      <td>Fintech</td>\n",
       "      <td>Payments and remittances</td>\n",
       "      <td>2022.0</td>\n",
       "      <td>Nairobi</td>\n",
       "      <td>https://www.mobi-remit.com/</td>\n",
       "      <td>Cross-border payments platform</td>\n",
       "      <td>NaN</td>\n",
       "      <td>No</td>\n",
       "      <td>No</td>\n",
       "      <td>1.0</td>\n",
       "    </tr>\n",
       "    <tr>\n",
       "      <th>53</th>\n",
       "      <td>mTek</td>\n",
       "      <td>Fintech</td>\n",
       "      <td>Insurtech</td>\n",
       "      <td>2019.0</td>\n",
       "      <td>Nairobi</td>\n",
       "      <td>https://mtek-services.com/</td>\n",
       "      <td>Digital insurance platform</td>\n",
       "      <td>NaN</td>\n",
       "      <td>Yes</td>\n",
       "      <td>No</td>\n",
       "      <td>25.0</td>\n",
       "    </tr>\n",
       "    <tr>\n",
       "      <th>54</th>\n",
       "      <td>myInsure</td>\n",
       "      <td>Fintech</td>\n",
       "      <td>Insurtech</td>\n",
       "      <td>2015.0</td>\n",
       "      <td>Nairobi</td>\n",
       "      <td>http://www.myinsure.africa/</td>\n",
       "      <td>Digital insurance platform</td>\n",
       "      <td>NaN</td>\n",
       "      <td>No</td>\n",
       "      <td>No</td>\n",
       "      <td>1.0</td>\n",
       "    </tr>\n",
       "    <tr>\n",
       "      <th>55</th>\n",
       "      <td>myNGOVO</td>\n",
       "      <td>Fintech</td>\n",
       "      <td>Lending and financing</td>\n",
       "      <td>2020.0</td>\n",
       "      <td>Nairobi</td>\n",
       "      <td>https://myngovo.co.ke/</td>\n",
       "      <td>Salary advance app</td>\n",
       "      <td>NaN</td>\n",
       "      <td>No</td>\n",
       "      <td>No</td>\n",
       "      <td>3.0</td>\n",
       "    </tr>\n",
       "    <tr>\n",
       "      <th>56</th>\n",
       "      <td>Nash</td>\n",
       "      <td>Fintech</td>\n",
       "      <td>Business admin</td>\n",
       "      <td>2020.0</td>\n",
       "      <td>Nairobi</td>\n",
       "      <td>https://www.nasheq.co/</td>\n",
       "      <td>Business management platform</td>\n",
       "      <td>NaN</td>\n",
       "      <td>No</td>\n",
       "      <td>Yes</td>\n",
       "      <td>16.0</td>\n",
       "    </tr>\n",
       "    <tr>\n",
       "      <th>57</th>\n",
       "      <td>Ndovu</td>\n",
       "      <td>Fintech</td>\n",
       "      <td>Investtech</td>\n",
       "      <td>2020.0</td>\n",
       "      <td>Nairobi</td>\n",
       "      <td>https://ndovu.co/</td>\n",
       "      <td>Investments app</td>\n",
       "      <td>NaN</td>\n",
       "      <td>No</td>\n",
       "      <td>Yes</td>\n",
       "      <td>33.0</td>\n",
       "    </tr>\n",
       "    <tr>\n",
       "      <th>58</th>\n",
       "      <td>Nouveta</td>\n",
       "      <td>Fintech</td>\n",
       "      <td>Payments and remittances</td>\n",
       "      <td>2017.0</td>\n",
       "      <td>Nairobi</td>\n",
       "      <td>http://nouveta.tech/</td>\n",
       "      <td>Business payments platform</td>\n",
       "      <td>NaN</td>\n",
       "      <td>No</td>\n",
       "      <td>No</td>\n",
       "      <td>34.0</td>\n",
       "    </tr>\n",
       "    <tr>\n",
       "      <th>59</th>\n",
       "      <td>Odibooks</td>\n",
       "      <td>Fintech</td>\n",
       "      <td>Business admin</td>\n",
       "      <td>2022.0</td>\n",
       "      <td>Nairobi</td>\n",
       "      <td>https://www.odibooks.com/index</td>\n",
       "      <td>Business automation platform</td>\n",
       "      <td>NaN</td>\n",
       "      <td>No</td>\n",
       "      <td>No</td>\n",
       "      <td>2.0</td>\n",
       "    </tr>\n",
       "    <tr>\n",
       "      <th>60</th>\n",
       "      <td>Patika</td>\n",
       "      <td>Fintech</td>\n",
       "      <td>Business admin</td>\n",
       "      <td>2021.0</td>\n",
       "      <td>Nairobi</td>\n",
       "      <td>https://patika.africa/</td>\n",
       "      <td>Customer debt tracking solution</td>\n",
       "      <td>NaN</td>\n",
       "      <td>No</td>\n",
       "      <td>Yes</td>\n",
       "      <td>4.0</td>\n",
       "    </tr>\n",
       "    <tr>\n",
       "      <th>61</th>\n",
       "      <td>Paylend</td>\n",
       "      <td>Fintech</td>\n",
       "      <td>Lending and financing</td>\n",
       "      <td>2019.0</td>\n",
       "      <td>Nairobi</td>\n",
       "      <td>https://paylend.africa/</td>\n",
       "      <td>Lending platform</td>\n",
       "      <td>NaN</td>\n",
       "      <td>No</td>\n",
       "      <td>No</td>\n",
       "      <td>10.0</td>\n",
       "    </tr>\n",
       "    <tr>\n",
       "      <th>62</th>\n",
       "      <td>Pesabase</td>\n",
       "      <td>Fintech</td>\n",
       "      <td>Payments and remittances</td>\n",
       "      <td>2017.0</td>\n",
       "      <td>Nairobi</td>\n",
       "      <td>https://www.pesabase.com/</td>\n",
       "      <td>Payments platform</td>\n",
       "      <td>NaN</td>\n",
       "      <td>No</td>\n",
       "      <td>Yes</td>\n",
       "      <td>8.0</td>\n",
       "    </tr>\n",
       "    <tr>\n",
       "      <th>63</th>\n",
       "      <td>PesaBazaar</td>\n",
       "      <td>Fintech</td>\n",
       "      <td>Insurtech</td>\n",
       "      <td>2016.0</td>\n",
       "      <td>Nairobi</td>\n",
       "      <td>https://www.pesabazaar.com/</td>\n",
       "      <td>Insurance platform</td>\n",
       "      <td>NaN</td>\n",
       "      <td>No</td>\n",
       "      <td>Yes</td>\n",
       "      <td>15.0</td>\n",
       "    </tr>\n",
       "    <tr>\n",
       "      <th>64</th>\n",
       "      <td>PesaKit</td>\n",
       "      <td>Fintech</td>\n",
       "      <td>Business admin</td>\n",
       "      <td>2018.0</td>\n",
       "      <td>Nairobi</td>\n",
       "      <td>https://www.pesakit.co.ke/</td>\n",
       "      <td>App for mobile money agents</td>\n",
       "      <td>NaN</td>\n",
       "      <td>No</td>\n",
       "      <td>Yes</td>\n",
       "      <td>17.0</td>\n",
       "    </tr>\n",
       "    <tr>\n",
       "      <th>65</th>\n",
       "      <td>PesaPal</td>\n",
       "      <td>Fintech</td>\n",
       "      <td>Payments and remittances</td>\n",
       "      <td>2009.0</td>\n",
       "      <td>Nairobi</td>\n",
       "      <td>https://www.pesapal.com/</td>\n",
       "      <td>Card payments platform</td>\n",
       "      <td>NaN</td>\n",
       "      <td>No</td>\n",
       "      <td>No</td>\n",
       "      <td>216.0</td>\n",
       "    </tr>\n",
       "    <tr>\n",
       "      <th>66</th>\n",
       "      <td>Pezesha</td>\n",
       "      <td>Fintech</td>\n",
       "      <td>Lending and financing</td>\n",
       "      <td>2016.0</td>\n",
       "      <td>Nairobi</td>\n",
       "      <td>http://pezesha.com/</td>\n",
       "      <td>SME financing platform</td>\n",
       "      <td>NaN</td>\n",
       "      <td>Yes</td>\n",
       "      <td>Yes</td>\n",
       "      <td>47.0</td>\n",
       "    </tr>\n",
       "    <tr>\n",
       "      <th>67</th>\n",
       "      <td>Popote Payments</td>\n",
       "      <td>Fintech</td>\n",
       "      <td>Business admin</td>\n",
       "      <td>2015.0</td>\n",
       "      <td>Nairobi</td>\n",
       "      <td>https://popotepayments.com/</td>\n",
       "      <td>Business management platform</td>\n",
       "      <td>NaN</td>\n",
       "      <td>No</td>\n",
       "      <td>No</td>\n",
       "      <td>34.0</td>\n",
       "    </tr>\n",
       "    <tr>\n",
       "      <th>68</th>\n",
       "      <td>Power Financial Wellness</td>\n",
       "      <td>Fintech</td>\n",
       "      <td>Other</td>\n",
       "      <td>2019.0</td>\n",
       "      <td>Nairobi</td>\n",
       "      <td>https://yourpower.io/</td>\n",
       "      <td>Employee financial solutions</td>\n",
       "      <td>NaN</td>\n",
       "      <td>No</td>\n",
       "      <td>No</td>\n",
       "      <td>31.0</td>\n",
       "    </tr>\n",
       "    <tr>\n",
       "      <th>69</th>\n",
       "      <td>Raise</td>\n",
       "      <td>Fintech</td>\n",
       "      <td>Investtech</td>\n",
       "      <td>2020.0</td>\n",
       "      <td>Nairobi</td>\n",
       "      <td>https://www.getraise.io/</td>\n",
       "      <td>Startup fundraising platform</td>\n",
       "      <td>NaN</td>\n",
       "      <td>No</td>\n",
       "      <td>Yes</td>\n",
       "      <td>16.0</td>\n",
       "    </tr>\n",
       "    <tr>\n",
       "      <th>70</th>\n",
       "      <td>RePay Africa</td>\n",
       "      <td>Fintech</td>\n",
       "      <td>Payments and remittances</td>\n",
       "      <td>2020.0</td>\n",
       "      <td>Nairobi</td>\n",
       "      <td>https://www.repay.africa/</td>\n",
       "      <td>Mobile money payments platform</td>\n",
       "      <td>NaN</td>\n",
       "      <td>No</td>\n",
       "      <td>No</td>\n",
       "      <td>2.0</td>\n",
       "    </tr>\n",
       "    <tr>\n",
       "      <th>71</th>\n",
       "      <td>Route</td>\n",
       "      <td>Fintech</td>\n",
       "      <td>Other</td>\n",
       "      <td>2021.0</td>\n",
       "      <td>Nairobi</td>\n",
       "      <td>https://route.money/</td>\n",
       "      <td>Digital banking app</td>\n",
       "      <td>NaN</td>\n",
       "      <td>No</td>\n",
       "      <td>No</td>\n",
       "      <td>2.0</td>\n",
       "    </tr>\n",
       "    <tr>\n",
       "      <th>72</th>\n",
       "      <td>SafePay</td>\n",
       "      <td>Fintech</td>\n",
       "      <td>Payments and remittances</td>\n",
       "      <td>2014.0</td>\n",
       "      <td>Nairobi</td>\n",
       "      <td>https://safepay.co.ke/</td>\n",
       "      <td>Digital payments platform</td>\n",
       "      <td>NaN</td>\n",
       "      <td>No</td>\n",
       "      <td>Yes</td>\n",
       "      <td>9.0</td>\n",
       "    </tr>\n",
       "    <tr>\n",
       "      <th>73</th>\n",
       "      <td>SaveKubwa</td>\n",
       "      <td>Fintech</td>\n",
       "      <td>Insurtech</td>\n",
       "      <td>2015.0</td>\n",
       "      <td>Nairobi</td>\n",
       "      <td>https://www.savekubwa.com/</td>\n",
       "      <td>Insurance platform</td>\n",
       "      <td>NaN</td>\n",
       "      <td>No</td>\n",
       "      <td>No</td>\n",
       "      <td>1.0</td>\n",
       "    </tr>\n",
       "    <tr>\n",
       "      <th>74</th>\n",
       "      <td>Shara</td>\n",
       "      <td>Fintech</td>\n",
       "      <td>Business admin</td>\n",
       "      <td>2020.0</td>\n",
       "      <td>Nairobi</td>\n",
       "      <td>https://www.shara.co/</td>\n",
       "      <td>Customer financing service</td>\n",
       "      <td>NaN</td>\n",
       "      <td>No</td>\n",
       "      <td>No</td>\n",
       "      <td>80.0</td>\n",
       "    </tr>\n",
       "    <tr>\n",
       "      <th>75</th>\n",
       "      <td>SimbaPay</td>\n",
       "      <td>Fintech</td>\n",
       "      <td>Payments and remittances</td>\n",
       "      <td>2013.0</td>\n",
       "      <td>Nairobi</td>\n",
       "      <td>https://get.simbapay.com/</td>\n",
       "      <td>International money transfer service</td>\n",
       "      <td>NaN</td>\n",
       "      <td>No</td>\n",
       "      <td>Yes</td>\n",
       "      <td>9.0</td>\n",
       "    </tr>\n",
       "    <tr>\n",
       "      <th>76</th>\n",
       "      <td>simplePOS</td>\n",
       "      <td>Fintech</td>\n",
       "      <td>Business admin</td>\n",
       "      <td>2018.0</td>\n",
       "      <td>Nairobi</td>\n",
       "      <td>https://simplepos.co.ke/</td>\n",
       "      <td>Business management platform</td>\n",
       "      <td>NaN</td>\n",
       "      <td>Yes</td>\n",
       "      <td>No</td>\n",
       "      <td>4.0</td>\n",
       "    </tr>\n",
       "    <tr>\n",
       "      <th>77</th>\n",
       "      <td>Spektra</td>\n",
       "      <td>Fintech</td>\n",
       "      <td>Payments and remittances</td>\n",
       "      <td>2019.0</td>\n",
       "      <td>Nairobi</td>\n",
       "      <td>https://dash-app.com/</td>\n",
       "      <td>Payments app</td>\n",
       "      <td>NaN</td>\n",
       "      <td>No</td>\n",
       "      <td>No</td>\n",
       "      <td>60.0</td>\n",
       "    </tr>\n",
       "    <tr>\n",
       "      <th>78</th>\n",
       "      <td>String Analytics</td>\n",
       "      <td>Fintech</td>\n",
       "      <td>Lending and financing</td>\n",
       "      <td>2019.0</td>\n",
       "      <td>Nairobi</td>\n",
       "      <td>https://string-analytics.com/</td>\n",
       "      <td>Credit-scoring platform</td>\n",
       "      <td>NaN</td>\n",
       "      <td>No</td>\n",
       "      <td>No</td>\n",
       "      <td>1.0</td>\n",
       "    </tr>\n",
       "    <tr>\n",
       "      <th>79</th>\n",
       "      <td>SuperFluid</td>\n",
       "      <td>Fintech</td>\n",
       "      <td>Lending and financing</td>\n",
       "      <td>2015.0</td>\n",
       "      <td>Nairobi</td>\n",
       "      <td>http://www.superfluid.io/</td>\n",
       "      <td>Credit-scoring platform</td>\n",
       "      <td>NaN</td>\n",
       "      <td>Yes</td>\n",
       "      <td>Yes</td>\n",
       "      <td>12.0</td>\n",
       "    </tr>\n",
       "    <tr>\n",
       "      <th>80</th>\n",
       "      <td>Tanda</td>\n",
       "      <td>Fintech</td>\n",
       "      <td>Payments and remittances</td>\n",
       "      <td>2018.0</td>\n",
       "      <td>Nairobi</td>\n",
       "      <td>https://www.tanda.africa/</td>\n",
       "      <td>Business payments platform</td>\n",
       "      <td>NaN</td>\n",
       "      <td>No</td>\n",
       "      <td>Yes</td>\n",
       "      <td>33.0</td>\n",
       "    </tr>\n",
       "    <tr>\n",
       "      <th>81</th>\n",
       "      <td>Transcode</td>\n",
       "      <td>Fintech</td>\n",
       "      <td>Security and ID</td>\n",
       "      <td>2018.0</td>\n",
       "      <td>Nairobi</td>\n",
       "      <td>https://www.transcode.co.ke/</td>\n",
       "      <td>Fraud detection platform</td>\n",
       "      <td>NaN</td>\n",
       "      <td>No</td>\n",
       "      <td>No</td>\n",
       "      <td>1.0</td>\n",
       "    </tr>\n",
       "    <tr>\n",
       "      <th>82</th>\n",
       "      <td>Tulix</td>\n",
       "      <td>Fintech</td>\n",
       "      <td>Payments and remittances</td>\n",
       "      <td>2020.0</td>\n",
       "      <td>Nairobi</td>\n",
       "      <td>https://www.tulix.app/</td>\n",
       "      <td>Money transfer service</td>\n",
       "      <td>NaN</td>\n",
       "      <td>No</td>\n",
       "      <td>No</td>\n",
       "      <td>5.0</td>\n",
       "    </tr>\n",
       "    <tr>\n",
       "      <th>83</th>\n",
       "      <td>Turaco</td>\n",
       "      <td>Fintech</td>\n",
       "      <td>Insurtech</td>\n",
       "      <td>2019.0</td>\n",
       "      <td>Nairobi</td>\n",
       "      <td>https://www.turaco.insure/</td>\n",
       "      <td>Insurance platform</td>\n",
       "      <td>NaN</td>\n",
       "      <td>No</td>\n",
       "      <td>No</td>\n",
       "      <td>90.0</td>\n",
       "    </tr>\n",
       "    <tr>\n",
       "      <th>84</th>\n",
       "      <td>UbaPesa</td>\n",
       "      <td>Fintech</td>\n",
       "      <td>Lending and financing</td>\n",
       "      <td>2018.0</td>\n",
       "      <td>Nairobi</td>\n",
       "      <td>https://ubapesa.com/</td>\n",
       "      <td>P2P lending platform</td>\n",
       "      <td>NaN</td>\n",
       "      <td>No</td>\n",
       "      <td>No</td>\n",
       "      <td>5.0</td>\n",
       "    </tr>\n",
       "    <tr>\n",
       "      <th>85</th>\n",
       "      <td>Ujuzi</td>\n",
       "      <td>Fintech</td>\n",
       "      <td>Security and ID</td>\n",
       "      <td>2013.0</td>\n",
       "      <td>Nairobi</td>\n",
       "      <td>http://www.ujuzicompliance.com/</td>\n",
       "      <td>Security &amp; ID</td>\n",
       "      <td>NaN</td>\n",
       "      <td>No</td>\n",
       "      <td>No</td>\n",
       "      <td>1.0</td>\n",
       "    </tr>\n",
       "    <tr>\n",
       "      <th>86</th>\n",
       "      <td>UzaPoint</td>\n",
       "      <td>Fintech</td>\n",
       "      <td>Business admin</td>\n",
       "      <td>2015.0</td>\n",
       "      <td>Nairobi</td>\n",
       "      <td>https://uzapoint.com/</td>\n",
       "      <td>SME payments platform</td>\n",
       "      <td>NaN</td>\n",
       "      <td>No</td>\n",
       "      <td>Yes</td>\n",
       "      <td>12.0</td>\n",
       "    </tr>\n",
       "    <tr>\n",
       "      <th>87</th>\n",
       "      <td>Vooli</td>\n",
       "      <td>Fintech</td>\n",
       "      <td>Insurtech</td>\n",
       "      <td>2020.0</td>\n",
       "      <td>Nairobi</td>\n",
       "      <td>https://vooli.net/</td>\n",
       "      <td>Insurance platform</td>\n",
       "      <td>NaN</td>\n",
       "      <td>No</td>\n",
       "      <td>Yes</td>\n",
       "      <td>1.0</td>\n",
       "    </tr>\n",
       "    <tr>\n",
       "      <th>88</th>\n",
       "      <td>WapiPay</td>\n",
       "      <td>Fintech</td>\n",
       "      <td>Payments and remittances</td>\n",
       "      <td>2019.0</td>\n",
       "      <td>Nairobi</td>\n",
       "      <td>https://www.wapipay.com/</td>\n",
       "      <td>Africa-Asia payment platform</td>\n",
       "      <td>NaN</td>\n",
       "      <td>No</td>\n",
       "      <td>Yes</td>\n",
       "      <td>12.0</td>\n",
       "    </tr>\n",
       "    <tr>\n",
       "      <th>89</th>\n",
       "      <td>Watu Credit</td>\n",
       "      <td>Fintech</td>\n",
       "      <td>Lending and financing</td>\n",
       "      <td>2015.0</td>\n",
       "      <td>Mombasa</td>\n",
       "      <td>https://watuafrica.com/</td>\n",
       "      <td>Asset financing platform</td>\n",
       "      <td>NaN</td>\n",
       "      <td>No</td>\n",
       "      <td>No</td>\n",
       "      <td>1201.0</td>\n",
       "    </tr>\n",
       "    <tr>\n",
       "      <th>90</th>\n",
       "      <td>WazInsure</td>\n",
       "      <td>Fintech</td>\n",
       "      <td>Insurtech</td>\n",
       "      <td>2016.0</td>\n",
       "      <td>Nairobi</td>\n",
       "      <td>https://wazinsure.com/</td>\n",
       "      <td>Insurance platform</td>\n",
       "      <td>NaN</td>\n",
       "      <td>No</td>\n",
       "      <td>Yes</td>\n",
       "      <td>3.0</td>\n",
       "    </tr>\n",
       "    <tr>\n",
       "      <th>91</th>\n",
       "      <td>Weza.io</td>\n",
       "      <td>Fintech</td>\n",
       "      <td>Lending and financing</td>\n",
       "      <td>2016.0</td>\n",
       "      <td>Nairobi</td>\n",
       "      <td>https://www.weza.io/</td>\n",
       "      <td>End to end lending software</td>\n",
       "      <td>NaN</td>\n",
       "      <td>No</td>\n",
       "      <td>No</td>\n",
       "      <td>3.0</td>\n",
       "    </tr>\n",
       "    <tr>\n",
       "      <th>92</th>\n",
       "      <td>Wingubox</td>\n",
       "      <td>Fintech</td>\n",
       "      <td>Business admin</td>\n",
       "      <td>2007.0</td>\n",
       "      <td>Nairobi</td>\n",
       "      <td>https://apps.wingubox.com/</td>\n",
       "      <td>Accounting platform</td>\n",
       "      <td>NaN</td>\n",
       "      <td>No</td>\n",
       "      <td>No</td>\n",
       "      <td>6.0</td>\n",
       "    </tr>\n",
       "    <tr>\n",
       "      <th>93</th>\n",
       "      <td>Zagace</td>\n",
       "      <td>Fintech</td>\n",
       "      <td>Business admin</td>\n",
       "      <td>2013.0</td>\n",
       "      <td>Nairobi</td>\n",
       "      <td>https://zagace.com/</td>\n",
       "      <td>Business management platform</td>\n",
       "      <td>NaN</td>\n",
       "      <td>No</td>\n",
       "      <td>No</td>\n",
       "      <td>2.0</td>\n",
       "    </tr>\n",
       "    <tr>\n",
       "      <th>94</th>\n",
       "      <td>Zanifu</td>\n",
       "      <td>Fintech</td>\n",
       "      <td>Lending and financing</td>\n",
       "      <td>2016.0</td>\n",
       "      <td>Nairobi</td>\n",
       "      <td>https://www.zanifu.com/</td>\n",
       "      <td>Inventory financing</td>\n",
       "      <td>NaN</td>\n",
       "      <td>No</td>\n",
       "      <td>No</td>\n",
       "      <td>35.0</td>\n",
       "    </tr>\n",
       "    <tr>\n",
       "      <th>95</th>\n",
       "      <td>NaN</td>\n",
       "      <td>NaN</td>\n",
       "      <td>NaN</td>\n",
       "      <td>NaN</td>\n",
       "      <td>NaN</td>\n",
       "      <td>NaN</td>\n",
       "      <td>NaN</td>\n",
       "      <td>NaN</td>\n",
       "      <td>NaN</td>\n",
       "      <td>NaN</td>\n",
       "      <td>NaN</td>\n",
       "    </tr>\n",
       "    <tr>\n",
       "      <th>96</th>\n",
       "      <td>E-health</td>\n",
       "      <td>NaN</td>\n",
       "      <td>NaN</td>\n",
       "      <td>NaN</td>\n",
       "      <td>NaN</td>\n",
       "      <td>NaN</td>\n",
       "      <td>NaN</td>\n",
       "      <td>NaN</td>\n",
       "      <td>NaN</td>\n",
       "      <td>NaN</td>\n",
       "      <td>NaN</td>\n",
       "    </tr>\n",
       "    <tr>\n",
       "      <th>97</th>\n",
       "      <td>Access Afya</td>\n",
       "      <td>E-health</td>\n",
       "      <td>Other</td>\n",
       "      <td>2012.0</td>\n",
       "      <td>Nairobi</td>\n",
       "      <td>https://www.accessafya.com/</td>\n",
       "      <td>Tech-enabled clinics</td>\n",
       "      <td>NaN</td>\n",
       "      <td>Yes</td>\n",
       "      <td>Yes</td>\n",
       "      <td>48.0</td>\n",
       "    </tr>\n",
       "    <tr>\n",
       "      <th>98</th>\n",
       "      <td>Afya Plan</td>\n",
       "      <td>E-health</td>\n",
       "      <td>Health Insurance</td>\n",
       "      <td>2017.0</td>\n",
       "      <td>Nairobi</td>\n",
       "      <td>http://afyaplan.co.ke/</td>\n",
       "      <td>Online health insurance platform</td>\n",
       "      <td>NaN</td>\n",
       "      <td>No</td>\n",
       "      <td>No</td>\n",
       "      <td>1.0</td>\n",
       "    </tr>\n",
       "    <tr>\n",
       "      <th>99</th>\n",
       "      <td>Afya Rekod</td>\n",
       "      <td>E-health</td>\n",
       "      <td>EHR</td>\n",
       "      <td>2020.0</td>\n",
       "      <td>Nairobi</td>\n",
       "      <td>https://www.afyarekod.com/home</td>\n",
       "      <td>EHR solutions</td>\n",
       "      <td>NaN</td>\n",
       "      <td>No</td>\n",
       "      <td>No</td>\n",
       "      <td>27.0</td>\n",
       "    </tr>\n",
       "    <tr>\n",
       "      <th>100</th>\n",
       "      <td>Afya Research Africa</td>\n",
       "      <td>E-health</td>\n",
       "      <td>Practice management and procurement</td>\n",
       "      <td>2009.0</td>\n",
       "      <td>Nairobi</td>\n",
       "      <td>http://www.afyaresearch.org/</td>\n",
       "      <td>Stone HMIS open source health information and ...</td>\n",
       "      <td>NaN</td>\n",
       "      <td>Yes</td>\n",
       "      <td>No</td>\n",
       "      <td>30.0</td>\n",
       "    </tr>\n",
       "    <tr>\n",
       "      <th>101</th>\n",
       "      <td>Baobab Circle</td>\n",
       "      <td>E-health</td>\n",
       "      <td>Health info / Virtual Healthcare</td>\n",
       "      <td>2016.0</td>\n",
       "      <td>Nairobi</td>\n",
       "      <td>http://www.baobabcircle.com/</td>\n",
       "      <td>Health information app and virtual consultations</td>\n",
       "      <td>NaN</td>\n",
       "      <td>Yes</td>\n",
       "      <td>No</td>\n",
       "      <td>40.0</td>\n",
       "    </tr>\n",
       "    <tr>\n",
       "      <th>102</th>\n",
       "      <td>Damu Sasa</td>\n",
       "      <td>E-health</td>\n",
       "      <td>Practice management and procurement</td>\n",
       "      <td>2017.0</td>\n",
       "      <td>Nairobi</td>\n",
       "      <td>https://www.damu-sasa.co.ke/</td>\n",
       "      <td>Blood services information management</td>\n",
       "      <td>NaN</td>\n",
       "      <td>No</td>\n",
       "      <td>Yes</td>\n",
       "      <td>2.0</td>\n",
       "    </tr>\n",
       "    <tr>\n",
       "      <th>103</th>\n",
       "      <td>Deaf Elimu Plus</td>\n",
       "      <td>E-health</td>\n",
       "      <td>Other</td>\n",
       "      <td>2016.0</td>\n",
       "      <td>Nairobi</td>\n",
       "      <td>http://www.deafelimuplus.co.ke/</td>\n",
       "      <td>Range of apps using sign language.</td>\n",
       "      <td>NaN</td>\n",
       "      <td>No</td>\n",
       "      <td>No</td>\n",
       "      <td>1.0</td>\n",
       "    </tr>\n",
       "    <tr>\n",
       "      <th>104</th>\n",
       "      <td>Flare</td>\n",
       "      <td>E-health</td>\n",
       "      <td>Emergency response</td>\n",
       "      <td>2016.0</td>\n",
       "      <td>Nairobi</td>\n",
       "      <td>http://flare.capsule.co.ke/</td>\n",
       "      <td>App for hospitals and public to locate and cal...</td>\n",
       "      <td>NaN</td>\n",
       "      <td>Yes</td>\n",
       "      <td>Yes</td>\n",
       "      <td>24.0</td>\n",
       "    </tr>\n",
       "    <tr>\n",
       "      <th>105</th>\n",
       "      <td>Health-e-Net</td>\n",
       "      <td>E-health</td>\n",
       "      <td>Health info / Virtual healthcare</td>\n",
       "      <td>2012.0</td>\n",
       "      <td>Nairobi</td>\n",
       "      <td>http://www.health-e-net.org/</td>\n",
       "      <td>Tele-consultations platform</td>\n",
       "      <td>NaN</td>\n",
       "      <td>No</td>\n",
       "      <td>Yes</td>\n",
       "      <td>7.0</td>\n",
       "    </tr>\n",
       "    <tr>\n",
       "      <th>106</th>\n",
       "      <td>Hope Tech +</td>\n",
       "      <td>E-health</td>\n",
       "      <td>Other</td>\n",
       "      <td>2017.0</td>\n",
       "      <td>Nairobi</td>\n",
       "      <td>https://hopetechplus.com/</td>\n",
       "      <td>Assistive hardware for visually impaired</td>\n",
       "      <td>NaN</td>\n",
       "      <td>Yes</td>\n",
       "      <td>No</td>\n",
       "      <td>3.0</td>\n",
       "    </tr>\n",
       "    <tr>\n",
       "      <th>107</th>\n",
       "      <td>Ilara Health</td>\n",
       "      <td>E-health</td>\n",
       "      <td>Diagnostics inc. clinical decisions support</td>\n",
       "      <td>2018.0</td>\n",
       "      <td>Nairobi</td>\n",
       "      <td>https://www.ilarahealth.com/</td>\n",
       "      <td>Provider of diagnostics equipment</td>\n",
       "      <td>NaN</td>\n",
       "      <td>No</td>\n",
       "      <td>No</td>\n",
       "      <td>145.0</td>\n",
       "    </tr>\n",
       "    <tr>\n",
       "      <th>108</th>\n",
       "      <td>Lily.Health</td>\n",
       "      <td>E-health</td>\n",
       "      <td>Health info / Virtual Healthcare</td>\n",
       "      <td>2017.0</td>\n",
       "      <td>Nairobi</td>\n",
       "      <td>https://lily.health/</td>\n",
       "      <td>Chat app for reproductive health advice</td>\n",
       "      <td>NaN</td>\n",
       "      <td>No</td>\n",
       "      <td>Yes</td>\n",
       "      <td>5.0</td>\n",
       "    </tr>\n",
       "    <tr>\n",
       "      <th>109</th>\n",
       "      <td>M-TIBA</td>\n",
       "      <td>E-health</td>\n",
       "      <td>Health Insurance</td>\n",
       "      <td>2014.0</td>\n",
       "      <td>Mombasa</td>\n",
       "      <td>https://mtiba.com/go/</td>\n",
       "      <td>Health insurance service</td>\n",
       "      <td>NaN</td>\n",
       "      <td>No</td>\n",
       "      <td>No</td>\n",
       "      <td>114.0</td>\n",
       "    </tr>\n",
       "    <tr>\n",
       "      <th>110</th>\n",
       "      <td>Medbook</td>\n",
       "      <td>E-health</td>\n",
       "      <td>Health info / Virtual Healthcare</td>\n",
       "      <td>2014.0</td>\n",
       "      <td>Nairobi</td>\n",
       "      <td>https://www.medbookafrica.com/#/</td>\n",
       "      <td>Virtual consultations, practice management and...</td>\n",
       "      <td>NaN</td>\n",
       "      <td>No</td>\n",
       "      <td>No</td>\n",
       "      <td>30.0</td>\n",
       "    </tr>\n",
       "    <tr>\n",
       "      <th>111</th>\n",
       "      <td>Medixus</td>\n",
       "      <td>E-health</td>\n",
       "      <td>Health info / Virtual Healthcare</td>\n",
       "      <td>2015.0</td>\n",
       "      <td>Nairobi</td>\n",
       "      <td>https://www.medixus.co/</td>\n",
       "      <td>P2P doctors network</td>\n",
       "      <td>NaN</td>\n",
       "      <td>Yes</td>\n",
       "      <td>No</td>\n",
       "      <td>10.0</td>\n",
       "    </tr>\n",
       "    <tr>\n",
       "      <th>112</th>\n",
       "      <td>MumsVillage</td>\n",
       "      <td>E-health</td>\n",
       "      <td>Maternal health</td>\n",
       "      <td>2015.0</td>\n",
       "      <td>Nairobi</td>\n",
       "      <td>https://mumsvillage.com/</td>\n",
       "      <td>Maternal info and support</td>\n",
       "      <td>NaN</td>\n",
       "      <td>Yes</td>\n",
       "      <td>Yes</td>\n",
       "      <td>5.0</td>\n",
       "    </tr>\n",
       "    <tr>\n",
       "      <th>113</th>\n",
       "      <td>myDAWA</td>\n",
       "      <td>E-health</td>\n",
       "      <td>Other</td>\n",
       "      <td>2016.0</td>\n",
       "      <td>Nairobi</td>\n",
       "      <td>https://mydawa.com/#/home</td>\n",
       "      <td>Medicine purchasing</td>\n",
       "      <td>NaN</td>\n",
       "      <td>No</td>\n",
       "      <td>No</td>\n",
       "      <td>45.0</td>\n",
       "    </tr>\n",
       "    <tr>\n",
       "      <th>114</th>\n",
       "      <td>Neural Labs Africa</td>\n",
       "      <td>E-health</td>\n",
       "      <td>Diagnostics inc. clinical decisions support</td>\n",
       "      <td>2020.0</td>\n",
       "      <td>Nairobi</td>\n",
       "      <td>https://neurallabs.africa/</td>\n",
       "      <td>AI-based diagnostics platform</td>\n",
       "      <td>NaN</td>\n",
       "      <td>No</td>\n",
       "      <td>Yes</td>\n",
       "      <td>7.0</td>\n",
       "    </tr>\n",
       "    <tr>\n",
       "      <th>115</th>\n",
       "      <td>Nurse In Hand</td>\n",
       "      <td>E-health</td>\n",
       "      <td>Emergency response</td>\n",
       "      <td>2017.0</td>\n",
       "      <td>Nairobi</td>\n",
       "      <td>https://nurseinhand.com/</td>\n",
       "      <td>Emergency response service</td>\n",
       "      <td>NaN</td>\n",
       "      <td>Yes</td>\n",
       "      <td>Yes</td>\n",
       "      <td>3.0</td>\n",
       "    </tr>\n",
       "    <tr>\n",
       "      <th>116</th>\n",
       "      <td>Snark Health</td>\n",
       "      <td>E-health</td>\n",
       "      <td>Health info / Virtual Healthcare</td>\n",
       "      <td>2018.0</td>\n",
       "      <td>Nairobi</td>\n",
       "      <td>https://snarkhealth.com/</td>\n",
       "      <td>Virtual healthcare platform</td>\n",
       "      <td>NaN</td>\n",
       "      <td>No</td>\n",
       "      <td>Yes</td>\n",
       "      <td>3.0</td>\n",
       "    </tr>\n",
       "    <tr>\n",
       "      <th>117</th>\n",
       "      <td>Tambua</td>\n",
       "      <td>E-health</td>\n",
       "      <td>Diagnostics inc. clinical decisions support</td>\n",
       "      <td>2017.0</td>\n",
       "      <td>Nairobi</td>\n",
       "      <td>http://tambuahealth.com/</td>\n",
       "      <td>Mobile diagnostics platform</td>\n",
       "      <td>NaN</td>\n",
       "      <td>No</td>\n",
       "      <td>Yes</td>\n",
       "      <td>15.0</td>\n",
       "    </tr>\n",
       "    <tr>\n",
       "      <th>118</th>\n",
       "      <td>TeleAfya</td>\n",
       "      <td>E-health</td>\n",
       "      <td>Health info / Virtual Healthcare</td>\n",
       "      <td>2020.0</td>\n",
       "      <td>Nairobi</td>\n",
       "      <td>https://teleafya.com/home</td>\n",
       "      <td>Virtual consultation platform</td>\n",
       "      <td>NaN</td>\n",
       "      <td>No</td>\n",
       "      <td>No</td>\n",
       "      <td>1.0</td>\n",
       "    </tr>\n",
       "    <tr>\n",
       "      <th>119</th>\n",
       "      <td>The Pathology Network</td>\n",
       "      <td>E-health</td>\n",
       "      <td>Diagnostics inc. clinical decisions support</td>\n",
       "      <td>2017.0</td>\n",
       "      <td>Meru</td>\n",
       "      <td>https://pathologynetwork.africa/</td>\n",
       "      <td>AI-based lab referrals</td>\n",
       "      <td>NaN</td>\n",
       "      <td>No</td>\n",
       "      <td>Yes</td>\n",
       "      <td>19.0</td>\n",
       "    </tr>\n",
       "    <tr>\n",
       "      <th>120</th>\n",
       "      <td>TIBU</td>\n",
       "      <td>E-health</td>\n",
       "      <td>Bookings</td>\n",
       "      <td>2019.0</td>\n",
       "      <td>Nairobi</td>\n",
       "      <td>https://tibu.africa/</td>\n",
       "      <td>Medical bookings platform</td>\n",
       "      <td>NaN</td>\n",
       "      <td>No</td>\n",
       "      <td>No</td>\n",
       "      <td>32.0</td>\n",
       "    </tr>\n",
       "    <tr>\n",
       "      <th>121</th>\n",
       "      <td>Totohealth</td>\n",
       "      <td>E-health</td>\n",
       "      <td>Maternal health</td>\n",
       "      <td>2014.0</td>\n",
       "      <td>Nairobi</td>\n",
       "      <td>https://totohealth.org/homepage</td>\n",
       "      <td>SMS-based service focused on pregnancy and ear...</td>\n",
       "      <td>NaN</td>\n",
       "      <td>No</td>\n",
       "      <td>Yes</td>\n",
       "      <td>7.0</td>\n",
       "    </tr>\n",
       "    <tr>\n",
       "      <th>122</th>\n",
       "      <td>Ujuzi Fursa</td>\n",
       "      <td>E-health</td>\n",
       "      <td>Bookings</td>\n",
       "      <td>2018.0</td>\n",
       "      <td>Nairobi</td>\n",
       "      <td>http://www.ujuzifursaafrica.com/</td>\n",
       "      <td>Caregiving service</td>\n",
       "      <td>NaN</td>\n",
       "      <td>No</td>\n",
       "      <td>Yes</td>\n",
       "      <td>47.0</td>\n",
       "    </tr>\n",
       "    <tr>\n",
       "      <th>123</th>\n",
       "      <td>Usalama Tech</td>\n",
       "      <td>E-health</td>\n",
       "      <td>Emergency response</td>\n",
       "      <td>2016.0</td>\n",
       "      <td>Nairobi</td>\n",
       "      <td>http://www.usalamatechnology.com/</td>\n",
       "      <td>Emergency response calling app.</td>\n",
       "      <td>NaN</td>\n",
       "      <td>No</td>\n",
       "      <td>Yes</td>\n",
       "      <td>10.0</td>\n",
       "    </tr>\n",
       "    <tr>\n",
       "      <th>124</th>\n",
       "      <td>Uthabiti</td>\n",
       "      <td>E-health</td>\n",
       "      <td>Other</td>\n",
       "      <td>2015.0</td>\n",
       "      <td>Nairobi</td>\n",
       "      <td>https://uthabiti.org/</td>\n",
       "      <td>Blockchain-based drug verification platform</td>\n",
       "      <td>NaN</td>\n",
       "      <td>No</td>\n",
       "      <td>No</td>\n",
       "      <td>13.0</td>\n",
       "    </tr>\n",
       "    <tr>\n",
       "      <th>125</th>\n",
       "      <td>Wazi</td>\n",
       "      <td>E-health</td>\n",
       "      <td>Health info / Virtual Healthcare</td>\n",
       "      <td>2019.0</td>\n",
       "      <td>Nairobi</td>\n",
       "      <td>https://www.wazi.co/</td>\n",
       "      <td>Digital counselling platform</td>\n",
       "      <td>NaN</td>\n",
       "      <td>No</td>\n",
       "      <td>No</td>\n",
       "      <td>8.0</td>\n",
       "    </tr>\n",
       "    <tr>\n",
       "      <th>126</th>\n",
       "      <td>Yapili</td>\n",
       "      <td>E-health</td>\n",
       "      <td>Health info / Virtual healthcare</td>\n",
       "      <td>2014.0</td>\n",
       "      <td>Nairobi</td>\n",
       "      <td>https://yapili.com/</td>\n",
       "      <td>Online platform connecting African patients wi...</td>\n",
       "      <td>NaN</td>\n",
       "      <td>No</td>\n",
       "      <td>Yes</td>\n",
       "      <td>4.0</td>\n",
       "    </tr>\n",
       "    <tr>\n",
       "      <th>127</th>\n",
       "      <td>Zuri Health</td>\n",
       "      <td>E-health</td>\n",
       "      <td>Health info / Virtual healthcare</td>\n",
       "      <td>2020.0</td>\n",
       "      <td>Nairobi</td>\n",
       "      <td>https://www.zuri.health/</td>\n",
       "      <td>Virtual hospital</td>\n",
       "      <td>NaN</td>\n",
       "      <td>No</td>\n",
       "      <td>No</td>\n",
       "      <td>36.0</td>\n",
       "    </tr>\n",
       "    <tr>\n",
       "      <th>128</th>\n",
       "      <td>NaN</td>\n",
       "      <td>NaN</td>\n",
       "      <td>NaN</td>\n",
       "      <td>NaN</td>\n",
       "      <td>NaN</td>\n",
       "      <td>NaN</td>\n",
       "      <td>NaN</td>\n",
       "      <td>NaN</td>\n",
       "      <td>NaN</td>\n",
       "      <td>NaN</td>\n",
       "      <td>NaN</td>\n",
       "    </tr>\n",
       "    <tr>\n",
       "      <th>129</th>\n",
       "      <td>Agri-tech</td>\n",
       "      <td>NaN</td>\n",
       "      <td>NaN</td>\n",
       "      <td>NaN</td>\n",
       "      <td>NaN</td>\n",
       "      <td>NaN</td>\n",
       "      <td>NaN</td>\n",
       "      <td>NaN</td>\n",
       "      <td>NaN</td>\n",
       "      <td>NaN</td>\n",
       "      <td>NaN</td>\n",
       "    </tr>\n",
       "    <tr>\n",
       "      <th>130</th>\n",
       "      <td>Afriagrimark</td>\n",
       "      <td>Agri-tech</td>\n",
       "      <td>E-commerce</td>\n",
       "      <td>2020.0</td>\n",
       "      <td>Nairobi</td>\n",
       "      <td>https://afriagrimark.com/</td>\n",
       "      <td>Helps farmers sell their produce</td>\n",
       "      <td>NaN</td>\n",
       "      <td>No</td>\n",
       "      <td>Yes</td>\n",
       "      <td>2.0</td>\n",
       "    </tr>\n",
       "    <tr>\n",
       "      <th>131</th>\n",
       "      <td>Annona</td>\n",
       "      <td>Agri-tech</td>\n",
       "      <td>Farm and supply chain management</td>\n",
       "      <td>2015.0</td>\n",
       "      <td>Nairobi</td>\n",
       "      <td>https://annona.co/</td>\n",
       "      <td>Online farmer management software for global f...</td>\n",
       "      <td>NaN</td>\n",
       "      <td>No</td>\n",
       "      <td>Yes</td>\n",
       "      <td>2.0</td>\n",
       "    </tr>\n",
       "    <tr>\n",
       "      <th>132</th>\n",
       "      <td>Apollo Agriculture</td>\n",
       "      <td>Agri-tech</td>\n",
       "      <td>AI / IoT for farmers</td>\n",
       "      <td>2016.0</td>\n",
       "      <td>Nairobi</td>\n",
       "      <td>https://apolloagriculture.com/</td>\n",
       "      <td>Leverages satellite imagery and machine learni...</td>\n",
       "      <td>NaN</td>\n",
       "      <td>No</td>\n",
       "      <td>No</td>\n",
       "      <td>594.0</td>\n",
       "    </tr>\n",
       "    <tr>\n",
       "      <th>133</th>\n",
       "      <td>Aqua Rech</td>\n",
       "      <td>Agri-tech</td>\n",
       "      <td>Other</td>\n",
       "      <td>2019.0</td>\n",
       "      <td>Kisumu</td>\n",
       "      <td>https://www.aquarech.com/</td>\n",
       "      <td>Aquaculture platform</td>\n",
       "      <td>NaN</td>\n",
       "      <td>No</td>\n",
       "      <td>No</td>\n",
       "      <td>12.0</td>\n",
       "    </tr>\n",
       "    <tr>\n",
       "      <th>134</th>\n",
       "      <td>Arinifu</td>\n",
       "      <td>Agri-tech</td>\n",
       "      <td>AI / IoT for farmers</td>\n",
       "      <td>2018.0</td>\n",
       "      <td>Nairobi</td>\n",
       "      <td>https://arinifu.com/</td>\n",
       "      <td>Designer of a \"smart brooder\"</td>\n",
       "      <td>NaN</td>\n",
       "      <td>No</td>\n",
       "      <td>Yes</td>\n",
       "      <td>2.0</td>\n",
       "    </tr>\n",
       "    <tr>\n",
       "      <th>135</th>\n",
       "      <td>Cinch</td>\n",
       "      <td>Agri-tech</td>\n",
       "      <td>Fintech for farmers</td>\n",
       "      <td>2017.0</td>\n",
       "      <td>Nairobi</td>\n",
       "      <td>https://cinchmarkets.com/</td>\n",
       "      <td>Smallholder asset investment platform</td>\n",
       "      <td>NaN</td>\n",
       "      <td>No</td>\n",
       "      <td>Yes</td>\n",
       "      <td>13.0</td>\n",
       "    </tr>\n",
       "    <tr>\n",
       "      <th>136</th>\n",
       "      <td>eProd Solutions</td>\n",
       "      <td>Agri-tech</td>\n",
       "      <td>Farm and supply chain management</td>\n",
       "      <td>2015.0</td>\n",
       "      <td>Nairobi</td>\n",
       "      <td>https://www.eprod-solutions.com/</td>\n",
       "      <td>Farm management platform</td>\n",
       "      <td>NaN</td>\n",
       "      <td>No</td>\n",
       "      <td>No</td>\n",
       "      <td>25.0</td>\n",
       "    </tr>\n",
       "    <tr>\n",
       "      <th>137</th>\n",
       "      <td>Farm IT</td>\n",
       "      <td>Agri-tech</td>\n",
       "      <td>Information and knowledge sharing</td>\n",
       "      <td>2018.0</td>\n",
       "      <td>Nairobi</td>\n",
       "      <td>http://www.farmit.co.ke/</td>\n",
       "      <td>Digital services platform for farmers</td>\n",
       "      <td>NaN</td>\n",
       "      <td>No</td>\n",
       "      <td>No</td>\n",
       "      <td>1.0</td>\n",
       "    </tr>\n",
       "    <tr>\n",
       "      <th>138</th>\n",
       "      <td>Farmers Pride</td>\n",
       "      <td>Agri-tech</td>\n",
       "      <td>Farm and supply chain management</td>\n",
       "      <td>2016.0</td>\n",
       "      <td>Nairobi</td>\n",
       "      <td>https://farmersprideafrica.com/</td>\n",
       "      <td>Connects farmers with inputs</td>\n",
       "      <td>NaN</td>\n",
       "      <td>No</td>\n",
       "      <td>No</td>\n",
       "      <td>19.0</td>\n",
       "    </tr>\n",
       "    <tr>\n",
       "      <th>139</th>\n",
       "      <td>Farmingtech</td>\n",
       "      <td>Agri-tech</td>\n",
       "      <td>Farm and supply chain management</td>\n",
       "      <td>2017.0</td>\n",
       "      <td>Nairobi</td>\n",
       "      <td>https://digicow.co.ke/</td>\n",
       "      <td>Farm record-keeping app</td>\n",
       "      <td>NaN</td>\n",
       "      <td>No</td>\n",
       "      <td>No</td>\n",
       "      <td>10.0</td>\n",
       "    </tr>\n",
       "    <tr>\n",
       "      <th>140</th>\n",
       "      <td>Farmshine</td>\n",
       "      <td>Agri-tech</td>\n",
       "      <td>E-commerce</td>\n",
       "      <td>2017.0</td>\n",
       "      <td>Nairobi</td>\n",
       "      <td>https://www.farmshine.io/</td>\n",
       "      <td>Connect farmers to markets</td>\n",
       "      <td>NaN</td>\n",
       "      <td>No</td>\n",
       "      <td>Yes</td>\n",
       "      <td>3.0</td>\n",
       "    </tr>\n",
       "    <tr>\n",
       "      <th>141</th>\n",
       "      <td>Futurepump</td>\n",
       "      <td>Agri-tech</td>\n",
       "      <td>Other</td>\n",
       "      <td>2011.0</td>\n",
       "      <td>Nairobi</td>\n",
       "      <td>https://futurepump.com/</td>\n",
       "      <td>Sells portable solar irrigation pumps to small...</td>\n",
       "      <td>NaN</td>\n",
       "      <td>No</td>\n",
       "      <td>Yes</td>\n",
       "      <td>19.0</td>\n",
       "    </tr>\n",
       "    <tr>\n",
       "      <th>142</th>\n",
       "      <td>GrowAgric</td>\n",
       "      <td>Agri-tech</td>\n",
       "      <td>Fintech for farmers</td>\n",
       "      <td>2020.0</td>\n",
       "      <td>Nairobi</td>\n",
       "      <td>https://growagric.com/</td>\n",
       "      <td>Accessible finance for farmers</td>\n",
       "      <td>NaN</td>\n",
       "      <td>No</td>\n",
       "      <td>Yes</td>\n",
       "      <td>5.0</td>\n",
       "    </tr>\n",
       "    <tr>\n",
       "      <th>143</th>\n",
       "      <td>iFarm360</td>\n",
       "      <td>Agri-tech</td>\n",
       "      <td>Fintech for farmers</td>\n",
       "      <td>2020.0</td>\n",
       "      <td>Nairobi</td>\n",
       "      <td>https://ifarm360.com/</td>\n",
       "      <td>Crowdfarming solution</td>\n",
       "      <td>NaN</td>\n",
       "      <td>No</td>\n",
       "      <td>No</td>\n",
       "      <td>7.0</td>\n",
       "    </tr>\n",
       "    <tr>\n",
       "      <th>144</th>\n",
       "      <td>iProcure Africa</td>\n",
       "      <td>Agri-tech</td>\n",
       "      <td>Farm and supply chain management</td>\n",
       "      <td>2013.0</td>\n",
       "      <td>Nairobi</td>\n",
       "      <td>https://iprocu.re/</td>\n",
       "      <td>Agricultural supply chain platform and busines...</td>\n",
       "      <td>NaN</td>\n",
       "      <td>No</td>\n",
       "      <td>Yes</td>\n",
       "      <td>128.0</td>\n",
       "    </tr>\n",
       "    <tr>\n",
       "      <th>145</th>\n",
       "      <td>Kuza</td>\n",
       "      <td>Agri-tech</td>\n",
       "      <td>Information and knowledge sharing</td>\n",
       "      <td>2022.0</td>\n",
       "      <td>Nairobi</td>\n",
       "      <td>https://kuza.io/</td>\n",
       "      <td>On-demand farming course provider</td>\n",
       "      <td>NaN</td>\n",
       "      <td>Yes</td>\n",
       "      <td>No</td>\n",
       "      <td>9.0</td>\n",
       "    </tr>\n",
       "    <tr>\n",
       "      <th>146</th>\n",
       "      <td>Lentera</td>\n",
       "      <td>Agri-tech</td>\n",
       "      <td>AI / IoT for farmers</td>\n",
       "      <td>2017.0</td>\n",
       "      <td>Nairobi</td>\n",
       "      <td>https://lenterafrica.com/</td>\n",
       "      <td>Precision agriculture services</td>\n",
       "      <td>NaN</td>\n",
       "      <td>No</td>\n",
       "      <td>Yes</td>\n",
       "      <td>12.0</td>\n",
       "    </tr>\n",
       "    <tr>\n",
       "      <th>147</th>\n",
       "      <td>M-Farm</td>\n",
       "      <td>Agri-tech</td>\n",
       "      <td>E-commerce</td>\n",
       "      <td>2011.0</td>\n",
       "      <td>Nairobi</td>\n",
       "      <td>https://www.mfarm.co.ke/</td>\n",
       "      <td>SMS and web-based produce marketplace for smal...</td>\n",
       "      <td>NaN</td>\n",
       "      <td>Yes</td>\n",
       "      <td>No</td>\n",
       "      <td>7.0</td>\n",
       "    </tr>\n",
       "    <tr>\n",
       "      <th>148</th>\n",
       "      <td>Mkulima Young Soko</td>\n",
       "      <td>Agri-tech</td>\n",
       "      <td>E-commerce</td>\n",
       "      <td>2012.0</td>\n",
       "      <td>Nairobi</td>\n",
       "      <td>http://www.mkulimayoung.com/</td>\n",
       "      <td>Produce marketplace for young farmers</td>\n",
       "      <td>NaN</td>\n",
       "      <td>No</td>\n",
       "      <td>No</td>\n",
       "      <td>7.0</td>\n",
       "    </tr>\n",
       "    <tr>\n",
       "      <th>149</th>\n",
       "      <td>Pula</td>\n",
       "      <td>Agri-tech</td>\n",
       "      <td>Fintech for farmers</td>\n",
       "      <td>2014.0</td>\n",
       "      <td>Nairobi</td>\n",
       "      <td>https://www.pula-advisors.com/</td>\n",
       "      <td>Agricultural insurance platform</td>\n",
       "      <td>NaN</td>\n",
       "      <td>Yes</td>\n",
       "      <td>No</td>\n",
       "      <td>224.0</td>\n",
       "    </tr>\n",
       "    <tr>\n",
       "      <th>150</th>\n",
       "      <td>Radava Mercentile</td>\n",
       "      <td>Agri-tech</td>\n",
       "      <td>Fintech for farmers</td>\n",
       "      <td>2021.0</td>\n",
       "      <td>Nairobi</td>\n",
       "      <td>https://radava.co/</td>\n",
       "      <td>Agri-commodity exchange market</td>\n",
       "      <td>NaN</td>\n",
       "      <td>No</td>\n",
       "      <td>Yes</td>\n",
       "      <td>3.0</td>\n",
       "    </tr>\n",
       "    <tr>\n",
       "      <th>151</th>\n",
       "      <td>Raino Tech4Impact</td>\n",
       "      <td>Agri-tech</td>\n",
       "      <td>Farm and supply chain management</td>\n",
       "      <td>2019.0</td>\n",
       "      <td>Nairobi</td>\n",
       "      <td>https://www.raino.co.ke/about/#</td>\n",
       "      <td>Cold chain solutions</td>\n",
       "      <td>NaN</td>\n",
       "      <td>No</td>\n",
       "      <td>Yes</td>\n",
       "      <td>17.0</td>\n",
       "    </tr>\n",
       "    <tr>\n",
       "      <th>152</th>\n",
       "      <td>Selina Wamucii</td>\n",
       "      <td>Agri-tech</td>\n",
       "      <td>E-commerce</td>\n",
       "      <td>2015.0</td>\n",
       "      <td>Nairobi</td>\n",
       "      <td>https://www.selinawamucii.com/</td>\n",
       "      <td>Online platform for fresh farm produce</td>\n",
       "      <td>NaN</td>\n",
       "      <td>No</td>\n",
       "      <td>No</td>\n",
       "      <td>3.0</td>\n",
       "    </tr>\n",
       "    <tr>\n",
       "      <th>153</th>\n",
       "      <td>Shamba Pride</td>\n",
       "      <td>Agri-tech</td>\n",
       "      <td>Farm and supply chain management</td>\n",
       "      <td>2016.0</td>\n",
       "      <td>Nairobi</td>\n",
       "      <td>https://shambapride.com/</td>\n",
       "      <td>Supply chain management platform</td>\n",
       "      <td>NaN</td>\n",
       "      <td>No</td>\n",
       "      <td>Yes</td>\n",
       "      <td>19.0</td>\n",
       "    </tr>\n",
       "    <tr>\n",
       "      <th>154</th>\n",
       "      <td>Shamba Records</td>\n",
       "      <td>Agri-tech</td>\n",
       "      <td>Farm and supply chain management</td>\n",
       "      <td>2017.0</td>\n",
       "      <td>Nairobi</td>\n",
       "      <td>https://shambarecords.co.ke/</td>\n",
       "      <td>AI and blockchain based farm management platform</td>\n",
       "      <td>NaN</td>\n",
       "      <td>No</td>\n",
       "      <td>No</td>\n",
       "      <td>6.0</td>\n",
       "    </tr>\n",
       "    <tr>\n",
       "      <th>155</th>\n",
       "      <td>SolarFreeze</td>\n",
       "      <td>Agri-tech</td>\n",
       "      <td>Other</td>\n",
       "      <td>2017.0</td>\n",
       "      <td>Nairobi</td>\n",
       "      <td>http://www.solarfreeze.co.ke/</td>\n",
       "      <td>Solar-powered cold storage solutions for farmers</td>\n",
       "      <td>NaN</td>\n",
       "      <td>No</td>\n",
       "      <td>Yes</td>\n",
       "      <td>4.0</td>\n",
       "    </tr>\n",
       "    <tr>\n",
       "      <th>156</th>\n",
       "      <td>Synnefa</td>\n",
       "      <td>Agri-tech</td>\n",
       "      <td>AI / IoT for farmers</td>\n",
       "      <td>2013.0</td>\n",
       "      <td>Nairobi</td>\n",
       "      <td>https://www.synnefa.io/</td>\n",
       "      <td>Integrated solar powered farm automation syste...</td>\n",
       "      <td>NaN</td>\n",
       "      <td>No</td>\n",
       "      <td>Yes</td>\n",
       "      <td>15.0</td>\n",
       "    </tr>\n",
       "    <tr>\n",
       "      <th>157</th>\n",
       "      <td>Taimba</td>\n",
       "      <td>Agri-tech</td>\n",
       "      <td>E-commerce</td>\n",
       "      <td>2016.0</td>\n",
       "      <td>Nairobi</td>\n",
       "      <td>https://taimba.co.ke/</td>\n",
       "      <td>Business to business mobile-based cashless pla...</td>\n",
       "      <td>NaN</td>\n",
       "      <td>Yes</td>\n",
       "      <td>Yes</td>\n",
       "      <td>16.0</td>\n",
       "    </tr>\n",
       "    <tr>\n",
       "      <th>158</th>\n",
       "      <td>Twiga Foods</td>\n",
       "      <td>Agri-tech</td>\n",
       "      <td>Farm and supply chain management</td>\n",
       "      <td>2013.0</td>\n",
       "      <td>Nairobi</td>\n",
       "      <td>http://twigafoods.com/</td>\n",
       "      <td>Mobile business-to-business food supply platform</td>\n",
       "      <td>NaN</td>\n",
       "      <td>No</td>\n",
       "      <td>No</td>\n",
       "      <td>821.0</td>\n",
       "    </tr>\n",
       "    <tr>\n",
       "      <th>159</th>\n",
       "      <td>Ujuzi Kilimo</td>\n",
       "      <td>Agri-tech</td>\n",
       "      <td>AI / IoT for farmers</td>\n",
       "      <td>2016.0</td>\n",
       "      <td>Nairobi</td>\n",
       "      <td>http://www.ujuzikilimo.com/</td>\n",
       "      <td>IoT and data monitoring solution for farmers</td>\n",
       "      <td>NaN</td>\n",
       "      <td>No</td>\n",
       "      <td>Yes</td>\n",
       "      <td>5.0</td>\n",
       "    </tr>\n",
       "    <tr>\n",
       "      <th>160</th>\n",
       "      <td>WeFarm</td>\n",
       "      <td>Agri-tech</td>\n",
       "      <td>Information and knowledge sharing</td>\n",
       "      <td>2014.0</td>\n",
       "      <td>Nairobi</td>\n",
       "      <td>https://wefarm.org/</td>\n",
       "      <td>SMS-based peer-to-peer (P2P) farming informati...</td>\n",
       "      <td>NaN</td>\n",
       "      <td>No</td>\n",
       "      <td>No</td>\n",
       "      <td>55.0</td>\n",
       "    </tr>\n",
       "    <tr>\n",
       "      <th>161</th>\n",
       "      <td>NaN</td>\n",
       "      <td>NaN</td>\n",
       "      <td>NaN</td>\n",
       "      <td>NaN</td>\n",
       "      <td>NaN</td>\n",
       "      <td>NaN</td>\n",
       "      <td>NaN</td>\n",
       "      <td>NaN</td>\n",
       "      <td>NaN</td>\n",
       "      <td>NaN</td>\n",
       "      <td>NaN</td>\n",
       "    </tr>\n",
       "    <tr>\n",
       "      <th>162</th>\n",
       "      <td>Blockchain</td>\n",
       "      <td>NaN</td>\n",
       "      <td>NaN</td>\n",
       "      <td>NaN</td>\n",
       "      <td>NaN</td>\n",
       "      <td>NaN</td>\n",
       "      <td>NaN</td>\n",
       "      <td>NaN</td>\n",
       "      <td>NaN</td>\n",
       "      <td>NaN</td>\n",
       "      <td>NaN</td>\n",
       "    </tr>\n",
       "    <tr>\n",
       "      <th>163</th>\n",
       "      <td>AZA Finance</td>\n",
       "      <td>Fintech</td>\n",
       "      <td>Payments and remittances</td>\n",
       "      <td>2013.0</td>\n",
       "      <td>Nairobi</td>\n",
       "      <td>https://www.azafinance.com/</td>\n",
       "      <td>International money transfer service</td>\n",
       "      <td>NaN</td>\n",
       "      <td>Yes</td>\n",
       "      <td>No</td>\n",
       "      <td>218.0</td>\n",
       "    </tr>\n",
       "    <tr>\n",
       "      <th>164</th>\n",
       "      <td>Bismart</td>\n",
       "      <td>Fintech</td>\n",
       "      <td>Insurtech</td>\n",
       "      <td>2017.0</td>\n",
       "      <td>Nairobi</td>\n",
       "      <td>https://bismart.co.ke</td>\n",
       "      <td>Digital insurance platform</td>\n",
       "      <td>NaN</td>\n",
       "      <td>Yes</td>\n",
       "      <td>No</td>\n",
       "      <td>8.0</td>\n",
       "    </tr>\n",
       "    <tr>\n",
       "      <th>165</th>\n",
       "      <td>BitLipa</td>\n",
       "      <td>Fintech</td>\n",
       "      <td>Payments and remittances</td>\n",
       "      <td>2019.0</td>\n",
       "      <td>Nairobi</td>\n",
       "      <td>https://www.bitlipa.com/</td>\n",
       "      <td>Crypto payments platform</td>\n",
       "      <td>NaN</td>\n",
       "      <td>No</td>\n",
       "      <td>No</td>\n",
       "      <td>11.0</td>\n",
       "    </tr>\n",
       "    <tr>\n",
       "      <th>166</th>\n",
       "      <td>Bitsoko</td>\n",
       "      <td>Fintech</td>\n",
       "      <td>Blockchain</td>\n",
       "      <td>2013.0</td>\n",
       "      <td>Nairobi</td>\n",
       "      <td>https://bitsoko.wordpress.com/</td>\n",
       "      <td>Blockchain-based solutions for small businesses</td>\n",
       "      <td>NaN</td>\n",
       "      <td>No</td>\n",
       "      <td>No</td>\n",
       "      <td>1.0</td>\n",
       "    </tr>\n",
       "    <tr>\n",
       "      <th>167</th>\n",
       "      <td>Crypsense</td>\n",
       "      <td>Fintech</td>\n",
       "      <td>Blockchain</td>\n",
       "      <td>2022.0</td>\n",
       "      <td>Nairobi</td>\n",
       "      <td>https://www.crypsense.io/</td>\n",
       "      <td>Digital assets management platform</td>\n",
       "      <td>NaN</td>\n",
       "      <td>Yes</td>\n",
       "      <td>Yes</td>\n",
       "      <td>7.0</td>\n",
       "    </tr>\n",
       "    <tr>\n",
       "      <th>168</th>\n",
       "      <td>Kotani Pay</td>\n",
       "      <td>Fintech</td>\n",
       "      <td>Payments and remittances</td>\n",
       "      <td>2020.0</td>\n",
       "      <td>Nairobi</td>\n",
       "      <td>https://kotanipay.com/</td>\n",
       "      <td>Blockchain-based payments platform</td>\n",
       "      <td>NaN</td>\n",
       "      <td>No</td>\n",
       "      <td>Yes</td>\n",
       "      <td>12.0</td>\n",
       "    </tr>\n",
       "    <tr>\n",
       "      <th>169</th>\n",
       "      <td>Lakt</td>\n",
       "      <td>Fintech</td>\n",
       "      <td>Personal finance</td>\n",
       "      <td>2016.0</td>\n",
       "      <td>Nairobi</td>\n",
       "      <td>http://lakt.io/</td>\n",
       "      <td>Savings and investments platform</td>\n",
       "      <td>NaN</td>\n",
       "      <td>No</td>\n",
       "      <td>Yes</td>\n",
       "      <td>1.0</td>\n",
       "    </tr>\n",
       "    <tr>\n",
       "      <th>170</th>\n",
       "      <td>Nash</td>\n",
       "      <td>Fintech</td>\n",
       "      <td>Business admin</td>\n",
       "      <td>2020.0</td>\n",
       "      <td>Nairobi</td>\n",
       "      <td>https://www.nasheq.co/</td>\n",
       "      <td>Business management platform</td>\n",
       "      <td>NaN</td>\n",
       "      <td>No</td>\n",
       "      <td>Yes</td>\n",
       "      <td>16.0</td>\n",
       "    </tr>\n",
       "    <tr>\n",
       "      <th>171</th>\n",
       "      <td>Pesabase</td>\n",
       "      <td>Fintech</td>\n",
       "      <td>Payments and remittances</td>\n",
       "      <td>2017.0</td>\n",
       "      <td>Nairobi</td>\n",
       "      <td>https://www.pesabase.com/</td>\n",
       "      <td>Payments platform</td>\n",
       "      <td>NaN</td>\n",
       "      <td>No</td>\n",
       "      <td>Yes</td>\n",
       "      <td>8.0</td>\n",
       "    </tr>\n",
       "    <tr>\n",
       "      <th>172</th>\n",
       "      <td>Pezesha</td>\n",
       "      <td>Fintech</td>\n",
       "      <td>Lending and financing</td>\n",
       "      <td>2016.0</td>\n",
       "      <td>Nairobi</td>\n",
       "      <td>http://pezesha.com/</td>\n",
       "      <td>SME financing platform</td>\n",
       "      <td>NaN</td>\n",
       "      <td>Yes</td>\n",
       "      <td>Yes</td>\n",
       "      <td>47.0</td>\n",
       "    </tr>\n",
       "    <tr>\n",
       "      <th>173</th>\n",
       "      <td>Raise</td>\n",
       "      <td>Fintech</td>\n",
       "      <td>Investtech</td>\n",
       "      <td>2020.0</td>\n",
       "      <td>Nairobi</td>\n",
       "      <td>https://www.getraise.io/</td>\n",
       "      <td>Startup fundraising platform</td>\n",
       "      <td>NaN</td>\n",
       "      <td>No</td>\n",
       "      <td>Yes</td>\n",
       "      <td>16.0</td>\n",
       "    </tr>\n",
       "    <tr>\n",
       "      <th>174</th>\n",
       "      <td>Zagace</td>\n",
       "      <td>Fintech</td>\n",
       "      <td>Business admin</td>\n",
       "      <td>2013.0</td>\n",
       "      <td>Nairobi</td>\n",
       "      <td>https://zagace.com/</td>\n",
       "      <td>Business management platform</td>\n",
       "      <td>NaN</td>\n",
       "      <td>No</td>\n",
       "      <td>No</td>\n",
       "      <td>2.0</td>\n",
       "    </tr>\n",
       "    <tr>\n",
       "      <th>175</th>\n",
       "      <td>Afya Rekod</td>\n",
       "      <td>E-health</td>\n",
       "      <td>EHR</td>\n",
       "      <td>2020.0</td>\n",
       "      <td>Nairobi</td>\n",
       "      <td>https://www.afyarekod.com/home</td>\n",
       "      <td>EHR solutions</td>\n",
       "      <td>NaN</td>\n",
       "      <td>No</td>\n",
       "      <td>No</td>\n",
       "      <td>27.0</td>\n",
       "    </tr>\n",
       "    <tr>\n",
       "      <th>176</th>\n",
       "      <td>M-TIBA</td>\n",
       "      <td>E-health</td>\n",
       "      <td>Health Insurance</td>\n",
       "      <td>2014.0</td>\n",
       "      <td>Mombasa</td>\n",
       "      <td>https://mtiba.com/go/</td>\n",
       "      <td>Health insurance service</td>\n",
       "      <td>NaN</td>\n",
       "      <td>No</td>\n",
       "      <td>No</td>\n",
       "      <td>114.0</td>\n",
       "    </tr>\n",
       "    <tr>\n",
       "      <th>177</th>\n",
       "      <td>myDAWA</td>\n",
       "      <td>E-health</td>\n",
       "      <td>Other</td>\n",
       "      <td>2016.0</td>\n",
       "      <td>Nairobi</td>\n",
       "      <td>https://mydawa.com/#/home</td>\n",
       "      <td>Medicine purchasing</td>\n",
       "      <td>NaN</td>\n",
       "      <td>No</td>\n",
       "      <td>No</td>\n",
       "      <td>45.0</td>\n",
       "    </tr>\n",
       "    <tr>\n",
       "      <th>178</th>\n",
       "      <td>Nurse In Hand</td>\n",
       "      <td>E-health</td>\n",
       "      <td>Emergency response</td>\n",
       "      <td>2017.0</td>\n",
       "      <td>Nairobi</td>\n",
       "      <td>https://nurseinhand.com/</td>\n",
       "      <td>Emergency response service</td>\n",
       "      <td>NaN</td>\n",
       "      <td>Yes</td>\n",
       "      <td>Yes</td>\n",
       "      <td>3.0</td>\n",
       "    </tr>\n",
       "    <tr>\n",
       "      <th>179</th>\n",
       "      <td>Snark Health</td>\n",
       "      <td>E-health</td>\n",
       "      <td>Health info / Virtual Healthcare</td>\n",
       "      <td>2018.0</td>\n",
       "      <td>Nairobi</td>\n",
       "      <td>https://snarkhealth.com/</td>\n",
       "      <td>Virtual healthcare platform</td>\n",
       "      <td>NaN</td>\n",
       "      <td>No</td>\n",
       "      <td>Yes</td>\n",
       "      <td>3.0</td>\n",
       "    </tr>\n",
       "    <tr>\n",
       "      <th>180</th>\n",
       "      <td>Uthabiti</td>\n",
       "      <td>E-health</td>\n",
       "      <td>Other</td>\n",
       "      <td>2015.0</td>\n",
       "      <td>Nairobi</td>\n",
       "      <td>https://uthabiti.org/</td>\n",
       "      <td>Blockchain-based drug verification platform</td>\n",
       "      <td>NaN</td>\n",
       "      <td>No</td>\n",
       "      <td>No</td>\n",
       "      <td>13.0</td>\n",
       "    </tr>\n",
       "    <tr>\n",
       "      <th>181</th>\n",
       "      <td>Annona</td>\n",
       "      <td>Agri-tech</td>\n",
       "      <td>Farm and supply chain management</td>\n",
       "      <td>2015.0</td>\n",
       "      <td>Nairobi</td>\n",
       "      <td>https://annona.co/</td>\n",
       "      <td>Online farmer management software for global f...</td>\n",
       "      <td>NaN</td>\n",
       "      <td>No</td>\n",
       "      <td>Yes</td>\n",
       "      <td>2.0</td>\n",
       "    </tr>\n",
       "    <tr>\n",
       "      <th>182</th>\n",
       "      <td>Farmshine</td>\n",
       "      <td>Agri-tech</td>\n",
       "      <td>E-commerce</td>\n",
       "      <td>2017.0</td>\n",
       "      <td>Nairobi</td>\n",
       "      <td>https://www.farmshine.io/</td>\n",
       "      <td>Connect farmers to markets</td>\n",
       "      <td>NaN</td>\n",
       "      <td>No</td>\n",
       "      <td>Yes</td>\n",
       "      <td>3.0</td>\n",
       "    </tr>\n",
       "    <tr>\n",
       "      <th>183</th>\n",
       "      <td>Pula</td>\n",
       "      <td>Agri-tech</td>\n",
       "      <td>Fintech for farmers</td>\n",
       "      <td>2014.0</td>\n",
       "      <td>Nairobi</td>\n",
       "      <td>https://www.pula-advisors.com/</td>\n",
       "      <td>Agricultural insurance platform</td>\n",
       "      <td>NaN</td>\n",
       "      <td>Yes</td>\n",
       "      <td>No</td>\n",
       "      <td>224.0</td>\n",
       "    </tr>\n",
       "    <tr>\n",
       "      <th>184</th>\n",
       "      <td>Shamba Records</td>\n",
       "      <td>Agri-tech</td>\n",
       "      <td>Farm and supply chain management</td>\n",
       "      <td>2017.0</td>\n",
       "      <td>Nairobi</td>\n",
       "      <td>https://shambarecords.co.ke/</td>\n",
       "      <td>AI and blockchain based farm management platform</td>\n",
       "      <td>NaN</td>\n",
       "      <td>No</td>\n",
       "      <td>No</td>\n",
       "      <td>6.0</td>\n",
       "    </tr>\n",
       "    <tr>\n",
       "      <th>185</th>\n",
       "      <td>Twiga Foods</td>\n",
       "      <td>Agri-tech</td>\n",
       "      <td>Farm and supply chain management</td>\n",
       "      <td>2013.0</td>\n",
       "      <td>Nairobi</td>\n",
       "      <td>http://twigafoods.com/</td>\n",
       "      <td>Mobile business-to-business food supply platform</td>\n",
       "      <td>NaN</td>\n",
       "      <td>No</td>\n",
       "      <td>No</td>\n",
       "      <td>821.0</td>\n",
       "    </tr>\n",
       "    <tr>\n",
       "      <th>186</th>\n",
       "      <td>Aircart</td>\n",
       "      <td>E-commerce and retail-tech</td>\n",
       "      <td>Multi-product</td>\n",
       "      <td>2021.0</td>\n",
       "      <td>Nairobi</td>\n",
       "      <td>https://www.aircart.app/</td>\n",
       "      <td>Digital products store</td>\n",
       "      <td>NaN</td>\n",
       "      <td>No</td>\n",
       "      <td>No</td>\n",
       "      <td>4.0</td>\n",
       "    </tr>\n",
       "    <tr>\n",
       "      <th>187</th>\n",
       "      <td>M-Post</td>\n",
       "      <td>Logistics</td>\n",
       "      <td>NaN</td>\n",
       "      <td>2016.0</td>\n",
       "      <td>Nairobi</td>\n",
       "      <td>http://www.mpost.co.ke/</td>\n",
       "      <td>Mobile addressing system</td>\n",
       "      <td>NaN</td>\n",
       "      <td>No</td>\n",
       "      <td>Yes</td>\n",
       "      <td>22.0</td>\n",
       "    </tr>\n",
       "    <tr>\n",
       "      <th>188</th>\n",
       "      <td>RippleNami</td>\n",
       "      <td>Logistics</td>\n",
       "      <td>NaN</td>\n",
       "      <td>2015.0</td>\n",
       "      <td>Nairobi</td>\n",
       "      <td>https://ripplenami.com/</td>\n",
       "      <td>Mapping solution</td>\n",
       "      <td>NaN</td>\n",
       "      <td>No</td>\n",
       "      <td>Yes</td>\n",
       "      <td>18.0</td>\n",
       "    </tr>\n",
       "    <tr>\n",
       "      <th>189</th>\n",
       "      <td>Gridless</td>\n",
       "      <td>Energy</td>\n",
       "      <td>NaN</td>\n",
       "      <td>2022.0</td>\n",
       "      <td>Nairobi</td>\n",
       "      <td>https://gridlesscompute.com/</td>\n",
       "      <td>Hydroelectric bitcoin mining</td>\n",
       "      <td>NaN</td>\n",
       "      <td>No</td>\n",
       "      <td>No</td>\n",
       "      <td>1.0</td>\n",
       "    </tr>\n",
       "    <tr>\n",
       "      <th>190</th>\n",
       "      <td>UTU</td>\n",
       "      <td>AI/IoT</td>\n",
       "      <td>NaN</td>\n",
       "      <td>2015.0</td>\n",
       "      <td>Nairobi</td>\n",
       "      <td>https://utu.io/</td>\n",
       "      <td>AI solutions for sharing economy, parent compa...</td>\n",
       "      <td>NaN</td>\n",
       "      <td>No</td>\n",
       "      <td>Yes</td>\n",
       "      <td>22.0</td>\n",
       "    </tr>\n",
       "    <tr>\n",
       "      <th>191</th>\n",
       "      <td>Ledja</td>\n",
       "      <td>Digital identity</td>\n",
       "      <td>NaN</td>\n",
       "      <td>2021.0</td>\n",
       "      <td>Nairobi</td>\n",
       "      <td>https://www.ledja.net/</td>\n",
       "      <td>Digital identity verification</td>\n",
       "      <td>NaN</td>\n",
       "      <td>No</td>\n",
       "      <td>Yes</td>\n",
       "      <td>1.0</td>\n",
       "    </tr>\n",
       "    <tr>\n",
       "      <th>192</th>\n",
       "      <td>Vibranium ID</td>\n",
       "      <td>Digital identity</td>\n",
       "      <td>NaN</td>\n",
       "      <td>2019.0</td>\n",
       "      <td>Nairobi</td>\n",
       "      <td>https://vibranium.id/</td>\n",
       "      <td>Portable personal ID</td>\n",
       "      <td>NaN</td>\n",
       "      <td>No</td>\n",
       "      <td>Yes</td>\n",
       "      <td>2.0</td>\n",
       "    </tr>\n",
       "    <tr>\n",
       "      <th>193</th>\n",
       "      <td>NaN</td>\n",
       "      <td>NaN</td>\n",
       "      <td>NaN</td>\n",
       "      <td>NaN</td>\n",
       "      <td>NaN</td>\n",
       "      <td>NaN</td>\n",
       "      <td>NaN</td>\n",
       "      <td>NaN</td>\n",
       "      <td>NaN</td>\n",
       "      <td>NaN</td>\n",
       "      <td>NaN</td>\n",
       "    </tr>\n",
       "    <tr>\n",
       "      <th>194</th>\n",
       "      <td>E-commerce and retail-tech</td>\n",
       "      <td>NaN</td>\n",
       "      <td>NaN</td>\n",
       "      <td>NaN</td>\n",
       "      <td>NaN</td>\n",
       "      <td>NaN</td>\n",
       "      <td>NaN</td>\n",
       "      <td>NaN</td>\n",
       "      <td>NaN</td>\n",
       "      <td>NaN</td>\n",
       "      <td>NaN</td>\n",
       "    </tr>\n",
       "    <tr>\n",
       "      <th>195</th>\n",
       "      <td>AfricaSokoni</td>\n",
       "      <td>E-commerce and retail-tech</td>\n",
       "      <td>Multi-product</td>\n",
       "      <td>2018.0</td>\n",
       "      <td>Nairobi</td>\n",
       "      <td>https://africasokoni.co.ke/</td>\n",
       "      <td>Multi-product e-commerce store</td>\n",
       "      <td>NaN</td>\n",
       "      <td>No</td>\n",
       "      <td>Yes</td>\n",
       "      <td>21.0</td>\n",
       "    </tr>\n",
       "    <tr>\n",
       "      <th>196</th>\n",
       "      <td>Aircart</td>\n",
       "      <td>E-commerce and retail-tech</td>\n",
       "      <td>Multi-product</td>\n",
       "      <td>2021.0</td>\n",
       "      <td>Nairobi</td>\n",
       "      <td>https://www.aircart.app/</td>\n",
       "      <td>Digital products store</td>\n",
       "      <td>NaN</td>\n",
       "      <td>No</td>\n",
       "      <td>No</td>\n",
       "      <td>4.0</td>\n",
       "    </tr>\n",
       "    <tr>\n",
       "      <th>197</th>\n",
       "      <td>ANDO</td>\n",
       "      <td>E-commerce and retail-tech</td>\n",
       "      <td>Food, drinks and groceries</td>\n",
       "      <td>2020.0</td>\n",
       "      <td>Nairobi</td>\n",
       "      <td>https://www.andofoods.co/</td>\n",
       "      <td>Food delivery platform</td>\n",
       "      <td>NaN</td>\n",
       "      <td>No</td>\n",
       "      <td>No</td>\n",
       "      <td>29.0</td>\n",
       "    </tr>\n",
       "    <tr>\n",
       "      <th>198</th>\n",
       "      <td>Badili</td>\n",
       "      <td>E-commerce and retail-tech</td>\n",
       "      <td>Electronics</td>\n",
       "      <td>2021.0</td>\n",
       "      <td>Nairobi</td>\n",
       "      <td>https://badili.africa/</td>\n",
       "      <td>Second-hand phone store</td>\n",
       "      <td>NaN</td>\n",
       "      <td>No</td>\n",
       "      <td>Yes</td>\n",
       "      <td>21.0</td>\n",
       "    </tr>\n",
       "    <tr>\n",
       "      <th>199</th>\n",
       "      <td>Bamba</td>\n",
       "      <td>E-commerce and retail-tech</td>\n",
       "      <td>Retail-tech</td>\n",
       "      <td>2022.0</td>\n",
       "      <td>Nairobi</td>\n",
       "      <td>https://getbamba.com/</td>\n",
       "      <td>Management app for micro-merchants</td>\n",
       "      <td>NaN</td>\n",
       "      <td>No</td>\n",
       "      <td>Yes</td>\n",
       "      <td>10.0</td>\n",
       "    </tr>\n",
       "    <tr>\n",
       "      <th>200</th>\n",
       "      <td>BuuPass</td>\n",
       "      <td>E-commerce and retail-tech</td>\n",
       "      <td>Other</td>\n",
       "      <td>2015.0</td>\n",
       "      <td>Nairobi</td>\n",
       "      <td>https://www.buupass.com/</td>\n",
       "      <td>Bus ticketing platform</td>\n",
       "      <td>NaN</td>\n",
       "      <td>No</td>\n",
       "      <td>Yes</td>\n",
       "      <td>20.0</td>\n",
       "    </tr>\n",
       "    <tr>\n",
       "      <th>201</th>\n",
       "      <td>Cartnshop</td>\n",
       "      <td>E-commerce and retail-tech</td>\n",
       "      <td>E-commerce facilitation</td>\n",
       "      <td>2018.0</td>\n",
       "      <td>Nairobi</td>\n",
       "      <td>https://cartnshop.com/</td>\n",
       "      <td>Online store builder</td>\n",
       "      <td>NaN</td>\n",
       "      <td>No</td>\n",
       "      <td>No</td>\n",
       "      <td>1.0</td>\n",
       "    </tr>\n",
       "    <tr>\n",
       "      <th>202</th>\n",
       "      <td>CashBackApp</td>\n",
       "      <td>E-commerce and retail-tech</td>\n",
       "      <td>E-commerce facilitation</td>\n",
       "      <td>2018.0</td>\n",
       "      <td>Nairobi</td>\n",
       "      <td>https://www.cashbackmobileapp.com/</td>\n",
       "      <td>Loyalty solution for merchants</td>\n",
       "      <td>NaN</td>\n",
       "      <td>No</td>\n",
       "      <td>Yes</td>\n",
       "      <td>9.0</td>\n",
       "    </tr>\n",
       "    <tr>\n",
       "      <th>203</th>\n",
       "      <td>Copia</td>\n",
       "      <td>E-commerce and retail-tech</td>\n",
       "      <td>Multi-product</td>\n",
       "      <td>2013.0</td>\n",
       "      <td>Nairobi</td>\n",
       "      <td>https://copiaglobal.com/</td>\n",
       "      <td>Shopping platform for BoP customers</td>\n",
       "      <td>NaN</td>\n",
       "      <td>No</td>\n",
       "      <td>No</td>\n",
       "      <td>516.0</td>\n",
       "    </tr>\n",
       "    <tr>\n",
       "      <th>204</th>\n",
       "      <td>DohYangu</td>\n",
       "      <td>E-commerce and retail-tech</td>\n",
       "      <td>E-commerce facilitation</td>\n",
       "      <td>2020.0</td>\n",
       "      <td>Nairobi</td>\n",
       "      <td>https://www.dohyangu.ke/</td>\n",
       "      <td>Cashback rewards platform</td>\n",
       "      <td>NaN</td>\n",
       "      <td>No</td>\n",
       "      <td>Yes</td>\n",
       "      <td>7.0</td>\n",
       "    </tr>\n",
       "    <tr>\n",
       "      <th>205</th>\n",
       "      <td>Duhqa</td>\n",
       "      <td>E-commerce and retail-tech</td>\n",
       "      <td>Retail-tech</td>\n",
       "      <td>2021.0</td>\n",
       "      <td>Nairobi</td>\n",
       "      <td>https://www.duhqa.com/</td>\n",
       "      <td>Connects retailers with manufacturers</td>\n",
       "      <td>NaN</td>\n",
       "      <td>No</td>\n",
       "      <td>Yes</td>\n",
       "      <td>33.0</td>\n",
       "    </tr>\n",
       "    <tr>\n",
       "      <th>206</th>\n",
       "      <td>Dukapepe</td>\n",
       "      <td>E-commerce and retail-tech</td>\n",
       "      <td>Retail-tech</td>\n",
       "      <td>2017.0</td>\n",
       "      <td>Nairobi</td>\n",
       "      <td>https://dukapepe.tech/</td>\n",
       "      <td>Connects retailers with FMCGs companies</td>\n",
       "      <td>NaN</td>\n",
       "      <td>Yes</td>\n",
       "      <td>Yes</td>\n",
       "      <td>9.0</td>\n",
       "    </tr>\n",
       "    <tr>\n",
       "      <th>207</th>\n",
       "      <td>Elloe</td>\n",
       "      <td>E-commerce and retail-tech</td>\n",
       "      <td>E-commerce facilitation</td>\n",
       "      <td>2021.0</td>\n",
       "      <td>Nairobi</td>\n",
       "      <td>https://elloe.ai/</td>\n",
       "      <td>AI-powered conversational commerce platform</td>\n",
       "      <td>NaN</td>\n",
       "      <td>Yes</td>\n",
       "      <td>No</td>\n",
       "      <td>11.0</td>\n",
       "    </tr>\n",
       "    <tr>\n",
       "      <th>208</th>\n",
       "      <td>MarketForce</td>\n",
       "      <td>E-commerce and retail-tech</td>\n",
       "      <td>E-commerce facilitation</td>\n",
       "      <td>2018.0</td>\n",
       "      <td>Nairobi</td>\n",
       "      <td>https://www.marketforce360.com/</td>\n",
       "      <td>Operating system for informal retailers</td>\n",
       "      <td>NaN</td>\n",
       "      <td>No</td>\n",
       "      <td>Yes</td>\n",
       "      <td>269.0</td>\n",
       "    </tr>\n",
       "    <tr>\n",
       "      <th>209</th>\n",
       "      <td>Mawu Africa</td>\n",
       "      <td>E-commerce and retail-tech</td>\n",
       "      <td>Other</td>\n",
       "      <td>2021.0</td>\n",
       "      <td>Nairobi</td>\n",
       "      <td>https://mawuafrica.com/</td>\n",
       "      <td>Art marketplace</td>\n",
       "      <td>NaN</td>\n",
       "      <td>Yes</td>\n",
       "      <td>No</td>\n",
       "      <td>2.0</td>\n",
       "    </tr>\n",
       "    <tr>\n",
       "      <th>210</th>\n",
       "      <td>Mobiticket</td>\n",
       "      <td>E-commerce and retail-tech</td>\n",
       "      <td>Other</td>\n",
       "      <td>2017.0</td>\n",
       "      <td>Nairobi</td>\n",
       "      <td>http://mobiticket.co.ke/</td>\n",
       "      <td>Ticketing platform</td>\n",
       "      <td>NaN</td>\n",
       "      <td>No</td>\n",
       "      <td>No</td>\n",
       "      <td>4.0</td>\n",
       "    </tr>\n",
       "    <tr>\n",
       "      <th>211</th>\n",
       "      <td>Olivinetech</td>\n",
       "      <td>E-commerce and retail-tech</td>\n",
       "      <td>Retail-tech</td>\n",
       "      <td>2010.0</td>\n",
       "      <td>Nairobi</td>\n",
       "      <td>https://www.olivinetech.com/</td>\n",
       "      <td>Retail management platform</td>\n",
       "      <td>NaN</td>\n",
       "      <td>No</td>\n",
       "      <td>Yes</td>\n",
       "      <td>4.0</td>\n",
       "    </tr>\n",
       "    <tr>\n",
       "      <th>212</th>\n",
       "      <td>PesaPoint</td>\n",
       "      <td>E-commerce and retail-tech</td>\n",
       "      <td>Multi-product</td>\n",
       "      <td>2010.0</td>\n",
       "      <td>Nairobi</td>\n",
       "      <td>http://www.pesapoint.co.ke/</td>\n",
       "      <td>Digital products store</td>\n",
       "      <td>NaN</td>\n",
       "      <td>No</td>\n",
       "      <td>No</td>\n",
       "      <td>11.0</td>\n",
       "    </tr>\n",
       "    <tr>\n",
       "      <th>213</th>\n",
       "      <td>Side</td>\n",
       "      <td>E-commerce and retail-tech</td>\n",
       "      <td>Multi-product</td>\n",
       "      <td>2021.0</td>\n",
       "      <td>Nairobi</td>\n",
       "      <td>https://side.africa/</td>\n",
       "      <td>Product marketplace</td>\n",
       "      <td>NaN</td>\n",
       "      <td>No</td>\n",
       "      <td>Yes</td>\n",
       "      <td>1.0</td>\n",
       "    </tr>\n",
       "    <tr>\n",
       "      <th>214</th>\n",
       "      <td>Soko</td>\n",
       "      <td>E-commerce and retail-tech</td>\n",
       "      <td>Apparel &amp; Accessories</td>\n",
       "      <td>2011.0</td>\n",
       "      <td>Nairobi</td>\n",
       "      <td>https://shopsoko.com/</td>\n",
       "      <td>Clothing and jewellery store</td>\n",
       "      <td>NaN</td>\n",
       "      <td>Yes</td>\n",
       "      <td>Yes</td>\n",
       "      <td>13.0</td>\n",
       "    </tr>\n",
       "    <tr>\n",
       "      <th>215</th>\n",
       "      <td>Sukhiba</td>\n",
       "      <td>E-commerce and retail-tech</td>\n",
       "      <td>Multi-product</td>\n",
       "      <td>2020.0</td>\n",
       "      <td>Nairobi</td>\n",
       "      <td>https://www.landing.sukhiba.com/</td>\n",
       "      <td>Community shopping platform</td>\n",
       "      <td>NaN</td>\n",
       "      <td>No</td>\n",
       "      <td>Yes</td>\n",
       "      <td>19.0</td>\n",
       "    </tr>\n",
       "    <tr>\n",
       "      <th>216</th>\n",
       "      <td>TopUp Mama</td>\n",
       "      <td>E-commerce and retail-tech</td>\n",
       "      <td>Retail-tech</td>\n",
       "      <td>2021.0</td>\n",
       "      <td>Nairobi</td>\n",
       "      <td>https://www.topupmama.com/</td>\n",
       "      <td>Restaurant supply platform</td>\n",
       "      <td>NaN</td>\n",
       "      <td>No</td>\n",
       "      <td>Yes</td>\n",
       "      <td>53.0</td>\n",
       "    </tr>\n",
       "    <tr>\n",
       "      <th>217</th>\n",
       "      <td>Tushop</td>\n",
       "      <td>E-commerce and retail-tech</td>\n",
       "      <td>Multi-product</td>\n",
       "      <td>2021.0</td>\n",
       "      <td>Nairobi</td>\n",
       "      <td>https://tushop.io/</td>\n",
       "      <td>Group buying platform</td>\n",
       "      <td>NaN</td>\n",
       "      <td>No</td>\n",
       "      <td>No</td>\n",
       "      <td>23.0</td>\n",
       "    </tr>\n",
       "    <tr>\n",
       "      <th>218</th>\n",
       "      <td>Twiva</td>\n",
       "      <td>E-commerce and retail-tech</td>\n",
       "      <td>Multi-product</td>\n",
       "      <td>2020.0</td>\n",
       "      <td>Nairobi</td>\n",
       "      <td>https://twiva.co.ke/</td>\n",
       "      <td>Influencer powered commerce platform</td>\n",
       "      <td>NaN</td>\n",
       "      <td>No</td>\n",
       "      <td>Yes</td>\n",
       "      <td>13.0</td>\n",
       "    </tr>\n",
       "    <tr>\n",
       "      <th>219</th>\n",
       "      <td>Uncover Skincare</td>\n",
       "      <td>E-commerce and retail-tech</td>\n",
       "      <td>Other</td>\n",
       "      <td>2020.0</td>\n",
       "      <td>Nairobi</td>\n",
       "      <td>https://uncoverskincare.co/</td>\n",
       "      <td>Beauty commerce platform</td>\n",
       "      <td>NaN</td>\n",
       "      <td>Yes</td>\n",
       "      <td>Yes</td>\n",
       "      <td>17.0</td>\n",
       "    </tr>\n",
       "    <tr>\n",
       "      <th>220</th>\n",
       "      <td>Wasoko</td>\n",
       "      <td>E-commerce and retail-tech</td>\n",
       "      <td>Retail-tech</td>\n",
       "      <td>2013.0</td>\n",
       "      <td>Nairobi</td>\n",
       "      <td>https://wasoko.com/</td>\n",
       "      <td>On-demand distribution to independent retailers</td>\n",
       "      <td>NaN</td>\n",
       "      <td>No</td>\n",
       "      <td>Yes</td>\n",
       "      <td>607.0</td>\n",
       "    </tr>\n",
       "    <tr>\n",
       "      <th>221</th>\n",
       "      <td>Weddings Kenya</td>\n",
       "      <td>E-commerce and retail-tech</td>\n",
       "      <td>Other</td>\n",
       "      <td>2008.0</td>\n",
       "      <td>Nairobi</td>\n",
       "      <td>http://weddingskenya.com/</td>\n",
       "      <td>Marketplace for wedding vendors</td>\n",
       "      <td>NaN</td>\n",
       "      <td>Yes</td>\n",
       "      <td>No</td>\n",
       "      <td>2.0</td>\n",
       "    </tr>\n",
       "    <tr>\n",
       "      <th>222</th>\n",
       "      <td>Yum</td>\n",
       "      <td>E-commerce and retail-tech</td>\n",
       "      <td>Food, drinks and groceries</td>\n",
       "      <td>2012.0</td>\n",
       "      <td>Nairobi</td>\n",
       "      <td>https://yum.co.ke/</td>\n",
       "      <td>Food delivery platform</td>\n",
       "      <td>NaN</td>\n",
       "      <td>No</td>\n",
       "      <td>Yes</td>\n",
       "      <td>26.0</td>\n",
       "    </tr>\n",
       "    <tr>\n",
       "      <th>223</th>\n",
       "      <td>ZUMI</td>\n",
       "      <td>E-commerce and retail-tech</td>\n",
       "      <td>Apparel &amp; Accessories</td>\n",
       "      <td>2016.0</td>\n",
       "      <td>Nairobi</td>\n",
       "      <td>http://www.zumi.co.ke/</td>\n",
       "      <td>Digital media platform for fashion</td>\n",
       "      <td>NaN</td>\n",
       "      <td>No</td>\n",
       "      <td>Yes</td>\n",
       "      <td>60.0</td>\n",
       "    </tr>\n",
       "    <tr>\n",
       "      <th>224</th>\n",
       "      <td>NaN</td>\n",
       "      <td>NaN</td>\n",
       "      <td>NaN</td>\n",
       "      <td>NaN</td>\n",
       "      <td>NaN</td>\n",
       "      <td>NaN</td>\n",
       "      <td>NaN</td>\n",
       "      <td>NaN</td>\n",
       "      <td>NaN</td>\n",
       "      <td>NaN</td>\n",
       "      <td>NaN</td>\n",
       "    </tr>\n",
       "    <tr>\n",
       "      <th>225</th>\n",
       "      <td>Recruitment &amp; HR</td>\n",
       "      <td>NaN</td>\n",
       "      <td>NaN</td>\n",
       "      <td>NaN</td>\n",
       "      <td>NaN</td>\n",
       "      <td>NaN</td>\n",
       "      <td>NaN</td>\n",
       "      <td>NaN</td>\n",
       "      <td>NaN</td>\n",
       "      <td>NaN</td>\n",
       "      <td>NaN</td>\n",
       "    </tr>\n",
       "    <tr>\n",
       "      <th>226</th>\n",
       "      <td>CampusBiz</td>\n",
       "      <td>Recruitment and HR</td>\n",
       "      <td>NaN</td>\n",
       "      <td>2017.0</td>\n",
       "      <td>Nairobi</td>\n",
       "      <td>campusbiz.co.ke</td>\n",
       "      <td>Job and internship platform for students</td>\n",
       "      <td>NaN</td>\n",
       "      <td>No</td>\n",
       "      <td>No</td>\n",
       "      <td>1.0</td>\n",
       "    </tr>\n",
       "    <tr>\n",
       "      <th>227</th>\n",
       "      <td>Duma Works</td>\n",
       "      <td>Recruitment and HR</td>\n",
       "      <td>NaN</td>\n",
       "      <td>2012.0</td>\n",
       "      <td>Nairobi</td>\n",
       "      <td>https://dumaworks.com/</td>\n",
       "      <td>Online and SMS based recruitment platform</td>\n",
       "      <td>NaN</td>\n",
       "      <td>Yes</td>\n",
       "      <td>Yes</td>\n",
       "      <td>20.0</td>\n",
       "    </tr>\n",
       "    <tr>\n",
       "      <th>228</th>\n",
       "      <td>FaidiHR</td>\n",
       "      <td>Recruitment and HR</td>\n",
       "      <td>NaN</td>\n",
       "      <td>2020.0</td>\n",
       "      <td>Nairobi</td>\n",
       "      <td>https://faidihr.com/</td>\n",
       "      <td>HR and payroll management system</td>\n",
       "      <td>NaN</td>\n",
       "      <td>Yes</td>\n",
       "      <td>No</td>\n",
       "      <td>8.0</td>\n",
       "    </tr>\n",
       "    <tr>\n",
       "      <th>229</th>\n",
       "      <td>Fundis</td>\n",
       "      <td>Recruitment and HR</td>\n",
       "      <td>NaN</td>\n",
       "      <td>2019.0</td>\n",
       "      <td>Nairobi</td>\n",
       "      <td>https://fundis.co.ke/</td>\n",
       "      <td>Find a craftsman platform</td>\n",
       "      <td>NaN</td>\n",
       "      <td>No</td>\n",
       "      <td>Yes</td>\n",
       "      <td>11.0</td>\n",
       "    </tr>\n",
       "    <tr>\n",
       "      <th>230</th>\n",
       "      <td>Fuzu</td>\n",
       "      <td>Recruitment and HR</td>\n",
       "      <td>NaN</td>\n",
       "      <td>2015.0</td>\n",
       "      <td>Nairobi</td>\n",
       "      <td>https://www.fuzu.com/</td>\n",
       "      <td>Career development and jobs platform</td>\n",
       "      <td>NaN</td>\n",
       "      <td>No</td>\n",
       "      <td>No</td>\n",
       "      <td>110.0</td>\n",
       "    </tr>\n",
       "    <tr>\n",
       "      <th>231</th>\n",
       "      <td>KaziNow</td>\n",
       "      <td>Recruitment and HR</td>\n",
       "      <td>NaN</td>\n",
       "      <td>2020.0</td>\n",
       "      <td>Nairobi</td>\n",
       "      <td>https://kazinow.ke/</td>\n",
       "      <td>Services marketplace</td>\n",
       "      <td>NaN</td>\n",
       "      <td>No</td>\n",
       "      <td>No</td>\n",
       "      <td>3.0</td>\n",
       "    </tr>\n",
       "    <tr>\n",
       "      <th>232</th>\n",
       "      <td>Kazi Remote</td>\n",
       "      <td>Recruitment and HR</td>\n",
       "      <td>NaN</td>\n",
       "      <td>2017.0</td>\n",
       "      <td>Nairobi</td>\n",
       "      <td>https://www.kaziremote.com/</td>\n",
       "      <td>Digital worker recruitment</td>\n",
       "      <td>NaN</td>\n",
       "      <td>Yes</td>\n",
       "      <td>Yes</td>\n",
       "      <td>1.0</td>\n",
       "    </tr>\n",
       "    <tr>\n",
       "      <th>233</th>\n",
       "      <td>LetaWera</td>\n",
       "      <td>Recruitment and HR</td>\n",
       "      <td>NaN</td>\n",
       "      <td>2020.0</td>\n",
       "      <td>Nairobi</td>\n",
       "      <td>https://letawera.com/</td>\n",
       "      <td>Gig provider platform</td>\n",
       "      <td>NaN</td>\n",
       "      <td>Yes</td>\n",
       "      <td>Yes</td>\n",
       "      <td>3.0</td>\n",
       "    </tr>\n",
       "    <tr>\n",
       "      <th>234</th>\n",
       "      <td>Kisafi</td>\n",
       "      <td>Recruitment and HR</td>\n",
       "      <td>NaN</td>\n",
       "      <td>2016.0</td>\n",
       "      <td>Nairobi</td>\n",
       "      <td>https://kisafi.com/</td>\n",
       "      <td>On-demand home cleaning service</td>\n",
       "      <td>NaN</td>\n",
       "      <td>Yes</td>\n",
       "      <td>Yes</td>\n",
       "      <td>4.0</td>\n",
       "    </tr>\n",
       "    <tr>\n",
       "      <th>235</th>\n",
       "      <td>Kuhustle</td>\n",
       "      <td>Recruitment and HR</td>\n",
       "      <td>NaN</td>\n",
       "      <td>2014.0</td>\n",
       "      <td>Nairobi</td>\n",
       "      <td>https://www.kuhustle.com/</td>\n",
       "      <td>Freelancing marketplace</td>\n",
       "      <td>NaN</td>\n",
       "      <td>No</td>\n",
       "      <td>Yes</td>\n",
       "      <td>18.0</td>\n",
       "    </tr>\n",
       "    <tr>\n",
       "      <th>236</th>\n",
       "      <td>Onesha</td>\n",
       "      <td>Recruitment and HR</td>\n",
       "      <td>NaN</td>\n",
       "      <td>2015.0</td>\n",
       "      <td>Nairobi</td>\n",
       "      <td>http://onesha.co.ke/</td>\n",
       "      <td>Marketplace for hiring creatives</td>\n",
       "      <td>NaN</td>\n",
       "      <td>No</td>\n",
       "      <td>Yes</td>\n",
       "      <td>19.0</td>\n",
       "    </tr>\n",
       "    <tr>\n",
       "      <th>237</th>\n",
       "      <td>Peleza</td>\n",
       "      <td>Recruitment and HR</td>\n",
       "      <td>NaN</td>\n",
       "      <td>2015.0</td>\n",
       "      <td>Nairobi</td>\n",
       "      <td>http://www.peleza.com/</td>\n",
       "      <td>Candidate background checking platform</td>\n",
       "      <td>NaN</td>\n",
       "      <td>No</td>\n",
       "      <td>Yes</td>\n",
       "      <td>22.0</td>\n",
       "    </tr>\n",
       "    <tr>\n",
       "      <th>238</th>\n",
       "      <td>SapamaERP</td>\n",
       "      <td>Recruitment and HR</td>\n",
       "      <td>NaN</td>\n",
       "      <td>2010.0</td>\n",
       "      <td>Nairobi</td>\n",
       "      <td>http://sapamaerp.com/</td>\n",
       "      <td>Cloud business management tool</td>\n",
       "      <td>NaN</td>\n",
       "      <td>No</td>\n",
       "      <td>No</td>\n",
       "      <td>8.0</td>\n",
       "    </tr>\n",
       "    <tr>\n",
       "      <th>239</th>\n",
       "      <td>SwiftAide</td>\n",
       "      <td>Recruitment and HR</td>\n",
       "      <td>NaN</td>\n",
       "      <td>2017.0</td>\n",
       "      <td>Nairobi</td>\n",
       "      <td>https://swiftaideapp.com/</td>\n",
       "      <td>Freelancing platform</td>\n",
       "      <td>NaN</td>\n",
       "      <td>No</td>\n",
       "      <td>No</td>\n",
       "      <td>1.0</td>\n",
       "    </tr>\n",
       "    <tr>\n",
       "      <th>240</th>\n",
       "      <td>TalentBoard</td>\n",
       "      <td>Recruitment and HR</td>\n",
       "      <td>NaN</td>\n",
       "      <td>2017.0</td>\n",
       "      <td>Nairobi</td>\n",
       "      <td>https://www.talentboard.co.ke/</td>\n",
       "      <td>Referral-based jobs platform</td>\n",
       "      <td>NaN</td>\n",
       "      <td>Yes</td>\n",
       "      <td>No</td>\n",
       "      <td>3.0</td>\n",
       "    </tr>\n",
       "    <tr>\n",
       "      <th>241</th>\n",
       "      <td>Tiny Titos</td>\n",
       "      <td>Recruitment and HR</td>\n",
       "      <td>NaN</td>\n",
       "      <td>2013.0</td>\n",
       "      <td>Nairobi</td>\n",
       "      <td>https://www.tinytotos.com/</td>\n",
       "      <td>Daycare platform</td>\n",
       "      <td>NaN</td>\n",
       "      <td>Yes</td>\n",
       "      <td>No</td>\n",
       "      <td>25.0</td>\n",
       "    </tr>\n",
       "    <tr>\n",
       "      <th>242</th>\n",
       "      <td>Uhired.me</td>\n",
       "      <td>Recruitment and HR</td>\n",
       "      <td>NaN</td>\n",
       "      <td>2012.0</td>\n",
       "      <td>Nairobi</td>\n",
       "      <td>http://www.uhired.me/</td>\n",
       "      <td>Recruitment and jobs platform for non-profits</td>\n",
       "      <td>NaN</td>\n",
       "      <td>No</td>\n",
       "      <td>No</td>\n",
       "      <td>2.0</td>\n",
       "    </tr>\n",
       "    <tr>\n",
       "      <th>243</th>\n",
       "      <td>WorkPay</td>\n",
       "      <td>Recruitment and HR</td>\n",
       "      <td>NaN</td>\n",
       "      <td>2017.0</td>\n",
       "      <td>Nairobi</td>\n",
       "      <td>https://myworkpay.com/</td>\n",
       "      <td>Cloud business management tool</td>\n",
       "      <td>NaN</td>\n",
       "      <td>No</td>\n",
       "      <td>Yes</td>\n",
       "      <td>64.0</td>\n",
       "    </tr>\n",
       "    <tr>\n",
       "      <th>244</th>\n",
       "      <td>Ziada</td>\n",
       "      <td>Recruitment and HR</td>\n",
       "      <td>NaN</td>\n",
       "      <td>2017.0</td>\n",
       "      <td>Nairobi</td>\n",
       "      <td>https://www.getziada.com/</td>\n",
       "      <td>Services marketplace</td>\n",
       "      <td>NaN</td>\n",
       "      <td>Yes</td>\n",
       "      <td>Yes</td>\n",
       "      <td>12.0</td>\n",
       "    </tr>\n",
       "    <tr>\n",
       "      <th>245</th>\n",
       "      <td>NaN</td>\n",
       "      <td>NaN</td>\n",
       "      <td>NaN</td>\n",
       "      <td>NaN</td>\n",
       "      <td>NaN</td>\n",
       "      <td>NaN</td>\n",
       "      <td>NaN</td>\n",
       "      <td>NaN</td>\n",
       "      <td>NaN</td>\n",
       "      <td>NaN</td>\n",
       "      <td>NaN</td>\n",
       "    </tr>\n",
       "    <tr>\n",
       "      <th>246</th>\n",
       "      <td>Ed-tech</td>\n",
       "      <td>NaN</td>\n",
       "      <td>NaN</td>\n",
       "      <td>NaN</td>\n",
       "      <td>NaN</td>\n",
       "      <td>NaN</td>\n",
       "      <td>NaN</td>\n",
       "      <td>NaN</td>\n",
       "      <td>NaN</td>\n",
       "      <td>NaN</td>\n",
       "      <td>NaN</td>\n",
       "    </tr>\n",
       "    <tr>\n",
       "      <th>247</th>\n",
       "      <td>African Management Institute</td>\n",
       "      <td>Ed-tech</td>\n",
       "      <td>Learner-facing educational platform</td>\n",
       "      <td>2013.0</td>\n",
       "      <td>Nairobi</td>\n",
       "      <td>https://www.africanmanagers.org/</td>\n",
       "      <td>Corporate education platform</td>\n",
       "      <td>NaN</td>\n",
       "      <td>No</td>\n",
       "      <td>No</td>\n",
       "      <td>95.0</td>\n",
       "    </tr>\n",
       "    <tr>\n",
       "      <th>248</th>\n",
       "      <td>Angaza Elimu</td>\n",
       "      <td>Ed-tech</td>\n",
       "      <td>Learning management systems</td>\n",
       "      <td>2016.0</td>\n",
       "      <td>Nairobi</td>\n",
       "      <td>https://angazaelimu.com/</td>\n",
       "      <td>Learning and school management platform</td>\n",
       "      <td>NaN</td>\n",
       "      <td>No</td>\n",
       "      <td>Yes</td>\n",
       "      <td>10.0</td>\n",
       "    </tr>\n",
       "    <tr>\n",
       "      <th>249</th>\n",
       "      <td>Arifu</td>\n",
       "      <td>Ed-tech</td>\n",
       "      <td>Learner-facing educational platform</td>\n",
       "      <td>2013.0</td>\n",
       "      <td>Nairobi</td>\n",
       "      <td>https://www.arifu.com/</td>\n",
       "      <td>Digital learning solution</td>\n",
       "      <td>NaN</td>\n",
       "      <td>No</td>\n",
       "      <td>Yes</td>\n",
       "      <td>36.0</td>\n",
       "    </tr>\n",
       "    <tr>\n",
       "      <th>250</th>\n",
       "      <td>Craydel</td>\n",
       "      <td>Ed-tech</td>\n",
       "      <td>Educational facilitator</td>\n",
       "      <td>2021.0</td>\n",
       "      <td>Nairobi</td>\n",
       "      <td>https://craydel.com/</td>\n",
       "      <td>University course finder</td>\n",
       "      <td>NaN</td>\n",
       "      <td>No</td>\n",
       "      <td>No</td>\n",
       "      <td>35.0</td>\n",
       "    </tr>\n",
       "    <tr>\n",
       "      <th>251</th>\n",
       "      <td>Dawati</td>\n",
       "      <td>Ed-tech</td>\n",
       "      <td>Learner-facing educational platform</td>\n",
       "      <td>2016.0</td>\n",
       "      <td>Nairobi</td>\n",
       "      <td>https://dawati.co.ke/</td>\n",
       "      <td>Learning platform</td>\n",
       "      <td>NaN</td>\n",
       "      <td>No</td>\n",
       "      <td>No</td>\n",
       "      <td>6.0</td>\n",
       "    </tr>\n",
       "    <tr>\n",
       "      <th>252</th>\n",
       "      <td>Elewa</td>\n",
       "      <td>Ed-tech</td>\n",
       "      <td>Learning management systems</td>\n",
       "      <td>2015.0</td>\n",
       "      <td>Nairobi</td>\n",
       "      <td>https://elewa.co.ke/</td>\n",
       "      <td>Learning and school management platform</td>\n",
       "      <td>NaN</td>\n",
       "      <td>No</td>\n",
       "      <td>Yes</td>\n",
       "      <td>32.0</td>\n",
       "    </tr>\n",
       "    <tr>\n",
       "      <th>253</th>\n",
       "      <td>Eneza Education</td>\n",
       "      <td>Ed-tech</td>\n",
       "      <td>Learner-facing educational platform</td>\n",
       "      <td>2012.0</td>\n",
       "      <td>Nairobi</td>\n",
       "      <td>http://enezaeducation.com</td>\n",
       "      <td>SMS and web-based learning tools</td>\n",
       "      <td>NaN</td>\n",
       "      <td>Yes</td>\n",
       "      <td>Yes</td>\n",
       "      <td>69.0</td>\n",
       "    </tr>\n",
       "    <tr>\n",
       "      <th>254</th>\n",
       "      <td>Kidato</td>\n",
       "      <td>Ed-tech</td>\n",
       "      <td>Learner-facing educational platform</td>\n",
       "      <td>2019.0</td>\n",
       "      <td>Nairobi</td>\n",
       "      <td>https://kidato.com/</td>\n",
       "      <td>Online school</td>\n",
       "      <td>NaN</td>\n",
       "      <td>No</td>\n",
       "      <td>Yes</td>\n",
       "      <td>9.0</td>\n",
       "    </tr>\n",
       "    <tr>\n",
       "      <th>255</th>\n",
       "      <td>Kytabu</td>\n",
       "      <td>Ed-tech</td>\n",
       "      <td>Educational facilitator</td>\n",
       "      <td>2012.0</td>\n",
       "      <td>Nairobi</td>\n",
       "      <td>http://kytabu.com/</td>\n",
       "      <td>Leasing application for textbooks</td>\n",
       "      <td>NaN</td>\n",
       "      <td>No</td>\n",
       "      <td>Yes</td>\n",
       "      <td>17.0</td>\n",
       "    </tr>\n",
       "    <tr>\n",
       "      <th>256</th>\n",
       "      <td>M-Lugha</td>\n",
       "      <td>Ed-tech</td>\n",
       "      <td>Learner-facing educational platform</td>\n",
       "      <td>2019.0</td>\n",
       "      <td>Nairobi</td>\n",
       "      <td>https://m-lugha.com/</td>\n",
       "      <td>Local language learning tool</td>\n",
       "      <td>NaN</td>\n",
       "      <td>No</td>\n",
       "      <td>No</td>\n",
       "      <td>2.0</td>\n",
       "    </tr>\n",
       "    <tr>\n",
       "      <th>257</th>\n",
       "      <td>M-Shule</td>\n",
       "      <td>Ed-tech</td>\n",
       "      <td>Learner-facing educational platform</td>\n",
       "      <td>2016.0</td>\n",
       "      <td>Nairobi</td>\n",
       "      <td>https://mshule.com/</td>\n",
       "      <td>Mobile learning platform for primary schools</td>\n",
       "      <td>NaN</td>\n",
       "      <td>Yes</td>\n",
       "      <td>No</td>\n",
       "      <td>10.0</td>\n",
       "    </tr>\n",
       "    <tr>\n",
       "      <th>258</th>\n",
       "      <td>M-Soma</td>\n",
       "      <td>Ed-tech</td>\n",
       "      <td>Learner-facing educational platform</td>\n",
       "      <td>2022.0</td>\n",
       "      <td>Nairobi</td>\n",
       "      <td>http://www.msoma.org/</td>\n",
       "      <td>Coding school</td>\n",
       "      <td>NaN</td>\n",
       "      <td>No</td>\n",
       "      <td>No</td>\n",
       "      <td>1.0</td>\n",
       "    </tr>\n",
       "    <tr>\n",
       "      <th>259</th>\n",
       "      <td>Moringa School</td>\n",
       "      <td>Ed-tech</td>\n",
       "      <td>Learner-facing educational platform</td>\n",
       "      <td>2014.0</td>\n",
       "      <td>Nairobi</td>\n",
       "      <td>https://moringaschool.com/</td>\n",
       "      <td>Coding school</td>\n",
       "      <td>NaN</td>\n",
       "      <td>Yes</td>\n",
       "      <td>No</td>\n",
       "      <td>269.0</td>\n",
       "    </tr>\n",
       "    <tr>\n",
       "      <th>260</th>\n",
       "      <td>mSwali</td>\n",
       "      <td>Ed-tech</td>\n",
       "      <td>Learner-facing educational platform</td>\n",
       "      <td>2020.0</td>\n",
       "      <td>Nairobi</td>\n",
       "      <td>https://mswali.co.ke/</td>\n",
       "      <td>Edutainment app</td>\n",
       "      <td>NaN</td>\n",
       "      <td>No</td>\n",
       "      <td>Yes</td>\n",
       "      <td>13.0</td>\n",
       "    </tr>\n",
       "    <tr>\n",
       "      <th>261</th>\n",
       "      <td>Sunrise</td>\n",
       "      <td>Ed-tech</td>\n",
       "      <td>Learner-facing educational platform</td>\n",
       "      <td>2021.0</td>\n",
       "      <td>Nairobi</td>\n",
       "      <td>https://sunrisehomeschooling.com/</td>\n",
       "      <td>Online school</td>\n",
       "      <td>NaN</td>\n",
       "      <td>No</td>\n",
       "      <td>No</td>\n",
       "      <td>1.0</td>\n",
       "    </tr>\n",
       "    <tr>\n",
       "      <th>262</th>\n",
       "      <td>Tustawi</td>\n",
       "      <td>Ed-tech</td>\n",
       "      <td>Learner-facing educational platform</td>\n",
       "      <td>2019.0</td>\n",
       "      <td>Nairobi</td>\n",
       "      <td>https://www.tustawi.com/</td>\n",
       "      <td>Business training provider</td>\n",
       "      <td>NaN</td>\n",
       "      <td>Yes</td>\n",
       "      <td>Yes</td>\n",
       "      <td>7.0</td>\n",
       "    </tr>\n",
       "    <tr>\n",
       "      <th>263</th>\n",
       "      <td>Yusudi</td>\n",
       "      <td>Ed-tech</td>\n",
       "      <td>Learner-facing educational platform</td>\n",
       "      <td>2016.0</td>\n",
       "      <td>Nairobi</td>\n",
       "      <td>http://www.yusudi.co/</td>\n",
       "      <td>Digital learning solution</td>\n",
       "      <td>NaN</td>\n",
       "      <td>No</td>\n",
       "      <td>No</td>\n",
       "      <td>108.0</td>\n",
       "    </tr>\n",
       "    <tr>\n",
       "      <th>264</th>\n",
       "      <td>Zydii</td>\n",
       "      <td>Ed-tech</td>\n",
       "      <td>Learner-facing educational platform</td>\n",
       "      <td>2016.0</td>\n",
       "      <td>Nairobi</td>\n",
       "      <td>https://zydii.com/</td>\n",
       "      <td>Business training provider</td>\n",
       "      <td>NaN</td>\n",
       "      <td>Yes</td>\n",
       "      <td>Yes</td>\n",
       "      <td>11.0</td>\n",
       "    </tr>\n",
       "    <tr>\n",
       "      <th>265</th>\n",
       "      <td>NaN</td>\n",
       "      <td>NaN</td>\n",
       "      <td>NaN</td>\n",
       "      <td>NaN</td>\n",
       "      <td>NaN</td>\n",
       "      <td>NaN</td>\n",
       "      <td>NaN</td>\n",
       "      <td>NaN</td>\n",
       "      <td>NaN</td>\n",
       "      <td>NaN</td>\n",
       "      <td>NaN</td>\n",
       "    </tr>\n",
       "    <tr>\n",
       "      <th>266</th>\n",
       "      <td>Logistics</td>\n",
       "      <td>NaN</td>\n",
       "      <td>NaN</td>\n",
       "      <td>NaN</td>\n",
       "      <td>NaN</td>\n",
       "      <td>NaN</td>\n",
       "      <td>NaN</td>\n",
       "      <td>NaN</td>\n",
       "      <td>NaN</td>\n",
       "      <td>NaN</td>\n",
       "      <td>NaN</td>\n",
       "    </tr>\n",
       "    <tr>\n",
       "      <th>267</th>\n",
       "      <td>Amitruck</td>\n",
       "      <td>Logistics</td>\n",
       "      <td>NaN</td>\n",
       "      <td>2019.0</td>\n",
       "      <td>Nairobi</td>\n",
       "      <td>https://www.amitruck.com/</td>\n",
       "      <td>Trucking logistics platform</td>\n",
       "      <td>NaN</td>\n",
       "      <td>No</td>\n",
       "      <td>Yes</td>\n",
       "      <td>67.0</td>\n",
       "    </tr>\n",
       "    <tr>\n",
       "      <th>268</th>\n",
       "      <td>Ayazona</td>\n",
       "      <td>Logistics</td>\n",
       "      <td>NaN</td>\n",
       "      <td>2020.0</td>\n",
       "      <td>Nairobi</td>\n",
       "      <td>https://ayazona.com/</td>\n",
       "      <td>Food delivery</td>\n",
       "      <td>NaN</td>\n",
       "      <td>No</td>\n",
       "      <td>No</td>\n",
       "      <td>2.0</td>\n",
       "    </tr>\n",
       "    <tr>\n",
       "      <th>269</th>\n",
       "      <td>Fleetsimplify</td>\n",
       "      <td>Logistics</td>\n",
       "      <td>NaN</td>\n",
       "      <td>2018.0</td>\n",
       "      <td>Nairobi</td>\n",
       "      <td>https://fleetsimplify.com/</td>\n",
       "      <td>Trucking logistics platform</td>\n",
       "      <td>NaN</td>\n",
       "      <td>No</td>\n",
       "      <td>No</td>\n",
       "      <td>10.0</td>\n",
       "    </tr>\n",
       "    <tr>\n",
       "      <th>270</th>\n",
       "      <td>GoBeba</td>\n",
       "      <td>Logistics</td>\n",
       "      <td>NaN</td>\n",
       "      <td>2019.0</td>\n",
       "      <td>Nairobi</td>\n",
       "      <td>https://www.gobeba.com/</td>\n",
       "      <td>Delivery of household essentials</td>\n",
       "      <td>NaN</td>\n",
       "      <td>No</td>\n",
       "      <td>Yes</td>\n",
       "      <td>10.0</td>\n",
       "    </tr>\n",
       "    <tr>\n",
       "      <th>271</th>\n",
       "      <td>Logistify AI</td>\n",
       "      <td>Logistics</td>\n",
       "      <td>NaN</td>\n",
       "      <td>2019.0</td>\n",
       "      <td>Nairobi</td>\n",
       "      <td>https://www.logistify.ai/</td>\n",
       "      <td>Inventory management</td>\n",
       "      <td>NaN</td>\n",
       "      <td>No</td>\n",
       "      <td>Yes</td>\n",
       "      <td>41.0</td>\n",
       "    </tr>\n",
       "    <tr>\n",
       "      <th>272</th>\n",
       "      <td>Lori Systems</td>\n",
       "      <td>Logistics</td>\n",
       "      <td>NaN</td>\n",
       "      <td>2016.0</td>\n",
       "      <td>Nairobi</td>\n",
       "      <td>https://www.lorisystems.com/</td>\n",
       "      <td>Logistics platform</td>\n",
       "      <td>NaN</td>\n",
       "      <td>Yes</td>\n",
       "      <td>No</td>\n",
       "      <td>189.0</td>\n",
       "    </tr>\n",
       "    <tr>\n",
       "      <th>273</th>\n",
       "      <td>M-Post</td>\n",
       "      <td>Logistics</td>\n",
       "      <td>NaN</td>\n",
       "      <td>2016.0</td>\n",
       "      <td>Nairobi</td>\n",
       "      <td>http://www.mpost.co.ke/</td>\n",
       "      <td>Mobile addressing system</td>\n",
       "      <td>NaN</td>\n",
       "      <td>No</td>\n",
       "      <td>Yes</td>\n",
       "      <td>22.0</td>\n",
       "    </tr>\n",
       "    <tr>\n",
       "      <th>274</th>\n",
       "      <td>OkHi</td>\n",
       "      <td>Logistics</td>\n",
       "      <td>NaN</td>\n",
       "      <td>2014.0</td>\n",
       "      <td>Nairobi</td>\n",
       "      <td>http://www.okhi.com/</td>\n",
       "      <td>Digital addressing solution</td>\n",
       "      <td>NaN</td>\n",
       "      <td>No</td>\n",
       "      <td>Yes</td>\n",
       "      <td>25.0</td>\n",
       "    </tr>\n",
       "    <tr>\n",
       "      <th>275</th>\n",
       "      <td>RippleNami</td>\n",
       "      <td>Logistics</td>\n",
       "      <td>NaN</td>\n",
       "      <td>2015.0</td>\n",
       "      <td>Nairobi</td>\n",
       "      <td>https://ripplenami.com/</td>\n",
       "      <td>Mapping solution</td>\n",
       "      <td>NaN</td>\n",
       "      <td>No</td>\n",
       "      <td>Yes</td>\n",
       "      <td>18.0</td>\n",
       "    </tr>\n",
       "    <tr>\n",
       "      <th>276</th>\n",
       "      <td>Sendy</td>\n",
       "      <td>Logistics</td>\n",
       "      <td>NaN</td>\n",
       "      <td>2014.0</td>\n",
       "      <td>Nairobi</td>\n",
       "      <td>https://sendyit.com/</td>\n",
       "      <td>On-demand delivery service</td>\n",
       "      <td>NaN</td>\n",
       "      <td>Yes</td>\n",
       "      <td>Yes</td>\n",
       "      <td>391.0</td>\n",
       "    </tr>\n",
       "    <tr>\n",
       "      <th>277</th>\n",
       "      <td>Senga</td>\n",
       "      <td>Logistics</td>\n",
       "      <td>NaN</td>\n",
       "      <td>2016.0</td>\n",
       "      <td>Nairobi</td>\n",
       "      <td>http://senga.co/</td>\n",
       "      <td>Connect shippers with travellers</td>\n",
       "      <td>NaN</td>\n",
       "      <td>Yes</td>\n",
       "      <td>No</td>\n",
       "      <td>14.0</td>\n",
       "    </tr>\n",
       "    <tr>\n",
       "      <th>278</th>\n",
       "      <td>Sinbad</td>\n",
       "      <td>Logistics</td>\n",
       "      <td>NaN</td>\n",
       "      <td>2018.0</td>\n",
       "      <td>Nairobi</td>\n",
       "      <td>http://www.sinbad.co.ke/</td>\n",
       "      <td>Marine cargo marketplace</td>\n",
       "      <td>NaN</td>\n",
       "      <td>No</td>\n",
       "      <td>No</td>\n",
       "      <td>1.0</td>\n",
       "    </tr>\n",
       "    <tr>\n",
       "      <th>279</th>\n",
       "      <td>Sote</td>\n",
       "      <td>Logistics</td>\n",
       "      <td>NaN</td>\n",
       "      <td>2018.0</td>\n",
       "      <td>Nairobi</td>\n",
       "      <td>https://getsote.com/</td>\n",
       "      <td>AI-based logistics solution</td>\n",
       "      <td>NaN</td>\n",
       "      <td>No</td>\n",
       "      <td>No</td>\n",
       "      <td>41.0</td>\n",
       "    </tr>\n",
       "    <tr>\n",
       "      <th>280</th>\n",
       "      <td>StoFresh Africa</td>\n",
       "      <td>Logistics</td>\n",
       "      <td>NaN</td>\n",
       "      <td>2022.0</td>\n",
       "      <td>Nairobi</td>\n",
       "      <td>https://stofresh.africa/</td>\n",
       "      <td>Fresh produce delivery</td>\n",
       "      <td>NaN</td>\n",
       "      <td>No</td>\n",
       "      <td>Yes</td>\n",
       "      <td>3.0</td>\n",
       "    </tr>\n",
       "    <tr>\n",
       "      <th>281</th>\n",
       "      <td>NaN</td>\n",
       "      <td>NaN</td>\n",
       "      <td>NaN</td>\n",
       "      <td>NaN</td>\n",
       "      <td>NaN</td>\n",
       "      <td>NaN</td>\n",
       "      <td>NaN</td>\n",
       "      <td>NaN</td>\n",
       "      <td>NaN</td>\n",
       "      <td>NaN</td>\n",
       "      <td>NaN</td>\n",
       "    </tr>\n",
       "    <tr>\n",
       "      <th>282</th>\n",
       "      <td>Mobility</td>\n",
       "      <td>NaN</td>\n",
       "      <td>NaN</td>\n",
       "      <td>NaN</td>\n",
       "      <td>NaN</td>\n",
       "      <td>NaN</td>\n",
       "      <td>NaN</td>\n",
       "      <td>NaN</td>\n",
       "      <td>NaN</td>\n",
       "      <td>NaN</td>\n",
       "      <td>NaN</td>\n",
       "    </tr>\n",
       "    <tr>\n",
       "      <th>283</th>\n",
       "      <td>BasiGo</td>\n",
       "      <td>Mobility</td>\n",
       "      <td>NaN</td>\n",
       "      <td>2021.0</td>\n",
       "      <td>Nairobi</td>\n",
       "      <td>https://www.basi-go.com/</td>\n",
       "      <td>Electric vehicle provider</td>\n",
       "      <td>NaN</td>\n",
       "      <td>No</td>\n",
       "      <td>No</td>\n",
       "      <td>29.0</td>\n",
       "    </tr>\n",
       "    <tr>\n",
       "      <th>284</th>\n",
       "      <td>Data Integrated</td>\n",
       "      <td>Mobility</td>\n",
       "      <td>NaN</td>\n",
       "      <td>2012.0</td>\n",
       "      <td>Nairobi</td>\n",
       "      <td>https://dataintegrated.co.ke/</td>\n",
       "      <td>Bus management and ticketing</td>\n",
       "      <td>NaN</td>\n",
       "      <td>No</td>\n",
       "      <td>No</td>\n",
       "      <td>45.0</td>\n",
       "    </tr>\n",
       "    <tr>\n",
       "      <th>285</th>\n",
       "      <td>Ecobodaa</td>\n",
       "      <td>Mobility</td>\n",
       "      <td>NaN</td>\n",
       "      <td>2020.0</td>\n",
       "      <td>Nairobi</td>\n",
       "      <td>https://www.ecobodaa.bike/</td>\n",
       "      <td>Electric motorbike taxi provider</td>\n",
       "      <td>NaN</td>\n",
       "      <td>No</td>\n",
       "      <td>Yes</td>\n",
       "      <td>1.0</td>\n",
       "    </tr>\n",
       "    <tr>\n",
       "      <th>286</th>\n",
       "      <td>Kiri EV</td>\n",
       "      <td>Mobility</td>\n",
       "      <td>NaN</td>\n",
       "      <td>2020.0</td>\n",
       "      <td>Nairobi</td>\n",
       "      <td>https://kiriev.com/</td>\n",
       "      <td>Electric vehicle provider</td>\n",
       "      <td>NaN</td>\n",
       "      <td>No</td>\n",
       "      <td>No</td>\n",
       "      <td>3.0</td>\n",
       "    </tr>\n",
       "    <tr>\n",
       "      <th>287</th>\n",
       "      <td>Komboa</td>\n",
       "      <td>Mobility</td>\n",
       "      <td>NaN</td>\n",
       "      <td>2017.0</td>\n",
       "      <td>Nairobi</td>\n",
       "      <td>https://www.komboagari.com/</td>\n",
       "      <td>Car-sharing platform</td>\n",
       "      <td>NaN</td>\n",
       "      <td>No</td>\n",
       "      <td>Yes</td>\n",
       "      <td>3.0</td>\n",
       "    </tr>\n",
       "    <tr>\n",
       "      <th>288</th>\n",
       "      <td>Ma3Route</td>\n",
       "      <td>Mobility</td>\n",
       "      <td>NaN</td>\n",
       "      <td>2012.0</td>\n",
       "      <td>Nairobi</td>\n",
       "      <td>https://www.ma3route.com/</td>\n",
       "      <td>Crowdsourced mobility platform</td>\n",
       "      <td>NaN</td>\n",
       "      <td>No</td>\n",
       "      <td>Yes</td>\n",
       "      <td>2.0</td>\n",
       "    </tr>\n",
       "    <tr>\n",
       "      <th>289</th>\n",
       "      <td>Mazi Mobility</td>\n",
       "      <td>Mobility</td>\n",
       "      <td>NaN</td>\n",
       "      <td>2019.0</td>\n",
       "      <td>Nairobi</td>\n",
       "      <td>https://www.mazimobility.com/</td>\n",
       "      <td>Electric motorbike taxi provider</td>\n",
       "      <td>NaN</td>\n",
       "      <td>No</td>\n",
       "      <td>Yes</td>\n",
       "      <td>11.0</td>\n",
       "    </tr>\n",
       "    <tr>\n",
       "      <th>290</th>\n",
       "      <td>Roam</td>\n",
       "      <td>Mobility</td>\n",
       "      <td>NaN</td>\n",
       "      <td>2017.0</td>\n",
       "      <td>Nairobi</td>\n",
       "      <td>https://www.roammotors.com/</td>\n",
       "      <td>Electric vehicle provider</td>\n",
       "      <td>NaN</td>\n",
       "      <td>No</td>\n",
       "      <td>No</td>\n",
       "      <td>101.0</td>\n",
       "    </tr>\n",
       "    <tr>\n",
       "      <th>291</th>\n",
       "      <td>NaN</td>\n",
       "      <td>NaN</td>\n",
       "      <td>NaN</td>\n",
       "      <td>NaN</td>\n",
       "      <td>NaN</td>\n",
       "      <td>NaN</td>\n",
       "      <td>NaN</td>\n",
       "      <td>NaN</td>\n",
       "      <td>NaN</td>\n",
       "      <td>NaN</td>\n",
       "      <td>NaN</td>\n",
       "    </tr>\n",
       "    <tr>\n",
       "      <th>292</th>\n",
       "      <td>Marketing</td>\n",
       "      <td>NaN</td>\n",
       "      <td>NaN</td>\n",
       "      <td>NaN</td>\n",
       "      <td>NaN</td>\n",
       "      <td>NaN</td>\n",
       "      <td>NaN</td>\n",
       "      <td>NaN</td>\n",
       "      <td>NaN</td>\n",
       "      <td>NaN</td>\n",
       "      <td>NaN</td>\n",
       "    </tr>\n",
       "    <tr>\n",
       "      <th>293</th>\n",
       "      <td>AdLink</td>\n",
       "      <td>Marketing</td>\n",
       "      <td>NaN</td>\n",
       "      <td>2014.0</td>\n",
       "      <td>Nairobi</td>\n",
       "      <td>https://www.adlink.co.ke/</td>\n",
       "      <td>Helps businesses track advertising campaigns</td>\n",
       "      <td>NaN</td>\n",
       "      <td>No</td>\n",
       "      <td>No</td>\n",
       "      <td>2.0</td>\n",
       "    </tr>\n",
       "    <tr>\n",
       "      <th>294</th>\n",
       "      <td>AIfluence</td>\n",
       "      <td>Marketing</td>\n",
       "      <td>NaN</td>\n",
       "      <td>2019.0</td>\n",
       "      <td>Nairobi</td>\n",
       "      <td>https://www.ai-fluence.com/</td>\n",
       "      <td>AI-powered influencer marketing platform</td>\n",
       "      <td>NaN</td>\n",
       "      <td>No</td>\n",
       "      <td>Yes</td>\n",
       "      <td>37.0</td>\n",
       "    </tr>\n",
       "    <tr>\n",
       "      <th>295</th>\n",
       "      <td>Ajua</td>\n",
       "      <td>Marketing</td>\n",
       "      <td>NaN</td>\n",
       "      <td>2019.0</td>\n",
       "      <td>Nairobi</td>\n",
       "      <td>https://ajua.com/</td>\n",
       "      <td>Digital marketing solutions</td>\n",
       "      <td>NaN</td>\n",
       "      <td>No</td>\n",
       "      <td>Yes</td>\n",
       "      <td>86.0</td>\n",
       "    </tr>\n",
       "    <tr>\n",
       "      <th>296</th>\n",
       "      <td>Synatech</td>\n",
       "      <td>Marketing</td>\n",
       "      <td>NaN</td>\n",
       "      <td>2019.0</td>\n",
       "      <td>Nairobi</td>\n",
       "      <td>https://synatechafrica.com/</td>\n",
       "      <td>SEO optimisers</td>\n",
       "      <td>NaN</td>\n",
       "      <td>No</td>\n",
       "      <td>No</td>\n",
       "      <td>1.0</td>\n",
       "    </tr>\n",
       "    <tr>\n",
       "      <th>297</th>\n",
       "      <td>Swifttdial</td>\n",
       "      <td>Marketing</td>\n",
       "      <td>NaN</td>\n",
       "      <td>2021.0</td>\n",
       "      <td>Nairobi</td>\n",
       "      <td>https://swifttdial.com/</td>\n",
       "      <td>Customer engagement solutions</td>\n",
       "      <td>NaN</td>\n",
       "      <td>No</td>\n",
       "      <td>No</td>\n",
       "      <td>6.0</td>\n",
       "    </tr>\n",
       "    <tr>\n",
       "      <th>298</th>\n",
       "      <td>Teleeza</td>\n",
       "      <td>Marketing</td>\n",
       "      <td>NaN</td>\n",
       "      <td>2018.0</td>\n",
       "      <td>Nairobi</td>\n",
       "      <td>https://www.teleeza.com/</td>\n",
       "      <td>Lockscreen advertising</td>\n",
       "      <td>NaN</td>\n",
       "      <td>No</td>\n",
       "      <td>No</td>\n",
       "      <td>10.0</td>\n",
       "    </tr>\n",
       "    <tr>\n",
       "      <th>299</th>\n",
       "      <td>Wowzi</td>\n",
       "      <td>Marketing</td>\n",
       "      <td>NaN</td>\n",
       "      <td>2019.0</td>\n",
       "      <td>Nairobi</td>\n",
       "      <td>https://www.wowzi.co/</td>\n",
       "      <td>Social influencer platform</td>\n",
       "      <td>NaN</td>\n",
       "      <td>No</td>\n",
       "      <td>No</td>\n",
       "      <td>122.0</td>\n",
       "    </tr>\n",
       "    <tr>\n",
       "      <th>300</th>\n",
       "      <td>NaN</td>\n",
       "      <td>NaN</td>\n",
       "      <td>NaN</td>\n",
       "      <td>NaN</td>\n",
       "      <td>NaN</td>\n",
       "      <td>NaN</td>\n",
       "      <td>NaN</td>\n",
       "      <td>NaN</td>\n",
       "      <td>NaN</td>\n",
       "      <td>NaN</td>\n",
       "      <td>NaN</td>\n",
       "    </tr>\n",
       "    <tr>\n",
       "      <th>301</th>\n",
       "      <td>Energy</td>\n",
       "      <td>NaN</td>\n",
       "      <td>NaN</td>\n",
       "      <td>NaN</td>\n",
       "      <td>NaN</td>\n",
       "      <td>NaN</td>\n",
       "      <td>NaN</td>\n",
       "      <td>NaN</td>\n",
       "      <td>NaN</td>\n",
       "      <td>NaN</td>\n",
       "      <td>NaN</td>\n",
       "    </tr>\n",
       "    <tr>\n",
       "      <th>302</th>\n",
       "      <td>Agsol</td>\n",
       "      <td>Energy</td>\n",
       "      <td>NaN</td>\n",
       "      <td>2016.0</td>\n",
       "      <td>Nairobi</td>\n",
       "      <td>http://www.agsol.com/</td>\n",
       "      <td>Solar-powered agro-processing machine provider</td>\n",
       "      <td>NaN</td>\n",
       "      <td>No</td>\n",
       "      <td>No</td>\n",
       "      <td>12.0</td>\n",
       "    </tr>\n",
       "    <tr>\n",
       "      <th>303</th>\n",
       "      <td>Freshbox</td>\n",
       "      <td>Energy</td>\n",
       "      <td>NaN</td>\n",
       "      <td>2017.0</td>\n",
       "      <td>Nairobi</td>\n",
       "      <td>https://www.freshbox.co.ke/</td>\n",
       "      <td>Solar powered refrigeration</td>\n",
       "      <td>NaN</td>\n",
       "      <td>No</td>\n",
       "      <td>No</td>\n",
       "      <td>5.0</td>\n",
       "    </tr>\n",
       "    <tr>\n",
       "      <th>304</th>\n",
       "      <td>Gridless</td>\n",
       "      <td>Energy</td>\n",
       "      <td>NaN</td>\n",
       "      <td>2022.0</td>\n",
       "      <td>Nairobi</td>\n",
       "      <td>https://gridlesscompute.com/</td>\n",
       "      <td>Hydroelectric bitcoin mining</td>\n",
       "      <td>NaN</td>\n",
       "      <td>No</td>\n",
       "      <td>No</td>\n",
       "      <td>1.0</td>\n",
       "    </tr>\n",
       "    <tr>\n",
       "      <th>305</th>\n",
       "      <td>HydroIQ</td>\n",
       "      <td>Energy</td>\n",
       "      <td>NaN</td>\n",
       "      <td>2017.0</td>\n",
       "      <td>Nairobi</td>\n",
       "      <td>https://www.hydroiq.africa/</td>\n",
       "      <td>Smart water billing app</td>\n",
       "      <td>NaN</td>\n",
       "      <td>No</td>\n",
       "      <td>Yes</td>\n",
       "      <td>6.0</td>\n",
       "    </tr>\n",
       "    <tr>\n",
       "      <th>306</th>\n",
       "      <td>M-Paya</td>\n",
       "      <td>Energy</td>\n",
       "      <td>NaN</td>\n",
       "      <td>2018.0</td>\n",
       "      <td>Nairobi</td>\n",
       "      <td>https://m-paya.co.ke/</td>\n",
       "      <td>Smart metering solutions</td>\n",
       "      <td>NaN</td>\n",
       "      <td>No</td>\n",
       "      <td>Yes</td>\n",
       "      <td>6.0</td>\n",
       "    </tr>\n",
       "    <tr>\n",
       "      <th>307</th>\n",
       "      <td>PayGo Energy</td>\n",
       "      <td>Energy</td>\n",
       "      <td>NaN</td>\n",
       "      <td>2015.0</td>\n",
       "      <td>Nairobi</td>\n",
       "      <td>https://www.paygoenergy.co/</td>\n",
       "      <td>PAYG cooking fuel provider</td>\n",
       "      <td>NaN</td>\n",
       "      <td>No</td>\n",
       "      <td>No</td>\n",
       "      <td>47.0</td>\n",
       "    </tr>\n",
       "    <tr>\n",
       "      <th>308</th>\n",
       "      <td>SunCulture</td>\n",
       "      <td>Energy</td>\n",
       "      <td>NaN</td>\n",
       "      <td>2012.0</td>\n",
       "      <td>Nairobi</td>\n",
       "      <td>http://sunculture.com/</td>\n",
       "      <td>Solar-powered irrigation services provider</td>\n",
       "      <td>NaN</td>\n",
       "      <td>No</td>\n",
       "      <td>No</td>\n",
       "      <td>189.0</td>\n",
       "    </tr>\n",
       "    <tr>\n",
       "      <th>309</th>\n",
       "      <td>NaN</td>\n",
       "      <td>NaN</td>\n",
       "      <td>NaN</td>\n",
       "      <td>NaN</td>\n",
       "      <td>NaN</td>\n",
       "      <td>NaN</td>\n",
       "      <td>NaN</td>\n",
       "      <td>NaN</td>\n",
       "      <td>NaN</td>\n",
       "      <td>NaN</td>\n",
       "      <td>NaN</td>\n",
       "    </tr>\n",
       "    <tr>\n",
       "      <th>310</th>\n",
       "      <td>Other</td>\n",
       "      <td>NaN</td>\n",
       "      <td>NaN</td>\n",
       "      <td>NaN</td>\n",
       "      <td>NaN</td>\n",
       "      <td>NaN</td>\n",
       "      <td>NaN</td>\n",
       "      <td>NaN</td>\n",
       "      <td>NaN</td>\n",
       "      <td>NaN</td>\n",
       "      <td>NaN</td>\n",
       "    </tr>\n",
       "    <tr>\n",
       "      <th>311</th>\n",
       "      <td>Kijenzi</td>\n",
       "      <td>3D printing</td>\n",
       "      <td>NaN</td>\n",
       "      <td>2019.0</td>\n",
       "      <td>Kisumu</td>\n",
       "      <td>https://www.kijenzi.com/</td>\n",
       "      <td>3D printing</td>\n",
       "      <td>NaN</td>\n",
       "      <td>No</td>\n",
       "      <td>Yes</td>\n",
       "      <td>10.0</td>\n",
       "    </tr>\n",
       "    <tr>\n",
       "      <th>312</th>\n",
       "      <td>Flint Home Integrators</td>\n",
       "      <td>AI/IoT</td>\n",
       "      <td>NaN</td>\n",
       "      <td>2016.0</td>\n",
       "      <td>Nairobi</td>\n",
       "      <td>http://flinthomeintegrators.com/</td>\n",
       "      <td>IoT for the home solutions</td>\n",
       "      <td>NaN</td>\n",
       "      <td>No</td>\n",
       "      <td>No</td>\n",
       "      <td>5.0</td>\n",
       "    </tr>\n",
       "    <tr>\n",
       "      <th>313</th>\n",
       "      <td>Gro Intelligence</td>\n",
       "      <td>AI/IoT</td>\n",
       "      <td>NaN</td>\n",
       "      <td>2014.0</td>\n",
       "      <td>Nairobi</td>\n",
       "      <td>https://gro-intelligence.com/</td>\n",
       "      <td>Data analytics platform</td>\n",
       "      <td>NaN</td>\n",
       "      <td>Yes</td>\n",
       "      <td>No</td>\n",
       "      <td>199.0</td>\n",
       "    </tr>\n",
       "    <tr>\n",
       "      <th>314</th>\n",
       "      <td>KOSA AI</td>\n",
       "      <td>AI/IoT</td>\n",
       "      <td>NaN</td>\n",
       "      <td>2021.0</td>\n",
       "      <td>Nairobi</td>\n",
       "      <td>https://kosa.ai/</td>\n",
       "      <td>Mitigation of AI bias</td>\n",
       "      <td>NaN</td>\n",
       "      <td>No</td>\n",
       "      <td>No</td>\n",
       "      <td>6.0</td>\n",
       "    </tr>\n",
       "    <tr>\n",
       "      <th>315</th>\n",
       "      <td>UTU</td>\n",
       "      <td>AI/IoT</td>\n",
       "      <td>NaN</td>\n",
       "      <td>2015.0</td>\n",
       "      <td>Nairobi</td>\n",
       "      <td>https://utu.io/</td>\n",
       "      <td>AI solutions for sharing economy, parent compa...</td>\n",
       "      <td>NaN</td>\n",
       "      <td>No</td>\n",
       "      <td>Yes</td>\n",
       "      <td>22.0</td>\n",
       "    </tr>\n",
       "    <tr>\n",
       "      <th>316</th>\n",
       "      <td>Angani</td>\n",
       "      <td>Cloud</td>\n",
       "      <td>NaN</td>\n",
       "      <td>2013.0</td>\n",
       "      <td>Nairobi</td>\n",
       "      <td>http://angani.co/</td>\n",
       "      <td>Cloud storage service</td>\n",
       "      <td>NaN</td>\n",
       "      <td>No</td>\n",
       "      <td>No</td>\n",
       "      <td>23.0</td>\n",
       "    </tr>\n",
       "    <tr>\n",
       "      <th>317</th>\n",
       "      <td>Eneza Telecom</td>\n",
       "      <td>Cloud</td>\n",
       "      <td>NaN</td>\n",
       "      <td>2018.0</td>\n",
       "      <td>Nairobi</td>\n",
       "      <td>https://www.enezatelecom.com/</td>\n",
       "      <td>Cloud-based business management platform</td>\n",
       "      <td>NaN</td>\n",
       "      <td>No</td>\n",
       "      <td>No</td>\n",
       "      <td>7.0</td>\n",
       "    </tr>\n",
       "    <tr>\n",
       "      <th>318</th>\n",
       "      <td>Node Africa</td>\n",
       "      <td>Cloud</td>\n",
       "      <td>NaN</td>\n",
       "      <td>2015.0</td>\n",
       "      <td>Nairobi</td>\n",
       "      <td>https://node.africa/</td>\n",
       "      <td>Cloud storage service</td>\n",
       "      <td>NaN</td>\n",
       "      <td>No</td>\n",
       "      <td>No</td>\n",
       "      <td>5.0</td>\n",
       "    </tr>\n",
       "    <tr>\n",
       "      <th>319</th>\n",
       "      <td>WAYO</td>\n",
       "      <td>Cloud</td>\n",
       "      <td>NaN</td>\n",
       "      <td>2015.0</td>\n",
       "      <td>Nairobi</td>\n",
       "      <td>https://wayocompany.com/</td>\n",
       "      <td>AI-based customer experience management</td>\n",
       "      <td>NaN</td>\n",
       "      <td>No</td>\n",
       "      <td>No</td>\n",
       "      <td>2.0</td>\n",
       "    </tr>\n",
       "    <tr>\n",
       "      <th>320</th>\n",
       "      <td>Africa's Talking</td>\n",
       "      <td>Communications</td>\n",
       "      <td>NaN</td>\n",
       "      <td>2010.0</td>\n",
       "      <td>Nairobi</td>\n",
       "      <td>https://africastalking.com/</td>\n",
       "      <td>Communications platform</td>\n",
       "      <td>NaN</td>\n",
       "      <td>No</td>\n",
       "      <td>No</td>\n",
       "      <td>76.0</td>\n",
       "    </tr>\n",
       "    <tr>\n",
       "      <th>321</th>\n",
       "      <td>BRCK</td>\n",
       "      <td>Connectivity</td>\n",
       "      <td>NaN</td>\n",
       "      <td>2014.0</td>\n",
       "      <td>Nairobi</td>\n",
       "      <td>https://www.brck.com/</td>\n",
       "      <td>Hardware for internet connectivity, learning s...</td>\n",
       "      <td>NaN</td>\n",
       "      <td>Yes</td>\n",
       "      <td>No</td>\n",
       "      <td>27.0</td>\n",
       "    </tr>\n",
       "    <tr>\n",
       "      <th>322</th>\n",
       "      <td>NikoRadius</td>\n",
       "      <td>Connectivity</td>\n",
       "      <td>NaN</td>\n",
       "      <td>2019.0</td>\n",
       "      <td>Nairobi</td>\n",
       "      <td>http://www.nikoradius.com/</td>\n",
       "      <td>Internet billing and network management platform</td>\n",
       "      <td>NaN</td>\n",
       "      <td>No</td>\n",
       "      <td>No</td>\n",
       "      <td>8.0</td>\n",
       "    </tr>\n",
       "    <tr>\n",
       "      <th>323</th>\n",
       "      <td>Internet of Elephants</td>\n",
       "      <td>Conservation</td>\n",
       "      <td>NaN</td>\n",
       "      <td>2015.0</td>\n",
       "      <td>Nairobi</td>\n",
       "      <td>https://www.internetofelephants.com/</td>\n",
       "      <td>Leverages GPS data for conservation</td>\n",
       "      <td>NaN</td>\n",
       "      <td>No</td>\n",
       "      <td>No</td>\n",
       "      <td>2.0</td>\n",
       "    </tr>\n",
       "    <tr>\n",
       "      <th>324</th>\n",
       "      <td>Komaza</td>\n",
       "      <td>Conservation</td>\n",
       "      <td>NaN</td>\n",
       "      <td>2006.0</td>\n",
       "      <td>Nairobi</td>\n",
       "      <td>https://www.komaza.com/</td>\n",
       "      <td>Conservation tech</td>\n",
       "      <td>NaN</td>\n",
       "      <td>Yes</td>\n",
       "      <td>No</td>\n",
       "      <td>242.0</td>\n",
       "    </tr>\n",
       "    <tr>\n",
       "      <th>325</th>\n",
       "      <td>Jumba</td>\n",
       "      <td>Construction</td>\n",
       "      <td>NaN</td>\n",
       "      <td>2022.0</td>\n",
       "      <td>Nairobi</td>\n",
       "      <td>https://www.thejumba.com/</td>\n",
       "      <td>Platform for construction materials</td>\n",
       "      <td>NaN</td>\n",
       "      <td>Yes</td>\n",
       "      <td>No</td>\n",
       "      <td>23.0</td>\n",
       "    </tr>\n",
       "    <tr>\n",
       "      <th>326</th>\n",
       "      <td>ManPro</td>\n",
       "      <td>Construction</td>\n",
       "      <td>NaN</td>\n",
       "      <td>2019.0</td>\n",
       "      <td>Nairobi</td>\n",
       "      <td>https://www.manpro.co.ke/</td>\n",
       "      <td>Construction platform</td>\n",
       "      <td>NaN</td>\n",
       "      <td>No</td>\n",
       "      <td>Yes</td>\n",
       "      <td>1.0</td>\n",
       "    </tr>\n",
       "    <tr>\n",
       "      <th>327</th>\n",
       "      <td>JabJab</td>\n",
       "      <td>Cybersecurity</td>\n",
       "      <td>NaN</td>\n",
       "      <td>2016.0</td>\n",
       "      <td>Nairobi</td>\n",
       "      <td>http://www.jabjabgroup.com/</td>\n",
       "      <td>Tech services and consultancy</td>\n",
       "      <td>NaN</td>\n",
       "      <td>No</td>\n",
       "      <td>No</td>\n",
       "      <td>1.0</td>\n",
       "    </tr>\n",
       "    <tr>\n",
       "      <th>328</th>\n",
       "      <td>Ledja</td>\n",
       "      <td>Digital identity</td>\n",
       "      <td>NaN</td>\n",
       "      <td>2021.0</td>\n",
       "      <td>Nairobi</td>\n",
       "      <td>https://www.ledja.net/</td>\n",
       "      <td>Digital identity verification</td>\n",
       "      <td>NaN</td>\n",
       "      <td>No</td>\n",
       "      <td>Yes</td>\n",
       "      <td>1.0</td>\n",
       "    </tr>\n",
       "    <tr>\n",
       "      <th>329</th>\n",
       "      <td>Vibranium ID</td>\n",
       "      <td>Digital identity</td>\n",
       "      <td>NaN</td>\n",
       "      <td>2019.0</td>\n",
       "      <td>Nairobi</td>\n",
       "      <td>https://vibranium.id/</td>\n",
       "      <td>Portable personal ID</td>\n",
       "      <td>NaN</td>\n",
       "      <td>No</td>\n",
       "      <td>Yes</td>\n",
       "      <td>2.0</td>\n",
       "    </tr>\n",
       "    <tr>\n",
       "      <th>330</th>\n",
       "      <td>Astral Aerial</td>\n",
       "      <td>Drones</td>\n",
       "      <td>NaN</td>\n",
       "      <td>2016.0</td>\n",
       "      <td>Nairobi</td>\n",
       "      <td>https://astral-aerial.com/</td>\n",
       "      <td>Drone startup</td>\n",
       "      <td>NaN</td>\n",
       "      <td>No</td>\n",
       "      <td>No</td>\n",
       "      <td>11.0</td>\n",
       "    </tr>\n",
       "    <tr>\n",
       "      <th>331</th>\n",
       "      <td>Mdundo</td>\n",
       "      <td>Entertainment</td>\n",
       "      <td>NaN</td>\n",
       "      <td>2013.0</td>\n",
       "      <td>Nairobi</td>\n",
       "      <td>http://mdundo.com/</td>\n",
       "      <td>Music streaming and download platform</td>\n",
       "      <td>NaN</td>\n",
       "      <td>No</td>\n",
       "      <td>Yes</td>\n",
       "      <td>60.0</td>\n",
       "    </tr>\n",
       "    <tr>\n",
       "      <th>332</th>\n",
       "      <td>Imara TV</td>\n",
       "      <td>Entertainment</td>\n",
       "      <td>NaN</td>\n",
       "      <td>2019.0</td>\n",
       "      <td>Nairobi</td>\n",
       "      <td>https://www.imara.tv/</td>\n",
       "      <td>Edutainment platform</td>\n",
       "      <td>NaN</td>\n",
       "      <td>No</td>\n",
       "      <td>No</td>\n",
       "      <td>1.0</td>\n",
       "    </tr>\n",
       "    <tr>\n",
       "      <th>333</th>\n",
       "      <td>Smubu</td>\n",
       "      <td>Entertainment</td>\n",
       "      <td>NaN</td>\n",
       "      <td>2018.0</td>\n",
       "      <td>Nairobi</td>\n",
       "      <td>https://www.smubuafrica.com/</td>\n",
       "      <td>Music platform</td>\n",
       "      <td>NaN</td>\n",
       "      <td>No</td>\n",
       "      <td>No</td>\n",
       "      <td>1.0</td>\n",
       "    </tr>\n",
       "    <tr>\n",
       "      <th>334</th>\n",
       "      <td>MyMovies</td>\n",
       "      <td>Entertainment</td>\n",
       "      <td>NaN</td>\n",
       "      <td>2014.0</td>\n",
       "      <td>Nairobi</td>\n",
       "      <td>https://www.mymovies.africa/</td>\n",
       "      <td>Movie streaming platform</td>\n",
       "      <td>NaN</td>\n",
       "      <td>No</td>\n",
       "      <td>Yes</td>\n",
       "      <td>6.0</td>\n",
       "    </tr>\n",
       "    <tr>\n",
       "      <th>335</th>\n",
       "      <td>Optimetriks</td>\n",
       "      <td>Field management</td>\n",
       "      <td>NaN</td>\n",
       "      <td>2015.0</td>\n",
       "      <td>Nairobi</td>\n",
       "      <td>https://fieldproapp.com/</td>\n",
       "      <td>Field management solution</td>\n",
       "      <td>NaN</td>\n",
       "      <td>No</td>\n",
       "      <td>Yes</td>\n",
       "      <td>45.0</td>\n",
       "    </tr>\n",
       "    <tr>\n",
       "      <th>336</th>\n",
       "      <td>Enfinite Solutions</td>\n",
       "      <td>Legal-tech</td>\n",
       "      <td>NaN</td>\n",
       "      <td>2007.0</td>\n",
       "      <td>Nairobi</td>\n",
       "      <td>https://enfinitesolutions.com/</td>\n",
       "      <td>Legal-tech platform</td>\n",
       "      <td>NaN</td>\n",
       "      <td>No</td>\n",
       "      <td>Yes</td>\n",
       "      <td>5.0</td>\n",
       "    </tr>\n",
       "    <tr>\n",
       "      <th>337</th>\n",
       "      <td>Sheria Soft</td>\n",
       "      <td>Legal-tech</td>\n",
       "      <td>NaN</td>\n",
       "      <td>2013.0</td>\n",
       "      <td>Nairobi</td>\n",
       "      <td>https://sheriasoft.com/</td>\n",
       "      <td>Case management software for lawyers</td>\n",
       "      <td>NaN</td>\n",
       "      <td>No</td>\n",
       "      <td>Yes</td>\n",
       "      <td>1.0</td>\n",
       "    </tr>\n",
       "    <tr>\n",
       "      <th>338</th>\n",
       "      <td>xetova</td>\n",
       "      <td>Procurement</td>\n",
       "      <td>NaN</td>\n",
       "      <td>2019.0</td>\n",
       "      <td>Nairobi</td>\n",
       "      <td>https://www.xetova.com/</td>\n",
       "      <td>Procurement platform</td>\n",
       "      <td>NaN</td>\n",
       "      <td>No</td>\n",
       "      <td>Yes</td>\n",
       "      <td>39.0</td>\n",
       "    </tr>\n",
       "    <tr>\n",
       "      <th>339</th>\n",
       "      <td>e-Kodi</td>\n",
       "      <td>Prop-tech</td>\n",
       "      <td>NaN</td>\n",
       "      <td>2015.0</td>\n",
       "      <td>Nairobi</td>\n",
       "      <td>http://www.e-kodi.com/</td>\n",
       "      <td>Rental marketplace</td>\n",
       "      <td>NaN</td>\n",
       "      <td>No</td>\n",
       "      <td>Yes</td>\n",
       "      <td>1.0</td>\n",
       "    </tr>\n",
       "    <tr>\n",
       "      <th>340</th>\n",
       "      <td>EasyHouse Africa</td>\n",
       "      <td>Prop-tech</td>\n",
       "      <td>NaN</td>\n",
       "      <td>2020.0</td>\n",
       "      <td>Nairobi</td>\n",
       "      <td>https://easyhouse.africa/</td>\n",
       "      <td>Campus accommodation platform</td>\n",
       "      <td>NaN</td>\n",
       "      <td>No</td>\n",
       "      <td>Yes</td>\n",
       "      <td>5.0</td>\n",
       "    </tr>\n",
       "    <tr>\n",
       "      <th>341</th>\n",
       "      <td>KiotaPay</td>\n",
       "      <td>Prop-tech</td>\n",
       "      <td>NaN</td>\n",
       "      <td>2020.0</td>\n",
       "      <td>Nairobi</td>\n",
       "      <td>https://www.kiotapay.co.ke/</td>\n",
       "      <td>Property management solution</td>\n",
       "      <td>NaN</td>\n",
       "      <td>No</td>\n",
       "      <td>Yes</td>\n",
       "      <td>8.0</td>\n",
       "    </tr>\n",
       "    <tr>\n",
       "      <th>342</th>\n",
       "      <td>Silqu</td>\n",
       "      <td>Prop-tech</td>\n",
       "      <td>NaN</td>\n",
       "      <td>2020.0</td>\n",
       "      <td>Nairobi</td>\n",
       "      <td>https://www.silqu.com/</td>\n",
       "      <td>Property management solution</td>\n",
       "      <td>NaN</td>\n",
       "      <td>No</td>\n",
       "      <td>Yes</td>\n",
       "      <td>5.0</td>\n",
       "    </tr>\n",
       "    <tr>\n",
       "      <th>343</th>\n",
       "      <td>Alternative Circle</td>\n",
       "      <td>Software</td>\n",
       "      <td>NaN</td>\n",
       "      <td>2017.0</td>\n",
       "      <td>Nairobi</td>\n",
       "      <td>https://www.alternativecircle.com/</td>\n",
       "      <td>Software development</td>\n",
       "      <td>NaN</td>\n",
       "      <td>No</td>\n",
       "      <td>No</td>\n",
       "      <td>4.0</td>\n",
       "    </tr>\n",
       "    <tr>\n",
       "      <th>344</th>\n",
       "      <td>AmTech</td>\n",
       "      <td>Software</td>\n",
       "      <td>NaN</td>\n",
       "      <td>2003.0</td>\n",
       "      <td>Nairobi</td>\n",
       "      <td>http://www.amtechafrica.com/</td>\n",
       "      <td>Software development</td>\n",
       "      <td>NaN</td>\n",
       "      <td>No</td>\n",
       "      <td>No</td>\n",
       "      <td>41.0</td>\n",
       "    </tr>\n",
       "    <tr>\n",
       "      <th>345</th>\n",
       "      <td>Brance</td>\n",
       "      <td>Software</td>\n",
       "      <td>NaN</td>\n",
       "      <td>2018.0</td>\n",
       "      <td>Mombasa</td>\n",
       "      <td>https://brancetech.com/#welcome</td>\n",
       "      <td>Software development</td>\n",
       "      <td>NaN</td>\n",
       "      <td>No</td>\n",
       "      <td>No</td>\n",
       "      <td>7.0</td>\n",
       "    </tr>\n",
       "    <tr>\n",
       "      <th>346</th>\n",
       "      <td>Bunifu</td>\n",
       "      <td>Software</td>\n",
       "      <td>NaN</td>\n",
       "      <td>2011.0</td>\n",
       "      <td>Nairobi</td>\n",
       "      <td>http://bunifu.co.ke/</td>\n",
       "      <td>Software development</td>\n",
       "      <td>NaN</td>\n",
       "      <td>No</td>\n",
       "      <td>No</td>\n",
       "      <td>17.0</td>\n",
       "    </tr>\n",
       "    <tr>\n",
       "      <th>347</th>\n",
       "      <td>Farwell Innovations</td>\n",
       "      <td>Software</td>\n",
       "      <td>NaN</td>\n",
       "      <td>2010.0</td>\n",
       "      <td>Nairobi</td>\n",
       "      <td>https://farwell-consultants.com/</td>\n",
       "      <td>Software development</td>\n",
       "      <td>NaN</td>\n",
       "      <td>Yes</td>\n",
       "      <td>Yes</td>\n",
       "      <td>11.0</td>\n",
       "    </tr>\n",
       "    <tr>\n",
       "      <th>348</th>\n",
       "      <td>HydraTech</td>\n",
       "      <td>Software</td>\n",
       "      <td>NaN</td>\n",
       "      <td>2019.0</td>\n",
       "      <td>Mombasa</td>\n",
       "      <td>https://hydratech.co.ke/</td>\n",
       "      <td>Software development</td>\n",
       "      <td>NaN</td>\n",
       "      <td>No</td>\n",
       "      <td>No</td>\n",
       "      <td>1.0</td>\n",
       "    </tr>\n",
       "    <tr>\n",
       "      <th>349</th>\n",
       "      <td>Masterclass</td>\n",
       "      <td>Software</td>\n",
       "      <td>NaN</td>\n",
       "      <td>2013.0</td>\n",
       "      <td>Nairobi</td>\n",
       "      <td>http://www.masterclass.co.ke/</td>\n",
       "      <td>Software development</td>\n",
       "      <td>NaN</td>\n",
       "      <td>No</td>\n",
       "      <td>No</td>\n",
       "      <td>15.0</td>\n",
       "    </tr>\n",
       "    <tr>\n",
       "      <th>350</th>\n",
       "      <td>Osta Tech</td>\n",
       "      <td>Software</td>\n",
       "      <td>NaN</td>\n",
       "      <td>2017.0</td>\n",
       "      <td>Nairobi</td>\n",
       "      <td>https://www.ostatech.co.ke/</td>\n",
       "      <td>Software development</td>\n",
       "      <td>NaN</td>\n",
       "      <td>No</td>\n",
       "      <td>No</td>\n",
       "      <td>6.0</td>\n",
       "    </tr>\n",
       "    <tr>\n",
       "      <th>351</th>\n",
       "      <td>RafikiSoft</td>\n",
       "      <td>Software</td>\n",
       "      <td>NaN</td>\n",
       "      <td>2013.0</td>\n",
       "      <td>Nairobi</td>\n",
       "      <td>http://www.rafikisoft.com/</td>\n",
       "      <td>Software development</td>\n",
       "      <td>NaN</td>\n",
       "      <td>Yes</td>\n",
       "      <td>No</td>\n",
       "      <td>1.0</td>\n",
       "    </tr>\n",
       "    <tr>\n",
       "      <th>352</th>\n",
       "      <td>Studia Labs</td>\n",
       "      <td>Software</td>\n",
       "      <td>NaN</td>\n",
       "      <td>2017.0</td>\n",
       "      <td>Mombasa</td>\n",
       "      <td>https://studialabs.co.ke/</td>\n",
       "      <td>Software development</td>\n",
       "      <td>NaN</td>\n",
       "      <td>No</td>\n",
       "      <td>No</td>\n",
       "      <td>4.0</td>\n",
       "    </tr>\n",
       "    <tr>\n",
       "      <th>353</th>\n",
       "      <td>Elephant Bookings</td>\n",
       "      <td>Tourism</td>\n",
       "      <td>NaN</td>\n",
       "      <td>2022.0</td>\n",
       "      <td>Nairobi</td>\n",
       "      <td>https://www.elephantbookings.com/</td>\n",
       "      <td>Accommodation booking platform</td>\n",
       "      <td>NaN</td>\n",
       "      <td>No</td>\n",
       "      <td>Yes</td>\n",
       "      <td>1.0</td>\n",
       "    </tr>\n",
       "    <tr>\n",
       "      <th>354</th>\n",
       "      <td>Nomad Africa</td>\n",
       "      <td>Tourism</td>\n",
       "      <td>NaN</td>\n",
       "      <td>2017.0</td>\n",
       "      <td>Nairobi</td>\n",
       "      <td>https://nomad.africa/</td>\n",
       "      <td>Tour bookings</td>\n",
       "      <td>NaN</td>\n",
       "      <td>No</td>\n",
       "      <td>Yes</td>\n",
       "      <td>7.0</td>\n",
       "    </tr>\n",
       "    <tr>\n",
       "      <th>355</th>\n",
       "      <td>Vibanda</td>\n",
       "      <td>Tourism</td>\n",
       "      <td>NaN</td>\n",
       "      <td>2012.0</td>\n",
       "      <td>Nairobi</td>\n",
       "      <td>http://www.vibanda.com/</td>\n",
       "      <td>Accommodation booking platform</td>\n",
       "      <td>NaN</td>\n",
       "      <td>No</td>\n",
       "      <td>No</td>\n",
       "      <td>1.0</td>\n",
       "    </tr>\n",
       "    <tr>\n",
       "      <th>356</th>\n",
       "      <td>Sauti</td>\n",
       "      <td>Trade tech</td>\n",
       "      <td>NaN</td>\n",
       "      <td>2016.0</td>\n",
       "      <td>Nairobi</td>\n",
       "      <td>http://sautiafrica.org/</td>\n",
       "      <td>Trade and market information services</td>\n",
       "      <td>NaN</td>\n",
       "      <td>No</td>\n",
       "      <td>Yes</td>\n",
       "      <td>12.0</td>\n",
       "    </tr>\n",
       "    <tr>\n",
       "      <th>357</th>\n",
       "      <td>Solutech</td>\n",
       "      <td>Trade tech</td>\n",
       "      <td>NaN</td>\n",
       "      <td>2014.0</td>\n",
       "      <td>Nairobi</td>\n",
       "      <td>https://www.solutech.co.ke/</td>\n",
       "      <td>Sales automation platform</td>\n",
       "      <td>NaN</td>\n",
       "      <td>No</td>\n",
       "      <td>No</td>\n",
       "      <td>23.0</td>\n",
       "    </tr>\n",
       "    <tr>\n",
       "      <th>358</th>\n",
       "      <td>BlackRhino VR</td>\n",
       "      <td>VR</td>\n",
       "      <td>NaN</td>\n",
       "      <td>2015.0</td>\n",
       "      <td>Nairobi</td>\n",
       "      <td>http://www.blackrhinovr.com/</td>\n",
       "      <td>VR startup</td>\n",
       "      <td>NaN</td>\n",
       "      <td>No</td>\n",
       "      <td>No</td>\n",
       "      <td>18.0</td>\n",
       "    </tr>\n",
       "    <tr>\n",
       "      <th>359</th>\n",
       "      <td>Gjenge</td>\n",
       "      <td>Waste management</td>\n",
       "      <td>NaN</td>\n",
       "      <td>2017.0</td>\n",
       "      <td>Nairobi</td>\n",
       "      <td>http://gjenge.co.ke/index.php</td>\n",
       "      <td>Waste collection app</td>\n",
       "      <td>NaN</td>\n",
       "      <td>No</td>\n",
       "      <td>Yes</td>\n",
       "      <td>5.0</td>\n",
       "    </tr>\n",
       "    <tr>\n",
       "      <th>360</th>\n",
       "      <td>Mr Green Africa</td>\n",
       "      <td>Waste management</td>\n",
       "      <td>NaN</td>\n",
       "      <td>2014.0</td>\n",
       "      <td>Nairobi</td>\n",
       "      <td>https://www.mrgreenafrica.com/</td>\n",
       "      <td>Recycling platform</td>\n",
       "      <td>NaN</td>\n",
       "      <td>No</td>\n",
       "      <td>No</td>\n",
       "      <td>82.0</td>\n",
       "    </tr>\n",
       "    <tr>\n",
       "      <th>361</th>\n",
       "      <td>MobiTech</td>\n",
       "      <td>Water management</td>\n",
       "      <td>NaN</td>\n",
       "      <td>2017.0</td>\n",
       "      <td>Nairobi</td>\n",
       "      <td>https://www.techwatersolutions.com/</td>\n",
       "      <td>Water monitoring solution</td>\n",
       "      <td>NaN</td>\n",
       "      <td>No</td>\n",
       "      <td>No</td>\n",
       "      <td>9.0</td>\n",
       "    </tr>\n",
       "  </tbody>\n",
       "</table>\n",
       "</div>"
      ],
      "text/plain": [
       "                     Startup name                      Sector  \\\n",
       "0                             NaN                         NaN   \n",
       "1                         Fintech                         NaN   \n",
       "2                          Abacus                     Fintech   \n",
       "3                           Alvin                     Fintech   \n",
       "4                           Araka                     Fintech   \n",
       "5                          Asante                     Fintech   \n",
       "6                        Asilimia                     Fintech   \n",
       "7                     AZA Finance                     Fintech   \n",
       "8                           Azima                     Fintech   \n",
       "9                         Bimaleo                     Fintech   \n",
       "10                        Bismart                     Fintech   \n",
       "11                        BitLipa                     Fintech   \n",
       "12                        Bitsoko                     Fintech   \n",
       "13                           Boya                     Fintech   \n",
       "14                        Cashlet                     Fintech   \n",
       "15                      Chamasoft                     Fintech   \n",
       "16                  Chaptr Global                     Fintech   \n",
       "17               Cherehani Africa                     Fintech   \n",
       "18                          Chumz                     Fintech   \n",
       "19                          Chura                     Fintech   \n",
       "20                     Crediation                     Fintech   \n",
       "21                 Credit Factory                     Fintech   \n",
       "22                      Credrails                     Fintech   \n",
       "23                      Crypsense                     Fintech   \n",
       "24               Denkim Insurance                     Fintech   \n",
       "25                        DukaPOS                     Fintech   \n",
       "26                       EastPesa                     Fintech   \n",
       "27                    Ed Partners                     Fintech   \n",
       "28                  Fanaka Hybrid                     Fintech   \n",
       "29                      FinAccess                     Fintech   \n",
       "30                        Finplus                     Fintech   \n",
       "31                        Flexpay                     Fintech   \n",
       "32                   Hakki Africa                     Fintech   \n",
       "33                           Hisa                     Fintech   \n",
       "34                      InstaSend                     Fintech   \n",
       "35                   InsureAfrika                     Fintech   \n",
       "36                       Jumuisha                     Fintech   \n",
       "37                        Kakbima                     Fintech   \n",
       "38                      Klientele                     Fintech   \n",
       "39                            Koa                     Fintech   \n",
       "40                      Kopo Kopo                     Fintech   \n",
       "41                     Kotani Pay                     Fintech   \n",
       "42                          Kwara                     Fintech   \n",
       "43                         Kyanda                     Fintech   \n",
       "44                           Lakt                     Fintech   \n",
       "45                           Lami                     Fintech   \n",
       "46                      LipaLater                     Fintech   \n",
       "47                         Lipana                     Fintech   \n",
       "48                       LipaPlus                     Fintech   \n",
       "49                        Lipisha                     Fintech   \n",
       "50                       M-Changa                     Fintech   \n",
       "51                        M-Payer                     Fintech   \n",
       "52                     Mobi-Remit                     Fintech   \n",
       "53                           mTek                     Fintech   \n",
       "54                       myInsure                     Fintech   \n",
       "55                        myNGOVO                     Fintech   \n",
       "56                           Nash                     Fintech   \n",
       "57                          Ndovu                     Fintech   \n",
       "58                        Nouveta                     Fintech   \n",
       "59                       Odibooks                     Fintech   \n",
       "60                         Patika                     Fintech   \n",
       "61                        Paylend                     Fintech   \n",
       "62                       Pesabase                     Fintech   \n",
       "63                     PesaBazaar                     Fintech   \n",
       "64                        PesaKit                     Fintech   \n",
       "65                        PesaPal                     Fintech   \n",
       "66                        Pezesha                     Fintech   \n",
       "67                Popote Payments                     Fintech   \n",
       "68       Power Financial Wellness                     Fintech   \n",
       "69                          Raise                     Fintech   \n",
       "70                   RePay Africa                     Fintech   \n",
       "71                          Route                     Fintech   \n",
       "72                        SafePay                     Fintech   \n",
       "73                      SaveKubwa                     Fintech   \n",
       "74                          Shara                     Fintech   \n",
       "75                       SimbaPay                     Fintech   \n",
       "76                      simplePOS                     Fintech   \n",
       "77                        Spektra                     Fintech   \n",
       "78               String Analytics                     Fintech   \n",
       "79                     SuperFluid                     Fintech   \n",
       "80                          Tanda                     Fintech   \n",
       "81                      Transcode                     Fintech   \n",
       "82                          Tulix                     Fintech   \n",
       "83                         Turaco                     Fintech   \n",
       "84                        UbaPesa                     Fintech   \n",
       "85                          Ujuzi                     Fintech   \n",
       "86                       UzaPoint                     Fintech   \n",
       "87                          Vooli                     Fintech   \n",
       "88                        WapiPay                     Fintech   \n",
       "89                    Watu Credit                     Fintech   \n",
       "90                      WazInsure                     Fintech   \n",
       "91                        Weza.io                     Fintech   \n",
       "92                       Wingubox                     Fintech   \n",
       "93                         Zagace                     Fintech   \n",
       "94                         Zanifu                     Fintech   \n",
       "95                            NaN                         NaN   \n",
       "96                       E-health                         NaN   \n",
       "97                    Access Afya                    E-health   \n",
       "98                      Afya Plan                    E-health   \n",
       "99                     Afya Rekod                    E-health   \n",
       "100          Afya Research Africa                    E-health   \n",
       "101                 Baobab Circle                    E-health   \n",
       "102                     Damu Sasa                    E-health   \n",
       "103               Deaf Elimu Plus                    E-health   \n",
       "104                         Flare                    E-health   \n",
       "105                  Health-e-Net                    E-health   \n",
       "106                   Hope Tech +                    E-health   \n",
       "107                  Ilara Health                    E-health   \n",
       "108                   Lily.Health                    E-health   \n",
       "109                        M-TIBA                    E-health   \n",
       "110                       Medbook                    E-health   \n",
       "111                       Medixus                    E-health   \n",
       "112                   MumsVillage                    E-health   \n",
       "113                        myDAWA                    E-health   \n",
       "114           Neural Labs Africa                     E-health   \n",
       "115                 Nurse In Hand                    E-health   \n",
       "116                  Snark Health                    E-health   \n",
       "117                        Tambua                    E-health   \n",
       "118                      TeleAfya                    E-health   \n",
       "119         The Pathology Network                    E-health   \n",
       "120                          TIBU                    E-health   \n",
       "121                    Totohealth                    E-health   \n",
       "122                   Ujuzi Fursa                    E-health   \n",
       "123                  Usalama Tech                    E-health   \n",
       "124                      Uthabiti                    E-health   \n",
       "125                          Wazi                    E-health   \n",
       "126                        Yapili                    E-health   \n",
       "127                   Zuri Health                    E-health   \n",
       "128                           NaN                         NaN   \n",
       "129                     Agri-tech                         NaN   \n",
       "130                  Afriagrimark                   Agri-tech   \n",
       "131                        Annona                   Agri-tech   \n",
       "132            Apollo Agriculture                   Agri-tech   \n",
       "133                     Aqua Rech                   Agri-tech   \n",
       "134                       Arinifu                   Agri-tech   \n",
       "135                         Cinch                   Agri-tech   \n",
       "136               eProd Solutions                   Agri-tech   \n",
       "137                       Farm IT                   Agri-tech   \n",
       "138                 Farmers Pride                   Agri-tech   \n",
       "139                   Farmingtech                   Agri-tech   \n",
       "140                     Farmshine                   Agri-tech   \n",
       "141                    Futurepump                   Agri-tech   \n",
       "142                     GrowAgric                   Agri-tech   \n",
       "143                      iFarm360                   Agri-tech   \n",
       "144               iProcure Africa                   Agri-tech   \n",
       "145                          Kuza                   Agri-tech   \n",
       "146                       Lentera                   Agri-tech   \n",
       "147                        M-Farm                   Agri-tech   \n",
       "148            Mkulima Young Soko                   Agri-tech   \n",
       "149                          Pula                   Agri-tech   \n",
       "150             Radava Mercentile                   Agri-tech   \n",
       "151             Raino Tech4Impact                   Agri-tech   \n",
       "152                Selina Wamucii                   Agri-tech   \n",
       "153                  Shamba Pride                   Agri-tech   \n",
       "154                Shamba Records                   Agri-tech   \n",
       "155                   SolarFreeze                   Agri-tech   \n",
       "156                       Synnefa                   Agri-tech   \n",
       "157                       Taimba                    Agri-tech   \n",
       "158                   Twiga Foods                   Agri-tech   \n",
       "159                  Ujuzi Kilimo                   Agri-tech   \n",
       "160                        WeFarm                   Agri-tech   \n",
       "161                           NaN                         NaN   \n",
       "162                    Blockchain                         NaN   \n",
       "163                   AZA Finance                     Fintech   \n",
       "164                       Bismart                     Fintech   \n",
       "165                       BitLipa                     Fintech   \n",
       "166                       Bitsoko                     Fintech   \n",
       "167                     Crypsense                     Fintech   \n",
       "168                    Kotani Pay                     Fintech   \n",
       "169                          Lakt                     Fintech   \n",
       "170                          Nash                     Fintech   \n",
       "171                      Pesabase                     Fintech   \n",
       "172                       Pezesha                     Fintech   \n",
       "173                         Raise                     Fintech   \n",
       "174                        Zagace                     Fintech   \n",
       "175                    Afya Rekod                    E-health   \n",
       "176                        M-TIBA                    E-health   \n",
       "177                        myDAWA                    E-health   \n",
       "178                 Nurse In Hand                    E-health   \n",
       "179                  Snark Health                    E-health   \n",
       "180                      Uthabiti                    E-health   \n",
       "181                        Annona                   Agri-tech   \n",
       "182                     Farmshine                   Agri-tech   \n",
       "183                          Pula                   Agri-tech   \n",
       "184                Shamba Records                   Agri-tech   \n",
       "185                   Twiga Foods                   Agri-tech   \n",
       "186                       Aircart  E-commerce and retail-tech   \n",
       "187                        M-Post                   Logistics   \n",
       "188                    RippleNami                   Logistics   \n",
       "189                      Gridless                      Energy   \n",
       "190                           UTU                      AI/IoT   \n",
       "191                         Ledja            Digital identity   \n",
       "192                  Vibranium ID            Digital identity   \n",
       "193                           NaN                         NaN   \n",
       "194    E-commerce and retail-tech                         NaN   \n",
       "195                  AfricaSokoni  E-commerce and retail-tech   \n",
       "196                       Aircart  E-commerce and retail-tech   \n",
       "197                          ANDO  E-commerce and retail-tech   \n",
       "198                        Badili  E-commerce and retail-tech   \n",
       "199                        Bamba   E-commerce and retail-tech   \n",
       "200                       BuuPass  E-commerce and retail-tech   \n",
       "201                     Cartnshop  E-commerce and retail-tech   \n",
       "202                   CashBackApp  E-commerce and retail-tech   \n",
       "203                         Copia  E-commerce and retail-tech   \n",
       "204                      DohYangu  E-commerce and retail-tech   \n",
       "205                         Duhqa  E-commerce and retail-tech   \n",
       "206                      Dukapepe  E-commerce and retail-tech   \n",
       "207                         Elloe  E-commerce and retail-tech   \n",
       "208                   MarketForce  E-commerce and retail-tech   \n",
       "209                   Mawu Africa  E-commerce and retail-tech   \n",
       "210                    Mobiticket  E-commerce and retail-tech   \n",
       "211                   Olivinetech  E-commerce and retail-tech   \n",
       "212                     PesaPoint  E-commerce and retail-tech   \n",
       "213                          Side  E-commerce and retail-tech   \n",
       "214                          Soko  E-commerce and retail-tech   \n",
       "215                       Sukhiba  E-commerce and retail-tech   \n",
       "216                    TopUp Mama  E-commerce and retail-tech   \n",
       "217                        Tushop  E-commerce and retail-tech   \n",
       "218                         Twiva  E-commerce and retail-tech   \n",
       "219              Uncover Skincare  E-commerce and retail-tech   \n",
       "220                        Wasoko  E-commerce and retail-tech   \n",
       "221                Weddings Kenya  E-commerce and retail-tech   \n",
       "222                           Yum  E-commerce and retail-tech   \n",
       "223                          ZUMI  E-commerce and retail-tech   \n",
       "224                           NaN                         NaN   \n",
       "225              Recruitment & HR                         NaN   \n",
       "226                     CampusBiz          Recruitment and HR   \n",
       "227                    Duma Works          Recruitment and HR   \n",
       "228                       FaidiHR          Recruitment and HR   \n",
       "229                        Fundis          Recruitment and HR   \n",
       "230                          Fuzu          Recruitment and HR   \n",
       "231                       KaziNow          Recruitment and HR   \n",
       "232                   Kazi Remote          Recruitment and HR   \n",
       "233                      LetaWera          Recruitment and HR   \n",
       "234                        Kisafi          Recruitment and HR   \n",
       "235                      Kuhustle          Recruitment and HR   \n",
       "236                        Onesha          Recruitment and HR   \n",
       "237                        Peleza          Recruitment and HR   \n",
       "238                     SapamaERP          Recruitment and HR   \n",
       "239                     SwiftAide          Recruitment and HR   \n",
       "240                   TalentBoard          Recruitment and HR   \n",
       "241                    Tiny Titos          Recruitment and HR   \n",
       "242                     Uhired.me          Recruitment and HR   \n",
       "243                       WorkPay          Recruitment and HR   \n",
       "244                         Ziada          Recruitment and HR   \n",
       "245                           NaN                         NaN   \n",
       "246                       Ed-tech                         NaN   \n",
       "247  African Management Institute                     Ed-tech   \n",
       "248                  Angaza Elimu                     Ed-tech   \n",
       "249                         Arifu                     Ed-tech   \n",
       "250                       Craydel                     Ed-tech   \n",
       "251                        Dawati                     Ed-tech   \n",
       "252                         Elewa                     Ed-tech   \n",
       "253               Eneza Education                     Ed-tech   \n",
       "254                        Kidato                     Ed-tech   \n",
       "255                        Kytabu                     Ed-tech   \n",
       "256                       M-Lugha                     Ed-tech   \n",
       "257                       M-Shule                     Ed-tech   \n",
       "258                        M-Soma                     Ed-tech   \n",
       "259                Moringa School                     Ed-tech   \n",
       "260                        mSwali                     Ed-tech   \n",
       "261                       Sunrise                     Ed-tech   \n",
       "262                       Tustawi                     Ed-tech   \n",
       "263                        Yusudi                     Ed-tech   \n",
       "264                         Zydii                     Ed-tech   \n",
       "265                           NaN                         NaN   \n",
       "266                     Logistics                         NaN   \n",
       "267                      Amitruck                   Logistics   \n",
       "268                       Ayazona                   Logistics   \n",
       "269                 Fleetsimplify                   Logistics   \n",
       "270                        GoBeba                   Logistics   \n",
       "271                  Logistify AI                   Logistics   \n",
       "272                  Lori Systems                   Logistics   \n",
       "273                        M-Post                   Logistics   \n",
       "274                          OkHi                   Logistics   \n",
       "275                    RippleNami                   Logistics   \n",
       "276                         Sendy                   Logistics   \n",
       "277                         Senga                   Logistics   \n",
       "278                        Sinbad                   Logistics   \n",
       "279                          Sote                   Logistics   \n",
       "280               StoFresh Africa                   Logistics   \n",
       "281                           NaN                         NaN   \n",
       "282                      Mobility                         NaN   \n",
       "283                        BasiGo                    Mobility   \n",
       "284               Data Integrated                    Mobility   \n",
       "285                      Ecobodaa                    Mobility   \n",
       "286                       Kiri EV                    Mobility   \n",
       "287                        Komboa                    Mobility   \n",
       "288                      Ma3Route                    Mobility   \n",
       "289                 Mazi Mobility                    Mobility   \n",
       "290                          Roam                    Mobility   \n",
       "291                           NaN                         NaN   \n",
       "292                     Marketing                         NaN   \n",
       "293                        AdLink                   Marketing   \n",
       "294                     AIfluence                   Marketing   \n",
       "295                          Ajua                   Marketing   \n",
       "296                      Synatech                   Marketing   \n",
       "297                    Swifttdial                   Marketing   \n",
       "298                       Teleeza                   Marketing   \n",
       "299                         Wowzi                   Marketing   \n",
       "300                           NaN                         NaN   \n",
       "301                        Energy                         NaN   \n",
       "302                         Agsol                      Energy   \n",
       "303                      Freshbox                      Energy   \n",
       "304                      Gridless                      Energy   \n",
       "305                       HydroIQ                      Energy   \n",
       "306                        M-Paya                      Energy   \n",
       "307                  PayGo Energy                      Energy   \n",
       "308                    SunCulture                      Energy   \n",
       "309                           NaN                         NaN   \n",
       "310                         Other                         NaN   \n",
       "311                       Kijenzi                 3D printing   \n",
       "312        Flint Home Integrators                      AI/IoT   \n",
       "313              Gro Intelligence                      AI/IoT   \n",
       "314                       KOSA AI                      AI/IoT   \n",
       "315                           UTU                      AI/IoT   \n",
       "316                        Angani                       Cloud   \n",
       "317                 Eneza Telecom                       Cloud   \n",
       "318                   Node Africa                       Cloud   \n",
       "319                          WAYO                       Cloud   \n",
       "320              Africa's Talking              Communications   \n",
       "321                          BRCK                Connectivity   \n",
       "322                    NikoRadius                Connectivity   \n",
       "323         Internet of Elephants                Conservation   \n",
       "324                        Komaza                Conservation   \n",
       "325                         Jumba                Construction   \n",
       "326                        ManPro                Construction   \n",
       "327                        JabJab               Cybersecurity   \n",
       "328                         Ledja            Digital identity   \n",
       "329                  Vibranium ID            Digital identity   \n",
       "330                 Astral Aerial                      Drones   \n",
       "331                        Mdundo               Entertainment   \n",
       "332                      Imara TV               Entertainment   \n",
       "333                         Smubu               Entertainment   \n",
       "334                      MyMovies               Entertainment   \n",
       "335                   Optimetriks            Field management   \n",
       "336            Enfinite Solutions                  Legal-tech   \n",
       "337                   Sheria Soft                  Legal-tech   \n",
       "338                        xetova                 Procurement   \n",
       "339                        e-Kodi                   Prop-tech   \n",
       "340              EasyHouse Africa                   Prop-tech   \n",
       "341                      KiotaPay                   Prop-tech   \n",
       "342                         Silqu                   Prop-tech   \n",
       "343            Alternative Circle                    Software   \n",
       "344                        AmTech                    Software   \n",
       "345                        Brance                    Software   \n",
       "346                        Bunifu                    Software   \n",
       "347           Farwell Innovations                    Software   \n",
       "348                     HydraTech                    Software   \n",
       "349                   Masterclass                    Software   \n",
       "350                     Osta Tech                    Software   \n",
       "351                    RafikiSoft                    Software   \n",
       "352                   Studia Labs                    Software   \n",
       "353             Elephant Bookings                     Tourism   \n",
       "354                  Nomad Africa                     Tourism   \n",
       "355                       Vibanda                     Tourism   \n",
       "356                         Sauti                  Trade tech   \n",
       "357                      Solutech                  Trade tech   \n",
       "358                 BlackRhino VR                          VR   \n",
       "359                        Gjenge            Waste management   \n",
       "360               Mr Green Africa            Waste management   \n",
       "361                      MobiTech            Water management   \n",
       "\n",
       "                                      Sub-sector  Year of launch       HQ  \\\n",
       "0                                            NaN             NaN      NaN   \n",
       "1                                            NaN             NaN      NaN   \n",
       "2                                     Investtech          2014.0  Nairobi   \n",
       "3                               Personal finance          2021.0  Nairobi   \n",
       "4                          Lending and financing          2021.0  Nairobi   \n",
       "5                          Lending and financing          2016.0  Nairobi   \n",
       "6                                 Business admin          2017.0  Nairobi   \n",
       "7                       Payments and remittances          2013.0  Nairobi   \n",
       "8                          Lending and financing          2016.0  Nairobi   \n",
       "9                                      Insurtech          2020.0  Nairobi   \n",
       "10                                     Insurtech          2017.0  Nairobi   \n",
       "11                      Payments and remittances          2019.0  Nairobi   \n",
       "12                                    Blockchain          2013.0  Nairobi   \n",
       "13                                Business admin          2020.0  Nairobi   \n",
       "14                              Personal finance          2019.0  Nairobi   \n",
       "15                                    Investtech          2013.0  Nairobi   \n",
       "16                      Payments and remittances          2021.0  Nairobi   \n",
       "17                                         Other          2015.0  Nairobi   \n",
       "18                              Personal finance          2019.0  Nairobi   \n",
       "19                      Payments and remittances          2012.0  Nairobi   \n",
       "20                         Lending and financing          2018.0  Nairobi   \n",
       "21                         Lending and financing          2015.0  Nairobi   \n",
       "22                                  Open finance          2020.0  Nairobi   \n",
       "23                                    Blockchain          2022.0  Nairobi   \n",
       "24                                     Insurtech          2016.0  Nairobi   \n",
       "25                                Business admin          2020.0  Nairobi   \n",
       "26                      Payments and remittances          2016.0  Nairobi   \n",
       "27                         Lending and financing          2018.0  Nairobi   \n",
       "28                                Business admin          2015.0  Nairobi   \n",
       "29                         Lending and financing          2018.0  Nairobi   \n",
       "30                                Business admin          2017.0  Nairobi   \n",
       "31                      Payments and remittances          2016.0  Nairobi   \n",
       "32                         Lending and financing          2018.0  Nairobi   \n",
       "33                                    Investtech          2020.0  Nairobi   \n",
       "34                      Payments and remittances          2019.0  Nairobi   \n",
       "35                                     Insurtech          2015.0  Nairobi   \n",
       "36                      Payments and remittances          2020.0  Nairobi   \n",
       "37                                     Insurtech          2018.0  Nairobi   \n",
       "38                         Lending and financing          2017.0  Nairobi   \n",
       "39                              Personal finance          2020.0  Nairobi   \n",
       "40                                Business admin          2012.0  Nairobi   \n",
       "41                      Payments and remittances          2020.0  Nairobi   \n",
       "42                         Lending and financing          2018.0  Nairobi   \n",
       "43                      Payments and remittances          2020.0  Nairobi   \n",
       "44                              Personal finance          2016.0  Nairobi   \n",
       "45                                     Insurtech          2018.0  Nairobi   \n",
       "46                         Lending and financing          2017.0  Nairobi   \n",
       "47                                Business admin          2021.0  Nairobi   \n",
       "48                      Payments and remittances          2014.0  Nairobi   \n",
       "49                      Payments and remittances          2011.0  Nairobi   \n",
       "50                         Lending and financing          2012.0  Nairobi   \n",
       "51                      Payments and remittances          2012.0  Nairobi   \n",
       "52                      Payments and remittances          2022.0  Nairobi   \n",
       "53                                     Insurtech          2019.0  Nairobi   \n",
       "54                                     Insurtech          2015.0  Nairobi   \n",
       "55                         Lending and financing          2020.0  Nairobi   \n",
       "56                                Business admin          2020.0  Nairobi   \n",
       "57                                    Investtech          2020.0  Nairobi   \n",
       "58                      Payments and remittances          2017.0  Nairobi   \n",
       "59                                Business admin          2022.0  Nairobi   \n",
       "60                                Business admin          2021.0  Nairobi   \n",
       "61                         Lending and financing          2019.0  Nairobi   \n",
       "62                      Payments and remittances          2017.0  Nairobi   \n",
       "63                                     Insurtech          2016.0  Nairobi   \n",
       "64                                Business admin          2018.0  Nairobi   \n",
       "65                      Payments and remittances          2009.0  Nairobi   \n",
       "66                         Lending and financing          2016.0  Nairobi   \n",
       "67                                Business admin          2015.0  Nairobi   \n",
       "68                                         Other          2019.0  Nairobi   \n",
       "69                                    Investtech          2020.0  Nairobi   \n",
       "70                      Payments and remittances          2020.0  Nairobi   \n",
       "71                                         Other          2021.0  Nairobi   \n",
       "72                      Payments and remittances          2014.0  Nairobi   \n",
       "73                                     Insurtech          2015.0  Nairobi   \n",
       "74                                Business admin          2020.0  Nairobi   \n",
       "75                      Payments and remittances          2013.0  Nairobi   \n",
       "76                                Business admin          2018.0  Nairobi   \n",
       "77                      Payments and remittances          2019.0  Nairobi   \n",
       "78                         Lending and financing          2019.0  Nairobi   \n",
       "79                         Lending and financing          2015.0  Nairobi   \n",
       "80                      Payments and remittances          2018.0  Nairobi   \n",
       "81                               Security and ID          2018.0  Nairobi   \n",
       "82                      Payments and remittances          2020.0  Nairobi   \n",
       "83                                     Insurtech          2019.0  Nairobi   \n",
       "84                         Lending and financing          2018.0  Nairobi   \n",
       "85                               Security and ID          2013.0  Nairobi   \n",
       "86                                Business admin          2015.0  Nairobi   \n",
       "87                                     Insurtech          2020.0  Nairobi   \n",
       "88                      Payments and remittances          2019.0  Nairobi   \n",
       "89                         Lending and financing          2015.0  Mombasa   \n",
       "90                                     Insurtech          2016.0  Nairobi   \n",
       "91                         Lending and financing          2016.0  Nairobi   \n",
       "92                                Business admin          2007.0  Nairobi   \n",
       "93                                Business admin          2013.0  Nairobi   \n",
       "94                         Lending and financing          2016.0  Nairobi   \n",
       "95                                           NaN             NaN      NaN   \n",
       "96                                           NaN             NaN      NaN   \n",
       "97                                         Other          2012.0  Nairobi   \n",
       "98                              Health Insurance          2017.0  Nairobi   \n",
       "99                                           EHR          2020.0  Nairobi   \n",
       "100          Practice management and procurement          2009.0  Nairobi   \n",
       "101             Health info / Virtual Healthcare          2016.0  Nairobi   \n",
       "102          Practice management and procurement          2017.0  Nairobi   \n",
       "103                                        Other          2016.0  Nairobi   \n",
       "104                           Emergency response          2016.0  Nairobi   \n",
       "105             Health info / Virtual healthcare          2012.0  Nairobi   \n",
       "106                                        Other          2017.0  Nairobi   \n",
       "107  Diagnostics inc. clinical decisions support          2018.0  Nairobi   \n",
       "108             Health info / Virtual Healthcare          2017.0  Nairobi   \n",
       "109                             Health Insurance          2014.0  Mombasa   \n",
       "110             Health info / Virtual Healthcare          2014.0  Nairobi   \n",
       "111             Health info / Virtual Healthcare          2015.0  Nairobi   \n",
       "112                              Maternal health          2015.0  Nairobi   \n",
       "113                                        Other          2016.0  Nairobi   \n",
       "114  Diagnostics inc. clinical decisions support          2020.0  Nairobi   \n",
       "115                           Emergency response          2017.0  Nairobi   \n",
       "116             Health info / Virtual Healthcare          2018.0  Nairobi   \n",
       "117  Diagnostics inc. clinical decisions support          2017.0  Nairobi   \n",
       "118             Health info / Virtual Healthcare          2020.0  Nairobi   \n",
       "119  Diagnostics inc. clinical decisions support          2017.0     Meru   \n",
       "120                                     Bookings          2019.0  Nairobi   \n",
       "121                              Maternal health          2014.0  Nairobi   \n",
       "122                                     Bookings          2018.0  Nairobi   \n",
       "123                           Emergency response          2016.0  Nairobi   \n",
       "124                                        Other          2015.0  Nairobi   \n",
       "125             Health info / Virtual Healthcare          2019.0  Nairobi   \n",
       "126             Health info / Virtual healthcare          2014.0  Nairobi   \n",
       "127             Health info / Virtual healthcare          2020.0  Nairobi   \n",
       "128                                          NaN             NaN      NaN   \n",
       "129                                          NaN             NaN      NaN   \n",
       "130                                   E-commerce          2020.0  Nairobi   \n",
       "131             Farm and supply chain management          2015.0  Nairobi   \n",
       "132                         AI / IoT for farmers          2016.0  Nairobi   \n",
       "133                                        Other          2019.0   Kisumu   \n",
       "134                         AI / IoT for farmers          2018.0  Nairobi   \n",
       "135                          Fintech for farmers          2017.0  Nairobi   \n",
       "136             Farm and supply chain management          2015.0  Nairobi   \n",
       "137            Information and knowledge sharing          2018.0  Nairobi   \n",
       "138             Farm and supply chain management          2016.0  Nairobi   \n",
       "139             Farm and supply chain management          2017.0  Nairobi   \n",
       "140                                   E-commerce          2017.0  Nairobi   \n",
       "141                                        Other          2011.0  Nairobi   \n",
       "142                          Fintech for farmers          2020.0  Nairobi   \n",
       "143                          Fintech for farmers          2020.0  Nairobi   \n",
       "144             Farm and supply chain management          2013.0  Nairobi   \n",
       "145            Information and knowledge sharing          2022.0  Nairobi   \n",
       "146                         AI / IoT for farmers          2017.0  Nairobi   \n",
       "147                                   E-commerce          2011.0  Nairobi   \n",
       "148                                   E-commerce          2012.0  Nairobi   \n",
       "149                          Fintech for farmers          2014.0  Nairobi   \n",
       "150                          Fintech for farmers          2021.0  Nairobi   \n",
       "151             Farm and supply chain management          2019.0  Nairobi   \n",
       "152                                   E-commerce          2015.0  Nairobi   \n",
       "153             Farm and supply chain management          2016.0  Nairobi   \n",
       "154             Farm and supply chain management          2017.0  Nairobi   \n",
       "155                                        Other          2017.0  Nairobi   \n",
       "156                         AI / IoT for farmers          2013.0  Nairobi   \n",
       "157                                   E-commerce          2016.0  Nairobi   \n",
       "158             Farm and supply chain management          2013.0  Nairobi   \n",
       "159                         AI / IoT for farmers          2016.0  Nairobi   \n",
       "160            Information and knowledge sharing          2014.0  Nairobi   \n",
       "161                                          NaN             NaN      NaN   \n",
       "162                                          NaN             NaN      NaN   \n",
       "163                     Payments and remittances          2013.0  Nairobi   \n",
       "164                                    Insurtech          2017.0  Nairobi   \n",
       "165                     Payments and remittances          2019.0  Nairobi   \n",
       "166                                   Blockchain          2013.0  Nairobi   \n",
       "167                                   Blockchain          2022.0  Nairobi   \n",
       "168                     Payments and remittances          2020.0  Nairobi   \n",
       "169                             Personal finance          2016.0  Nairobi   \n",
       "170                               Business admin          2020.0  Nairobi   \n",
       "171                     Payments and remittances          2017.0  Nairobi   \n",
       "172                        Lending and financing          2016.0  Nairobi   \n",
       "173                                   Investtech          2020.0  Nairobi   \n",
       "174                               Business admin          2013.0  Nairobi   \n",
       "175                                          EHR          2020.0  Nairobi   \n",
       "176                             Health Insurance          2014.0  Mombasa   \n",
       "177                                        Other          2016.0  Nairobi   \n",
       "178                           Emergency response          2017.0  Nairobi   \n",
       "179             Health info / Virtual Healthcare          2018.0  Nairobi   \n",
       "180                                        Other          2015.0  Nairobi   \n",
       "181             Farm and supply chain management          2015.0  Nairobi   \n",
       "182                                   E-commerce          2017.0  Nairobi   \n",
       "183                          Fintech for farmers          2014.0  Nairobi   \n",
       "184             Farm and supply chain management          2017.0  Nairobi   \n",
       "185             Farm and supply chain management          2013.0  Nairobi   \n",
       "186                                Multi-product          2021.0  Nairobi   \n",
       "187                                          NaN          2016.0  Nairobi   \n",
       "188                                          NaN          2015.0  Nairobi   \n",
       "189                                          NaN          2022.0  Nairobi   \n",
       "190                                          NaN          2015.0  Nairobi   \n",
       "191                                          NaN          2021.0  Nairobi   \n",
       "192                                          NaN          2019.0  Nairobi   \n",
       "193                                          NaN             NaN      NaN   \n",
       "194                                          NaN             NaN      NaN   \n",
       "195                                Multi-product          2018.0  Nairobi   \n",
       "196                                Multi-product          2021.0  Nairobi   \n",
       "197                   Food, drinks and groceries          2020.0  Nairobi   \n",
       "198                                  Electronics          2021.0  Nairobi   \n",
       "199                                  Retail-tech          2022.0  Nairobi   \n",
       "200                                        Other          2015.0  Nairobi   \n",
       "201                      E-commerce facilitation          2018.0  Nairobi   \n",
       "202                      E-commerce facilitation          2018.0  Nairobi   \n",
       "203                                Multi-product          2013.0  Nairobi   \n",
       "204                      E-commerce facilitation          2020.0  Nairobi   \n",
       "205                                  Retail-tech          2021.0  Nairobi   \n",
       "206                                  Retail-tech          2017.0  Nairobi   \n",
       "207                      E-commerce facilitation          2021.0  Nairobi   \n",
       "208                      E-commerce facilitation          2018.0  Nairobi   \n",
       "209                                        Other          2021.0  Nairobi   \n",
       "210                                        Other          2017.0  Nairobi   \n",
       "211                                  Retail-tech          2010.0  Nairobi   \n",
       "212                                Multi-product          2010.0  Nairobi   \n",
       "213                                Multi-product          2021.0  Nairobi   \n",
       "214                        Apparel & Accessories          2011.0  Nairobi   \n",
       "215                                Multi-product          2020.0  Nairobi   \n",
       "216                                  Retail-tech          2021.0  Nairobi   \n",
       "217                                Multi-product          2021.0  Nairobi   \n",
       "218                                Multi-product          2020.0  Nairobi   \n",
       "219                                        Other          2020.0  Nairobi   \n",
       "220                                  Retail-tech          2013.0  Nairobi   \n",
       "221                                        Other          2008.0  Nairobi   \n",
       "222                   Food, drinks and groceries          2012.0  Nairobi   \n",
       "223                        Apparel & Accessories          2016.0  Nairobi   \n",
       "224                                          NaN             NaN      NaN   \n",
       "225                                          NaN             NaN      NaN   \n",
       "226                                          NaN          2017.0  Nairobi   \n",
       "227                                          NaN          2012.0  Nairobi   \n",
       "228                                          NaN          2020.0  Nairobi   \n",
       "229                                          NaN          2019.0  Nairobi   \n",
       "230                                          NaN          2015.0  Nairobi   \n",
       "231                                          NaN          2020.0  Nairobi   \n",
       "232                                          NaN          2017.0  Nairobi   \n",
       "233                                          NaN          2020.0  Nairobi   \n",
       "234                                          NaN          2016.0  Nairobi   \n",
       "235                                          NaN          2014.0  Nairobi   \n",
       "236                                          NaN          2015.0  Nairobi   \n",
       "237                                          NaN          2015.0  Nairobi   \n",
       "238                                          NaN          2010.0  Nairobi   \n",
       "239                                          NaN          2017.0  Nairobi   \n",
       "240                                          NaN          2017.0  Nairobi   \n",
       "241                                          NaN          2013.0  Nairobi   \n",
       "242                                          NaN          2012.0  Nairobi   \n",
       "243                                          NaN          2017.0  Nairobi   \n",
       "244                                          NaN          2017.0  Nairobi   \n",
       "245                                          NaN             NaN      NaN   \n",
       "246                                          NaN             NaN      NaN   \n",
       "247          Learner-facing educational platform          2013.0  Nairobi   \n",
       "248                  Learning management systems          2016.0  Nairobi   \n",
       "249          Learner-facing educational platform          2013.0  Nairobi   \n",
       "250                      Educational facilitator          2021.0  Nairobi   \n",
       "251          Learner-facing educational platform          2016.0  Nairobi   \n",
       "252                  Learning management systems          2015.0  Nairobi   \n",
       "253          Learner-facing educational platform          2012.0  Nairobi   \n",
       "254          Learner-facing educational platform          2019.0  Nairobi   \n",
       "255                      Educational facilitator          2012.0  Nairobi   \n",
       "256          Learner-facing educational platform          2019.0  Nairobi   \n",
       "257          Learner-facing educational platform          2016.0  Nairobi   \n",
       "258          Learner-facing educational platform          2022.0  Nairobi   \n",
       "259          Learner-facing educational platform          2014.0  Nairobi   \n",
       "260          Learner-facing educational platform          2020.0  Nairobi   \n",
       "261          Learner-facing educational platform          2021.0  Nairobi   \n",
       "262          Learner-facing educational platform          2019.0  Nairobi   \n",
       "263          Learner-facing educational platform          2016.0  Nairobi   \n",
       "264          Learner-facing educational platform          2016.0  Nairobi   \n",
       "265                                          NaN             NaN      NaN   \n",
       "266                                          NaN             NaN      NaN   \n",
       "267                                          NaN          2019.0  Nairobi   \n",
       "268                                          NaN          2020.0  Nairobi   \n",
       "269                                          NaN          2018.0  Nairobi   \n",
       "270                                          NaN          2019.0  Nairobi   \n",
       "271                                          NaN          2019.0  Nairobi   \n",
       "272                                          NaN          2016.0  Nairobi   \n",
       "273                                          NaN          2016.0  Nairobi   \n",
       "274                                          NaN          2014.0  Nairobi   \n",
       "275                                          NaN          2015.0  Nairobi   \n",
       "276                                          NaN          2014.0  Nairobi   \n",
       "277                                          NaN          2016.0  Nairobi   \n",
       "278                                          NaN          2018.0  Nairobi   \n",
       "279                                          NaN          2018.0  Nairobi   \n",
       "280                                          NaN          2022.0  Nairobi   \n",
       "281                                          NaN             NaN      NaN   \n",
       "282                                          NaN             NaN      NaN   \n",
       "283                                          NaN          2021.0  Nairobi   \n",
       "284                                          NaN          2012.0  Nairobi   \n",
       "285                                          NaN          2020.0  Nairobi   \n",
       "286                                          NaN          2020.0  Nairobi   \n",
       "287                                          NaN          2017.0  Nairobi   \n",
       "288                                          NaN          2012.0  Nairobi   \n",
       "289                                          NaN          2019.0  Nairobi   \n",
       "290                                          NaN          2017.0  Nairobi   \n",
       "291                                          NaN             NaN      NaN   \n",
       "292                                          NaN             NaN      NaN   \n",
       "293                                          NaN          2014.0  Nairobi   \n",
       "294                                          NaN          2019.0  Nairobi   \n",
       "295                                          NaN          2019.0  Nairobi   \n",
       "296                                          NaN          2019.0  Nairobi   \n",
       "297                                          NaN          2021.0  Nairobi   \n",
       "298                                          NaN          2018.0  Nairobi   \n",
       "299                                          NaN          2019.0  Nairobi   \n",
       "300                                          NaN             NaN      NaN   \n",
       "301                                          NaN             NaN      NaN   \n",
       "302                                          NaN          2016.0  Nairobi   \n",
       "303                                          NaN          2017.0  Nairobi   \n",
       "304                                          NaN          2022.0  Nairobi   \n",
       "305                                          NaN          2017.0  Nairobi   \n",
       "306                                          NaN          2018.0  Nairobi   \n",
       "307                                          NaN          2015.0  Nairobi   \n",
       "308                                          NaN          2012.0  Nairobi   \n",
       "309                                          NaN             NaN      NaN   \n",
       "310                                          NaN             NaN      NaN   \n",
       "311                                          NaN          2019.0   Kisumu   \n",
       "312                                          NaN          2016.0  Nairobi   \n",
       "313                                          NaN          2014.0  Nairobi   \n",
       "314                                          NaN          2021.0  Nairobi   \n",
       "315                                          NaN          2015.0  Nairobi   \n",
       "316                                          NaN          2013.0  Nairobi   \n",
       "317                                          NaN          2018.0  Nairobi   \n",
       "318                                          NaN          2015.0  Nairobi   \n",
       "319                                          NaN          2015.0  Nairobi   \n",
       "320                                          NaN          2010.0  Nairobi   \n",
       "321                                          NaN          2014.0  Nairobi   \n",
       "322                                          NaN          2019.0  Nairobi   \n",
       "323                                          NaN          2015.0  Nairobi   \n",
       "324                                          NaN          2006.0  Nairobi   \n",
       "325                                          NaN          2022.0  Nairobi   \n",
       "326                                          NaN          2019.0  Nairobi   \n",
       "327                                          NaN          2016.0  Nairobi   \n",
       "328                                          NaN          2021.0  Nairobi   \n",
       "329                                          NaN          2019.0  Nairobi   \n",
       "330                                          NaN          2016.0  Nairobi   \n",
       "331                                          NaN          2013.0  Nairobi   \n",
       "332                                          NaN          2019.0  Nairobi   \n",
       "333                                          NaN          2018.0  Nairobi   \n",
       "334                                          NaN          2014.0  Nairobi   \n",
       "335                                          NaN          2015.0  Nairobi   \n",
       "336                                          NaN          2007.0  Nairobi   \n",
       "337                                          NaN          2013.0  Nairobi   \n",
       "338                                          NaN          2019.0  Nairobi   \n",
       "339                                          NaN          2015.0  Nairobi   \n",
       "340                                          NaN          2020.0  Nairobi   \n",
       "341                                          NaN          2020.0  Nairobi   \n",
       "342                                          NaN          2020.0  Nairobi   \n",
       "343                                          NaN          2017.0  Nairobi   \n",
       "344                                          NaN          2003.0  Nairobi   \n",
       "345                                          NaN          2018.0  Mombasa   \n",
       "346                                          NaN          2011.0  Nairobi   \n",
       "347                                          NaN          2010.0  Nairobi   \n",
       "348                                          NaN          2019.0  Mombasa   \n",
       "349                                          NaN          2013.0  Nairobi   \n",
       "350                                          NaN          2017.0  Nairobi   \n",
       "351                                          NaN          2013.0  Nairobi   \n",
       "352                                          NaN          2017.0  Mombasa   \n",
       "353                                          NaN          2022.0  Nairobi   \n",
       "354                                          NaN          2017.0  Nairobi   \n",
       "355                                          NaN          2012.0  Nairobi   \n",
       "356                                          NaN          2016.0  Nairobi   \n",
       "357                                          NaN          2014.0  Nairobi   \n",
       "358                                          NaN          2015.0  Nairobi   \n",
       "359                                          NaN          2017.0  Nairobi   \n",
       "360                                          NaN          2014.0  Nairobi   \n",
       "361                                          NaN          2017.0  Nairobi   \n",
       "\n",
       "                                  Website  \\\n",
       "0                                     NaN   \n",
       "1                                     NaN   \n",
       "2                   https://abacus.co.ke/   \n",
       "3               https://www.alvinapp.com/   \n",
       "4                      https://araka.app/   \n",
       "5         https://asantefinancegroup.com/   \n",
       "6             https://www.asilimia.co.ke/   \n",
       "7             https://www.azafinance.com/   \n",
       "8                  http://www.azima.tech/   \n",
       "9                    https://bimaleo.com/   \n",
       "10                  https://bismart.co.ke   \n",
       "11               https://www.bitlipa.com/   \n",
       "12         https://bitsoko.wordpress.com/   \n",
       "13                   https://www.boya.co/   \n",
       "14             https://www.cashlet.co.ke/   \n",
       "15                 https://chamasoft.com/   \n",
       "16              https://chaptrglobal.com/   \n",
       "17                 https://cherehani.org/   \n",
       "18                    https://chumz.io/#/   \n",
       "19               https://www.chura.co.ke/   \n",
       "20                https://crediation.com/   \n",
       "21        http://www.creditfactory.co.ke/   \n",
       "22             https://www.credrails.com/   \n",
       "23              https://www.crypsense.io/   \n",
       "24        http://www.denkiminsurance.com/   \n",
       "25             https://www.dukapos.co.ke/   \n",
       "26              https://www.eastpesa.com/   \n",
       "27          https://edpartnersafrica.com/   \n",
       "28                  https://fanakahb.com/   \n",
       "29                  https://finaccess.co/   \n",
       "30              https://finplusgroup.com/   \n",
       "31              http://www.flexpay.co.ke/   \n",
       "32              https://hakki-africa.com/   \n",
       "33                       https://hisa.co/   \n",
       "34                  https://intasend.com/   \n",
       "35           http://www.insureafrika.com/   \n",
       "36                  https://jumuisha.com/   \n",
       "37               https://www.kakbima.com/   \n",
       "38            http://www.klientele.co.ke/   \n",
       "39               https://www.withkoa.com/   \n",
       "40                 http://kopokopo.co.ke/   \n",
       "41                 https://kotanipay.com/   \n",
       "42                     https://kwara.com/   \n",
       "43                  https://kyanda.co.ke/   \n",
       "44                        http://lakt.io/   \n",
       "45                https://www.lami.world/   \n",
       "46                 https://lipalater.com/   \n",
       "47              https://www.lipana.co.ke/   \n",
       "48              https://www.lipaplus.com/   \n",
       "49                   https://lipisha.com/   \n",
       "50                   http://changa.co.ke/   \n",
       "51              https://www.mpayer.co.ke/   \n",
       "52            https://www.mobi-remit.com/   \n",
       "53             https://mtek-services.com/   \n",
       "54            http://www.myinsure.africa/   \n",
       "55                 https://myngovo.co.ke/   \n",
       "56                 https://www.nasheq.co/   \n",
       "57                      https://ndovu.co/   \n",
       "58                   http://nouveta.tech/   \n",
       "59         https://www.odibooks.com/index   \n",
       "60                 https://patika.africa/   \n",
       "61                https://paylend.africa/   \n",
       "62              https://www.pesabase.com/   \n",
       "63            https://www.pesabazaar.com/   \n",
       "64             https://www.pesakit.co.ke/   \n",
       "65               https://www.pesapal.com/   \n",
       "66                    http://pezesha.com/   \n",
       "67            https://popotepayments.com/   \n",
       "68                  https://yourpower.io/   \n",
       "69               https://www.getraise.io/   \n",
       "70              https://www.repay.africa/   \n",
       "71                   https://route.money/   \n",
       "72                 https://safepay.co.ke/   \n",
       "73             https://www.savekubwa.com/   \n",
       "74                  https://www.shara.co/   \n",
       "75              https://get.simbapay.com/   \n",
       "76               https://simplepos.co.ke/   \n",
       "77                  https://dash-app.com/   \n",
       "78          https://string-analytics.com/   \n",
       "79              http://www.superfluid.io/   \n",
       "80              https://www.tanda.africa/   \n",
       "81           https://www.transcode.co.ke/   \n",
       "82                 https://www.tulix.app/   \n",
       "83             https://www.turaco.insure/   \n",
       "84                   https://ubapesa.com/   \n",
       "85        http://www.ujuzicompliance.com/   \n",
       "86                  https://uzapoint.com/   \n",
       "87                     https://vooli.net/   \n",
       "88               https://www.wapipay.com/   \n",
       "89                https://watuafrica.com/   \n",
       "90                 https://wazinsure.com/   \n",
       "91                   https://www.weza.io/   \n",
       "92             https://apps.wingubox.com/   \n",
       "93                    https://zagace.com/   \n",
       "94                https://www.zanifu.com/   \n",
       "95                                    NaN   \n",
       "96                                    NaN   \n",
       "97            https://www.accessafya.com/   \n",
       "98                 http://afyaplan.co.ke/   \n",
       "99         https://www.afyarekod.com/home   \n",
       "100          http://www.afyaresearch.org/   \n",
       "101          http://www.baobabcircle.com/   \n",
       "102          https://www.damu-sasa.co.ke/   \n",
       "103       http://www.deafelimuplus.co.ke/   \n",
       "104           http://flare.capsule.co.ke/   \n",
       "105          http://www.health-e-net.org/   \n",
       "106             https://hopetechplus.com/   \n",
       "107          https://www.ilarahealth.com/   \n",
       "108                  https://lily.health/   \n",
       "109                 https://mtiba.com/go/   \n",
       "110      https://www.medbookafrica.com/#/   \n",
       "111               https://www.medixus.co/   \n",
       "112              https://mumsvillage.com/   \n",
       "113             https://mydawa.com/#/home   \n",
       "114            https://neurallabs.africa/   \n",
       "115              https://nurseinhand.com/   \n",
       "116              https://snarkhealth.com/   \n",
       "117              http://tambuahealth.com/   \n",
       "118             https://teleafya.com/home   \n",
       "119      https://pathologynetwork.africa/   \n",
       "120                  https://tibu.africa/   \n",
       "121       https://totohealth.org/homepage   \n",
       "122      http://www.ujuzifursaafrica.com/   \n",
       "123     http://www.usalamatechnology.com/   \n",
       "124                 https://uthabiti.org/   \n",
       "125                  https://www.wazi.co/   \n",
       "126                   https://yapili.com/   \n",
       "127              https://www.zuri.health/   \n",
       "128                                   NaN   \n",
       "129                                   NaN   \n",
       "130             https://afriagrimark.com/   \n",
       "131                    https://annona.co/   \n",
       "132        https://apolloagriculture.com/   \n",
       "133             https://www.aquarech.com/   \n",
       "134                  https://arinifu.com/   \n",
       "135             https://cinchmarkets.com/   \n",
       "136      https://www.eprod-solutions.com/   \n",
       "137              http://www.farmit.co.ke/   \n",
       "138       https://farmersprideafrica.com/   \n",
       "139                https://digicow.co.ke/   \n",
       "140             https://www.farmshine.io/   \n",
       "141               https://futurepump.com/   \n",
       "142                https://growagric.com/   \n",
       "143                 https://ifarm360.com/   \n",
       "144                    https://iprocu.re/   \n",
       "145                      https://kuza.io/   \n",
       "146             https://lenterafrica.com/   \n",
       "147              https://www.mfarm.co.ke/   \n",
       "148          http://www.mkulimayoung.com/   \n",
       "149        https://www.pula-advisors.com/   \n",
       "150                    https://radava.co/   \n",
       "151       https://www.raino.co.ke/about/#   \n",
       "152        https://www.selinawamucii.com/   \n",
       "153              https://shambapride.com/   \n",
       "154          https://shambarecords.co.ke/   \n",
       "155         http://www.solarfreeze.co.ke/   \n",
       "156               https://www.synnefa.io/   \n",
       "157                 https://taimba.co.ke/   \n",
       "158                http://twigafoods.com/   \n",
       "159           http://www.ujuzikilimo.com/   \n",
       "160                   https://wefarm.org/   \n",
       "161                                   NaN   \n",
       "162                                   NaN   \n",
       "163           https://www.azafinance.com/   \n",
       "164                 https://bismart.co.ke   \n",
       "165              https://www.bitlipa.com/   \n",
       "166        https://bitsoko.wordpress.com/   \n",
       "167             https://www.crypsense.io/   \n",
       "168                https://kotanipay.com/   \n",
       "169                       http://lakt.io/   \n",
       "170                https://www.nasheq.co/   \n",
       "171             https://www.pesabase.com/   \n",
       "172                   http://pezesha.com/   \n",
       "173              https://www.getraise.io/   \n",
       "174                   https://zagace.com/   \n",
       "175        https://www.afyarekod.com/home   \n",
       "176                 https://mtiba.com/go/   \n",
       "177             https://mydawa.com/#/home   \n",
       "178              https://nurseinhand.com/   \n",
       "179              https://snarkhealth.com/   \n",
       "180                 https://uthabiti.org/   \n",
       "181                    https://annona.co/   \n",
       "182             https://www.farmshine.io/   \n",
       "183        https://www.pula-advisors.com/   \n",
       "184          https://shambarecords.co.ke/   \n",
       "185                http://twigafoods.com/   \n",
       "186              https://www.aircart.app/   \n",
       "187               http://www.mpost.co.ke/   \n",
       "188               https://ripplenami.com/   \n",
       "189          https://gridlesscompute.com/   \n",
       "190                       https://utu.io/   \n",
       "191                https://www.ledja.net/   \n",
       "192                 https://vibranium.id/   \n",
       "193                                   NaN   \n",
       "194                                   NaN   \n",
       "195           https://africasokoni.co.ke/   \n",
       "196              https://www.aircart.app/   \n",
       "197             https://www.andofoods.co/   \n",
       "198                https://badili.africa/   \n",
       "199                 https://getbamba.com/   \n",
       "200              https://www.buupass.com/   \n",
       "201                https://cartnshop.com/   \n",
       "202    https://www.cashbackmobileapp.com/   \n",
       "203              https://copiaglobal.com/   \n",
       "204              https://www.dohyangu.ke/   \n",
       "205                https://www.duhqa.com/   \n",
       "206                https://dukapepe.tech/   \n",
       "207                     https://elloe.ai/   \n",
       "208       https://www.marketforce360.com/   \n",
       "209               https://mawuafrica.com/   \n",
       "210              http://mobiticket.co.ke/   \n",
       "211          https://www.olivinetech.com/   \n",
       "212           http://www.pesapoint.co.ke/   \n",
       "213                  https://side.africa/   \n",
       "214                 https://shopsoko.com/   \n",
       "215      https://www.landing.sukhiba.com/   \n",
       "216            https://www.topupmama.com/   \n",
       "217                    https://tushop.io/   \n",
       "218                  https://twiva.co.ke/   \n",
       "219           https://uncoverskincare.co/   \n",
       "220                   https://wasoko.com/   \n",
       "221             http://weddingskenya.com/   \n",
       "222                    https://yum.co.ke/   \n",
       "223                http://www.zumi.co.ke/   \n",
       "224                                   NaN   \n",
       "225                                   NaN   \n",
       "226                       campusbiz.co.ke   \n",
       "227                https://dumaworks.com/   \n",
       "228                  https://faidihr.com/   \n",
       "229                 https://fundis.co.ke/   \n",
       "230                 https://www.fuzu.com/   \n",
       "231                   https://kazinow.ke/   \n",
       "232           https://www.kaziremote.com/   \n",
       "233                 https://letawera.com/   \n",
       "234                   https://kisafi.com/   \n",
       "235             https://www.kuhustle.com/   \n",
       "236                  http://onesha.co.ke/   \n",
       "237                http://www.peleza.com/   \n",
       "238                 http://sapamaerp.com/   \n",
       "239             https://swiftaideapp.com/   \n",
       "240        https://www.talentboard.co.ke/   \n",
       "241            https://www.tinytotos.com/   \n",
       "242                 http://www.uhired.me/   \n",
       "243                https://myworkpay.com/   \n",
       "244             https://www.getziada.com/   \n",
       "245                                   NaN   \n",
       "246                                   NaN   \n",
       "247      https://www.africanmanagers.org/   \n",
       "248              https://angazaelimu.com/   \n",
       "249                https://www.arifu.com/   \n",
       "250                  https://craydel.com/   \n",
       "251                 https://dawati.co.ke/   \n",
       "252                  https://elewa.co.ke/   \n",
       "253             http://enezaeducation.com   \n",
       "254                   https://kidato.com/   \n",
       "255                    http://kytabu.com/   \n",
       "256                  https://m-lugha.com/   \n",
       "257                   https://mshule.com/   \n",
       "258                 http://www.msoma.org/   \n",
       "259            https://moringaschool.com/   \n",
       "260                 https://mswali.co.ke/   \n",
       "261     https://sunrisehomeschooling.com/   \n",
       "262              https://www.tustawi.com/   \n",
       "263                 http://www.yusudi.co/   \n",
       "264                    https://zydii.com/   \n",
       "265                                   NaN   \n",
       "266                                   NaN   \n",
       "267             https://www.amitruck.com/   \n",
       "268                  https://ayazona.com/   \n",
       "269            https://fleetsimplify.com/   \n",
       "270               https://www.gobeba.com/   \n",
       "271             https://www.logistify.ai/   \n",
       "272          https://www.lorisystems.com/   \n",
       "273               http://www.mpost.co.ke/   \n",
       "274                  http://www.okhi.com/   \n",
       "275               https://ripplenami.com/   \n",
       "276                  https://sendyit.com/   \n",
       "277                      http://senga.co/   \n",
       "278              http://www.sinbad.co.ke/   \n",
       "279                  https://getsote.com/   \n",
       "280              https://stofresh.africa/   \n",
       "281                                   NaN   \n",
       "282                                   NaN   \n",
       "283              https://www.basi-go.com/   \n",
       "284         https://dataintegrated.co.ke/   \n",
       "285            https://www.ecobodaa.bike/   \n",
       "286                   https://kiriev.com/   \n",
       "287           https://www.komboagari.com/   \n",
       "288             https://www.ma3route.com/   \n",
       "289         https://www.mazimobility.com/   \n",
       "290           https://www.roammotors.com/   \n",
       "291                                   NaN   \n",
       "292                                   NaN   \n",
       "293             https://www.adlink.co.ke/   \n",
       "294           https://www.ai-fluence.com/   \n",
       "295                     https://ajua.com/   \n",
       "296           https://synatechafrica.com/   \n",
       "297               https://swifttdial.com/   \n",
       "298              https://www.teleeza.com/   \n",
       "299                 https://www.wowzi.co/   \n",
       "300                                   NaN   \n",
       "301                                   NaN   \n",
       "302                 http://www.agsol.com/   \n",
       "303           https://www.freshbox.co.ke/   \n",
       "304          https://gridlesscompute.com/   \n",
       "305           https://www.hydroiq.africa/   \n",
       "306                 https://m-paya.co.ke/   \n",
       "307           https://www.paygoenergy.co/   \n",
       "308                http://sunculture.com/   \n",
       "309                                   NaN   \n",
       "310                                   NaN   \n",
       "311              https://www.kijenzi.com/   \n",
       "312      http://flinthomeintegrators.com/   \n",
       "313         https://gro-intelligence.com/   \n",
       "314                      https://kosa.ai/   \n",
       "315                       https://utu.io/   \n",
       "316                     http://angani.co/   \n",
       "317         https://www.enezatelecom.com/   \n",
       "318                  https://node.africa/   \n",
       "319              https://wayocompany.com/   \n",
       "320           https://africastalking.com/   \n",
       "321                 https://www.brck.com/   \n",
       "322            http://www.nikoradius.com/   \n",
       "323  https://www.internetofelephants.com/   \n",
       "324               https://www.komaza.com/   \n",
       "325             https://www.thejumba.com/   \n",
       "326             https://www.manpro.co.ke/   \n",
       "327           http://www.jabjabgroup.com/   \n",
       "328                https://www.ledja.net/   \n",
       "329                 https://vibranium.id/   \n",
       "330            https://astral-aerial.com/   \n",
       "331                    http://mdundo.com/   \n",
       "332                 https://www.imara.tv/   \n",
       "333          https://www.smubuafrica.com/   \n",
       "334          https://www.mymovies.africa/   \n",
       "335              https://fieldproapp.com/   \n",
       "336        https://enfinitesolutions.com/   \n",
       "337               https://sheriasoft.com/   \n",
       "338               https://www.xetova.com/   \n",
       "339                http://www.e-kodi.com/   \n",
       "340             https://easyhouse.africa/   \n",
       "341           https://www.kiotapay.co.ke/   \n",
       "342                https://www.silqu.com/   \n",
       "343    https://www.alternativecircle.com/   \n",
       "344          http://www.amtechafrica.com/   \n",
       "345       https://brancetech.com/#welcome   \n",
       "346                  http://bunifu.co.ke/   \n",
       "347      https://farwell-consultants.com/   \n",
       "348              https://hydratech.co.ke/   \n",
       "349         http://www.masterclass.co.ke/   \n",
       "350           https://www.ostatech.co.ke/   \n",
       "351            http://www.rafikisoft.com/   \n",
       "352             https://studialabs.co.ke/   \n",
       "353     https://www.elephantbookings.com/   \n",
       "354                 https://nomad.africa/   \n",
       "355               http://www.vibanda.com/   \n",
       "356               http://sautiafrica.org/   \n",
       "357           https://www.solutech.co.ke/   \n",
       "358          http://www.blackrhinovr.com/   \n",
       "359         http://gjenge.co.ke/index.php   \n",
       "360        https://www.mrgreenafrica.com/   \n",
       "361   https://www.techwatersolutions.com/   \n",
       "\n",
       "                               Description of business  Unnamed: 7  \\\n",
       "0                                                  NaN         NaN   \n",
       "1                                                  NaN         NaN   \n",
       "2                     Savings and investments platform         NaN   \n",
       "3                           Savings and budgeting tool         NaN   \n",
       "4                           Vehicle financing platform         NaN   \n",
       "5                                   Credit-led neobank         NaN   \n",
       "6                         Data infrastructure for SMEs         NaN   \n",
       "7                 International money transfer service         NaN   \n",
       "8                             Payroll lending platform         NaN   \n",
       "9                           Digital insurance platform         NaN   \n",
       "10                          Digital insurance platform         NaN   \n",
       "11                            Crypto payments platform         NaN   \n",
       "12     Blockchain-based solutions for small businesses         NaN   \n",
       "13                        Business management solution         NaN   \n",
       "14                    Savings and investments platform         NaN   \n",
       "15                           Chama management platform         NaN   \n",
       "16                           Tuition payments platform         NaN   \n",
       "17                      Multi-product fintech platform         NaN   \n",
       "18                 Mobile money-based savings platform         NaN   \n",
       "19                        Airime and payments platform         NaN   \n",
       "20                           Business lending platform         NaN   \n",
       "21                                    Lending platform         NaN   \n",
       "22                               Open finance platform         NaN   \n",
       "23                  Digital assets management platform         NaN   \n",
       "24                Mobile wallet for insurance products         NaN   \n",
       "25                          Business payments platform         NaN   \n",
       "26                                Remittances platform         NaN   \n",
       "27                        Educational lending platform         NaN   \n",
       "28                          Business payments platform         NaN   \n",
       "29               Software solutions for savings groups         NaN   \n",
       "30           Business management and payments solution         NaN   \n",
       "31                        Save now, buy later platform         NaN   \n",
       "32                          Vehicle financing platform         NaN   \n",
       "33                                     Investments app         NaN   \n",
       "34                            Online payments platform         NaN   \n",
       "35                   Car insurance comparison platform         NaN   \n",
       "36                            Church payments solution         NaN   \n",
       "37   Tools connecting insurance companies with cust...         NaN   \n",
       "38                           Chama management platform         NaN   \n",
       "39                                         Savings app         NaN   \n",
       "40                          Merchant payments platform         NaN   \n",
       "41                  Blockchain-based payments platform         NaN   \n",
       "42                    Credit union management platform         NaN   \n",
       "43                                   Payments platform         NaN   \n",
       "44                    Savings and investments platform         NaN   \n",
       "45                              Insurance API provider         NaN   \n",
       "46                               BNPL service provider         NaN   \n",
       "47                                  Invoicing platform         NaN   \n",
       "48                               SME payments platform         NaN   \n",
       "49                             Mobile payments service         NaN   \n",
       "50                               Crowdfunding platform         NaN   \n",
       "51                          Business payments platform         NaN   \n",
       "52                      Cross-border payments platform         NaN   \n",
       "53                          Digital insurance platform         NaN   \n",
       "54                          Digital insurance platform         NaN   \n",
       "55                                  Salary advance app         NaN   \n",
       "56                        Business management platform         NaN   \n",
       "57                                     Investments app         NaN   \n",
       "58                          Business payments platform         NaN   \n",
       "59                        Business automation platform         NaN   \n",
       "60                     Customer debt tracking solution         NaN   \n",
       "61                                    Lending platform         NaN   \n",
       "62                                   Payments platform         NaN   \n",
       "63                                  Insurance platform         NaN   \n",
       "64                         App for mobile money agents         NaN   \n",
       "65                              Card payments platform         NaN   \n",
       "66                              SME financing platform         NaN   \n",
       "67                        Business management platform         NaN   \n",
       "68                        Employee financial solutions         NaN   \n",
       "69                        Startup fundraising platform         NaN   \n",
       "70                      Mobile money payments platform         NaN   \n",
       "71                                 Digital banking app         NaN   \n",
       "72                           Digital payments platform         NaN   \n",
       "73                                  Insurance platform         NaN   \n",
       "74                          Customer financing service         NaN   \n",
       "75                International money transfer service         NaN   \n",
       "76                        Business management platform         NaN   \n",
       "77                                        Payments app         NaN   \n",
       "78                             Credit-scoring platform         NaN   \n",
       "79                             Credit-scoring platform         NaN   \n",
       "80                          Business payments platform         NaN   \n",
       "81                            Fraud detection platform         NaN   \n",
       "82                              Money transfer service         NaN   \n",
       "83                                  Insurance platform         NaN   \n",
       "84                                P2P lending platform         NaN   \n",
       "85                                       Security & ID         NaN   \n",
       "86                               SME payments platform         NaN   \n",
       "87                                  Insurance platform         NaN   \n",
       "88                        Africa-Asia payment platform         NaN   \n",
       "89                            Asset financing platform         NaN   \n",
       "90                                  Insurance platform         NaN   \n",
       "91                         End to end lending software         NaN   \n",
       "92                                 Accounting platform         NaN   \n",
       "93                        Business management platform         NaN   \n",
       "94                                 Inventory financing         NaN   \n",
       "95                                                 NaN         NaN   \n",
       "96                                                 NaN         NaN   \n",
       "97                                Tech-enabled clinics         NaN   \n",
       "98                    Online health insurance platform         NaN   \n",
       "99                                       EHR solutions         NaN   \n",
       "100  Stone HMIS open source health information and ...         NaN   \n",
       "101   Health information app and virtual consultations         NaN   \n",
       "102              Blood services information management         NaN   \n",
       "103                 Range of apps using sign language.         NaN   \n",
       "104  App for hospitals and public to locate and cal...         NaN   \n",
       "105                        Tele-consultations platform         NaN   \n",
       "106           Assistive hardware for visually impaired         NaN   \n",
       "107                  Provider of diagnostics equipment         NaN   \n",
       "108            Chat app for reproductive health advice         NaN   \n",
       "109                           Health insurance service         NaN   \n",
       "110  Virtual consultations, practice management and...         NaN   \n",
       "111                                P2P doctors network         NaN   \n",
       "112                          Maternal info and support         NaN   \n",
       "113                                Medicine purchasing         NaN   \n",
       "114                      AI-based diagnostics platform         NaN   \n",
       "115                         Emergency response service         NaN   \n",
       "116                        Virtual healthcare platform         NaN   \n",
       "117                        Mobile diagnostics platform         NaN   \n",
       "118                      Virtual consultation platform         NaN   \n",
       "119                             AI-based lab referrals         NaN   \n",
       "120                          Medical bookings platform         NaN   \n",
       "121  SMS-based service focused on pregnancy and ear...         NaN   \n",
       "122                                 Caregiving service         NaN   \n",
       "123                    Emergency response calling app.         NaN   \n",
       "124        Blockchain-based drug verification platform         NaN   \n",
       "125                       Digital counselling platform         NaN   \n",
       "126  Online platform connecting African patients wi...         NaN   \n",
       "127                                   Virtual hospital         NaN   \n",
       "128                                                NaN         NaN   \n",
       "129                                                NaN         NaN   \n",
       "130                   Helps farmers sell their produce         NaN   \n",
       "131  Online farmer management software for global f...         NaN   \n",
       "132  Leverages satellite imagery and machine learni...         NaN   \n",
       "133                               Aquaculture platform         NaN   \n",
       "134                      Designer of a \"smart brooder\"         NaN   \n",
       "135              Smallholder asset investment platform         NaN   \n",
       "136                           Farm management platform         NaN   \n",
       "137              Digital services platform for farmers         NaN   \n",
       "138                      Connects farmers with inputs          NaN   \n",
       "139                            Farm record-keeping app         NaN   \n",
       "140                         Connect farmers to markets         NaN   \n",
       "141  Sells portable solar irrigation pumps to small...         NaN   \n",
       "142                     Accessible finance for farmers         NaN   \n",
       "143                              Crowdfarming solution         NaN   \n",
       "144  Agricultural supply chain platform and busines...         NaN   \n",
       "145                  On-demand farming course provider         NaN   \n",
       "146                     Precision agriculture services         NaN   \n",
       "147  SMS and web-based produce marketplace for smal...         NaN   \n",
       "148              Produce marketplace for young farmers         NaN   \n",
       "149                    Agricultural insurance platform         NaN   \n",
       "150                     Agri-commodity exchange market         NaN   \n",
       "151                               Cold chain solutions         NaN   \n",
       "152             Online platform for fresh farm produce         NaN   \n",
       "153                   Supply chain management platform         NaN   \n",
       "154   AI and blockchain based farm management platform         NaN   \n",
       "155   Solar-powered cold storage solutions for farmers         NaN   \n",
       "156  Integrated solar powered farm automation syste...         NaN   \n",
       "157  Business to business mobile-based cashless pla...         NaN   \n",
       "158   Mobile business-to-business food supply platform         NaN   \n",
       "159       IoT and data monitoring solution for farmers         NaN   \n",
       "160  SMS-based peer-to-peer (P2P) farming informati...         NaN   \n",
       "161                                                NaN         NaN   \n",
       "162                                                NaN         NaN   \n",
       "163               International money transfer service         NaN   \n",
       "164                         Digital insurance platform         NaN   \n",
       "165                           Crypto payments platform         NaN   \n",
       "166    Blockchain-based solutions for small businesses         NaN   \n",
       "167                 Digital assets management platform         NaN   \n",
       "168                 Blockchain-based payments platform         NaN   \n",
       "169                   Savings and investments platform         NaN   \n",
       "170                       Business management platform         NaN   \n",
       "171                                  Payments platform         NaN   \n",
       "172                             SME financing platform         NaN   \n",
       "173                       Startup fundraising platform         NaN   \n",
       "174                       Business management platform         NaN   \n",
       "175                                      EHR solutions         NaN   \n",
       "176                           Health insurance service         NaN   \n",
       "177                                Medicine purchasing         NaN   \n",
       "178                         Emergency response service         NaN   \n",
       "179                        Virtual healthcare platform         NaN   \n",
       "180        Blockchain-based drug verification platform         NaN   \n",
       "181  Online farmer management software for global f...         NaN   \n",
       "182                         Connect farmers to markets         NaN   \n",
       "183                    Agricultural insurance platform         NaN   \n",
       "184   AI and blockchain based farm management platform         NaN   \n",
       "185   Mobile business-to-business food supply platform         NaN   \n",
       "186                             Digital products store         NaN   \n",
       "187                           Mobile addressing system         NaN   \n",
       "188                                   Mapping solution         NaN   \n",
       "189                       Hydroelectric bitcoin mining         NaN   \n",
       "190  AI solutions for sharing economy, parent compa...         NaN   \n",
       "191                      Digital identity verification         NaN   \n",
       "192                               Portable personal ID         NaN   \n",
       "193                                                NaN         NaN   \n",
       "194                                                NaN         NaN   \n",
       "195                     Multi-product e-commerce store         NaN   \n",
       "196                             Digital products store         NaN   \n",
       "197                             Food delivery platform         NaN   \n",
       "198                            Second-hand phone store         NaN   \n",
       "199                 Management app for micro-merchants         NaN   \n",
       "200                             Bus ticketing platform         NaN   \n",
       "201                               Online store builder         NaN   \n",
       "202                     Loyalty solution for merchants         NaN   \n",
       "203                Shopping platform for BoP customers         NaN   \n",
       "204                          Cashback rewards platform         NaN   \n",
       "205              Connects retailers with manufacturers         NaN   \n",
       "206            Connects retailers with FMCGs companies         NaN   \n",
       "207        AI-powered conversational commerce platform         NaN   \n",
       "208            Operating system for informal retailers         NaN   \n",
       "209                                    Art marketplace         NaN   \n",
       "210                                 Ticketing platform         NaN   \n",
       "211                         Retail management platform         NaN   \n",
       "212                             Digital products store         NaN   \n",
       "213                                Product marketplace         NaN   \n",
       "214                       Clothing and jewellery store         NaN   \n",
       "215                        Community shopping platform         NaN   \n",
       "216                         Restaurant supply platform         NaN   \n",
       "217                              Group buying platform         NaN   \n",
       "218               Influencer powered commerce platform         NaN   \n",
       "219                           Beauty commerce platform         NaN   \n",
       "220    On-demand distribution to independent retailers         NaN   \n",
       "221                    Marketplace for wedding vendors         NaN   \n",
       "222                             Food delivery platform         NaN   \n",
       "223                 Digital media platform for fashion         NaN   \n",
       "224                                                NaN         NaN   \n",
       "225                                                NaN         NaN   \n",
       "226           Job and internship platform for students         NaN   \n",
       "227          Online and SMS based recruitment platform         NaN   \n",
       "228                   HR and payroll management system         NaN   \n",
       "229                          Find a craftsman platform         NaN   \n",
       "230               Career development and jobs platform         NaN   \n",
       "231                               Services marketplace         NaN   \n",
       "232                         Digital worker recruitment         NaN   \n",
       "233                              Gig provider platform         NaN   \n",
       "234                    On-demand home cleaning service         NaN   \n",
       "235                            Freelancing marketplace         NaN   \n",
       "236                   Marketplace for hiring creatives         NaN   \n",
       "237             Candidate background checking platform         NaN   \n",
       "238                     Cloud business management tool         NaN   \n",
       "239                               Freelancing platform         NaN   \n",
       "240                       Referral-based jobs platform         NaN   \n",
       "241                                   Daycare platform         NaN   \n",
       "242      Recruitment and jobs platform for non-profits         NaN   \n",
       "243                     Cloud business management tool         NaN   \n",
       "244                               Services marketplace         NaN   \n",
       "245                                                NaN         NaN   \n",
       "246                                                NaN         NaN   \n",
       "247                       Corporate education platform         NaN   \n",
       "248            Learning and school management platform         NaN   \n",
       "249                          Digital learning solution         NaN   \n",
       "250                           University course finder         NaN   \n",
       "251                                  Learning platform         NaN   \n",
       "252            Learning and school management platform         NaN   \n",
       "253                   SMS and web-based learning tools         NaN   \n",
       "254                                      Online school         NaN   \n",
       "255                  Leasing application for textbooks         NaN   \n",
       "256                       Local language learning tool         NaN   \n",
       "257       Mobile learning platform for primary schools         NaN   \n",
       "258                                      Coding school         NaN   \n",
       "259                                      Coding school         NaN   \n",
       "260                                    Edutainment app         NaN   \n",
       "261                                      Online school         NaN   \n",
       "262                         Business training provider         NaN   \n",
       "263                          Digital learning solution         NaN   \n",
       "264                         Business training provider         NaN   \n",
       "265                                                NaN         NaN   \n",
       "266                                                NaN         NaN   \n",
       "267                        Trucking logistics platform         NaN   \n",
       "268                                      Food delivery         NaN   \n",
       "269                        Trucking logistics platform         NaN   \n",
       "270                   Delivery of household essentials         NaN   \n",
       "271                               Inventory management         NaN   \n",
       "272                                 Logistics platform         NaN   \n",
       "273                           Mobile addressing system         NaN   \n",
       "274                        Digital addressing solution         NaN   \n",
       "275                                   Mapping solution         NaN   \n",
       "276                         On-demand delivery service         NaN   \n",
       "277                   Connect shippers with travellers         NaN   \n",
       "278                           Marine cargo marketplace         NaN   \n",
       "279                        AI-based logistics solution         NaN   \n",
       "280                             Fresh produce delivery         NaN   \n",
       "281                                                NaN         NaN   \n",
       "282                                                NaN         NaN   \n",
       "283                          Electric vehicle provider         NaN   \n",
       "284                       Bus management and ticketing         NaN   \n",
       "285                   Electric motorbike taxi provider         NaN   \n",
       "286                          Electric vehicle provider         NaN   \n",
       "287                               Car-sharing platform         NaN   \n",
       "288                     Crowdsourced mobility platform         NaN   \n",
       "289                   Electric motorbike taxi provider         NaN   \n",
       "290                          Electric vehicle provider         NaN   \n",
       "291                                                NaN         NaN   \n",
       "292                                                NaN         NaN   \n",
       "293       Helps businesses track advertising campaigns         NaN   \n",
       "294           AI-powered influencer marketing platform         NaN   \n",
       "295                        Digital marketing solutions         NaN   \n",
       "296                                     SEO optimisers         NaN   \n",
       "297                      Customer engagement solutions         NaN   \n",
       "298                             Lockscreen advertising         NaN   \n",
       "299                         Social influencer platform         NaN   \n",
       "300                                                NaN         NaN   \n",
       "301                                                NaN         NaN   \n",
       "302     Solar-powered agro-processing machine provider         NaN   \n",
       "303                        Solar powered refrigeration         NaN   \n",
       "304                       Hydroelectric bitcoin mining         NaN   \n",
       "305                            Smart water billing app         NaN   \n",
       "306                           Smart metering solutions         NaN   \n",
       "307                         PAYG cooking fuel provider         NaN   \n",
       "308         Solar-powered irrigation services provider         NaN   \n",
       "309                                                NaN         NaN   \n",
       "310                                                NaN         NaN   \n",
       "311                                        3D printing         NaN   \n",
       "312                         IoT for the home solutions         NaN   \n",
       "313                            Data analytics platform         NaN   \n",
       "314                              Mitigation of AI bias         NaN   \n",
       "315  AI solutions for sharing economy, parent compa...         NaN   \n",
       "316                              Cloud storage service         NaN   \n",
       "317           Cloud-based business management platform         NaN   \n",
       "318                              Cloud storage service         NaN   \n",
       "319            AI-based customer experience management         NaN   \n",
       "320                            Communications platform         NaN   \n",
       "321  Hardware for internet connectivity, learning s...         NaN   \n",
       "322   Internet billing and network management platform         NaN   \n",
       "323                Leverages GPS data for conservation         NaN   \n",
       "324                                  Conservation tech         NaN   \n",
       "325                Platform for construction materials         NaN   \n",
       "326                              Construction platform         NaN   \n",
       "327                      Tech services and consultancy         NaN   \n",
       "328                      Digital identity verification         NaN   \n",
       "329                               Portable personal ID         NaN   \n",
       "330                                      Drone startup         NaN   \n",
       "331              Music streaming and download platform         NaN   \n",
       "332                               Edutainment platform         NaN   \n",
       "333                                     Music platform         NaN   \n",
       "334                           Movie streaming platform         NaN   \n",
       "335                          Field management solution         NaN   \n",
       "336                                Legal-tech platform         NaN   \n",
       "337               Case management software for lawyers         NaN   \n",
       "338                               Procurement platform         NaN   \n",
       "339                                 Rental marketplace         NaN   \n",
       "340                     Campus accommodation platform          NaN   \n",
       "341                       Property management solution         NaN   \n",
       "342                       Property management solution         NaN   \n",
       "343                               Software development         NaN   \n",
       "344                               Software development         NaN   \n",
       "345                               Software development         NaN   \n",
       "346                               Software development         NaN   \n",
       "347                               Software development         NaN   \n",
       "348                               Software development         NaN   \n",
       "349                               Software development         NaN   \n",
       "350                               Software development         NaN   \n",
       "351                               Software development         NaN   \n",
       "352                               Software development         NaN   \n",
       "353                     Accommodation booking platform         NaN   \n",
       "354                                      Tour bookings         NaN   \n",
       "355                     Accommodation booking platform         NaN   \n",
       "356              Trade and market information services         NaN   \n",
       "357                          Sales automation platform         NaN   \n",
       "358                                         VR startup         NaN   \n",
       "359                               Waste collection app         NaN   \n",
       "360                                 Recycling platform         NaN   \n",
       "361                          Water monitoring solution         NaN   \n",
       "\n",
       "    Female founder? Accelerated?  Number of employees  \n",
       "0               NaN          NaN                  NaN  \n",
       "1               NaN          NaN                  NaN  \n",
       "2                No           No                  2.0  \n",
       "3                No           No                  7.0  \n",
       "4                No           No                  1.0  \n",
       "5                No           No                 38.0  \n",
       "6               Yes          Yes                 23.0  \n",
       "7               Yes           No                218.0  \n",
       "8                No           No                  1.0  \n",
       "9                No           No                  1.0  \n",
       "10              Yes           No                  8.0  \n",
       "11               No           No                 11.0  \n",
       "12               No           No                  1.0  \n",
       "13               No          Yes                 12.0  \n",
       "14               No           No                  1.0  \n",
       "15               No          Yes                  9.0  \n",
       "16               No           No                  6.0  \n",
       "17               No           No                  1.0  \n",
       "18               No          Yes                 12.0  \n",
       "19              Yes          Yes                  4.0  \n",
       "20               No          Yes                 15.0  \n",
       "21               No          Yes                  4.0  \n",
       "22              Yes           No                 19.0  \n",
       "23              Yes          Yes                  7.0  \n",
       "24               No           No                  4.0  \n",
       "25               No           No                  1.0  \n",
       "26               No           No                  5.0  \n",
       "27               No           No                 31.0  \n",
       "28               No           No                  1.0  \n",
       "29               No           No                 19.0  \n",
       "30               No           No                 10.0  \n",
       "31               No          Yes                 27.0  \n",
       "32               No           No                 21.0  \n",
       "33              Yes          Yes                 10.0  \n",
       "34               No           No                  2.0  \n",
       "35               No          Yes                  6.0  \n",
       "36               No           No                 11.0  \n",
       "37               No          Yes                  3.0  \n",
       "38               No           No                  1.0  \n",
       "39              Yes          Yes                 29.0  \n",
       "40               No           No                 94.0  \n",
       "41               No          Yes                 12.0  \n",
       "42              Yes          Yes                 83.0  \n",
       "43               No           No                 10.0  \n",
       "44               No          Yes                  1.0  \n",
       "45              Yes          Yes                 83.0  \n",
       "46               No          Yes                100.0  \n",
       "47               No           No                  3.0  \n",
       "48              Yes           No                  3.0  \n",
       "49               No          Yes                  2.0  \n",
       "50               No           No                 12.0  \n",
       "51               No           No                 12.0  \n",
       "52               No           No                  1.0  \n",
       "53              Yes           No                 25.0  \n",
       "54               No           No                  1.0  \n",
       "55               No           No                  3.0  \n",
       "56               No          Yes                 16.0  \n",
       "57               No          Yes                 33.0  \n",
       "58               No           No                 34.0  \n",
       "59               No           No                  2.0  \n",
       "60               No          Yes                  4.0  \n",
       "61               No           No                 10.0  \n",
       "62               No          Yes                  8.0  \n",
       "63               No          Yes                 15.0  \n",
       "64               No          Yes                 17.0  \n",
       "65               No           No                216.0  \n",
       "66              Yes          Yes                 47.0  \n",
       "67               No           No                 34.0  \n",
       "68               No           No                 31.0  \n",
       "69               No          Yes                 16.0  \n",
       "70               No           No                  2.0  \n",
       "71               No           No                  2.0  \n",
       "72               No          Yes                  9.0  \n",
       "73               No           No                  1.0  \n",
       "74               No           No                 80.0  \n",
       "75               No          Yes                  9.0  \n",
       "76              Yes           No                  4.0  \n",
       "77               No           No                 60.0  \n",
       "78               No           No                  1.0  \n",
       "79              Yes          Yes                 12.0  \n",
       "80               No          Yes                 33.0  \n",
       "81               No           No                  1.0  \n",
       "82               No           No                  5.0  \n",
       "83               No           No                 90.0  \n",
       "84               No           No                  5.0  \n",
       "85               No           No                  1.0  \n",
       "86               No          Yes                 12.0  \n",
       "87               No          Yes                  1.0  \n",
       "88               No          Yes                 12.0  \n",
       "89               No           No               1201.0  \n",
       "90               No          Yes                  3.0  \n",
       "91               No           No                  3.0  \n",
       "92               No           No                  6.0  \n",
       "93               No           No                  2.0  \n",
       "94               No           No                 35.0  \n",
       "95              NaN          NaN                  NaN  \n",
       "96              NaN          NaN                  NaN  \n",
       "97              Yes          Yes                 48.0  \n",
       "98               No           No                  1.0  \n",
       "99               No           No                 27.0  \n",
       "100             Yes           No                 30.0  \n",
       "101             Yes           No                 40.0  \n",
       "102              No          Yes                  2.0  \n",
       "103              No           No                  1.0  \n",
       "104             Yes          Yes                 24.0  \n",
       "105              No          Yes                  7.0  \n",
       "106             Yes           No                  3.0  \n",
       "107              No           No                145.0  \n",
       "108              No          Yes                  5.0  \n",
       "109              No           No                114.0  \n",
       "110              No           No                 30.0  \n",
       "111             Yes           No                 10.0  \n",
       "112             Yes          Yes                  5.0  \n",
       "113              No           No                 45.0  \n",
       "114              No          Yes                  7.0  \n",
       "115             Yes          Yes                  3.0  \n",
       "116              No          Yes                  3.0  \n",
       "117              No          Yes                 15.0  \n",
       "118              No           No                  1.0  \n",
       "119              No          Yes                 19.0  \n",
       "120              No           No                 32.0  \n",
       "121              No          Yes                  7.0  \n",
       "122              No          Yes                 47.0  \n",
       "123              No          Yes                 10.0  \n",
       "124              No           No                 13.0  \n",
       "125              No           No                  8.0  \n",
       "126              No          Yes                  4.0  \n",
       "127              No           No                 36.0  \n",
       "128             NaN          NaN                  NaN  \n",
       "129             NaN          NaN                  NaN  \n",
       "130              No          Yes                  2.0  \n",
       "131              No          Yes                  2.0  \n",
       "132              No           No                594.0  \n",
       "133              No           No                 12.0  \n",
       "134              No          Yes                  2.0  \n",
       "135              No          Yes                 13.0  \n",
       "136              No           No                 25.0  \n",
       "137              No           No                  1.0  \n",
       "138              No           No                 19.0  \n",
       "139              No           No                 10.0  \n",
       "140              No          Yes                  3.0  \n",
       "141              No          Yes                 19.0  \n",
       "142              No          Yes                  5.0  \n",
       "143              No           No                  7.0  \n",
       "144              No          Yes                128.0  \n",
       "145             Yes           No                  9.0  \n",
       "146              No          Yes                 12.0  \n",
       "147             Yes           No                  7.0  \n",
       "148              No           No                  7.0  \n",
       "149             Yes           No                224.0  \n",
       "150              No          Yes                  3.0  \n",
       "151              No          Yes                 17.0  \n",
       "152              No           No                  3.0  \n",
       "153              No          Yes                 19.0  \n",
       "154              No           No                  6.0  \n",
       "155              No          Yes                  4.0  \n",
       "156              No          Yes                 15.0  \n",
       "157             Yes          Yes                 16.0  \n",
       "158              No           No                821.0  \n",
       "159              No          Yes                  5.0  \n",
       "160              No           No                 55.0  \n",
       "161             NaN          NaN                  NaN  \n",
       "162             NaN          NaN                  NaN  \n",
       "163             Yes           No                218.0  \n",
       "164             Yes           No                  8.0  \n",
       "165              No           No                 11.0  \n",
       "166              No           No                  1.0  \n",
       "167             Yes          Yes                  7.0  \n",
       "168              No          Yes                 12.0  \n",
       "169              No          Yes                  1.0  \n",
       "170              No          Yes                 16.0  \n",
       "171              No          Yes                  8.0  \n",
       "172             Yes          Yes                 47.0  \n",
       "173              No          Yes                 16.0  \n",
       "174              No           No                  2.0  \n",
       "175              No           No                 27.0  \n",
       "176              No           No                114.0  \n",
       "177              No           No                 45.0  \n",
       "178             Yes          Yes                  3.0  \n",
       "179              No          Yes                  3.0  \n",
       "180              No           No                 13.0  \n",
       "181              No          Yes                  2.0  \n",
       "182              No          Yes                  3.0  \n",
       "183             Yes           No                224.0  \n",
       "184              No           No                  6.0  \n",
       "185              No           No                821.0  \n",
       "186              No           No                  4.0  \n",
       "187              No          Yes                 22.0  \n",
       "188              No          Yes                 18.0  \n",
       "189              No           No                  1.0  \n",
       "190              No          Yes                 22.0  \n",
       "191              No          Yes                  1.0  \n",
       "192              No          Yes                  2.0  \n",
       "193             NaN          NaN                  NaN  \n",
       "194             NaN          NaN                  NaN  \n",
       "195              No          Yes                 21.0  \n",
       "196              No           No                  4.0  \n",
       "197              No           No                 29.0  \n",
       "198              No          Yes                 21.0  \n",
       "199              No          Yes                 10.0  \n",
       "200              No          Yes                 20.0  \n",
       "201              No           No                  1.0  \n",
       "202              No          Yes                  9.0  \n",
       "203              No           No                516.0  \n",
       "204              No          Yes                  7.0  \n",
       "205              No          Yes                 33.0  \n",
       "206             Yes          Yes                  9.0  \n",
       "207             Yes           No                 11.0  \n",
       "208              No          Yes                269.0  \n",
       "209             Yes           No                  2.0  \n",
       "210              No           No                  4.0  \n",
       "211              No          Yes                  4.0  \n",
       "212              No           No                 11.0  \n",
       "213              No          Yes                  1.0  \n",
       "214             Yes          Yes                 13.0  \n",
       "215              No          Yes                 19.0  \n",
       "216              No          Yes                 53.0  \n",
       "217              No           No                 23.0  \n",
       "218              No          Yes                 13.0  \n",
       "219             Yes          Yes                 17.0  \n",
       "220              No          Yes                607.0  \n",
       "221             Yes           No                  2.0  \n",
       "222              No          Yes                 26.0  \n",
       "223              No          Yes                 60.0  \n",
       "224             NaN          NaN                  NaN  \n",
       "225             NaN          NaN                  NaN  \n",
       "226              No           No                  1.0  \n",
       "227             Yes          Yes                 20.0  \n",
       "228             Yes           No                  8.0  \n",
       "229              No          Yes                 11.0  \n",
       "230              No           No                110.0  \n",
       "231              No           No                  3.0  \n",
       "232             Yes          Yes                  1.0  \n",
       "233             Yes          Yes                  3.0  \n",
       "234             Yes          Yes                  4.0  \n",
       "235              No          Yes                 18.0  \n",
       "236              No          Yes                 19.0  \n",
       "237              No          Yes                 22.0  \n",
       "238              No           No                  8.0  \n",
       "239              No           No                  1.0  \n",
       "240             Yes           No                  3.0  \n",
       "241             Yes           No                 25.0  \n",
       "242              No           No                  2.0  \n",
       "243              No          Yes                 64.0  \n",
       "244             Yes          Yes                 12.0  \n",
       "245             NaN          NaN                  NaN  \n",
       "246             NaN          NaN                  NaN  \n",
       "247              No           No                 95.0  \n",
       "248              No          Yes                 10.0  \n",
       "249              No          Yes                 36.0  \n",
       "250              No           No                 35.0  \n",
       "251              No           No                  6.0  \n",
       "252              No          Yes                 32.0  \n",
       "253             Yes          Yes                 69.0  \n",
       "254              No          Yes                  9.0  \n",
       "255              No          Yes                 17.0  \n",
       "256              No           No                  2.0  \n",
       "257             Yes           No                 10.0  \n",
       "258              No           No                  1.0  \n",
       "259             Yes           No                269.0  \n",
       "260              No          Yes                 13.0  \n",
       "261              No           No                  1.0  \n",
       "262             Yes          Yes                  7.0  \n",
       "263              No           No                108.0  \n",
       "264             Yes          Yes                 11.0  \n",
       "265             NaN          NaN                  NaN  \n",
       "266             NaN          NaN                  NaN  \n",
       "267              No          Yes                 67.0  \n",
       "268              No           No                  2.0  \n",
       "269              No           No                 10.0  \n",
       "270              No          Yes                 10.0  \n",
       "271              No          Yes                 41.0  \n",
       "272             Yes           No                189.0  \n",
       "273              No          Yes                 22.0  \n",
       "274              No          Yes                 25.0  \n",
       "275              No          Yes                 18.0  \n",
       "276             Yes          Yes                391.0  \n",
       "277             Yes           No                 14.0  \n",
       "278              No           No                  1.0  \n",
       "279              No           No                 41.0  \n",
       "280              No          Yes                  3.0  \n",
       "281             NaN          NaN                  NaN  \n",
       "282             NaN          NaN                  NaN  \n",
       "283              No           No                 29.0  \n",
       "284              No           No                 45.0  \n",
       "285              No          Yes                  1.0  \n",
       "286              No           No                  3.0  \n",
       "287              No          Yes                  3.0  \n",
       "288              No          Yes                  2.0  \n",
       "289              No          Yes                 11.0  \n",
       "290              No           No                101.0  \n",
       "291             NaN          NaN                  NaN  \n",
       "292             NaN          NaN                  NaN  \n",
       "293              No           No                  2.0  \n",
       "294              No          Yes                 37.0  \n",
       "295              No          Yes                 86.0  \n",
       "296              No           No                  1.0  \n",
       "297              No           No                  6.0  \n",
       "298              No           No                 10.0  \n",
       "299              No           No                122.0  \n",
       "300             NaN          NaN                  NaN  \n",
       "301             NaN          NaN                  NaN  \n",
       "302              No           No                 12.0  \n",
       "303              No           No                  5.0  \n",
       "304              No           No                  1.0  \n",
       "305              No          Yes                  6.0  \n",
       "306              No          Yes                  6.0  \n",
       "307              No           No                 47.0  \n",
       "308              No           No                189.0  \n",
       "309             NaN          NaN                  NaN  \n",
       "310             NaN          NaN                  NaN  \n",
       "311              No          Yes                 10.0  \n",
       "312              No           No                  5.0  \n",
       "313             Yes           No                199.0  \n",
       "314              No           No                  6.0  \n",
       "315              No          Yes                 22.0  \n",
       "316              No           No                 23.0  \n",
       "317              No           No                  7.0  \n",
       "318              No           No                  5.0  \n",
       "319              No           No                  2.0  \n",
       "320              No           No                 76.0  \n",
       "321             Yes           No                 27.0  \n",
       "322              No           No                  8.0  \n",
       "323              No           No                  2.0  \n",
       "324             Yes           No                242.0  \n",
       "325             Yes           No                 23.0  \n",
       "326              No          Yes                  1.0  \n",
       "327              No           No                  1.0  \n",
       "328              No          Yes                  1.0  \n",
       "329              No          Yes                  2.0  \n",
       "330              No           No                 11.0  \n",
       "331              No          Yes                 60.0  \n",
       "332              No           No                  1.0  \n",
       "333              No           No                  1.0  \n",
       "334              No          Yes                  6.0  \n",
       "335              No          Yes                 45.0  \n",
       "336              No          Yes                  5.0  \n",
       "337              No          Yes                  1.0  \n",
       "338              No          Yes                 39.0  \n",
       "339              No          Yes                  1.0  \n",
       "340              No          Yes                  5.0  \n",
       "341              No          Yes                  8.0  \n",
       "342              No          Yes                  5.0  \n",
       "343              No           No                  4.0  \n",
       "344              No           No                 41.0  \n",
       "345              No           No                  7.0  \n",
       "346              No           No                 17.0  \n",
       "347             Yes          Yes                 11.0  \n",
       "348              No           No                  1.0  \n",
       "349              No           No                 15.0  \n",
       "350              No           No                  6.0  \n",
       "351             Yes           No                  1.0  \n",
       "352              No           No                  4.0  \n",
       "353              No          Yes                  1.0  \n",
       "354              No          Yes                  7.0  \n",
       "355              No           No                  1.0  \n",
       "356              No          Yes                 12.0  \n",
       "357              No           No                 23.0  \n",
       "358              No           No                 18.0  \n",
       "359              No          Yes                  5.0  \n",
       "360              No           No                 82.0  \n",
       "361              No           No                  9.0  "
      ]
     },
     "execution_count": 113,
     "metadata": {},
     "output_type": "execute_result"
    }
   ],
   "source": [
    "df = pd.read_excel('Kenyan_Startup_Database_Kenyan_Startup_Ecosystem_Report_2022.xlsx')\n",
    "df"
   ]
  },
  {
   "cell_type": "code",
   "execution_count": 132,
   "id": "0f8caa15",
   "metadata": {},
   "outputs": [
    {
     "data": {
      "text/html": [
       "<div>\n",
       "<style scoped>\n",
       "    .dataframe tbody tr th:only-of-type {\n",
       "        vertical-align: middle;\n",
       "    }\n",
       "\n",
       "    .dataframe tbody tr th {\n",
       "        vertical-align: top;\n",
       "    }\n",
       "\n",
       "    .dataframe thead th {\n",
       "        text-align: right;\n",
       "    }\n",
       "</style>\n",
       "<table border=\"1\" class=\"dataframe\">\n",
       "  <thead>\n",
       "    <tr style=\"text-align: right;\">\n",
       "      <th></th>\n",
       "      <th>Startup name</th>\n",
       "      <th>Sector</th>\n",
       "      <th>Sub-sector</th>\n",
       "      <th>Year of launch</th>\n",
       "      <th>HQ</th>\n",
       "      <th>Website</th>\n",
       "      <th>Description of business</th>\n",
       "      <th>Female founder?</th>\n",
       "      <th>Accelerated?</th>\n",
       "      <th>Number of employees</th>\n",
       "    </tr>\n",
       "  </thead>\n",
       "  <tbody>\n",
       "    <tr>\n",
       "      <th>2</th>\n",
       "      <td>Abacus</td>\n",
       "      <td>Fintech</td>\n",
       "      <td>Investtech</td>\n",
       "      <td>2014.0</td>\n",
       "      <td>Nairobi</td>\n",
       "      <td>https://abacus.co.ke/</td>\n",
       "      <td>Savings and investments platform</td>\n",
       "      <td>No</td>\n",
       "      <td>No</td>\n",
       "      <td>2.0</td>\n",
       "    </tr>\n",
       "    <tr>\n",
       "      <th>3</th>\n",
       "      <td>Alvin</td>\n",
       "      <td>Fintech</td>\n",
       "      <td>Personal finance</td>\n",
       "      <td>2021.0</td>\n",
       "      <td>Nairobi</td>\n",
       "      <td>https://www.alvinapp.com/</td>\n",
       "      <td>Savings and budgeting tool</td>\n",
       "      <td>No</td>\n",
       "      <td>No</td>\n",
       "      <td>7.0</td>\n",
       "    </tr>\n",
       "    <tr>\n",
       "      <th>4</th>\n",
       "      <td>Araka</td>\n",
       "      <td>Fintech</td>\n",
       "      <td>Lending and financing</td>\n",
       "      <td>2021.0</td>\n",
       "      <td>Nairobi</td>\n",
       "      <td>https://araka.app/</td>\n",
       "      <td>Vehicle financing platform</td>\n",
       "      <td>No</td>\n",
       "      <td>No</td>\n",
       "      <td>1.0</td>\n",
       "    </tr>\n",
       "    <tr>\n",
       "      <th>5</th>\n",
       "      <td>Asante</td>\n",
       "      <td>Fintech</td>\n",
       "      <td>Lending and financing</td>\n",
       "      <td>2016.0</td>\n",
       "      <td>Nairobi</td>\n",
       "      <td>https://asantefinancegroup.com/</td>\n",
       "      <td>Credit-led neobank</td>\n",
       "      <td>No</td>\n",
       "      <td>No</td>\n",
       "      <td>38.0</td>\n",
       "    </tr>\n",
       "    <tr>\n",
       "      <th>6</th>\n",
       "      <td>Asilimia</td>\n",
       "      <td>Fintech</td>\n",
       "      <td>Business admin</td>\n",
       "      <td>2017.0</td>\n",
       "      <td>Nairobi</td>\n",
       "      <td>https://www.asilimia.co.ke/</td>\n",
       "      <td>Data infrastructure for SMEs</td>\n",
       "      <td>Yes</td>\n",
       "      <td>Yes</td>\n",
       "      <td>23.0</td>\n",
       "    </tr>\n",
       "    <tr>\n",
       "      <th>7</th>\n",
       "      <td>AZA Finance</td>\n",
       "      <td>Fintech</td>\n",
       "      <td>Payments and remittances</td>\n",
       "      <td>2013.0</td>\n",
       "      <td>Nairobi</td>\n",
       "      <td>https://www.azafinance.com/</td>\n",
       "      <td>International money transfer service</td>\n",
       "      <td>Yes</td>\n",
       "      <td>No</td>\n",
       "      <td>218.0</td>\n",
       "    </tr>\n",
       "    <tr>\n",
       "      <th>8</th>\n",
       "      <td>Azima</td>\n",
       "      <td>Fintech</td>\n",
       "      <td>Lending and financing</td>\n",
       "      <td>2016.0</td>\n",
       "      <td>Nairobi</td>\n",
       "      <td>http://www.azima.tech/</td>\n",
       "      <td>Payroll lending platform</td>\n",
       "      <td>No</td>\n",
       "      <td>No</td>\n",
       "      <td>1.0</td>\n",
       "    </tr>\n",
       "    <tr>\n",
       "      <th>9</th>\n",
       "      <td>Bimaleo</td>\n",
       "      <td>Fintech</td>\n",
       "      <td>Insurtech</td>\n",
       "      <td>2020.0</td>\n",
       "      <td>Nairobi</td>\n",
       "      <td>https://bimaleo.com/</td>\n",
       "      <td>Digital insurance platform</td>\n",
       "      <td>No</td>\n",
       "      <td>No</td>\n",
       "      <td>1.0</td>\n",
       "    </tr>\n",
       "    <tr>\n",
       "      <th>10</th>\n",
       "      <td>Bismart</td>\n",
       "      <td>Fintech</td>\n",
       "      <td>Insurtech</td>\n",
       "      <td>2017.0</td>\n",
       "      <td>Nairobi</td>\n",
       "      <td>https://bismart.co.ke</td>\n",
       "      <td>Digital insurance platform</td>\n",
       "      <td>Yes</td>\n",
       "      <td>No</td>\n",
       "      <td>8.0</td>\n",
       "    </tr>\n",
       "    <tr>\n",
       "      <th>11</th>\n",
       "      <td>BitLipa</td>\n",
       "      <td>Fintech</td>\n",
       "      <td>Payments and remittances</td>\n",
       "      <td>2019.0</td>\n",
       "      <td>Nairobi</td>\n",
       "      <td>https://www.bitlipa.com/</td>\n",
       "      <td>Crypto payments platform</td>\n",
       "      <td>No</td>\n",
       "      <td>No</td>\n",
       "      <td>11.0</td>\n",
       "    </tr>\n",
       "    <tr>\n",
       "      <th>12</th>\n",
       "      <td>Bitsoko</td>\n",
       "      <td>Fintech</td>\n",
       "      <td>Blockchain</td>\n",
       "      <td>2013.0</td>\n",
       "      <td>Nairobi</td>\n",
       "      <td>https://bitsoko.wordpress.com/</td>\n",
       "      <td>Blockchain-based solutions for small businesses</td>\n",
       "      <td>No</td>\n",
       "      <td>No</td>\n",
       "      <td>1.0</td>\n",
       "    </tr>\n",
       "    <tr>\n",
       "      <th>13</th>\n",
       "      <td>Boya</td>\n",
       "      <td>Fintech</td>\n",
       "      <td>Business admin</td>\n",
       "      <td>2020.0</td>\n",
       "      <td>Nairobi</td>\n",
       "      <td>https://www.boya.co/</td>\n",
       "      <td>Business management solution</td>\n",
       "      <td>No</td>\n",
       "      <td>Yes</td>\n",
       "      <td>12.0</td>\n",
       "    </tr>\n",
       "    <tr>\n",
       "      <th>14</th>\n",
       "      <td>Cashlet</td>\n",
       "      <td>Fintech</td>\n",
       "      <td>Personal finance</td>\n",
       "      <td>2019.0</td>\n",
       "      <td>Nairobi</td>\n",
       "      <td>https://www.cashlet.co.ke/</td>\n",
       "      <td>Savings and investments platform</td>\n",
       "      <td>No</td>\n",
       "      <td>No</td>\n",
       "      <td>1.0</td>\n",
       "    </tr>\n",
       "    <tr>\n",
       "      <th>15</th>\n",
       "      <td>Chamasoft</td>\n",
       "      <td>Fintech</td>\n",
       "      <td>Investtech</td>\n",
       "      <td>2013.0</td>\n",
       "      <td>Nairobi</td>\n",
       "      <td>https://chamasoft.com/</td>\n",
       "      <td>Chama management platform</td>\n",
       "      <td>No</td>\n",
       "      <td>Yes</td>\n",
       "      <td>9.0</td>\n",
       "    </tr>\n",
       "    <tr>\n",
       "      <th>16</th>\n",
       "      <td>Chaptr Global</td>\n",
       "      <td>Fintech</td>\n",
       "      <td>Payments and remittances</td>\n",
       "      <td>2021.0</td>\n",
       "      <td>Nairobi</td>\n",
       "      <td>https://chaptrglobal.com/</td>\n",
       "      <td>Tuition payments platform</td>\n",
       "      <td>No</td>\n",
       "      <td>No</td>\n",
       "      <td>6.0</td>\n",
       "    </tr>\n",
       "    <tr>\n",
       "      <th>17</th>\n",
       "      <td>Cherehani Africa</td>\n",
       "      <td>Fintech</td>\n",
       "      <td>Other</td>\n",
       "      <td>2015.0</td>\n",
       "      <td>Nairobi</td>\n",
       "      <td>https://cherehani.org/</td>\n",
       "      <td>Multi-product fintech platform</td>\n",
       "      <td>No</td>\n",
       "      <td>No</td>\n",
       "      <td>1.0</td>\n",
       "    </tr>\n",
       "    <tr>\n",
       "      <th>18</th>\n",
       "      <td>Chumz</td>\n",
       "      <td>Fintech</td>\n",
       "      <td>Personal finance</td>\n",
       "      <td>2019.0</td>\n",
       "      <td>Nairobi</td>\n",
       "      <td>https://chumz.io/#/</td>\n",
       "      <td>Mobile money-based savings platform</td>\n",
       "      <td>No</td>\n",
       "      <td>Yes</td>\n",
       "      <td>12.0</td>\n",
       "    </tr>\n",
       "    <tr>\n",
       "      <th>19</th>\n",
       "      <td>Chura</td>\n",
       "      <td>Fintech</td>\n",
       "      <td>Payments and remittances</td>\n",
       "      <td>2012.0</td>\n",
       "      <td>Nairobi</td>\n",
       "      <td>https://www.chura.co.ke/</td>\n",
       "      <td>Airime and payments platform</td>\n",
       "      <td>Yes</td>\n",
       "      <td>Yes</td>\n",
       "      <td>4.0</td>\n",
       "    </tr>\n",
       "    <tr>\n",
       "      <th>20</th>\n",
       "      <td>Crediation</td>\n",
       "      <td>Fintech</td>\n",
       "      <td>Lending and financing</td>\n",
       "      <td>2018.0</td>\n",
       "      <td>Nairobi</td>\n",
       "      <td>https://crediation.com/</td>\n",
       "      <td>Business lending platform</td>\n",
       "      <td>No</td>\n",
       "      <td>Yes</td>\n",
       "      <td>15.0</td>\n",
       "    </tr>\n",
       "    <tr>\n",
       "      <th>21</th>\n",
       "      <td>Credit Factory</td>\n",
       "      <td>Fintech</td>\n",
       "      <td>Lending and financing</td>\n",
       "      <td>2015.0</td>\n",
       "      <td>Nairobi</td>\n",
       "      <td>http://www.creditfactory.co.ke/</td>\n",
       "      <td>Lending platform</td>\n",
       "      <td>No</td>\n",
       "      <td>Yes</td>\n",
       "      <td>4.0</td>\n",
       "    </tr>\n",
       "    <tr>\n",
       "      <th>22</th>\n",
       "      <td>Credrails</td>\n",
       "      <td>Fintech</td>\n",
       "      <td>Open finance</td>\n",
       "      <td>2020.0</td>\n",
       "      <td>Nairobi</td>\n",
       "      <td>https://www.credrails.com/</td>\n",
       "      <td>Open finance platform</td>\n",
       "      <td>Yes</td>\n",
       "      <td>No</td>\n",
       "      <td>19.0</td>\n",
       "    </tr>\n",
       "    <tr>\n",
       "      <th>23</th>\n",
       "      <td>Crypsense</td>\n",
       "      <td>Fintech</td>\n",
       "      <td>Blockchain</td>\n",
       "      <td>2022.0</td>\n",
       "      <td>Nairobi</td>\n",
       "      <td>https://www.crypsense.io/</td>\n",
       "      <td>Digital assets management platform</td>\n",
       "      <td>Yes</td>\n",
       "      <td>Yes</td>\n",
       "      <td>7.0</td>\n",
       "    </tr>\n",
       "    <tr>\n",
       "      <th>24</th>\n",
       "      <td>Denkim Insurance</td>\n",
       "      <td>Fintech</td>\n",
       "      <td>Insurtech</td>\n",
       "      <td>2016.0</td>\n",
       "      <td>Nairobi</td>\n",
       "      <td>http://www.denkiminsurance.com/</td>\n",
       "      <td>Mobile wallet for insurance products</td>\n",
       "      <td>No</td>\n",
       "      <td>No</td>\n",
       "      <td>4.0</td>\n",
       "    </tr>\n",
       "    <tr>\n",
       "      <th>25</th>\n",
       "      <td>DukaPOS</td>\n",
       "      <td>Fintech</td>\n",
       "      <td>Business admin</td>\n",
       "      <td>2020.0</td>\n",
       "      <td>Nairobi</td>\n",
       "      <td>https://www.dukapos.co.ke/</td>\n",
       "      <td>Business payments platform</td>\n",
       "      <td>No</td>\n",
       "      <td>No</td>\n",
       "      <td>1.0</td>\n",
       "    </tr>\n",
       "    <tr>\n",
       "      <th>26</th>\n",
       "      <td>EastPesa</td>\n",
       "      <td>Fintech</td>\n",
       "      <td>Payments and remittances</td>\n",
       "      <td>2016.0</td>\n",
       "      <td>Nairobi</td>\n",
       "      <td>https://www.eastpesa.com/</td>\n",
       "      <td>Remittances platform</td>\n",
       "      <td>No</td>\n",
       "      <td>No</td>\n",
       "      <td>5.0</td>\n",
       "    </tr>\n",
       "    <tr>\n",
       "      <th>27</th>\n",
       "      <td>Ed Partners</td>\n",
       "      <td>Fintech</td>\n",
       "      <td>Lending and financing</td>\n",
       "      <td>2018.0</td>\n",
       "      <td>Nairobi</td>\n",
       "      <td>https://edpartnersafrica.com/</td>\n",
       "      <td>Educational lending platform</td>\n",
       "      <td>No</td>\n",
       "      <td>No</td>\n",
       "      <td>31.0</td>\n",
       "    </tr>\n",
       "    <tr>\n",
       "      <th>28</th>\n",
       "      <td>Fanaka Hybrid</td>\n",
       "      <td>Fintech</td>\n",
       "      <td>Business admin</td>\n",
       "      <td>2015.0</td>\n",
       "      <td>Nairobi</td>\n",
       "      <td>https://fanakahb.com/</td>\n",
       "      <td>Business payments platform</td>\n",
       "      <td>No</td>\n",
       "      <td>No</td>\n",
       "      <td>1.0</td>\n",
       "    </tr>\n",
       "    <tr>\n",
       "      <th>29</th>\n",
       "      <td>FinAccess</td>\n",
       "      <td>Fintech</td>\n",
       "      <td>Lending and financing</td>\n",
       "      <td>2018.0</td>\n",
       "      <td>Nairobi</td>\n",
       "      <td>https://finaccess.co/</td>\n",
       "      <td>Software solutions for savings groups</td>\n",
       "      <td>No</td>\n",
       "      <td>No</td>\n",
       "      <td>19.0</td>\n",
       "    </tr>\n",
       "    <tr>\n",
       "      <th>30</th>\n",
       "      <td>Finplus</td>\n",
       "      <td>Fintech</td>\n",
       "      <td>Business admin</td>\n",
       "      <td>2017.0</td>\n",
       "      <td>Nairobi</td>\n",
       "      <td>https://finplusgroup.com/</td>\n",
       "      <td>Business management and payments solution</td>\n",
       "      <td>No</td>\n",
       "      <td>No</td>\n",
       "      <td>10.0</td>\n",
       "    </tr>\n",
       "    <tr>\n",
       "      <th>31</th>\n",
       "      <td>Flexpay</td>\n",
       "      <td>Fintech</td>\n",
       "      <td>Payments and remittances</td>\n",
       "      <td>2016.0</td>\n",
       "      <td>Nairobi</td>\n",
       "      <td>http://www.flexpay.co.ke/</td>\n",
       "      <td>Save now, buy later platform</td>\n",
       "      <td>No</td>\n",
       "      <td>Yes</td>\n",
       "      <td>27.0</td>\n",
       "    </tr>\n",
       "    <tr>\n",
       "      <th>32</th>\n",
       "      <td>Hakki Africa</td>\n",
       "      <td>Fintech</td>\n",
       "      <td>Lending and financing</td>\n",
       "      <td>2018.0</td>\n",
       "      <td>Nairobi</td>\n",
       "      <td>https://hakki-africa.com/</td>\n",
       "      <td>Vehicle financing platform</td>\n",
       "      <td>No</td>\n",
       "      <td>No</td>\n",
       "      <td>21.0</td>\n",
       "    </tr>\n",
       "    <tr>\n",
       "      <th>33</th>\n",
       "      <td>Hisa</td>\n",
       "      <td>Fintech</td>\n",
       "      <td>Investtech</td>\n",
       "      <td>2020.0</td>\n",
       "      <td>Nairobi</td>\n",
       "      <td>https://hisa.co/</td>\n",
       "      <td>Investments app</td>\n",
       "      <td>Yes</td>\n",
       "      <td>Yes</td>\n",
       "      <td>10.0</td>\n",
       "    </tr>\n",
       "    <tr>\n",
       "      <th>34</th>\n",
       "      <td>InstaSend</td>\n",
       "      <td>Fintech</td>\n",
       "      <td>Payments and remittances</td>\n",
       "      <td>2019.0</td>\n",
       "      <td>Nairobi</td>\n",
       "      <td>https://intasend.com/</td>\n",
       "      <td>Online payments platform</td>\n",
       "      <td>No</td>\n",
       "      <td>No</td>\n",
       "      <td>2.0</td>\n",
       "    </tr>\n",
       "    <tr>\n",
       "      <th>35</th>\n",
       "      <td>InsureAfrika</td>\n",
       "      <td>Fintech</td>\n",
       "      <td>Insurtech</td>\n",
       "      <td>2015.0</td>\n",
       "      <td>Nairobi</td>\n",
       "      <td>http://www.insureafrika.com/</td>\n",
       "      <td>Car insurance comparison platform</td>\n",
       "      <td>No</td>\n",
       "      <td>Yes</td>\n",
       "      <td>6.0</td>\n",
       "    </tr>\n",
       "    <tr>\n",
       "      <th>36</th>\n",
       "      <td>Jumuisha</td>\n",
       "      <td>Fintech</td>\n",
       "      <td>Payments and remittances</td>\n",
       "      <td>2020.0</td>\n",
       "      <td>Nairobi</td>\n",
       "      <td>https://jumuisha.com/</td>\n",
       "      <td>Church payments solution</td>\n",
       "      <td>No</td>\n",
       "      <td>No</td>\n",
       "      <td>11.0</td>\n",
       "    </tr>\n",
       "    <tr>\n",
       "      <th>37</th>\n",
       "      <td>Kakbima</td>\n",
       "      <td>Fintech</td>\n",
       "      <td>Insurtech</td>\n",
       "      <td>2018.0</td>\n",
       "      <td>Nairobi</td>\n",
       "      <td>https://www.kakbima.com/</td>\n",
       "      <td>Tools connecting insurance companies with cust...</td>\n",
       "      <td>No</td>\n",
       "      <td>Yes</td>\n",
       "      <td>3.0</td>\n",
       "    </tr>\n",
       "    <tr>\n",
       "      <th>38</th>\n",
       "      <td>Klientele</td>\n",
       "      <td>Fintech</td>\n",
       "      <td>Lending and financing</td>\n",
       "      <td>2017.0</td>\n",
       "      <td>Nairobi</td>\n",
       "      <td>http://www.klientele.co.ke/</td>\n",
       "      <td>Chama management platform</td>\n",
       "      <td>No</td>\n",
       "      <td>No</td>\n",
       "      <td>1.0</td>\n",
       "    </tr>\n",
       "    <tr>\n",
       "      <th>39</th>\n",
       "      <td>Koa</td>\n",
       "      <td>Fintech</td>\n",
       "      <td>Personal finance</td>\n",
       "      <td>2020.0</td>\n",
       "      <td>Nairobi</td>\n",
       "      <td>https://www.withkoa.com/</td>\n",
       "      <td>Savings app</td>\n",
       "      <td>Yes</td>\n",
       "      <td>Yes</td>\n",
       "      <td>29.0</td>\n",
       "    </tr>\n",
       "    <tr>\n",
       "      <th>40</th>\n",
       "      <td>Kopo Kopo</td>\n",
       "      <td>Fintech</td>\n",
       "      <td>Business admin</td>\n",
       "      <td>2012.0</td>\n",
       "      <td>Nairobi</td>\n",
       "      <td>http://kopokopo.co.ke/</td>\n",
       "      <td>Merchant payments platform</td>\n",
       "      <td>No</td>\n",
       "      <td>No</td>\n",
       "      <td>94.0</td>\n",
       "    </tr>\n",
       "    <tr>\n",
       "      <th>41</th>\n",
       "      <td>Kotani Pay</td>\n",
       "      <td>Fintech</td>\n",
       "      <td>Payments and remittances</td>\n",
       "      <td>2020.0</td>\n",
       "      <td>Nairobi</td>\n",
       "      <td>https://kotanipay.com/</td>\n",
       "      <td>Blockchain-based payments platform</td>\n",
       "      <td>No</td>\n",
       "      <td>Yes</td>\n",
       "      <td>12.0</td>\n",
       "    </tr>\n",
       "    <tr>\n",
       "      <th>42</th>\n",
       "      <td>Kwara</td>\n",
       "      <td>Fintech</td>\n",
       "      <td>Lending and financing</td>\n",
       "      <td>2018.0</td>\n",
       "      <td>Nairobi</td>\n",
       "      <td>https://kwara.com/</td>\n",
       "      <td>Credit union management platform</td>\n",
       "      <td>Yes</td>\n",
       "      <td>Yes</td>\n",
       "      <td>83.0</td>\n",
       "    </tr>\n",
       "    <tr>\n",
       "      <th>43</th>\n",
       "      <td>Kyanda</td>\n",
       "      <td>Fintech</td>\n",
       "      <td>Payments and remittances</td>\n",
       "      <td>2020.0</td>\n",
       "      <td>Nairobi</td>\n",
       "      <td>https://kyanda.co.ke/</td>\n",
       "      <td>Payments platform</td>\n",
       "      <td>No</td>\n",
       "      <td>No</td>\n",
       "      <td>10.0</td>\n",
       "    </tr>\n",
       "    <tr>\n",
       "      <th>44</th>\n",
       "      <td>Lakt</td>\n",
       "      <td>Fintech</td>\n",
       "      <td>Personal finance</td>\n",
       "      <td>2016.0</td>\n",
       "      <td>Nairobi</td>\n",
       "      <td>http://lakt.io/</td>\n",
       "      <td>Savings and investments platform</td>\n",
       "      <td>No</td>\n",
       "      <td>Yes</td>\n",
       "      <td>1.0</td>\n",
       "    </tr>\n",
       "    <tr>\n",
       "      <th>45</th>\n",
       "      <td>Lami</td>\n",
       "      <td>Fintech</td>\n",
       "      <td>Insurtech</td>\n",
       "      <td>2018.0</td>\n",
       "      <td>Nairobi</td>\n",
       "      <td>https://www.lami.world/</td>\n",
       "      <td>Insurance API provider</td>\n",
       "      <td>Yes</td>\n",
       "      <td>Yes</td>\n",
       "      <td>83.0</td>\n",
       "    </tr>\n",
       "    <tr>\n",
       "      <th>46</th>\n",
       "      <td>LipaLater</td>\n",
       "      <td>Fintech</td>\n",
       "      <td>Lending and financing</td>\n",
       "      <td>2017.0</td>\n",
       "      <td>Nairobi</td>\n",
       "      <td>https://lipalater.com/</td>\n",
       "      <td>BNPL service provider</td>\n",
       "      <td>No</td>\n",
       "      <td>Yes</td>\n",
       "      <td>100.0</td>\n",
       "    </tr>\n",
       "    <tr>\n",
       "      <th>47</th>\n",
       "      <td>Lipana</td>\n",
       "      <td>Fintech</td>\n",
       "      <td>Business admin</td>\n",
       "      <td>2021.0</td>\n",
       "      <td>Nairobi</td>\n",
       "      <td>https://www.lipana.co.ke/</td>\n",
       "      <td>Invoicing platform</td>\n",
       "      <td>No</td>\n",
       "      <td>No</td>\n",
       "      <td>3.0</td>\n",
       "    </tr>\n",
       "    <tr>\n",
       "      <th>48</th>\n",
       "      <td>LipaPlus</td>\n",
       "      <td>Fintech</td>\n",
       "      <td>Payments and remittances</td>\n",
       "      <td>2014.0</td>\n",
       "      <td>Nairobi</td>\n",
       "      <td>https://www.lipaplus.com/</td>\n",
       "      <td>SME payments platform</td>\n",
       "      <td>Yes</td>\n",
       "      <td>No</td>\n",
       "      <td>3.0</td>\n",
       "    </tr>\n",
       "    <tr>\n",
       "      <th>49</th>\n",
       "      <td>Lipisha</td>\n",
       "      <td>Fintech</td>\n",
       "      <td>Payments and remittances</td>\n",
       "      <td>2011.0</td>\n",
       "      <td>Nairobi</td>\n",
       "      <td>https://lipisha.com/</td>\n",
       "      <td>Mobile payments service</td>\n",
       "      <td>No</td>\n",
       "      <td>Yes</td>\n",
       "      <td>2.0</td>\n",
       "    </tr>\n",
       "    <tr>\n",
       "      <th>50</th>\n",
       "      <td>M-Changa</td>\n",
       "      <td>Fintech</td>\n",
       "      <td>Lending and financing</td>\n",
       "      <td>2012.0</td>\n",
       "      <td>Nairobi</td>\n",
       "      <td>http://changa.co.ke/</td>\n",
       "      <td>Crowdfunding platform</td>\n",
       "      <td>No</td>\n",
       "      <td>No</td>\n",
       "      <td>12.0</td>\n",
       "    </tr>\n",
       "    <tr>\n",
       "      <th>51</th>\n",
       "      <td>M-Payer</td>\n",
       "      <td>Fintech</td>\n",
       "      <td>Payments and remittances</td>\n",
       "      <td>2012.0</td>\n",
       "      <td>Nairobi</td>\n",
       "      <td>https://www.mpayer.co.ke/</td>\n",
       "      <td>Business payments platform</td>\n",
       "      <td>No</td>\n",
       "      <td>No</td>\n",
       "      <td>12.0</td>\n",
       "    </tr>\n",
       "    <tr>\n",
       "      <th>52</th>\n",
       "      <td>Mobi-Remit</td>\n",
       "      <td>Fintech</td>\n",
       "      <td>Payments and remittances</td>\n",
       "      <td>2022.0</td>\n",
       "      <td>Nairobi</td>\n",
       "      <td>https://www.mobi-remit.com/</td>\n",
       "      <td>Cross-border payments platform</td>\n",
       "      <td>No</td>\n",
       "      <td>No</td>\n",
       "      <td>1.0</td>\n",
       "    </tr>\n",
       "    <tr>\n",
       "      <th>53</th>\n",
       "      <td>mTek</td>\n",
       "      <td>Fintech</td>\n",
       "      <td>Insurtech</td>\n",
       "      <td>2019.0</td>\n",
       "      <td>Nairobi</td>\n",
       "      <td>https://mtek-services.com/</td>\n",
       "      <td>Digital insurance platform</td>\n",
       "      <td>Yes</td>\n",
       "      <td>No</td>\n",
       "      <td>25.0</td>\n",
       "    </tr>\n",
       "    <tr>\n",
       "      <th>54</th>\n",
       "      <td>myInsure</td>\n",
       "      <td>Fintech</td>\n",
       "      <td>Insurtech</td>\n",
       "      <td>2015.0</td>\n",
       "      <td>Nairobi</td>\n",
       "      <td>http://www.myinsure.africa/</td>\n",
       "      <td>Digital insurance platform</td>\n",
       "      <td>No</td>\n",
       "      <td>No</td>\n",
       "      <td>1.0</td>\n",
       "    </tr>\n",
       "    <tr>\n",
       "      <th>55</th>\n",
       "      <td>myNGOVO</td>\n",
       "      <td>Fintech</td>\n",
       "      <td>Lending and financing</td>\n",
       "      <td>2020.0</td>\n",
       "      <td>Nairobi</td>\n",
       "      <td>https://myngovo.co.ke/</td>\n",
       "      <td>Salary advance app</td>\n",
       "      <td>No</td>\n",
       "      <td>No</td>\n",
       "      <td>3.0</td>\n",
       "    </tr>\n",
       "    <tr>\n",
       "      <th>56</th>\n",
       "      <td>Nash</td>\n",
       "      <td>Fintech</td>\n",
       "      <td>Business admin</td>\n",
       "      <td>2020.0</td>\n",
       "      <td>Nairobi</td>\n",
       "      <td>https://www.nasheq.co/</td>\n",
       "      <td>Business management platform</td>\n",
       "      <td>No</td>\n",
       "      <td>Yes</td>\n",
       "      <td>16.0</td>\n",
       "    </tr>\n",
       "    <tr>\n",
       "      <th>57</th>\n",
       "      <td>Ndovu</td>\n",
       "      <td>Fintech</td>\n",
       "      <td>Investtech</td>\n",
       "      <td>2020.0</td>\n",
       "      <td>Nairobi</td>\n",
       "      <td>https://ndovu.co/</td>\n",
       "      <td>Investments app</td>\n",
       "      <td>No</td>\n",
       "      <td>Yes</td>\n",
       "      <td>33.0</td>\n",
       "    </tr>\n",
       "    <tr>\n",
       "      <th>58</th>\n",
       "      <td>Nouveta</td>\n",
       "      <td>Fintech</td>\n",
       "      <td>Payments and remittances</td>\n",
       "      <td>2017.0</td>\n",
       "      <td>Nairobi</td>\n",
       "      <td>http://nouveta.tech/</td>\n",
       "      <td>Business payments platform</td>\n",
       "      <td>No</td>\n",
       "      <td>No</td>\n",
       "      <td>34.0</td>\n",
       "    </tr>\n",
       "    <tr>\n",
       "      <th>59</th>\n",
       "      <td>Odibooks</td>\n",
       "      <td>Fintech</td>\n",
       "      <td>Business admin</td>\n",
       "      <td>2022.0</td>\n",
       "      <td>Nairobi</td>\n",
       "      <td>https://www.odibooks.com/index</td>\n",
       "      <td>Business automation platform</td>\n",
       "      <td>No</td>\n",
       "      <td>No</td>\n",
       "      <td>2.0</td>\n",
       "    </tr>\n",
       "    <tr>\n",
       "      <th>60</th>\n",
       "      <td>Patika</td>\n",
       "      <td>Fintech</td>\n",
       "      <td>Business admin</td>\n",
       "      <td>2021.0</td>\n",
       "      <td>Nairobi</td>\n",
       "      <td>https://patika.africa/</td>\n",
       "      <td>Customer debt tracking solution</td>\n",
       "      <td>No</td>\n",
       "      <td>Yes</td>\n",
       "      <td>4.0</td>\n",
       "    </tr>\n",
       "    <tr>\n",
       "      <th>61</th>\n",
       "      <td>Paylend</td>\n",
       "      <td>Fintech</td>\n",
       "      <td>Lending and financing</td>\n",
       "      <td>2019.0</td>\n",
       "      <td>Nairobi</td>\n",
       "      <td>https://paylend.africa/</td>\n",
       "      <td>Lending platform</td>\n",
       "      <td>No</td>\n",
       "      <td>No</td>\n",
       "      <td>10.0</td>\n",
       "    </tr>\n",
       "    <tr>\n",
       "      <th>62</th>\n",
       "      <td>Pesabase</td>\n",
       "      <td>Fintech</td>\n",
       "      <td>Payments and remittances</td>\n",
       "      <td>2017.0</td>\n",
       "      <td>Nairobi</td>\n",
       "      <td>https://www.pesabase.com/</td>\n",
       "      <td>Payments platform</td>\n",
       "      <td>No</td>\n",
       "      <td>Yes</td>\n",
       "      <td>8.0</td>\n",
       "    </tr>\n",
       "    <tr>\n",
       "      <th>63</th>\n",
       "      <td>PesaBazaar</td>\n",
       "      <td>Fintech</td>\n",
       "      <td>Insurtech</td>\n",
       "      <td>2016.0</td>\n",
       "      <td>Nairobi</td>\n",
       "      <td>https://www.pesabazaar.com/</td>\n",
       "      <td>Insurance platform</td>\n",
       "      <td>No</td>\n",
       "      <td>Yes</td>\n",
       "      <td>15.0</td>\n",
       "    </tr>\n",
       "    <tr>\n",
       "      <th>64</th>\n",
       "      <td>PesaKit</td>\n",
       "      <td>Fintech</td>\n",
       "      <td>Business admin</td>\n",
       "      <td>2018.0</td>\n",
       "      <td>Nairobi</td>\n",
       "      <td>https://www.pesakit.co.ke/</td>\n",
       "      <td>App for mobile money agents</td>\n",
       "      <td>No</td>\n",
       "      <td>Yes</td>\n",
       "      <td>17.0</td>\n",
       "    </tr>\n",
       "    <tr>\n",
       "      <th>65</th>\n",
       "      <td>PesaPal</td>\n",
       "      <td>Fintech</td>\n",
       "      <td>Payments and remittances</td>\n",
       "      <td>2009.0</td>\n",
       "      <td>Nairobi</td>\n",
       "      <td>https://www.pesapal.com/</td>\n",
       "      <td>Card payments platform</td>\n",
       "      <td>No</td>\n",
       "      <td>No</td>\n",
       "      <td>216.0</td>\n",
       "    </tr>\n",
       "    <tr>\n",
       "      <th>66</th>\n",
       "      <td>Pezesha</td>\n",
       "      <td>Fintech</td>\n",
       "      <td>Lending and financing</td>\n",
       "      <td>2016.0</td>\n",
       "      <td>Nairobi</td>\n",
       "      <td>http://pezesha.com/</td>\n",
       "      <td>SME financing platform</td>\n",
       "      <td>Yes</td>\n",
       "      <td>Yes</td>\n",
       "      <td>47.0</td>\n",
       "    </tr>\n",
       "    <tr>\n",
       "      <th>67</th>\n",
       "      <td>Popote Payments</td>\n",
       "      <td>Fintech</td>\n",
       "      <td>Business admin</td>\n",
       "      <td>2015.0</td>\n",
       "      <td>Nairobi</td>\n",
       "      <td>https://popotepayments.com/</td>\n",
       "      <td>Business management platform</td>\n",
       "      <td>No</td>\n",
       "      <td>No</td>\n",
       "      <td>34.0</td>\n",
       "    </tr>\n",
       "    <tr>\n",
       "      <th>68</th>\n",
       "      <td>Power Financial Wellness</td>\n",
       "      <td>Fintech</td>\n",
       "      <td>Other</td>\n",
       "      <td>2019.0</td>\n",
       "      <td>Nairobi</td>\n",
       "      <td>https://yourpower.io/</td>\n",
       "      <td>Employee financial solutions</td>\n",
       "      <td>No</td>\n",
       "      <td>No</td>\n",
       "      <td>31.0</td>\n",
       "    </tr>\n",
       "    <tr>\n",
       "      <th>69</th>\n",
       "      <td>Raise</td>\n",
       "      <td>Fintech</td>\n",
       "      <td>Investtech</td>\n",
       "      <td>2020.0</td>\n",
       "      <td>Nairobi</td>\n",
       "      <td>https://www.getraise.io/</td>\n",
       "      <td>Startup fundraising platform</td>\n",
       "      <td>No</td>\n",
       "      <td>Yes</td>\n",
       "      <td>16.0</td>\n",
       "    </tr>\n",
       "    <tr>\n",
       "      <th>70</th>\n",
       "      <td>RePay Africa</td>\n",
       "      <td>Fintech</td>\n",
       "      <td>Payments and remittances</td>\n",
       "      <td>2020.0</td>\n",
       "      <td>Nairobi</td>\n",
       "      <td>https://www.repay.africa/</td>\n",
       "      <td>Mobile money payments platform</td>\n",
       "      <td>No</td>\n",
       "      <td>No</td>\n",
       "      <td>2.0</td>\n",
       "    </tr>\n",
       "    <tr>\n",
       "      <th>71</th>\n",
       "      <td>Route</td>\n",
       "      <td>Fintech</td>\n",
       "      <td>Other</td>\n",
       "      <td>2021.0</td>\n",
       "      <td>Nairobi</td>\n",
       "      <td>https://route.money/</td>\n",
       "      <td>Digital banking app</td>\n",
       "      <td>No</td>\n",
       "      <td>No</td>\n",
       "      <td>2.0</td>\n",
       "    </tr>\n",
       "    <tr>\n",
       "      <th>72</th>\n",
       "      <td>SafePay</td>\n",
       "      <td>Fintech</td>\n",
       "      <td>Payments and remittances</td>\n",
       "      <td>2014.0</td>\n",
       "      <td>Nairobi</td>\n",
       "      <td>https://safepay.co.ke/</td>\n",
       "      <td>Digital payments platform</td>\n",
       "      <td>No</td>\n",
       "      <td>Yes</td>\n",
       "      <td>9.0</td>\n",
       "    </tr>\n",
       "    <tr>\n",
       "      <th>73</th>\n",
       "      <td>SaveKubwa</td>\n",
       "      <td>Fintech</td>\n",
       "      <td>Insurtech</td>\n",
       "      <td>2015.0</td>\n",
       "      <td>Nairobi</td>\n",
       "      <td>https://www.savekubwa.com/</td>\n",
       "      <td>Insurance platform</td>\n",
       "      <td>No</td>\n",
       "      <td>No</td>\n",
       "      <td>1.0</td>\n",
       "    </tr>\n",
       "    <tr>\n",
       "      <th>74</th>\n",
       "      <td>Shara</td>\n",
       "      <td>Fintech</td>\n",
       "      <td>Business admin</td>\n",
       "      <td>2020.0</td>\n",
       "      <td>Nairobi</td>\n",
       "      <td>https://www.shara.co/</td>\n",
       "      <td>Customer financing service</td>\n",
       "      <td>No</td>\n",
       "      <td>No</td>\n",
       "      <td>80.0</td>\n",
       "    </tr>\n",
       "    <tr>\n",
       "      <th>75</th>\n",
       "      <td>SimbaPay</td>\n",
       "      <td>Fintech</td>\n",
       "      <td>Payments and remittances</td>\n",
       "      <td>2013.0</td>\n",
       "      <td>Nairobi</td>\n",
       "      <td>https://get.simbapay.com/</td>\n",
       "      <td>International money transfer service</td>\n",
       "      <td>No</td>\n",
       "      <td>Yes</td>\n",
       "      <td>9.0</td>\n",
       "    </tr>\n",
       "    <tr>\n",
       "      <th>76</th>\n",
       "      <td>simplePOS</td>\n",
       "      <td>Fintech</td>\n",
       "      <td>Business admin</td>\n",
       "      <td>2018.0</td>\n",
       "      <td>Nairobi</td>\n",
       "      <td>https://simplepos.co.ke/</td>\n",
       "      <td>Business management platform</td>\n",
       "      <td>Yes</td>\n",
       "      <td>No</td>\n",
       "      <td>4.0</td>\n",
       "    </tr>\n",
       "    <tr>\n",
       "      <th>77</th>\n",
       "      <td>Spektra</td>\n",
       "      <td>Fintech</td>\n",
       "      <td>Payments and remittances</td>\n",
       "      <td>2019.0</td>\n",
       "      <td>Nairobi</td>\n",
       "      <td>https://dash-app.com/</td>\n",
       "      <td>Payments app</td>\n",
       "      <td>No</td>\n",
       "      <td>No</td>\n",
       "      <td>60.0</td>\n",
       "    </tr>\n",
       "    <tr>\n",
       "      <th>78</th>\n",
       "      <td>String Analytics</td>\n",
       "      <td>Fintech</td>\n",
       "      <td>Lending and financing</td>\n",
       "      <td>2019.0</td>\n",
       "      <td>Nairobi</td>\n",
       "      <td>https://string-analytics.com/</td>\n",
       "      <td>Credit-scoring platform</td>\n",
       "      <td>No</td>\n",
       "      <td>No</td>\n",
       "      <td>1.0</td>\n",
       "    </tr>\n",
       "    <tr>\n",
       "      <th>79</th>\n",
       "      <td>SuperFluid</td>\n",
       "      <td>Fintech</td>\n",
       "      <td>Lending and financing</td>\n",
       "      <td>2015.0</td>\n",
       "      <td>Nairobi</td>\n",
       "      <td>http://www.superfluid.io/</td>\n",
       "      <td>Credit-scoring platform</td>\n",
       "      <td>Yes</td>\n",
       "      <td>Yes</td>\n",
       "      <td>12.0</td>\n",
       "    </tr>\n",
       "    <tr>\n",
       "      <th>80</th>\n",
       "      <td>Tanda</td>\n",
       "      <td>Fintech</td>\n",
       "      <td>Payments and remittances</td>\n",
       "      <td>2018.0</td>\n",
       "      <td>Nairobi</td>\n",
       "      <td>https://www.tanda.africa/</td>\n",
       "      <td>Business payments platform</td>\n",
       "      <td>No</td>\n",
       "      <td>Yes</td>\n",
       "      <td>33.0</td>\n",
       "    </tr>\n",
       "    <tr>\n",
       "      <th>81</th>\n",
       "      <td>Transcode</td>\n",
       "      <td>Fintech</td>\n",
       "      <td>Security and ID</td>\n",
       "      <td>2018.0</td>\n",
       "      <td>Nairobi</td>\n",
       "      <td>https://www.transcode.co.ke/</td>\n",
       "      <td>Fraud detection platform</td>\n",
       "      <td>No</td>\n",
       "      <td>No</td>\n",
       "      <td>1.0</td>\n",
       "    </tr>\n",
       "    <tr>\n",
       "      <th>82</th>\n",
       "      <td>Tulix</td>\n",
       "      <td>Fintech</td>\n",
       "      <td>Payments and remittances</td>\n",
       "      <td>2020.0</td>\n",
       "      <td>Nairobi</td>\n",
       "      <td>https://www.tulix.app/</td>\n",
       "      <td>Money transfer service</td>\n",
       "      <td>No</td>\n",
       "      <td>No</td>\n",
       "      <td>5.0</td>\n",
       "    </tr>\n",
       "    <tr>\n",
       "      <th>83</th>\n",
       "      <td>Turaco</td>\n",
       "      <td>Fintech</td>\n",
       "      <td>Insurtech</td>\n",
       "      <td>2019.0</td>\n",
       "      <td>Nairobi</td>\n",
       "      <td>https://www.turaco.insure/</td>\n",
       "      <td>Insurance platform</td>\n",
       "      <td>No</td>\n",
       "      <td>No</td>\n",
       "      <td>90.0</td>\n",
       "    </tr>\n",
       "    <tr>\n",
       "      <th>84</th>\n",
       "      <td>UbaPesa</td>\n",
       "      <td>Fintech</td>\n",
       "      <td>Lending and financing</td>\n",
       "      <td>2018.0</td>\n",
       "      <td>Nairobi</td>\n",
       "      <td>https://ubapesa.com/</td>\n",
       "      <td>P2P lending platform</td>\n",
       "      <td>No</td>\n",
       "      <td>No</td>\n",
       "      <td>5.0</td>\n",
       "    </tr>\n",
       "    <tr>\n",
       "      <th>85</th>\n",
       "      <td>Ujuzi</td>\n",
       "      <td>Fintech</td>\n",
       "      <td>Security and ID</td>\n",
       "      <td>2013.0</td>\n",
       "      <td>Nairobi</td>\n",
       "      <td>http://www.ujuzicompliance.com/</td>\n",
       "      <td>Security &amp; ID</td>\n",
       "      <td>No</td>\n",
       "      <td>No</td>\n",
       "      <td>1.0</td>\n",
       "    </tr>\n",
       "    <tr>\n",
       "      <th>86</th>\n",
       "      <td>UzaPoint</td>\n",
       "      <td>Fintech</td>\n",
       "      <td>Business admin</td>\n",
       "      <td>2015.0</td>\n",
       "      <td>Nairobi</td>\n",
       "      <td>https://uzapoint.com/</td>\n",
       "      <td>SME payments platform</td>\n",
       "      <td>No</td>\n",
       "      <td>Yes</td>\n",
       "      <td>12.0</td>\n",
       "    </tr>\n",
       "    <tr>\n",
       "      <th>87</th>\n",
       "      <td>Vooli</td>\n",
       "      <td>Fintech</td>\n",
       "      <td>Insurtech</td>\n",
       "      <td>2020.0</td>\n",
       "      <td>Nairobi</td>\n",
       "      <td>https://vooli.net/</td>\n",
       "      <td>Insurance platform</td>\n",
       "      <td>No</td>\n",
       "      <td>Yes</td>\n",
       "      <td>1.0</td>\n",
       "    </tr>\n",
       "    <tr>\n",
       "      <th>88</th>\n",
       "      <td>WapiPay</td>\n",
       "      <td>Fintech</td>\n",
       "      <td>Payments and remittances</td>\n",
       "      <td>2019.0</td>\n",
       "      <td>Nairobi</td>\n",
       "      <td>https://www.wapipay.com/</td>\n",
       "      <td>Africa-Asia payment platform</td>\n",
       "      <td>No</td>\n",
       "      <td>Yes</td>\n",
       "      <td>12.0</td>\n",
       "    </tr>\n",
       "    <tr>\n",
       "      <th>89</th>\n",
       "      <td>Watu Credit</td>\n",
       "      <td>Fintech</td>\n",
       "      <td>Lending and financing</td>\n",
       "      <td>2015.0</td>\n",
       "      <td>Mombasa</td>\n",
       "      <td>https://watuafrica.com/</td>\n",
       "      <td>Asset financing platform</td>\n",
       "      <td>No</td>\n",
       "      <td>No</td>\n",
       "      <td>1201.0</td>\n",
       "    </tr>\n",
       "    <tr>\n",
       "      <th>90</th>\n",
       "      <td>WazInsure</td>\n",
       "      <td>Fintech</td>\n",
       "      <td>Insurtech</td>\n",
       "      <td>2016.0</td>\n",
       "      <td>Nairobi</td>\n",
       "      <td>https://wazinsure.com/</td>\n",
       "      <td>Insurance platform</td>\n",
       "      <td>No</td>\n",
       "      <td>Yes</td>\n",
       "      <td>3.0</td>\n",
       "    </tr>\n",
       "    <tr>\n",
       "      <th>91</th>\n",
       "      <td>Weza.io</td>\n",
       "      <td>Fintech</td>\n",
       "      <td>Lending and financing</td>\n",
       "      <td>2016.0</td>\n",
       "      <td>Nairobi</td>\n",
       "      <td>https://www.weza.io/</td>\n",
       "      <td>End to end lending software</td>\n",
       "      <td>No</td>\n",
       "      <td>No</td>\n",
       "      <td>3.0</td>\n",
       "    </tr>\n",
       "    <tr>\n",
       "      <th>92</th>\n",
       "      <td>Wingubox</td>\n",
       "      <td>Fintech</td>\n",
       "      <td>Business admin</td>\n",
       "      <td>2007.0</td>\n",
       "      <td>Nairobi</td>\n",
       "      <td>https://apps.wingubox.com/</td>\n",
       "      <td>Accounting platform</td>\n",
       "      <td>No</td>\n",
       "      <td>No</td>\n",
       "      <td>6.0</td>\n",
       "    </tr>\n",
       "    <tr>\n",
       "      <th>93</th>\n",
       "      <td>Zagace</td>\n",
       "      <td>Fintech</td>\n",
       "      <td>Business admin</td>\n",
       "      <td>2013.0</td>\n",
       "      <td>Nairobi</td>\n",
       "      <td>https://zagace.com/</td>\n",
       "      <td>Business management platform</td>\n",
       "      <td>No</td>\n",
       "      <td>No</td>\n",
       "      <td>2.0</td>\n",
       "    </tr>\n",
       "    <tr>\n",
       "      <th>94</th>\n",
       "      <td>Zanifu</td>\n",
       "      <td>Fintech</td>\n",
       "      <td>Lending and financing</td>\n",
       "      <td>2016.0</td>\n",
       "      <td>Nairobi</td>\n",
       "      <td>https://www.zanifu.com/</td>\n",
       "      <td>Inventory financing</td>\n",
       "      <td>No</td>\n",
       "      <td>No</td>\n",
       "      <td>35.0</td>\n",
       "    </tr>\n",
       "    <tr>\n",
       "      <th>97</th>\n",
       "      <td>Access Afya</td>\n",
       "      <td>E-health</td>\n",
       "      <td>Other</td>\n",
       "      <td>2012.0</td>\n",
       "      <td>Nairobi</td>\n",
       "      <td>https://www.accessafya.com/</td>\n",
       "      <td>Tech-enabled clinics</td>\n",
       "      <td>Yes</td>\n",
       "      <td>Yes</td>\n",
       "      <td>48.0</td>\n",
       "    </tr>\n",
       "    <tr>\n",
       "      <th>98</th>\n",
       "      <td>Afya Plan</td>\n",
       "      <td>E-health</td>\n",
       "      <td>Health Insurance</td>\n",
       "      <td>2017.0</td>\n",
       "      <td>Nairobi</td>\n",
       "      <td>http://afyaplan.co.ke/</td>\n",
       "      <td>Online health insurance platform</td>\n",
       "      <td>No</td>\n",
       "      <td>No</td>\n",
       "      <td>1.0</td>\n",
       "    </tr>\n",
       "    <tr>\n",
       "      <th>99</th>\n",
       "      <td>Afya Rekod</td>\n",
       "      <td>E-health</td>\n",
       "      <td>EHR</td>\n",
       "      <td>2020.0</td>\n",
       "      <td>Nairobi</td>\n",
       "      <td>https://www.afyarekod.com/home</td>\n",
       "      <td>EHR solutions</td>\n",
       "      <td>No</td>\n",
       "      <td>No</td>\n",
       "      <td>27.0</td>\n",
       "    </tr>\n",
       "    <tr>\n",
       "      <th>100</th>\n",
       "      <td>Afya Research Africa</td>\n",
       "      <td>E-health</td>\n",
       "      <td>Practice management and procurement</td>\n",
       "      <td>2009.0</td>\n",
       "      <td>Nairobi</td>\n",
       "      <td>http://www.afyaresearch.org/</td>\n",
       "      <td>Stone HMIS open source health information and ...</td>\n",
       "      <td>Yes</td>\n",
       "      <td>No</td>\n",
       "      <td>30.0</td>\n",
       "    </tr>\n",
       "    <tr>\n",
       "      <th>101</th>\n",
       "      <td>Baobab Circle</td>\n",
       "      <td>E-health</td>\n",
       "      <td>Health info / Virtual Healthcare</td>\n",
       "      <td>2016.0</td>\n",
       "      <td>Nairobi</td>\n",
       "      <td>http://www.baobabcircle.com/</td>\n",
       "      <td>Health information app and virtual consultations</td>\n",
       "      <td>Yes</td>\n",
       "      <td>No</td>\n",
       "      <td>40.0</td>\n",
       "    </tr>\n",
       "    <tr>\n",
       "      <th>102</th>\n",
       "      <td>Damu Sasa</td>\n",
       "      <td>E-health</td>\n",
       "      <td>Practice management and procurement</td>\n",
       "      <td>2017.0</td>\n",
       "      <td>Nairobi</td>\n",
       "      <td>https://www.damu-sasa.co.ke/</td>\n",
       "      <td>Blood services information management</td>\n",
       "      <td>No</td>\n",
       "      <td>Yes</td>\n",
       "      <td>2.0</td>\n",
       "    </tr>\n",
       "    <tr>\n",
       "      <th>103</th>\n",
       "      <td>Deaf Elimu Plus</td>\n",
       "      <td>E-health</td>\n",
       "      <td>Other</td>\n",
       "      <td>2016.0</td>\n",
       "      <td>Nairobi</td>\n",
       "      <td>http://www.deafelimuplus.co.ke/</td>\n",
       "      <td>Range of apps using sign language.</td>\n",
       "      <td>No</td>\n",
       "      <td>No</td>\n",
       "      <td>1.0</td>\n",
       "    </tr>\n",
       "    <tr>\n",
       "      <th>104</th>\n",
       "      <td>Flare</td>\n",
       "      <td>E-health</td>\n",
       "      <td>Emergency response</td>\n",
       "      <td>2016.0</td>\n",
       "      <td>Nairobi</td>\n",
       "      <td>http://flare.capsule.co.ke/</td>\n",
       "      <td>App for hospitals and public to locate and cal...</td>\n",
       "      <td>Yes</td>\n",
       "      <td>Yes</td>\n",
       "      <td>24.0</td>\n",
       "    </tr>\n",
       "    <tr>\n",
       "      <th>105</th>\n",
       "      <td>Health-e-Net</td>\n",
       "      <td>E-health</td>\n",
       "      <td>Health info / Virtual healthcare</td>\n",
       "      <td>2012.0</td>\n",
       "      <td>Nairobi</td>\n",
       "      <td>http://www.health-e-net.org/</td>\n",
       "      <td>Tele-consultations platform</td>\n",
       "      <td>No</td>\n",
       "      <td>Yes</td>\n",
       "      <td>7.0</td>\n",
       "    </tr>\n",
       "    <tr>\n",
       "      <th>106</th>\n",
       "      <td>Hope Tech +</td>\n",
       "      <td>E-health</td>\n",
       "      <td>Other</td>\n",
       "      <td>2017.0</td>\n",
       "      <td>Nairobi</td>\n",
       "      <td>https://hopetechplus.com/</td>\n",
       "      <td>Assistive hardware for visually impaired</td>\n",
       "      <td>Yes</td>\n",
       "      <td>No</td>\n",
       "      <td>3.0</td>\n",
       "    </tr>\n",
       "    <tr>\n",
       "      <th>107</th>\n",
       "      <td>Ilara Health</td>\n",
       "      <td>E-health</td>\n",
       "      <td>Diagnostics inc. clinical decisions support</td>\n",
       "      <td>2018.0</td>\n",
       "      <td>Nairobi</td>\n",
       "      <td>https://www.ilarahealth.com/</td>\n",
       "      <td>Provider of diagnostics equipment</td>\n",
       "      <td>No</td>\n",
       "      <td>No</td>\n",
       "      <td>145.0</td>\n",
       "    </tr>\n",
       "    <tr>\n",
       "      <th>108</th>\n",
       "      <td>Lily.Health</td>\n",
       "      <td>E-health</td>\n",
       "      <td>Health info / Virtual Healthcare</td>\n",
       "      <td>2017.0</td>\n",
       "      <td>Nairobi</td>\n",
       "      <td>https://lily.health/</td>\n",
       "      <td>Chat app for reproductive health advice</td>\n",
       "      <td>No</td>\n",
       "      <td>Yes</td>\n",
       "      <td>5.0</td>\n",
       "    </tr>\n",
       "    <tr>\n",
       "      <th>109</th>\n",
       "      <td>M-TIBA</td>\n",
       "      <td>E-health</td>\n",
       "      <td>Health Insurance</td>\n",
       "      <td>2014.0</td>\n",
       "      <td>Mombasa</td>\n",
       "      <td>https://mtiba.com/go/</td>\n",
       "      <td>Health insurance service</td>\n",
       "      <td>No</td>\n",
       "      <td>No</td>\n",
       "      <td>114.0</td>\n",
       "    </tr>\n",
       "    <tr>\n",
       "      <th>110</th>\n",
       "      <td>Medbook</td>\n",
       "      <td>E-health</td>\n",
       "      <td>Health info / Virtual Healthcare</td>\n",
       "      <td>2014.0</td>\n",
       "      <td>Nairobi</td>\n",
       "      <td>https://www.medbookafrica.com/#/</td>\n",
       "      <td>Virtual consultations, practice management and...</td>\n",
       "      <td>No</td>\n",
       "      <td>No</td>\n",
       "      <td>30.0</td>\n",
       "    </tr>\n",
       "    <tr>\n",
       "      <th>111</th>\n",
       "      <td>Medixus</td>\n",
       "      <td>E-health</td>\n",
       "      <td>Health info / Virtual Healthcare</td>\n",
       "      <td>2015.0</td>\n",
       "      <td>Nairobi</td>\n",
       "      <td>https://www.medixus.co/</td>\n",
       "      <td>P2P doctors network</td>\n",
       "      <td>Yes</td>\n",
       "      <td>No</td>\n",
       "      <td>10.0</td>\n",
       "    </tr>\n",
       "    <tr>\n",
       "      <th>112</th>\n",
       "      <td>MumsVillage</td>\n",
       "      <td>E-health</td>\n",
       "      <td>Maternal health</td>\n",
       "      <td>2015.0</td>\n",
       "      <td>Nairobi</td>\n",
       "      <td>https://mumsvillage.com/</td>\n",
       "      <td>Maternal info and support</td>\n",
       "      <td>Yes</td>\n",
       "      <td>Yes</td>\n",
       "      <td>5.0</td>\n",
       "    </tr>\n",
       "    <tr>\n",
       "      <th>113</th>\n",
       "      <td>myDAWA</td>\n",
       "      <td>E-health</td>\n",
       "      <td>Other</td>\n",
       "      <td>2016.0</td>\n",
       "      <td>Nairobi</td>\n",
       "      <td>https://mydawa.com/#/home</td>\n",
       "      <td>Medicine purchasing</td>\n",
       "      <td>No</td>\n",
       "      <td>No</td>\n",
       "      <td>45.0</td>\n",
       "    </tr>\n",
       "    <tr>\n",
       "      <th>114</th>\n",
       "      <td>Neural Labs Africa</td>\n",
       "      <td>E-health</td>\n",
       "      <td>Diagnostics inc. clinical decisions support</td>\n",
       "      <td>2020.0</td>\n",
       "      <td>Nairobi</td>\n",
       "      <td>https://neurallabs.africa/</td>\n",
       "      <td>AI-based diagnostics platform</td>\n",
       "      <td>No</td>\n",
       "      <td>Yes</td>\n",
       "      <td>7.0</td>\n",
       "    </tr>\n",
       "    <tr>\n",
       "      <th>115</th>\n",
       "      <td>Nurse In Hand</td>\n",
       "      <td>E-health</td>\n",
       "      <td>Emergency response</td>\n",
       "      <td>2017.0</td>\n",
       "      <td>Nairobi</td>\n",
       "      <td>https://nurseinhand.com/</td>\n",
       "      <td>Emergency response service</td>\n",
       "      <td>Yes</td>\n",
       "      <td>Yes</td>\n",
       "      <td>3.0</td>\n",
       "    </tr>\n",
       "    <tr>\n",
       "      <th>116</th>\n",
       "      <td>Snark Health</td>\n",
       "      <td>E-health</td>\n",
       "      <td>Health info / Virtual Healthcare</td>\n",
       "      <td>2018.0</td>\n",
       "      <td>Nairobi</td>\n",
       "      <td>https://snarkhealth.com/</td>\n",
       "      <td>Virtual healthcare platform</td>\n",
       "      <td>No</td>\n",
       "      <td>Yes</td>\n",
       "      <td>3.0</td>\n",
       "    </tr>\n",
       "    <tr>\n",
       "      <th>117</th>\n",
       "      <td>Tambua</td>\n",
       "      <td>E-health</td>\n",
       "      <td>Diagnostics inc. clinical decisions support</td>\n",
       "      <td>2017.0</td>\n",
       "      <td>Nairobi</td>\n",
       "      <td>http://tambuahealth.com/</td>\n",
       "      <td>Mobile diagnostics platform</td>\n",
       "      <td>No</td>\n",
       "      <td>Yes</td>\n",
       "      <td>15.0</td>\n",
       "    </tr>\n",
       "    <tr>\n",
       "      <th>118</th>\n",
       "      <td>TeleAfya</td>\n",
       "      <td>E-health</td>\n",
       "      <td>Health info / Virtual Healthcare</td>\n",
       "      <td>2020.0</td>\n",
       "      <td>Nairobi</td>\n",
       "      <td>https://teleafya.com/home</td>\n",
       "      <td>Virtual consultation platform</td>\n",
       "      <td>No</td>\n",
       "      <td>No</td>\n",
       "      <td>1.0</td>\n",
       "    </tr>\n",
       "    <tr>\n",
       "      <th>119</th>\n",
       "      <td>The Pathology Network</td>\n",
       "      <td>E-health</td>\n",
       "      <td>Diagnostics inc. clinical decisions support</td>\n",
       "      <td>2017.0</td>\n",
       "      <td>Meru</td>\n",
       "      <td>https://pathologynetwork.africa/</td>\n",
       "      <td>AI-based lab referrals</td>\n",
       "      <td>No</td>\n",
       "      <td>Yes</td>\n",
       "      <td>19.0</td>\n",
       "    </tr>\n",
       "    <tr>\n",
       "      <th>120</th>\n",
       "      <td>TIBU</td>\n",
       "      <td>E-health</td>\n",
       "      <td>Bookings</td>\n",
       "      <td>2019.0</td>\n",
       "      <td>Nairobi</td>\n",
       "      <td>https://tibu.africa/</td>\n",
       "      <td>Medical bookings platform</td>\n",
       "      <td>No</td>\n",
       "      <td>No</td>\n",
       "      <td>32.0</td>\n",
       "    </tr>\n",
       "    <tr>\n",
       "      <th>121</th>\n",
       "      <td>Totohealth</td>\n",
       "      <td>E-health</td>\n",
       "      <td>Maternal health</td>\n",
       "      <td>2014.0</td>\n",
       "      <td>Nairobi</td>\n",
       "      <td>https://totohealth.org/homepage</td>\n",
       "      <td>SMS-based service focused on pregnancy and ear...</td>\n",
       "      <td>No</td>\n",
       "      <td>Yes</td>\n",
       "      <td>7.0</td>\n",
       "    </tr>\n",
       "    <tr>\n",
       "      <th>122</th>\n",
       "      <td>Ujuzi Fursa</td>\n",
       "      <td>E-health</td>\n",
       "      <td>Bookings</td>\n",
       "      <td>2018.0</td>\n",
       "      <td>Nairobi</td>\n",
       "      <td>http://www.ujuzifursaafrica.com/</td>\n",
       "      <td>Caregiving service</td>\n",
       "      <td>No</td>\n",
       "      <td>Yes</td>\n",
       "      <td>47.0</td>\n",
       "    </tr>\n",
       "    <tr>\n",
       "      <th>123</th>\n",
       "      <td>Usalama Tech</td>\n",
       "      <td>E-health</td>\n",
       "      <td>Emergency response</td>\n",
       "      <td>2016.0</td>\n",
       "      <td>Nairobi</td>\n",
       "      <td>http://www.usalamatechnology.com/</td>\n",
       "      <td>Emergency response calling app.</td>\n",
       "      <td>No</td>\n",
       "      <td>Yes</td>\n",
       "      <td>10.0</td>\n",
       "    </tr>\n",
       "    <tr>\n",
       "      <th>124</th>\n",
       "      <td>Uthabiti</td>\n",
       "      <td>E-health</td>\n",
       "      <td>Other</td>\n",
       "      <td>2015.0</td>\n",
       "      <td>Nairobi</td>\n",
       "      <td>https://uthabiti.org/</td>\n",
       "      <td>Blockchain-based drug verification platform</td>\n",
       "      <td>No</td>\n",
       "      <td>No</td>\n",
       "      <td>13.0</td>\n",
       "    </tr>\n",
       "    <tr>\n",
       "      <th>125</th>\n",
       "      <td>Wazi</td>\n",
       "      <td>E-health</td>\n",
       "      <td>Health info / Virtual Healthcare</td>\n",
       "      <td>2019.0</td>\n",
       "      <td>Nairobi</td>\n",
       "      <td>https://www.wazi.co/</td>\n",
       "      <td>Digital counselling platform</td>\n",
       "      <td>No</td>\n",
       "      <td>No</td>\n",
       "      <td>8.0</td>\n",
       "    </tr>\n",
       "    <tr>\n",
       "      <th>126</th>\n",
       "      <td>Yapili</td>\n",
       "      <td>E-health</td>\n",
       "      <td>Health info / Virtual healthcare</td>\n",
       "      <td>2014.0</td>\n",
       "      <td>Nairobi</td>\n",
       "      <td>https://yapili.com/</td>\n",
       "      <td>Online platform connecting African patients wi...</td>\n",
       "      <td>No</td>\n",
       "      <td>Yes</td>\n",
       "      <td>4.0</td>\n",
       "    </tr>\n",
       "    <tr>\n",
       "      <th>127</th>\n",
       "      <td>Zuri Health</td>\n",
       "      <td>E-health</td>\n",
       "      <td>Health info / Virtual healthcare</td>\n",
       "      <td>2020.0</td>\n",
       "      <td>Nairobi</td>\n",
       "      <td>https://www.zuri.health/</td>\n",
       "      <td>Virtual hospital</td>\n",
       "      <td>No</td>\n",
       "      <td>No</td>\n",
       "      <td>36.0</td>\n",
       "    </tr>\n",
       "    <tr>\n",
       "      <th>130</th>\n",
       "      <td>Afriagrimark</td>\n",
       "      <td>Agri-tech</td>\n",
       "      <td>E-commerce</td>\n",
       "      <td>2020.0</td>\n",
       "      <td>Nairobi</td>\n",
       "      <td>https://afriagrimark.com/</td>\n",
       "      <td>Helps farmers sell their produce</td>\n",
       "      <td>No</td>\n",
       "      <td>Yes</td>\n",
       "      <td>2.0</td>\n",
       "    </tr>\n",
       "    <tr>\n",
       "      <th>131</th>\n",
       "      <td>Annona</td>\n",
       "      <td>Agri-tech</td>\n",
       "      <td>Farm and supply chain management</td>\n",
       "      <td>2015.0</td>\n",
       "      <td>Nairobi</td>\n",
       "      <td>https://annona.co/</td>\n",
       "      <td>Online farmer management software for global f...</td>\n",
       "      <td>No</td>\n",
       "      <td>Yes</td>\n",
       "      <td>2.0</td>\n",
       "    </tr>\n",
       "    <tr>\n",
       "      <th>132</th>\n",
       "      <td>Apollo Agriculture</td>\n",
       "      <td>Agri-tech</td>\n",
       "      <td>AI / IoT for farmers</td>\n",
       "      <td>2016.0</td>\n",
       "      <td>Nairobi</td>\n",
       "      <td>https://apolloagriculture.com/</td>\n",
       "      <td>Leverages satellite imagery and machine learni...</td>\n",
       "      <td>No</td>\n",
       "      <td>No</td>\n",
       "      <td>594.0</td>\n",
       "    </tr>\n",
       "    <tr>\n",
       "      <th>133</th>\n",
       "      <td>Aqua Rech</td>\n",
       "      <td>Agri-tech</td>\n",
       "      <td>Other</td>\n",
       "      <td>2019.0</td>\n",
       "      <td>Kisumu</td>\n",
       "      <td>https://www.aquarech.com/</td>\n",
       "      <td>Aquaculture platform</td>\n",
       "      <td>No</td>\n",
       "      <td>No</td>\n",
       "      <td>12.0</td>\n",
       "    </tr>\n",
       "    <tr>\n",
       "      <th>134</th>\n",
       "      <td>Arinifu</td>\n",
       "      <td>Agri-tech</td>\n",
       "      <td>AI / IoT for farmers</td>\n",
       "      <td>2018.0</td>\n",
       "      <td>Nairobi</td>\n",
       "      <td>https://arinifu.com/</td>\n",
       "      <td>Designer of a \"smart brooder\"</td>\n",
       "      <td>No</td>\n",
       "      <td>Yes</td>\n",
       "      <td>2.0</td>\n",
       "    </tr>\n",
       "    <tr>\n",
       "      <th>135</th>\n",
       "      <td>Cinch</td>\n",
       "      <td>Agri-tech</td>\n",
       "      <td>Fintech for farmers</td>\n",
       "      <td>2017.0</td>\n",
       "      <td>Nairobi</td>\n",
       "      <td>https://cinchmarkets.com/</td>\n",
       "      <td>Smallholder asset investment platform</td>\n",
       "      <td>No</td>\n",
       "      <td>Yes</td>\n",
       "      <td>13.0</td>\n",
       "    </tr>\n",
       "    <tr>\n",
       "      <th>136</th>\n",
       "      <td>eProd Solutions</td>\n",
       "      <td>Agri-tech</td>\n",
       "      <td>Farm and supply chain management</td>\n",
       "      <td>2015.0</td>\n",
       "      <td>Nairobi</td>\n",
       "      <td>https://www.eprod-solutions.com/</td>\n",
       "      <td>Farm management platform</td>\n",
       "      <td>No</td>\n",
       "      <td>No</td>\n",
       "      <td>25.0</td>\n",
       "    </tr>\n",
       "    <tr>\n",
       "      <th>137</th>\n",
       "      <td>Farm IT</td>\n",
       "      <td>Agri-tech</td>\n",
       "      <td>Information and knowledge sharing</td>\n",
       "      <td>2018.0</td>\n",
       "      <td>Nairobi</td>\n",
       "      <td>http://www.farmit.co.ke/</td>\n",
       "      <td>Digital services platform for farmers</td>\n",
       "      <td>No</td>\n",
       "      <td>No</td>\n",
       "      <td>1.0</td>\n",
       "    </tr>\n",
       "    <tr>\n",
       "      <th>138</th>\n",
       "      <td>Farmers Pride</td>\n",
       "      <td>Agri-tech</td>\n",
       "      <td>Farm and supply chain management</td>\n",
       "      <td>2016.0</td>\n",
       "      <td>Nairobi</td>\n",
       "      <td>https://farmersprideafrica.com/</td>\n",
       "      <td>Connects farmers with inputs</td>\n",
       "      <td>No</td>\n",
       "      <td>No</td>\n",
       "      <td>19.0</td>\n",
       "    </tr>\n",
       "    <tr>\n",
       "      <th>139</th>\n",
       "      <td>Farmingtech</td>\n",
       "      <td>Agri-tech</td>\n",
       "      <td>Farm and supply chain management</td>\n",
       "      <td>2017.0</td>\n",
       "      <td>Nairobi</td>\n",
       "      <td>https://digicow.co.ke/</td>\n",
       "      <td>Farm record-keeping app</td>\n",
       "      <td>No</td>\n",
       "      <td>No</td>\n",
       "      <td>10.0</td>\n",
       "    </tr>\n",
       "    <tr>\n",
       "      <th>140</th>\n",
       "      <td>Farmshine</td>\n",
       "      <td>Agri-tech</td>\n",
       "      <td>E-commerce</td>\n",
       "      <td>2017.0</td>\n",
       "      <td>Nairobi</td>\n",
       "      <td>https://www.farmshine.io/</td>\n",
       "      <td>Connect farmers to markets</td>\n",
       "      <td>No</td>\n",
       "      <td>Yes</td>\n",
       "      <td>3.0</td>\n",
       "    </tr>\n",
       "    <tr>\n",
       "      <th>141</th>\n",
       "      <td>Futurepump</td>\n",
       "      <td>Agri-tech</td>\n",
       "      <td>Other</td>\n",
       "      <td>2011.0</td>\n",
       "      <td>Nairobi</td>\n",
       "      <td>https://futurepump.com/</td>\n",
       "      <td>Sells portable solar irrigation pumps to small...</td>\n",
       "      <td>No</td>\n",
       "      <td>Yes</td>\n",
       "      <td>19.0</td>\n",
       "    </tr>\n",
       "    <tr>\n",
       "      <th>142</th>\n",
       "      <td>GrowAgric</td>\n",
       "      <td>Agri-tech</td>\n",
       "      <td>Fintech for farmers</td>\n",
       "      <td>2020.0</td>\n",
       "      <td>Nairobi</td>\n",
       "      <td>https://growagric.com/</td>\n",
       "      <td>Accessible finance for farmers</td>\n",
       "      <td>No</td>\n",
       "      <td>Yes</td>\n",
       "      <td>5.0</td>\n",
       "    </tr>\n",
       "    <tr>\n",
       "      <th>143</th>\n",
       "      <td>iFarm360</td>\n",
       "      <td>Agri-tech</td>\n",
       "      <td>Fintech for farmers</td>\n",
       "      <td>2020.0</td>\n",
       "      <td>Nairobi</td>\n",
       "      <td>https://ifarm360.com/</td>\n",
       "      <td>Crowdfarming solution</td>\n",
       "      <td>No</td>\n",
       "      <td>No</td>\n",
       "      <td>7.0</td>\n",
       "    </tr>\n",
       "    <tr>\n",
       "      <th>144</th>\n",
       "      <td>iProcure Africa</td>\n",
       "      <td>Agri-tech</td>\n",
       "      <td>Farm and supply chain management</td>\n",
       "      <td>2013.0</td>\n",
       "      <td>Nairobi</td>\n",
       "      <td>https://iprocu.re/</td>\n",
       "      <td>Agricultural supply chain platform and busines...</td>\n",
       "      <td>No</td>\n",
       "      <td>Yes</td>\n",
       "      <td>128.0</td>\n",
       "    </tr>\n",
       "    <tr>\n",
       "      <th>145</th>\n",
       "      <td>Kuza</td>\n",
       "      <td>Agri-tech</td>\n",
       "      <td>Information and knowledge sharing</td>\n",
       "      <td>2022.0</td>\n",
       "      <td>Nairobi</td>\n",
       "      <td>https://kuza.io/</td>\n",
       "      <td>On-demand farming course provider</td>\n",
       "      <td>Yes</td>\n",
       "      <td>No</td>\n",
       "      <td>9.0</td>\n",
       "    </tr>\n",
       "    <tr>\n",
       "      <th>146</th>\n",
       "      <td>Lentera</td>\n",
       "      <td>Agri-tech</td>\n",
       "      <td>AI / IoT for farmers</td>\n",
       "      <td>2017.0</td>\n",
       "      <td>Nairobi</td>\n",
       "      <td>https://lenterafrica.com/</td>\n",
       "      <td>Precision agriculture services</td>\n",
       "      <td>No</td>\n",
       "      <td>Yes</td>\n",
       "      <td>12.0</td>\n",
       "    </tr>\n",
       "    <tr>\n",
       "      <th>147</th>\n",
       "      <td>M-Farm</td>\n",
       "      <td>Agri-tech</td>\n",
       "      <td>E-commerce</td>\n",
       "      <td>2011.0</td>\n",
       "      <td>Nairobi</td>\n",
       "      <td>https://www.mfarm.co.ke/</td>\n",
       "      <td>SMS and web-based produce marketplace for smal...</td>\n",
       "      <td>Yes</td>\n",
       "      <td>No</td>\n",
       "      <td>7.0</td>\n",
       "    </tr>\n",
       "    <tr>\n",
       "      <th>148</th>\n",
       "      <td>Mkulima Young Soko</td>\n",
       "      <td>Agri-tech</td>\n",
       "      <td>E-commerce</td>\n",
       "      <td>2012.0</td>\n",
       "      <td>Nairobi</td>\n",
       "      <td>http://www.mkulimayoung.com/</td>\n",
       "      <td>Produce marketplace for young farmers</td>\n",
       "      <td>No</td>\n",
       "      <td>No</td>\n",
       "      <td>7.0</td>\n",
       "    </tr>\n",
       "    <tr>\n",
       "      <th>149</th>\n",
       "      <td>Pula</td>\n",
       "      <td>Agri-tech</td>\n",
       "      <td>Fintech for farmers</td>\n",
       "      <td>2014.0</td>\n",
       "      <td>Nairobi</td>\n",
       "      <td>https://www.pula-advisors.com/</td>\n",
       "      <td>Agricultural insurance platform</td>\n",
       "      <td>Yes</td>\n",
       "      <td>No</td>\n",
       "      <td>224.0</td>\n",
       "    </tr>\n",
       "    <tr>\n",
       "      <th>150</th>\n",
       "      <td>Radava Mercentile</td>\n",
       "      <td>Agri-tech</td>\n",
       "      <td>Fintech for farmers</td>\n",
       "      <td>2021.0</td>\n",
       "      <td>Nairobi</td>\n",
       "      <td>https://radava.co/</td>\n",
       "      <td>Agri-commodity exchange market</td>\n",
       "      <td>No</td>\n",
       "      <td>Yes</td>\n",
       "      <td>3.0</td>\n",
       "    </tr>\n",
       "    <tr>\n",
       "      <th>151</th>\n",
       "      <td>Raino Tech4Impact</td>\n",
       "      <td>Agri-tech</td>\n",
       "      <td>Farm and supply chain management</td>\n",
       "      <td>2019.0</td>\n",
       "      <td>Nairobi</td>\n",
       "      <td>https://www.raino.co.ke/about/#</td>\n",
       "      <td>Cold chain solutions</td>\n",
       "      <td>No</td>\n",
       "      <td>Yes</td>\n",
       "      <td>17.0</td>\n",
       "    </tr>\n",
       "    <tr>\n",
       "      <th>152</th>\n",
       "      <td>Selina Wamucii</td>\n",
       "      <td>Agri-tech</td>\n",
       "      <td>E-commerce</td>\n",
       "      <td>2015.0</td>\n",
       "      <td>Nairobi</td>\n",
       "      <td>https://www.selinawamucii.com/</td>\n",
       "      <td>Online platform for fresh farm produce</td>\n",
       "      <td>No</td>\n",
       "      <td>No</td>\n",
       "      <td>3.0</td>\n",
       "    </tr>\n",
       "    <tr>\n",
       "      <th>153</th>\n",
       "      <td>Shamba Pride</td>\n",
       "      <td>Agri-tech</td>\n",
       "      <td>Farm and supply chain management</td>\n",
       "      <td>2016.0</td>\n",
       "      <td>Nairobi</td>\n",
       "      <td>https://shambapride.com/</td>\n",
       "      <td>Supply chain management platform</td>\n",
       "      <td>No</td>\n",
       "      <td>Yes</td>\n",
       "      <td>19.0</td>\n",
       "    </tr>\n",
       "    <tr>\n",
       "      <th>154</th>\n",
       "      <td>Shamba Records</td>\n",
       "      <td>Agri-tech</td>\n",
       "      <td>Farm and supply chain management</td>\n",
       "      <td>2017.0</td>\n",
       "      <td>Nairobi</td>\n",
       "      <td>https://shambarecords.co.ke/</td>\n",
       "      <td>AI and blockchain based farm management platform</td>\n",
       "      <td>No</td>\n",
       "      <td>No</td>\n",
       "      <td>6.0</td>\n",
       "    </tr>\n",
       "    <tr>\n",
       "      <th>155</th>\n",
       "      <td>SolarFreeze</td>\n",
       "      <td>Agri-tech</td>\n",
       "      <td>Other</td>\n",
       "      <td>2017.0</td>\n",
       "      <td>Nairobi</td>\n",
       "      <td>http://www.solarfreeze.co.ke/</td>\n",
       "      <td>Solar-powered cold storage solutions for farmers</td>\n",
       "      <td>No</td>\n",
       "      <td>Yes</td>\n",
       "      <td>4.0</td>\n",
       "    </tr>\n",
       "    <tr>\n",
       "      <th>156</th>\n",
       "      <td>Synnefa</td>\n",
       "      <td>Agri-tech</td>\n",
       "      <td>AI / IoT for farmers</td>\n",
       "      <td>2013.0</td>\n",
       "      <td>Nairobi</td>\n",
       "      <td>https://www.synnefa.io/</td>\n",
       "      <td>Integrated solar powered farm automation syste...</td>\n",
       "      <td>No</td>\n",
       "      <td>Yes</td>\n",
       "      <td>15.0</td>\n",
       "    </tr>\n",
       "    <tr>\n",
       "      <th>157</th>\n",
       "      <td>Taimba</td>\n",
       "      <td>Agri-tech</td>\n",
       "      <td>E-commerce</td>\n",
       "      <td>2016.0</td>\n",
       "      <td>Nairobi</td>\n",
       "      <td>https://taimba.co.ke/</td>\n",
       "      <td>Business to business mobile-based cashless pla...</td>\n",
       "      <td>Yes</td>\n",
       "      <td>Yes</td>\n",
       "      <td>16.0</td>\n",
       "    </tr>\n",
       "    <tr>\n",
       "      <th>158</th>\n",
       "      <td>Twiga Foods</td>\n",
       "      <td>Agri-tech</td>\n",
       "      <td>Farm and supply chain management</td>\n",
       "      <td>2013.0</td>\n",
       "      <td>Nairobi</td>\n",
       "      <td>http://twigafoods.com/</td>\n",
       "      <td>Mobile business-to-business food supply platform</td>\n",
       "      <td>No</td>\n",
       "      <td>No</td>\n",
       "      <td>821.0</td>\n",
       "    </tr>\n",
       "    <tr>\n",
       "      <th>159</th>\n",
       "      <td>Ujuzi Kilimo</td>\n",
       "      <td>Agri-tech</td>\n",
       "      <td>AI / IoT for farmers</td>\n",
       "      <td>2016.0</td>\n",
       "      <td>Nairobi</td>\n",
       "      <td>http://www.ujuzikilimo.com/</td>\n",
       "      <td>IoT and data monitoring solution for farmers</td>\n",
       "      <td>No</td>\n",
       "      <td>Yes</td>\n",
       "      <td>5.0</td>\n",
       "    </tr>\n",
       "    <tr>\n",
       "      <th>160</th>\n",
       "      <td>WeFarm</td>\n",
       "      <td>Agri-tech</td>\n",
       "      <td>Information and knowledge sharing</td>\n",
       "      <td>2014.0</td>\n",
       "      <td>Nairobi</td>\n",
       "      <td>https://wefarm.org/</td>\n",
       "      <td>SMS-based peer-to-peer (P2P) farming informati...</td>\n",
       "      <td>No</td>\n",
       "      <td>No</td>\n",
       "      <td>55.0</td>\n",
       "    </tr>\n",
       "    <tr>\n",
       "      <th>163</th>\n",
       "      <td>AZA Finance</td>\n",
       "      <td>Fintech</td>\n",
       "      <td>Payments and remittances</td>\n",
       "      <td>2013.0</td>\n",
       "      <td>Nairobi</td>\n",
       "      <td>https://www.azafinance.com/</td>\n",
       "      <td>International money transfer service</td>\n",
       "      <td>Yes</td>\n",
       "      <td>No</td>\n",
       "      <td>218.0</td>\n",
       "    </tr>\n",
       "    <tr>\n",
       "      <th>164</th>\n",
       "      <td>Bismart</td>\n",
       "      <td>Fintech</td>\n",
       "      <td>Insurtech</td>\n",
       "      <td>2017.0</td>\n",
       "      <td>Nairobi</td>\n",
       "      <td>https://bismart.co.ke</td>\n",
       "      <td>Digital insurance platform</td>\n",
       "      <td>Yes</td>\n",
       "      <td>No</td>\n",
       "      <td>8.0</td>\n",
       "    </tr>\n",
       "    <tr>\n",
       "      <th>165</th>\n",
       "      <td>BitLipa</td>\n",
       "      <td>Fintech</td>\n",
       "      <td>Payments and remittances</td>\n",
       "      <td>2019.0</td>\n",
       "      <td>Nairobi</td>\n",
       "      <td>https://www.bitlipa.com/</td>\n",
       "      <td>Crypto payments platform</td>\n",
       "      <td>No</td>\n",
       "      <td>No</td>\n",
       "      <td>11.0</td>\n",
       "    </tr>\n",
       "    <tr>\n",
       "      <th>166</th>\n",
       "      <td>Bitsoko</td>\n",
       "      <td>Fintech</td>\n",
       "      <td>Blockchain</td>\n",
       "      <td>2013.0</td>\n",
       "      <td>Nairobi</td>\n",
       "      <td>https://bitsoko.wordpress.com/</td>\n",
       "      <td>Blockchain-based solutions for small businesses</td>\n",
       "      <td>No</td>\n",
       "      <td>No</td>\n",
       "      <td>1.0</td>\n",
       "    </tr>\n",
       "    <tr>\n",
       "      <th>167</th>\n",
       "      <td>Crypsense</td>\n",
       "      <td>Fintech</td>\n",
       "      <td>Blockchain</td>\n",
       "      <td>2022.0</td>\n",
       "      <td>Nairobi</td>\n",
       "      <td>https://www.crypsense.io/</td>\n",
       "      <td>Digital assets management platform</td>\n",
       "      <td>Yes</td>\n",
       "      <td>Yes</td>\n",
       "      <td>7.0</td>\n",
       "    </tr>\n",
       "    <tr>\n",
       "      <th>168</th>\n",
       "      <td>Kotani Pay</td>\n",
       "      <td>Fintech</td>\n",
       "      <td>Payments and remittances</td>\n",
       "      <td>2020.0</td>\n",
       "      <td>Nairobi</td>\n",
       "      <td>https://kotanipay.com/</td>\n",
       "      <td>Blockchain-based payments platform</td>\n",
       "      <td>No</td>\n",
       "      <td>Yes</td>\n",
       "      <td>12.0</td>\n",
       "    </tr>\n",
       "    <tr>\n",
       "      <th>169</th>\n",
       "      <td>Lakt</td>\n",
       "      <td>Fintech</td>\n",
       "      <td>Personal finance</td>\n",
       "      <td>2016.0</td>\n",
       "      <td>Nairobi</td>\n",
       "      <td>http://lakt.io/</td>\n",
       "      <td>Savings and investments platform</td>\n",
       "      <td>No</td>\n",
       "      <td>Yes</td>\n",
       "      <td>1.0</td>\n",
       "    </tr>\n",
       "    <tr>\n",
       "      <th>170</th>\n",
       "      <td>Nash</td>\n",
       "      <td>Fintech</td>\n",
       "      <td>Business admin</td>\n",
       "      <td>2020.0</td>\n",
       "      <td>Nairobi</td>\n",
       "      <td>https://www.nasheq.co/</td>\n",
       "      <td>Business management platform</td>\n",
       "      <td>No</td>\n",
       "      <td>Yes</td>\n",
       "      <td>16.0</td>\n",
       "    </tr>\n",
       "    <tr>\n",
       "      <th>171</th>\n",
       "      <td>Pesabase</td>\n",
       "      <td>Fintech</td>\n",
       "      <td>Payments and remittances</td>\n",
       "      <td>2017.0</td>\n",
       "      <td>Nairobi</td>\n",
       "      <td>https://www.pesabase.com/</td>\n",
       "      <td>Payments platform</td>\n",
       "      <td>No</td>\n",
       "      <td>Yes</td>\n",
       "      <td>8.0</td>\n",
       "    </tr>\n",
       "    <tr>\n",
       "      <th>172</th>\n",
       "      <td>Pezesha</td>\n",
       "      <td>Fintech</td>\n",
       "      <td>Lending and financing</td>\n",
       "      <td>2016.0</td>\n",
       "      <td>Nairobi</td>\n",
       "      <td>http://pezesha.com/</td>\n",
       "      <td>SME financing platform</td>\n",
       "      <td>Yes</td>\n",
       "      <td>Yes</td>\n",
       "      <td>47.0</td>\n",
       "    </tr>\n",
       "    <tr>\n",
       "      <th>173</th>\n",
       "      <td>Raise</td>\n",
       "      <td>Fintech</td>\n",
       "      <td>Investtech</td>\n",
       "      <td>2020.0</td>\n",
       "      <td>Nairobi</td>\n",
       "      <td>https://www.getraise.io/</td>\n",
       "      <td>Startup fundraising platform</td>\n",
       "      <td>No</td>\n",
       "      <td>Yes</td>\n",
       "      <td>16.0</td>\n",
       "    </tr>\n",
       "    <tr>\n",
       "      <th>174</th>\n",
       "      <td>Zagace</td>\n",
       "      <td>Fintech</td>\n",
       "      <td>Business admin</td>\n",
       "      <td>2013.0</td>\n",
       "      <td>Nairobi</td>\n",
       "      <td>https://zagace.com/</td>\n",
       "      <td>Business management platform</td>\n",
       "      <td>No</td>\n",
       "      <td>No</td>\n",
       "      <td>2.0</td>\n",
       "    </tr>\n",
       "    <tr>\n",
       "      <th>175</th>\n",
       "      <td>Afya Rekod</td>\n",
       "      <td>E-health</td>\n",
       "      <td>EHR</td>\n",
       "      <td>2020.0</td>\n",
       "      <td>Nairobi</td>\n",
       "      <td>https://www.afyarekod.com/home</td>\n",
       "      <td>EHR solutions</td>\n",
       "      <td>No</td>\n",
       "      <td>No</td>\n",
       "      <td>27.0</td>\n",
       "    </tr>\n",
       "    <tr>\n",
       "      <th>176</th>\n",
       "      <td>M-TIBA</td>\n",
       "      <td>E-health</td>\n",
       "      <td>Health Insurance</td>\n",
       "      <td>2014.0</td>\n",
       "      <td>Mombasa</td>\n",
       "      <td>https://mtiba.com/go/</td>\n",
       "      <td>Health insurance service</td>\n",
       "      <td>No</td>\n",
       "      <td>No</td>\n",
       "      <td>114.0</td>\n",
       "    </tr>\n",
       "    <tr>\n",
       "      <th>177</th>\n",
       "      <td>myDAWA</td>\n",
       "      <td>E-health</td>\n",
       "      <td>Other</td>\n",
       "      <td>2016.0</td>\n",
       "      <td>Nairobi</td>\n",
       "      <td>https://mydawa.com/#/home</td>\n",
       "      <td>Medicine purchasing</td>\n",
       "      <td>No</td>\n",
       "      <td>No</td>\n",
       "      <td>45.0</td>\n",
       "    </tr>\n",
       "    <tr>\n",
       "      <th>178</th>\n",
       "      <td>Nurse In Hand</td>\n",
       "      <td>E-health</td>\n",
       "      <td>Emergency response</td>\n",
       "      <td>2017.0</td>\n",
       "      <td>Nairobi</td>\n",
       "      <td>https://nurseinhand.com/</td>\n",
       "      <td>Emergency response service</td>\n",
       "      <td>Yes</td>\n",
       "      <td>Yes</td>\n",
       "      <td>3.0</td>\n",
       "    </tr>\n",
       "    <tr>\n",
       "      <th>179</th>\n",
       "      <td>Snark Health</td>\n",
       "      <td>E-health</td>\n",
       "      <td>Health info / Virtual Healthcare</td>\n",
       "      <td>2018.0</td>\n",
       "      <td>Nairobi</td>\n",
       "      <td>https://snarkhealth.com/</td>\n",
       "      <td>Virtual healthcare platform</td>\n",
       "      <td>No</td>\n",
       "      <td>Yes</td>\n",
       "      <td>3.0</td>\n",
       "    </tr>\n",
       "    <tr>\n",
       "      <th>180</th>\n",
       "      <td>Uthabiti</td>\n",
       "      <td>E-health</td>\n",
       "      <td>Other</td>\n",
       "      <td>2015.0</td>\n",
       "      <td>Nairobi</td>\n",
       "      <td>https://uthabiti.org/</td>\n",
       "      <td>Blockchain-based drug verification platform</td>\n",
       "      <td>No</td>\n",
       "      <td>No</td>\n",
       "      <td>13.0</td>\n",
       "    </tr>\n",
       "    <tr>\n",
       "      <th>181</th>\n",
       "      <td>Annona</td>\n",
       "      <td>Agri-tech</td>\n",
       "      <td>Farm and supply chain management</td>\n",
       "      <td>2015.0</td>\n",
       "      <td>Nairobi</td>\n",
       "      <td>https://annona.co/</td>\n",
       "      <td>Online farmer management software for global f...</td>\n",
       "      <td>No</td>\n",
       "      <td>Yes</td>\n",
       "      <td>2.0</td>\n",
       "    </tr>\n",
       "    <tr>\n",
       "      <th>182</th>\n",
       "      <td>Farmshine</td>\n",
       "      <td>Agri-tech</td>\n",
       "      <td>E-commerce</td>\n",
       "      <td>2017.0</td>\n",
       "      <td>Nairobi</td>\n",
       "      <td>https://www.farmshine.io/</td>\n",
       "      <td>Connect farmers to markets</td>\n",
       "      <td>No</td>\n",
       "      <td>Yes</td>\n",
       "      <td>3.0</td>\n",
       "    </tr>\n",
       "    <tr>\n",
       "      <th>183</th>\n",
       "      <td>Pula</td>\n",
       "      <td>Agri-tech</td>\n",
       "      <td>Fintech for farmers</td>\n",
       "      <td>2014.0</td>\n",
       "      <td>Nairobi</td>\n",
       "      <td>https://www.pula-advisors.com/</td>\n",
       "      <td>Agricultural insurance platform</td>\n",
       "      <td>Yes</td>\n",
       "      <td>No</td>\n",
       "      <td>224.0</td>\n",
       "    </tr>\n",
       "    <tr>\n",
       "      <th>184</th>\n",
       "      <td>Shamba Records</td>\n",
       "      <td>Agri-tech</td>\n",
       "      <td>Farm and supply chain management</td>\n",
       "      <td>2017.0</td>\n",
       "      <td>Nairobi</td>\n",
       "      <td>https://shambarecords.co.ke/</td>\n",
       "      <td>AI and blockchain based farm management platform</td>\n",
       "      <td>No</td>\n",
       "      <td>No</td>\n",
       "      <td>6.0</td>\n",
       "    </tr>\n",
       "    <tr>\n",
       "      <th>185</th>\n",
       "      <td>Twiga Foods</td>\n",
       "      <td>Agri-tech</td>\n",
       "      <td>Farm and supply chain management</td>\n",
       "      <td>2013.0</td>\n",
       "      <td>Nairobi</td>\n",
       "      <td>http://twigafoods.com/</td>\n",
       "      <td>Mobile business-to-business food supply platform</td>\n",
       "      <td>No</td>\n",
       "      <td>No</td>\n",
       "      <td>821.0</td>\n",
       "    </tr>\n",
       "    <tr>\n",
       "      <th>186</th>\n",
       "      <td>Aircart</td>\n",
       "      <td>E-commerce and retail-tech</td>\n",
       "      <td>Multi-product</td>\n",
       "      <td>2021.0</td>\n",
       "      <td>Nairobi</td>\n",
       "      <td>https://www.aircart.app/</td>\n",
       "      <td>Digital products store</td>\n",
       "      <td>No</td>\n",
       "      <td>No</td>\n",
       "      <td>4.0</td>\n",
       "    </tr>\n",
       "    <tr>\n",
       "      <th>187</th>\n",
       "      <td>M-Post</td>\n",
       "      <td>Logistics</td>\n",
       "      <td>NaN</td>\n",
       "      <td>2016.0</td>\n",
       "      <td>Nairobi</td>\n",
       "      <td>http://www.mpost.co.ke/</td>\n",
       "      <td>Mobile addressing system</td>\n",
       "      <td>No</td>\n",
       "      <td>Yes</td>\n",
       "      <td>22.0</td>\n",
       "    </tr>\n",
       "    <tr>\n",
       "      <th>188</th>\n",
       "      <td>RippleNami</td>\n",
       "      <td>Logistics</td>\n",
       "      <td>NaN</td>\n",
       "      <td>2015.0</td>\n",
       "      <td>Nairobi</td>\n",
       "      <td>https://ripplenami.com/</td>\n",
       "      <td>Mapping solution</td>\n",
       "      <td>No</td>\n",
       "      <td>Yes</td>\n",
       "      <td>18.0</td>\n",
       "    </tr>\n",
       "    <tr>\n",
       "      <th>189</th>\n",
       "      <td>Gridless</td>\n",
       "      <td>Energy</td>\n",
       "      <td>NaN</td>\n",
       "      <td>2022.0</td>\n",
       "      <td>Nairobi</td>\n",
       "      <td>https://gridlesscompute.com/</td>\n",
       "      <td>Hydroelectric bitcoin mining</td>\n",
       "      <td>No</td>\n",
       "      <td>No</td>\n",
       "      <td>1.0</td>\n",
       "    </tr>\n",
       "    <tr>\n",
       "      <th>190</th>\n",
       "      <td>UTU</td>\n",
       "      <td>AI/IoT</td>\n",
       "      <td>NaN</td>\n",
       "      <td>2015.0</td>\n",
       "      <td>Nairobi</td>\n",
       "      <td>https://utu.io/</td>\n",
       "      <td>AI solutions for sharing economy, parent compa...</td>\n",
       "      <td>No</td>\n",
       "      <td>Yes</td>\n",
       "      <td>22.0</td>\n",
       "    </tr>\n",
       "    <tr>\n",
       "      <th>191</th>\n",
       "      <td>Ledja</td>\n",
       "      <td>Digital identity</td>\n",
       "      <td>NaN</td>\n",
       "      <td>2021.0</td>\n",
       "      <td>Nairobi</td>\n",
       "      <td>https://www.ledja.net/</td>\n",
       "      <td>Digital identity verification</td>\n",
       "      <td>No</td>\n",
       "      <td>Yes</td>\n",
       "      <td>1.0</td>\n",
       "    </tr>\n",
       "    <tr>\n",
       "      <th>192</th>\n",
       "      <td>Vibranium ID</td>\n",
       "      <td>Digital identity</td>\n",
       "      <td>NaN</td>\n",
       "      <td>2019.0</td>\n",
       "      <td>Nairobi</td>\n",
       "      <td>https://vibranium.id/</td>\n",
       "      <td>Portable personal ID</td>\n",
       "      <td>No</td>\n",
       "      <td>Yes</td>\n",
       "      <td>2.0</td>\n",
       "    </tr>\n",
       "    <tr>\n",
       "      <th>195</th>\n",
       "      <td>AfricaSokoni</td>\n",
       "      <td>E-commerce and retail-tech</td>\n",
       "      <td>Multi-product</td>\n",
       "      <td>2018.0</td>\n",
       "      <td>Nairobi</td>\n",
       "      <td>https://africasokoni.co.ke/</td>\n",
       "      <td>Multi-product e-commerce store</td>\n",
       "      <td>No</td>\n",
       "      <td>Yes</td>\n",
       "      <td>21.0</td>\n",
       "    </tr>\n",
       "    <tr>\n",
       "      <th>196</th>\n",
       "      <td>Aircart</td>\n",
       "      <td>E-commerce and retail-tech</td>\n",
       "      <td>Multi-product</td>\n",
       "      <td>2021.0</td>\n",
       "      <td>Nairobi</td>\n",
       "      <td>https://www.aircart.app/</td>\n",
       "      <td>Digital products store</td>\n",
       "      <td>No</td>\n",
       "      <td>No</td>\n",
       "      <td>4.0</td>\n",
       "    </tr>\n",
       "    <tr>\n",
       "      <th>197</th>\n",
       "      <td>ANDO</td>\n",
       "      <td>E-commerce and retail-tech</td>\n",
       "      <td>Food, drinks and groceries</td>\n",
       "      <td>2020.0</td>\n",
       "      <td>Nairobi</td>\n",
       "      <td>https://www.andofoods.co/</td>\n",
       "      <td>Food delivery platform</td>\n",
       "      <td>No</td>\n",
       "      <td>No</td>\n",
       "      <td>29.0</td>\n",
       "    </tr>\n",
       "    <tr>\n",
       "      <th>198</th>\n",
       "      <td>Badili</td>\n",
       "      <td>E-commerce and retail-tech</td>\n",
       "      <td>Electronics</td>\n",
       "      <td>2021.0</td>\n",
       "      <td>Nairobi</td>\n",
       "      <td>https://badili.africa/</td>\n",
       "      <td>Second-hand phone store</td>\n",
       "      <td>No</td>\n",
       "      <td>Yes</td>\n",
       "      <td>21.0</td>\n",
       "    </tr>\n",
       "    <tr>\n",
       "      <th>199</th>\n",
       "      <td>Bamba</td>\n",
       "      <td>E-commerce and retail-tech</td>\n",
       "      <td>Retail-tech</td>\n",
       "      <td>2022.0</td>\n",
       "      <td>Nairobi</td>\n",
       "      <td>https://getbamba.com/</td>\n",
       "      <td>Management app for micro-merchants</td>\n",
       "      <td>No</td>\n",
       "      <td>Yes</td>\n",
       "      <td>10.0</td>\n",
       "    </tr>\n",
       "    <tr>\n",
       "      <th>200</th>\n",
       "      <td>BuuPass</td>\n",
       "      <td>E-commerce and retail-tech</td>\n",
       "      <td>Other</td>\n",
       "      <td>2015.0</td>\n",
       "      <td>Nairobi</td>\n",
       "      <td>https://www.buupass.com/</td>\n",
       "      <td>Bus ticketing platform</td>\n",
       "      <td>No</td>\n",
       "      <td>Yes</td>\n",
       "      <td>20.0</td>\n",
       "    </tr>\n",
       "    <tr>\n",
       "      <th>201</th>\n",
       "      <td>Cartnshop</td>\n",
       "      <td>E-commerce and retail-tech</td>\n",
       "      <td>E-commerce facilitation</td>\n",
       "      <td>2018.0</td>\n",
       "      <td>Nairobi</td>\n",
       "      <td>https://cartnshop.com/</td>\n",
       "      <td>Online store builder</td>\n",
       "      <td>No</td>\n",
       "      <td>No</td>\n",
       "      <td>1.0</td>\n",
       "    </tr>\n",
       "    <tr>\n",
       "      <th>202</th>\n",
       "      <td>CashBackApp</td>\n",
       "      <td>E-commerce and retail-tech</td>\n",
       "      <td>E-commerce facilitation</td>\n",
       "      <td>2018.0</td>\n",
       "      <td>Nairobi</td>\n",
       "      <td>https://www.cashbackmobileapp.com/</td>\n",
       "      <td>Loyalty solution for merchants</td>\n",
       "      <td>No</td>\n",
       "      <td>Yes</td>\n",
       "      <td>9.0</td>\n",
       "    </tr>\n",
       "    <tr>\n",
       "      <th>203</th>\n",
       "      <td>Copia</td>\n",
       "      <td>E-commerce and retail-tech</td>\n",
       "      <td>Multi-product</td>\n",
       "      <td>2013.0</td>\n",
       "      <td>Nairobi</td>\n",
       "      <td>https://copiaglobal.com/</td>\n",
       "      <td>Shopping platform for BoP customers</td>\n",
       "      <td>No</td>\n",
       "      <td>No</td>\n",
       "      <td>516.0</td>\n",
       "    </tr>\n",
       "    <tr>\n",
       "      <th>204</th>\n",
       "      <td>DohYangu</td>\n",
       "      <td>E-commerce and retail-tech</td>\n",
       "      <td>E-commerce facilitation</td>\n",
       "      <td>2020.0</td>\n",
       "      <td>Nairobi</td>\n",
       "      <td>https://www.dohyangu.ke/</td>\n",
       "      <td>Cashback rewards platform</td>\n",
       "      <td>No</td>\n",
       "      <td>Yes</td>\n",
       "      <td>7.0</td>\n",
       "    </tr>\n",
       "    <tr>\n",
       "      <th>205</th>\n",
       "      <td>Duhqa</td>\n",
       "      <td>E-commerce and retail-tech</td>\n",
       "      <td>Retail-tech</td>\n",
       "      <td>2021.0</td>\n",
       "      <td>Nairobi</td>\n",
       "      <td>https://www.duhqa.com/</td>\n",
       "      <td>Connects retailers with manufacturers</td>\n",
       "      <td>No</td>\n",
       "      <td>Yes</td>\n",
       "      <td>33.0</td>\n",
       "    </tr>\n",
       "    <tr>\n",
       "      <th>206</th>\n",
       "      <td>Dukapepe</td>\n",
       "      <td>E-commerce and retail-tech</td>\n",
       "      <td>Retail-tech</td>\n",
       "      <td>2017.0</td>\n",
       "      <td>Nairobi</td>\n",
       "      <td>https://dukapepe.tech/</td>\n",
       "      <td>Connects retailers with FMCGs companies</td>\n",
       "      <td>Yes</td>\n",
       "      <td>Yes</td>\n",
       "      <td>9.0</td>\n",
       "    </tr>\n",
       "    <tr>\n",
       "      <th>207</th>\n",
       "      <td>Elloe</td>\n",
       "      <td>E-commerce and retail-tech</td>\n",
       "      <td>E-commerce facilitation</td>\n",
       "      <td>2021.0</td>\n",
       "      <td>Nairobi</td>\n",
       "      <td>https://elloe.ai/</td>\n",
       "      <td>AI-powered conversational commerce platform</td>\n",
       "      <td>Yes</td>\n",
       "      <td>No</td>\n",
       "      <td>11.0</td>\n",
       "    </tr>\n",
       "    <tr>\n",
       "      <th>208</th>\n",
       "      <td>MarketForce</td>\n",
       "      <td>E-commerce and retail-tech</td>\n",
       "      <td>E-commerce facilitation</td>\n",
       "      <td>2018.0</td>\n",
       "      <td>Nairobi</td>\n",
       "      <td>https://www.marketforce360.com/</td>\n",
       "      <td>Operating system for informal retailers</td>\n",
       "      <td>No</td>\n",
       "      <td>Yes</td>\n",
       "      <td>269.0</td>\n",
       "    </tr>\n",
       "    <tr>\n",
       "      <th>209</th>\n",
       "      <td>Mawu Africa</td>\n",
       "      <td>E-commerce and retail-tech</td>\n",
       "      <td>Other</td>\n",
       "      <td>2021.0</td>\n",
       "      <td>Nairobi</td>\n",
       "      <td>https://mawuafrica.com/</td>\n",
       "      <td>Art marketplace</td>\n",
       "      <td>Yes</td>\n",
       "      <td>No</td>\n",
       "      <td>2.0</td>\n",
       "    </tr>\n",
       "    <tr>\n",
       "      <th>210</th>\n",
       "      <td>Mobiticket</td>\n",
       "      <td>E-commerce and retail-tech</td>\n",
       "      <td>Other</td>\n",
       "      <td>2017.0</td>\n",
       "      <td>Nairobi</td>\n",
       "      <td>http://mobiticket.co.ke/</td>\n",
       "      <td>Ticketing platform</td>\n",
       "      <td>No</td>\n",
       "      <td>No</td>\n",
       "      <td>4.0</td>\n",
       "    </tr>\n",
       "    <tr>\n",
       "      <th>211</th>\n",
       "      <td>Olivinetech</td>\n",
       "      <td>E-commerce and retail-tech</td>\n",
       "      <td>Retail-tech</td>\n",
       "      <td>2010.0</td>\n",
       "      <td>Nairobi</td>\n",
       "      <td>https://www.olivinetech.com/</td>\n",
       "      <td>Retail management platform</td>\n",
       "      <td>No</td>\n",
       "      <td>Yes</td>\n",
       "      <td>4.0</td>\n",
       "    </tr>\n",
       "    <tr>\n",
       "      <th>212</th>\n",
       "      <td>PesaPoint</td>\n",
       "      <td>E-commerce and retail-tech</td>\n",
       "      <td>Multi-product</td>\n",
       "      <td>2010.0</td>\n",
       "      <td>Nairobi</td>\n",
       "      <td>http://www.pesapoint.co.ke/</td>\n",
       "      <td>Digital products store</td>\n",
       "      <td>No</td>\n",
       "      <td>No</td>\n",
       "      <td>11.0</td>\n",
       "    </tr>\n",
       "    <tr>\n",
       "      <th>213</th>\n",
       "      <td>Side</td>\n",
       "      <td>E-commerce and retail-tech</td>\n",
       "      <td>Multi-product</td>\n",
       "      <td>2021.0</td>\n",
       "      <td>Nairobi</td>\n",
       "      <td>https://side.africa/</td>\n",
       "      <td>Product marketplace</td>\n",
       "      <td>No</td>\n",
       "      <td>Yes</td>\n",
       "      <td>1.0</td>\n",
       "    </tr>\n",
       "    <tr>\n",
       "      <th>214</th>\n",
       "      <td>Soko</td>\n",
       "      <td>E-commerce and retail-tech</td>\n",
       "      <td>Apparel &amp; Accessories</td>\n",
       "      <td>2011.0</td>\n",
       "      <td>Nairobi</td>\n",
       "      <td>https://shopsoko.com/</td>\n",
       "      <td>Clothing and jewellery store</td>\n",
       "      <td>Yes</td>\n",
       "      <td>Yes</td>\n",
       "      <td>13.0</td>\n",
       "    </tr>\n",
       "    <tr>\n",
       "      <th>215</th>\n",
       "      <td>Sukhiba</td>\n",
       "      <td>E-commerce and retail-tech</td>\n",
       "      <td>Multi-product</td>\n",
       "      <td>2020.0</td>\n",
       "      <td>Nairobi</td>\n",
       "      <td>https://www.landing.sukhiba.com/</td>\n",
       "      <td>Community shopping platform</td>\n",
       "      <td>No</td>\n",
       "      <td>Yes</td>\n",
       "      <td>19.0</td>\n",
       "    </tr>\n",
       "    <tr>\n",
       "      <th>216</th>\n",
       "      <td>TopUp Mama</td>\n",
       "      <td>E-commerce and retail-tech</td>\n",
       "      <td>Retail-tech</td>\n",
       "      <td>2021.0</td>\n",
       "      <td>Nairobi</td>\n",
       "      <td>https://www.topupmama.com/</td>\n",
       "      <td>Restaurant supply platform</td>\n",
       "      <td>No</td>\n",
       "      <td>Yes</td>\n",
       "      <td>53.0</td>\n",
       "    </tr>\n",
       "    <tr>\n",
       "      <th>217</th>\n",
       "      <td>Tushop</td>\n",
       "      <td>E-commerce and retail-tech</td>\n",
       "      <td>Multi-product</td>\n",
       "      <td>2021.0</td>\n",
       "      <td>Nairobi</td>\n",
       "      <td>https://tushop.io/</td>\n",
       "      <td>Group buying platform</td>\n",
       "      <td>No</td>\n",
       "      <td>No</td>\n",
       "      <td>23.0</td>\n",
       "    </tr>\n",
       "    <tr>\n",
       "      <th>218</th>\n",
       "      <td>Twiva</td>\n",
       "      <td>E-commerce and retail-tech</td>\n",
       "      <td>Multi-product</td>\n",
       "      <td>2020.0</td>\n",
       "      <td>Nairobi</td>\n",
       "      <td>https://twiva.co.ke/</td>\n",
       "      <td>Influencer powered commerce platform</td>\n",
       "      <td>No</td>\n",
       "      <td>Yes</td>\n",
       "      <td>13.0</td>\n",
       "    </tr>\n",
       "    <tr>\n",
       "      <th>219</th>\n",
       "      <td>Uncover Skincare</td>\n",
       "      <td>E-commerce and retail-tech</td>\n",
       "      <td>Other</td>\n",
       "      <td>2020.0</td>\n",
       "      <td>Nairobi</td>\n",
       "      <td>https://uncoverskincare.co/</td>\n",
       "      <td>Beauty commerce platform</td>\n",
       "      <td>Yes</td>\n",
       "      <td>Yes</td>\n",
       "      <td>17.0</td>\n",
       "    </tr>\n",
       "    <tr>\n",
       "      <th>220</th>\n",
       "      <td>Wasoko</td>\n",
       "      <td>E-commerce and retail-tech</td>\n",
       "      <td>Retail-tech</td>\n",
       "      <td>2013.0</td>\n",
       "      <td>Nairobi</td>\n",
       "      <td>https://wasoko.com/</td>\n",
       "      <td>On-demand distribution to independent retailers</td>\n",
       "      <td>No</td>\n",
       "      <td>Yes</td>\n",
       "      <td>607.0</td>\n",
       "    </tr>\n",
       "    <tr>\n",
       "      <th>221</th>\n",
       "      <td>Weddings Kenya</td>\n",
       "      <td>E-commerce and retail-tech</td>\n",
       "      <td>Other</td>\n",
       "      <td>2008.0</td>\n",
       "      <td>Nairobi</td>\n",
       "      <td>http://weddingskenya.com/</td>\n",
       "      <td>Marketplace for wedding vendors</td>\n",
       "      <td>Yes</td>\n",
       "      <td>No</td>\n",
       "      <td>2.0</td>\n",
       "    </tr>\n",
       "    <tr>\n",
       "      <th>222</th>\n",
       "      <td>Yum</td>\n",
       "      <td>E-commerce and retail-tech</td>\n",
       "      <td>Food, drinks and groceries</td>\n",
       "      <td>2012.0</td>\n",
       "      <td>Nairobi</td>\n",
       "      <td>https://yum.co.ke/</td>\n",
       "      <td>Food delivery platform</td>\n",
       "      <td>No</td>\n",
       "      <td>Yes</td>\n",
       "      <td>26.0</td>\n",
       "    </tr>\n",
       "    <tr>\n",
       "      <th>223</th>\n",
       "      <td>ZUMI</td>\n",
       "      <td>E-commerce and retail-tech</td>\n",
       "      <td>Apparel &amp; Accessories</td>\n",
       "      <td>2016.0</td>\n",
       "      <td>Nairobi</td>\n",
       "      <td>http://www.zumi.co.ke/</td>\n",
       "      <td>Digital media platform for fashion</td>\n",
       "      <td>No</td>\n",
       "      <td>Yes</td>\n",
       "      <td>60.0</td>\n",
       "    </tr>\n",
       "    <tr>\n",
       "      <th>226</th>\n",
       "      <td>CampusBiz</td>\n",
       "      <td>Recruitment and HR</td>\n",
       "      <td>NaN</td>\n",
       "      <td>2017.0</td>\n",
       "      <td>Nairobi</td>\n",
       "      <td>campusbiz.co.ke</td>\n",
       "      <td>Job and internship platform for students</td>\n",
       "      <td>No</td>\n",
       "      <td>No</td>\n",
       "      <td>1.0</td>\n",
       "    </tr>\n",
       "    <tr>\n",
       "      <th>227</th>\n",
       "      <td>Duma Works</td>\n",
       "      <td>Recruitment and HR</td>\n",
       "      <td>NaN</td>\n",
       "      <td>2012.0</td>\n",
       "      <td>Nairobi</td>\n",
       "      <td>https://dumaworks.com/</td>\n",
       "      <td>Online and SMS based recruitment platform</td>\n",
       "      <td>Yes</td>\n",
       "      <td>Yes</td>\n",
       "      <td>20.0</td>\n",
       "    </tr>\n",
       "    <tr>\n",
       "      <th>228</th>\n",
       "      <td>FaidiHR</td>\n",
       "      <td>Recruitment and HR</td>\n",
       "      <td>NaN</td>\n",
       "      <td>2020.0</td>\n",
       "      <td>Nairobi</td>\n",
       "      <td>https://faidihr.com/</td>\n",
       "      <td>HR and payroll management system</td>\n",
       "      <td>Yes</td>\n",
       "      <td>No</td>\n",
       "      <td>8.0</td>\n",
       "    </tr>\n",
       "    <tr>\n",
       "      <th>229</th>\n",
       "      <td>Fundis</td>\n",
       "      <td>Recruitment and HR</td>\n",
       "      <td>NaN</td>\n",
       "      <td>2019.0</td>\n",
       "      <td>Nairobi</td>\n",
       "      <td>https://fundis.co.ke/</td>\n",
       "      <td>Find a craftsman platform</td>\n",
       "      <td>No</td>\n",
       "      <td>Yes</td>\n",
       "      <td>11.0</td>\n",
       "    </tr>\n",
       "    <tr>\n",
       "      <th>230</th>\n",
       "      <td>Fuzu</td>\n",
       "      <td>Recruitment and HR</td>\n",
       "      <td>NaN</td>\n",
       "      <td>2015.0</td>\n",
       "      <td>Nairobi</td>\n",
       "      <td>https://www.fuzu.com/</td>\n",
       "      <td>Career development and jobs platform</td>\n",
       "      <td>No</td>\n",
       "      <td>No</td>\n",
       "      <td>110.0</td>\n",
       "    </tr>\n",
       "    <tr>\n",
       "      <th>231</th>\n",
       "      <td>KaziNow</td>\n",
       "      <td>Recruitment and HR</td>\n",
       "      <td>NaN</td>\n",
       "      <td>2020.0</td>\n",
       "      <td>Nairobi</td>\n",
       "      <td>https://kazinow.ke/</td>\n",
       "      <td>Services marketplace</td>\n",
       "      <td>No</td>\n",
       "      <td>No</td>\n",
       "      <td>3.0</td>\n",
       "    </tr>\n",
       "    <tr>\n",
       "      <th>232</th>\n",
       "      <td>Kazi Remote</td>\n",
       "      <td>Recruitment and HR</td>\n",
       "      <td>NaN</td>\n",
       "      <td>2017.0</td>\n",
       "      <td>Nairobi</td>\n",
       "      <td>https://www.kaziremote.com/</td>\n",
       "      <td>Digital worker recruitment</td>\n",
       "      <td>Yes</td>\n",
       "      <td>Yes</td>\n",
       "      <td>1.0</td>\n",
       "    </tr>\n",
       "    <tr>\n",
       "      <th>233</th>\n",
       "      <td>LetaWera</td>\n",
       "      <td>Recruitment and HR</td>\n",
       "      <td>NaN</td>\n",
       "      <td>2020.0</td>\n",
       "      <td>Nairobi</td>\n",
       "      <td>https://letawera.com/</td>\n",
       "      <td>Gig provider platform</td>\n",
       "      <td>Yes</td>\n",
       "      <td>Yes</td>\n",
       "      <td>3.0</td>\n",
       "    </tr>\n",
       "    <tr>\n",
       "      <th>234</th>\n",
       "      <td>Kisafi</td>\n",
       "      <td>Recruitment and HR</td>\n",
       "      <td>NaN</td>\n",
       "      <td>2016.0</td>\n",
       "      <td>Nairobi</td>\n",
       "      <td>https://kisafi.com/</td>\n",
       "      <td>On-demand home cleaning service</td>\n",
       "      <td>Yes</td>\n",
       "      <td>Yes</td>\n",
       "      <td>4.0</td>\n",
       "    </tr>\n",
       "    <tr>\n",
       "      <th>235</th>\n",
       "      <td>Kuhustle</td>\n",
       "      <td>Recruitment and HR</td>\n",
       "      <td>NaN</td>\n",
       "      <td>2014.0</td>\n",
       "      <td>Nairobi</td>\n",
       "      <td>https://www.kuhustle.com/</td>\n",
       "      <td>Freelancing marketplace</td>\n",
       "      <td>No</td>\n",
       "      <td>Yes</td>\n",
       "      <td>18.0</td>\n",
       "    </tr>\n",
       "    <tr>\n",
       "      <th>236</th>\n",
       "      <td>Onesha</td>\n",
       "      <td>Recruitment and HR</td>\n",
       "      <td>NaN</td>\n",
       "      <td>2015.0</td>\n",
       "      <td>Nairobi</td>\n",
       "      <td>http://onesha.co.ke/</td>\n",
       "      <td>Marketplace for hiring creatives</td>\n",
       "      <td>No</td>\n",
       "      <td>Yes</td>\n",
       "      <td>19.0</td>\n",
       "    </tr>\n",
       "    <tr>\n",
       "      <th>237</th>\n",
       "      <td>Peleza</td>\n",
       "      <td>Recruitment and HR</td>\n",
       "      <td>NaN</td>\n",
       "      <td>2015.0</td>\n",
       "      <td>Nairobi</td>\n",
       "      <td>http://www.peleza.com/</td>\n",
       "      <td>Candidate background checking platform</td>\n",
       "      <td>No</td>\n",
       "      <td>Yes</td>\n",
       "      <td>22.0</td>\n",
       "    </tr>\n",
       "    <tr>\n",
       "      <th>238</th>\n",
       "      <td>SapamaERP</td>\n",
       "      <td>Recruitment and HR</td>\n",
       "      <td>NaN</td>\n",
       "      <td>2010.0</td>\n",
       "      <td>Nairobi</td>\n",
       "      <td>http://sapamaerp.com/</td>\n",
       "      <td>Cloud business management tool</td>\n",
       "      <td>No</td>\n",
       "      <td>No</td>\n",
       "      <td>8.0</td>\n",
       "    </tr>\n",
       "    <tr>\n",
       "      <th>239</th>\n",
       "      <td>SwiftAide</td>\n",
       "      <td>Recruitment and HR</td>\n",
       "      <td>NaN</td>\n",
       "      <td>2017.0</td>\n",
       "      <td>Nairobi</td>\n",
       "      <td>https://swiftaideapp.com/</td>\n",
       "      <td>Freelancing platform</td>\n",
       "      <td>No</td>\n",
       "      <td>No</td>\n",
       "      <td>1.0</td>\n",
       "    </tr>\n",
       "    <tr>\n",
       "      <th>240</th>\n",
       "      <td>TalentBoard</td>\n",
       "      <td>Recruitment and HR</td>\n",
       "      <td>NaN</td>\n",
       "      <td>2017.0</td>\n",
       "      <td>Nairobi</td>\n",
       "      <td>https://www.talentboard.co.ke/</td>\n",
       "      <td>Referral-based jobs platform</td>\n",
       "      <td>Yes</td>\n",
       "      <td>No</td>\n",
       "      <td>3.0</td>\n",
       "    </tr>\n",
       "    <tr>\n",
       "      <th>241</th>\n",
       "      <td>Tiny Titos</td>\n",
       "      <td>Recruitment and HR</td>\n",
       "      <td>NaN</td>\n",
       "      <td>2013.0</td>\n",
       "      <td>Nairobi</td>\n",
       "      <td>https://www.tinytotos.com/</td>\n",
       "      <td>Daycare platform</td>\n",
       "      <td>Yes</td>\n",
       "      <td>No</td>\n",
       "      <td>25.0</td>\n",
       "    </tr>\n",
       "    <tr>\n",
       "      <th>242</th>\n",
       "      <td>Uhired.me</td>\n",
       "      <td>Recruitment and HR</td>\n",
       "      <td>NaN</td>\n",
       "      <td>2012.0</td>\n",
       "      <td>Nairobi</td>\n",
       "      <td>http://www.uhired.me/</td>\n",
       "      <td>Recruitment and jobs platform for non-profits</td>\n",
       "      <td>No</td>\n",
       "      <td>No</td>\n",
       "      <td>2.0</td>\n",
       "    </tr>\n",
       "    <tr>\n",
       "      <th>243</th>\n",
       "      <td>WorkPay</td>\n",
       "      <td>Recruitment and HR</td>\n",
       "      <td>NaN</td>\n",
       "      <td>2017.0</td>\n",
       "      <td>Nairobi</td>\n",
       "      <td>https://myworkpay.com/</td>\n",
       "      <td>Cloud business management tool</td>\n",
       "      <td>No</td>\n",
       "      <td>Yes</td>\n",
       "      <td>64.0</td>\n",
       "    </tr>\n",
       "    <tr>\n",
       "      <th>244</th>\n",
       "      <td>Ziada</td>\n",
       "      <td>Recruitment and HR</td>\n",
       "      <td>NaN</td>\n",
       "      <td>2017.0</td>\n",
       "      <td>Nairobi</td>\n",
       "      <td>https://www.getziada.com/</td>\n",
       "      <td>Services marketplace</td>\n",
       "      <td>Yes</td>\n",
       "      <td>Yes</td>\n",
       "      <td>12.0</td>\n",
       "    </tr>\n",
       "    <tr>\n",
       "      <th>247</th>\n",
       "      <td>African Management Institute</td>\n",
       "      <td>Ed-tech</td>\n",
       "      <td>Learner-facing educational platform</td>\n",
       "      <td>2013.0</td>\n",
       "      <td>Nairobi</td>\n",
       "      <td>https://www.africanmanagers.org/</td>\n",
       "      <td>Corporate education platform</td>\n",
       "      <td>No</td>\n",
       "      <td>No</td>\n",
       "      <td>95.0</td>\n",
       "    </tr>\n",
       "    <tr>\n",
       "      <th>248</th>\n",
       "      <td>Angaza Elimu</td>\n",
       "      <td>Ed-tech</td>\n",
       "      <td>Learning management systems</td>\n",
       "      <td>2016.0</td>\n",
       "      <td>Nairobi</td>\n",
       "      <td>https://angazaelimu.com/</td>\n",
       "      <td>Learning and school management platform</td>\n",
       "      <td>No</td>\n",
       "      <td>Yes</td>\n",
       "      <td>10.0</td>\n",
       "    </tr>\n",
       "    <tr>\n",
       "      <th>249</th>\n",
       "      <td>Arifu</td>\n",
       "      <td>Ed-tech</td>\n",
       "      <td>Learner-facing educational platform</td>\n",
       "      <td>2013.0</td>\n",
       "      <td>Nairobi</td>\n",
       "      <td>https://www.arifu.com/</td>\n",
       "      <td>Digital learning solution</td>\n",
       "      <td>No</td>\n",
       "      <td>Yes</td>\n",
       "      <td>36.0</td>\n",
       "    </tr>\n",
       "    <tr>\n",
       "      <th>250</th>\n",
       "      <td>Craydel</td>\n",
       "      <td>Ed-tech</td>\n",
       "      <td>Educational facilitator</td>\n",
       "      <td>2021.0</td>\n",
       "      <td>Nairobi</td>\n",
       "      <td>https://craydel.com/</td>\n",
       "      <td>University course finder</td>\n",
       "      <td>No</td>\n",
       "      <td>No</td>\n",
       "      <td>35.0</td>\n",
       "    </tr>\n",
       "    <tr>\n",
       "      <th>251</th>\n",
       "      <td>Dawati</td>\n",
       "      <td>Ed-tech</td>\n",
       "      <td>Learner-facing educational platform</td>\n",
       "      <td>2016.0</td>\n",
       "      <td>Nairobi</td>\n",
       "      <td>https://dawati.co.ke/</td>\n",
       "      <td>Learning platform</td>\n",
       "      <td>No</td>\n",
       "      <td>No</td>\n",
       "      <td>6.0</td>\n",
       "    </tr>\n",
       "    <tr>\n",
       "      <th>252</th>\n",
       "      <td>Elewa</td>\n",
       "      <td>Ed-tech</td>\n",
       "      <td>Learning management systems</td>\n",
       "      <td>2015.0</td>\n",
       "      <td>Nairobi</td>\n",
       "      <td>https://elewa.co.ke/</td>\n",
       "      <td>Learning and school management platform</td>\n",
       "      <td>No</td>\n",
       "      <td>Yes</td>\n",
       "      <td>32.0</td>\n",
       "    </tr>\n",
       "    <tr>\n",
       "      <th>253</th>\n",
       "      <td>Eneza Education</td>\n",
       "      <td>Ed-tech</td>\n",
       "      <td>Learner-facing educational platform</td>\n",
       "      <td>2012.0</td>\n",
       "      <td>Nairobi</td>\n",
       "      <td>http://enezaeducation.com</td>\n",
       "      <td>SMS and web-based learning tools</td>\n",
       "      <td>Yes</td>\n",
       "      <td>Yes</td>\n",
       "      <td>69.0</td>\n",
       "    </tr>\n",
       "    <tr>\n",
       "      <th>254</th>\n",
       "      <td>Kidato</td>\n",
       "      <td>Ed-tech</td>\n",
       "      <td>Learner-facing educational platform</td>\n",
       "      <td>2019.0</td>\n",
       "      <td>Nairobi</td>\n",
       "      <td>https://kidato.com/</td>\n",
       "      <td>Online school</td>\n",
       "      <td>No</td>\n",
       "      <td>Yes</td>\n",
       "      <td>9.0</td>\n",
       "    </tr>\n",
       "    <tr>\n",
       "      <th>255</th>\n",
       "      <td>Kytabu</td>\n",
       "      <td>Ed-tech</td>\n",
       "      <td>Educational facilitator</td>\n",
       "      <td>2012.0</td>\n",
       "      <td>Nairobi</td>\n",
       "      <td>http://kytabu.com/</td>\n",
       "      <td>Leasing application for textbooks</td>\n",
       "      <td>No</td>\n",
       "      <td>Yes</td>\n",
       "      <td>17.0</td>\n",
       "    </tr>\n",
       "    <tr>\n",
       "      <th>256</th>\n",
       "      <td>M-Lugha</td>\n",
       "      <td>Ed-tech</td>\n",
       "      <td>Learner-facing educational platform</td>\n",
       "      <td>2019.0</td>\n",
       "      <td>Nairobi</td>\n",
       "      <td>https://m-lugha.com/</td>\n",
       "      <td>Local language learning tool</td>\n",
       "      <td>No</td>\n",
       "      <td>No</td>\n",
       "      <td>2.0</td>\n",
       "    </tr>\n",
       "    <tr>\n",
       "      <th>257</th>\n",
       "      <td>M-Shule</td>\n",
       "      <td>Ed-tech</td>\n",
       "      <td>Learner-facing educational platform</td>\n",
       "      <td>2016.0</td>\n",
       "      <td>Nairobi</td>\n",
       "      <td>https://mshule.com/</td>\n",
       "      <td>Mobile learning platform for primary schools</td>\n",
       "      <td>Yes</td>\n",
       "      <td>No</td>\n",
       "      <td>10.0</td>\n",
       "    </tr>\n",
       "    <tr>\n",
       "      <th>258</th>\n",
       "      <td>M-Soma</td>\n",
       "      <td>Ed-tech</td>\n",
       "      <td>Learner-facing educational platform</td>\n",
       "      <td>2022.0</td>\n",
       "      <td>Nairobi</td>\n",
       "      <td>http://www.msoma.org/</td>\n",
       "      <td>Coding school</td>\n",
       "      <td>No</td>\n",
       "      <td>No</td>\n",
       "      <td>1.0</td>\n",
       "    </tr>\n",
       "    <tr>\n",
       "      <th>259</th>\n",
       "      <td>Moringa School</td>\n",
       "      <td>Ed-tech</td>\n",
       "      <td>Learner-facing educational platform</td>\n",
       "      <td>2014.0</td>\n",
       "      <td>Nairobi</td>\n",
       "      <td>https://moringaschool.com/</td>\n",
       "      <td>Coding school</td>\n",
       "      <td>Yes</td>\n",
       "      <td>No</td>\n",
       "      <td>269.0</td>\n",
       "    </tr>\n",
       "    <tr>\n",
       "      <th>260</th>\n",
       "      <td>mSwali</td>\n",
       "      <td>Ed-tech</td>\n",
       "      <td>Learner-facing educational platform</td>\n",
       "      <td>2020.0</td>\n",
       "      <td>Nairobi</td>\n",
       "      <td>https://mswali.co.ke/</td>\n",
       "      <td>Edutainment app</td>\n",
       "      <td>No</td>\n",
       "      <td>Yes</td>\n",
       "      <td>13.0</td>\n",
       "    </tr>\n",
       "    <tr>\n",
       "      <th>261</th>\n",
       "      <td>Sunrise</td>\n",
       "      <td>Ed-tech</td>\n",
       "      <td>Learner-facing educational platform</td>\n",
       "      <td>2021.0</td>\n",
       "      <td>Nairobi</td>\n",
       "      <td>https://sunrisehomeschooling.com/</td>\n",
       "      <td>Online school</td>\n",
       "      <td>No</td>\n",
       "      <td>No</td>\n",
       "      <td>1.0</td>\n",
       "    </tr>\n",
       "    <tr>\n",
       "      <th>262</th>\n",
       "      <td>Tustawi</td>\n",
       "      <td>Ed-tech</td>\n",
       "      <td>Learner-facing educational platform</td>\n",
       "      <td>2019.0</td>\n",
       "      <td>Nairobi</td>\n",
       "      <td>https://www.tustawi.com/</td>\n",
       "      <td>Business training provider</td>\n",
       "      <td>Yes</td>\n",
       "      <td>Yes</td>\n",
       "      <td>7.0</td>\n",
       "    </tr>\n",
       "    <tr>\n",
       "      <th>263</th>\n",
       "      <td>Yusudi</td>\n",
       "      <td>Ed-tech</td>\n",
       "      <td>Learner-facing educational platform</td>\n",
       "      <td>2016.0</td>\n",
       "      <td>Nairobi</td>\n",
       "      <td>http://www.yusudi.co/</td>\n",
       "      <td>Digital learning solution</td>\n",
       "      <td>No</td>\n",
       "      <td>No</td>\n",
       "      <td>108.0</td>\n",
       "    </tr>\n",
       "    <tr>\n",
       "      <th>264</th>\n",
       "      <td>Zydii</td>\n",
       "      <td>Ed-tech</td>\n",
       "      <td>Learner-facing educational platform</td>\n",
       "      <td>2016.0</td>\n",
       "      <td>Nairobi</td>\n",
       "      <td>https://zydii.com/</td>\n",
       "      <td>Business training provider</td>\n",
       "      <td>Yes</td>\n",
       "      <td>Yes</td>\n",
       "      <td>11.0</td>\n",
       "    </tr>\n",
       "    <tr>\n",
       "      <th>267</th>\n",
       "      <td>Amitruck</td>\n",
       "      <td>Logistics</td>\n",
       "      <td>NaN</td>\n",
       "      <td>2019.0</td>\n",
       "      <td>Nairobi</td>\n",
       "      <td>https://www.amitruck.com/</td>\n",
       "      <td>Trucking logistics platform</td>\n",
       "      <td>No</td>\n",
       "      <td>Yes</td>\n",
       "      <td>67.0</td>\n",
       "    </tr>\n",
       "    <tr>\n",
       "      <th>268</th>\n",
       "      <td>Ayazona</td>\n",
       "      <td>Logistics</td>\n",
       "      <td>NaN</td>\n",
       "      <td>2020.0</td>\n",
       "      <td>Nairobi</td>\n",
       "      <td>https://ayazona.com/</td>\n",
       "      <td>Food delivery</td>\n",
       "      <td>No</td>\n",
       "      <td>No</td>\n",
       "      <td>2.0</td>\n",
       "    </tr>\n",
       "    <tr>\n",
       "      <th>269</th>\n",
       "      <td>Fleetsimplify</td>\n",
       "      <td>Logistics</td>\n",
       "      <td>NaN</td>\n",
       "      <td>2018.0</td>\n",
       "      <td>Nairobi</td>\n",
       "      <td>https://fleetsimplify.com/</td>\n",
       "      <td>Trucking logistics platform</td>\n",
       "      <td>No</td>\n",
       "      <td>No</td>\n",
       "      <td>10.0</td>\n",
       "    </tr>\n",
       "    <tr>\n",
       "      <th>270</th>\n",
       "      <td>GoBeba</td>\n",
       "      <td>Logistics</td>\n",
       "      <td>NaN</td>\n",
       "      <td>2019.0</td>\n",
       "      <td>Nairobi</td>\n",
       "      <td>https://www.gobeba.com/</td>\n",
       "      <td>Delivery of household essentials</td>\n",
       "      <td>No</td>\n",
       "      <td>Yes</td>\n",
       "      <td>10.0</td>\n",
       "    </tr>\n",
       "    <tr>\n",
       "      <th>271</th>\n",
       "      <td>Logistify AI</td>\n",
       "      <td>Logistics</td>\n",
       "      <td>NaN</td>\n",
       "      <td>2019.0</td>\n",
       "      <td>Nairobi</td>\n",
       "      <td>https://www.logistify.ai/</td>\n",
       "      <td>Inventory management</td>\n",
       "      <td>No</td>\n",
       "      <td>Yes</td>\n",
       "      <td>41.0</td>\n",
       "    </tr>\n",
       "    <tr>\n",
       "      <th>272</th>\n",
       "      <td>Lori Systems</td>\n",
       "      <td>Logistics</td>\n",
       "      <td>NaN</td>\n",
       "      <td>2016.0</td>\n",
       "      <td>Nairobi</td>\n",
       "      <td>https://www.lorisystems.com/</td>\n",
       "      <td>Logistics platform</td>\n",
       "      <td>Yes</td>\n",
       "      <td>No</td>\n",
       "      <td>189.0</td>\n",
       "    </tr>\n",
       "    <tr>\n",
       "      <th>273</th>\n",
       "      <td>M-Post</td>\n",
       "      <td>Logistics</td>\n",
       "      <td>NaN</td>\n",
       "      <td>2016.0</td>\n",
       "      <td>Nairobi</td>\n",
       "      <td>http://www.mpost.co.ke/</td>\n",
       "      <td>Mobile addressing system</td>\n",
       "      <td>No</td>\n",
       "      <td>Yes</td>\n",
       "      <td>22.0</td>\n",
       "    </tr>\n",
       "    <tr>\n",
       "      <th>274</th>\n",
       "      <td>OkHi</td>\n",
       "      <td>Logistics</td>\n",
       "      <td>NaN</td>\n",
       "      <td>2014.0</td>\n",
       "      <td>Nairobi</td>\n",
       "      <td>http://www.okhi.com/</td>\n",
       "      <td>Digital addressing solution</td>\n",
       "      <td>No</td>\n",
       "      <td>Yes</td>\n",
       "      <td>25.0</td>\n",
       "    </tr>\n",
       "    <tr>\n",
       "      <th>275</th>\n",
       "      <td>RippleNami</td>\n",
       "      <td>Logistics</td>\n",
       "      <td>NaN</td>\n",
       "      <td>2015.0</td>\n",
       "      <td>Nairobi</td>\n",
       "      <td>https://ripplenami.com/</td>\n",
       "      <td>Mapping solution</td>\n",
       "      <td>No</td>\n",
       "      <td>Yes</td>\n",
       "      <td>18.0</td>\n",
       "    </tr>\n",
       "    <tr>\n",
       "      <th>276</th>\n",
       "      <td>Sendy</td>\n",
       "      <td>Logistics</td>\n",
       "      <td>NaN</td>\n",
       "      <td>2014.0</td>\n",
       "      <td>Nairobi</td>\n",
       "      <td>https://sendyit.com/</td>\n",
       "      <td>On-demand delivery service</td>\n",
       "      <td>Yes</td>\n",
       "      <td>Yes</td>\n",
       "      <td>391.0</td>\n",
       "    </tr>\n",
       "    <tr>\n",
       "      <th>277</th>\n",
       "      <td>Senga</td>\n",
       "      <td>Logistics</td>\n",
       "      <td>NaN</td>\n",
       "      <td>2016.0</td>\n",
       "      <td>Nairobi</td>\n",
       "      <td>http://senga.co/</td>\n",
       "      <td>Connect shippers with travellers</td>\n",
       "      <td>Yes</td>\n",
       "      <td>No</td>\n",
       "      <td>14.0</td>\n",
       "    </tr>\n",
       "    <tr>\n",
       "      <th>278</th>\n",
       "      <td>Sinbad</td>\n",
       "      <td>Logistics</td>\n",
       "      <td>NaN</td>\n",
       "      <td>2018.0</td>\n",
       "      <td>Nairobi</td>\n",
       "      <td>http://www.sinbad.co.ke/</td>\n",
       "      <td>Marine cargo marketplace</td>\n",
       "      <td>No</td>\n",
       "      <td>No</td>\n",
       "      <td>1.0</td>\n",
       "    </tr>\n",
       "    <tr>\n",
       "      <th>279</th>\n",
       "      <td>Sote</td>\n",
       "      <td>Logistics</td>\n",
       "      <td>NaN</td>\n",
       "      <td>2018.0</td>\n",
       "      <td>Nairobi</td>\n",
       "      <td>https://getsote.com/</td>\n",
       "      <td>AI-based logistics solution</td>\n",
       "      <td>No</td>\n",
       "      <td>No</td>\n",
       "      <td>41.0</td>\n",
       "    </tr>\n",
       "    <tr>\n",
       "      <th>280</th>\n",
       "      <td>StoFresh Africa</td>\n",
       "      <td>Logistics</td>\n",
       "      <td>NaN</td>\n",
       "      <td>2022.0</td>\n",
       "      <td>Nairobi</td>\n",
       "      <td>https://stofresh.africa/</td>\n",
       "      <td>Fresh produce delivery</td>\n",
       "      <td>No</td>\n",
       "      <td>Yes</td>\n",
       "      <td>3.0</td>\n",
       "    </tr>\n",
       "    <tr>\n",
       "      <th>283</th>\n",
       "      <td>BasiGo</td>\n",
       "      <td>Mobility</td>\n",
       "      <td>NaN</td>\n",
       "      <td>2021.0</td>\n",
       "      <td>Nairobi</td>\n",
       "      <td>https://www.basi-go.com/</td>\n",
       "      <td>Electric vehicle provider</td>\n",
       "      <td>No</td>\n",
       "      <td>No</td>\n",
       "      <td>29.0</td>\n",
       "    </tr>\n",
       "    <tr>\n",
       "      <th>284</th>\n",
       "      <td>Data Integrated</td>\n",
       "      <td>Mobility</td>\n",
       "      <td>NaN</td>\n",
       "      <td>2012.0</td>\n",
       "      <td>Nairobi</td>\n",
       "      <td>https://dataintegrated.co.ke/</td>\n",
       "      <td>Bus management and ticketing</td>\n",
       "      <td>No</td>\n",
       "      <td>No</td>\n",
       "      <td>45.0</td>\n",
       "    </tr>\n",
       "    <tr>\n",
       "      <th>285</th>\n",
       "      <td>Ecobodaa</td>\n",
       "      <td>Mobility</td>\n",
       "      <td>NaN</td>\n",
       "      <td>2020.0</td>\n",
       "      <td>Nairobi</td>\n",
       "      <td>https://www.ecobodaa.bike/</td>\n",
       "      <td>Electric motorbike taxi provider</td>\n",
       "      <td>No</td>\n",
       "      <td>Yes</td>\n",
       "      <td>1.0</td>\n",
       "    </tr>\n",
       "    <tr>\n",
       "      <th>286</th>\n",
       "      <td>Kiri EV</td>\n",
       "      <td>Mobility</td>\n",
       "      <td>NaN</td>\n",
       "      <td>2020.0</td>\n",
       "      <td>Nairobi</td>\n",
       "      <td>https://kiriev.com/</td>\n",
       "      <td>Electric vehicle provider</td>\n",
       "      <td>No</td>\n",
       "      <td>No</td>\n",
       "      <td>3.0</td>\n",
       "    </tr>\n",
       "    <tr>\n",
       "      <th>287</th>\n",
       "      <td>Komboa</td>\n",
       "      <td>Mobility</td>\n",
       "      <td>NaN</td>\n",
       "      <td>2017.0</td>\n",
       "      <td>Nairobi</td>\n",
       "      <td>https://www.komboagari.com/</td>\n",
       "      <td>Car-sharing platform</td>\n",
       "      <td>No</td>\n",
       "      <td>Yes</td>\n",
       "      <td>3.0</td>\n",
       "    </tr>\n",
       "    <tr>\n",
       "      <th>288</th>\n",
       "      <td>Ma3Route</td>\n",
       "      <td>Mobility</td>\n",
       "      <td>NaN</td>\n",
       "      <td>2012.0</td>\n",
       "      <td>Nairobi</td>\n",
       "      <td>https://www.ma3route.com/</td>\n",
       "      <td>Crowdsourced mobility platform</td>\n",
       "      <td>No</td>\n",
       "      <td>Yes</td>\n",
       "      <td>2.0</td>\n",
       "    </tr>\n",
       "    <tr>\n",
       "      <th>289</th>\n",
       "      <td>Mazi Mobility</td>\n",
       "      <td>Mobility</td>\n",
       "      <td>NaN</td>\n",
       "      <td>2019.0</td>\n",
       "      <td>Nairobi</td>\n",
       "      <td>https://www.mazimobility.com/</td>\n",
       "      <td>Electric motorbike taxi provider</td>\n",
       "      <td>No</td>\n",
       "      <td>Yes</td>\n",
       "      <td>11.0</td>\n",
       "    </tr>\n",
       "    <tr>\n",
       "      <th>290</th>\n",
       "      <td>Roam</td>\n",
       "      <td>Mobility</td>\n",
       "      <td>NaN</td>\n",
       "      <td>2017.0</td>\n",
       "      <td>Nairobi</td>\n",
       "      <td>https://www.roammotors.com/</td>\n",
       "      <td>Electric vehicle provider</td>\n",
       "      <td>No</td>\n",
       "      <td>No</td>\n",
       "      <td>101.0</td>\n",
       "    </tr>\n",
       "    <tr>\n",
       "      <th>293</th>\n",
       "      <td>AdLink</td>\n",
       "      <td>Marketing</td>\n",
       "      <td>NaN</td>\n",
       "      <td>2014.0</td>\n",
       "      <td>Nairobi</td>\n",
       "      <td>https://www.adlink.co.ke/</td>\n",
       "      <td>Helps businesses track advertising campaigns</td>\n",
       "      <td>No</td>\n",
       "      <td>No</td>\n",
       "      <td>2.0</td>\n",
       "    </tr>\n",
       "    <tr>\n",
       "      <th>294</th>\n",
       "      <td>AIfluence</td>\n",
       "      <td>Marketing</td>\n",
       "      <td>NaN</td>\n",
       "      <td>2019.0</td>\n",
       "      <td>Nairobi</td>\n",
       "      <td>https://www.ai-fluence.com/</td>\n",
       "      <td>AI-powered influencer marketing platform</td>\n",
       "      <td>No</td>\n",
       "      <td>Yes</td>\n",
       "      <td>37.0</td>\n",
       "    </tr>\n",
       "    <tr>\n",
       "      <th>295</th>\n",
       "      <td>Ajua</td>\n",
       "      <td>Marketing</td>\n",
       "      <td>NaN</td>\n",
       "      <td>2019.0</td>\n",
       "      <td>Nairobi</td>\n",
       "      <td>https://ajua.com/</td>\n",
       "      <td>Digital marketing solutions</td>\n",
       "      <td>No</td>\n",
       "      <td>Yes</td>\n",
       "      <td>86.0</td>\n",
       "    </tr>\n",
       "    <tr>\n",
       "      <th>296</th>\n",
       "      <td>Synatech</td>\n",
       "      <td>Marketing</td>\n",
       "      <td>NaN</td>\n",
       "      <td>2019.0</td>\n",
       "      <td>Nairobi</td>\n",
       "      <td>https://synatechafrica.com/</td>\n",
       "      <td>SEO optimisers</td>\n",
       "      <td>No</td>\n",
       "      <td>No</td>\n",
       "      <td>1.0</td>\n",
       "    </tr>\n",
       "    <tr>\n",
       "      <th>297</th>\n",
       "      <td>Swifttdial</td>\n",
       "      <td>Marketing</td>\n",
       "      <td>NaN</td>\n",
       "      <td>2021.0</td>\n",
       "      <td>Nairobi</td>\n",
       "      <td>https://swifttdial.com/</td>\n",
       "      <td>Customer engagement solutions</td>\n",
       "      <td>No</td>\n",
       "      <td>No</td>\n",
       "      <td>6.0</td>\n",
       "    </tr>\n",
       "    <tr>\n",
       "      <th>298</th>\n",
       "      <td>Teleeza</td>\n",
       "      <td>Marketing</td>\n",
       "      <td>NaN</td>\n",
       "      <td>2018.0</td>\n",
       "      <td>Nairobi</td>\n",
       "      <td>https://www.teleeza.com/</td>\n",
       "      <td>Lockscreen advertising</td>\n",
       "      <td>No</td>\n",
       "      <td>No</td>\n",
       "      <td>10.0</td>\n",
       "    </tr>\n",
       "    <tr>\n",
       "      <th>299</th>\n",
       "      <td>Wowzi</td>\n",
       "      <td>Marketing</td>\n",
       "      <td>NaN</td>\n",
       "      <td>2019.0</td>\n",
       "      <td>Nairobi</td>\n",
       "      <td>https://www.wowzi.co/</td>\n",
       "      <td>Social influencer platform</td>\n",
       "      <td>No</td>\n",
       "      <td>No</td>\n",
       "      <td>122.0</td>\n",
       "    </tr>\n",
       "    <tr>\n",
       "      <th>302</th>\n",
       "      <td>Agsol</td>\n",
       "      <td>Energy</td>\n",
       "      <td>NaN</td>\n",
       "      <td>2016.0</td>\n",
       "      <td>Nairobi</td>\n",
       "      <td>http://www.agsol.com/</td>\n",
       "      <td>Solar-powered agro-processing machine provider</td>\n",
       "      <td>No</td>\n",
       "      <td>No</td>\n",
       "      <td>12.0</td>\n",
       "    </tr>\n",
       "    <tr>\n",
       "      <th>303</th>\n",
       "      <td>Freshbox</td>\n",
       "      <td>Energy</td>\n",
       "      <td>NaN</td>\n",
       "      <td>2017.0</td>\n",
       "      <td>Nairobi</td>\n",
       "      <td>https://www.freshbox.co.ke/</td>\n",
       "      <td>Solar powered refrigeration</td>\n",
       "      <td>No</td>\n",
       "      <td>No</td>\n",
       "      <td>5.0</td>\n",
       "    </tr>\n",
       "    <tr>\n",
       "      <th>304</th>\n",
       "      <td>Gridless</td>\n",
       "      <td>Energy</td>\n",
       "      <td>NaN</td>\n",
       "      <td>2022.0</td>\n",
       "      <td>Nairobi</td>\n",
       "      <td>https://gridlesscompute.com/</td>\n",
       "      <td>Hydroelectric bitcoin mining</td>\n",
       "      <td>No</td>\n",
       "      <td>No</td>\n",
       "      <td>1.0</td>\n",
       "    </tr>\n",
       "    <tr>\n",
       "      <th>305</th>\n",
       "      <td>HydroIQ</td>\n",
       "      <td>Energy</td>\n",
       "      <td>NaN</td>\n",
       "      <td>2017.0</td>\n",
       "      <td>Nairobi</td>\n",
       "      <td>https://www.hydroiq.africa/</td>\n",
       "      <td>Smart water billing app</td>\n",
       "      <td>No</td>\n",
       "      <td>Yes</td>\n",
       "      <td>6.0</td>\n",
       "    </tr>\n",
       "    <tr>\n",
       "      <th>306</th>\n",
       "      <td>M-Paya</td>\n",
       "      <td>Energy</td>\n",
       "      <td>NaN</td>\n",
       "      <td>2018.0</td>\n",
       "      <td>Nairobi</td>\n",
       "      <td>https://m-paya.co.ke/</td>\n",
       "      <td>Smart metering solutions</td>\n",
       "      <td>No</td>\n",
       "      <td>Yes</td>\n",
       "      <td>6.0</td>\n",
       "    </tr>\n",
       "    <tr>\n",
       "      <th>307</th>\n",
       "      <td>PayGo Energy</td>\n",
       "      <td>Energy</td>\n",
       "      <td>NaN</td>\n",
       "      <td>2015.0</td>\n",
       "      <td>Nairobi</td>\n",
       "      <td>https://www.paygoenergy.co/</td>\n",
       "      <td>PAYG cooking fuel provider</td>\n",
       "      <td>No</td>\n",
       "      <td>No</td>\n",
       "      <td>47.0</td>\n",
       "    </tr>\n",
       "    <tr>\n",
       "      <th>308</th>\n",
       "      <td>SunCulture</td>\n",
       "      <td>Energy</td>\n",
       "      <td>NaN</td>\n",
       "      <td>2012.0</td>\n",
       "      <td>Nairobi</td>\n",
       "      <td>http://sunculture.com/</td>\n",
       "      <td>Solar-powered irrigation services provider</td>\n",
       "      <td>No</td>\n",
       "      <td>No</td>\n",
       "      <td>189.0</td>\n",
       "    </tr>\n",
       "    <tr>\n",
       "      <th>311</th>\n",
       "      <td>Kijenzi</td>\n",
       "      <td>3D printing</td>\n",
       "      <td>NaN</td>\n",
       "      <td>2019.0</td>\n",
       "      <td>Kisumu</td>\n",
       "      <td>https://www.kijenzi.com/</td>\n",
       "      <td>3D printing</td>\n",
       "      <td>No</td>\n",
       "      <td>Yes</td>\n",
       "      <td>10.0</td>\n",
       "    </tr>\n",
       "    <tr>\n",
       "      <th>312</th>\n",
       "      <td>Flint Home Integrators</td>\n",
       "      <td>AI/IoT</td>\n",
       "      <td>NaN</td>\n",
       "      <td>2016.0</td>\n",
       "      <td>Nairobi</td>\n",
       "      <td>http://flinthomeintegrators.com/</td>\n",
       "      <td>IoT for the home solutions</td>\n",
       "      <td>No</td>\n",
       "      <td>No</td>\n",
       "      <td>5.0</td>\n",
       "    </tr>\n",
       "    <tr>\n",
       "      <th>313</th>\n",
       "      <td>Gro Intelligence</td>\n",
       "      <td>AI/IoT</td>\n",
       "      <td>NaN</td>\n",
       "      <td>2014.0</td>\n",
       "      <td>Nairobi</td>\n",
       "      <td>https://gro-intelligence.com/</td>\n",
       "      <td>Data analytics platform</td>\n",
       "      <td>Yes</td>\n",
       "      <td>No</td>\n",
       "      <td>199.0</td>\n",
       "    </tr>\n",
       "    <tr>\n",
       "      <th>314</th>\n",
       "      <td>KOSA AI</td>\n",
       "      <td>AI/IoT</td>\n",
       "      <td>NaN</td>\n",
       "      <td>2021.0</td>\n",
       "      <td>Nairobi</td>\n",
       "      <td>https://kosa.ai/</td>\n",
       "      <td>Mitigation of AI bias</td>\n",
       "      <td>No</td>\n",
       "      <td>No</td>\n",
       "      <td>6.0</td>\n",
       "    </tr>\n",
       "    <tr>\n",
       "      <th>315</th>\n",
       "      <td>UTU</td>\n",
       "      <td>AI/IoT</td>\n",
       "      <td>NaN</td>\n",
       "      <td>2015.0</td>\n",
       "      <td>Nairobi</td>\n",
       "      <td>https://utu.io/</td>\n",
       "      <td>AI solutions for sharing economy, parent compa...</td>\n",
       "      <td>No</td>\n",
       "      <td>Yes</td>\n",
       "      <td>22.0</td>\n",
       "    </tr>\n",
       "    <tr>\n",
       "      <th>316</th>\n",
       "      <td>Angani</td>\n",
       "      <td>Cloud</td>\n",
       "      <td>NaN</td>\n",
       "      <td>2013.0</td>\n",
       "      <td>Nairobi</td>\n",
       "      <td>http://angani.co/</td>\n",
       "      <td>Cloud storage service</td>\n",
       "      <td>No</td>\n",
       "      <td>No</td>\n",
       "      <td>23.0</td>\n",
       "    </tr>\n",
       "    <tr>\n",
       "      <th>317</th>\n",
       "      <td>Eneza Telecom</td>\n",
       "      <td>Cloud</td>\n",
       "      <td>NaN</td>\n",
       "      <td>2018.0</td>\n",
       "      <td>Nairobi</td>\n",
       "      <td>https://www.enezatelecom.com/</td>\n",
       "      <td>Cloud-based business management platform</td>\n",
       "      <td>No</td>\n",
       "      <td>No</td>\n",
       "      <td>7.0</td>\n",
       "    </tr>\n",
       "    <tr>\n",
       "      <th>318</th>\n",
       "      <td>Node Africa</td>\n",
       "      <td>Cloud</td>\n",
       "      <td>NaN</td>\n",
       "      <td>2015.0</td>\n",
       "      <td>Nairobi</td>\n",
       "      <td>https://node.africa/</td>\n",
       "      <td>Cloud storage service</td>\n",
       "      <td>No</td>\n",
       "      <td>No</td>\n",
       "      <td>5.0</td>\n",
       "    </tr>\n",
       "    <tr>\n",
       "      <th>319</th>\n",
       "      <td>WAYO</td>\n",
       "      <td>Cloud</td>\n",
       "      <td>NaN</td>\n",
       "      <td>2015.0</td>\n",
       "      <td>Nairobi</td>\n",
       "      <td>https://wayocompany.com/</td>\n",
       "      <td>AI-based customer experience management</td>\n",
       "      <td>No</td>\n",
       "      <td>No</td>\n",
       "      <td>2.0</td>\n",
       "    </tr>\n",
       "    <tr>\n",
       "      <th>320</th>\n",
       "      <td>Africa's Talking</td>\n",
       "      <td>Communications</td>\n",
       "      <td>NaN</td>\n",
       "      <td>2010.0</td>\n",
       "      <td>Nairobi</td>\n",
       "      <td>https://africastalking.com/</td>\n",
       "      <td>Communications platform</td>\n",
       "      <td>No</td>\n",
       "      <td>No</td>\n",
       "      <td>76.0</td>\n",
       "    </tr>\n",
       "    <tr>\n",
       "      <th>321</th>\n",
       "      <td>BRCK</td>\n",
       "      <td>Connectivity</td>\n",
       "      <td>NaN</td>\n",
       "      <td>2014.0</td>\n",
       "      <td>Nairobi</td>\n",
       "      <td>https://www.brck.com/</td>\n",
       "      <td>Hardware for internet connectivity, learning s...</td>\n",
       "      <td>Yes</td>\n",
       "      <td>No</td>\n",
       "      <td>27.0</td>\n",
       "    </tr>\n",
       "    <tr>\n",
       "      <th>322</th>\n",
       "      <td>NikoRadius</td>\n",
       "      <td>Connectivity</td>\n",
       "      <td>NaN</td>\n",
       "      <td>2019.0</td>\n",
       "      <td>Nairobi</td>\n",
       "      <td>http://www.nikoradius.com/</td>\n",
       "      <td>Internet billing and network management platform</td>\n",
       "      <td>No</td>\n",
       "      <td>No</td>\n",
       "      <td>8.0</td>\n",
       "    </tr>\n",
       "    <tr>\n",
       "      <th>323</th>\n",
       "      <td>Internet of Elephants</td>\n",
       "      <td>Conservation</td>\n",
       "      <td>NaN</td>\n",
       "      <td>2015.0</td>\n",
       "      <td>Nairobi</td>\n",
       "      <td>https://www.internetofelephants.com/</td>\n",
       "      <td>Leverages GPS data for conservation</td>\n",
       "      <td>No</td>\n",
       "      <td>No</td>\n",
       "      <td>2.0</td>\n",
       "    </tr>\n",
       "    <tr>\n",
       "      <th>324</th>\n",
       "      <td>Komaza</td>\n",
       "      <td>Conservation</td>\n",
       "      <td>NaN</td>\n",
       "      <td>2006.0</td>\n",
       "      <td>Nairobi</td>\n",
       "      <td>https://www.komaza.com/</td>\n",
       "      <td>Conservation tech</td>\n",
       "      <td>Yes</td>\n",
       "      <td>No</td>\n",
       "      <td>242.0</td>\n",
       "    </tr>\n",
       "    <tr>\n",
       "      <th>325</th>\n",
       "      <td>Jumba</td>\n",
       "      <td>Construction</td>\n",
       "      <td>NaN</td>\n",
       "      <td>2022.0</td>\n",
       "      <td>Nairobi</td>\n",
       "      <td>https://www.thejumba.com/</td>\n",
       "      <td>Platform for construction materials</td>\n",
       "      <td>Yes</td>\n",
       "      <td>No</td>\n",
       "      <td>23.0</td>\n",
       "    </tr>\n",
       "    <tr>\n",
       "      <th>326</th>\n",
       "      <td>ManPro</td>\n",
       "      <td>Construction</td>\n",
       "      <td>NaN</td>\n",
       "      <td>2019.0</td>\n",
       "      <td>Nairobi</td>\n",
       "      <td>https://www.manpro.co.ke/</td>\n",
       "      <td>Construction platform</td>\n",
       "      <td>No</td>\n",
       "      <td>Yes</td>\n",
       "      <td>1.0</td>\n",
       "    </tr>\n",
       "    <tr>\n",
       "      <th>327</th>\n",
       "      <td>JabJab</td>\n",
       "      <td>Cybersecurity</td>\n",
       "      <td>NaN</td>\n",
       "      <td>2016.0</td>\n",
       "      <td>Nairobi</td>\n",
       "      <td>http://www.jabjabgroup.com/</td>\n",
       "      <td>Tech services and consultancy</td>\n",
       "      <td>No</td>\n",
       "      <td>No</td>\n",
       "      <td>1.0</td>\n",
       "    </tr>\n",
       "    <tr>\n",
       "      <th>328</th>\n",
       "      <td>Ledja</td>\n",
       "      <td>Digital identity</td>\n",
       "      <td>NaN</td>\n",
       "      <td>2021.0</td>\n",
       "      <td>Nairobi</td>\n",
       "      <td>https://www.ledja.net/</td>\n",
       "      <td>Digital identity verification</td>\n",
       "      <td>No</td>\n",
       "      <td>Yes</td>\n",
       "      <td>1.0</td>\n",
       "    </tr>\n",
       "    <tr>\n",
       "      <th>329</th>\n",
       "      <td>Vibranium ID</td>\n",
       "      <td>Digital identity</td>\n",
       "      <td>NaN</td>\n",
       "      <td>2019.0</td>\n",
       "      <td>Nairobi</td>\n",
       "      <td>https://vibranium.id/</td>\n",
       "      <td>Portable personal ID</td>\n",
       "      <td>No</td>\n",
       "      <td>Yes</td>\n",
       "      <td>2.0</td>\n",
       "    </tr>\n",
       "    <tr>\n",
       "      <th>330</th>\n",
       "      <td>Astral Aerial</td>\n",
       "      <td>Drones</td>\n",
       "      <td>NaN</td>\n",
       "      <td>2016.0</td>\n",
       "      <td>Nairobi</td>\n",
       "      <td>https://astral-aerial.com/</td>\n",
       "      <td>Drone startup</td>\n",
       "      <td>No</td>\n",
       "      <td>No</td>\n",
       "      <td>11.0</td>\n",
       "    </tr>\n",
       "    <tr>\n",
       "      <th>331</th>\n",
       "      <td>Mdundo</td>\n",
       "      <td>Entertainment</td>\n",
       "      <td>NaN</td>\n",
       "      <td>2013.0</td>\n",
       "      <td>Nairobi</td>\n",
       "      <td>http://mdundo.com/</td>\n",
       "      <td>Music streaming and download platform</td>\n",
       "      <td>No</td>\n",
       "      <td>Yes</td>\n",
       "      <td>60.0</td>\n",
       "    </tr>\n",
       "    <tr>\n",
       "      <th>332</th>\n",
       "      <td>Imara TV</td>\n",
       "      <td>Entertainment</td>\n",
       "      <td>NaN</td>\n",
       "      <td>2019.0</td>\n",
       "      <td>Nairobi</td>\n",
       "      <td>https://www.imara.tv/</td>\n",
       "      <td>Edutainment platform</td>\n",
       "      <td>No</td>\n",
       "      <td>No</td>\n",
       "      <td>1.0</td>\n",
       "    </tr>\n",
       "    <tr>\n",
       "      <th>333</th>\n",
       "      <td>Smubu</td>\n",
       "      <td>Entertainment</td>\n",
       "      <td>NaN</td>\n",
       "      <td>2018.0</td>\n",
       "      <td>Nairobi</td>\n",
       "      <td>https://www.smubuafrica.com/</td>\n",
       "      <td>Music platform</td>\n",
       "      <td>No</td>\n",
       "      <td>No</td>\n",
       "      <td>1.0</td>\n",
       "    </tr>\n",
       "    <tr>\n",
       "      <th>334</th>\n",
       "      <td>MyMovies</td>\n",
       "      <td>Entertainment</td>\n",
       "      <td>NaN</td>\n",
       "      <td>2014.0</td>\n",
       "      <td>Nairobi</td>\n",
       "      <td>https://www.mymovies.africa/</td>\n",
       "      <td>Movie streaming platform</td>\n",
       "      <td>No</td>\n",
       "      <td>Yes</td>\n",
       "      <td>6.0</td>\n",
       "    </tr>\n",
       "    <tr>\n",
       "      <th>335</th>\n",
       "      <td>Optimetriks</td>\n",
       "      <td>Field management</td>\n",
       "      <td>NaN</td>\n",
       "      <td>2015.0</td>\n",
       "      <td>Nairobi</td>\n",
       "      <td>https://fieldproapp.com/</td>\n",
       "      <td>Field management solution</td>\n",
       "      <td>No</td>\n",
       "      <td>Yes</td>\n",
       "      <td>45.0</td>\n",
       "    </tr>\n",
       "    <tr>\n",
       "      <th>336</th>\n",
       "      <td>Enfinite Solutions</td>\n",
       "      <td>Legal-tech</td>\n",
       "      <td>NaN</td>\n",
       "      <td>2007.0</td>\n",
       "      <td>Nairobi</td>\n",
       "      <td>https://enfinitesolutions.com/</td>\n",
       "      <td>Legal-tech platform</td>\n",
       "      <td>No</td>\n",
       "      <td>Yes</td>\n",
       "      <td>5.0</td>\n",
       "    </tr>\n",
       "    <tr>\n",
       "      <th>337</th>\n",
       "      <td>Sheria Soft</td>\n",
       "      <td>Legal-tech</td>\n",
       "      <td>NaN</td>\n",
       "      <td>2013.0</td>\n",
       "      <td>Nairobi</td>\n",
       "      <td>https://sheriasoft.com/</td>\n",
       "      <td>Case management software for lawyers</td>\n",
       "      <td>No</td>\n",
       "      <td>Yes</td>\n",
       "      <td>1.0</td>\n",
       "    </tr>\n",
       "    <tr>\n",
       "      <th>338</th>\n",
       "      <td>xetova</td>\n",
       "      <td>Procurement</td>\n",
       "      <td>NaN</td>\n",
       "      <td>2019.0</td>\n",
       "      <td>Nairobi</td>\n",
       "      <td>https://www.xetova.com/</td>\n",
       "      <td>Procurement platform</td>\n",
       "      <td>No</td>\n",
       "      <td>Yes</td>\n",
       "      <td>39.0</td>\n",
       "    </tr>\n",
       "    <tr>\n",
       "      <th>339</th>\n",
       "      <td>e-Kodi</td>\n",
       "      <td>Prop-tech</td>\n",
       "      <td>NaN</td>\n",
       "      <td>2015.0</td>\n",
       "      <td>Nairobi</td>\n",
       "      <td>http://www.e-kodi.com/</td>\n",
       "      <td>Rental marketplace</td>\n",
       "      <td>No</td>\n",
       "      <td>Yes</td>\n",
       "      <td>1.0</td>\n",
       "    </tr>\n",
       "    <tr>\n",
       "      <th>340</th>\n",
       "      <td>EasyHouse Africa</td>\n",
       "      <td>Prop-tech</td>\n",
       "      <td>NaN</td>\n",
       "      <td>2020.0</td>\n",
       "      <td>Nairobi</td>\n",
       "      <td>https://easyhouse.africa/</td>\n",
       "      <td>Campus accommodation platform</td>\n",
       "      <td>No</td>\n",
       "      <td>Yes</td>\n",
       "      <td>5.0</td>\n",
       "    </tr>\n",
       "    <tr>\n",
       "      <th>341</th>\n",
       "      <td>KiotaPay</td>\n",
       "      <td>Prop-tech</td>\n",
       "      <td>NaN</td>\n",
       "      <td>2020.0</td>\n",
       "      <td>Nairobi</td>\n",
       "      <td>https://www.kiotapay.co.ke/</td>\n",
       "      <td>Property management solution</td>\n",
       "      <td>No</td>\n",
       "      <td>Yes</td>\n",
       "      <td>8.0</td>\n",
       "    </tr>\n",
       "    <tr>\n",
       "      <th>342</th>\n",
       "      <td>Silqu</td>\n",
       "      <td>Prop-tech</td>\n",
       "      <td>NaN</td>\n",
       "      <td>2020.0</td>\n",
       "      <td>Nairobi</td>\n",
       "      <td>https://www.silqu.com/</td>\n",
       "      <td>Property management solution</td>\n",
       "      <td>No</td>\n",
       "      <td>Yes</td>\n",
       "      <td>5.0</td>\n",
       "    </tr>\n",
       "    <tr>\n",
       "      <th>343</th>\n",
       "      <td>Alternative Circle</td>\n",
       "      <td>Software</td>\n",
       "      <td>NaN</td>\n",
       "      <td>2017.0</td>\n",
       "      <td>Nairobi</td>\n",
       "      <td>https://www.alternativecircle.com/</td>\n",
       "      <td>Software development</td>\n",
       "      <td>No</td>\n",
       "      <td>No</td>\n",
       "      <td>4.0</td>\n",
       "    </tr>\n",
       "    <tr>\n",
       "      <th>344</th>\n",
       "      <td>AmTech</td>\n",
       "      <td>Software</td>\n",
       "      <td>NaN</td>\n",
       "      <td>2003.0</td>\n",
       "      <td>Nairobi</td>\n",
       "      <td>http://www.amtechafrica.com/</td>\n",
       "      <td>Software development</td>\n",
       "      <td>No</td>\n",
       "      <td>No</td>\n",
       "      <td>41.0</td>\n",
       "    </tr>\n",
       "    <tr>\n",
       "      <th>345</th>\n",
       "      <td>Brance</td>\n",
       "      <td>Software</td>\n",
       "      <td>NaN</td>\n",
       "      <td>2018.0</td>\n",
       "      <td>Mombasa</td>\n",
       "      <td>https://brancetech.com/#welcome</td>\n",
       "      <td>Software development</td>\n",
       "      <td>No</td>\n",
       "      <td>No</td>\n",
       "      <td>7.0</td>\n",
       "    </tr>\n",
       "    <tr>\n",
       "      <th>346</th>\n",
       "      <td>Bunifu</td>\n",
       "      <td>Software</td>\n",
       "      <td>NaN</td>\n",
       "      <td>2011.0</td>\n",
       "      <td>Nairobi</td>\n",
       "      <td>http://bunifu.co.ke/</td>\n",
       "      <td>Software development</td>\n",
       "      <td>No</td>\n",
       "      <td>No</td>\n",
       "      <td>17.0</td>\n",
       "    </tr>\n",
       "    <tr>\n",
       "      <th>347</th>\n",
       "      <td>Farwell Innovations</td>\n",
       "      <td>Software</td>\n",
       "      <td>NaN</td>\n",
       "      <td>2010.0</td>\n",
       "      <td>Nairobi</td>\n",
       "      <td>https://farwell-consultants.com/</td>\n",
       "      <td>Software development</td>\n",
       "      <td>Yes</td>\n",
       "      <td>Yes</td>\n",
       "      <td>11.0</td>\n",
       "    </tr>\n",
       "    <tr>\n",
       "      <th>348</th>\n",
       "      <td>HydraTech</td>\n",
       "      <td>Software</td>\n",
       "      <td>NaN</td>\n",
       "      <td>2019.0</td>\n",
       "      <td>Mombasa</td>\n",
       "      <td>https://hydratech.co.ke/</td>\n",
       "      <td>Software development</td>\n",
       "      <td>No</td>\n",
       "      <td>No</td>\n",
       "      <td>1.0</td>\n",
       "    </tr>\n",
       "    <tr>\n",
       "      <th>349</th>\n",
       "      <td>Masterclass</td>\n",
       "      <td>Software</td>\n",
       "      <td>NaN</td>\n",
       "      <td>2013.0</td>\n",
       "      <td>Nairobi</td>\n",
       "      <td>http://www.masterclass.co.ke/</td>\n",
       "      <td>Software development</td>\n",
       "      <td>No</td>\n",
       "      <td>No</td>\n",
       "      <td>15.0</td>\n",
       "    </tr>\n",
       "    <tr>\n",
       "      <th>350</th>\n",
       "      <td>Osta Tech</td>\n",
       "      <td>Software</td>\n",
       "      <td>NaN</td>\n",
       "      <td>2017.0</td>\n",
       "      <td>Nairobi</td>\n",
       "      <td>https://www.ostatech.co.ke/</td>\n",
       "      <td>Software development</td>\n",
       "      <td>No</td>\n",
       "      <td>No</td>\n",
       "      <td>6.0</td>\n",
       "    </tr>\n",
       "    <tr>\n",
       "      <th>351</th>\n",
       "      <td>RafikiSoft</td>\n",
       "      <td>Software</td>\n",
       "      <td>NaN</td>\n",
       "      <td>2013.0</td>\n",
       "      <td>Nairobi</td>\n",
       "      <td>http://www.rafikisoft.com/</td>\n",
       "      <td>Software development</td>\n",
       "      <td>Yes</td>\n",
       "      <td>No</td>\n",
       "      <td>1.0</td>\n",
       "    </tr>\n",
       "    <tr>\n",
       "      <th>352</th>\n",
       "      <td>Studia Labs</td>\n",
       "      <td>Software</td>\n",
       "      <td>NaN</td>\n",
       "      <td>2017.0</td>\n",
       "      <td>Mombasa</td>\n",
       "      <td>https://studialabs.co.ke/</td>\n",
       "      <td>Software development</td>\n",
       "      <td>No</td>\n",
       "      <td>No</td>\n",
       "      <td>4.0</td>\n",
       "    </tr>\n",
       "    <tr>\n",
       "      <th>353</th>\n",
       "      <td>Elephant Bookings</td>\n",
       "      <td>Tourism</td>\n",
       "      <td>NaN</td>\n",
       "      <td>2022.0</td>\n",
       "      <td>Nairobi</td>\n",
       "      <td>https://www.elephantbookings.com/</td>\n",
       "      <td>Accommodation booking platform</td>\n",
       "      <td>No</td>\n",
       "      <td>Yes</td>\n",
       "      <td>1.0</td>\n",
       "    </tr>\n",
       "    <tr>\n",
       "      <th>354</th>\n",
       "      <td>Nomad Africa</td>\n",
       "      <td>Tourism</td>\n",
       "      <td>NaN</td>\n",
       "      <td>2017.0</td>\n",
       "      <td>Nairobi</td>\n",
       "      <td>https://nomad.africa/</td>\n",
       "      <td>Tour bookings</td>\n",
       "      <td>No</td>\n",
       "      <td>Yes</td>\n",
       "      <td>7.0</td>\n",
       "    </tr>\n",
       "    <tr>\n",
       "      <th>355</th>\n",
       "      <td>Vibanda</td>\n",
       "      <td>Tourism</td>\n",
       "      <td>NaN</td>\n",
       "      <td>2012.0</td>\n",
       "      <td>Nairobi</td>\n",
       "      <td>http://www.vibanda.com/</td>\n",
       "      <td>Accommodation booking platform</td>\n",
       "      <td>No</td>\n",
       "      <td>No</td>\n",
       "      <td>1.0</td>\n",
       "    </tr>\n",
       "    <tr>\n",
       "      <th>356</th>\n",
       "      <td>Sauti</td>\n",
       "      <td>Trade tech</td>\n",
       "      <td>NaN</td>\n",
       "      <td>2016.0</td>\n",
       "      <td>Nairobi</td>\n",
       "      <td>http://sautiafrica.org/</td>\n",
       "      <td>Trade and market information services</td>\n",
       "      <td>No</td>\n",
       "      <td>Yes</td>\n",
       "      <td>12.0</td>\n",
       "    </tr>\n",
       "    <tr>\n",
       "      <th>357</th>\n",
       "      <td>Solutech</td>\n",
       "      <td>Trade tech</td>\n",
       "      <td>NaN</td>\n",
       "      <td>2014.0</td>\n",
       "      <td>Nairobi</td>\n",
       "      <td>https://www.solutech.co.ke/</td>\n",
       "      <td>Sales automation platform</td>\n",
       "      <td>No</td>\n",
       "      <td>No</td>\n",
       "      <td>23.0</td>\n",
       "    </tr>\n",
       "    <tr>\n",
       "      <th>358</th>\n",
       "      <td>BlackRhino VR</td>\n",
       "      <td>VR</td>\n",
       "      <td>NaN</td>\n",
       "      <td>2015.0</td>\n",
       "      <td>Nairobi</td>\n",
       "      <td>http://www.blackrhinovr.com/</td>\n",
       "      <td>VR startup</td>\n",
       "      <td>No</td>\n",
       "      <td>No</td>\n",
       "      <td>18.0</td>\n",
       "    </tr>\n",
       "    <tr>\n",
       "      <th>359</th>\n",
       "      <td>Gjenge</td>\n",
       "      <td>Waste management</td>\n",
       "      <td>NaN</td>\n",
       "      <td>2017.0</td>\n",
       "      <td>Nairobi</td>\n",
       "      <td>http://gjenge.co.ke/index.php</td>\n",
       "      <td>Waste collection app</td>\n",
       "      <td>No</td>\n",
       "      <td>Yes</td>\n",
       "      <td>5.0</td>\n",
       "    </tr>\n",
       "    <tr>\n",
       "      <th>360</th>\n",
       "      <td>Mr Green Africa</td>\n",
       "      <td>Waste management</td>\n",
       "      <td>NaN</td>\n",
       "      <td>2014.0</td>\n",
       "      <td>Nairobi</td>\n",
       "      <td>https://www.mrgreenafrica.com/</td>\n",
       "      <td>Recycling platform</td>\n",
       "      <td>No</td>\n",
       "      <td>No</td>\n",
       "      <td>82.0</td>\n",
       "    </tr>\n",
       "    <tr>\n",
       "      <th>361</th>\n",
       "      <td>MobiTech</td>\n",
       "      <td>Water management</td>\n",
       "      <td>NaN</td>\n",
       "      <td>2017.0</td>\n",
       "      <td>Nairobi</td>\n",
       "      <td>https://www.techwatersolutions.com/</td>\n",
       "      <td>Water monitoring solution</td>\n",
       "      <td>No</td>\n",
       "      <td>No</td>\n",
       "      <td>9.0</td>\n",
       "    </tr>\n",
       "  </tbody>\n",
       "</table>\n",
       "</div>"
      ],
      "text/plain": [
       "                     Startup name                      Sector  \\\n",
       "2                          Abacus                     Fintech   \n",
       "3                           Alvin                     Fintech   \n",
       "4                           Araka                     Fintech   \n",
       "5                          Asante                     Fintech   \n",
       "6                        Asilimia                     Fintech   \n",
       "7                     AZA Finance                     Fintech   \n",
       "8                           Azima                     Fintech   \n",
       "9                         Bimaleo                     Fintech   \n",
       "10                        Bismart                     Fintech   \n",
       "11                        BitLipa                     Fintech   \n",
       "12                        Bitsoko                     Fintech   \n",
       "13                           Boya                     Fintech   \n",
       "14                        Cashlet                     Fintech   \n",
       "15                      Chamasoft                     Fintech   \n",
       "16                  Chaptr Global                     Fintech   \n",
       "17               Cherehani Africa                     Fintech   \n",
       "18                          Chumz                     Fintech   \n",
       "19                          Chura                     Fintech   \n",
       "20                     Crediation                     Fintech   \n",
       "21                 Credit Factory                     Fintech   \n",
       "22                      Credrails                     Fintech   \n",
       "23                      Crypsense                     Fintech   \n",
       "24               Denkim Insurance                     Fintech   \n",
       "25                        DukaPOS                     Fintech   \n",
       "26                       EastPesa                     Fintech   \n",
       "27                    Ed Partners                     Fintech   \n",
       "28                  Fanaka Hybrid                     Fintech   \n",
       "29                      FinAccess                     Fintech   \n",
       "30                        Finplus                     Fintech   \n",
       "31                        Flexpay                     Fintech   \n",
       "32                   Hakki Africa                     Fintech   \n",
       "33                           Hisa                     Fintech   \n",
       "34                      InstaSend                     Fintech   \n",
       "35                   InsureAfrika                     Fintech   \n",
       "36                       Jumuisha                     Fintech   \n",
       "37                        Kakbima                     Fintech   \n",
       "38                      Klientele                     Fintech   \n",
       "39                            Koa                     Fintech   \n",
       "40                      Kopo Kopo                     Fintech   \n",
       "41                     Kotani Pay                     Fintech   \n",
       "42                          Kwara                     Fintech   \n",
       "43                         Kyanda                     Fintech   \n",
       "44                           Lakt                     Fintech   \n",
       "45                           Lami                     Fintech   \n",
       "46                      LipaLater                     Fintech   \n",
       "47                         Lipana                     Fintech   \n",
       "48                       LipaPlus                     Fintech   \n",
       "49                        Lipisha                     Fintech   \n",
       "50                       M-Changa                     Fintech   \n",
       "51                        M-Payer                     Fintech   \n",
       "52                     Mobi-Remit                     Fintech   \n",
       "53                           mTek                     Fintech   \n",
       "54                       myInsure                     Fintech   \n",
       "55                        myNGOVO                     Fintech   \n",
       "56                           Nash                     Fintech   \n",
       "57                          Ndovu                     Fintech   \n",
       "58                        Nouveta                     Fintech   \n",
       "59                       Odibooks                     Fintech   \n",
       "60                         Patika                     Fintech   \n",
       "61                        Paylend                     Fintech   \n",
       "62                       Pesabase                     Fintech   \n",
       "63                     PesaBazaar                     Fintech   \n",
       "64                        PesaKit                     Fintech   \n",
       "65                        PesaPal                     Fintech   \n",
       "66                        Pezesha                     Fintech   \n",
       "67                Popote Payments                     Fintech   \n",
       "68       Power Financial Wellness                     Fintech   \n",
       "69                          Raise                     Fintech   \n",
       "70                   RePay Africa                     Fintech   \n",
       "71                          Route                     Fintech   \n",
       "72                        SafePay                     Fintech   \n",
       "73                      SaveKubwa                     Fintech   \n",
       "74                          Shara                     Fintech   \n",
       "75                       SimbaPay                     Fintech   \n",
       "76                      simplePOS                     Fintech   \n",
       "77                        Spektra                     Fintech   \n",
       "78               String Analytics                     Fintech   \n",
       "79                     SuperFluid                     Fintech   \n",
       "80                          Tanda                     Fintech   \n",
       "81                      Transcode                     Fintech   \n",
       "82                          Tulix                     Fintech   \n",
       "83                         Turaco                     Fintech   \n",
       "84                        UbaPesa                     Fintech   \n",
       "85                          Ujuzi                     Fintech   \n",
       "86                       UzaPoint                     Fintech   \n",
       "87                          Vooli                     Fintech   \n",
       "88                        WapiPay                     Fintech   \n",
       "89                    Watu Credit                     Fintech   \n",
       "90                      WazInsure                     Fintech   \n",
       "91                        Weza.io                     Fintech   \n",
       "92                       Wingubox                     Fintech   \n",
       "93                         Zagace                     Fintech   \n",
       "94                         Zanifu                     Fintech   \n",
       "97                    Access Afya                    E-health   \n",
       "98                      Afya Plan                    E-health   \n",
       "99                     Afya Rekod                    E-health   \n",
       "100          Afya Research Africa                    E-health   \n",
       "101                 Baobab Circle                    E-health   \n",
       "102                     Damu Sasa                    E-health   \n",
       "103               Deaf Elimu Plus                    E-health   \n",
       "104                         Flare                    E-health   \n",
       "105                  Health-e-Net                    E-health   \n",
       "106                   Hope Tech +                    E-health   \n",
       "107                  Ilara Health                    E-health   \n",
       "108                   Lily.Health                    E-health   \n",
       "109                        M-TIBA                    E-health   \n",
       "110                       Medbook                    E-health   \n",
       "111                       Medixus                    E-health   \n",
       "112                   MumsVillage                    E-health   \n",
       "113                        myDAWA                    E-health   \n",
       "114           Neural Labs Africa                     E-health   \n",
       "115                 Nurse In Hand                    E-health   \n",
       "116                  Snark Health                    E-health   \n",
       "117                        Tambua                    E-health   \n",
       "118                      TeleAfya                    E-health   \n",
       "119         The Pathology Network                    E-health   \n",
       "120                          TIBU                    E-health   \n",
       "121                    Totohealth                    E-health   \n",
       "122                   Ujuzi Fursa                    E-health   \n",
       "123                  Usalama Tech                    E-health   \n",
       "124                      Uthabiti                    E-health   \n",
       "125                          Wazi                    E-health   \n",
       "126                        Yapili                    E-health   \n",
       "127                   Zuri Health                    E-health   \n",
       "130                  Afriagrimark                   Agri-tech   \n",
       "131                        Annona                   Agri-tech   \n",
       "132            Apollo Agriculture                   Agri-tech   \n",
       "133                     Aqua Rech                   Agri-tech   \n",
       "134                       Arinifu                   Agri-tech   \n",
       "135                         Cinch                   Agri-tech   \n",
       "136               eProd Solutions                   Agri-tech   \n",
       "137                       Farm IT                   Agri-tech   \n",
       "138                 Farmers Pride                   Agri-tech   \n",
       "139                   Farmingtech                   Agri-tech   \n",
       "140                     Farmshine                   Agri-tech   \n",
       "141                    Futurepump                   Agri-tech   \n",
       "142                     GrowAgric                   Agri-tech   \n",
       "143                      iFarm360                   Agri-tech   \n",
       "144               iProcure Africa                   Agri-tech   \n",
       "145                          Kuza                   Agri-tech   \n",
       "146                       Lentera                   Agri-tech   \n",
       "147                        M-Farm                   Agri-tech   \n",
       "148            Mkulima Young Soko                   Agri-tech   \n",
       "149                          Pula                   Agri-tech   \n",
       "150             Radava Mercentile                   Agri-tech   \n",
       "151             Raino Tech4Impact                   Agri-tech   \n",
       "152                Selina Wamucii                   Agri-tech   \n",
       "153                  Shamba Pride                   Agri-tech   \n",
       "154                Shamba Records                   Agri-tech   \n",
       "155                   SolarFreeze                   Agri-tech   \n",
       "156                       Synnefa                   Agri-tech   \n",
       "157                       Taimba                    Agri-tech   \n",
       "158                   Twiga Foods                   Agri-tech   \n",
       "159                  Ujuzi Kilimo                   Agri-tech   \n",
       "160                        WeFarm                   Agri-tech   \n",
       "163                   AZA Finance                     Fintech   \n",
       "164                       Bismart                     Fintech   \n",
       "165                       BitLipa                     Fintech   \n",
       "166                       Bitsoko                     Fintech   \n",
       "167                     Crypsense                     Fintech   \n",
       "168                    Kotani Pay                     Fintech   \n",
       "169                          Lakt                     Fintech   \n",
       "170                          Nash                     Fintech   \n",
       "171                      Pesabase                     Fintech   \n",
       "172                       Pezesha                     Fintech   \n",
       "173                         Raise                     Fintech   \n",
       "174                        Zagace                     Fintech   \n",
       "175                    Afya Rekod                    E-health   \n",
       "176                        M-TIBA                    E-health   \n",
       "177                        myDAWA                    E-health   \n",
       "178                 Nurse In Hand                    E-health   \n",
       "179                  Snark Health                    E-health   \n",
       "180                      Uthabiti                    E-health   \n",
       "181                        Annona                   Agri-tech   \n",
       "182                     Farmshine                   Agri-tech   \n",
       "183                          Pula                   Agri-tech   \n",
       "184                Shamba Records                   Agri-tech   \n",
       "185                   Twiga Foods                   Agri-tech   \n",
       "186                       Aircart  E-commerce and retail-tech   \n",
       "187                        M-Post                   Logistics   \n",
       "188                    RippleNami                   Logistics   \n",
       "189                      Gridless                      Energy   \n",
       "190                           UTU                      AI/IoT   \n",
       "191                         Ledja            Digital identity   \n",
       "192                  Vibranium ID            Digital identity   \n",
       "195                  AfricaSokoni  E-commerce and retail-tech   \n",
       "196                       Aircart  E-commerce and retail-tech   \n",
       "197                          ANDO  E-commerce and retail-tech   \n",
       "198                        Badili  E-commerce and retail-tech   \n",
       "199                        Bamba   E-commerce and retail-tech   \n",
       "200                       BuuPass  E-commerce and retail-tech   \n",
       "201                     Cartnshop  E-commerce and retail-tech   \n",
       "202                   CashBackApp  E-commerce and retail-tech   \n",
       "203                         Copia  E-commerce and retail-tech   \n",
       "204                      DohYangu  E-commerce and retail-tech   \n",
       "205                         Duhqa  E-commerce and retail-tech   \n",
       "206                      Dukapepe  E-commerce and retail-tech   \n",
       "207                         Elloe  E-commerce and retail-tech   \n",
       "208                   MarketForce  E-commerce and retail-tech   \n",
       "209                   Mawu Africa  E-commerce and retail-tech   \n",
       "210                    Mobiticket  E-commerce and retail-tech   \n",
       "211                   Olivinetech  E-commerce and retail-tech   \n",
       "212                     PesaPoint  E-commerce and retail-tech   \n",
       "213                          Side  E-commerce and retail-tech   \n",
       "214                          Soko  E-commerce and retail-tech   \n",
       "215                       Sukhiba  E-commerce and retail-tech   \n",
       "216                    TopUp Mama  E-commerce and retail-tech   \n",
       "217                        Tushop  E-commerce and retail-tech   \n",
       "218                         Twiva  E-commerce and retail-tech   \n",
       "219              Uncover Skincare  E-commerce and retail-tech   \n",
       "220                        Wasoko  E-commerce and retail-tech   \n",
       "221                Weddings Kenya  E-commerce and retail-tech   \n",
       "222                           Yum  E-commerce and retail-tech   \n",
       "223                          ZUMI  E-commerce and retail-tech   \n",
       "226                     CampusBiz          Recruitment and HR   \n",
       "227                    Duma Works          Recruitment and HR   \n",
       "228                       FaidiHR          Recruitment and HR   \n",
       "229                        Fundis          Recruitment and HR   \n",
       "230                          Fuzu          Recruitment and HR   \n",
       "231                       KaziNow          Recruitment and HR   \n",
       "232                   Kazi Remote          Recruitment and HR   \n",
       "233                      LetaWera          Recruitment and HR   \n",
       "234                        Kisafi          Recruitment and HR   \n",
       "235                      Kuhustle          Recruitment and HR   \n",
       "236                        Onesha          Recruitment and HR   \n",
       "237                        Peleza          Recruitment and HR   \n",
       "238                     SapamaERP          Recruitment and HR   \n",
       "239                     SwiftAide          Recruitment and HR   \n",
       "240                   TalentBoard          Recruitment and HR   \n",
       "241                    Tiny Titos          Recruitment and HR   \n",
       "242                     Uhired.me          Recruitment and HR   \n",
       "243                       WorkPay          Recruitment and HR   \n",
       "244                         Ziada          Recruitment and HR   \n",
       "247  African Management Institute                     Ed-tech   \n",
       "248                  Angaza Elimu                     Ed-tech   \n",
       "249                         Arifu                     Ed-tech   \n",
       "250                       Craydel                     Ed-tech   \n",
       "251                        Dawati                     Ed-tech   \n",
       "252                         Elewa                     Ed-tech   \n",
       "253               Eneza Education                     Ed-tech   \n",
       "254                        Kidato                     Ed-tech   \n",
       "255                        Kytabu                     Ed-tech   \n",
       "256                       M-Lugha                     Ed-tech   \n",
       "257                       M-Shule                     Ed-tech   \n",
       "258                        M-Soma                     Ed-tech   \n",
       "259                Moringa School                     Ed-tech   \n",
       "260                        mSwali                     Ed-tech   \n",
       "261                       Sunrise                     Ed-tech   \n",
       "262                       Tustawi                     Ed-tech   \n",
       "263                        Yusudi                     Ed-tech   \n",
       "264                         Zydii                     Ed-tech   \n",
       "267                      Amitruck                   Logistics   \n",
       "268                       Ayazona                   Logistics   \n",
       "269                 Fleetsimplify                   Logistics   \n",
       "270                        GoBeba                   Logistics   \n",
       "271                  Logistify AI                   Logistics   \n",
       "272                  Lori Systems                   Logistics   \n",
       "273                        M-Post                   Logistics   \n",
       "274                          OkHi                   Logistics   \n",
       "275                    RippleNami                   Logistics   \n",
       "276                         Sendy                   Logistics   \n",
       "277                         Senga                   Logistics   \n",
       "278                        Sinbad                   Logistics   \n",
       "279                          Sote                   Logistics   \n",
       "280               StoFresh Africa                   Logistics   \n",
       "283                        BasiGo                    Mobility   \n",
       "284               Data Integrated                    Mobility   \n",
       "285                      Ecobodaa                    Mobility   \n",
       "286                       Kiri EV                    Mobility   \n",
       "287                        Komboa                    Mobility   \n",
       "288                      Ma3Route                    Mobility   \n",
       "289                 Mazi Mobility                    Mobility   \n",
       "290                          Roam                    Mobility   \n",
       "293                        AdLink                   Marketing   \n",
       "294                     AIfluence                   Marketing   \n",
       "295                          Ajua                   Marketing   \n",
       "296                      Synatech                   Marketing   \n",
       "297                    Swifttdial                   Marketing   \n",
       "298                       Teleeza                   Marketing   \n",
       "299                         Wowzi                   Marketing   \n",
       "302                         Agsol                      Energy   \n",
       "303                      Freshbox                      Energy   \n",
       "304                      Gridless                      Energy   \n",
       "305                       HydroIQ                      Energy   \n",
       "306                        M-Paya                      Energy   \n",
       "307                  PayGo Energy                      Energy   \n",
       "308                    SunCulture                      Energy   \n",
       "311                       Kijenzi                 3D printing   \n",
       "312        Flint Home Integrators                      AI/IoT   \n",
       "313              Gro Intelligence                      AI/IoT   \n",
       "314                       KOSA AI                      AI/IoT   \n",
       "315                           UTU                      AI/IoT   \n",
       "316                        Angani                       Cloud   \n",
       "317                 Eneza Telecom                       Cloud   \n",
       "318                   Node Africa                       Cloud   \n",
       "319                          WAYO                       Cloud   \n",
       "320              Africa's Talking              Communications   \n",
       "321                          BRCK                Connectivity   \n",
       "322                    NikoRadius                Connectivity   \n",
       "323         Internet of Elephants                Conservation   \n",
       "324                        Komaza                Conservation   \n",
       "325                         Jumba                Construction   \n",
       "326                        ManPro                Construction   \n",
       "327                        JabJab               Cybersecurity   \n",
       "328                         Ledja            Digital identity   \n",
       "329                  Vibranium ID            Digital identity   \n",
       "330                 Astral Aerial                      Drones   \n",
       "331                        Mdundo               Entertainment   \n",
       "332                      Imara TV               Entertainment   \n",
       "333                         Smubu               Entertainment   \n",
       "334                      MyMovies               Entertainment   \n",
       "335                   Optimetriks            Field management   \n",
       "336            Enfinite Solutions                  Legal-tech   \n",
       "337                   Sheria Soft                  Legal-tech   \n",
       "338                        xetova                 Procurement   \n",
       "339                        e-Kodi                   Prop-tech   \n",
       "340              EasyHouse Africa                   Prop-tech   \n",
       "341                      KiotaPay                   Prop-tech   \n",
       "342                         Silqu                   Prop-tech   \n",
       "343            Alternative Circle                    Software   \n",
       "344                        AmTech                    Software   \n",
       "345                        Brance                    Software   \n",
       "346                        Bunifu                    Software   \n",
       "347           Farwell Innovations                    Software   \n",
       "348                     HydraTech                    Software   \n",
       "349                   Masterclass                    Software   \n",
       "350                     Osta Tech                    Software   \n",
       "351                    RafikiSoft                    Software   \n",
       "352                   Studia Labs                    Software   \n",
       "353             Elephant Bookings                     Tourism   \n",
       "354                  Nomad Africa                     Tourism   \n",
       "355                       Vibanda                     Tourism   \n",
       "356                         Sauti                  Trade tech   \n",
       "357                      Solutech                  Trade tech   \n",
       "358                 BlackRhino VR                          VR   \n",
       "359                        Gjenge            Waste management   \n",
       "360               Mr Green Africa            Waste management   \n",
       "361                      MobiTech            Water management   \n",
       "\n",
       "                                      Sub-sector  Year of launch       HQ  \\\n",
       "2                                     Investtech          2014.0  Nairobi   \n",
       "3                               Personal finance          2021.0  Nairobi   \n",
       "4                          Lending and financing          2021.0  Nairobi   \n",
       "5                          Lending and financing          2016.0  Nairobi   \n",
       "6                                 Business admin          2017.0  Nairobi   \n",
       "7                       Payments and remittances          2013.0  Nairobi   \n",
       "8                          Lending and financing          2016.0  Nairobi   \n",
       "9                                      Insurtech          2020.0  Nairobi   \n",
       "10                                     Insurtech          2017.0  Nairobi   \n",
       "11                      Payments and remittances          2019.0  Nairobi   \n",
       "12                                    Blockchain          2013.0  Nairobi   \n",
       "13                                Business admin          2020.0  Nairobi   \n",
       "14                              Personal finance          2019.0  Nairobi   \n",
       "15                                    Investtech          2013.0  Nairobi   \n",
       "16                      Payments and remittances          2021.0  Nairobi   \n",
       "17                                         Other          2015.0  Nairobi   \n",
       "18                              Personal finance          2019.0  Nairobi   \n",
       "19                      Payments and remittances          2012.0  Nairobi   \n",
       "20                         Lending and financing          2018.0  Nairobi   \n",
       "21                         Lending and financing          2015.0  Nairobi   \n",
       "22                                  Open finance          2020.0  Nairobi   \n",
       "23                                    Blockchain          2022.0  Nairobi   \n",
       "24                                     Insurtech          2016.0  Nairobi   \n",
       "25                                Business admin          2020.0  Nairobi   \n",
       "26                      Payments and remittances          2016.0  Nairobi   \n",
       "27                         Lending and financing          2018.0  Nairobi   \n",
       "28                                Business admin          2015.0  Nairobi   \n",
       "29                         Lending and financing          2018.0  Nairobi   \n",
       "30                                Business admin          2017.0  Nairobi   \n",
       "31                      Payments and remittances          2016.0  Nairobi   \n",
       "32                         Lending and financing          2018.0  Nairobi   \n",
       "33                                    Investtech          2020.0  Nairobi   \n",
       "34                      Payments and remittances          2019.0  Nairobi   \n",
       "35                                     Insurtech          2015.0  Nairobi   \n",
       "36                      Payments and remittances          2020.0  Nairobi   \n",
       "37                                     Insurtech          2018.0  Nairobi   \n",
       "38                         Lending and financing          2017.0  Nairobi   \n",
       "39                              Personal finance          2020.0  Nairobi   \n",
       "40                                Business admin          2012.0  Nairobi   \n",
       "41                      Payments and remittances          2020.0  Nairobi   \n",
       "42                         Lending and financing          2018.0  Nairobi   \n",
       "43                      Payments and remittances          2020.0  Nairobi   \n",
       "44                              Personal finance          2016.0  Nairobi   \n",
       "45                                     Insurtech          2018.0  Nairobi   \n",
       "46                         Lending and financing          2017.0  Nairobi   \n",
       "47                                Business admin          2021.0  Nairobi   \n",
       "48                      Payments and remittances          2014.0  Nairobi   \n",
       "49                      Payments and remittances          2011.0  Nairobi   \n",
       "50                         Lending and financing          2012.0  Nairobi   \n",
       "51                      Payments and remittances          2012.0  Nairobi   \n",
       "52                      Payments and remittances          2022.0  Nairobi   \n",
       "53                                     Insurtech          2019.0  Nairobi   \n",
       "54                                     Insurtech          2015.0  Nairobi   \n",
       "55                         Lending and financing          2020.0  Nairobi   \n",
       "56                                Business admin          2020.0  Nairobi   \n",
       "57                                    Investtech          2020.0  Nairobi   \n",
       "58                      Payments and remittances          2017.0  Nairobi   \n",
       "59                                Business admin          2022.0  Nairobi   \n",
       "60                                Business admin          2021.0  Nairobi   \n",
       "61                         Lending and financing          2019.0  Nairobi   \n",
       "62                      Payments and remittances          2017.0  Nairobi   \n",
       "63                                     Insurtech          2016.0  Nairobi   \n",
       "64                                Business admin          2018.0  Nairobi   \n",
       "65                      Payments and remittances          2009.0  Nairobi   \n",
       "66                         Lending and financing          2016.0  Nairobi   \n",
       "67                                Business admin          2015.0  Nairobi   \n",
       "68                                         Other          2019.0  Nairobi   \n",
       "69                                    Investtech          2020.0  Nairobi   \n",
       "70                      Payments and remittances          2020.0  Nairobi   \n",
       "71                                         Other          2021.0  Nairobi   \n",
       "72                      Payments and remittances          2014.0  Nairobi   \n",
       "73                                     Insurtech          2015.0  Nairobi   \n",
       "74                                Business admin          2020.0  Nairobi   \n",
       "75                      Payments and remittances          2013.0  Nairobi   \n",
       "76                                Business admin          2018.0  Nairobi   \n",
       "77                      Payments and remittances          2019.0  Nairobi   \n",
       "78                         Lending and financing          2019.0  Nairobi   \n",
       "79                         Lending and financing          2015.0  Nairobi   \n",
       "80                      Payments and remittances          2018.0  Nairobi   \n",
       "81                               Security and ID          2018.0  Nairobi   \n",
       "82                      Payments and remittances          2020.0  Nairobi   \n",
       "83                                     Insurtech          2019.0  Nairobi   \n",
       "84                         Lending and financing          2018.0  Nairobi   \n",
       "85                               Security and ID          2013.0  Nairobi   \n",
       "86                                Business admin          2015.0  Nairobi   \n",
       "87                                     Insurtech          2020.0  Nairobi   \n",
       "88                      Payments and remittances          2019.0  Nairobi   \n",
       "89                         Lending and financing          2015.0  Mombasa   \n",
       "90                                     Insurtech          2016.0  Nairobi   \n",
       "91                         Lending and financing          2016.0  Nairobi   \n",
       "92                                Business admin          2007.0  Nairobi   \n",
       "93                                Business admin          2013.0  Nairobi   \n",
       "94                         Lending and financing          2016.0  Nairobi   \n",
       "97                                         Other          2012.0  Nairobi   \n",
       "98                              Health Insurance          2017.0  Nairobi   \n",
       "99                                           EHR          2020.0  Nairobi   \n",
       "100          Practice management and procurement          2009.0  Nairobi   \n",
       "101             Health info / Virtual Healthcare          2016.0  Nairobi   \n",
       "102          Practice management and procurement          2017.0  Nairobi   \n",
       "103                                        Other          2016.0  Nairobi   \n",
       "104                           Emergency response          2016.0  Nairobi   \n",
       "105             Health info / Virtual healthcare          2012.0  Nairobi   \n",
       "106                                        Other          2017.0  Nairobi   \n",
       "107  Diagnostics inc. clinical decisions support          2018.0  Nairobi   \n",
       "108             Health info / Virtual Healthcare          2017.0  Nairobi   \n",
       "109                             Health Insurance          2014.0  Mombasa   \n",
       "110             Health info / Virtual Healthcare          2014.0  Nairobi   \n",
       "111             Health info / Virtual Healthcare          2015.0  Nairobi   \n",
       "112                              Maternal health          2015.0  Nairobi   \n",
       "113                                        Other          2016.0  Nairobi   \n",
       "114  Diagnostics inc. clinical decisions support          2020.0  Nairobi   \n",
       "115                           Emergency response          2017.0  Nairobi   \n",
       "116             Health info / Virtual Healthcare          2018.0  Nairobi   \n",
       "117  Diagnostics inc. clinical decisions support          2017.0  Nairobi   \n",
       "118             Health info / Virtual Healthcare          2020.0  Nairobi   \n",
       "119  Diagnostics inc. clinical decisions support          2017.0     Meru   \n",
       "120                                     Bookings          2019.0  Nairobi   \n",
       "121                              Maternal health          2014.0  Nairobi   \n",
       "122                                     Bookings          2018.0  Nairobi   \n",
       "123                           Emergency response          2016.0  Nairobi   \n",
       "124                                        Other          2015.0  Nairobi   \n",
       "125             Health info / Virtual Healthcare          2019.0  Nairobi   \n",
       "126             Health info / Virtual healthcare          2014.0  Nairobi   \n",
       "127             Health info / Virtual healthcare          2020.0  Nairobi   \n",
       "130                                   E-commerce          2020.0  Nairobi   \n",
       "131             Farm and supply chain management          2015.0  Nairobi   \n",
       "132                         AI / IoT for farmers          2016.0  Nairobi   \n",
       "133                                        Other          2019.0   Kisumu   \n",
       "134                         AI / IoT for farmers          2018.0  Nairobi   \n",
       "135                          Fintech for farmers          2017.0  Nairobi   \n",
       "136             Farm and supply chain management          2015.0  Nairobi   \n",
       "137            Information and knowledge sharing          2018.0  Nairobi   \n",
       "138             Farm and supply chain management          2016.0  Nairobi   \n",
       "139             Farm and supply chain management          2017.0  Nairobi   \n",
       "140                                   E-commerce          2017.0  Nairobi   \n",
       "141                                        Other          2011.0  Nairobi   \n",
       "142                          Fintech for farmers          2020.0  Nairobi   \n",
       "143                          Fintech for farmers          2020.0  Nairobi   \n",
       "144             Farm and supply chain management          2013.0  Nairobi   \n",
       "145            Information and knowledge sharing          2022.0  Nairobi   \n",
       "146                         AI / IoT for farmers          2017.0  Nairobi   \n",
       "147                                   E-commerce          2011.0  Nairobi   \n",
       "148                                   E-commerce          2012.0  Nairobi   \n",
       "149                          Fintech for farmers          2014.0  Nairobi   \n",
       "150                          Fintech for farmers          2021.0  Nairobi   \n",
       "151             Farm and supply chain management          2019.0  Nairobi   \n",
       "152                                   E-commerce          2015.0  Nairobi   \n",
       "153             Farm and supply chain management          2016.0  Nairobi   \n",
       "154             Farm and supply chain management          2017.0  Nairobi   \n",
       "155                                        Other          2017.0  Nairobi   \n",
       "156                         AI / IoT for farmers          2013.0  Nairobi   \n",
       "157                                   E-commerce          2016.0  Nairobi   \n",
       "158             Farm and supply chain management          2013.0  Nairobi   \n",
       "159                         AI / IoT for farmers          2016.0  Nairobi   \n",
       "160            Information and knowledge sharing          2014.0  Nairobi   \n",
       "163                     Payments and remittances          2013.0  Nairobi   \n",
       "164                                    Insurtech          2017.0  Nairobi   \n",
       "165                     Payments and remittances          2019.0  Nairobi   \n",
       "166                                   Blockchain          2013.0  Nairobi   \n",
       "167                                   Blockchain          2022.0  Nairobi   \n",
       "168                     Payments and remittances          2020.0  Nairobi   \n",
       "169                             Personal finance          2016.0  Nairobi   \n",
       "170                               Business admin          2020.0  Nairobi   \n",
       "171                     Payments and remittances          2017.0  Nairobi   \n",
       "172                        Lending and financing          2016.0  Nairobi   \n",
       "173                                   Investtech          2020.0  Nairobi   \n",
       "174                               Business admin          2013.0  Nairobi   \n",
       "175                                          EHR          2020.0  Nairobi   \n",
       "176                             Health Insurance          2014.0  Mombasa   \n",
       "177                                        Other          2016.0  Nairobi   \n",
       "178                           Emergency response          2017.0  Nairobi   \n",
       "179             Health info / Virtual Healthcare          2018.0  Nairobi   \n",
       "180                                        Other          2015.0  Nairobi   \n",
       "181             Farm and supply chain management          2015.0  Nairobi   \n",
       "182                                   E-commerce          2017.0  Nairobi   \n",
       "183                          Fintech for farmers          2014.0  Nairobi   \n",
       "184             Farm and supply chain management          2017.0  Nairobi   \n",
       "185             Farm and supply chain management          2013.0  Nairobi   \n",
       "186                                Multi-product          2021.0  Nairobi   \n",
       "187                                          NaN          2016.0  Nairobi   \n",
       "188                                          NaN          2015.0  Nairobi   \n",
       "189                                          NaN          2022.0  Nairobi   \n",
       "190                                          NaN          2015.0  Nairobi   \n",
       "191                                          NaN          2021.0  Nairobi   \n",
       "192                                          NaN          2019.0  Nairobi   \n",
       "195                                Multi-product          2018.0  Nairobi   \n",
       "196                                Multi-product          2021.0  Nairobi   \n",
       "197                   Food, drinks and groceries          2020.0  Nairobi   \n",
       "198                                  Electronics          2021.0  Nairobi   \n",
       "199                                  Retail-tech          2022.0  Nairobi   \n",
       "200                                        Other          2015.0  Nairobi   \n",
       "201                      E-commerce facilitation          2018.0  Nairobi   \n",
       "202                      E-commerce facilitation          2018.0  Nairobi   \n",
       "203                                Multi-product          2013.0  Nairobi   \n",
       "204                      E-commerce facilitation          2020.0  Nairobi   \n",
       "205                                  Retail-tech          2021.0  Nairobi   \n",
       "206                                  Retail-tech          2017.0  Nairobi   \n",
       "207                      E-commerce facilitation          2021.0  Nairobi   \n",
       "208                      E-commerce facilitation          2018.0  Nairobi   \n",
       "209                                        Other          2021.0  Nairobi   \n",
       "210                                        Other          2017.0  Nairobi   \n",
       "211                                  Retail-tech          2010.0  Nairobi   \n",
       "212                                Multi-product          2010.0  Nairobi   \n",
       "213                                Multi-product          2021.0  Nairobi   \n",
       "214                        Apparel & Accessories          2011.0  Nairobi   \n",
       "215                                Multi-product          2020.0  Nairobi   \n",
       "216                                  Retail-tech          2021.0  Nairobi   \n",
       "217                                Multi-product          2021.0  Nairobi   \n",
       "218                                Multi-product          2020.0  Nairobi   \n",
       "219                                        Other          2020.0  Nairobi   \n",
       "220                                  Retail-tech          2013.0  Nairobi   \n",
       "221                                        Other          2008.0  Nairobi   \n",
       "222                   Food, drinks and groceries          2012.0  Nairobi   \n",
       "223                        Apparel & Accessories          2016.0  Nairobi   \n",
       "226                                          NaN          2017.0  Nairobi   \n",
       "227                                          NaN          2012.0  Nairobi   \n",
       "228                                          NaN          2020.0  Nairobi   \n",
       "229                                          NaN          2019.0  Nairobi   \n",
       "230                                          NaN          2015.0  Nairobi   \n",
       "231                                          NaN          2020.0  Nairobi   \n",
       "232                                          NaN          2017.0  Nairobi   \n",
       "233                                          NaN          2020.0  Nairobi   \n",
       "234                                          NaN          2016.0  Nairobi   \n",
       "235                                          NaN          2014.0  Nairobi   \n",
       "236                                          NaN          2015.0  Nairobi   \n",
       "237                                          NaN          2015.0  Nairobi   \n",
       "238                                          NaN          2010.0  Nairobi   \n",
       "239                                          NaN          2017.0  Nairobi   \n",
       "240                                          NaN          2017.0  Nairobi   \n",
       "241                                          NaN          2013.0  Nairobi   \n",
       "242                                          NaN          2012.0  Nairobi   \n",
       "243                                          NaN          2017.0  Nairobi   \n",
       "244                                          NaN          2017.0  Nairobi   \n",
       "247          Learner-facing educational platform          2013.0  Nairobi   \n",
       "248                  Learning management systems          2016.0  Nairobi   \n",
       "249          Learner-facing educational platform          2013.0  Nairobi   \n",
       "250                      Educational facilitator          2021.0  Nairobi   \n",
       "251          Learner-facing educational platform          2016.0  Nairobi   \n",
       "252                  Learning management systems          2015.0  Nairobi   \n",
       "253          Learner-facing educational platform          2012.0  Nairobi   \n",
       "254          Learner-facing educational platform          2019.0  Nairobi   \n",
       "255                      Educational facilitator          2012.0  Nairobi   \n",
       "256          Learner-facing educational platform          2019.0  Nairobi   \n",
       "257          Learner-facing educational platform          2016.0  Nairobi   \n",
       "258          Learner-facing educational platform          2022.0  Nairobi   \n",
       "259          Learner-facing educational platform          2014.0  Nairobi   \n",
       "260          Learner-facing educational platform          2020.0  Nairobi   \n",
       "261          Learner-facing educational platform          2021.0  Nairobi   \n",
       "262          Learner-facing educational platform          2019.0  Nairobi   \n",
       "263          Learner-facing educational platform          2016.0  Nairobi   \n",
       "264          Learner-facing educational platform          2016.0  Nairobi   \n",
       "267                                          NaN          2019.0  Nairobi   \n",
       "268                                          NaN          2020.0  Nairobi   \n",
       "269                                          NaN          2018.0  Nairobi   \n",
       "270                                          NaN          2019.0  Nairobi   \n",
       "271                                          NaN          2019.0  Nairobi   \n",
       "272                                          NaN          2016.0  Nairobi   \n",
       "273                                          NaN          2016.0  Nairobi   \n",
       "274                                          NaN          2014.0  Nairobi   \n",
       "275                                          NaN          2015.0  Nairobi   \n",
       "276                                          NaN          2014.0  Nairobi   \n",
       "277                                          NaN          2016.0  Nairobi   \n",
       "278                                          NaN          2018.0  Nairobi   \n",
       "279                                          NaN          2018.0  Nairobi   \n",
       "280                                          NaN          2022.0  Nairobi   \n",
       "283                                          NaN          2021.0  Nairobi   \n",
       "284                                          NaN          2012.0  Nairobi   \n",
       "285                                          NaN          2020.0  Nairobi   \n",
       "286                                          NaN          2020.0  Nairobi   \n",
       "287                                          NaN          2017.0  Nairobi   \n",
       "288                                          NaN          2012.0  Nairobi   \n",
       "289                                          NaN          2019.0  Nairobi   \n",
       "290                                          NaN          2017.0  Nairobi   \n",
       "293                                          NaN          2014.0  Nairobi   \n",
       "294                                          NaN          2019.0  Nairobi   \n",
       "295                                          NaN          2019.0  Nairobi   \n",
       "296                                          NaN          2019.0  Nairobi   \n",
       "297                                          NaN          2021.0  Nairobi   \n",
       "298                                          NaN          2018.0  Nairobi   \n",
       "299                                          NaN          2019.0  Nairobi   \n",
       "302                                          NaN          2016.0  Nairobi   \n",
       "303                                          NaN          2017.0  Nairobi   \n",
       "304                                          NaN          2022.0  Nairobi   \n",
       "305                                          NaN          2017.0  Nairobi   \n",
       "306                                          NaN          2018.0  Nairobi   \n",
       "307                                          NaN          2015.0  Nairobi   \n",
       "308                                          NaN          2012.0  Nairobi   \n",
       "311                                          NaN          2019.0   Kisumu   \n",
       "312                                          NaN          2016.0  Nairobi   \n",
       "313                                          NaN          2014.0  Nairobi   \n",
       "314                                          NaN          2021.0  Nairobi   \n",
       "315                                          NaN          2015.0  Nairobi   \n",
       "316                                          NaN          2013.0  Nairobi   \n",
       "317                                          NaN          2018.0  Nairobi   \n",
       "318                                          NaN          2015.0  Nairobi   \n",
       "319                                          NaN          2015.0  Nairobi   \n",
       "320                                          NaN          2010.0  Nairobi   \n",
       "321                                          NaN          2014.0  Nairobi   \n",
       "322                                          NaN          2019.0  Nairobi   \n",
       "323                                          NaN          2015.0  Nairobi   \n",
       "324                                          NaN          2006.0  Nairobi   \n",
       "325                                          NaN          2022.0  Nairobi   \n",
       "326                                          NaN          2019.0  Nairobi   \n",
       "327                                          NaN          2016.0  Nairobi   \n",
       "328                                          NaN          2021.0  Nairobi   \n",
       "329                                          NaN          2019.0  Nairobi   \n",
       "330                                          NaN          2016.0  Nairobi   \n",
       "331                                          NaN          2013.0  Nairobi   \n",
       "332                                          NaN          2019.0  Nairobi   \n",
       "333                                          NaN          2018.0  Nairobi   \n",
       "334                                          NaN          2014.0  Nairobi   \n",
       "335                                          NaN          2015.0  Nairobi   \n",
       "336                                          NaN          2007.0  Nairobi   \n",
       "337                                          NaN          2013.0  Nairobi   \n",
       "338                                          NaN          2019.0  Nairobi   \n",
       "339                                          NaN          2015.0  Nairobi   \n",
       "340                                          NaN          2020.0  Nairobi   \n",
       "341                                          NaN          2020.0  Nairobi   \n",
       "342                                          NaN          2020.0  Nairobi   \n",
       "343                                          NaN          2017.0  Nairobi   \n",
       "344                                          NaN          2003.0  Nairobi   \n",
       "345                                          NaN          2018.0  Mombasa   \n",
       "346                                          NaN          2011.0  Nairobi   \n",
       "347                                          NaN          2010.0  Nairobi   \n",
       "348                                          NaN          2019.0  Mombasa   \n",
       "349                                          NaN          2013.0  Nairobi   \n",
       "350                                          NaN          2017.0  Nairobi   \n",
       "351                                          NaN          2013.0  Nairobi   \n",
       "352                                          NaN          2017.0  Mombasa   \n",
       "353                                          NaN          2022.0  Nairobi   \n",
       "354                                          NaN          2017.0  Nairobi   \n",
       "355                                          NaN          2012.0  Nairobi   \n",
       "356                                          NaN          2016.0  Nairobi   \n",
       "357                                          NaN          2014.0  Nairobi   \n",
       "358                                          NaN          2015.0  Nairobi   \n",
       "359                                          NaN          2017.0  Nairobi   \n",
       "360                                          NaN          2014.0  Nairobi   \n",
       "361                                          NaN          2017.0  Nairobi   \n",
       "\n",
       "                                  Website  \\\n",
       "2                   https://abacus.co.ke/   \n",
       "3               https://www.alvinapp.com/   \n",
       "4                      https://araka.app/   \n",
       "5         https://asantefinancegroup.com/   \n",
       "6             https://www.asilimia.co.ke/   \n",
       "7             https://www.azafinance.com/   \n",
       "8                  http://www.azima.tech/   \n",
       "9                    https://bimaleo.com/   \n",
       "10                  https://bismart.co.ke   \n",
       "11               https://www.bitlipa.com/   \n",
       "12         https://bitsoko.wordpress.com/   \n",
       "13                   https://www.boya.co/   \n",
       "14             https://www.cashlet.co.ke/   \n",
       "15                 https://chamasoft.com/   \n",
       "16              https://chaptrglobal.com/   \n",
       "17                 https://cherehani.org/   \n",
       "18                    https://chumz.io/#/   \n",
       "19               https://www.chura.co.ke/   \n",
       "20                https://crediation.com/   \n",
       "21        http://www.creditfactory.co.ke/   \n",
       "22             https://www.credrails.com/   \n",
       "23              https://www.crypsense.io/   \n",
       "24        http://www.denkiminsurance.com/   \n",
       "25             https://www.dukapos.co.ke/   \n",
       "26              https://www.eastpesa.com/   \n",
       "27          https://edpartnersafrica.com/   \n",
       "28                  https://fanakahb.com/   \n",
       "29                  https://finaccess.co/   \n",
       "30              https://finplusgroup.com/   \n",
       "31              http://www.flexpay.co.ke/   \n",
       "32              https://hakki-africa.com/   \n",
       "33                       https://hisa.co/   \n",
       "34                  https://intasend.com/   \n",
       "35           http://www.insureafrika.com/   \n",
       "36                  https://jumuisha.com/   \n",
       "37               https://www.kakbima.com/   \n",
       "38            http://www.klientele.co.ke/   \n",
       "39               https://www.withkoa.com/   \n",
       "40                 http://kopokopo.co.ke/   \n",
       "41                 https://kotanipay.com/   \n",
       "42                     https://kwara.com/   \n",
       "43                  https://kyanda.co.ke/   \n",
       "44                        http://lakt.io/   \n",
       "45                https://www.lami.world/   \n",
       "46                 https://lipalater.com/   \n",
       "47              https://www.lipana.co.ke/   \n",
       "48              https://www.lipaplus.com/   \n",
       "49                   https://lipisha.com/   \n",
       "50                   http://changa.co.ke/   \n",
       "51              https://www.mpayer.co.ke/   \n",
       "52            https://www.mobi-remit.com/   \n",
       "53             https://mtek-services.com/   \n",
       "54            http://www.myinsure.africa/   \n",
       "55                 https://myngovo.co.ke/   \n",
       "56                 https://www.nasheq.co/   \n",
       "57                      https://ndovu.co/   \n",
       "58                   http://nouveta.tech/   \n",
       "59         https://www.odibooks.com/index   \n",
       "60                 https://patika.africa/   \n",
       "61                https://paylend.africa/   \n",
       "62              https://www.pesabase.com/   \n",
       "63            https://www.pesabazaar.com/   \n",
       "64             https://www.pesakit.co.ke/   \n",
       "65               https://www.pesapal.com/   \n",
       "66                    http://pezesha.com/   \n",
       "67            https://popotepayments.com/   \n",
       "68                  https://yourpower.io/   \n",
       "69               https://www.getraise.io/   \n",
       "70              https://www.repay.africa/   \n",
       "71                   https://route.money/   \n",
       "72                 https://safepay.co.ke/   \n",
       "73             https://www.savekubwa.com/   \n",
       "74                  https://www.shara.co/   \n",
       "75              https://get.simbapay.com/   \n",
       "76               https://simplepos.co.ke/   \n",
       "77                  https://dash-app.com/   \n",
       "78          https://string-analytics.com/   \n",
       "79              http://www.superfluid.io/   \n",
       "80              https://www.tanda.africa/   \n",
       "81           https://www.transcode.co.ke/   \n",
       "82                 https://www.tulix.app/   \n",
       "83             https://www.turaco.insure/   \n",
       "84                   https://ubapesa.com/   \n",
       "85        http://www.ujuzicompliance.com/   \n",
       "86                  https://uzapoint.com/   \n",
       "87                     https://vooli.net/   \n",
       "88               https://www.wapipay.com/   \n",
       "89                https://watuafrica.com/   \n",
       "90                 https://wazinsure.com/   \n",
       "91                   https://www.weza.io/   \n",
       "92             https://apps.wingubox.com/   \n",
       "93                    https://zagace.com/   \n",
       "94                https://www.zanifu.com/   \n",
       "97            https://www.accessafya.com/   \n",
       "98                 http://afyaplan.co.ke/   \n",
       "99         https://www.afyarekod.com/home   \n",
       "100          http://www.afyaresearch.org/   \n",
       "101          http://www.baobabcircle.com/   \n",
       "102          https://www.damu-sasa.co.ke/   \n",
       "103       http://www.deafelimuplus.co.ke/   \n",
       "104           http://flare.capsule.co.ke/   \n",
       "105          http://www.health-e-net.org/   \n",
       "106             https://hopetechplus.com/   \n",
       "107          https://www.ilarahealth.com/   \n",
       "108                  https://lily.health/   \n",
       "109                 https://mtiba.com/go/   \n",
       "110      https://www.medbookafrica.com/#/   \n",
       "111               https://www.medixus.co/   \n",
       "112              https://mumsvillage.com/   \n",
       "113             https://mydawa.com/#/home   \n",
       "114            https://neurallabs.africa/   \n",
       "115              https://nurseinhand.com/   \n",
       "116              https://snarkhealth.com/   \n",
       "117              http://tambuahealth.com/   \n",
       "118             https://teleafya.com/home   \n",
       "119      https://pathologynetwork.africa/   \n",
       "120                  https://tibu.africa/   \n",
       "121       https://totohealth.org/homepage   \n",
       "122      http://www.ujuzifursaafrica.com/   \n",
       "123     http://www.usalamatechnology.com/   \n",
       "124                 https://uthabiti.org/   \n",
       "125                  https://www.wazi.co/   \n",
       "126                   https://yapili.com/   \n",
       "127              https://www.zuri.health/   \n",
       "130             https://afriagrimark.com/   \n",
       "131                    https://annona.co/   \n",
       "132        https://apolloagriculture.com/   \n",
       "133             https://www.aquarech.com/   \n",
       "134                  https://arinifu.com/   \n",
       "135             https://cinchmarkets.com/   \n",
       "136      https://www.eprod-solutions.com/   \n",
       "137              http://www.farmit.co.ke/   \n",
       "138       https://farmersprideafrica.com/   \n",
       "139                https://digicow.co.ke/   \n",
       "140             https://www.farmshine.io/   \n",
       "141               https://futurepump.com/   \n",
       "142                https://growagric.com/   \n",
       "143                 https://ifarm360.com/   \n",
       "144                    https://iprocu.re/   \n",
       "145                      https://kuza.io/   \n",
       "146             https://lenterafrica.com/   \n",
       "147              https://www.mfarm.co.ke/   \n",
       "148          http://www.mkulimayoung.com/   \n",
       "149        https://www.pula-advisors.com/   \n",
       "150                    https://radava.co/   \n",
       "151       https://www.raino.co.ke/about/#   \n",
       "152        https://www.selinawamucii.com/   \n",
       "153              https://shambapride.com/   \n",
       "154          https://shambarecords.co.ke/   \n",
       "155         http://www.solarfreeze.co.ke/   \n",
       "156               https://www.synnefa.io/   \n",
       "157                 https://taimba.co.ke/   \n",
       "158                http://twigafoods.com/   \n",
       "159           http://www.ujuzikilimo.com/   \n",
       "160                   https://wefarm.org/   \n",
       "163           https://www.azafinance.com/   \n",
       "164                 https://bismart.co.ke   \n",
       "165              https://www.bitlipa.com/   \n",
       "166        https://bitsoko.wordpress.com/   \n",
       "167             https://www.crypsense.io/   \n",
       "168                https://kotanipay.com/   \n",
       "169                       http://lakt.io/   \n",
       "170                https://www.nasheq.co/   \n",
       "171             https://www.pesabase.com/   \n",
       "172                   http://pezesha.com/   \n",
       "173              https://www.getraise.io/   \n",
       "174                   https://zagace.com/   \n",
       "175        https://www.afyarekod.com/home   \n",
       "176                 https://mtiba.com/go/   \n",
       "177             https://mydawa.com/#/home   \n",
       "178              https://nurseinhand.com/   \n",
       "179              https://snarkhealth.com/   \n",
       "180                 https://uthabiti.org/   \n",
       "181                    https://annona.co/   \n",
       "182             https://www.farmshine.io/   \n",
       "183        https://www.pula-advisors.com/   \n",
       "184          https://shambarecords.co.ke/   \n",
       "185                http://twigafoods.com/   \n",
       "186              https://www.aircart.app/   \n",
       "187               http://www.mpost.co.ke/   \n",
       "188               https://ripplenami.com/   \n",
       "189          https://gridlesscompute.com/   \n",
       "190                       https://utu.io/   \n",
       "191                https://www.ledja.net/   \n",
       "192                 https://vibranium.id/   \n",
       "195           https://africasokoni.co.ke/   \n",
       "196              https://www.aircart.app/   \n",
       "197             https://www.andofoods.co/   \n",
       "198                https://badili.africa/   \n",
       "199                 https://getbamba.com/   \n",
       "200              https://www.buupass.com/   \n",
       "201                https://cartnshop.com/   \n",
       "202    https://www.cashbackmobileapp.com/   \n",
       "203              https://copiaglobal.com/   \n",
       "204              https://www.dohyangu.ke/   \n",
       "205                https://www.duhqa.com/   \n",
       "206                https://dukapepe.tech/   \n",
       "207                     https://elloe.ai/   \n",
       "208       https://www.marketforce360.com/   \n",
       "209               https://mawuafrica.com/   \n",
       "210              http://mobiticket.co.ke/   \n",
       "211          https://www.olivinetech.com/   \n",
       "212           http://www.pesapoint.co.ke/   \n",
       "213                  https://side.africa/   \n",
       "214                 https://shopsoko.com/   \n",
       "215      https://www.landing.sukhiba.com/   \n",
       "216            https://www.topupmama.com/   \n",
       "217                    https://tushop.io/   \n",
       "218                  https://twiva.co.ke/   \n",
       "219           https://uncoverskincare.co/   \n",
       "220                   https://wasoko.com/   \n",
       "221             http://weddingskenya.com/   \n",
       "222                    https://yum.co.ke/   \n",
       "223                http://www.zumi.co.ke/   \n",
       "226                       campusbiz.co.ke   \n",
       "227                https://dumaworks.com/   \n",
       "228                  https://faidihr.com/   \n",
       "229                 https://fundis.co.ke/   \n",
       "230                 https://www.fuzu.com/   \n",
       "231                   https://kazinow.ke/   \n",
       "232           https://www.kaziremote.com/   \n",
       "233                 https://letawera.com/   \n",
       "234                   https://kisafi.com/   \n",
       "235             https://www.kuhustle.com/   \n",
       "236                  http://onesha.co.ke/   \n",
       "237                http://www.peleza.com/   \n",
       "238                 http://sapamaerp.com/   \n",
       "239             https://swiftaideapp.com/   \n",
       "240        https://www.talentboard.co.ke/   \n",
       "241            https://www.tinytotos.com/   \n",
       "242                 http://www.uhired.me/   \n",
       "243                https://myworkpay.com/   \n",
       "244             https://www.getziada.com/   \n",
       "247      https://www.africanmanagers.org/   \n",
       "248              https://angazaelimu.com/   \n",
       "249                https://www.arifu.com/   \n",
       "250                  https://craydel.com/   \n",
       "251                 https://dawati.co.ke/   \n",
       "252                  https://elewa.co.ke/   \n",
       "253             http://enezaeducation.com   \n",
       "254                   https://kidato.com/   \n",
       "255                    http://kytabu.com/   \n",
       "256                  https://m-lugha.com/   \n",
       "257                   https://mshule.com/   \n",
       "258                 http://www.msoma.org/   \n",
       "259            https://moringaschool.com/   \n",
       "260                 https://mswali.co.ke/   \n",
       "261     https://sunrisehomeschooling.com/   \n",
       "262              https://www.tustawi.com/   \n",
       "263                 http://www.yusudi.co/   \n",
       "264                    https://zydii.com/   \n",
       "267             https://www.amitruck.com/   \n",
       "268                  https://ayazona.com/   \n",
       "269            https://fleetsimplify.com/   \n",
       "270               https://www.gobeba.com/   \n",
       "271             https://www.logistify.ai/   \n",
       "272          https://www.lorisystems.com/   \n",
       "273               http://www.mpost.co.ke/   \n",
       "274                  http://www.okhi.com/   \n",
       "275               https://ripplenami.com/   \n",
       "276                  https://sendyit.com/   \n",
       "277                      http://senga.co/   \n",
       "278              http://www.sinbad.co.ke/   \n",
       "279                  https://getsote.com/   \n",
       "280              https://stofresh.africa/   \n",
       "283              https://www.basi-go.com/   \n",
       "284         https://dataintegrated.co.ke/   \n",
       "285            https://www.ecobodaa.bike/   \n",
       "286                   https://kiriev.com/   \n",
       "287           https://www.komboagari.com/   \n",
       "288             https://www.ma3route.com/   \n",
       "289         https://www.mazimobility.com/   \n",
       "290           https://www.roammotors.com/   \n",
       "293             https://www.adlink.co.ke/   \n",
       "294           https://www.ai-fluence.com/   \n",
       "295                     https://ajua.com/   \n",
       "296           https://synatechafrica.com/   \n",
       "297               https://swifttdial.com/   \n",
       "298              https://www.teleeza.com/   \n",
       "299                 https://www.wowzi.co/   \n",
       "302                 http://www.agsol.com/   \n",
       "303           https://www.freshbox.co.ke/   \n",
       "304          https://gridlesscompute.com/   \n",
       "305           https://www.hydroiq.africa/   \n",
       "306                 https://m-paya.co.ke/   \n",
       "307           https://www.paygoenergy.co/   \n",
       "308                http://sunculture.com/   \n",
       "311              https://www.kijenzi.com/   \n",
       "312      http://flinthomeintegrators.com/   \n",
       "313         https://gro-intelligence.com/   \n",
       "314                      https://kosa.ai/   \n",
       "315                       https://utu.io/   \n",
       "316                     http://angani.co/   \n",
       "317         https://www.enezatelecom.com/   \n",
       "318                  https://node.africa/   \n",
       "319              https://wayocompany.com/   \n",
       "320           https://africastalking.com/   \n",
       "321                 https://www.brck.com/   \n",
       "322            http://www.nikoradius.com/   \n",
       "323  https://www.internetofelephants.com/   \n",
       "324               https://www.komaza.com/   \n",
       "325             https://www.thejumba.com/   \n",
       "326             https://www.manpro.co.ke/   \n",
       "327           http://www.jabjabgroup.com/   \n",
       "328                https://www.ledja.net/   \n",
       "329                 https://vibranium.id/   \n",
       "330            https://astral-aerial.com/   \n",
       "331                    http://mdundo.com/   \n",
       "332                 https://www.imara.tv/   \n",
       "333          https://www.smubuafrica.com/   \n",
       "334          https://www.mymovies.africa/   \n",
       "335              https://fieldproapp.com/   \n",
       "336        https://enfinitesolutions.com/   \n",
       "337               https://sheriasoft.com/   \n",
       "338               https://www.xetova.com/   \n",
       "339                http://www.e-kodi.com/   \n",
       "340             https://easyhouse.africa/   \n",
       "341           https://www.kiotapay.co.ke/   \n",
       "342                https://www.silqu.com/   \n",
       "343    https://www.alternativecircle.com/   \n",
       "344          http://www.amtechafrica.com/   \n",
       "345       https://brancetech.com/#welcome   \n",
       "346                  http://bunifu.co.ke/   \n",
       "347      https://farwell-consultants.com/   \n",
       "348              https://hydratech.co.ke/   \n",
       "349         http://www.masterclass.co.ke/   \n",
       "350           https://www.ostatech.co.ke/   \n",
       "351            http://www.rafikisoft.com/   \n",
       "352             https://studialabs.co.ke/   \n",
       "353     https://www.elephantbookings.com/   \n",
       "354                 https://nomad.africa/   \n",
       "355               http://www.vibanda.com/   \n",
       "356               http://sautiafrica.org/   \n",
       "357           https://www.solutech.co.ke/   \n",
       "358          http://www.blackrhinovr.com/   \n",
       "359         http://gjenge.co.ke/index.php   \n",
       "360        https://www.mrgreenafrica.com/   \n",
       "361   https://www.techwatersolutions.com/   \n",
       "\n",
       "                               Description of business Female founder?  \\\n",
       "2                     Savings and investments platform              No   \n",
       "3                           Savings and budgeting tool              No   \n",
       "4                           Vehicle financing platform              No   \n",
       "5                                   Credit-led neobank              No   \n",
       "6                         Data infrastructure for SMEs             Yes   \n",
       "7                 International money transfer service             Yes   \n",
       "8                             Payroll lending platform              No   \n",
       "9                           Digital insurance platform              No   \n",
       "10                          Digital insurance platform             Yes   \n",
       "11                            Crypto payments platform              No   \n",
       "12     Blockchain-based solutions for small businesses              No   \n",
       "13                        Business management solution              No   \n",
       "14                    Savings and investments platform              No   \n",
       "15                           Chama management platform              No   \n",
       "16                           Tuition payments platform              No   \n",
       "17                      Multi-product fintech platform              No   \n",
       "18                 Mobile money-based savings platform              No   \n",
       "19                        Airime and payments platform             Yes   \n",
       "20                           Business lending platform              No   \n",
       "21                                    Lending platform              No   \n",
       "22                               Open finance platform             Yes   \n",
       "23                  Digital assets management platform             Yes   \n",
       "24                Mobile wallet for insurance products              No   \n",
       "25                          Business payments platform              No   \n",
       "26                                Remittances platform              No   \n",
       "27                        Educational lending platform              No   \n",
       "28                          Business payments platform              No   \n",
       "29               Software solutions for savings groups              No   \n",
       "30           Business management and payments solution              No   \n",
       "31                        Save now, buy later platform              No   \n",
       "32                          Vehicle financing platform              No   \n",
       "33                                     Investments app             Yes   \n",
       "34                            Online payments platform              No   \n",
       "35                   Car insurance comparison platform              No   \n",
       "36                            Church payments solution              No   \n",
       "37   Tools connecting insurance companies with cust...              No   \n",
       "38                           Chama management platform              No   \n",
       "39                                         Savings app             Yes   \n",
       "40                          Merchant payments platform              No   \n",
       "41                  Blockchain-based payments platform              No   \n",
       "42                    Credit union management platform             Yes   \n",
       "43                                   Payments platform              No   \n",
       "44                    Savings and investments platform              No   \n",
       "45                              Insurance API provider             Yes   \n",
       "46                               BNPL service provider              No   \n",
       "47                                  Invoicing platform              No   \n",
       "48                               SME payments platform             Yes   \n",
       "49                             Mobile payments service              No   \n",
       "50                               Crowdfunding platform              No   \n",
       "51                          Business payments platform              No   \n",
       "52                      Cross-border payments platform              No   \n",
       "53                          Digital insurance platform             Yes   \n",
       "54                          Digital insurance platform              No   \n",
       "55                                  Salary advance app              No   \n",
       "56                        Business management platform              No   \n",
       "57                                     Investments app              No   \n",
       "58                          Business payments platform              No   \n",
       "59                        Business automation platform              No   \n",
       "60                     Customer debt tracking solution              No   \n",
       "61                                    Lending platform              No   \n",
       "62                                   Payments platform              No   \n",
       "63                                  Insurance platform              No   \n",
       "64                         App for mobile money agents              No   \n",
       "65                              Card payments platform              No   \n",
       "66                              SME financing platform             Yes   \n",
       "67                        Business management platform              No   \n",
       "68                        Employee financial solutions              No   \n",
       "69                        Startup fundraising platform              No   \n",
       "70                      Mobile money payments platform              No   \n",
       "71                                 Digital banking app              No   \n",
       "72                           Digital payments platform              No   \n",
       "73                                  Insurance platform              No   \n",
       "74                          Customer financing service              No   \n",
       "75                International money transfer service              No   \n",
       "76                        Business management platform             Yes   \n",
       "77                                        Payments app              No   \n",
       "78                             Credit-scoring platform              No   \n",
       "79                             Credit-scoring platform             Yes   \n",
       "80                          Business payments platform              No   \n",
       "81                            Fraud detection platform              No   \n",
       "82                              Money transfer service              No   \n",
       "83                                  Insurance platform              No   \n",
       "84                                P2P lending platform              No   \n",
       "85                                       Security & ID              No   \n",
       "86                               SME payments platform              No   \n",
       "87                                  Insurance platform              No   \n",
       "88                        Africa-Asia payment platform              No   \n",
       "89                            Asset financing platform              No   \n",
       "90                                  Insurance platform              No   \n",
       "91                         End to end lending software              No   \n",
       "92                                 Accounting platform              No   \n",
       "93                        Business management platform              No   \n",
       "94                                 Inventory financing              No   \n",
       "97                                Tech-enabled clinics             Yes   \n",
       "98                    Online health insurance platform              No   \n",
       "99                                       EHR solutions              No   \n",
       "100  Stone HMIS open source health information and ...             Yes   \n",
       "101   Health information app and virtual consultations             Yes   \n",
       "102              Blood services information management              No   \n",
       "103                 Range of apps using sign language.              No   \n",
       "104  App for hospitals and public to locate and cal...             Yes   \n",
       "105                        Tele-consultations platform              No   \n",
       "106           Assistive hardware for visually impaired             Yes   \n",
       "107                  Provider of diagnostics equipment              No   \n",
       "108            Chat app for reproductive health advice              No   \n",
       "109                           Health insurance service              No   \n",
       "110  Virtual consultations, practice management and...              No   \n",
       "111                                P2P doctors network             Yes   \n",
       "112                          Maternal info and support             Yes   \n",
       "113                                Medicine purchasing              No   \n",
       "114                      AI-based diagnostics platform              No   \n",
       "115                         Emergency response service             Yes   \n",
       "116                        Virtual healthcare platform              No   \n",
       "117                        Mobile diagnostics platform              No   \n",
       "118                      Virtual consultation platform              No   \n",
       "119                             AI-based lab referrals              No   \n",
       "120                          Medical bookings platform              No   \n",
       "121  SMS-based service focused on pregnancy and ear...              No   \n",
       "122                                 Caregiving service              No   \n",
       "123                    Emergency response calling app.              No   \n",
       "124        Blockchain-based drug verification platform              No   \n",
       "125                       Digital counselling platform              No   \n",
       "126  Online platform connecting African patients wi...              No   \n",
       "127                                   Virtual hospital              No   \n",
       "130                   Helps farmers sell their produce              No   \n",
       "131  Online farmer management software for global f...              No   \n",
       "132  Leverages satellite imagery and machine learni...              No   \n",
       "133                               Aquaculture platform              No   \n",
       "134                      Designer of a \"smart brooder\"              No   \n",
       "135              Smallholder asset investment platform              No   \n",
       "136                           Farm management platform              No   \n",
       "137              Digital services platform for farmers              No   \n",
       "138                      Connects farmers with inputs               No   \n",
       "139                            Farm record-keeping app              No   \n",
       "140                         Connect farmers to markets              No   \n",
       "141  Sells portable solar irrigation pumps to small...              No   \n",
       "142                     Accessible finance for farmers              No   \n",
       "143                              Crowdfarming solution              No   \n",
       "144  Agricultural supply chain platform and busines...              No   \n",
       "145                  On-demand farming course provider             Yes   \n",
       "146                     Precision agriculture services              No   \n",
       "147  SMS and web-based produce marketplace for smal...             Yes   \n",
       "148              Produce marketplace for young farmers              No   \n",
       "149                    Agricultural insurance platform             Yes   \n",
       "150                     Agri-commodity exchange market              No   \n",
       "151                               Cold chain solutions              No   \n",
       "152             Online platform for fresh farm produce              No   \n",
       "153                   Supply chain management platform              No   \n",
       "154   AI and blockchain based farm management platform              No   \n",
       "155   Solar-powered cold storage solutions for farmers              No   \n",
       "156  Integrated solar powered farm automation syste...              No   \n",
       "157  Business to business mobile-based cashless pla...             Yes   \n",
       "158   Mobile business-to-business food supply platform              No   \n",
       "159       IoT and data monitoring solution for farmers              No   \n",
       "160  SMS-based peer-to-peer (P2P) farming informati...              No   \n",
       "163               International money transfer service             Yes   \n",
       "164                         Digital insurance platform             Yes   \n",
       "165                           Crypto payments platform              No   \n",
       "166    Blockchain-based solutions for small businesses              No   \n",
       "167                 Digital assets management platform             Yes   \n",
       "168                 Blockchain-based payments platform              No   \n",
       "169                   Savings and investments platform              No   \n",
       "170                       Business management platform              No   \n",
       "171                                  Payments platform              No   \n",
       "172                             SME financing platform             Yes   \n",
       "173                       Startup fundraising platform              No   \n",
       "174                       Business management platform              No   \n",
       "175                                      EHR solutions              No   \n",
       "176                           Health insurance service              No   \n",
       "177                                Medicine purchasing              No   \n",
       "178                         Emergency response service             Yes   \n",
       "179                        Virtual healthcare platform              No   \n",
       "180        Blockchain-based drug verification platform              No   \n",
       "181  Online farmer management software for global f...              No   \n",
       "182                         Connect farmers to markets              No   \n",
       "183                    Agricultural insurance platform             Yes   \n",
       "184   AI and blockchain based farm management platform              No   \n",
       "185   Mobile business-to-business food supply platform              No   \n",
       "186                             Digital products store              No   \n",
       "187                           Mobile addressing system              No   \n",
       "188                                   Mapping solution              No   \n",
       "189                       Hydroelectric bitcoin mining              No   \n",
       "190  AI solutions for sharing economy, parent compa...              No   \n",
       "191                      Digital identity verification              No   \n",
       "192                               Portable personal ID              No   \n",
       "195                     Multi-product e-commerce store              No   \n",
       "196                             Digital products store              No   \n",
       "197                             Food delivery platform              No   \n",
       "198                            Second-hand phone store              No   \n",
       "199                 Management app for micro-merchants              No   \n",
       "200                             Bus ticketing platform              No   \n",
       "201                               Online store builder              No   \n",
       "202                     Loyalty solution for merchants              No   \n",
       "203                Shopping platform for BoP customers              No   \n",
       "204                          Cashback rewards platform              No   \n",
       "205              Connects retailers with manufacturers              No   \n",
       "206            Connects retailers with FMCGs companies             Yes   \n",
       "207        AI-powered conversational commerce platform             Yes   \n",
       "208            Operating system for informal retailers              No   \n",
       "209                                    Art marketplace             Yes   \n",
       "210                                 Ticketing platform              No   \n",
       "211                         Retail management platform              No   \n",
       "212                             Digital products store              No   \n",
       "213                                Product marketplace              No   \n",
       "214                       Clothing and jewellery store             Yes   \n",
       "215                        Community shopping platform              No   \n",
       "216                         Restaurant supply platform              No   \n",
       "217                              Group buying platform              No   \n",
       "218               Influencer powered commerce platform              No   \n",
       "219                           Beauty commerce platform             Yes   \n",
       "220    On-demand distribution to independent retailers              No   \n",
       "221                    Marketplace for wedding vendors             Yes   \n",
       "222                             Food delivery platform              No   \n",
       "223                 Digital media platform for fashion              No   \n",
       "226           Job and internship platform for students              No   \n",
       "227          Online and SMS based recruitment platform             Yes   \n",
       "228                   HR and payroll management system             Yes   \n",
       "229                          Find a craftsman platform              No   \n",
       "230               Career development and jobs platform              No   \n",
       "231                               Services marketplace              No   \n",
       "232                         Digital worker recruitment             Yes   \n",
       "233                              Gig provider platform             Yes   \n",
       "234                    On-demand home cleaning service             Yes   \n",
       "235                            Freelancing marketplace              No   \n",
       "236                   Marketplace for hiring creatives              No   \n",
       "237             Candidate background checking platform              No   \n",
       "238                     Cloud business management tool              No   \n",
       "239                               Freelancing platform              No   \n",
       "240                       Referral-based jobs platform             Yes   \n",
       "241                                   Daycare platform             Yes   \n",
       "242      Recruitment and jobs platform for non-profits              No   \n",
       "243                     Cloud business management tool              No   \n",
       "244                               Services marketplace             Yes   \n",
       "247                       Corporate education platform              No   \n",
       "248            Learning and school management platform              No   \n",
       "249                          Digital learning solution              No   \n",
       "250                           University course finder              No   \n",
       "251                                  Learning platform              No   \n",
       "252            Learning and school management platform              No   \n",
       "253                   SMS and web-based learning tools             Yes   \n",
       "254                                      Online school              No   \n",
       "255                  Leasing application for textbooks              No   \n",
       "256                       Local language learning tool              No   \n",
       "257       Mobile learning platform for primary schools             Yes   \n",
       "258                                      Coding school              No   \n",
       "259                                      Coding school             Yes   \n",
       "260                                    Edutainment app              No   \n",
       "261                                      Online school              No   \n",
       "262                         Business training provider             Yes   \n",
       "263                          Digital learning solution              No   \n",
       "264                         Business training provider             Yes   \n",
       "267                        Trucking logistics platform              No   \n",
       "268                                      Food delivery              No   \n",
       "269                        Trucking logistics platform              No   \n",
       "270                   Delivery of household essentials              No   \n",
       "271                               Inventory management              No   \n",
       "272                                 Logistics platform             Yes   \n",
       "273                           Mobile addressing system              No   \n",
       "274                        Digital addressing solution              No   \n",
       "275                                   Mapping solution              No   \n",
       "276                         On-demand delivery service             Yes   \n",
       "277                   Connect shippers with travellers             Yes   \n",
       "278                           Marine cargo marketplace              No   \n",
       "279                        AI-based logistics solution              No   \n",
       "280                             Fresh produce delivery              No   \n",
       "283                          Electric vehicle provider              No   \n",
       "284                       Bus management and ticketing              No   \n",
       "285                   Electric motorbike taxi provider              No   \n",
       "286                          Electric vehicle provider              No   \n",
       "287                               Car-sharing platform              No   \n",
       "288                     Crowdsourced mobility platform              No   \n",
       "289                   Electric motorbike taxi provider              No   \n",
       "290                          Electric vehicle provider              No   \n",
       "293       Helps businesses track advertising campaigns              No   \n",
       "294           AI-powered influencer marketing platform              No   \n",
       "295                        Digital marketing solutions              No   \n",
       "296                                     SEO optimisers              No   \n",
       "297                      Customer engagement solutions              No   \n",
       "298                             Lockscreen advertising              No   \n",
       "299                         Social influencer platform              No   \n",
       "302     Solar-powered agro-processing machine provider              No   \n",
       "303                        Solar powered refrigeration              No   \n",
       "304                       Hydroelectric bitcoin mining              No   \n",
       "305                            Smart water billing app              No   \n",
       "306                           Smart metering solutions              No   \n",
       "307                         PAYG cooking fuel provider              No   \n",
       "308         Solar-powered irrigation services provider              No   \n",
       "311                                        3D printing              No   \n",
       "312                         IoT for the home solutions              No   \n",
       "313                            Data analytics platform             Yes   \n",
       "314                              Mitigation of AI bias              No   \n",
       "315  AI solutions for sharing economy, parent compa...              No   \n",
       "316                              Cloud storage service              No   \n",
       "317           Cloud-based business management platform              No   \n",
       "318                              Cloud storage service              No   \n",
       "319            AI-based customer experience management              No   \n",
       "320                            Communications platform              No   \n",
       "321  Hardware for internet connectivity, learning s...             Yes   \n",
       "322   Internet billing and network management platform              No   \n",
       "323                Leverages GPS data for conservation              No   \n",
       "324                                  Conservation tech             Yes   \n",
       "325                Platform for construction materials             Yes   \n",
       "326                              Construction platform              No   \n",
       "327                      Tech services and consultancy              No   \n",
       "328                      Digital identity verification              No   \n",
       "329                               Portable personal ID              No   \n",
       "330                                      Drone startup              No   \n",
       "331              Music streaming and download platform              No   \n",
       "332                               Edutainment platform              No   \n",
       "333                                     Music platform              No   \n",
       "334                           Movie streaming platform              No   \n",
       "335                          Field management solution              No   \n",
       "336                                Legal-tech platform              No   \n",
       "337               Case management software for lawyers              No   \n",
       "338                               Procurement platform              No   \n",
       "339                                 Rental marketplace              No   \n",
       "340                     Campus accommodation platform               No   \n",
       "341                       Property management solution              No   \n",
       "342                       Property management solution              No   \n",
       "343                               Software development              No   \n",
       "344                               Software development              No   \n",
       "345                               Software development              No   \n",
       "346                               Software development              No   \n",
       "347                               Software development             Yes   \n",
       "348                               Software development              No   \n",
       "349                               Software development              No   \n",
       "350                               Software development              No   \n",
       "351                               Software development             Yes   \n",
       "352                               Software development              No   \n",
       "353                     Accommodation booking platform              No   \n",
       "354                                      Tour bookings              No   \n",
       "355                     Accommodation booking platform              No   \n",
       "356              Trade and market information services              No   \n",
       "357                          Sales automation platform              No   \n",
       "358                                         VR startup              No   \n",
       "359                               Waste collection app              No   \n",
       "360                                 Recycling platform              No   \n",
       "361                          Water monitoring solution              No   \n",
       "\n",
       "    Accelerated?  Number of employees  \n",
       "2             No                  2.0  \n",
       "3             No                  7.0  \n",
       "4             No                  1.0  \n",
       "5             No                 38.0  \n",
       "6            Yes                 23.0  \n",
       "7             No                218.0  \n",
       "8             No                  1.0  \n",
       "9             No                  1.0  \n",
       "10            No                  8.0  \n",
       "11            No                 11.0  \n",
       "12            No                  1.0  \n",
       "13           Yes                 12.0  \n",
       "14            No                  1.0  \n",
       "15           Yes                  9.0  \n",
       "16            No                  6.0  \n",
       "17            No                  1.0  \n",
       "18           Yes                 12.0  \n",
       "19           Yes                  4.0  \n",
       "20           Yes                 15.0  \n",
       "21           Yes                  4.0  \n",
       "22            No                 19.0  \n",
       "23           Yes                  7.0  \n",
       "24            No                  4.0  \n",
       "25            No                  1.0  \n",
       "26            No                  5.0  \n",
       "27            No                 31.0  \n",
       "28            No                  1.0  \n",
       "29            No                 19.0  \n",
       "30            No                 10.0  \n",
       "31           Yes                 27.0  \n",
       "32            No                 21.0  \n",
       "33           Yes                 10.0  \n",
       "34            No                  2.0  \n",
       "35           Yes                  6.0  \n",
       "36            No                 11.0  \n",
       "37           Yes                  3.0  \n",
       "38            No                  1.0  \n",
       "39           Yes                 29.0  \n",
       "40            No                 94.0  \n",
       "41           Yes                 12.0  \n",
       "42           Yes                 83.0  \n",
       "43            No                 10.0  \n",
       "44           Yes                  1.0  \n",
       "45           Yes                 83.0  \n",
       "46           Yes                100.0  \n",
       "47            No                  3.0  \n",
       "48            No                  3.0  \n",
       "49           Yes                  2.0  \n",
       "50            No                 12.0  \n",
       "51            No                 12.0  \n",
       "52            No                  1.0  \n",
       "53            No                 25.0  \n",
       "54            No                  1.0  \n",
       "55            No                  3.0  \n",
       "56           Yes                 16.0  \n",
       "57           Yes                 33.0  \n",
       "58            No                 34.0  \n",
       "59            No                  2.0  \n",
       "60           Yes                  4.0  \n",
       "61            No                 10.0  \n",
       "62           Yes                  8.0  \n",
       "63           Yes                 15.0  \n",
       "64           Yes                 17.0  \n",
       "65            No                216.0  \n",
       "66           Yes                 47.0  \n",
       "67            No                 34.0  \n",
       "68            No                 31.0  \n",
       "69           Yes                 16.0  \n",
       "70            No                  2.0  \n",
       "71            No                  2.0  \n",
       "72           Yes                  9.0  \n",
       "73            No                  1.0  \n",
       "74            No                 80.0  \n",
       "75           Yes                  9.0  \n",
       "76            No                  4.0  \n",
       "77            No                 60.0  \n",
       "78            No                  1.0  \n",
       "79           Yes                 12.0  \n",
       "80           Yes                 33.0  \n",
       "81            No                  1.0  \n",
       "82            No                  5.0  \n",
       "83            No                 90.0  \n",
       "84            No                  5.0  \n",
       "85            No                  1.0  \n",
       "86           Yes                 12.0  \n",
       "87           Yes                  1.0  \n",
       "88           Yes                 12.0  \n",
       "89            No               1201.0  \n",
       "90           Yes                  3.0  \n",
       "91            No                  3.0  \n",
       "92            No                  6.0  \n",
       "93            No                  2.0  \n",
       "94            No                 35.0  \n",
       "97           Yes                 48.0  \n",
       "98            No                  1.0  \n",
       "99            No                 27.0  \n",
       "100           No                 30.0  \n",
       "101           No                 40.0  \n",
       "102          Yes                  2.0  \n",
       "103           No                  1.0  \n",
       "104          Yes                 24.0  \n",
       "105          Yes                  7.0  \n",
       "106           No                  3.0  \n",
       "107           No                145.0  \n",
       "108          Yes                  5.0  \n",
       "109           No                114.0  \n",
       "110           No                 30.0  \n",
       "111           No                 10.0  \n",
       "112          Yes                  5.0  \n",
       "113           No                 45.0  \n",
       "114          Yes                  7.0  \n",
       "115          Yes                  3.0  \n",
       "116          Yes                  3.0  \n",
       "117          Yes                 15.0  \n",
       "118           No                  1.0  \n",
       "119          Yes                 19.0  \n",
       "120           No                 32.0  \n",
       "121          Yes                  7.0  \n",
       "122          Yes                 47.0  \n",
       "123          Yes                 10.0  \n",
       "124           No                 13.0  \n",
       "125           No                  8.0  \n",
       "126          Yes                  4.0  \n",
       "127           No                 36.0  \n",
       "130          Yes                  2.0  \n",
       "131          Yes                  2.0  \n",
       "132           No                594.0  \n",
       "133           No                 12.0  \n",
       "134          Yes                  2.0  \n",
       "135          Yes                 13.0  \n",
       "136           No                 25.0  \n",
       "137           No                  1.0  \n",
       "138           No                 19.0  \n",
       "139           No                 10.0  \n",
       "140          Yes                  3.0  \n",
       "141          Yes                 19.0  \n",
       "142          Yes                  5.0  \n",
       "143           No                  7.0  \n",
       "144          Yes                128.0  \n",
       "145           No                  9.0  \n",
       "146          Yes                 12.0  \n",
       "147           No                  7.0  \n",
       "148           No                  7.0  \n",
       "149           No                224.0  \n",
       "150          Yes                  3.0  \n",
       "151          Yes                 17.0  \n",
       "152           No                  3.0  \n",
       "153          Yes                 19.0  \n",
       "154           No                  6.0  \n",
       "155          Yes                  4.0  \n",
       "156          Yes                 15.0  \n",
       "157          Yes                 16.0  \n",
       "158           No                821.0  \n",
       "159          Yes                  5.0  \n",
       "160           No                 55.0  \n",
       "163           No                218.0  \n",
       "164           No                  8.0  \n",
       "165           No                 11.0  \n",
       "166           No                  1.0  \n",
       "167          Yes                  7.0  \n",
       "168          Yes                 12.0  \n",
       "169          Yes                  1.0  \n",
       "170          Yes                 16.0  \n",
       "171          Yes                  8.0  \n",
       "172          Yes                 47.0  \n",
       "173          Yes                 16.0  \n",
       "174           No                  2.0  \n",
       "175           No                 27.0  \n",
       "176           No                114.0  \n",
       "177           No                 45.0  \n",
       "178          Yes                  3.0  \n",
       "179          Yes                  3.0  \n",
       "180           No                 13.0  \n",
       "181          Yes                  2.0  \n",
       "182          Yes                  3.0  \n",
       "183           No                224.0  \n",
       "184           No                  6.0  \n",
       "185           No                821.0  \n",
       "186           No                  4.0  \n",
       "187          Yes                 22.0  \n",
       "188          Yes                 18.0  \n",
       "189           No                  1.0  \n",
       "190          Yes                 22.0  \n",
       "191          Yes                  1.0  \n",
       "192          Yes                  2.0  \n",
       "195          Yes                 21.0  \n",
       "196           No                  4.0  \n",
       "197           No                 29.0  \n",
       "198          Yes                 21.0  \n",
       "199          Yes                 10.0  \n",
       "200          Yes                 20.0  \n",
       "201           No                  1.0  \n",
       "202          Yes                  9.0  \n",
       "203           No                516.0  \n",
       "204          Yes                  7.0  \n",
       "205          Yes                 33.0  \n",
       "206          Yes                  9.0  \n",
       "207           No                 11.0  \n",
       "208          Yes                269.0  \n",
       "209           No                  2.0  \n",
       "210           No                  4.0  \n",
       "211          Yes                  4.0  \n",
       "212           No                 11.0  \n",
       "213          Yes                  1.0  \n",
       "214          Yes                 13.0  \n",
       "215          Yes                 19.0  \n",
       "216          Yes                 53.0  \n",
       "217           No                 23.0  \n",
       "218          Yes                 13.0  \n",
       "219          Yes                 17.0  \n",
       "220          Yes                607.0  \n",
       "221           No                  2.0  \n",
       "222          Yes                 26.0  \n",
       "223          Yes                 60.0  \n",
       "226           No                  1.0  \n",
       "227          Yes                 20.0  \n",
       "228           No                  8.0  \n",
       "229          Yes                 11.0  \n",
       "230           No                110.0  \n",
       "231           No                  3.0  \n",
       "232          Yes                  1.0  \n",
       "233          Yes                  3.0  \n",
       "234          Yes                  4.0  \n",
       "235          Yes                 18.0  \n",
       "236          Yes                 19.0  \n",
       "237          Yes                 22.0  \n",
       "238           No                  8.0  \n",
       "239           No                  1.0  \n",
       "240           No                  3.0  \n",
       "241           No                 25.0  \n",
       "242           No                  2.0  \n",
       "243          Yes                 64.0  \n",
       "244          Yes                 12.0  \n",
       "247           No                 95.0  \n",
       "248          Yes                 10.0  \n",
       "249          Yes                 36.0  \n",
       "250           No                 35.0  \n",
       "251           No                  6.0  \n",
       "252          Yes                 32.0  \n",
       "253          Yes                 69.0  \n",
       "254          Yes                  9.0  \n",
       "255          Yes                 17.0  \n",
       "256           No                  2.0  \n",
       "257           No                 10.0  \n",
       "258           No                  1.0  \n",
       "259           No                269.0  \n",
       "260          Yes                 13.0  \n",
       "261           No                  1.0  \n",
       "262          Yes                  7.0  \n",
       "263           No                108.0  \n",
       "264          Yes                 11.0  \n",
       "267          Yes                 67.0  \n",
       "268           No                  2.0  \n",
       "269           No                 10.0  \n",
       "270          Yes                 10.0  \n",
       "271          Yes                 41.0  \n",
       "272           No                189.0  \n",
       "273          Yes                 22.0  \n",
       "274          Yes                 25.0  \n",
       "275          Yes                 18.0  \n",
       "276          Yes                391.0  \n",
       "277           No                 14.0  \n",
       "278           No                  1.0  \n",
       "279           No                 41.0  \n",
       "280          Yes                  3.0  \n",
       "283           No                 29.0  \n",
       "284           No                 45.0  \n",
       "285          Yes                  1.0  \n",
       "286           No                  3.0  \n",
       "287          Yes                  3.0  \n",
       "288          Yes                  2.0  \n",
       "289          Yes                 11.0  \n",
       "290           No                101.0  \n",
       "293           No                  2.0  \n",
       "294          Yes                 37.0  \n",
       "295          Yes                 86.0  \n",
       "296           No                  1.0  \n",
       "297           No                  6.0  \n",
       "298           No                 10.0  \n",
       "299           No                122.0  \n",
       "302           No                 12.0  \n",
       "303           No                  5.0  \n",
       "304           No                  1.0  \n",
       "305          Yes                  6.0  \n",
       "306          Yes                  6.0  \n",
       "307           No                 47.0  \n",
       "308           No                189.0  \n",
       "311          Yes                 10.0  \n",
       "312           No                  5.0  \n",
       "313           No                199.0  \n",
       "314           No                  6.0  \n",
       "315          Yes                 22.0  \n",
       "316           No                 23.0  \n",
       "317           No                  7.0  \n",
       "318           No                  5.0  \n",
       "319           No                  2.0  \n",
       "320           No                 76.0  \n",
       "321           No                 27.0  \n",
       "322           No                  8.0  \n",
       "323           No                  2.0  \n",
       "324           No                242.0  \n",
       "325           No                 23.0  \n",
       "326          Yes                  1.0  \n",
       "327           No                  1.0  \n",
       "328          Yes                  1.0  \n",
       "329          Yes                  2.0  \n",
       "330           No                 11.0  \n",
       "331          Yes                 60.0  \n",
       "332           No                  1.0  \n",
       "333           No                  1.0  \n",
       "334          Yes                  6.0  \n",
       "335          Yes                 45.0  \n",
       "336          Yes                  5.0  \n",
       "337          Yes                  1.0  \n",
       "338          Yes                 39.0  \n",
       "339          Yes                  1.0  \n",
       "340          Yes                  5.0  \n",
       "341          Yes                  8.0  \n",
       "342          Yes                  5.0  \n",
       "343           No                  4.0  \n",
       "344           No                 41.0  \n",
       "345           No                  7.0  \n",
       "346           No                 17.0  \n",
       "347          Yes                 11.0  \n",
       "348           No                  1.0  \n",
       "349           No                 15.0  \n",
       "350           No                  6.0  \n",
       "351           No                  1.0  \n",
       "352           No                  4.0  \n",
       "353          Yes                  1.0  \n",
       "354          Yes                  7.0  \n",
       "355           No                  1.0  \n",
       "356          Yes                 12.0  \n",
       "357           No                 23.0  \n",
       "358           No                 18.0  \n",
       "359          Yes                  5.0  \n",
       "360           No                 82.0  \n",
       "361           No                  9.0  "
      ]
     },
     "execution_count": 132,
     "metadata": {},
     "output_type": "execute_result"
    }
   ],
   "source": [
    "df.drop('Unnamed: 7', axis=1, inplace=True) #Remove Unnamed: 7 Column without reassigning the dataframe\n",
    "df = df[df['Sector'].notna()] # Override the dataframe with a new dataframe where the Sector column is not NaN\n",
    "df"
   ]
  },
  {
   "cell_type": "code",
   "execution_count": 150,
   "id": "d6f5d90d",
   "metadata": {},
   "outputs": [
    {
     "data": {
      "application/vnd.plotly.v1+json": {
       "config": {
        "plotlyServerURL": "https://plot.ly"
       },
       "data": [
        {
         "domain": {
          "x": [
           0,
           1
          ],
          "y": [
           0,
           1
          ]
         },
         "hovertemplate": "HQ=%{label}<br>Companies=%{value}<extra></extra>",
         "labels": [
          "Kisumu",
          "Meru",
          "Mombasa",
          "Nairobi"
         ],
         "legendgroup": "",
         "name": "",
         "showlegend": true,
         "textinfo": "percent+label",
         "textposition": "inside",
         "type": "pie",
         "values": [
          2,
          1,
          6,
          329
         ]
        }
       ],
       "layout": {
        "legend": {
         "tracegroupgap": 0
        },
        "template": {
         "data": {
          "bar": [
           {
            "error_x": {
             "color": "#2a3f5f"
            },
            "error_y": {
             "color": "#2a3f5f"
            },
            "marker": {
             "line": {
              "color": "#E5ECF6",
              "width": 0.5
             },
             "pattern": {
              "fillmode": "overlay",
              "size": 10,
              "solidity": 0.2
             }
            },
            "type": "bar"
           }
          ],
          "barpolar": [
           {
            "marker": {
             "line": {
              "color": "#E5ECF6",
              "width": 0.5
             },
             "pattern": {
              "fillmode": "overlay",
              "size": 10,
              "solidity": 0.2
             }
            },
            "type": "barpolar"
           }
          ],
          "carpet": [
           {
            "aaxis": {
             "endlinecolor": "#2a3f5f",
             "gridcolor": "white",
             "linecolor": "white",
             "minorgridcolor": "white",
             "startlinecolor": "#2a3f5f"
            },
            "baxis": {
             "endlinecolor": "#2a3f5f",
             "gridcolor": "white",
             "linecolor": "white",
             "minorgridcolor": "white",
             "startlinecolor": "#2a3f5f"
            },
            "type": "carpet"
           }
          ],
          "choropleth": [
           {
            "colorbar": {
             "outlinewidth": 0,
             "ticks": ""
            },
            "type": "choropleth"
           }
          ],
          "contour": [
           {
            "colorbar": {
             "outlinewidth": 0,
             "ticks": ""
            },
            "colorscale": [
             [
              0,
              "#0d0887"
             ],
             [
              0.1111111111111111,
              "#46039f"
             ],
             [
              0.2222222222222222,
              "#7201a8"
             ],
             [
              0.3333333333333333,
              "#9c179e"
             ],
             [
              0.4444444444444444,
              "#bd3786"
             ],
             [
              0.5555555555555556,
              "#d8576b"
             ],
             [
              0.6666666666666666,
              "#ed7953"
             ],
             [
              0.7777777777777778,
              "#fb9f3a"
             ],
             [
              0.8888888888888888,
              "#fdca26"
             ],
             [
              1,
              "#f0f921"
             ]
            ],
            "type": "contour"
           }
          ],
          "contourcarpet": [
           {
            "colorbar": {
             "outlinewidth": 0,
             "ticks": ""
            },
            "type": "contourcarpet"
           }
          ],
          "heatmap": [
           {
            "colorbar": {
             "outlinewidth": 0,
             "ticks": ""
            },
            "colorscale": [
             [
              0,
              "#0d0887"
             ],
             [
              0.1111111111111111,
              "#46039f"
             ],
             [
              0.2222222222222222,
              "#7201a8"
             ],
             [
              0.3333333333333333,
              "#9c179e"
             ],
             [
              0.4444444444444444,
              "#bd3786"
             ],
             [
              0.5555555555555556,
              "#d8576b"
             ],
             [
              0.6666666666666666,
              "#ed7953"
             ],
             [
              0.7777777777777778,
              "#fb9f3a"
             ],
             [
              0.8888888888888888,
              "#fdca26"
             ],
             [
              1,
              "#f0f921"
             ]
            ],
            "type": "heatmap"
           }
          ],
          "heatmapgl": [
           {
            "colorbar": {
             "outlinewidth": 0,
             "ticks": ""
            },
            "colorscale": [
             [
              0,
              "#0d0887"
             ],
             [
              0.1111111111111111,
              "#46039f"
             ],
             [
              0.2222222222222222,
              "#7201a8"
             ],
             [
              0.3333333333333333,
              "#9c179e"
             ],
             [
              0.4444444444444444,
              "#bd3786"
             ],
             [
              0.5555555555555556,
              "#d8576b"
             ],
             [
              0.6666666666666666,
              "#ed7953"
             ],
             [
              0.7777777777777778,
              "#fb9f3a"
             ],
             [
              0.8888888888888888,
              "#fdca26"
             ],
             [
              1,
              "#f0f921"
             ]
            ],
            "type": "heatmapgl"
           }
          ],
          "histogram": [
           {
            "marker": {
             "pattern": {
              "fillmode": "overlay",
              "size": 10,
              "solidity": 0.2
             }
            },
            "type": "histogram"
           }
          ],
          "histogram2d": [
           {
            "colorbar": {
             "outlinewidth": 0,
             "ticks": ""
            },
            "colorscale": [
             [
              0,
              "#0d0887"
             ],
             [
              0.1111111111111111,
              "#46039f"
             ],
             [
              0.2222222222222222,
              "#7201a8"
             ],
             [
              0.3333333333333333,
              "#9c179e"
             ],
             [
              0.4444444444444444,
              "#bd3786"
             ],
             [
              0.5555555555555556,
              "#d8576b"
             ],
             [
              0.6666666666666666,
              "#ed7953"
             ],
             [
              0.7777777777777778,
              "#fb9f3a"
             ],
             [
              0.8888888888888888,
              "#fdca26"
             ],
             [
              1,
              "#f0f921"
             ]
            ],
            "type": "histogram2d"
           }
          ],
          "histogram2dcontour": [
           {
            "colorbar": {
             "outlinewidth": 0,
             "ticks": ""
            },
            "colorscale": [
             [
              0,
              "#0d0887"
             ],
             [
              0.1111111111111111,
              "#46039f"
             ],
             [
              0.2222222222222222,
              "#7201a8"
             ],
             [
              0.3333333333333333,
              "#9c179e"
             ],
             [
              0.4444444444444444,
              "#bd3786"
             ],
             [
              0.5555555555555556,
              "#d8576b"
             ],
             [
              0.6666666666666666,
              "#ed7953"
             ],
             [
              0.7777777777777778,
              "#fb9f3a"
             ],
             [
              0.8888888888888888,
              "#fdca26"
             ],
             [
              1,
              "#f0f921"
             ]
            ],
            "type": "histogram2dcontour"
           }
          ],
          "mesh3d": [
           {
            "colorbar": {
             "outlinewidth": 0,
             "ticks": ""
            },
            "type": "mesh3d"
           }
          ],
          "parcoords": [
           {
            "line": {
             "colorbar": {
              "outlinewidth": 0,
              "ticks": ""
             }
            },
            "type": "parcoords"
           }
          ],
          "pie": [
           {
            "automargin": true,
            "type": "pie"
           }
          ],
          "scatter": [
           {
            "fillpattern": {
             "fillmode": "overlay",
             "size": 10,
             "solidity": 0.2
            },
            "type": "scatter"
           }
          ],
          "scatter3d": [
           {
            "line": {
             "colorbar": {
              "outlinewidth": 0,
              "ticks": ""
             }
            },
            "marker": {
             "colorbar": {
              "outlinewidth": 0,
              "ticks": ""
             }
            },
            "type": "scatter3d"
           }
          ],
          "scattercarpet": [
           {
            "marker": {
             "colorbar": {
              "outlinewidth": 0,
              "ticks": ""
             }
            },
            "type": "scattercarpet"
           }
          ],
          "scattergeo": [
           {
            "marker": {
             "colorbar": {
              "outlinewidth": 0,
              "ticks": ""
             }
            },
            "type": "scattergeo"
           }
          ],
          "scattergl": [
           {
            "marker": {
             "colorbar": {
              "outlinewidth": 0,
              "ticks": ""
             }
            },
            "type": "scattergl"
           }
          ],
          "scattermapbox": [
           {
            "marker": {
             "colorbar": {
              "outlinewidth": 0,
              "ticks": ""
             }
            },
            "type": "scattermapbox"
           }
          ],
          "scatterpolar": [
           {
            "marker": {
             "colorbar": {
              "outlinewidth": 0,
              "ticks": ""
             }
            },
            "type": "scatterpolar"
           }
          ],
          "scatterpolargl": [
           {
            "marker": {
             "colorbar": {
              "outlinewidth": 0,
              "ticks": ""
             }
            },
            "type": "scatterpolargl"
           }
          ],
          "scatterternary": [
           {
            "marker": {
             "colorbar": {
              "outlinewidth": 0,
              "ticks": ""
             }
            },
            "type": "scatterternary"
           }
          ],
          "surface": [
           {
            "colorbar": {
             "outlinewidth": 0,
             "ticks": ""
            },
            "colorscale": [
             [
              0,
              "#0d0887"
             ],
             [
              0.1111111111111111,
              "#46039f"
             ],
             [
              0.2222222222222222,
              "#7201a8"
             ],
             [
              0.3333333333333333,
              "#9c179e"
             ],
             [
              0.4444444444444444,
              "#bd3786"
             ],
             [
              0.5555555555555556,
              "#d8576b"
             ],
             [
              0.6666666666666666,
              "#ed7953"
             ],
             [
              0.7777777777777778,
              "#fb9f3a"
             ],
             [
              0.8888888888888888,
              "#fdca26"
             ],
             [
              1,
              "#f0f921"
             ]
            ],
            "type": "surface"
           }
          ],
          "table": [
           {
            "cells": {
             "fill": {
              "color": "#EBF0F8"
             },
             "line": {
              "color": "white"
             }
            },
            "header": {
             "fill": {
              "color": "#C8D4E3"
             },
             "line": {
              "color": "white"
             }
            },
            "type": "table"
           }
          ]
         },
         "layout": {
          "annotationdefaults": {
           "arrowcolor": "#2a3f5f",
           "arrowhead": 0,
           "arrowwidth": 1
          },
          "autotypenumbers": "strict",
          "coloraxis": {
           "colorbar": {
            "outlinewidth": 0,
            "ticks": ""
           }
          },
          "colorscale": {
           "diverging": [
            [
             0,
             "#8e0152"
            ],
            [
             0.1,
             "#c51b7d"
            ],
            [
             0.2,
             "#de77ae"
            ],
            [
             0.3,
             "#f1b6da"
            ],
            [
             0.4,
             "#fde0ef"
            ],
            [
             0.5,
             "#f7f7f7"
            ],
            [
             0.6,
             "#e6f5d0"
            ],
            [
             0.7,
             "#b8e186"
            ],
            [
             0.8,
             "#7fbc41"
            ],
            [
             0.9,
             "#4d9221"
            ],
            [
             1,
             "#276419"
            ]
           ],
           "sequential": [
            [
             0,
             "#0d0887"
            ],
            [
             0.1111111111111111,
             "#46039f"
            ],
            [
             0.2222222222222222,
             "#7201a8"
            ],
            [
             0.3333333333333333,
             "#9c179e"
            ],
            [
             0.4444444444444444,
             "#bd3786"
            ],
            [
             0.5555555555555556,
             "#d8576b"
            ],
            [
             0.6666666666666666,
             "#ed7953"
            ],
            [
             0.7777777777777778,
             "#fb9f3a"
            ],
            [
             0.8888888888888888,
             "#fdca26"
            ],
            [
             1,
             "#f0f921"
            ]
           ],
           "sequentialminus": [
            [
             0,
             "#0d0887"
            ],
            [
             0.1111111111111111,
             "#46039f"
            ],
            [
             0.2222222222222222,
             "#7201a8"
            ],
            [
             0.3333333333333333,
             "#9c179e"
            ],
            [
             0.4444444444444444,
             "#bd3786"
            ],
            [
             0.5555555555555556,
             "#d8576b"
            ],
            [
             0.6666666666666666,
             "#ed7953"
            ],
            [
             0.7777777777777778,
             "#fb9f3a"
            ],
            [
             0.8888888888888888,
             "#fdca26"
            ],
            [
             1,
             "#f0f921"
            ]
           ]
          },
          "colorway": [
           "#636efa",
           "#EF553B",
           "#00cc96",
           "#ab63fa",
           "#FFA15A",
           "#19d3f3",
           "#FF6692",
           "#B6E880",
           "#FF97FF",
           "#FECB52"
          ],
          "font": {
           "color": "#2a3f5f"
          },
          "geo": {
           "bgcolor": "white",
           "lakecolor": "white",
           "landcolor": "#E5ECF6",
           "showlakes": true,
           "showland": true,
           "subunitcolor": "white"
          },
          "hoverlabel": {
           "align": "left"
          },
          "hovermode": "closest",
          "mapbox": {
           "style": "light"
          },
          "paper_bgcolor": "white",
          "plot_bgcolor": "#E5ECF6",
          "polar": {
           "angularaxis": {
            "gridcolor": "white",
            "linecolor": "white",
            "ticks": ""
           },
           "bgcolor": "#E5ECF6",
           "radialaxis": {
            "gridcolor": "white",
            "linecolor": "white",
            "ticks": ""
           }
          },
          "scene": {
           "xaxis": {
            "backgroundcolor": "#E5ECF6",
            "gridcolor": "white",
            "gridwidth": 2,
            "linecolor": "white",
            "showbackground": true,
            "ticks": "",
            "zerolinecolor": "white"
           },
           "yaxis": {
            "backgroundcolor": "#E5ECF6",
            "gridcolor": "white",
            "gridwidth": 2,
            "linecolor": "white",
            "showbackground": true,
            "ticks": "",
            "zerolinecolor": "white"
           },
           "zaxis": {
            "backgroundcolor": "#E5ECF6",
            "gridcolor": "white",
            "gridwidth": 2,
            "linecolor": "white",
            "showbackground": true,
            "ticks": "",
            "zerolinecolor": "white"
           }
          },
          "shapedefaults": {
           "line": {
            "color": "#2a3f5f"
           }
          },
          "ternary": {
           "aaxis": {
            "gridcolor": "white",
            "linecolor": "white",
            "ticks": ""
           },
           "baxis": {
            "gridcolor": "white",
            "linecolor": "white",
            "ticks": ""
           },
           "bgcolor": "#E5ECF6",
           "caxis": {
            "gridcolor": "white",
            "linecolor": "white",
            "ticks": ""
           }
          },
          "title": {
           "x": 0.05
          },
          "xaxis": {
           "automargin": true,
           "gridcolor": "white",
           "linecolor": "white",
           "ticks": "",
           "title": {
            "standoff": 15
           },
           "zerolinecolor": "white",
           "zerolinewidth": 2
          },
          "yaxis": {
           "automargin": true,
           "gridcolor": "white",
           "linecolor": "white",
           "ticks": "",
           "title": {
            "standoff": 15
           },
           "zerolinecolor": "white",
           "zerolinewidth": 2
          }
         }
        },
        "title": {
         "text": "Locations"
        }
       }
      },
      "text/html": [
       "<div>                            <div id=\"cba1f396-309d-4334-9fec-2576567886cb\" class=\"plotly-graph-div\" style=\"height:525px; width:100%;\"></div>            <script type=\"text/javascript\">                require([\"plotly\"], function(Plotly) {                    window.PLOTLYENV=window.PLOTLYENV || {};                                    if (document.getElementById(\"cba1f396-309d-4334-9fec-2576567886cb\")) {                    Plotly.newPlot(                        \"cba1f396-309d-4334-9fec-2576567886cb\",                        [{\"domain\":{\"x\":[0.0,1.0],\"y\":[0.0,1.0]},\"hovertemplate\":\"HQ=%{label}<br>Companies=%{value}<extra></extra>\",\"labels\":[\"Kisumu\",\"Meru\",\"Mombasa\",\"Nairobi\"],\"legendgroup\":\"\",\"name\":\"\",\"showlegend\":true,\"values\":[2,1,6,329],\"type\":\"pie\",\"textinfo\":\"percent+label\",\"textposition\":\"inside\"}],                        {\"template\":{\"data\":{\"histogram2dcontour\":[{\"type\":\"histogram2dcontour\",\"colorbar\":{\"outlinewidth\":0,\"ticks\":\"\"},\"colorscale\":[[0.0,\"#0d0887\"],[0.1111111111111111,\"#46039f\"],[0.2222222222222222,\"#7201a8\"],[0.3333333333333333,\"#9c179e\"],[0.4444444444444444,\"#bd3786\"],[0.5555555555555556,\"#d8576b\"],[0.6666666666666666,\"#ed7953\"],[0.7777777777777778,\"#fb9f3a\"],[0.8888888888888888,\"#fdca26\"],[1.0,\"#f0f921\"]]}],\"choropleth\":[{\"type\":\"choropleth\",\"colorbar\":{\"outlinewidth\":0,\"ticks\":\"\"}}],\"histogram2d\":[{\"type\":\"histogram2d\",\"colorbar\":{\"outlinewidth\":0,\"ticks\":\"\"},\"colorscale\":[[0.0,\"#0d0887\"],[0.1111111111111111,\"#46039f\"],[0.2222222222222222,\"#7201a8\"],[0.3333333333333333,\"#9c179e\"],[0.4444444444444444,\"#bd3786\"],[0.5555555555555556,\"#d8576b\"],[0.6666666666666666,\"#ed7953\"],[0.7777777777777778,\"#fb9f3a\"],[0.8888888888888888,\"#fdca26\"],[1.0,\"#f0f921\"]]}],\"heatmap\":[{\"type\":\"heatmap\",\"colorbar\":{\"outlinewidth\":0,\"ticks\":\"\"},\"colorscale\":[[0.0,\"#0d0887\"],[0.1111111111111111,\"#46039f\"],[0.2222222222222222,\"#7201a8\"],[0.3333333333333333,\"#9c179e\"],[0.4444444444444444,\"#bd3786\"],[0.5555555555555556,\"#d8576b\"],[0.6666666666666666,\"#ed7953\"],[0.7777777777777778,\"#fb9f3a\"],[0.8888888888888888,\"#fdca26\"],[1.0,\"#f0f921\"]]}],\"heatmapgl\":[{\"type\":\"heatmapgl\",\"colorbar\":{\"outlinewidth\":0,\"ticks\":\"\"},\"colorscale\":[[0.0,\"#0d0887\"],[0.1111111111111111,\"#46039f\"],[0.2222222222222222,\"#7201a8\"],[0.3333333333333333,\"#9c179e\"],[0.4444444444444444,\"#bd3786\"],[0.5555555555555556,\"#d8576b\"],[0.6666666666666666,\"#ed7953\"],[0.7777777777777778,\"#fb9f3a\"],[0.8888888888888888,\"#fdca26\"],[1.0,\"#f0f921\"]]}],\"contourcarpet\":[{\"type\":\"contourcarpet\",\"colorbar\":{\"outlinewidth\":0,\"ticks\":\"\"}}],\"contour\":[{\"type\":\"contour\",\"colorbar\":{\"outlinewidth\":0,\"ticks\":\"\"},\"colorscale\":[[0.0,\"#0d0887\"],[0.1111111111111111,\"#46039f\"],[0.2222222222222222,\"#7201a8\"],[0.3333333333333333,\"#9c179e\"],[0.4444444444444444,\"#bd3786\"],[0.5555555555555556,\"#d8576b\"],[0.6666666666666666,\"#ed7953\"],[0.7777777777777778,\"#fb9f3a\"],[0.8888888888888888,\"#fdca26\"],[1.0,\"#f0f921\"]]}],\"surface\":[{\"type\":\"surface\",\"colorbar\":{\"outlinewidth\":0,\"ticks\":\"\"},\"colorscale\":[[0.0,\"#0d0887\"],[0.1111111111111111,\"#46039f\"],[0.2222222222222222,\"#7201a8\"],[0.3333333333333333,\"#9c179e\"],[0.4444444444444444,\"#bd3786\"],[0.5555555555555556,\"#d8576b\"],[0.6666666666666666,\"#ed7953\"],[0.7777777777777778,\"#fb9f3a\"],[0.8888888888888888,\"#fdca26\"],[1.0,\"#f0f921\"]]}],\"mesh3d\":[{\"type\":\"mesh3d\",\"colorbar\":{\"outlinewidth\":0,\"ticks\":\"\"}}],\"scatter\":[{\"fillpattern\":{\"fillmode\":\"overlay\",\"size\":10,\"solidity\":0.2},\"type\":\"scatter\"}],\"parcoords\":[{\"type\":\"parcoords\",\"line\":{\"colorbar\":{\"outlinewidth\":0,\"ticks\":\"\"}}}],\"scatterpolargl\":[{\"type\":\"scatterpolargl\",\"marker\":{\"colorbar\":{\"outlinewidth\":0,\"ticks\":\"\"}}}],\"bar\":[{\"error_x\":{\"color\":\"#2a3f5f\"},\"error_y\":{\"color\":\"#2a3f5f\"},\"marker\":{\"line\":{\"color\":\"#E5ECF6\",\"width\":0.5},\"pattern\":{\"fillmode\":\"overlay\",\"size\":10,\"solidity\":0.2}},\"type\":\"bar\"}],\"scattergeo\":[{\"type\":\"scattergeo\",\"marker\":{\"colorbar\":{\"outlinewidth\":0,\"ticks\":\"\"}}}],\"scatterpolar\":[{\"type\":\"scatterpolar\",\"marker\":{\"colorbar\":{\"outlinewidth\":0,\"ticks\":\"\"}}}],\"histogram\":[{\"marker\":{\"pattern\":{\"fillmode\":\"overlay\",\"size\":10,\"solidity\":0.2}},\"type\":\"histogram\"}],\"scattergl\":[{\"type\":\"scattergl\",\"marker\":{\"colorbar\":{\"outlinewidth\":0,\"ticks\":\"\"}}}],\"scatter3d\":[{\"type\":\"scatter3d\",\"line\":{\"colorbar\":{\"outlinewidth\":0,\"ticks\":\"\"}},\"marker\":{\"colorbar\":{\"outlinewidth\":0,\"ticks\":\"\"}}}],\"scattermapbox\":[{\"type\":\"scattermapbox\",\"marker\":{\"colorbar\":{\"outlinewidth\":0,\"ticks\":\"\"}}}],\"scatterternary\":[{\"type\":\"scatterternary\",\"marker\":{\"colorbar\":{\"outlinewidth\":0,\"ticks\":\"\"}}}],\"scattercarpet\":[{\"type\":\"scattercarpet\",\"marker\":{\"colorbar\":{\"outlinewidth\":0,\"ticks\":\"\"}}}],\"carpet\":[{\"aaxis\":{\"endlinecolor\":\"#2a3f5f\",\"gridcolor\":\"white\",\"linecolor\":\"white\",\"minorgridcolor\":\"white\",\"startlinecolor\":\"#2a3f5f\"},\"baxis\":{\"endlinecolor\":\"#2a3f5f\",\"gridcolor\":\"white\",\"linecolor\":\"white\",\"minorgridcolor\":\"white\",\"startlinecolor\":\"#2a3f5f\"},\"type\":\"carpet\"}],\"table\":[{\"cells\":{\"fill\":{\"color\":\"#EBF0F8\"},\"line\":{\"color\":\"white\"}},\"header\":{\"fill\":{\"color\":\"#C8D4E3\"},\"line\":{\"color\":\"white\"}},\"type\":\"table\"}],\"barpolar\":[{\"marker\":{\"line\":{\"color\":\"#E5ECF6\",\"width\":0.5},\"pattern\":{\"fillmode\":\"overlay\",\"size\":10,\"solidity\":0.2}},\"type\":\"barpolar\"}],\"pie\":[{\"automargin\":true,\"type\":\"pie\"}]},\"layout\":{\"autotypenumbers\":\"strict\",\"colorway\":[\"#636efa\",\"#EF553B\",\"#00cc96\",\"#ab63fa\",\"#FFA15A\",\"#19d3f3\",\"#FF6692\",\"#B6E880\",\"#FF97FF\",\"#FECB52\"],\"font\":{\"color\":\"#2a3f5f\"},\"hovermode\":\"closest\",\"hoverlabel\":{\"align\":\"left\"},\"paper_bgcolor\":\"white\",\"plot_bgcolor\":\"#E5ECF6\",\"polar\":{\"bgcolor\":\"#E5ECF6\",\"angularaxis\":{\"gridcolor\":\"white\",\"linecolor\":\"white\",\"ticks\":\"\"},\"radialaxis\":{\"gridcolor\":\"white\",\"linecolor\":\"white\",\"ticks\":\"\"}},\"ternary\":{\"bgcolor\":\"#E5ECF6\",\"aaxis\":{\"gridcolor\":\"white\",\"linecolor\":\"white\",\"ticks\":\"\"},\"baxis\":{\"gridcolor\":\"white\",\"linecolor\":\"white\",\"ticks\":\"\"},\"caxis\":{\"gridcolor\":\"white\",\"linecolor\":\"white\",\"ticks\":\"\"}},\"coloraxis\":{\"colorbar\":{\"outlinewidth\":0,\"ticks\":\"\"}},\"colorscale\":{\"sequential\":[[0.0,\"#0d0887\"],[0.1111111111111111,\"#46039f\"],[0.2222222222222222,\"#7201a8\"],[0.3333333333333333,\"#9c179e\"],[0.4444444444444444,\"#bd3786\"],[0.5555555555555556,\"#d8576b\"],[0.6666666666666666,\"#ed7953\"],[0.7777777777777778,\"#fb9f3a\"],[0.8888888888888888,\"#fdca26\"],[1.0,\"#f0f921\"]],\"sequentialminus\":[[0.0,\"#0d0887\"],[0.1111111111111111,\"#46039f\"],[0.2222222222222222,\"#7201a8\"],[0.3333333333333333,\"#9c179e\"],[0.4444444444444444,\"#bd3786\"],[0.5555555555555556,\"#d8576b\"],[0.6666666666666666,\"#ed7953\"],[0.7777777777777778,\"#fb9f3a\"],[0.8888888888888888,\"#fdca26\"],[1.0,\"#f0f921\"]],\"diverging\":[[0,\"#8e0152\"],[0.1,\"#c51b7d\"],[0.2,\"#de77ae\"],[0.3,\"#f1b6da\"],[0.4,\"#fde0ef\"],[0.5,\"#f7f7f7\"],[0.6,\"#e6f5d0\"],[0.7,\"#b8e186\"],[0.8,\"#7fbc41\"],[0.9,\"#4d9221\"],[1,\"#276419\"]]},\"xaxis\":{\"gridcolor\":\"white\",\"linecolor\":\"white\",\"ticks\":\"\",\"title\":{\"standoff\":15},\"zerolinecolor\":\"white\",\"automargin\":true,\"zerolinewidth\":2},\"yaxis\":{\"gridcolor\":\"white\",\"linecolor\":\"white\",\"ticks\":\"\",\"title\":{\"standoff\":15},\"zerolinecolor\":\"white\",\"automargin\":true,\"zerolinewidth\":2},\"scene\":{\"xaxis\":{\"backgroundcolor\":\"#E5ECF6\",\"gridcolor\":\"white\",\"linecolor\":\"white\",\"showbackground\":true,\"ticks\":\"\",\"zerolinecolor\":\"white\",\"gridwidth\":2},\"yaxis\":{\"backgroundcolor\":\"#E5ECF6\",\"gridcolor\":\"white\",\"linecolor\":\"white\",\"showbackground\":true,\"ticks\":\"\",\"zerolinecolor\":\"white\",\"gridwidth\":2},\"zaxis\":{\"backgroundcolor\":\"#E5ECF6\",\"gridcolor\":\"white\",\"linecolor\":\"white\",\"showbackground\":true,\"ticks\":\"\",\"zerolinecolor\":\"white\",\"gridwidth\":2}},\"shapedefaults\":{\"line\":{\"color\":\"#2a3f5f\"}},\"annotationdefaults\":{\"arrowcolor\":\"#2a3f5f\",\"arrowhead\":0,\"arrowwidth\":1},\"geo\":{\"bgcolor\":\"white\",\"landcolor\":\"#E5ECF6\",\"subunitcolor\":\"white\",\"showland\":true,\"showlakes\":true,\"lakecolor\":\"white\"},\"title\":{\"x\":0.05},\"mapbox\":{\"style\":\"light\"}}},\"legend\":{\"tracegroupgap\":0},\"title\":{\"text\":\"Locations\"}},                        {\"responsive\": true}                    ).then(function(){\n",
       "                            \n",
       "var gd = document.getElementById('cba1f396-309d-4334-9fec-2576567886cb');\n",
       "var x = new MutationObserver(function (mutations, observer) {{\n",
       "        var display = window.getComputedStyle(gd).display;\n",
       "        if (!display || display === 'none') {{\n",
       "            console.log([gd, 'removed!']);\n",
       "            Plotly.purge(gd);\n",
       "            observer.disconnect();\n",
       "        }}\n",
       "}});\n",
       "\n",
       "// Listen for the removal of the full notebook cells\n",
       "var notebookContainer = gd.closest('#notebook-container');\n",
       "if (notebookContainer) {{\n",
       "    x.observe(notebookContainer, {childList: true});\n",
       "}}\n",
       "\n",
       "// Listen for the clearing of the current output cell\n",
       "var outputEl = gd.closest('.output');\n",
       "if (outputEl) {{\n",
       "    x.observe(outputEl, {childList: true});\n",
       "}}\n",
       "\n",
       "                        })                };                });            </script>        </div>"
      ]
     },
     "metadata": {},
     "output_type": "display_data"
    }
   ],
   "source": [
    "locations = df.groupby(['HQ']).size().to_frame('Companies')\n",
    "# locations.reset_index()\n",
    "locations\n",
    "fig_locations = px.pie(locations, values='Companies', names=locations.index, title='Locations')\n",
    "fig_locations.update_traces(textposition='inside', textinfo='percent+label')\n",
    "fig_locations.show()"
   ]
  },
  {
   "cell_type": "code",
   "execution_count": 151,
   "id": "94935385",
   "metadata": {},
   "outputs": [
    {
     "data": {
      "application/vnd.plotly.v1+json": {
       "config": {
        "plotlyServerURL": "https://plot.ly"
       },
       "data": [
        {
         "hovertemplate": "<b>%{hovertext}</b><br><br>Sector=Software<br>Year of launch=%{x}<br>Number=%{marker.size}<extra></extra>",
         "hovertext": [
          "Software",
          "Software",
          "Software",
          "Software",
          "Software",
          "Software",
          "Software"
         ],
         "legendgroup": "Software",
         "marker": {
          "color": "#636efa",
          "size": [
           1,
           1,
           1,
           2,
           3,
           1,
           1
          ],
          "sizemode": "area",
          "sizeref": 0.0125,
          "symbol": "circle"
         },
         "mode": "markers",
         "name": "Software",
         "orientation": "v",
         "showlegend": true,
         "type": "scatter",
         "x": [
          2003,
          2010,
          2011,
          2013,
          2017,
          2018,
          2019
         ],
         "xaxis": "x",
         "y": [
          1,
          1,
          1,
          2,
          3,
          1,
          1
         ],
         "yaxis": "y"
        },
        {
         "hovertemplate": "<b>%{hovertext}</b><br><br>Sector=Conservation<br>Year of launch=%{x}<br>Number=%{marker.size}<extra></extra>",
         "hovertext": [
          "Conservation",
          "Conservation"
         ],
         "legendgroup": "Conservation",
         "marker": {
          "color": "#EF553B",
          "size": [
           1,
           1
          ],
          "sizemode": "area",
          "sizeref": 0.0125,
          "symbol": "circle"
         },
         "mode": "markers",
         "name": "Conservation",
         "orientation": "v",
         "showlegend": true,
         "type": "scatter",
         "x": [
          2006,
          2015
         ],
         "xaxis": "x",
         "y": [
          1,
          1
         ],
         "yaxis": "y"
        },
        {
         "hovertemplate": "<b>%{hovertext}</b><br><br>Sector=Fintech<br>Year of launch=%{x}<br>Number=%{marker.size}<extra></extra>",
         "hovertext": [
          "Fintech",
          "Fintech",
          "Fintech",
          "Fintech",
          "Fintech",
          "Fintech",
          "Fintech",
          "Fintech",
          "Fintech",
          "Fintech",
          "Fintech",
          "Fintech",
          "Fintech",
          "Fintech"
         ],
         "legendgroup": "Fintech",
         "marker": {
          "color": "#00cc96",
          "size": [
           1,
           1,
           1,
           4,
           9,
           3,
           10,
           13,
           9,
           12,
           12,
           20,
           6,
           4
          ],
          "sizemode": "area",
          "sizeref": 0.0125,
          "symbol": "circle"
         },
         "mode": "markers",
         "name": "Fintech",
         "orientation": "v",
         "showlegend": true,
         "type": "scatter",
         "x": [
          2007,
          2009,
          2011,
          2012,
          2013,
          2014,
          2015,
          2016,
          2017,
          2018,
          2019,
          2020,
          2021,
          2022
         ],
         "xaxis": "x",
         "y": [
          1,
          1,
          1,
          4,
          9,
          3,
          10,
          13,
          9,
          12,
          12,
          20,
          6,
          4
         ],
         "yaxis": "y"
        },
        {
         "hovertemplate": "<b>%{hovertext}</b><br><br>Sector=Legal-tech<br>Year of launch=%{x}<br>Number=%{marker.size}<extra></extra>",
         "hovertext": [
          "Legal-tech",
          "Legal-tech"
         ],
         "legendgroup": "Legal-tech",
         "marker": {
          "color": "#ab63fa",
          "size": [
           1,
           1
          ],
          "sizemode": "area",
          "sizeref": 0.0125,
          "symbol": "circle"
         },
         "mode": "markers",
         "name": "Legal-tech",
         "orientation": "v",
         "showlegend": true,
         "type": "scatter",
         "x": [
          2007,
          2013
         ],
         "xaxis": "x",
         "y": [
          1,
          1
         ],
         "yaxis": "y"
        },
        {
         "hovertemplate": "<b>%{hovertext}</b><br><br>Sector=E-commerce and retail-tech<br>Year of launch=%{x}<br>Number=%{marker.size}<extra></extra>",
         "hovertext": [
          "E-commerce and retail-tech",
          "E-commerce and retail-tech",
          "E-commerce and retail-tech",
          "E-commerce and retail-tech",
          "E-commerce and retail-tech",
          "E-commerce and retail-tech",
          "E-commerce and retail-tech",
          "E-commerce and retail-tech",
          "E-commerce and retail-tech",
          "E-commerce and retail-tech",
          "E-commerce and retail-tech",
          "E-commerce and retail-tech"
         ],
         "legendgroup": "E-commerce and retail-tech",
         "marker": {
          "color": "#FFA15A",
          "size": [
           1,
           2,
           1,
           1,
           2,
           1,
           1,
           2,
           4,
           5,
           9,
           1
          ],
          "sizemode": "area",
          "sizeref": 0.0125,
          "symbol": "circle"
         },
         "mode": "markers",
         "name": "E-commerce and retail-tech",
         "orientation": "v",
         "showlegend": true,
         "type": "scatter",
         "x": [
          2008,
          2010,
          2011,
          2012,
          2013,
          2015,
          2016,
          2017,
          2018,
          2020,
          2021,
          2022
         ],
         "xaxis": "x",
         "y": [
          1,
          2,
          1,
          1,
          2,
          1,
          1,
          2,
          4,
          5,
          9,
          1
         ],
         "yaxis": "y"
        },
        {
         "hovertemplate": "<b>%{hovertext}</b><br><br>Sector=E-health<br>Year of launch=%{x}<br>Number=%{marker.size}<extra></extra>",
         "hovertext": [
          "E-health",
          "E-health",
          "E-health",
          "E-health",
          "E-health",
          "E-health",
          "E-health",
          "E-health",
          "E-health"
         ],
         "legendgroup": "E-health",
         "marker": {
          "color": "#19d3f3",
          "size": [
           1,
           2,
           5,
           4,
           6,
           8,
           4,
           2,
           5
          ],
          "sizemode": "area",
          "sizeref": 0.0125,
          "symbol": "circle"
         },
         "mode": "markers",
         "name": "E-health",
         "orientation": "v",
         "showlegend": true,
         "type": "scatter",
         "x": [
          2009,
          2012,
          2014,
          2015,
          2016,
          2017,
          2018,
          2019,
          2020
         ],
         "xaxis": "x",
         "y": [
          1,
          2,
          5,
          4,
          6,
          8,
          4,
          2,
          5
         ],
         "yaxis": "y"
        },
        {
         "hovertemplate": "<b>%{hovertext}</b><br><br>Sector=Communications<br>Year of launch=%{x}<br>Number=%{marker.size}<extra></extra>",
         "hovertext": [
          "Communications"
         ],
         "legendgroup": "Communications",
         "marker": {
          "color": "#FF6692",
          "size": [
           1
          ],
          "sizemode": "area",
          "sizeref": 0.0125,
          "symbol": "circle"
         },
         "mode": "markers",
         "name": "Communications",
         "orientation": "v",
         "showlegend": true,
         "type": "scatter",
         "x": [
          2010
         ],
         "xaxis": "x",
         "y": [
          1
         ],
         "yaxis": "y"
        },
        {
         "hovertemplate": "<b>%{hovertext}</b><br><br>Sector=Recruitment and HR<br>Year of launch=%{x}<br>Number=%{marker.size}<extra></extra>",
         "hovertext": [
          "Recruitment and HR",
          "Recruitment and HR",
          "Recruitment and HR",
          "Recruitment and HR",
          "Recruitment and HR",
          "Recruitment and HR",
          "Recruitment and HR",
          "Recruitment and HR",
          "Recruitment and HR"
         ],
         "legendgroup": "Recruitment and HR",
         "marker": {
          "color": "#B6E880",
          "size": [
           1,
           2,
           1,
           1,
           3,
           1,
           6,
           1,
           3
          ],
          "sizemode": "area",
          "sizeref": 0.0125,
          "symbol": "circle"
         },
         "mode": "markers",
         "name": "Recruitment and HR",
         "orientation": "v",
         "showlegend": true,
         "type": "scatter",
         "x": [
          2010,
          2012,
          2013,
          2014,
          2015,
          2016,
          2017,
          2019,
          2020
         ],
         "xaxis": "x",
         "y": [
          1,
          2,
          1,
          1,
          3,
          1,
          6,
          1,
          3
         ],
         "yaxis": "y"
        },
        {
         "hovertemplate": "<b>%{hovertext}</b><br><br>Sector=Agri-tech<br>Year of launch=%{x}<br>Number=%{marker.size}<extra></extra>",
         "hovertext": [
          "Agri-tech",
          "Agri-tech",
          "Agri-tech",
          "Agri-tech",
          "Agri-tech",
          "Agri-tech",
          "Agri-tech",
          "Agri-tech",
          "Agri-tech",
          "Agri-tech",
          "Agri-tech",
          "Agri-tech"
         ],
         "legendgroup": "Agri-tech",
         "marker": {
          "color": "#FF97FF",
          "size": [
           2,
           1,
           4,
           3,
           4,
           5,
           8,
           2,
           2,
           3,
           1,
           1
          ],
          "sizemode": "area",
          "sizeref": 0.0125,
          "symbol": "circle"
         },
         "mode": "markers",
         "name": "Agri-tech",
         "orientation": "v",
         "showlegend": true,
         "type": "scatter",
         "x": [
          2011,
          2012,
          2013,
          2014,
          2015,
          2016,
          2017,
          2018,
          2019,
          2020,
          2021,
          2022
         ],
         "xaxis": "x",
         "y": [
          2,
          1,
          4,
          3,
          4,
          5,
          8,
          2,
          2,
          3,
          1,
          1
         ],
         "yaxis": "y"
        },
        {
         "hovertemplate": "<b>%{hovertext}</b><br><br>Sector=Ed-tech<br>Year of launch=%{x}<br>Number=%{marker.size}<extra></extra>",
         "hovertext": [
          "Ed-tech",
          "Ed-tech",
          "Ed-tech",
          "Ed-tech",
          "Ed-tech",
          "Ed-tech",
          "Ed-tech",
          "Ed-tech",
          "Ed-tech"
         ],
         "legendgroup": "Ed-tech",
         "marker": {
          "color": "#FECB52",
          "size": [
           2,
           2,
           1,
           1,
           5,
           3,
           1,
           2,
           1
          ],
          "sizemode": "area",
          "sizeref": 0.0125,
          "symbol": "circle"
         },
         "mode": "markers",
         "name": "Ed-tech",
         "orientation": "v",
         "showlegend": true,
         "type": "scatter",
         "x": [
          2012,
          2013,
          2014,
          2015,
          2016,
          2019,
          2020,
          2021,
          2022
         ],
         "xaxis": "x",
         "y": [
          2,
          2,
          1,
          1,
          5,
          3,
          1,
          2,
          1
         ],
         "yaxis": "y"
        },
        {
         "hovertemplate": "<b>%{hovertext}</b><br><br>Sector=Energy<br>Year of launch=%{x}<br>Number=%{marker.size}<extra></extra>",
         "hovertext": [
          "Energy",
          "Energy",
          "Energy",
          "Energy",
          "Energy",
          "Energy"
         ],
         "legendgroup": "Energy",
         "marker": {
          "color": "#636efa",
          "size": [
           1,
           1,
           1,
           2,
           1,
           2
          ],
          "sizemode": "area",
          "sizeref": 0.0125,
          "symbol": "circle"
         },
         "mode": "markers",
         "name": "Energy",
         "orientation": "v",
         "showlegend": true,
         "type": "scatter",
         "x": [
          2012,
          2015,
          2016,
          2017,
          2018,
          2022
         ],
         "xaxis": "x",
         "y": [
          1,
          1,
          1,
          2,
          1,
          2
         ],
         "yaxis": "y"
        },
        {
         "hovertemplate": "<b>%{hovertext}</b><br><br>Sector=Mobility<br>Year of launch=%{x}<br>Number=%{marker.size}<extra></extra>",
         "hovertext": [
          "Mobility",
          "Mobility",
          "Mobility",
          "Mobility",
          "Mobility"
         ],
         "legendgroup": "Mobility",
         "marker": {
          "color": "#EF553B",
          "size": [
           2,
           2,
           1,
           2,
           1
          ],
          "sizemode": "area",
          "sizeref": 0.0125,
          "symbol": "circle"
         },
         "mode": "markers",
         "name": "Mobility",
         "orientation": "v",
         "showlegend": true,
         "type": "scatter",
         "x": [
          2012,
          2017,
          2019,
          2020,
          2021
         ],
         "xaxis": "x",
         "y": [
          2,
          2,
          1,
          2,
          1
         ],
         "yaxis": "y"
        },
        {
         "hovertemplate": "<b>%{hovertext}</b><br><br>Sector=Tourism<br>Year of launch=%{x}<br>Number=%{marker.size}<extra></extra>",
         "hovertext": [
          "Tourism",
          "Tourism",
          "Tourism"
         ],
         "legendgroup": "Tourism",
         "marker": {
          "color": "#00cc96",
          "size": [
           1,
           1,
           1
          ],
          "sizemode": "area",
          "sizeref": 0.0125,
          "symbol": "circle"
         },
         "mode": "markers",
         "name": "Tourism",
         "orientation": "v",
         "showlegend": true,
         "type": "scatter",
         "x": [
          2012,
          2017,
          2022
         ],
         "xaxis": "x",
         "y": [
          1,
          1,
          1
         ],
         "yaxis": "y"
        },
        {
         "hovertemplate": "<b>%{hovertext}</b><br><br>Sector=Cloud<br>Year of launch=%{x}<br>Number=%{marker.size}<extra></extra>",
         "hovertext": [
          "Cloud",
          "Cloud",
          "Cloud"
         ],
         "legendgroup": "Cloud",
         "marker": {
          "color": "#ab63fa",
          "size": [
           1,
           2,
           1
          ],
          "sizemode": "area",
          "sizeref": 0.0125,
          "symbol": "circle"
         },
         "mode": "markers",
         "name": "Cloud",
         "orientation": "v",
         "showlegend": true,
         "type": "scatter",
         "x": [
          2013,
          2015,
          2018
         ],
         "xaxis": "x",
         "y": [
          1,
          2,
          1
         ],
         "yaxis": "y"
        },
        {
         "hovertemplate": "<b>%{hovertext}</b><br><br>Sector=Entertainment<br>Year of launch=%{x}<br>Number=%{marker.size}<extra></extra>",
         "hovertext": [
          "Entertainment",
          "Entertainment",
          "Entertainment",
          "Entertainment"
         ],
         "legendgroup": "Entertainment",
         "marker": {
          "color": "#FFA15A",
          "size": [
           1,
           1,
           1,
           1
          ],
          "sizemode": "area",
          "sizeref": 0.0125,
          "symbol": "circle"
         },
         "mode": "markers",
         "name": "Entertainment",
         "orientation": "v",
         "showlegend": true,
         "type": "scatter",
         "x": [
          2013,
          2014,
          2018,
          2019
         ],
         "xaxis": "x",
         "y": [
          1,
          1,
          1,
          1
         ],
         "yaxis": "y"
        },
        {
         "hovertemplate": "<b>%{hovertext}</b><br><br>Sector=AI/IoT<br>Year of launch=%{x}<br>Number=%{marker.size}<extra></extra>",
         "hovertext": [
          "AI/IoT",
          "AI/IoT",
          "AI/IoT",
          "AI/IoT"
         ],
         "legendgroup": "AI/IoT",
         "marker": {
          "color": "#19d3f3",
          "size": [
           1,
           2,
           1,
           1
          ],
          "sizemode": "area",
          "sizeref": 0.0125,
          "symbol": "circle"
         },
         "mode": "markers",
         "name": "AI/IoT",
         "orientation": "v",
         "showlegend": true,
         "type": "scatter",
         "x": [
          2014,
          2015,
          2016,
          2021
         ],
         "xaxis": "x",
         "y": [
          1,
          2,
          1,
          1
         ],
         "yaxis": "y"
        },
        {
         "hovertemplate": "<b>%{hovertext}</b><br><br>Sector=Connectivity<br>Year of launch=%{x}<br>Number=%{marker.size}<extra></extra>",
         "hovertext": [
          "Connectivity",
          "Connectivity"
         ],
         "legendgroup": "Connectivity",
         "marker": {
          "color": "#FF6692",
          "size": [
           1,
           1
          ],
          "sizemode": "area",
          "sizeref": 0.0125,
          "symbol": "circle"
         },
         "mode": "markers",
         "name": "Connectivity",
         "orientation": "v",
         "showlegend": true,
         "type": "scatter",
         "x": [
          2014,
          2019
         ],
         "xaxis": "x",
         "y": [
          1,
          1
         ],
         "yaxis": "y"
        },
        {
         "hovertemplate": "<b>%{hovertext}</b><br><br>Sector=Logistics<br>Year of launch=%{x}<br>Number=%{marker.size}<extra></extra>",
         "hovertext": [
          "Logistics",
          "Logistics",
          "Logistics",
          "Logistics",
          "Logistics",
          "Logistics",
          "Logistics"
         ],
         "legendgroup": "Logistics",
         "marker": {
          "color": "#B6E880",
          "size": [
           2,
           2,
           4,
           3,
           3,
           1,
           1
          ],
          "sizemode": "area",
          "sizeref": 0.0125,
          "symbol": "circle"
         },
         "mode": "markers",
         "name": "Logistics",
         "orientation": "v",
         "showlegend": true,
         "type": "scatter",
         "x": [
          2014,
          2015,
          2016,
          2018,
          2019,
          2020,
          2022
         ],
         "xaxis": "x",
         "y": [
          2,
          2,
          4,
          3,
          3,
          1,
          1
         ],
         "yaxis": "y"
        },
        {
         "hovertemplate": "<b>%{hovertext}</b><br><br>Sector=Marketing<br>Year of launch=%{x}<br>Number=%{marker.size}<extra></extra>",
         "hovertext": [
          "Marketing",
          "Marketing",
          "Marketing",
          "Marketing"
         ],
         "legendgroup": "Marketing",
         "marker": {
          "color": "#FF97FF",
          "size": [
           1,
           1,
           4,
           1
          ],
          "sizemode": "area",
          "sizeref": 0.0125,
          "symbol": "circle"
         },
         "mode": "markers",
         "name": "Marketing",
         "orientation": "v",
         "showlegend": true,
         "type": "scatter",
         "x": [
          2014,
          2018,
          2019,
          2021
         ],
         "xaxis": "x",
         "y": [
          1,
          1,
          4,
          1
         ],
         "yaxis": "y"
        },
        {
         "hovertemplate": "<b>%{hovertext}</b><br><br>Sector=Trade tech<br>Year of launch=%{x}<br>Number=%{marker.size}<extra></extra>",
         "hovertext": [
          "Trade tech",
          "Trade tech"
         ],
         "legendgroup": "Trade tech",
         "marker": {
          "color": "#FECB52",
          "size": [
           1,
           1
          ],
          "sizemode": "area",
          "sizeref": 0.0125,
          "symbol": "circle"
         },
         "mode": "markers",
         "name": "Trade tech",
         "orientation": "v",
         "showlegend": true,
         "type": "scatter",
         "x": [
          2014,
          2016
         ],
         "xaxis": "x",
         "y": [
          1,
          1
         ],
         "yaxis": "y"
        },
        {
         "hovertemplate": "<b>%{hovertext}</b><br><br>Sector=Waste management<br>Year of launch=%{x}<br>Number=%{marker.size}<extra></extra>",
         "hovertext": [
          "Waste management",
          "Waste management"
         ],
         "legendgroup": "Waste management",
         "marker": {
          "color": "#636efa",
          "size": [
           1,
           1
          ],
          "sizemode": "area",
          "sizeref": 0.0125,
          "symbol": "circle"
         },
         "mode": "markers",
         "name": "Waste management",
         "orientation": "v",
         "showlegend": true,
         "type": "scatter",
         "x": [
          2014,
          2017
         ],
         "xaxis": "x",
         "y": [
          1,
          1
         ],
         "yaxis": "y"
        },
        {
         "hovertemplate": "<b>%{hovertext}</b><br><br>Sector=Field management<br>Year of launch=%{x}<br>Number=%{marker.size}<extra></extra>",
         "hovertext": [
          "Field management"
         ],
         "legendgroup": "Field management",
         "marker": {
          "color": "#EF553B",
          "size": [
           1
          ],
          "sizemode": "area",
          "sizeref": 0.0125,
          "symbol": "circle"
         },
         "mode": "markers",
         "name": "Field management",
         "orientation": "v",
         "showlegend": true,
         "type": "scatter",
         "x": [
          2015
         ],
         "xaxis": "x",
         "y": [
          1
         ],
         "yaxis": "y"
        },
        {
         "hovertemplate": "<b>%{hovertext}</b><br><br>Sector=Prop-tech<br>Year of launch=%{x}<br>Number=%{marker.size}<extra></extra>",
         "hovertext": [
          "Prop-tech",
          "Prop-tech"
         ],
         "legendgroup": "Prop-tech",
         "marker": {
          "color": "#00cc96",
          "size": [
           1,
           3
          ],
          "sizemode": "area",
          "sizeref": 0.0125,
          "symbol": "circle"
         },
         "mode": "markers",
         "name": "Prop-tech",
         "orientation": "v",
         "showlegend": true,
         "type": "scatter",
         "x": [
          2015,
          2020
         ],
         "xaxis": "x",
         "y": [
          1,
          3
         ],
         "yaxis": "y"
        },
        {
         "hovertemplate": "<b>%{hovertext}</b><br><br>Sector=VR<br>Year of launch=%{x}<br>Number=%{marker.size}<extra></extra>",
         "hovertext": [
          "VR"
         ],
         "legendgroup": "VR",
         "marker": {
          "color": "#ab63fa",
          "size": [
           1
          ],
          "sizemode": "area",
          "sizeref": 0.0125,
          "symbol": "circle"
         },
         "mode": "markers",
         "name": "VR",
         "orientation": "v",
         "showlegend": true,
         "type": "scatter",
         "x": [
          2015
         ],
         "xaxis": "x",
         "y": [
          1
         ],
         "yaxis": "y"
        },
        {
         "hovertemplate": "<b>%{hovertext}</b><br><br>Sector=Cybersecurity<br>Year of launch=%{x}<br>Number=%{marker.size}<extra></extra>",
         "hovertext": [
          "Cybersecurity"
         ],
         "legendgroup": "Cybersecurity",
         "marker": {
          "color": "#FFA15A",
          "size": [
           1
          ],
          "sizemode": "area",
          "sizeref": 0.0125,
          "symbol": "circle"
         },
         "mode": "markers",
         "name": "Cybersecurity",
         "orientation": "v",
         "showlegend": true,
         "type": "scatter",
         "x": [
          2016
         ],
         "xaxis": "x",
         "y": [
          1
         ],
         "yaxis": "y"
        },
        {
         "hovertemplate": "<b>%{hovertext}</b><br><br>Sector=Drones<br>Year of launch=%{x}<br>Number=%{marker.size}<extra></extra>",
         "hovertext": [
          "Drones"
         ],
         "legendgroup": "Drones",
         "marker": {
          "color": "#19d3f3",
          "size": [
           1
          ],
          "sizemode": "area",
          "sizeref": 0.0125,
          "symbol": "circle"
         },
         "mode": "markers",
         "name": "Drones",
         "orientation": "v",
         "showlegend": true,
         "type": "scatter",
         "x": [
          2016
         ],
         "xaxis": "x",
         "y": [
          1
         ],
         "yaxis": "y"
        },
        {
         "hovertemplate": "<b>%{hovertext}</b><br><br>Sector=Water management<br>Year of launch=%{x}<br>Number=%{marker.size}<extra></extra>",
         "hovertext": [
          "Water management"
         ],
         "legendgroup": "Water management",
         "marker": {
          "color": "#FF6692",
          "size": [
           1
          ],
          "sizemode": "area",
          "sizeref": 0.0125,
          "symbol": "circle"
         },
         "mode": "markers",
         "name": "Water management",
         "orientation": "v",
         "showlegend": true,
         "type": "scatter",
         "x": [
          2017
         ],
         "xaxis": "x",
         "y": [
          1
         ],
         "yaxis": "y"
        },
        {
         "hovertemplate": "<b>%{hovertext}</b><br><br>Sector=3D printing<br>Year of launch=%{x}<br>Number=%{marker.size}<extra></extra>",
         "hovertext": [
          "3D printing"
         ],
         "legendgroup": "3D printing",
         "marker": {
          "color": "#B6E880",
          "size": [
           1
          ],
          "sizemode": "area",
          "sizeref": 0.0125,
          "symbol": "circle"
         },
         "mode": "markers",
         "name": "3D printing",
         "orientation": "v",
         "showlegend": true,
         "type": "scatter",
         "x": [
          2019
         ],
         "xaxis": "x",
         "y": [
          1
         ],
         "yaxis": "y"
        },
        {
         "hovertemplate": "<b>%{hovertext}</b><br><br>Sector=Construction<br>Year of launch=%{x}<br>Number=%{marker.size}<extra></extra>",
         "hovertext": [
          "Construction",
          "Construction"
         ],
         "legendgroup": "Construction",
         "marker": {
          "color": "#FF97FF",
          "size": [
           1,
           1
          ],
          "sizemode": "area",
          "sizeref": 0.0125,
          "symbol": "circle"
         },
         "mode": "markers",
         "name": "Construction",
         "orientation": "v",
         "showlegend": true,
         "type": "scatter",
         "x": [
          2019,
          2022
         ],
         "xaxis": "x",
         "y": [
          1,
          1
         ],
         "yaxis": "y"
        },
        {
         "hovertemplate": "<b>%{hovertext}</b><br><br>Sector=Digital identity<br>Year of launch=%{x}<br>Number=%{marker.size}<extra></extra>",
         "hovertext": [
          "Digital identity",
          "Digital identity"
         ],
         "legendgroup": "Digital identity",
         "marker": {
          "color": "#FECB52",
          "size": [
           2,
           2
          ],
          "sizemode": "area",
          "sizeref": 0.0125,
          "symbol": "circle"
         },
         "mode": "markers",
         "name": "Digital identity",
         "orientation": "v",
         "showlegend": true,
         "type": "scatter",
         "x": [
          2019,
          2021
         ],
         "xaxis": "x",
         "y": [
          2,
          2
         ],
         "yaxis": "y"
        },
        {
         "hovertemplate": "<b>%{hovertext}</b><br><br>Sector=Procurement<br>Year of launch=%{x}<br>Number=%{marker.size}<extra></extra>",
         "hovertext": [
          "Procurement"
         ],
         "legendgroup": "Procurement",
         "marker": {
          "color": "#636efa",
          "size": [
           1
          ],
          "sizemode": "area",
          "sizeref": 0.0125,
          "symbol": "circle"
         },
         "mode": "markers",
         "name": "Procurement",
         "orientation": "v",
         "showlegend": true,
         "type": "scatter",
         "x": [
          2019
         ],
         "xaxis": "x",
         "y": [
          1
         ],
         "yaxis": "y"
        }
       ],
       "layout": {
        "legend": {
         "itemsizing": "constant",
         "title": {
          "text": "Sector"
         },
         "tracegroupgap": 0
        },
        "margin": {
         "t": 60
        },
        "template": {
         "data": {
          "bar": [
           {
            "error_x": {
             "color": "#2a3f5f"
            },
            "error_y": {
             "color": "#2a3f5f"
            },
            "marker": {
             "line": {
              "color": "#E5ECF6",
              "width": 0.5
             },
             "pattern": {
              "fillmode": "overlay",
              "size": 10,
              "solidity": 0.2
             }
            },
            "type": "bar"
           }
          ],
          "barpolar": [
           {
            "marker": {
             "line": {
              "color": "#E5ECF6",
              "width": 0.5
             },
             "pattern": {
              "fillmode": "overlay",
              "size": 10,
              "solidity": 0.2
             }
            },
            "type": "barpolar"
           }
          ],
          "carpet": [
           {
            "aaxis": {
             "endlinecolor": "#2a3f5f",
             "gridcolor": "white",
             "linecolor": "white",
             "minorgridcolor": "white",
             "startlinecolor": "#2a3f5f"
            },
            "baxis": {
             "endlinecolor": "#2a3f5f",
             "gridcolor": "white",
             "linecolor": "white",
             "minorgridcolor": "white",
             "startlinecolor": "#2a3f5f"
            },
            "type": "carpet"
           }
          ],
          "choropleth": [
           {
            "colorbar": {
             "outlinewidth": 0,
             "ticks": ""
            },
            "type": "choropleth"
           }
          ],
          "contour": [
           {
            "colorbar": {
             "outlinewidth": 0,
             "ticks": ""
            },
            "colorscale": [
             [
              0,
              "#0d0887"
             ],
             [
              0.1111111111111111,
              "#46039f"
             ],
             [
              0.2222222222222222,
              "#7201a8"
             ],
             [
              0.3333333333333333,
              "#9c179e"
             ],
             [
              0.4444444444444444,
              "#bd3786"
             ],
             [
              0.5555555555555556,
              "#d8576b"
             ],
             [
              0.6666666666666666,
              "#ed7953"
             ],
             [
              0.7777777777777778,
              "#fb9f3a"
             ],
             [
              0.8888888888888888,
              "#fdca26"
             ],
             [
              1,
              "#f0f921"
             ]
            ],
            "type": "contour"
           }
          ],
          "contourcarpet": [
           {
            "colorbar": {
             "outlinewidth": 0,
             "ticks": ""
            },
            "type": "contourcarpet"
           }
          ],
          "heatmap": [
           {
            "colorbar": {
             "outlinewidth": 0,
             "ticks": ""
            },
            "colorscale": [
             [
              0,
              "#0d0887"
             ],
             [
              0.1111111111111111,
              "#46039f"
             ],
             [
              0.2222222222222222,
              "#7201a8"
             ],
             [
              0.3333333333333333,
              "#9c179e"
             ],
             [
              0.4444444444444444,
              "#bd3786"
             ],
             [
              0.5555555555555556,
              "#d8576b"
             ],
             [
              0.6666666666666666,
              "#ed7953"
             ],
             [
              0.7777777777777778,
              "#fb9f3a"
             ],
             [
              0.8888888888888888,
              "#fdca26"
             ],
             [
              1,
              "#f0f921"
             ]
            ],
            "type": "heatmap"
           }
          ],
          "heatmapgl": [
           {
            "colorbar": {
             "outlinewidth": 0,
             "ticks": ""
            },
            "colorscale": [
             [
              0,
              "#0d0887"
             ],
             [
              0.1111111111111111,
              "#46039f"
             ],
             [
              0.2222222222222222,
              "#7201a8"
             ],
             [
              0.3333333333333333,
              "#9c179e"
             ],
             [
              0.4444444444444444,
              "#bd3786"
             ],
             [
              0.5555555555555556,
              "#d8576b"
             ],
             [
              0.6666666666666666,
              "#ed7953"
             ],
             [
              0.7777777777777778,
              "#fb9f3a"
             ],
             [
              0.8888888888888888,
              "#fdca26"
             ],
             [
              1,
              "#f0f921"
             ]
            ],
            "type": "heatmapgl"
           }
          ],
          "histogram": [
           {
            "marker": {
             "pattern": {
              "fillmode": "overlay",
              "size": 10,
              "solidity": 0.2
             }
            },
            "type": "histogram"
           }
          ],
          "histogram2d": [
           {
            "colorbar": {
             "outlinewidth": 0,
             "ticks": ""
            },
            "colorscale": [
             [
              0,
              "#0d0887"
             ],
             [
              0.1111111111111111,
              "#46039f"
             ],
             [
              0.2222222222222222,
              "#7201a8"
             ],
             [
              0.3333333333333333,
              "#9c179e"
             ],
             [
              0.4444444444444444,
              "#bd3786"
             ],
             [
              0.5555555555555556,
              "#d8576b"
             ],
             [
              0.6666666666666666,
              "#ed7953"
             ],
             [
              0.7777777777777778,
              "#fb9f3a"
             ],
             [
              0.8888888888888888,
              "#fdca26"
             ],
             [
              1,
              "#f0f921"
             ]
            ],
            "type": "histogram2d"
           }
          ],
          "histogram2dcontour": [
           {
            "colorbar": {
             "outlinewidth": 0,
             "ticks": ""
            },
            "colorscale": [
             [
              0,
              "#0d0887"
             ],
             [
              0.1111111111111111,
              "#46039f"
             ],
             [
              0.2222222222222222,
              "#7201a8"
             ],
             [
              0.3333333333333333,
              "#9c179e"
             ],
             [
              0.4444444444444444,
              "#bd3786"
             ],
             [
              0.5555555555555556,
              "#d8576b"
             ],
             [
              0.6666666666666666,
              "#ed7953"
             ],
             [
              0.7777777777777778,
              "#fb9f3a"
             ],
             [
              0.8888888888888888,
              "#fdca26"
             ],
             [
              1,
              "#f0f921"
             ]
            ],
            "type": "histogram2dcontour"
           }
          ],
          "mesh3d": [
           {
            "colorbar": {
             "outlinewidth": 0,
             "ticks": ""
            },
            "type": "mesh3d"
           }
          ],
          "parcoords": [
           {
            "line": {
             "colorbar": {
              "outlinewidth": 0,
              "ticks": ""
             }
            },
            "type": "parcoords"
           }
          ],
          "pie": [
           {
            "automargin": true,
            "type": "pie"
           }
          ],
          "scatter": [
           {
            "fillpattern": {
             "fillmode": "overlay",
             "size": 10,
             "solidity": 0.2
            },
            "type": "scatter"
           }
          ],
          "scatter3d": [
           {
            "line": {
             "colorbar": {
              "outlinewidth": 0,
              "ticks": ""
             }
            },
            "marker": {
             "colorbar": {
              "outlinewidth": 0,
              "ticks": ""
             }
            },
            "type": "scatter3d"
           }
          ],
          "scattercarpet": [
           {
            "marker": {
             "colorbar": {
              "outlinewidth": 0,
              "ticks": ""
             }
            },
            "type": "scattercarpet"
           }
          ],
          "scattergeo": [
           {
            "marker": {
             "colorbar": {
              "outlinewidth": 0,
              "ticks": ""
             }
            },
            "type": "scattergeo"
           }
          ],
          "scattergl": [
           {
            "marker": {
             "colorbar": {
              "outlinewidth": 0,
              "ticks": ""
             }
            },
            "type": "scattergl"
           }
          ],
          "scattermapbox": [
           {
            "marker": {
             "colorbar": {
              "outlinewidth": 0,
              "ticks": ""
             }
            },
            "type": "scattermapbox"
           }
          ],
          "scatterpolar": [
           {
            "marker": {
             "colorbar": {
              "outlinewidth": 0,
              "ticks": ""
             }
            },
            "type": "scatterpolar"
           }
          ],
          "scatterpolargl": [
           {
            "marker": {
             "colorbar": {
              "outlinewidth": 0,
              "ticks": ""
             }
            },
            "type": "scatterpolargl"
           }
          ],
          "scatterternary": [
           {
            "marker": {
             "colorbar": {
              "outlinewidth": 0,
              "ticks": ""
             }
            },
            "type": "scatterternary"
           }
          ],
          "surface": [
           {
            "colorbar": {
             "outlinewidth": 0,
             "ticks": ""
            },
            "colorscale": [
             [
              0,
              "#0d0887"
             ],
             [
              0.1111111111111111,
              "#46039f"
             ],
             [
              0.2222222222222222,
              "#7201a8"
             ],
             [
              0.3333333333333333,
              "#9c179e"
             ],
             [
              0.4444444444444444,
              "#bd3786"
             ],
             [
              0.5555555555555556,
              "#d8576b"
             ],
             [
              0.6666666666666666,
              "#ed7953"
             ],
             [
              0.7777777777777778,
              "#fb9f3a"
             ],
             [
              0.8888888888888888,
              "#fdca26"
             ],
             [
              1,
              "#f0f921"
             ]
            ],
            "type": "surface"
           }
          ],
          "table": [
           {
            "cells": {
             "fill": {
              "color": "#EBF0F8"
             },
             "line": {
              "color": "white"
             }
            },
            "header": {
             "fill": {
              "color": "#C8D4E3"
             },
             "line": {
              "color": "white"
             }
            },
            "type": "table"
           }
          ]
         },
         "layout": {
          "annotationdefaults": {
           "arrowcolor": "#2a3f5f",
           "arrowhead": 0,
           "arrowwidth": 1
          },
          "autotypenumbers": "strict",
          "coloraxis": {
           "colorbar": {
            "outlinewidth": 0,
            "ticks": ""
           }
          },
          "colorscale": {
           "diverging": [
            [
             0,
             "#8e0152"
            ],
            [
             0.1,
             "#c51b7d"
            ],
            [
             0.2,
             "#de77ae"
            ],
            [
             0.3,
             "#f1b6da"
            ],
            [
             0.4,
             "#fde0ef"
            ],
            [
             0.5,
             "#f7f7f7"
            ],
            [
             0.6,
             "#e6f5d0"
            ],
            [
             0.7,
             "#b8e186"
            ],
            [
             0.8,
             "#7fbc41"
            ],
            [
             0.9,
             "#4d9221"
            ],
            [
             1,
             "#276419"
            ]
           ],
           "sequential": [
            [
             0,
             "#0d0887"
            ],
            [
             0.1111111111111111,
             "#46039f"
            ],
            [
             0.2222222222222222,
             "#7201a8"
            ],
            [
             0.3333333333333333,
             "#9c179e"
            ],
            [
             0.4444444444444444,
             "#bd3786"
            ],
            [
             0.5555555555555556,
             "#d8576b"
            ],
            [
             0.6666666666666666,
             "#ed7953"
            ],
            [
             0.7777777777777778,
             "#fb9f3a"
            ],
            [
             0.8888888888888888,
             "#fdca26"
            ],
            [
             1,
             "#f0f921"
            ]
           ],
           "sequentialminus": [
            [
             0,
             "#0d0887"
            ],
            [
             0.1111111111111111,
             "#46039f"
            ],
            [
             0.2222222222222222,
             "#7201a8"
            ],
            [
             0.3333333333333333,
             "#9c179e"
            ],
            [
             0.4444444444444444,
             "#bd3786"
            ],
            [
             0.5555555555555556,
             "#d8576b"
            ],
            [
             0.6666666666666666,
             "#ed7953"
            ],
            [
             0.7777777777777778,
             "#fb9f3a"
            ],
            [
             0.8888888888888888,
             "#fdca26"
            ],
            [
             1,
             "#f0f921"
            ]
           ]
          },
          "colorway": [
           "#636efa",
           "#EF553B",
           "#00cc96",
           "#ab63fa",
           "#FFA15A",
           "#19d3f3",
           "#FF6692",
           "#B6E880",
           "#FF97FF",
           "#FECB52"
          ],
          "font": {
           "color": "#2a3f5f"
          },
          "geo": {
           "bgcolor": "white",
           "lakecolor": "white",
           "landcolor": "#E5ECF6",
           "showlakes": true,
           "showland": true,
           "subunitcolor": "white"
          },
          "hoverlabel": {
           "align": "left"
          },
          "hovermode": "closest",
          "mapbox": {
           "style": "light"
          },
          "paper_bgcolor": "white",
          "plot_bgcolor": "#E5ECF6",
          "polar": {
           "angularaxis": {
            "gridcolor": "white",
            "linecolor": "white",
            "ticks": ""
           },
           "bgcolor": "#E5ECF6",
           "radialaxis": {
            "gridcolor": "white",
            "linecolor": "white",
            "ticks": ""
           }
          },
          "scene": {
           "xaxis": {
            "backgroundcolor": "#E5ECF6",
            "gridcolor": "white",
            "gridwidth": 2,
            "linecolor": "white",
            "showbackground": true,
            "ticks": "",
            "zerolinecolor": "white"
           },
           "yaxis": {
            "backgroundcolor": "#E5ECF6",
            "gridcolor": "white",
            "gridwidth": 2,
            "linecolor": "white",
            "showbackground": true,
            "ticks": "",
            "zerolinecolor": "white"
           },
           "zaxis": {
            "backgroundcolor": "#E5ECF6",
            "gridcolor": "white",
            "gridwidth": 2,
            "linecolor": "white",
            "showbackground": true,
            "ticks": "",
            "zerolinecolor": "white"
           }
          },
          "shapedefaults": {
           "line": {
            "color": "#2a3f5f"
           }
          },
          "ternary": {
           "aaxis": {
            "gridcolor": "white",
            "linecolor": "white",
            "ticks": ""
           },
           "baxis": {
            "gridcolor": "white",
            "linecolor": "white",
            "ticks": ""
           },
           "bgcolor": "#E5ECF6",
           "caxis": {
            "gridcolor": "white",
            "linecolor": "white",
            "ticks": ""
           }
          },
          "title": {
           "x": 0.05
          },
          "xaxis": {
           "automargin": true,
           "gridcolor": "white",
           "linecolor": "white",
           "ticks": "",
           "title": {
            "standoff": 15
           },
           "zerolinecolor": "white",
           "zerolinewidth": 2
          },
          "yaxis": {
           "automargin": true,
           "gridcolor": "white",
           "linecolor": "white",
           "ticks": "",
           "title": {
            "standoff": 15
           },
           "zerolinecolor": "white",
           "zerolinewidth": 2
          }
         }
        },
        "xaxis": {
         "anchor": "y",
         "domain": [
          0,
          1
         ],
         "title": {
          "text": "Year of launch"
         },
         "type": "log"
        },
        "yaxis": {
         "anchor": "x",
         "domain": [
          0,
          1
         ],
         "title": {
          "text": "Number"
         }
        }
       }
      },
      "text/html": [
       "<div>                            <div id=\"3738d41a-65f4-4cbe-b48a-53027223e2b2\" class=\"plotly-graph-div\" style=\"height:525px; width:100%;\"></div>            <script type=\"text/javascript\">                require([\"plotly\"], function(Plotly) {                    window.PLOTLYENV=window.PLOTLYENV || {};                                    if (document.getElementById(\"3738d41a-65f4-4cbe-b48a-53027223e2b2\")) {                    Plotly.newPlot(                        \"3738d41a-65f4-4cbe-b48a-53027223e2b2\",                        [{\"hovertemplate\":\"<b>%{hovertext}</b><br><br>Sector=Software<br>Year of launch=%{x}<br>Number=%{marker.size}<extra></extra>\",\"hovertext\":[\"Software\",\"Software\",\"Software\",\"Software\",\"Software\",\"Software\",\"Software\"],\"legendgroup\":\"Software\",\"marker\":{\"color\":\"#636efa\",\"size\":[1,1,1,2,3,1,1],\"sizemode\":\"area\",\"sizeref\":0.0125,\"symbol\":\"circle\"},\"mode\":\"markers\",\"name\":\"Software\",\"orientation\":\"v\",\"showlegend\":true,\"x\":[2003,2010,2011,2013,2017,2018,2019],\"xaxis\":\"x\",\"y\":[1,1,1,2,3,1,1],\"yaxis\":\"y\",\"type\":\"scatter\"},{\"hovertemplate\":\"<b>%{hovertext}</b><br><br>Sector=Conservation<br>Year of launch=%{x}<br>Number=%{marker.size}<extra></extra>\",\"hovertext\":[\"Conservation\",\"Conservation\"],\"legendgroup\":\"Conservation\",\"marker\":{\"color\":\"#EF553B\",\"size\":[1,1],\"sizemode\":\"area\",\"sizeref\":0.0125,\"symbol\":\"circle\"},\"mode\":\"markers\",\"name\":\"Conservation\",\"orientation\":\"v\",\"showlegend\":true,\"x\":[2006,2015],\"xaxis\":\"x\",\"y\":[1,1],\"yaxis\":\"y\",\"type\":\"scatter\"},{\"hovertemplate\":\"<b>%{hovertext}</b><br><br>Sector=Fintech<br>Year of launch=%{x}<br>Number=%{marker.size}<extra></extra>\",\"hovertext\":[\"Fintech\",\"Fintech\",\"Fintech\",\"Fintech\",\"Fintech\",\"Fintech\",\"Fintech\",\"Fintech\",\"Fintech\",\"Fintech\",\"Fintech\",\"Fintech\",\"Fintech\",\"Fintech\"],\"legendgroup\":\"Fintech\",\"marker\":{\"color\":\"#00cc96\",\"size\":[1,1,1,4,9,3,10,13,9,12,12,20,6,4],\"sizemode\":\"area\",\"sizeref\":0.0125,\"symbol\":\"circle\"},\"mode\":\"markers\",\"name\":\"Fintech\",\"orientation\":\"v\",\"showlegend\":true,\"x\":[2007,2009,2011,2012,2013,2014,2015,2016,2017,2018,2019,2020,2021,2022],\"xaxis\":\"x\",\"y\":[1,1,1,4,9,3,10,13,9,12,12,20,6,4],\"yaxis\":\"y\",\"type\":\"scatter\"},{\"hovertemplate\":\"<b>%{hovertext}</b><br><br>Sector=Legal-tech<br>Year of launch=%{x}<br>Number=%{marker.size}<extra></extra>\",\"hovertext\":[\"Legal-tech\",\"Legal-tech\"],\"legendgroup\":\"Legal-tech\",\"marker\":{\"color\":\"#ab63fa\",\"size\":[1,1],\"sizemode\":\"area\",\"sizeref\":0.0125,\"symbol\":\"circle\"},\"mode\":\"markers\",\"name\":\"Legal-tech\",\"orientation\":\"v\",\"showlegend\":true,\"x\":[2007,2013],\"xaxis\":\"x\",\"y\":[1,1],\"yaxis\":\"y\",\"type\":\"scatter\"},{\"hovertemplate\":\"<b>%{hovertext}</b><br><br>Sector=E-commerce and retail-tech<br>Year of launch=%{x}<br>Number=%{marker.size}<extra></extra>\",\"hovertext\":[\"E-commerce and retail-tech\",\"E-commerce and retail-tech\",\"E-commerce and retail-tech\",\"E-commerce and retail-tech\",\"E-commerce and retail-tech\",\"E-commerce and retail-tech\",\"E-commerce and retail-tech\",\"E-commerce and retail-tech\",\"E-commerce and retail-tech\",\"E-commerce and retail-tech\",\"E-commerce and retail-tech\",\"E-commerce and retail-tech\"],\"legendgroup\":\"E-commerce and retail-tech\",\"marker\":{\"color\":\"#FFA15A\",\"size\":[1,2,1,1,2,1,1,2,4,5,9,1],\"sizemode\":\"area\",\"sizeref\":0.0125,\"symbol\":\"circle\"},\"mode\":\"markers\",\"name\":\"E-commerce and retail-tech\",\"orientation\":\"v\",\"showlegend\":true,\"x\":[2008,2010,2011,2012,2013,2015,2016,2017,2018,2020,2021,2022],\"xaxis\":\"x\",\"y\":[1,2,1,1,2,1,1,2,4,5,9,1],\"yaxis\":\"y\",\"type\":\"scatter\"},{\"hovertemplate\":\"<b>%{hovertext}</b><br><br>Sector=E-health<br>Year of launch=%{x}<br>Number=%{marker.size}<extra></extra>\",\"hovertext\":[\"E-health\",\"E-health\",\"E-health\",\"E-health\",\"E-health\",\"E-health\",\"E-health\",\"E-health\",\"E-health\"],\"legendgroup\":\"E-health\",\"marker\":{\"color\":\"#19d3f3\",\"size\":[1,2,5,4,6,8,4,2,5],\"sizemode\":\"area\",\"sizeref\":0.0125,\"symbol\":\"circle\"},\"mode\":\"markers\",\"name\":\"E-health\",\"orientation\":\"v\",\"showlegend\":true,\"x\":[2009,2012,2014,2015,2016,2017,2018,2019,2020],\"xaxis\":\"x\",\"y\":[1,2,5,4,6,8,4,2,5],\"yaxis\":\"y\",\"type\":\"scatter\"},{\"hovertemplate\":\"<b>%{hovertext}</b><br><br>Sector=Communications<br>Year of launch=%{x}<br>Number=%{marker.size}<extra></extra>\",\"hovertext\":[\"Communications\"],\"legendgroup\":\"Communications\",\"marker\":{\"color\":\"#FF6692\",\"size\":[1],\"sizemode\":\"area\",\"sizeref\":0.0125,\"symbol\":\"circle\"},\"mode\":\"markers\",\"name\":\"Communications\",\"orientation\":\"v\",\"showlegend\":true,\"x\":[2010],\"xaxis\":\"x\",\"y\":[1],\"yaxis\":\"y\",\"type\":\"scatter\"},{\"hovertemplate\":\"<b>%{hovertext}</b><br><br>Sector=Recruitment and HR<br>Year of launch=%{x}<br>Number=%{marker.size}<extra></extra>\",\"hovertext\":[\"Recruitment and HR\",\"Recruitment and HR\",\"Recruitment and HR\",\"Recruitment and HR\",\"Recruitment and HR\",\"Recruitment and HR\",\"Recruitment and HR\",\"Recruitment and HR\",\"Recruitment and HR\"],\"legendgroup\":\"Recruitment and HR\",\"marker\":{\"color\":\"#B6E880\",\"size\":[1,2,1,1,3,1,6,1,3],\"sizemode\":\"area\",\"sizeref\":0.0125,\"symbol\":\"circle\"},\"mode\":\"markers\",\"name\":\"Recruitment and HR\",\"orientation\":\"v\",\"showlegend\":true,\"x\":[2010,2012,2013,2014,2015,2016,2017,2019,2020],\"xaxis\":\"x\",\"y\":[1,2,1,1,3,1,6,1,3],\"yaxis\":\"y\",\"type\":\"scatter\"},{\"hovertemplate\":\"<b>%{hovertext}</b><br><br>Sector=Agri-tech<br>Year of launch=%{x}<br>Number=%{marker.size}<extra></extra>\",\"hovertext\":[\"Agri-tech\",\"Agri-tech\",\"Agri-tech\",\"Agri-tech\",\"Agri-tech\",\"Agri-tech\",\"Agri-tech\",\"Agri-tech\",\"Agri-tech\",\"Agri-tech\",\"Agri-tech\",\"Agri-tech\"],\"legendgroup\":\"Agri-tech\",\"marker\":{\"color\":\"#FF97FF\",\"size\":[2,1,4,3,4,5,8,2,2,3,1,1],\"sizemode\":\"area\",\"sizeref\":0.0125,\"symbol\":\"circle\"},\"mode\":\"markers\",\"name\":\"Agri-tech\",\"orientation\":\"v\",\"showlegend\":true,\"x\":[2011,2012,2013,2014,2015,2016,2017,2018,2019,2020,2021,2022],\"xaxis\":\"x\",\"y\":[2,1,4,3,4,5,8,2,2,3,1,1],\"yaxis\":\"y\",\"type\":\"scatter\"},{\"hovertemplate\":\"<b>%{hovertext}</b><br><br>Sector=Ed-tech<br>Year of launch=%{x}<br>Number=%{marker.size}<extra></extra>\",\"hovertext\":[\"Ed-tech\",\"Ed-tech\",\"Ed-tech\",\"Ed-tech\",\"Ed-tech\",\"Ed-tech\",\"Ed-tech\",\"Ed-tech\",\"Ed-tech\"],\"legendgroup\":\"Ed-tech\",\"marker\":{\"color\":\"#FECB52\",\"size\":[2,2,1,1,5,3,1,2,1],\"sizemode\":\"area\",\"sizeref\":0.0125,\"symbol\":\"circle\"},\"mode\":\"markers\",\"name\":\"Ed-tech\",\"orientation\":\"v\",\"showlegend\":true,\"x\":[2012,2013,2014,2015,2016,2019,2020,2021,2022],\"xaxis\":\"x\",\"y\":[2,2,1,1,5,3,1,2,1],\"yaxis\":\"y\",\"type\":\"scatter\"},{\"hovertemplate\":\"<b>%{hovertext}</b><br><br>Sector=Energy<br>Year of launch=%{x}<br>Number=%{marker.size}<extra></extra>\",\"hovertext\":[\"Energy\",\"Energy\",\"Energy\",\"Energy\",\"Energy\",\"Energy\"],\"legendgroup\":\"Energy\",\"marker\":{\"color\":\"#636efa\",\"size\":[1,1,1,2,1,2],\"sizemode\":\"area\",\"sizeref\":0.0125,\"symbol\":\"circle\"},\"mode\":\"markers\",\"name\":\"Energy\",\"orientation\":\"v\",\"showlegend\":true,\"x\":[2012,2015,2016,2017,2018,2022],\"xaxis\":\"x\",\"y\":[1,1,1,2,1,2],\"yaxis\":\"y\",\"type\":\"scatter\"},{\"hovertemplate\":\"<b>%{hovertext}</b><br><br>Sector=Mobility<br>Year of launch=%{x}<br>Number=%{marker.size}<extra></extra>\",\"hovertext\":[\"Mobility\",\"Mobility\",\"Mobility\",\"Mobility\",\"Mobility\"],\"legendgroup\":\"Mobility\",\"marker\":{\"color\":\"#EF553B\",\"size\":[2,2,1,2,1],\"sizemode\":\"area\",\"sizeref\":0.0125,\"symbol\":\"circle\"},\"mode\":\"markers\",\"name\":\"Mobility\",\"orientation\":\"v\",\"showlegend\":true,\"x\":[2012,2017,2019,2020,2021],\"xaxis\":\"x\",\"y\":[2,2,1,2,1],\"yaxis\":\"y\",\"type\":\"scatter\"},{\"hovertemplate\":\"<b>%{hovertext}</b><br><br>Sector=Tourism<br>Year of launch=%{x}<br>Number=%{marker.size}<extra></extra>\",\"hovertext\":[\"Tourism\",\"Tourism\",\"Tourism\"],\"legendgroup\":\"Tourism\",\"marker\":{\"color\":\"#00cc96\",\"size\":[1,1,1],\"sizemode\":\"area\",\"sizeref\":0.0125,\"symbol\":\"circle\"},\"mode\":\"markers\",\"name\":\"Tourism\",\"orientation\":\"v\",\"showlegend\":true,\"x\":[2012,2017,2022],\"xaxis\":\"x\",\"y\":[1,1,1],\"yaxis\":\"y\",\"type\":\"scatter\"},{\"hovertemplate\":\"<b>%{hovertext}</b><br><br>Sector=Cloud<br>Year of launch=%{x}<br>Number=%{marker.size}<extra></extra>\",\"hovertext\":[\"Cloud\",\"Cloud\",\"Cloud\"],\"legendgroup\":\"Cloud\",\"marker\":{\"color\":\"#ab63fa\",\"size\":[1,2,1],\"sizemode\":\"area\",\"sizeref\":0.0125,\"symbol\":\"circle\"},\"mode\":\"markers\",\"name\":\"Cloud\",\"orientation\":\"v\",\"showlegend\":true,\"x\":[2013,2015,2018],\"xaxis\":\"x\",\"y\":[1,2,1],\"yaxis\":\"y\",\"type\":\"scatter\"},{\"hovertemplate\":\"<b>%{hovertext}</b><br><br>Sector=Entertainment<br>Year of launch=%{x}<br>Number=%{marker.size}<extra></extra>\",\"hovertext\":[\"Entertainment\",\"Entertainment\",\"Entertainment\",\"Entertainment\"],\"legendgroup\":\"Entertainment\",\"marker\":{\"color\":\"#FFA15A\",\"size\":[1,1,1,1],\"sizemode\":\"area\",\"sizeref\":0.0125,\"symbol\":\"circle\"},\"mode\":\"markers\",\"name\":\"Entertainment\",\"orientation\":\"v\",\"showlegend\":true,\"x\":[2013,2014,2018,2019],\"xaxis\":\"x\",\"y\":[1,1,1,1],\"yaxis\":\"y\",\"type\":\"scatter\"},{\"hovertemplate\":\"<b>%{hovertext}</b><br><br>Sector=AI/IoT<br>Year of launch=%{x}<br>Number=%{marker.size}<extra></extra>\",\"hovertext\":[\"AI/IoT\",\"AI/IoT\",\"AI/IoT\",\"AI/IoT\"],\"legendgroup\":\"AI/IoT\",\"marker\":{\"color\":\"#19d3f3\",\"size\":[1,2,1,1],\"sizemode\":\"area\",\"sizeref\":0.0125,\"symbol\":\"circle\"},\"mode\":\"markers\",\"name\":\"AI/IoT\",\"orientation\":\"v\",\"showlegend\":true,\"x\":[2014,2015,2016,2021],\"xaxis\":\"x\",\"y\":[1,2,1,1],\"yaxis\":\"y\",\"type\":\"scatter\"},{\"hovertemplate\":\"<b>%{hovertext}</b><br><br>Sector=Connectivity<br>Year of launch=%{x}<br>Number=%{marker.size}<extra></extra>\",\"hovertext\":[\"Connectivity\",\"Connectivity\"],\"legendgroup\":\"Connectivity\",\"marker\":{\"color\":\"#FF6692\",\"size\":[1,1],\"sizemode\":\"area\",\"sizeref\":0.0125,\"symbol\":\"circle\"},\"mode\":\"markers\",\"name\":\"Connectivity\",\"orientation\":\"v\",\"showlegend\":true,\"x\":[2014,2019],\"xaxis\":\"x\",\"y\":[1,1],\"yaxis\":\"y\",\"type\":\"scatter\"},{\"hovertemplate\":\"<b>%{hovertext}</b><br><br>Sector=Logistics<br>Year of launch=%{x}<br>Number=%{marker.size}<extra></extra>\",\"hovertext\":[\"Logistics\",\"Logistics\",\"Logistics\",\"Logistics\",\"Logistics\",\"Logistics\",\"Logistics\"],\"legendgroup\":\"Logistics\",\"marker\":{\"color\":\"#B6E880\",\"size\":[2,2,4,3,3,1,1],\"sizemode\":\"area\",\"sizeref\":0.0125,\"symbol\":\"circle\"},\"mode\":\"markers\",\"name\":\"Logistics\",\"orientation\":\"v\",\"showlegend\":true,\"x\":[2014,2015,2016,2018,2019,2020,2022],\"xaxis\":\"x\",\"y\":[2,2,4,3,3,1,1],\"yaxis\":\"y\",\"type\":\"scatter\"},{\"hovertemplate\":\"<b>%{hovertext}</b><br><br>Sector=Marketing<br>Year of launch=%{x}<br>Number=%{marker.size}<extra></extra>\",\"hovertext\":[\"Marketing\",\"Marketing\",\"Marketing\",\"Marketing\"],\"legendgroup\":\"Marketing\",\"marker\":{\"color\":\"#FF97FF\",\"size\":[1,1,4,1],\"sizemode\":\"area\",\"sizeref\":0.0125,\"symbol\":\"circle\"},\"mode\":\"markers\",\"name\":\"Marketing\",\"orientation\":\"v\",\"showlegend\":true,\"x\":[2014,2018,2019,2021],\"xaxis\":\"x\",\"y\":[1,1,4,1],\"yaxis\":\"y\",\"type\":\"scatter\"},{\"hovertemplate\":\"<b>%{hovertext}</b><br><br>Sector=Trade tech<br>Year of launch=%{x}<br>Number=%{marker.size}<extra></extra>\",\"hovertext\":[\"Trade tech\",\"Trade tech\"],\"legendgroup\":\"Trade tech\",\"marker\":{\"color\":\"#FECB52\",\"size\":[1,1],\"sizemode\":\"area\",\"sizeref\":0.0125,\"symbol\":\"circle\"},\"mode\":\"markers\",\"name\":\"Trade tech\",\"orientation\":\"v\",\"showlegend\":true,\"x\":[2014,2016],\"xaxis\":\"x\",\"y\":[1,1],\"yaxis\":\"y\",\"type\":\"scatter\"},{\"hovertemplate\":\"<b>%{hovertext}</b><br><br>Sector=Waste management<br>Year of launch=%{x}<br>Number=%{marker.size}<extra></extra>\",\"hovertext\":[\"Waste management\",\"Waste management\"],\"legendgroup\":\"Waste management\",\"marker\":{\"color\":\"#636efa\",\"size\":[1,1],\"sizemode\":\"area\",\"sizeref\":0.0125,\"symbol\":\"circle\"},\"mode\":\"markers\",\"name\":\"Waste management\",\"orientation\":\"v\",\"showlegend\":true,\"x\":[2014,2017],\"xaxis\":\"x\",\"y\":[1,1],\"yaxis\":\"y\",\"type\":\"scatter\"},{\"hovertemplate\":\"<b>%{hovertext}</b><br><br>Sector=Field management<br>Year of launch=%{x}<br>Number=%{marker.size}<extra></extra>\",\"hovertext\":[\"Field management\"],\"legendgroup\":\"Field management\",\"marker\":{\"color\":\"#EF553B\",\"size\":[1],\"sizemode\":\"area\",\"sizeref\":0.0125,\"symbol\":\"circle\"},\"mode\":\"markers\",\"name\":\"Field management\",\"orientation\":\"v\",\"showlegend\":true,\"x\":[2015],\"xaxis\":\"x\",\"y\":[1],\"yaxis\":\"y\",\"type\":\"scatter\"},{\"hovertemplate\":\"<b>%{hovertext}</b><br><br>Sector=Prop-tech<br>Year of launch=%{x}<br>Number=%{marker.size}<extra></extra>\",\"hovertext\":[\"Prop-tech\",\"Prop-tech\"],\"legendgroup\":\"Prop-tech\",\"marker\":{\"color\":\"#00cc96\",\"size\":[1,3],\"sizemode\":\"area\",\"sizeref\":0.0125,\"symbol\":\"circle\"},\"mode\":\"markers\",\"name\":\"Prop-tech\",\"orientation\":\"v\",\"showlegend\":true,\"x\":[2015,2020],\"xaxis\":\"x\",\"y\":[1,3],\"yaxis\":\"y\",\"type\":\"scatter\"},{\"hovertemplate\":\"<b>%{hovertext}</b><br><br>Sector=VR<br>Year of launch=%{x}<br>Number=%{marker.size}<extra></extra>\",\"hovertext\":[\"VR\"],\"legendgroup\":\"VR\",\"marker\":{\"color\":\"#ab63fa\",\"size\":[1],\"sizemode\":\"area\",\"sizeref\":0.0125,\"symbol\":\"circle\"},\"mode\":\"markers\",\"name\":\"VR\",\"orientation\":\"v\",\"showlegend\":true,\"x\":[2015],\"xaxis\":\"x\",\"y\":[1],\"yaxis\":\"y\",\"type\":\"scatter\"},{\"hovertemplate\":\"<b>%{hovertext}</b><br><br>Sector=Cybersecurity<br>Year of launch=%{x}<br>Number=%{marker.size}<extra></extra>\",\"hovertext\":[\"Cybersecurity\"],\"legendgroup\":\"Cybersecurity\",\"marker\":{\"color\":\"#FFA15A\",\"size\":[1],\"sizemode\":\"area\",\"sizeref\":0.0125,\"symbol\":\"circle\"},\"mode\":\"markers\",\"name\":\"Cybersecurity\",\"orientation\":\"v\",\"showlegend\":true,\"x\":[2016],\"xaxis\":\"x\",\"y\":[1],\"yaxis\":\"y\",\"type\":\"scatter\"},{\"hovertemplate\":\"<b>%{hovertext}</b><br><br>Sector=Drones<br>Year of launch=%{x}<br>Number=%{marker.size}<extra></extra>\",\"hovertext\":[\"Drones\"],\"legendgroup\":\"Drones\",\"marker\":{\"color\":\"#19d3f3\",\"size\":[1],\"sizemode\":\"area\",\"sizeref\":0.0125,\"symbol\":\"circle\"},\"mode\":\"markers\",\"name\":\"Drones\",\"orientation\":\"v\",\"showlegend\":true,\"x\":[2016],\"xaxis\":\"x\",\"y\":[1],\"yaxis\":\"y\",\"type\":\"scatter\"},{\"hovertemplate\":\"<b>%{hovertext}</b><br><br>Sector=Water management<br>Year of launch=%{x}<br>Number=%{marker.size}<extra></extra>\",\"hovertext\":[\"Water management\"],\"legendgroup\":\"Water management\",\"marker\":{\"color\":\"#FF6692\",\"size\":[1],\"sizemode\":\"area\",\"sizeref\":0.0125,\"symbol\":\"circle\"},\"mode\":\"markers\",\"name\":\"Water management\",\"orientation\":\"v\",\"showlegend\":true,\"x\":[2017],\"xaxis\":\"x\",\"y\":[1],\"yaxis\":\"y\",\"type\":\"scatter\"},{\"hovertemplate\":\"<b>%{hovertext}</b><br><br>Sector=3D printing<br>Year of launch=%{x}<br>Number=%{marker.size}<extra></extra>\",\"hovertext\":[\"3D printing\"],\"legendgroup\":\"3D printing\",\"marker\":{\"color\":\"#B6E880\",\"size\":[1],\"sizemode\":\"area\",\"sizeref\":0.0125,\"symbol\":\"circle\"},\"mode\":\"markers\",\"name\":\"3D printing\",\"orientation\":\"v\",\"showlegend\":true,\"x\":[2019],\"xaxis\":\"x\",\"y\":[1],\"yaxis\":\"y\",\"type\":\"scatter\"},{\"hovertemplate\":\"<b>%{hovertext}</b><br><br>Sector=Construction<br>Year of launch=%{x}<br>Number=%{marker.size}<extra></extra>\",\"hovertext\":[\"Construction\",\"Construction\"],\"legendgroup\":\"Construction\",\"marker\":{\"color\":\"#FF97FF\",\"size\":[1,1],\"sizemode\":\"area\",\"sizeref\":0.0125,\"symbol\":\"circle\"},\"mode\":\"markers\",\"name\":\"Construction\",\"orientation\":\"v\",\"showlegend\":true,\"x\":[2019,2022],\"xaxis\":\"x\",\"y\":[1,1],\"yaxis\":\"y\",\"type\":\"scatter\"},{\"hovertemplate\":\"<b>%{hovertext}</b><br><br>Sector=Digital identity<br>Year of launch=%{x}<br>Number=%{marker.size}<extra></extra>\",\"hovertext\":[\"Digital identity\",\"Digital identity\"],\"legendgroup\":\"Digital identity\",\"marker\":{\"color\":\"#FECB52\",\"size\":[2,2],\"sizemode\":\"area\",\"sizeref\":0.0125,\"symbol\":\"circle\"},\"mode\":\"markers\",\"name\":\"Digital identity\",\"orientation\":\"v\",\"showlegend\":true,\"x\":[2019,2021],\"xaxis\":\"x\",\"y\":[2,2],\"yaxis\":\"y\",\"type\":\"scatter\"},{\"hovertemplate\":\"<b>%{hovertext}</b><br><br>Sector=Procurement<br>Year of launch=%{x}<br>Number=%{marker.size}<extra></extra>\",\"hovertext\":[\"Procurement\"],\"legendgroup\":\"Procurement\",\"marker\":{\"color\":\"#636efa\",\"size\":[1],\"sizemode\":\"area\",\"sizeref\":0.0125,\"symbol\":\"circle\"},\"mode\":\"markers\",\"name\":\"Procurement\",\"orientation\":\"v\",\"showlegend\":true,\"x\":[2019],\"xaxis\":\"x\",\"y\":[1],\"yaxis\":\"y\",\"type\":\"scatter\"}],                        {\"template\":{\"data\":{\"histogram2dcontour\":[{\"type\":\"histogram2dcontour\",\"colorbar\":{\"outlinewidth\":0,\"ticks\":\"\"},\"colorscale\":[[0.0,\"#0d0887\"],[0.1111111111111111,\"#46039f\"],[0.2222222222222222,\"#7201a8\"],[0.3333333333333333,\"#9c179e\"],[0.4444444444444444,\"#bd3786\"],[0.5555555555555556,\"#d8576b\"],[0.6666666666666666,\"#ed7953\"],[0.7777777777777778,\"#fb9f3a\"],[0.8888888888888888,\"#fdca26\"],[1.0,\"#f0f921\"]]}],\"choropleth\":[{\"type\":\"choropleth\",\"colorbar\":{\"outlinewidth\":0,\"ticks\":\"\"}}],\"histogram2d\":[{\"type\":\"histogram2d\",\"colorbar\":{\"outlinewidth\":0,\"ticks\":\"\"},\"colorscale\":[[0.0,\"#0d0887\"],[0.1111111111111111,\"#46039f\"],[0.2222222222222222,\"#7201a8\"],[0.3333333333333333,\"#9c179e\"],[0.4444444444444444,\"#bd3786\"],[0.5555555555555556,\"#d8576b\"],[0.6666666666666666,\"#ed7953\"],[0.7777777777777778,\"#fb9f3a\"],[0.8888888888888888,\"#fdca26\"],[1.0,\"#f0f921\"]]}],\"heatmap\":[{\"type\":\"heatmap\",\"colorbar\":{\"outlinewidth\":0,\"ticks\":\"\"},\"colorscale\":[[0.0,\"#0d0887\"],[0.1111111111111111,\"#46039f\"],[0.2222222222222222,\"#7201a8\"],[0.3333333333333333,\"#9c179e\"],[0.4444444444444444,\"#bd3786\"],[0.5555555555555556,\"#d8576b\"],[0.6666666666666666,\"#ed7953\"],[0.7777777777777778,\"#fb9f3a\"],[0.8888888888888888,\"#fdca26\"],[1.0,\"#f0f921\"]]}],\"heatmapgl\":[{\"type\":\"heatmapgl\",\"colorbar\":{\"outlinewidth\":0,\"ticks\":\"\"},\"colorscale\":[[0.0,\"#0d0887\"],[0.1111111111111111,\"#46039f\"],[0.2222222222222222,\"#7201a8\"],[0.3333333333333333,\"#9c179e\"],[0.4444444444444444,\"#bd3786\"],[0.5555555555555556,\"#d8576b\"],[0.6666666666666666,\"#ed7953\"],[0.7777777777777778,\"#fb9f3a\"],[0.8888888888888888,\"#fdca26\"],[1.0,\"#f0f921\"]]}],\"contourcarpet\":[{\"type\":\"contourcarpet\",\"colorbar\":{\"outlinewidth\":0,\"ticks\":\"\"}}],\"contour\":[{\"type\":\"contour\",\"colorbar\":{\"outlinewidth\":0,\"ticks\":\"\"},\"colorscale\":[[0.0,\"#0d0887\"],[0.1111111111111111,\"#46039f\"],[0.2222222222222222,\"#7201a8\"],[0.3333333333333333,\"#9c179e\"],[0.4444444444444444,\"#bd3786\"],[0.5555555555555556,\"#d8576b\"],[0.6666666666666666,\"#ed7953\"],[0.7777777777777778,\"#fb9f3a\"],[0.8888888888888888,\"#fdca26\"],[1.0,\"#f0f921\"]]}],\"surface\":[{\"type\":\"surface\",\"colorbar\":{\"outlinewidth\":0,\"ticks\":\"\"},\"colorscale\":[[0.0,\"#0d0887\"],[0.1111111111111111,\"#46039f\"],[0.2222222222222222,\"#7201a8\"],[0.3333333333333333,\"#9c179e\"],[0.4444444444444444,\"#bd3786\"],[0.5555555555555556,\"#d8576b\"],[0.6666666666666666,\"#ed7953\"],[0.7777777777777778,\"#fb9f3a\"],[0.8888888888888888,\"#fdca26\"],[1.0,\"#f0f921\"]]}],\"mesh3d\":[{\"type\":\"mesh3d\",\"colorbar\":{\"outlinewidth\":0,\"ticks\":\"\"}}],\"scatter\":[{\"fillpattern\":{\"fillmode\":\"overlay\",\"size\":10,\"solidity\":0.2},\"type\":\"scatter\"}],\"parcoords\":[{\"type\":\"parcoords\",\"line\":{\"colorbar\":{\"outlinewidth\":0,\"ticks\":\"\"}}}],\"scatterpolargl\":[{\"type\":\"scatterpolargl\",\"marker\":{\"colorbar\":{\"outlinewidth\":0,\"ticks\":\"\"}}}],\"bar\":[{\"error_x\":{\"color\":\"#2a3f5f\"},\"error_y\":{\"color\":\"#2a3f5f\"},\"marker\":{\"line\":{\"color\":\"#E5ECF6\",\"width\":0.5},\"pattern\":{\"fillmode\":\"overlay\",\"size\":10,\"solidity\":0.2}},\"type\":\"bar\"}],\"scattergeo\":[{\"type\":\"scattergeo\",\"marker\":{\"colorbar\":{\"outlinewidth\":0,\"ticks\":\"\"}}}],\"scatterpolar\":[{\"type\":\"scatterpolar\",\"marker\":{\"colorbar\":{\"outlinewidth\":0,\"ticks\":\"\"}}}],\"histogram\":[{\"marker\":{\"pattern\":{\"fillmode\":\"overlay\",\"size\":10,\"solidity\":0.2}},\"type\":\"histogram\"}],\"scattergl\":[{\"type\":\"scattergl\",\"marker\":{\"colorbar\":{\"outlinewidth\":0,\"ticks\":\"\"}}}],\"scatter3d\":[{\"type\":\"scatter3d\",\"line\":{\"colorbar\":{\"outlinewidth\":0,\"ticks\":\"\"}},\"marker\":{\"colorbar\":{\"outlinewidth\":0,\"ticks\":\"\"}}}],\"scattermapbox\":[{\"type\":\"scattermapbox\",\"marker\":{\"colorbar\":{\"outlinewidth\":0,\"ticks\":\"\"}}}],\"scatterternary\":[{\"type\":\"scatterternary\",\"marker\":{\"colorbar\":{\"outlinewidth\":0,\"ticks\":\"\"}}}],\"scattercarpet\":[{\"type\":\"scattercarpet\",\"marker\":{\"colorbar\":{\"outlinewidth\":0,\"ticks\":\"\"}}}],\"carpet\":[{\"aaxis\":{\"endlinecolor\":\"#2a3f5f\",\"gridcolor\":\"white\",\"linecolor\":\"white\",\"minorgridcolor\":\"white\",\"startlinecolor\":\"#2a3f5f\"},\"baxis\":{\"endlinecolor\":\"#2a3f5f\",\"gridcolor\":\"white\",\"linecolor\":\"white\",\"minorgridcolor\":\"white\",\"startlinecolor\":\"#2a3f5f\"},\"type\":\"carpet\"}],\"table\":[{\"cells\":{\"fill\":{\"color\":\"#EBF0F8\"},\"line\":{\"color\":\"white\"}},\"header\":{\"fill\":{\"color\":\"#C8D4E3\"},\"line\":{\"color\":\"white\"}},\"type\":\"table\"}],\"barpolar\":[{\"marker\":{\"line\":{\"color\":\"#E5ECF6\",\"width\":0.5},\"pattern\":{\"fillmode\":\"overlay\",\"size\":10,\"solidity\":0.2}},\"type\":\"barpolar\"}],\"pie\":[{\"automargin\":true,\"type\":\"pie\"}]},\"layout\":{\"autotypenumbers\":\"strict\",\"colorway\":[\"#636efa\",\"#EF553B\",\"#00cc96\",\"#ab63fa\",\"#FFA15A\",\"#19d3f3\",\"#FF6692\",\"#B6E880\",\"#FF97FF\",\"#FECB52\"],\"font\":{\"color\":\"#2a3f5f\"},\"hovermode\":\"closest\",\"hoverlabel\":{\"align\":\"left\"},\"paper_bgcolor\":\"white\",\"plot_bgcolor\":\"#E5ECF6\",\"polar\":{\"bgcolor\":\"#E5ECF6\",\"angularaxis\":{\"gridcolor\":\"white\",\"linecolor\":\"white\",\"ticks\":\"\"},\"radialaxis\":{\"gridcolor\":\"white\",\"linecolor\":\"white\",\"ticks\":\"\"}},\"ternary\":{\"bgcolor\":\"#E5ECF6\",\"aaxis\":{\"gridcolor\":\"white\",\"linecolor\":\"white\",\"ticks\":\"\"},\"baxis\":{\"gridcolor\":\"white\",\"linecolor\":\"white\",\"ticks\":\"\"},\"caxis\":{\"gridcolor\":\"white\",\"linecolor\":\"white\",\"ticks\":\"\"}},\"coloraxis\":{\"colorbar\":{\"outlinewidth\":0,\"ticks\":\"\"}},\"colorscale\":{\"sequential\":[[0.0,\"#0d0887\"],[0.1111111111111111,\"#46039f\"],[0.2222222222222222,\"#7201a8\"],[0.3333333333333333,\"#9c179e\"],[0.4444444444444444,\"#bd3786\"],[0.5555555555555556,\"#d8576b\"],[0.6666666666666666,\"#ed7953\"],[0.7777777777777778,\"#fb9f3a\"],[0.8888888888888888,\"#fdca26\"],[1.0,\"#f0f921\"]],\"sequentialminus\":[[0.0,\"#0d0887\"],[0.1111111111111111,\"#46039f\"],[0.2222222222222222,\"#7201a8\"],[0.3333333333333333,\"#9c179e\"],[0.4444444444444444,\"#bd3786\"],[0.5555555555555556,\"#d8576b\"],[0.6666666666666666,\"#ed7953\"],[0.7777777777777778,\"#fb9f3a\"],[0.8888888888888888,\"#fdca26\"],[1.0,\"#f0f921\"]],\"diverging\":[[0,\"#8e0152\"],[0.1,\"#c51b7d\"],[0.2,\"#de77ae\"],[0.3,\"#f1b6da\"],[0.4,\"#fde0ef\"],[0.5,\"#f7f7f7\"],[0.6,\"#e6f5d0\"],[0.7,\"#b8e186\"],[0.8,\"#7fbc41\"],[0.9,\"#4d9221\"],[1,\"#276419\"]]},\"xaxis\":{\"gridcolor\":\"white\",\"linecolor\":\"white\",\"ticks\":\"\",\"title\":{\"standoff\":15},\"zerolinecolor\":\"white\",\"automargin\":true,\"zerolinewidth\":2},\"yaxis\":{\"gridcolor\":\"white\",\"linecolor\":\"white\",\"ticks\":\"\",\"title\":{\"standoff\":15},\"zerolinecolor\":\"white\",\"automargin\":true,\"zerolinewidth\":2},\"scene\":{\"xaxis\":{\"backgroundcolor\":\"#E5ECF6\",\"gridcolor\":\"white\",\"linecolor\":\"white\",\"showbackground\":true,\"ticks\":\"\",\"zerolinecolor\":\"white\",\"gridwidth\":2},\"yaxis\":{\"backgroundcolor\":\"#E5ECF6\",\"gridcolor\":\"white\",\"linecolor\":\"white\",\"showbackground\":true,\"ticks\":\"\",\"zerolinecolor\":\"white\",\"gridwidth\":2},\"zaxis\":{\"backgroundcolor\":\"#E5ECF6\",\"gridcolor\":\"white\",\"linecolor\":\"white\",\"showbackground\":true,\"ticks\":\"\",\"zerolinecolor\":\"white\",\"gridwidth\":2}},\"shapedefaults\":{\"line\":{\"color\":\"#2a3f5f\"}},\"annotationdefaults\":{\"arrowcolor\":\"#2a3f5f\",\"arrowhead\":0,\"arrowwidth\":1},\"geo\":{\"bgcolor\":\"white\",\"landcolor\":\"#E5ECF6\",\"subunitcolor\":\"white\",\"showland\":true,\"showlakes\":true,\"lakecolor\":\"white\"},\"title\":{\"x\":0.05},\"mapbox\":{\"style\":\"light\"}}},\"xaxis\":{\"anchor\":\"y\",\"domain\":[0.0,1.0],\"title\":{\"text\":\"Year of launch\"},\"type\":\"log\"},\"yaxis\":{\"anchor\":\"x\",\"domain\":[0.0,1.0],\"title\":{\"text\":\"Number\"}},\"legend\":{\"title\":{\"text\":\"Sector\"},\"tracegroupgap\":0,\"itemsizing\":\"constant\"},\"margin\":{\"t\":60}},                        {\"responsive\": true}                    ).then(function(){\n",
       "                            \n",
       "var gd = document.getElementById('3738d41a-65f4-4cbe-b48a-53027223e2b2');\n",
       "var x = new MutationObserver(function (mutations, observer) {{\n",
       "        var display = window.getComputedStyle(gd).display;\n",
       "        if (!display || display === 'none') {{\n",
       "            console.log([gd, 'removed!']);\n",
       "            Plotly.purge(gd);\n",
       "            observer.disconnect();\n",
       "        }}\n",
       "}});\n",
       "\n",
       "// Listen for the removal of the full notebook cells\n",
       "var notebookContainer = gd.closest('#notebook-container');\n",
       "if (notebookContainer) {{\n",
       "    x.observe(notebookContainer, {childList: true});\n",
       "}}\n",
       "\n",
       "// Listen for the clearing of the current output cell\n",
       "var outputEl = gd.closest('.output');\n",
       "if (outputEl) {{\n",
       "    x.observe(outputEl, {childList: true});\n",
       "}}\n",
       "\n",
       "                        })                };                });            </script>        </div>"
      ]
     },
     "metadata": {},
     "output_type": "display_data"
    }
   ],
   "source": [
    "year_created = df.groupby(['Year of launch', 'Sector']).size().to_frame('Number').reset_index()\n",
    "year_created['Year of launch'] = year_created['Year of launch'].astype('int')\n",
    "fig = px.scatter(year_created, x=\"Year of launch\", y=\"Number\",\n",
    "\t         size=\"Number\", color=\"Sector\",\n",
    "                 hover_name=\"Sector\", log_x=True, size_max=40)\n",
    "fig.show()"
   ]
  },
  {
   "cell_type": "code",
   "execution_count": 154,
   "id": "f4a8696d",
   "metadata": {},
   "outputs": [
    {
     "data": {
      "application/vnd.plotly.v1+json": {
       "config": {
        "plotlyServerURL": "https://plot.ly"
       },
       "data": [
        {
         "domain": {
          "x": [
           0,
           1
          ],
          "y": [
           0,
           1
          ]
         },
         "hovertemplate": "Female founder?=%{label}<br>Number=%{value}<extra></extra>",
         "labels": [
          "No",
          "Yes"
         ],
         "legendgroup": "",
         "name": "",
         "showlegend": true,
         "textinfo": "percent+label",
         "textposition": "inside",
         "type": "pie",
         "values": [
          277,
          61
         ]
        }
       ],
       "layout": {
        "legend": {
         "tracegroupgap": 0
        },
        "template": {
         "data": {
          "bar": [
           {
            "error_x": {
             "color": "#2a3f5f"
            },
            "error_y": {
             "color": "#2a3f5f"
            },
            "marker": {
             "line": {
              "color": "#E5ECF6",
              "width": 0.5
             },
             "pattern": {
              "fillmode": "overlay",
              "size": 10,
              "solidity": 0.2
             }
            },
            "type": "bar"
           }
          ],
          "barpolar": [
           {
            "marker": {
             "line": {
              "color": "#E5ECF6",
              "width": 0.5
             },
             "pattern": {
              "fillmode": "overlay",
              "size": 10,
              "solidity": 0.2
             }
            },
            "type": "barpolar"
           }
          ],
          "carpet": [
           {
            "aaxis": {
             "endlinecolor": "#2a3f5f",
             "gridcolor": "white",
             "linecolor": "white",
             "minorgridcolor": "white",
             "startlinecolor": "#2a3f5f"
            },
            "baxis": {
             "endlinecolor": "#2a3f5f",
             "gridcolor": "white",
             "linecolor": "white",
             "minorgridcolor": "white",
             "startlinecolor": "#2a3f5f"
            },
            "type": "carpet"
           }
          ],
          "choropleth": [
           {
            "colorbar": {
             "outlinewidth": 0,
             "ticks": ""
            },
            "type": "choropleth"
           }
          ],
          "contour": [
           {
            "colorbar": {
             "outlinewidth": 0,
             "ticks": ""
            },
            "colorscale": [
             [
              0,
              "#0d0887"
             ],
             [
              0.1111111111111111,
              "#46039f"
             ],
             [
              0.2222222222222222,
              "#7201a8"
             ],
             [
              0.3333333333333333,
              "#9c179e"
             ],
             [
              0.4444444444444444,
              "#bd3786"
             ],
             [
              0.5555555555555556,
              "#d8576b"
             ],
             [
              0.6666666666666666,
              "#ed7953"
             ],
             [
              0.7777777777777778,
              "#fb9f3a"
             ],
             [
              0.8888888888888888,
              "#fdca26"
             ],
             [
              1,
              "#f0f921"
             ]
            ],
            "type": "contour"
           }
          ],
          "contourcarpet": [
           {
            "colorbar": {
             "outlinewidth": 0,
             "ticks": ""
            },
            "type": "contourcarpet"
           }
          ],
          "heatmap": [
           {
            "colorbar": {
             "outlinewidth": 0,
             "ticks": ""
            },
            "colorscale": [
             [
              0,
              "#0d0887"
             ],
             [
              0.1111111111111111,
              "#46039f"
             ],
             [
              0.2222222222222222,
              "#7201a8"
             ],
             [
              0.3333333333333333,
              "#9c179e"
             ],
             [
              0.4444444444444444,
              "#bd3786"
             ],
             [
              0.5555555555555556,
              "#d8576b"
             ],
             [
              0.6666666666666666,
              "#ed7953"
             ],
             [
              0.7777777777777778,
              "#fb9f3a"
             ],
             [
              0.8888888888888888,
              "#fdca26"
             ],
             [
              1,
              "#f0f921"
             ]
            ],
            "type": "heatmap"
           }
          ],
          "heatmapgl": [
           {
            "colorbar": {
             "outlinewidth": 0,
             "ticks": ""
            },
            "colorscale": [
             [
              0,
              "#0d0887"
             ],
             [
              0.1111111111111111,
              "#46039f"
             ],
             [
              0.2222222222222222,
              "#7201a8"
             ],
             [
              0.3333333333333333,
              "#9c179e"
             ],
             [
              0.4444444444444444,
              "#bd3786"
             ],
             [
              0.5555555555555556,
              "#d8576b"
             ],
             [
              0.6666666666666666,
              "#ed7953"
             ],
             [
              0.7777777777777778,
              "#fb9f3a"
             ],
             [
              0.8888888888888888,
              "#fdca26"
             ],
             [
              1,
              "#f0f921"
             ]
            ],
            "type": "heatmapgl"
           }
          ],
          "histogram": [
           {
            "marker": {
             "pattern": {
              "fillmode": "overlay",
              "size": 10,
              "solidity": 0.2
             }
            },
            "type": "histogram"
           }
          ],
          "histogram2d": [
           {
            "colorbar": {
             "outlinewidth": 0,
             "ticks": ""
            },
            "colorscale": [
             [
              0,
              "#0d0887"
             ],
             [
              0.1111111111111111,
              "#46039f"
             ],
             [
              0.2222222222222222,
              "#7201a8"
             ],
             [
              0.3333333333333333,
              "#9c179e"
             ],
             [
              0.4444444444444444,
              "#bd3786"
             ],
             [
              0.5555555555555556,
              "#d8576b"
             ],
             [
              0.6666666666666666,
              "#ed7953"
             ],
             [
              0.7777777777777778,
              "#fb9f3a"
             ],
             [
              0.8888888888888888,
              "#fdca26"
             ],
             [
              1,
              "#f0f921"
             ]
            ],
            "type": "histogram2d"
           }
          ],
          "histogram2dcontour": [
           {
            "colorbar": {
             "outlinewidth": 0,
             "ticks": ""
            },
            "colorscale": [
             [
              0,
              "#0d0887"
             ],
             [
              0.1111111111111111,
              "#46039f"
             ],
             [
              0.2222222222222222,
              "#7201a8"
             ],
             [
              0.3333333333333333,
              "#9c179e"
             ],
             [
              0.4444444444444444,
              "#bd3786"
             ],
             [
              0.5555555555555556,
              "#d8576b"
             ],
             [
              0.6666666666666666,
              "#ed7953"
             ],
             [
              0.7777777777777778,
              "#fb9f3a"
             ],
             [
              0.8888888888888888,
              "#fdca26"
             ],
             [
              1,
              "#f0f921"
             ]
            ],
            "type": "histogram2dcontour"
           }
          ],
          "mesh3d": [
           {
            "colorbar": {
             "outlinewidth": 0,
             "ticks": ""
            },
            "type": "mesh3d"
           }
          ],
          "parcoords": [
           {
            "line": {
             "colorbar": {
              "outlinewidth": 0,
              "ticks": ""
             }
            },
            "type": "parcoords"
           }
          ],
          "pie": [
           {
            "automargin": true,
            "type": "pie"
           }
          ],
          "scatter": [
           {
            "fillpattern": {
             "fillmode": "overlay",
             "size": 10,
             "solidity": 0.2
            },
            "type": "scatter"
           }
          ],
          "scatter3d": [
           {
            "line": {
             "colorbar": {
              "outlinewidth": 0,
              "ticks": ""
             }
            },
            "marker": {
             "colorbar": {
              "outlinewidth": 0,
              "ticks": ""
             }
            },
            "type": "scatter3d"
           }
          ],
          "scattercarpet": [
           {
            "marker": {
             "colorbar": {
              "outlinewidth": 0,
              "ticks": ""
             }
            },
            "type": "scattercarpet"
           }
          ],
          "scattergeo": [
           {
            "marker": {
             "colorbar": {
              "outlinewidth": 0,
              "ticks": ""
             }
            },
            "type": "scattergeo"
           }
          ],
          "scattergl": [
           {
            "marker": {
             "colorbar": {
              "outlinewidth": 0,
              "ticks": ""
             }
            },
            "type": "scattergl"
           }
          ],
          "scattermapbox": [
           {
            "marker": {
             "colorbar": {
              "outlinewidth": 0,
              "ticks": ""
             }
            },
            "type": "scattermapbox"
           }
          ],
          "scatterpolar": [
           {
            "marker": {
             "colorbar": {
              "outlinewidth": 0,
              "ticks": ""
             }
            },
            "type": "scatterpolar"
           }
          ],
          "scatterpolargl": [
           {
            "marker": {
             "colorbar": {
              "outlinewidth": 0,
              "ticks": ""
             }
            },
            "type": "scatterpolargl"
           }
          ],
          "scatterternary": [
           {
            "marker": {
             "colorbar": {
              "outlinewidth": 0,
              "ticks": ""
             }
            },
            "type": "scatterternary"
           }
          ],
          "surface": [
           {
            "colorbar": {
             "outlinewidth": 0,
             "ticks": ""
            },
            "colorscale": [
             [
              0,
              "#0d0887"
             ],
             [
              0.1111111111111111,
              "#46039f"
             ],
             [
              0.2222222222222222,
              "#7201a8"
             ],
             [
              0.3333333333333333,
              "#9c179e"
             ],
             [
              0.4444444444444444,
              "#bd3786"
             ],
             [
              0.5555555555555556,
              "#d8576b"
             ],
             [
              0.6666666666666666,
              "#ed7953"
             ],
             [
              0.7777777777777778,
              "#fb9f3a"
             ],
             [
              0.8888888888888888,
              "#fdca26"
             ],
             [
              1,
              "#f0f921"
             ]
            ],
            "type": "surface"
           }
          ],
          "table": [
           {
            "cells": {
             "fill": {
              "color": "#EBF0F8"
             },
             "line": {
              "color": "white"
             }
            },
            "header": {
             "fill": {
              "color": "#C8D4E3"
             },
             "line": {
              "color": "white"
             }
            },
            "type": "table"
           }
          ]
         },
         "layout": {
          "annotationdefaults": {
           "arrowcolor": "#2a3f5f",
           "arrowhead": 0,
           "arrowwidth": 1
          },
          "autotypenumbers": "strict",
          "coloraxis": {
           "colorbar": {
            "outlinewidth": 0,
            "ticks": ""
           }
          },
          "colorscale": {
           "diverging": [
            [
             0,
             "#8e0152"
            ],
            [
             0.1,
             "#c51b7d"
            ],
            [
             0.2,
             "#de77ae"
            ],
            [
             0.3,
             "#f1b6da"
            ],
            [
             0.4,
             "#fde0ef"
            ],
            [
             0.5,
             "#f7f7f7"
            ],
            [
             0.6,
             "#e6f5d0"
            ],
            [
             0.7,
             "#b8e186"
            ],
            [
             0.8,
             "#7fbc41"
            ],
            [
             0.9,
             "#4d9221"
            ],
            [
             1,
             "#276419"
            ]
           ],
           "sequential": [
            [
             0,
             "#0d0887"
            ],
            [
             0.1111111111111111,
             "#46039f"
            ],
            [
             0.2222222222222222,
             "#7201a8"
            ],
            [
             0.3333333333333333,
             "#9c179e"
            ],
            [
             0.4444444444444444,
             "#bd3786"
            ],
            [
             0.5555555555555556,
             "#d8576b"
            ],
            [
             0.6666666666666666,
             "#ed7953"
            ],
            [
             0.7777777777777778,
             "#fb9f3a"
            ],
            [
             0.8888888888888888,
             "#fdca26"
            ],
            [
             1,
             "#f0f921"
            ]
           ],
           "sequentialminus": [
            [
             0,
             "#0d0887"
            ],
            [
             0.1111111111111111,
             "#46039f"
            ],
            [
             0.2222222222222222,
             "#7201a8"
            ],
            [
             0.3333333333333333,
             "#9c179e"
            ],
            [
             0.4444444444444444,
             "#bd3786"
            ],
            [
             0.5555555555555556,
             "#d8576b"
            ],
            [
             0.6666666666666666,
             "#ed7953"
            ],
            [
             0.7777777777777778,
             "#fb9f3a"
            ],
            [
             0.8888888888888888,
             "#fdca26"
            ],
            [
             1,
             "#f0f921"
            ]
           ]
          },
          "colorway": [
           "#636efa",
           "#EF553B",
           "#00cc96",
           "#ab63fa",
           "#FFA15A",
           "#19d3f3",
           "#FF6692",
           "#B6E880",
           "#FF97FF",
           "#FECB52"
          ],
          "font": {
           "color": "#2a3f5f"
          },
          "geo": {
           "bgcolor": "white",
           "lakecolor": "white",
           "landcolor": "#E5ECF6",
           "showlakes": true,
           "showland": true,
           "subunitcolor": "white"
          },
          "hoverlabel": {
           "align": "left"
          },
          "hovermode": "closest",
          "mapbox": {
           "style": "light"
          },
          "paper_bgcolor": "white",
          "plot_bgcolor": "#E5ECF6",
          "polar": {
           "angularaxis": {
            "gridcolor": "white",
            "linecolor": "white",
            "ticks": ""
           },
           "bgcolor": "#E5ECF6",
           "radialaxis": {
            "gridcolor": "white",
            "linecolor": "white",
            "ticks": ""
           }
          },
          "scene": {
           "xaxis": {
            "backgroundcolor": "#E5ECF6",
            "gridcolor": "white",
            "gridwidth": 2,
            "linecolor": "white",
            "showbackground": true,
            "ticks": "",
            "zerolinecolor": "white"
           },
           "yaxis": {
            "backgroundcolor": "#E5ECF6",
            "gridcolor": "white",
            "gridwidth": 2,
            "linecolor": "white",
            "showbackground": true,
            "ticks": "",
            "zerolinecolor": "white"
           },
           "zaxis": {
            "backgroundcolor": "#E5ECF6",
            "gridcolor": "white",
            "gridwidth": 2,
            "linecolor": "white",
            "showbackground": true,
            "ticks": "",
            "zerolinecolor": "white"
           }
          },
          "shapedefaults": {
           "line": {
            "color": "#2a3f5f"
           }
          },
          "ternary": {
           "aaxis": {
            "gridcolor": "white",
            "linecolor": "white",
            "ticks": ""
           },
           "baxis": {
            "gridcolor": "white",
            "linecolor": "white",
            "ticks": ""
           },
           "bgcolor": "#E5ECF6",
           "caxis": {
            "gridcolor": "white",
            "linecolor": "white",
            "ticks": ""
           }
          },
          "title": {
           "x": 0.05
          },
          "xaxis": {
           "automargin": true,
           "gridcolor": "white",
           "linecolor": "white",
           "ticks": "",
           "title": {
            "standoff": 15
           },
           "zerolinecolor": "white",
           "zerolinewidth": 2
          },
          "yaxis": {
           "automargin": true,
           "gridcolor": "white",
           "linecolor": "white",
           "ticks": "",
           "title": {
            "standoff": 15
           },
           "zerolinecolor": "white",
           "zerolinewidth": 2
          }
         }
        },
        "title": {
         "text": "Female Founded?"
        }
       }
      },
      "text/html": [
       "<div>                            <div id=\"0120302a-ca1a-4501-b78b-1e62d0dc0a58\" class=\"plotly-graph-div\" style=\"height:525px; width:100%;\"></div>            <script type=\"text/javascript\">                require([\"plotly\"], function(Plotly) {                    window.PLOTLYENV=window.PLOTLYENV || {};                                    if (document.getElementById(\"0120302a-ca1a-4501-b78b-1e62d0dc0a58\")) {                    Plotly.newPlot(                        \"0120302a-ca1a-4501-b78b-1e62d0dc0a58\",                        [{\"domain\":{\"x\":[0.0,1.0],\"y\":[0.0,1.0]},\"hovertemplate\":\"Female founder?=%{label}<br>Number=%{value}<extra></extra>\",\"labels\":[\"No\",\"Yes\"],\"legendgroup\":\"\",\"name\":\"\",\"showlegend\":true,\"values\":[277,61],\"type\":\"pie\",\"textinfo\":\"percent+label\",\"textposition\":\"inside\"}],                        {\"template\":{\"data\":{\"histogram2dcontour\":[{\"type\":\"histogram2dcontour\",\"colorbar\":{\"outlinewidth\":0,\"ticks\":\"\"},\"colorscale\":[[0.0,\"#0d0887\"],[0.1111111111111111,\"#46039f\"],[0.2222222222222222,\"#7201a8\"],[0.3333333333333333,\"#9c179e\"],[0.4444444444444444,\"#bd3786\"],[0.5555555555555556,\"#d8576b\"],[0.6666666666666666,\"#ed7953\"],[0.7777777777777778,\"#fb9f3a\"],[0.8888888888888888,\"#fdca26\"],[1.0,\"#f0f921\"]]}],\"choropleth\":[{\"type\":\"choropleth\",\"colorbar\":{\"outlinewidth\":0,\"ticks\":\"\"}}],\"histogram2d\":[{\"type\":\"histogram2d\",\"colorbar\":{\"outlinewidth\":0,\"ticks\":\"\"},\"colorscale\":[[0.0,\"#0d0887\"],[0.1111111111111111,\"#46039f\"],[0.2222222222222222,\"#7201a8\"],[0.3333333333333333,\"#9c179e\"],[0.4444444444444444,\"#bd3786\"],[0.5555555555555556,\"#d8576b\"],[0.6666666666666666,\"#ed7953\"],[0.7777777777777778,\"#fb9f3a\"],[0.8888888888888888,\"#fdca26\"],[1.0,\"#f0f921\"]]}],\"heatmap\":[{\"type\":\"heatmap\",\"colorbar\":{\"outlinewidth\":0,\"ticks\":\"\"},\"colorscale\":[[0.0,\"#0d0887\"],[0.1111111111111111,\"#46039f\"],[0.2222222222222222,\"#7201a8\"],[0.3333333333333333,\"#9c179e\"],[0.4444444444444444,\"#bd3786\"],[0.5555555555555556,\"#d8576b\"],[0.6666666666666666,\"#ed7953\"],[0.7777777777777778,\"#fb9f3a\"],[0.8888888888888888,\"#fdca26\"],[1.0,\"#f0f921\"]]}],\"heatmapgl\":[{\"type\":\"heatmapgl\",\"colorbar\":{\"outlinewidth\":0,\"ticks\":\"\"},\"colorscale\":[[0.0,\"#0d0887\"],[0.1111111111111111,\"#46039f\"],[0.2222222222222222,\"#7201a8\"],[0.3333333333333333,\"#9c179e\"],[0.4444444444444444,\"#bd3786\"],[0.5555555555555556,\"#d8576b\"],[0.6666666666666666,\"#ed7953\"],[0.7777777777777778,\"#fb9f3a\"],[0.8888888888888888,\"#fdca26\"],[1.0,\"#f0f921\"]]}],\"contourcarpet\":[{\"type\":\"contourcarpet\",\"colorbar\":{\"outlinewidth\":0,\"ticks\":\"\"}}],\"contour\":[{\"type\":\"contour\",\"colorbar\":{\"outlinewidth\":0,\"ticks\":\"\"},\"colorscale\":[[0.0,\"#0d0887\"],[0.1111111111111111,\"#46039f\"],[0.2222222222222222,\"#7201a8\"],[0.3333333333333333,\"#9c179e\"],[0.4444444444444444,\"#bd3786\"],[0.5555555555555556,\"#d8576b\"],[0.6666666666666666,\"#ed7953\"],[0.7777777777777778,\"#fb9f3a\"],[0.8888888888888888,\"#fdca26\"],[1.0,\"#f0f921\"]]}],\"surface\":[{\"type\":\"surface\",\"colorbar\":{\"outlinewidth\":0,\"ticks\":\"\"},\"colorscale\":[[0.0,\"#0d0887\"],[0.1111111111111111,\"#46039f\"],[0.2222222222222222,\"#7201a8\"],[0.3333333333333333,\"#9c179e\"],[0.4444444444444444,\"#bd3786\"],[0.5555555555555556,\"#d8576b\"],[0.6666666666666666,\"#ed7953\"],[0.7777777777777778,\"#fb9f3a\"],[0.8888888888888888,\"#fdca26\"],[1.0,\"#f0f921\"]]}],\"mesh3d\":[{\"type\":\"mesh3d\",\"colorbar\":{\"outlinewidth\":0,\"ticks\":\"\"}}],\"scatter\":[{\"fillpattern\":{\"fillmode\":\"overlay\",\"size\":10,\"solidity\":0.2},\"type\":\"scatter\"}],\"parcoords\":[{\"type\":\"parcoords\",\"line\":{\"colorbar\":{\"outlinewidth\":0,\"ticks\":\"\"}}}],\"scatterpolargl\":[{\"type\":\"scatterpolargl\",\"marker\":{\"colorbar\":{\"outlinewidth\":0,\"ticks\":\"\"}}}],\"bar\":[{\"error_x\":{\"color\":\"#2a3f5f\"},\"error_y\":{\"color\":\"#2a3f5f\"},\"marker\":{\"line\":{\"color\":\"#E5ECF6\",\"width\":0.5},\"pattern\":{\"fillmode\":\"overlay\",\"size\":10,\"solidity\":0.2}},\"type\":\"bar\"}],\"scattergeo\":[{\"type\":\"scattergeo\",\"marker\":{\"colorbar\":{\"outlinewidth\":0,\"ticks\":\"\"}}}],\"scatterpolar\":[{\"type\":\"scatterpolar\",\"marker\":{\"colorbar\":{\"outlinewidth\":0,\"ticks\":\"\"}}}],\"histogram\":[{\"marker\":{\"pattern\":{\"fillmode\":\"overlay\",\"size\":10,\"solidity\":0.2}},\"type\":\"histogram\"}],\"scattergl\":[{\"type\":\"scattergl\",\"marker\":{\"colorbar\":{\"outlinewidth\":0,\"ticks\":\"\"}}}],\"scatter3d\":[{\"type\":\"scatter3d\",\"line\":{\"colorbar\":{\"outlinewidth\":0,\"ticks\":\"\"}},\"marker\":{\"colorbar\":{\"outlinewidth\":0,\"ticks\":\"\"}}}],\"scattermapbox\":[{\"type\":\"scattermapbox\",\"marker\":{\"colorbar\":{\"outlinewidth\":0,\"ticks\":\"\"}}}],\"scatterternary\":[{\"type\":\"scatterternary\",\"marker\":{\"colorbar\":{\"outlinewidth\":0,\"ticks\":\"\"}}}],\"scattercarpet\":[{\"type\":\"scattercarpet\",\"marker\":{\"colorbar\":{\"outlinewidth\":0,\"ticks\":\"\"}}}],\"carpet\":[{\"aaxis\":{\"endlinecolor\":\"#2a3f5f\",\"gridcolor\":\"white\",\"linecolor\":\"white\",\"minorgridcolor\":\"white\",\"startlinecolor\":\"#2a3f5f\"},\"baxis\":{\"endlinecolor\":\"#2a3f5f\",\"gridcolor\":\"white\",\"linecolor\":\"white\",\"minorgridcolor\":\"white\",\"startlinecolor\":\"#2a3f5f\"},\"type\":\"carpet\"}],\"table\":[{\"cells\":{\"fill\":{\"color\":\"#EBF0F8\"},\"line\":{\"color\":\"white\"}},\"header\":{\"fill\":{\"color\":\"#C8D4E3\"},\"line\":{\"color\":\"white\"}},\"type\":\"table\"}],\"barpolar\":[{\"marker\":{\"line\":{\"color\":\"#E5ECF6\",\"width\":0.5},\"pattern\":{\"fillmode\":\"overlay\",\"size\":10,\"solidity\":0.2}},\"type\":\"barpolar\"}],\"pie\":[{\"automargin\":true,\"type\":\"pie\"}]},\"layout\":{\"autotypenumbers\":\"strict\",\"colorway\":[\"#636efa\",\"#EF553B\",\"#00cc96\",\"#ab63fa\",\"#FFA15A\",\"#19d3f3\",\"#FF6692\",\"#B6E880\",\"#FF97FF\",\"#FECB52\"],\"font\":{\"color\":\"#2a3f5f\"},\"hovermode\":\"closest\",\"hoverlabel\":{\"align\":\"left\"},\"paper_bgcolor\":\"white\",\"plot_bgcolor\":\"#E5ECF6\",\"polar\":{\"bgcolor\":\"#E5ECF6\",\"angularaxis\":{\"gridcolor\":\"white\",\"linecolor\":\"white\",\"ticks\":\"\"},\"radialaxis\":{\"gridcolor\":\"white\",\"linecolor\":\"white\",\"ticks\":\"\"}},\"ternary\":{\"bgcolor\":\"#E5ECF6\",\"aaxis\":{\"gridcolor\":\"white\",\"linecolor\":\"white\",\"ticks\":\"\"},\"baxis\":{\"gridcolor\":\"white\",\"linecolor\":\"white\",\"ticks\":\"\"},\"caxis\":{\"gridcolor\":\"white\",\"linecolor\":\"white\",\"ticks\":\"\"}},\"coloraxis\":{\"colorbar\":{\"outlinewidth\":0,\"ticks\":\"\"}},\"colorscale\":{\"sequential\":[[0.0,\"#0d0887\"],[0.1111111111111111,\"#46039f\"],[0.2222222222222222,\"#7201a8\"],[0.3333333333333333,\"#9c179e\"],[0.4444444444444444,\"#bd3786\"],[0.5555555555555556,\"#d8576b\"],[0.6666666666666666,\"#ed7953\"],[0.7777777777777778,\"#fb9f3a\"],[0.8888888888888888,\"#fdca26\"],[1.0,\"#f0f921\"]],\"sequentialminus\":[[0.0,\"#0d0887\"],[0.1111111111111111,\"#46039f\"],[0.2222222222222222,\"#7201a8\"],[0.3333333333333333,\"#9c179e\"],[0.4444444444444444,\"#bd3786\"],[0.5555555555555556,\"#d8576b\"],[0.6666666666666666,\"#ed7953\"],[0.7777777777777778,\"#fb9f3a\"],[0.8888888888888888,\"#fdca26\"],[1.0,\"#f0f921\"]],\"diverging\":[[0,\"#8e0152\"],[0.1,\"#c51b7d\"],[0.2,\"#de77ae\"],[0.3,\"#f1b6da\"],[0.4,\"#fde0ef\"],[0.5,\"#f7f7f7\"],[0.6,\"#e6f5d0\"],[0.7,\"#b8e186\"],[0.8,\"#7fbc41\"],[0.9,\"#4d9221\"],[1,\"#276419\"]]},\"xaxis\":{\"gridcolor\":\"white\",\"linecolor\":\"white\",\"ticks\":\"\",\"title\":{\"standoff\":15},\"zerolinecolor\":\"white\",\"automargin\":true,\"zerolinewidth\":2},\"yaxis\":{\"gridcolor\":\"white\",\"linecolor\":\"white\",\"ticks\":\"\",\"title\":{\"standoff\":15},\"zerolinecolor\":\"white\",\"automargin\":true,\"zerolinewidth\":2},\"scene\":{\"xaxis\":{\"backgroundcolor\":\"#E5ECF6\",\"gridcolor\":\"white\",\"linecolor\":\"white\",\"showbackground\":true,\"ticks\":\"\",\"zerolinecolor\":\"white\",\"gridwidth\":2},\"yaxis\":{\"backgroundcolor\":\"#E5ECF6\",\"gridcolor\":\"white\",\"linecolor\":\"white\",\"showbackground\":true,\"ticks\":\"\",\"zerolinecolor\":\"white\",\"gridwidth\":2},\"zaxis\":{\"backgroundcolor\":\"#E5ECF6\",\"gridcolor\":\"white\",\"linecolor\":\"white\",\"showbackground\":true,\"ticks\":\"\",\"zerolinecolor\":\"white\",\"gridwidth\":2}},\"shapedefaults\":{\"line\":{\"color\":\"#2a3f5f\"}},\"annotationdefaults\":{\"arrowcolor\":\"#2a3f5f\",\"arrowhead\":0,\"arrowwidth\":1},\"geo\":{\"bgcolor\":\"white\",\"landcolor\":\"#E5ECF6\",\"subunitcolor\":\"white\",\"showland\":true,\"showlakes\":true,\"lakecolor\":\"white\"},\"title\":{\"x\":0.05},\"mapbox\":{\"style\":\"light\"}}},\"legend\":{\"tracegroupgap\":0},\"title\":{\"text\":\"Female Founded?\"}},                        {\"responsive\": true}                    ).then(function(){\n",
       "                            \n",
       "var gd = document.getElementById('0120302a-ca1a-4501-b78b-1e62d0dc0a58');\n",
       "var x = new MutationObserver(function (mutations, observer) {{\n",
       "        var display = window.getComputedStyle(gd).display;\n",
       "        if (!display || display === 'none') {{\n",
       "            console.log([gd, 'removed!']);\n",
       "            Plotly.purge(gd);\n",
       "            observer.disconnect();\n",
       "        }}\n",
       "}});\n",
       "\n",
       "// Listen for the removal of the full notebook cells\n",
       "var notebookContainer = gd.closest('#notebook-container');\n",
       "if (notebookContainer) {{\n",
       "    x.observe(notebookContainer, {childList: true});\n",
       "}}\n",
       "\n",
       "// Listen for the clearing of the current output cell\n",
       "var outputEl = gd.closest('.output');\n",
       "if (outputEl) {{\n",
       "    x.observe(outputEl, {childList: true});\n",
       "}}\n",
       "\n",
       "                        })                };                });            </script>        </div>"
      ]
     },
     "metadata": {},
     "output_type": "display_data"
    }
   ],
   "source": [
    "female_led = df.groupby(['Female founder?']).size().to_frame('Number')\n",
    "female_led\n",
    "fig_locations = px.pie(female_led, values='Number', names=female_led.index, title='Female Founded?')\n",
    "fig_locations.update_traces(textposition='inside', textinfo='percent+label')\n",
    "fig_locations.show()"
   ]
  },
  {
   "cell_type": "code",
   "execution_count": 165,
   "id": "a376bccc",
   "metadata": {},
   "outputs": [
    {
     "data": {
      "application/vnd.plotly.v1+json": {
       "config": {
        "plotlyServerURL": "https://plot.ly"
       },
       "data": [
        {
         "hovertemplate": "Year of launch=%{x}<br>Number=%{y}<extra></extra>",
         "legendgroup": "",
         "line": {
          "color": "#636efa",
          "dash": "solid"
         },
         "marker": {
          "symbol": "circle"
         },
         "mode": "lines",
         "name": "",
         "orientation": "v",
         "showlegend": false,
         "type": "scatter",
         "x": [
          2006,
          2008,
          2009,
          2010,
          2011,
          2012,
          2013,
          2014,
          2015,
          2016,
          2017,
          2018,
          2019,
          2020,
          2021,
          2022
         ],
         "xaxis": "x",
         "y": [
          1,
          1,
          1,
          1,
          2,
          4,
          4,
          7,
          3,
          10,
          10,
          3,
          2,
          6,
          2,
          4
         ],
         "yaxis": "y"
        }
       ],
       "layout": {
        "legend": {
         "tracegroupgap": 0
        },
        "template": {
         "data": {
          "bar": [
           {
            "error_x": {
             "color": "#2a3f5f"
            },
            "error_y": {
             "color": "#2a3f5f"
            },
            "marker": {
             "line": {
              "color": "#E5ECF6",
              "width": 0.5
             },
             "pattern": {
              "fillmode": "overlay",
              "size": 10,
              "solidity": 0.2
             }
            },
            "type": "bar"
           }
          ],
          "barpolar": [
           {
            "marker": {
             "line": {
              "color": "#E5ECF6",
              "width": 0.5
             },
             "pattern": {
              "fillmode": "overlay",
              "size": 10,
              "solidity": 0.2
             }
            },
            "type": "barpolar"
           }
          ],
          "carpet": [
           {
            "aaxis": {
             "endlinecolor": "#2a3f5f",
             "gridcolor": "white",
             "linecolor": "white",
             "minorgridcolor": "white",
             "startlinecolor": "#2a3f5f"
            },
            "baxis": {
             "endlinecolor": "#2a3f5f",
             "gridcolor": "white",
             "linecolor": "white",
             "minorgridcolor": "white",
             "startlinecolor": "#2a3f5f"
            },
            "type": "carpet"
           }
          ],
          "choropleth": [
           {
            "colorbar": {
             "outlinewidth": 0,
             "ticks": ""
            },
            "type": "choropleth"
           }
          ],
          "contour": [
           {
            "colorbar": {
             "outlinewidth": 0,
             "ticks": ""
            },
            "colorscale": [
             [
              0,
              "#0d0887"
             ],
             [
              0.1111111111111111,
              "#46039f"
             ],
             [
              0.2222222222222222,
              "#7201a8"
             ],
             [
              0.3333333333333333,
              "#9c179e"
             ],
             [
              0.4444444444444444,
              "#bd3786"
             ],
             [
              0.5555555555555556,
              "#d8576b"
             ],
             [
              0.6666666666666666,
              "#ed7953"
             ],
             [
              0.7777777777777778,
              "#fb9f3a"
             ],
             [
              0.8888888888888888,
              "#fdca26"
             ],
             [
              1,
              "#f0f921"
             ]
            ],
            "type": "contour"
           }
          ],
          "contourcarpet": [
           {
            "colorbar": {
             "outlinewidth": 0,
             "ticks": ""
            },
            "type": "contourcarpet"
           }
          ],
          "heatmap": [
           {
            "colorbar": {
             "outlinewidth": 0,
             "ticks": ""
            },
            "colorscale": [
             [
              0,
              "#0d0887"
             ],
             [
              0.1111111111111111,
              "#46039f"
             ],
             [
              0.2222222222222222,
              "#7201a8"
             ],
             [
              0.3333333333333333,
              "#9c179e"
             ],
             [
              0.4444444444444444,
              "#bd3786"
             ],
             [
              0.5555555555555556,
              "#d8576b"
             ],
             [
              0.6666666666666666,
              "#ed7953"
             ],
             [
              0.7777777777777778,
              "#fb9f3a"
             ],
             [
              0.8888888888888888,
              "#fdca26"
             ],
             [
              1,
              "#f0f921"
             ]
            ],
            "type": "heatmap"
           }
          ],
          "heatmapgl": [
           {
            "colorbar": {
             "outlinewidth": 0,
             "ticks": ""
            },
            "colorscale": [
             [
              0,
              "#0d0887"
             ],
             [
              0.1111111111111111,
              "#46039f"
             ],
             [
              0.2222222222222222,
              "#7201a8"
             ],
             [
              0.3333333333333333,
              "#9c179e"
             ],
             [
              0.4444444444444444,
              "#bd3786"
             ],
             [
              0.5555555555555556,
              "#d8576b"
             ],
             [
              0.6666666666666666,
              "#ed7953"
             ],
             [
              0.7777777777777778,
              "#fb9f3a"
             ],
             [
              0.8888888888888888,
              "#fdca26"
             ],
             [
              1,
              "#f0f921"
             ]
            ],
            "type": "heatmapgl"
           }
          ],
          "histogram": [
           {
            "marker": {
             "pattern": {
              "fillmode": "overlay",
              "size": 10,
              "solidity": 0.2
             }
            },
            "type": "histogram"
           }
          ],
          "histogram2d": [
           {
            "colorbar": {
             "outlinewidth": 0,
             "ticks": ""
            },
            "colorscale": [
             [
              0,
              "#0d0887"
             ],
             [
              0.1111111111111111,
              "#46039f"
             ],
             [
              0.2222222222222222,
              "#7201a8"
             ],
             [
              0.3333333333333333,
              "#9c179e"
             ],
             [
              0.4444444444444444,
              "#bd3786"
             ],
             [
              0.5555555555555556,
              "#d8576b"
             ],
             [
              0.6666666666666666,
              "#ed7953"
             ],
             [
              0.7777777777777778,
              "#fb9f3a"
             ],
             [
              0.8888888888888888,
              "#fdca26"
             ],
             [
              1,
              "#f0f921"
             ]
            ],
            "type": "histogram2d"
           }
          ],
          "histogram2dcontour": [
           {
            "colorbar": {
             "outlinewidth": 0,
             "ticks": ""
            },
            "colorscale": [
             [
              0,
              "#0d0887"
             ],
             [
              0.1111111111111111,
              "#46039f"
             ],
             [
              0.2222222222222222,
              "#7201a8"
             ],
             [
              0.3333333333333333,
              "#9c179e"
             ],
             [
              0.4444444444444444,
              "#bd3786"
             ],
             [
              0.5555555555555556,
              "#d8576b"
             ],
             [
              0.6666666666666666,
              "#ed7953"
             ],
             [
              0.7777777777777778,
              "#fb9f3a"
             ],
             [
              0.8888888888888888,
              "#fdca26"
             ],
             [
              1,
              "#f0f921"
             ]
            ],
            "type": "histogram2dcontour"
           }
          ],
          "mesh3d": [
           {
            "colorbar": {
             "outlinewidth": 0,
             "ticks": ""
            },
            "type": "mesh3d"
           }
          ],
          "parcoords": [
           {
            "line": {
             "colorbar": {
              "outlinewidth": 0,
              "ticks": ""
             }
            },
            "type": "parcoords"
           }
          ],
          "pie": [
           {
            "automargin": true,
            "type": "pie"
           }
          ],
          "scatter": [
           {
            "fillpattern": {
             "fillmode": "overlay",
             "size": 10,
             "solidity": 0.2
            },
            "type": "scatter"
           }
          ],
          "scatter3d": [
           {
            "line": {
             "colorbar": {
              "outlinewidth": 0,
              "ticks": ""
             }
            },
            "marker": {
             "colorbar": {
              "outlinewidth": 0,
              "ticks": ""
             }
            },
            "type": "scatter3d"
           }
          ],
          "scattercarpet": [
           {
            "marker": {
             "colorbar": {
              "outlinewidth": 0,
              "ticks": ""
             }
            },
            "type": "scattercarpet"
           }
          ],
          "scattergeo": [
           {
            "marker": {
             "colorbar": {
              "outlinewidth": 0,
              "ticks": ""
             }
            },
            "type": "scattergeo"
           }
          ],
          "scattergl": [
           {
            "marker": {
             "colorbar": {
              "outlinewidth": 0,
              "ticks": ""
             }
            },
            "type": "scattergl"
           }
          ],
          "scattermapbox": [
           {
            "marker": {
             "colorbar": {
              "outlinewidth": 0,
              "ticks": ""
             }
            },
            "type": "scattermapbox"
           }
          ],
          "scatterpolar": [
           {
            "marker": {
             "colorbar": {
              "outlinewidth": 0,
              "ticks": ""
             }
            },
            "type": "scatterpolar"
           }
          ],
          "scatterpolargl": [
           {
            "marker": {
             "colorbar": {
              "outlinewidth": 0,
              "ticks": ""
             }
            },
            "type": "scatterpolargl"
           }
          ],
          "scatterternary": [
           {
            "marker": {
             "colorbar": {
              "outlinewidth": 0,
              "ticks": ""
             }
            },
            "type": "scatterternary"
           }
          ],
          "surface": [
           {
            "colorbar": {
             "outlinewidth": 0,
             "ticks": ""
            },
            "colorscale": [
             [
              0,
              "#0d0887"
             ],
             [
              0.1111111111111111,
              "#46039f"
             ],
             [
              0.2222222222222222,
              "#7201a8"
             ],
             [
              0.3333333333333333,
              "#9c179e"
             ],
             [
              0.4444444444444444,
              "#bd3786"
             ],
             [
              0.5555555555555556,
              "#d8576b"
             ],
             [
              0.6666666666666666,
              "#ed7953"
             ],
             [
              0.7777777777777778,
              "#fb9f3a"
             ],
             [
              0.8888888888888888,
              "#fdca26"
             ],
             [
              1,
              "#f0f921"
             ]
            ],
            "type": "surface"
           }
          ],
          "table": [
           {
            "cells": {
             "fill": {
              "color": "#EBF0F8"
             },
             "line": {
              "color": "white"
             }
            },
            "header": {
             "fill": {
              "color": "#C8D4E3"
             },
             "line": {
              "color": "white"
             }
            },
            "type": "table"
           }
          ]
         },
         "layout": {
          "annotationdefaults": {
           "arrowcolor": "#2a3f5f",
           "arrowhead": 0,
           "arrowwidth": 1
          },
          "autotypenumbers": "strict",
          "coloraxis": {
           "colorbar": {
            "outlinewidth": 0,
            "ticks": ""
           }
          },
          "colorscale": {
           "diverging": [
            [
             0,
             "#8e0152"
            ],
            [
             0.1,
             "#c51b7d"
            ],
            [
             0.2,
             "#de77ae"
            ],
            [
             0.3,
             "#f1b6da"
            ],
            [
             0.4,
             "#fde0ef"
            ],
            [
             0.5,
             "#f7f7f7"
            ],
            [
             0.6,
             "#e6f5d0"
            ],
            [
             0.7,
             "#b8e186"
            ],
            [
             0.8,
             "#7fbc41"
            ],
            [
             0.9,
             "#4d9221"
            ],
            [
             1,
             "#276419"
            ]
           ],
           "sequential": [
            [
             0,
             "#0d0887"
            ],
            [
             0.1111111111111111,
             "#46039f"
            ],
            [
             0.2222222222222222,
             "#7201a8"
            ],
            [
             0.3333333333333333,
             "#9c179e"
            ],
            [
             0.4444444444444444,
             "#bd3786"
            ],
            [
             0.5555555555555556,
             "#d8576b"
            ],
            [
             0.6666666666666666,
             "#ed7953"
            ],
            [
             0.7777777777777778,
             "#fb9f3a"
            ],
            [
             0.8888888888888888,
             "#fdca26"
            ],
            [
             1,
             "#f0f921"
            ]
           ],
           "sequentialminus": [
            [
             0,
             "#0d0887"
            ],
            [
             0.1111111111111111,
             "#46039f"
            ],
            [
             0.2222222222222222,
             "#7201a8"
            ],
            [
             0.3333333333333333,
             "#9c179e"
            ],
            [
             0.4444444444444444,
             "#bd3786"
            ],
            [
             0.5555555555555556,
             "#d8576b"
            ],
            [
             0.6666666666666666,
             "#ed7953"
            ],
            [
             0.7777777777777778,
             "#fb9f3a"
            ],
            [
             0.8888888888888888,
             "#fdca26"
            ],
            [
             1,
             "#f0f921"
            ]
           ]
          },
          "colorway": [
           "#636efa",
           "#EF553B",
           "#00cc96",
           "#ab63fa",
           "#FFA15A",
           "#19d3f3",
           "#FF6692",
           "#B6E880",
           "#FF97FF",
           "#FECB52"
          ],
          "font": {
           "color": "#2a3f5f"
          },
          "geo": {
           "bgcolor": "white",
           "lakecolor": "white",
           "landcolor": "#E5ECF6",
           "showlakes": true,
           "showland": true,
           "subunitcolor": "white"
          },
          "hoverlabel": {
           "align": "left"
          },
          "hovermode": "closest",
          "mapbox": {
           "style": "light"
          },
          "paper_bgcolor": "white",
          "plot_bgcolor": "#E5ECF6",
          "polar": {
           "angularaxis": {
            "gridcolor": "white",
            "linecolor": "white",
            "ticks": ""
           },
           "bgcolor": "#E5ECF6",
           "radialaxis": {
            "gridcolor": "white",
            "linecolor": "white",
            "ticks": ""
           }
          },
          "scene": {
           "xaxis": {
            "backgroundcolor": "#E5ECF6",
            "gridcolor": "white",
            "gridwidth": 2,
            "linecolor": "white",
            "showbackground": true,
            "ticks": "",
            "zerolinecolor": "white"
           },
           "yaxis": {
            "backgroundcolor": "#E5ECF6",
            "gridcolor": "white",
            "gridwidth": 2,
            "linecolor": "white",
            "showbackground": true,
            "ticks": "",
            "zerolinecolor": "white"
           },
           "zaxis": {
            "backgroundcolor": "#E5ECF6",
            "gridcolor": "white",
            "gridwidth": 2,
            "linecolor": "white",
            "showbackground": true,
            "ticks": "",
            "zerolinecolor": "white"
           }
          },
          "shapedefaults": {
           "line": {
            "color": "#2a3f5f"
           }
          },
          "ternary": {
           "aaxis": {
            "gridcolor": "white",
            "linecolor": "white",
            "ticks": ""
           },
           "baxis": {
            "gridcolor": "white",
            "linecolor": "white",
            "ticks": ""
           },
           "bgcolor": "#E5ECF6",
           "caxis": {
            "gridcolor": "white",
            "linecolor": "white",
            "ticks": ""
           }
          },
          "title": {
           "x": 0.05
          },
          "xaxis": {
           "automargin": true,
           "gridcolor": "white",
           "linecolor": "white",
           "ticks": "",
           "title": {
            "standoff": 15
           },
           "zerolinecolor": "white",
           "zerolinewidth": 2
          },
          "yaxis": {
           "automargin": true,
           "gridcolor": "white",
           "linecolor": "white",
           "ticks": "",
           "title": {
            "standoff": 15
           },
           "zerolinecolor": "white",
           "zerolinewidth": 2
          }
         }
        },
        "title": {
         "text": "Trend in Female Founded Companies"
        },
        "xaxis": {
         "anchor": "y",
         "domain": [
          0,
          1
         ],
         "title": {
          "text": "Year of launch"
         }
        },
        "yaxis": {
         "anchor": "x",
         "domain": [
          0,
          1
         ],
         "title": {
          "text": "Number"
         }
        }
       }
      },
      "text/html": [
       "<div>                            <div id=\"e76d097b-fd58-46ed-9fef-e6b26fbb4144\" class=\"plotly-graph-div\" style=\"height:525px; width:100%;\"></div>            <script type=\"text/javascript\">                require([\"plotly\"], function(Plotly) {                    window.PLOTLYENV=window.PLOTLYENV || {};                                    if (document.getElementById(\"e76d097b-fd58-46ed-9fef-e6b26fbb4144\")) {                    Plotly.newPlot(                        \"e76d097b-fd58-46ed-9fef-e6b26fbb4144\",                        [{\"hovertemplate\":\"Year of launch=%{x}<br>Number=%{y}<extra></extra>\",\"legendgroup\":\"\",\"line\":{\"color\":\"#636efa\",\"dash\":\"solid\"},\"marker\":{\"symbol\":\"circle\"},\"mode\":\"lines\",\"name\":\"\",\"orientation\":\"v\",\"showlegend\":false,\"x\":[2006.0,2008.0,2009.0,2010.0,2011.0,2012.0,2013.0,2014.0,2015.0,2016.0,2017.0,2018.0,2019.0,2020.0,2021.0,2022.0],\"xaxis\":\"x\",\"y\":[1,1,1,1,2,4,4,7,3,10,10,3,2,6,2,4],\"yaxis\":\"y\",\"type\":\"scatter\"}],                        {\"template\":{\"data\":{\"histogram2dcontour\":[{\"type\":\"histogram2dcontour\",\"colorbar\":{\"outlinewidth\":0,\"ticks\":\"\"},\"colorscale\":[[0.0,\"#0d0887\"],[0.1111111111111111,\"#46039f\"],[0.2222222222222222,\"#7201a8\"],[0.3333333333333333,\"#9c179e\"],[0.4444444444444444,\"#bd3786\"],[0.5555555555555556,\"#d8576b\"],[0.6666666666666666,\"#ed7953\"],[0.7777777777777778,\"#fb9f3a\"],[0.8888888888888888,\"#fdca26\"],[1.0,\"#f0f921\"]]}],\"choropleth\":[{\"type\":\"choropleth\",\"colorbar\":{\"outlinewidth\":0,\"ticks\":\"\"}}],\"histogram2d\":[{\"type\":\"histogram2d\",\"colorbar\":{\"outlinewidth\":0,\"ticks\":\"\"},\"colorscale\":[[0.0,\"#0d0887\"],[0.1111111111111111,\"#46039f\"],[0.2222222222222222,\"#7201a8\"],[0.3333333333333333,\"#9c179e\"],[0.4444444444444444,\"#bd3786\"],[0.5555555555555556,\"#d8576b\"],[0.6666666666666666,\"#ed7953\"],[0.7777777777777778,\"#fb9f3a\"],[0.8888888888888888,\"#fdca26\"],[1.0,\"#f0f921\"]]}],\"heatmap\":[{\"type\":\"heatmap\",\"colorbar\":{\"outlinewidth\":0,\"ticks\":\"\"},\"colorscale\":[[0.0,\"#0d0887\"],[0.1111111111111111,\"#46039f\"],[0.2222222222222222,\"#7201a8\"],[0.3333333333333333,\"#9c179e\"],[0.4444444444444444,\"#bd3786\"],[0.5555555555555556,\"#d8576b\"],[0.6666666666666666,\"#ed7953\"],[0.7777777777777778,\"#fb9f3a\"],[0.8888888888888888,\"#fdca26\"],[1.0,\"#f0f921\"]]}],\"heatmapgl\":[{\"type\":\"heatmapgl\",\"colorbar\":{\"outlinewidth\":0,\"ticks\":\"\"},\"colorscale\":[[0.0,\"#0d0887\"],[0.1111111111111111,\"#46039f\"],[0.2222222222222222,\"#7201a8\"],[0.3333333333333333,\"#9c179e\"],[0.4444444444444444,\"#bd3786\"],[0.5555555555555556,\"#d8576b\"],[0.6666666666666666,\"#ed7953\"],[0.7777777777777778,\"#fb9f3a\"],[0.8888888888888888,\"#fdca26\"],[1.0,\"#f0f921\"]]}],\"contourcarpet\":[{\"type\":\"contourcarpet\",\"colorbar\":{\"outlinewidth\":0,\"ticks\":\"\"}}],\"contour\":[{\"type\":\"contour\",\"colorbar\":{\"outlinewidth\":0,\"ticks\":\"\"},\"colorscale\":[[0.0,\"#0d0887\"],[0.1111111111111111,\"#46039f\"],[0.2222222222222222,\"#7201a8\"],[0.3333333333333333,\"#9c179e\"],[0.4444444444444444,\"#bd3786\"],[0.5555555555555556,\"#d8576b\"],[0.6666666666666666,\"#ed7953\"],[0.7777777777777778,\"#fb9f3a\"],[0.8888888888888888,\"#fdca26\"],[1.0,\"#f0f921\"]]}],\"surface\":[{\"type\":\"surface\",\"colorbar\":{\"outlinewidth\":0,\"ticks\":\"\"},\"colorscale\":[[0.0,\"#0d0887\"],[0.1111111111111111,\"#46039f\"],[0.2222222222222222,\"#7201a8\"],[0.3333333333333333,\"#9c179e\"],[0.4444444444444444,\"#bd3786\"],[0.5555555555555556,\"#d8576b\"],[0.6666666666666666,\"#ed7953\"],[0.7777777777777778,\"#fb9f3a\"],[0.8888888888888888,\"#fdca26\"],[1.0,\"#f0f921\"]]}],\"mesh3d\":[{\"type\":\"mesh3d\",\"colorbar\":{\"outlinewidth\":0,\"ticks\":\"\"}}],\"scatter\":[{\"fillpattern\":{\"fillmode\":\"overlay\",\"size\":10,\"solidity\":0.2},\"type\":\"scatter\"}],\"parcoords\":[{\"type\":\"parcoords\",\"line\":{\"colorbar\":{\"outlinewidth\":0,\"ticks\":\"\"}}}],\"scatterpolargl\":[{\"type\":\"scatterpolargl\",\"marker\":{\"colorbar\":{\"outlinewidth\":0,\"ticks\":\"\"}}}],\"bar\":[{\"error_x\":{\"color\":\"#2a3f5f\"},\"error_y\":{\"color\":\"#2a3f5f\"},\"marker\":{\"line\":{\"color\":\"#E5ECF6\",\"width\":0.5},\"pattern\":{\"fillmode\":\"overlay\",\"size\":10,\"solidity\":0.2}},\"type\":\"bar\"}],\"scattergeo\":[{\"type\":\"scattergeo\",\"marker\":{\"colorbar\":{\"outlinewidth\":0,\"ticks\":\"\"}}}],\"scatterpolar\":[{\"type\":\"scatterpolar\",\"marker\":{\"colorbar\":{\"outlinewidth\":0,\"ticks\":\"\"}}}],\"histogram\":[{\"marker\":{\"pattern\":{\"fillmode\":\"overlay\",\"size\":10,\"solidity\":0.2}},\"type\":\"histogram\"}],\"scattergl\":[{\"type\":\"scattergl\",\"marker\":{\"colorbar\":{\"outlinewidth\":0,\"ticks\":\"\"}}}],\"scatter3d\":[{\"type\":\"scatter3d\",\"line\":{\"colorbar\":{\"outlinewidth\":0,\"ticks\":\"\"}},\"marker\":{\"colorbar\":{\"outlinewidth\":0,\"ticks\":\"\"}}}],\"scattermapbox\":[{\"type\":\"scattermapbox\",\"marker\":{\"colorbar\":{\"outlinewidth\":0,\"ticks\":\"\"}}}],\"scatterternary\":[{\"type\":\"scatterternary\",\"marker\":{\"colorbar\":{\"outlinewidth\":0,\"ticks\":\"\"}}}],\"scattercarpet\":[{\"type\":\"scattercarpet\",\"marker\":{\"colorbar\":{\"outlinewidth\":0,\"ticks\":\"\"}}}],\"carpet\":[{\"aaxis\":{\"endlinecolor\":\"#2a3f5f\",\"gridcolor\":\"white\",\"linecolor\":\"white\",\"minorgridcolor\":\"white\",\"startlinecolor\":\"#2a3f5f\"},\"baxis\":{\"endlinecolor\":\"#2a3f5f\",\"gridcolor\":\"white\",\"linecolor\":\"white\",\"minorgridcolor\":\"white\",\"startlinecolor\":\"#2a3f5f\"},\"type\":\"carpet\"}],\"table\":[{\"cells\":{\"fill\":{\"color\":\"#EBF0F8\"},\"line\":{\"color\":\"white\"}},\"header\":{\"fill\":{\"color\":\"#C8D4E3\"},\"line\":{\"color\":\"white\"}},\"type\":\"table\"}],\"barpolar\":[{\"marker\":{\"line\":{\"color\":\"#E5ECF6\",\"width\":0.5},\"pattern\":{\"fillmode\":\"overlay\",\"size\":10,\"solidity\":0.2}},\"type\":\"barpolar\"}],\"pie\":[{\"automargin\":true,\"type\":\"pie\"}]},\"layout\":{\"autotypenumbers\":\"strict\",\"colorway\":[\"#636efa\",\"#EF553B\",\"#00cc96\",\"#ab63fa\",\"#FFA15A\",\"#19d3f3\",\"#FF6692\",\"#B6E880\",\"#FF97FF\",\"#FECB52\"],\"font\":{\"color\":\"#2a3f5f\"},\"hovermode\":\"closest\",\"hoverlabel\":{\"align\":\"left\"},\"paper_bgcolor\":\"white\",\"plot_bgcolor\":\"#E5ECF6\",\"polar\":{\"bgcolor\":\"#E5ECF6\",\"angularaxis\":{\"gridcolor\":\"white\",\"linecolor\":\"white\",\"ticks\":\"\"},\"radialaxis\":{\"gridcolor\":\"white\",\"linecolor\":\"white\",\"ticks\":\"\"}},\"ternary\":{\"bgcolor\":\"#E5ECF6\",\"aaxis\":{\"gridcolor\":\"white\",\"linecolor\":\"white\",\"ticks\":\"\"},\"baxis\":{\"gridcolor\":\"white\",\"linecolor\":\"white\",\"ticks\":\"\"},\"caxis\":{\"gridcolor\":\"white\",\"linecolor\":\"white\",\"ticks\":\"\"}},\"coloraxis\":{\"colorbar\":{\"outlinewidth\":0,\"ticks\":\"\"}},\"colorscale\":{\"sequential\":[[0.0,\"#0d0887\"],[0.1111111111111111,\"#46039f\"],[0.2222222222222222,\"#7201a8\"],[0.3333333333333333,\"#9c179e\"],[0.4444444444444444,\"#bd3786\"],[0.5555555555555556,\"#d8576b\"],[0.6666666666666666,\"#ed7953\"],[0.7777777777777778,\"#fb9f3a\"],[0.8888888888888888,\"#fdca26\"],[1.0,\"#f0f921\"]],\"sequentialminus\":[[0.0,\"#0d0887\"],[0.1111111111111111,\"#46039f\"],[0.2222222222222222,\"#7201a8\"],[0.3333333333333333,\"#9c179e\"],[0.4444444444444444,\"#bd3786\"],[0.5555555555555556,\"#d8576b\"],[0.6666666666666666,\"#ed7953\"],[0.7777777777777778,\"#fb9f3a\"],[0.8888888888888888,\"#fdca26\"],[1.0,\"#f0f921\"]],\"diverging\":[[0,\"#8e0152\"],[0.1,\"#c51b7d\"],[0.2,\"#de77ae\"],[0.3,\"#f1b6da\"],[0.4,\"#fde0ef\"],[0.5,\"#f7f7f7\"],[0.6,\"#e6f5d0\"],[0.7,\"#b8e186\"],[0.8,\"#7fbc41\"],[0.9,\"#4d9221\"],[1,\"#276419\"]]},\"xaxis\":{\"gridcolor\":\"white\",\"linecolor\":\"white\",\"ticks\":\"\",\"title\":{\"standoff\":15},\"zerolinecolor\":\"white\",\"automargin\":true,\"zerolinewidth\":2},\"yaxis\":{\"gridcolor\":\"white\",\"linecolor\":\"white\",\"ticks\":\"\",\"title\":{\"standoff\":15},\"zerolinecolor\":\"white\",\"automargin\":true,\"zerolinewidth\":2},\"scene\":{\"xaxis\":{\"backgroundcolor\":\"#E5ECF6\",\"gridcolor\":\"white\",\"linecolor\":\"white\",\"showbackground\":true,\"ticks\":\"\",\"zerolinecolor\":\"white\",\"gridwidth\":2},\"yaxis\":{\"backgroundcolor\":\"#E5ECF6\",\"gridcolor\":\"white\",\"linecolor\":\"white\",\"showbackground\":true,\"ticks\":\"\",\"zerolinecolor\":\"white\",\"gridwidth\":2},\"zaxis\":{\"backgroundcolor\":\"#E5ECF6\",\"gridcolor\":\"white\",\"linecolor\":\"white\",\"showbackground\":true,\"ticks\":\"\",\"zerolinecolor\":\"white\",\"gridwidth\":2}},\"shapedefaults\":{\"line\":{\"color\":\"#2a3f5f\"}},\"annotationdefaults\":{\"arrowcolor\":\"#2a3f5f\",\"arrowhead\":0,\"arrowwidth\":1},\"geo\":{\"bgcolor\":\"white\",\"landcolor\":\"#E5ECF6\",\"subunitcolor\":\"white\",\"showland\":true,\"showlakes\":true,\"lakecolor\":\"white\"},\"title\":{\"x\":0.05},\"mapbox\":{\"style\":\"light\"}}},\"xaxis\":{\"anchor\":\"y\",\"domain\":[0.0,1.0],\"title\":{\"text\":\"Year of launch\"}},\"yaxis\":{\"anchor\":\"x\",\"domain\":[0.0,1.0],\"title\":{\"text\":\"Number\"}},\"legend\":{\"tracegroupgap\":0},\"title\":{\"text\":\"Trend in Female Founded Companies\"}},                        {\"responsive\": true}                    ).then(function(){\n",
       "                            \n",
       "var gd = document.getElementById('e76d097b-fd58-46ed-9fef-e6b26fbb4144');\n",
       "var x = new MutationObserver(function (mutations, observer) {{\n",
       "        var display = window.getComputedStyle(gd).display;\n",
       "        if (!display || display === 'none') {{\n",
       "            console.log([gd, 'removed!']);\n",
       "            Plotly.purge(gd);\n",
       "            observer.disconnect();\n",
       "        }}\n",
       "}});\n",
       "\n",
       "// Listen for the removal of the full notebook cells\n",
       "var notebookContainer = gd.closest('#notebook-container');\n",
       "if (notebookContainer) {{\n",
       "    x.observe(notebookContainer, {childList: true});\n",
       "}}\n",
       "\n",
       "// Listen for the clearing of the current output cell\n",
       "var outputEl = gd.closest('.output');\n",
       "if (outputEl) {{\n",
       "    x.observe(outputEl, {childList: true});\n",
       "}}\n",
       "\n",
       "                        })                };                });            </script>        </div>"
      ]
     },
     "metadata": {},
     "output_type": "display_data"
    }
   ],
   "source": [
    "female_founded = df[df['Female founder?'] == 'Yes']\n",
    "female_led = female_founded.groupby(['Year of launch']).size().to_frame('Number')\n",
    "fig = px.line(female_led, x=female_led.index, y=\"Number\", title='Trend in Female Founded Companies')\n",
    "fig.show()"
   ]
  },
  {
   "cell_type": "code",
   "execution_count": 172,
   "id": "6b3bcce5",
   "metadata": {},
   "outputs": [
    {
     "data": {
      "text/html": [
       "<div>\n",
       "<style scoped>\n",
       "    .dataframe tbody tr th:only-of-type {\n",
       "        vertical-align: middle;\n",
       "    }\n",
       "\n",
       "    .dataframe tbody tr th {\n",
       "        vertical-align: top;\n",
       "    }\n",
       "\n",
       "    .dataframe thead th {\n",
       "        text-align: right;\n",
       "    }\n",
       "</style>\n",
       "<table border=\"1\" class=\"dataframe\">\n",
       "  <thead>\n",
       "    <tr style=\"text-align: right;\">\n",
       "      <th></th>\n",
       "      <th>Startup name</th>\n",
       "      <th>Sector</th>\n",
       "      <th>Sub-sector</th>\n",
       "      <th>Year of launch</th>\n",
       "      <th>HQ</th>\n",
       "      <th>Website</th>\n",
       "      <th>Description of business</th>\n",
       "      <th>Female founder?</th>\n",
       "      <th>Accelerated?</th>\n",
       "      <th>Number of employees</th>\n",
       "    </tr>\n",
       "  </thead>\n",
       "  <tbody>\n",
       "    <tr>\n",
       "      <th>324</th>\n",
       "      <td>Komaza</td>\n",
       "      <td>Conservation</td>\n",
       "      <td>NaN</td>\n",
       "      <td>2006.0</td>\n",
       "      <td>Nairobi</td>\n",
       "      <td>https://www.komaza.com/</td>\n",
       "      <td>Conservation tech</td>\n",
       "      <td>Yes</td>\n",
       "      <td>No</td>\n",
       "      <td>242.0</td>\n",
       "    </tr>\n",
       "    <tr>\n",
       "      <th>221</th>\n",
       "      <td>Weddings Kenya</td>\n",
       "      <td>E-commerce and retail-tech</td>\n",
       "      <td>Other</td>\n",
       "      <td>2008.0</td>\n",
       "      <td>Nairobi</td>\n",
       "      <td>http://weddingskenya.com/</td>\n",
       "      <td>Marketplace for wedding vendors</td>\n",
       "      <td>Yes</td>\n",
       "      <td>No</td>\n",
       "      <td>2.0</td>\n",
       "    </tr>\n",
       "    <tr>\n",
       "      <th>100</th>\n",
       "      <td>Afya Research Africa</td>\n",
       "      <td>E-health</td>\n",
       "      <td>Practice management and procurement</td>\n",
       "      <td>2009.0</td>\n",
       "      <td>Nairobi</td>\n",
       "      <td>http://www.afyaresearch.org/</td>\n",
       "      <td>Stone HMIS open source health information and ...</td>\n",
       "      <td>Yes</td>\n",
       "      <td>No</td>\n",
       "      <td>30.0</td>\n",
       "    </tr>\n",
       "    <tr>\n",
       "      <th>347</th>\n",
       "      <td>Farwell Innovations</td>\n",
       "      <td>Software</td>\n",
       "      <td>NaN</td>\n",
       "      <td>2010.0</td>\n",
       "      <td>Nairobi</td>\n",
       "      <td>https://farwell-consultants.com/</td>\n",
       "      <td>Software development</td>\n",
       "      <td>Yes</td>\n",
       "      <td>Yes</td>\n",
       "      <td>11.0</td>\n",
       "    </tr>\n",
       "    <tr>\n",
       "      <th>147</th>\n",
       "      <td>M-Farm</td>\n",
       "      <td>Agri-tech</td>\n",
       "      <td>E-commerce</td>\n",
       "      <td>2011.0</td>\n",
       "      <td>Nairobi</td>\n",
       "      <td>https://www.mfarm.co.ke/</td>\n",
       "      <td>SMS and web-based produce marketplace for smal...</td>\n",
       "      <td>Yes</td>\n",
       "      <td>No</td>\n",
       "      <td>7.0</td>\n",
       "    </tr>\n",
       "    <tr>\n",
       "      <th>214</th>\n",
       "      <td>Soko</td>\n",
       "      <td>E-commerce and retail-tech</td>\n",
       "      <td>Apparel &amp; Accessories</td>\n",
       "      <td>2011.0</td>\n",
       "      <td>Nairobi</td>\n",
       "      <td>https://shopsoko.com/</td>\n",
       "      <td>Clothing and jewellery store</td>\n",
       "      <td>Yes</td>\n",
       "      <td>Yes</td>\n",
       "      <td>13.0</td>\n",
       "    </tr>\n",
       "    <tr>\n",
       "      <th>19</th>\n",
       "      <td>Chura</td>\n",
       "      <td>Fintech</td>\n",
       "      <td>Payments and remittances</td>\n",
       "      <td>2012.0</td>\n",
       "      <td>Nairobi</td>\n",
       "      <td>https://www.chura.co.ke/</td>\n",
       "      <td>Airime and payments platform</td>\n",
       "      <td>Yes</td>\n",
       "      <td>Yes</td>\n",
       "      <td>4.0</td>\n",
       "    </tr>\n",
       "    <tr>\n",
       "      <th>227</th>\n",
       "      <td>Duma Works</td>\n",
       "      <td>Recruitment and HR</td>\n",
       "      <td>NaN</td>\n",
       "      <td>2012.0</td>\n",
       "      <td>Nairobi</td>\n",
       "      <td>https://dumaworks.com/</td>\n",
       "      <td>Online and SMS based recruitment platform</td>\n",
       "      <td>Yes</td>\n",
       "      <td>Yes</td>\n",
       "      <td>20.0</td>\n",
       "    </tr>\n",
       "    <tr>\n",
       "      <th>97</th>\n",
       "      <td>Access Afya</td>\n",
       "      <td>E-health</td>\n",
       "      <td>Other</td>\n",
       "      <td>2012.0</td>\n",
       "      <td>Nairobi</td>\n",
       "      <td>https://www.accessafya.com/</td>\n",
       "      <td>Tech-enabled clinics</td>\n",
       "      <td>Yes</td>\n",
       "      <td>Yes</td>\n",
       "      <td>48.0</td>\n",
       "    </tr>\n",
       "    <tr>\n",
       "      <th>253</th>\n",
       "      <td>Eneza Education</td>\n",
       "      <td>Ed-tech</td>\n",
       "      <td>Learner-facing educational platform</td>\n",
       "      <td>2012.0</td>\n",
       "      <td>Nairobi</td>\n",
       "      <td>http://enezaeducation.com</td>\n",
       "      <td>SMS and web-based learning tools</td>\n",
       "      <td>Yes</td>\n",
       "      <td>Yes</td>\n",
       "      <td>69.0</td>\n",
       "    </tr>\n",
       "    <tr>\n",
       "      <th>241</th>\n",
       "      <td>Tiny Titos</td>\n",
       "      <td>Recruitment and HR</td>\n",
       "      <td>NaN</td>\n",
       "      <td>2013.0</td>\n",
       "      <td>Nairobi</td>\n",
       "      <td>https://www.tinytotos.com/</td>\n",
       "      <td>Daycare platform</td>\n",
       "      <td>Yes</td>\n",
       "      <td>No</td>\n",
       "      <td>25.0</td>\n",
       "    </tr>\n",
       "    <tr>\n",
       "      <th>163</th>\n",
       "      <td>AZA Finance</td>\n",
       "      <td>Fintech</td>\n",
       "      <td>Payments and remittances</td>\n",
       "      <td>2013.0</td>\n",
       "      <td>Nairobi</td>\n",
       "      <td>https://www.azafinance.com/</td>\n",
       "      <td>International money transfer service</td>\n",
       "      <td>Yes</td>\n",
       "      <td>No</td>\n",
       "      <td>218.0</td>\n",
       "    </tr>\n",
       "    <tr>\n",
       "      <th>351</th>\n",
       "      <td>RafikiSoft</td>\n",
       "      <td>Software</td>\n",
       "      <td>NaN</td>\n",
       "      <td>2013.0</td>\n",
       "      <td>Nairobi</td>\n",
       "      <td>http://www.rafikisoft.com/</td>\n",
       "      <td>Software development</td>\n",
       "      <td>Yes</td>\n",
       "      <td>No</td>\n",
       "      <td>1.0</td>\n",
       "    </tr>\n",
       "    <tr>\n",
       "      <th>7</th>\n",
       "      <td>AZA Finance</td>\n",
       "      <td>Fintech</td>\n",
       "      <td>Payments and remittances</td>\n",
       "      <td>2013.0</td>\n",
       "      <td>Nairobi</td>\n",
       "      <td>https://www.azafinance.com/</td>\n",
       "      <td>International money transfer service</td>\n",
       "      <td>Yes</td>\n",
       "      <td>No</td>\n",
       "      <td>218.0</td>\n",
       "    </tr>\n",
       "    <tr>\n",
       "      <th>259</th>\n",
       "      <td>Moringa School</td>\n",
       "      <td>Ed-tech</td>\n",
       "      <td>Learner-facing educational platform</td>\n",
       "      <td>2014.0</td>\n",
       "      <td>Nairobi</td>\n",
       "      <td>https://moringaschool.com/</td>\n",
       "      <td>Coding school</td>\n",
       "      <td>Yes</td>\n",
       "      <td>No</td>\n",
       "      <td>269.0</td>\n",
       "    </tr>\n",
       "    <tr>\n",
       "      <th>48</th>\n",
       "      <td>LipaPlus</td>\n",
       "      <td>Fintech</td>\n",
       "      <td>Payments and remittances</td>\n",
       "      <td>2014.0</td>\n",
       "      <td>Nairobi</td>\n",
       "      <td>https://www.lipaplus.com/</td>\n",
       "      <td>SME payments platform</td>\n",
       "      <td>Yes</td>\n",
       "      <td>No</td>\n",
       "      <td>3.0</td>\n",
       "    </tr>\n",
       "    <tr>\n",
       "      <th>276</th>\n",
       "      <td>Sendy</td>\n",
       "      <td>Logistics</td>\n",
       "      <td>NaN</td>\n",
       "      <td>2014.0</td>\n",
       "      <td>Nairobi</td>\n",
       "      <td>https://sendyit.com/</td>\n",
       "      <td>On-demand delivery service</td>\n",
       "      <td>Yes</td>\n",
       "      <td>Yes</td>\n",
       "      <td>391.0</td>\n",
       "    </tr>\n",
       "    <tr>\n",
       "      <th>313</th>\n",
       "      <td>Gro Intelligence</td>\n",
       "      <td>AI/IoT</td>\n",
       "      <td>NaN</td>\n",
       "      <td>2014.0</td>\n",
       "      <td>Nairobi</td>\n",
       "      <td>https://gro-intelligence.com/</td>\n",
       "      <td>Data analytics platform</td>\n",
       "      <td>Yes</td>\n",
       "      <td>No</td>\n",
       "      <td>199.0</td>\n",
       "    </tr>\n",
       "    <tr>\n",
       "      <th>321</th>\n",
       "      <td>BRCK</td>\n",
       "      <td>Connectivity</td>\n",
       "      <td>NaN</td>\n",
       "      <td>2014.0</td>\n",
       "      <td>Nairobi</td>\n",
       "      <td>https://www.brck.com/</td>\n",
       "      <td>Hardware for internet connectivity, learning s...</td>\n",
       "      <td>Yes</td>\n",
       "      <td>No</td>\n",
       "      <td>27.0</td>\n",
       "    </tr>\n",
       "    <tr>\n",
       "      <th>149</th>\n",
       "      <td>Pula</td>\n",
       "      <td>Agri-tech</td>\n",
       "      <td>Fintech for farmers</td>\n",
       "      <td>2014.0</td>\n",
       "      <td>Nairobi</td>\n",
       "      <td>https://www.pula-advisors.com/</td>\n",
       "      <td>Agricultural insurance platform</td>\n",
       "      <td>Yes</td>\n",
       "      <td>No</td>\n",
       "      <td>224.0</td>\n",
       "    </tr>\n",
       "    <tr>\n",
       "      <th>183</th>\n",
       "      <td>Pula</td>\n",
       "      <td>Agri-tech</td>\n",
       "      <td>Fintech for farmers</td>\n",
       "      <td>2014.0</td>\n",
       "      <td>Nairobi</td>\n",
       "      <td>https://www.pula-advisors.com/</td>\n",
       "      <td>Agricultural insurance platform</td>\n",
       "      <td>Yes</td>\n",
       "      <td>No</td>\n",
       "      <td>224.0</td>\n",
       "    </tr>\n",
       "    <tr>\n",
       "      <th>111</th>\n",
       "      <td>Medixus</td>\n",
       "      <td>E-health</td>\n",
       "      <td>Health info / Virtual Healthcare</td>\n",
       "      <td>2015.0</td>\n",
       "      <td>Nairobi</td>\n",
       "      <td>https://www.medixus.co/</td>\n",
       "      <td>P2P doctors network</td>\n",
       "      <td>Yes</td>\n",
       "      <td>No</td>\n",
       "      <td>10.0</td>\n",
       "    </tr>\n",
       "    <tr>\n",
       "      <th>112</th>\n",
       "      <td>MumsVillage</td>\n",
       "      <td>E-health</td>\n",
       "      <td>Maternal health</td>\n",
       "      <td>2015.0</td>\n",
       "      <td>Nairobi</td>\n",
       "      <td>https://mumsvillage.com/</td>\n",
       "      <td>Maternal info and support</td>\n",
       "      <td>Yes</td>\n",
       "      <td>Yes</td>\n",
       "      <td>5.0</td>\n",
       "    </tr>\n",
       "    <tr>\n",
       "      <th>79</th>\n",
       "      <td>SuperFluid</td>\n",
       "      <td>Fintech</td>\n",
       "      <td>Lending and financing</td>\n",
       "      <td>2015.0</td>\n",
       "      <td>Nairobi</td>\n",
       "      <td>http://www.superfluid.io/</td>\n",
       "      <td>Credit-scoring platform</td>\n",
       "      <td>Yes</td>\n",
       "      <td>Yes</td>\n",
       "      <td>12.0</td>\n",
       "    </tr>\n",
       "    <tr>\n",
       "      <th>264</th>\n",
       "      <td>Zydii</td>\n",
       "      <td>Ed-tech</td>\n",
       "      <td>Learner-facing educational platform</td>\n",
       "      <td>2016.0</td>\n",
       "      <td>Nairobi</td>\n",
       "      <td>https://zydii.com/</td>\n",
       "      <td>Business training provider</td>\n",
       "      <td>Yes</td>\n",
       "      <td>Yes</td>\n",
       "      <td>11.0</td>\n",
       "    </tr>\n",
       "    <tr>\n",
       "      <th>272</th>\n",
       "      <td>Lori Systems</td>\n",
       "      <td>Logistics</td>\n",
       "      <td>NaN</td>\n",
       "      <td>2016.0</td>\n",
       "      <td>Nairobi</td>\n",
       "      <td>https://www.lorisystems.com/</td>\n",
       "      <td>Logistics platform</td>\n",
       "      <td>Yes</td>\n",
       "      <td>No</td>\n",
       "      <td>189.0</td>\n",
       "    </tr>\n",
       "    <tr>\n",
       "      <th>234</th>\n",
       "      <td>Kisafi</td>\n",
       "      <td>Recruitment and HR</td>\n",
       "      <td>NaN</td>\n",
       "      <td>2016.0</td>\n",
       "      <td>Nairobi</td>\n",
       "      <td>https://kisafi.com/</td>\n",
       "      <td>On-demand home cleaning service</td>\n",
       "      <td>Yes</td>\n",
       "      <td>Yes</td>\n",
       "      <td>4.0</td>\n",
       "    </tr>\n",
       "    <tr>\n",
       "      <th>277</th>\n",
       "      <td>Senga</td>\n",
       "      <td>Logistics</td>\n",
       "      <td>NaN</td>\n",
       "      <td>2016.0</td>\n",
       "      <td>Nairobi</td>\n",
       "      <td>http://senga.co/</td>\n",
       "      <td>Connect shippers with travellers</td>\n",
       "      <td>Yes</td>\n",
       "      <td>No</td>\n",
       "      <td>14.0</td>\n",
       "    </tr>\n",
       "    <tr>\n",
       "      <th>257</th>\n",
       "      <td>M-Shule</td>\n",
       "      <td>Ed-tech</td>\n",
       "      <td>Learner-facing educational platform</td>\n",
       "      <td>2016.0</td>\n",
       "      <td>Nairobi</td>\n",
       "      <td>https://mshule.com/</td>\n",
       "      <td>Mobile learning platform for primary schools</td>\n",
       "      <td>Yes</td>\n",
       "      <td>No</td>\n",
       "      <td>10.0</td>\n",
       "    </tr>\n",
       "    <tr>\n",
       "      <th>172</th>\n",
       "      <td>Pezesha</td>\n",
       "      <td>Fintech</td>\n",
       "      <td>Lending and financing</td>\n",
       "      <td>2016.0</td>\n",
       "      <td>Nairobi</td>\n",
       "      <td>http://pezesha.com/</td>\n",
       "      <td>SME financing platform</td>\n",
       "      <td>Yes</td>\n",
       "      <td>Yes</td>\n",
       "      <td>47.0</td>\n",
       "    </tr>\n",
       "    <tr>\n",
       "      <th>101</th>\n",
       "      <td>Baobab Circle</td>\n",
       "      <td>E-health</td>\n",
       "      <td>Health info / Virtual Healthcare</td>\n",
       "      <td>2016.0</td>\n",
       "      <td>Nairobi</td>\n",
       "      <td>http://www.baobabcircle.com/</td>\n",
       "      <td>Health information app and virtual consultations</td>\n",
       "      <td>Yes</td>\n",
       "      <td>No</td>\n",
       "      <td>40.0</td>\n",
       "    </tr>\n",
       "    <tr>\n",
       "      <th>157</th>\n",
       "      <td>Taimba</td>\n",
       "      <td>Agri-tech</td>\n",
       "      <td>E-commerce</td>\n",
       "      <td>2016.0</td>\n",
       "      <td>Nairobi</td>\n",
       "      <td>https://taimba.co.ke/</td>\n",
       "      <td>Business to business mobile-based cashless pla...</td>\n",
       "      <td>Yes</td>\n",
       "      <td>Yes</td>\n",
       "      <td>16.0</td>\n",
       "    </tr>\n",
       "    <tr>\n",
       "      <th>66</th>\n",
       "      <td>Pezesha</td>\n",
       "      <td>Fintech</td>\n",
       "      <td>Lending and financing</td>\n",
       "      <td>2016.0</td>\n",
       "      <td>Nairobi</td>\n",
       "      <td>http://pezesha.com/</td>\n",
       "      <td>SME financing platform</td>\n",
       "      <td>Yes</td>\n",
       "      <td>Yes</td>\n",
       "      <td>47.0</td>\n",
       "    </tr>\n",
       "    <tr>\n",
       "      <th>104</th>\n",
       "      <td>Flare</td>\n",
       "      <td>E-health</td>\n",
       "      <td>Emergency response</td>\n",
       "      <td>2016.0</td>\n",
       "      <td>Nairobi</td>\n",
       "      <td>http://flare.capsule.co.ke/</td>\n",
       "      <td>App for hospitals and public to locate and cal...</td>\n",
       "      <td>Yes</td>\n",
       "      <td>Yes</td>\n",
       "      <td>24.0</td>\n",
       "    </tr>\n",
       "    <tr>\n",
       "      <th>10</th>\n",
       "      <td>Bismart</td>\n",
       "      <td>Fintech</td>\n",
       "      <td>Insurtech</td>\n",
       "      <td>2017.0</td>\n",
       "      <td>Nairobi</td>\n",
       "      <td>https://bismart.co.ke</td>\n",
       "      <td>Digital insurance platform</td>\n",
       "      <td>Yes</td>\n",
       "      <td>No</td>\n",
       "      <td>8.0</td>\n",
       "    </tr>\n",
       "    <tr>\n",
       "      <th>244</th>\n",
       "      <td>Ziada</td>\n",
       "      <td>Recruitment and HR</td>\n",
       "      <td>NaN</td>\n",
       "      <td>2017.0</td>\n",
       "      <td>Nairobi</td>\n",
       "      <td>https://www.getziada.com/</td>\n",
       "      <td>Services marketplace</td>\n",
       "      <td>Yes</td>\n",
       "      <td>Yes</td>\n",
       "      <td>12.0</td>\n",
       "    </tr>\n",
       "    <tr>\n",
       "      <th>240</th>\n",
       "      <td>TalentBoard</td>\n",
       "      <td>Recruitment and HR</td>\n",
       "      <td>NaN</td>\n",
       "      <td>2017.0</td>\n",
       "      <td>Nairobi</td>\n",
       "      <td>https://www.talentboard.co.ke/</td>\n",
       "      <td>Referral-based jobs platform</td>\n",
       "      <td>Yes</td>\n",
       "      <td>No</td>\n",
       "      <td>3.0</td>\n",
       "    </tr>\n",
       "    <tr>\n",
       "      <th>232</th>\n",
       "      <td>Kazi Remote</td>\n",
       "      <td>Recruitment and HR</td>\n",
       "      <td>NaN</td>\n",
       "      <td>2017.0</td>\n",
       "      <td>Nairobi</td>\n",
       "      <td>https://www.kaziremote.com/</td>\n",
       "      <td>Digital worker recruitment</td>\n",
       "      <td>Yes</td>\n",
       "      <td>Yes</td>\n",
       "      <td>1.0</td>\n",
       "    </tr>\n",
       "    <tr>\n",
       "      <th>106</th>\n",
       "      <td>Hope Tech +</td>\n",
       "      <td>E-health</td>\n",
       "      <td>Other</td>\n",
       "      <td>2017.0</td>\n",
       "      <td>Nairobi</td>\n",
       "      <td>https://hopetechplus.com/</td>\n",
       "      <td>Assistive hardware for visually impaired</td>\n",
       "      <td>Yes</td>\n",
       "      <td>No</td>\n",
       "      <td>3.0</td>\n",
       "    </tr>\n",
       "    <tr>\n",
       "      <th>164</th>\n",
       "      <td>Bismart</td>\n",
       "      <td>Fintech</td>\n",
       "      <td>Insurtech</td>\n",
       "      <td>2017.0</td>\n",
       "      <td>Nairobi</td>\n",
       "      <td>https://bismart.co.ke</td>\n",
       "      <td>Digital insurance platform</td>\n",
       "      <td>Yes</td>\n",
       "      <td>No</td>\n",
       "      <td>8.0</td>\n",
       "    </tr>\n",
       "    <tr>\n",
       "      <th>6</th>\n",
       "      <td>Asilimia</td>\n",
       "      <td>Fintech</td>\n",
       "      <td>Business admin</td>\n",
       "      <td>2017.0</td>\n",
       "      <td>Nairobi</td>\n",
       "      <td>https://www.asilimia.co.ke/</td>\n",
       "      <td>Data infrastructure for SMEs</td>\n",
       "      <td>Yes</td>\n",
       "      <td>Yes</td>\n",
       "      <td>23.0</td>\n",
       "    </tr>\n",
       "    <tr>\n",
       "      <th>178</th>\n",
       "      <td>Nurse In Hand</td>\n",
       "      <td>E-health</td>\n",
       "      <td>Emergency response</td>\n",
       "      <td>2017.0</td>\n",
       "      <td>Nairobi</td>\n",
       "      <td>https://nurseinhand.com/</td>\n",
       "      <td>Emergency response service</td>\n",
       "      <td>Yes</td>\n",
       "      <td>Yes</td>\n",
       "      <td>3.0</td>\n",
       "    </tr>\n",
       "    <tr>\n",
       "      <th>115</th>\n",
       "      <td>Nurse In Hand</td>\n",
       "      <td>E-health</td>\n",
       "      <td>Emergency response</td>\n",
       "      <td>2017.0</td>\n",
       "      <td>Nairobi</td>\n",
       "      <td>https://nurseinhand.com/</td>\n",
       "      <td>Emergency response service</td>\n",
       "      <td>Yes</td>\n",
       "      <td>Yes</td>\n",
       "      <td>3.0</td>\n",
       "    </tr>\n",
       "    <tr>\n",
       "      <th>206</th>\n",
       "      <td>Dukapepe</td>\n",
       "      <td>E-commerce and retail-tech</td>\n",
       "      <td>Retail-tech</td>\n",
       "      <td>2017.0</td>\n",
       "      <td>Nairobi</td>\n",
       "      <td>https://dukapepe.tech/</td>\n",
       "      <td>Connects retailers with FMCGs companies</td>\n",
       "      <td>Yes</td>\n",
       "      <td>Yes</td>\n",
       "      <td>9.0</td>\n",
       "    </tr>\n",
       "    <tr>\n",
       "      <th>42</th>\n",
       "      <td>Kwara</td>\n",
       "      <td>Fintech</td>\n",
       "      <td>Lending and financing</td>\n",
       "      <td>2018.0</td>\n",
       "      <td>Nairobi</td>\n",
       "      <td>https://kwara.com/</td>\n",
       "      <td>Credit union management platform</td>\n",
       "      <td>Yes</td>\n",
       "      <td>Yes</td>\n",
       "      <td>83.0</td>\n",
       "    </tr>\n",
       "    <tr>\n",
       "      <th>45</th>\n",
       "      <td>Lami</td>\n",
       "      <td>Fintech</td>\n",
       "      <td>Insurtech</td>\n",
       "      <td>2018.0</td>\n",
       "      <td>Nairobi</td>\n",
       "      <td>https://www.lami.world/</td>\n",
       "      <td>Insurance API provider</td>\n",
       "      <td>Yes</td>\n",
       "      <td>Yes</td>\n",
       "      <td>83.0</td>\n",
       "    </tr>\n",
       "    <tr>\n",
       "      <th>76</th>\n",
       "      <td>simplePOS</td>\n",
       "      <td>Fintech</td>\n",
       "      <td>Business admin</td>\n",
       "      <td>2018.0</td>\n",
       "      <td>Nairobi</td>\n",
       "      <td>https://simplepos.co.ke/</td>\n",
       "      <td>Business management platform</td>\n",
       "      <td>Yes</td>\n",
       "      <td>No</td>\n",
       "      <td>4.0</td>\n",
       "    </tr>\n",
       "    <tr>\n",
       "      <th>53</th>\n",
       "      <td>mTek</td>\n",
       "      <td>Fintech</td>\n",
       "      <td>Insurtech</td>\n",
       "      <td>2019.0</td>\n",
       "      <td>Nairobi</td>\n",
       "      <td>https://mtek-services.com/</td>\n",
       "      <td>Digital insurance platform</td>\n",
       "      <td>Yes</td>\n",
       "      <td>No</td>\n",
       "      <td>25.0</td>\n",
       "    </tr>\n",
       "    <tr>\n",
       "      <th>262</th>\n",
       "      <td>Tustawi</td>\n",
       "      <td>Ed-tech</td>\n",
       "      <td>Learner-facing educational platform</td>\n",
       "      <td>2019.0</td>\n",
       "      <td>Nairobi</td>\n",
       "      <td>https://www.tustawi.com/</td>\n",
       "      <td>Business training provider</td>\n",
       "      <td>Yes</td>\n",
       "      <td>Yes</td>\n",
       "      <td>7.0</td>\n",
       "    </tr>\n",
       "    <tr>\n",
       "      <th>233</th>\n",
       "      <td>LetaWera</td>\n",
       "      <td>Recruitment and HR</td>\n",
       "      <td>NaN</td>\n",
       "      <td>2020.0</td>\n",
       "      <td>Nairobi</td>\n",
       "      <td>https://letawera.com/</td>\n",
       "      <td>Gig provider platform</td>\n",
       "      <td>Yes</td>\n",
       "      <td>Yes</td>\n",
       "      <td>3.0</td>\n",
       "    </tr>\n",
       "    <tr>\n",
       "      <th>39</th>\n",
       "      <td>Koa</td>\n",
       "      <td>Fintech</td>\n",
       "      <td>Personal finance</td>\n",
       "      <td>2020.0</td>\n",
       "      <td>Nairobi</td>\n",
       "      <td>https://www.withkoa.com/</td>\n",
       "      <td>Savings app</td>\n",
       "      <td>Yes</td>\n",
       "      <td>Yes</td>\n",
       "      <td>29.0</td>\n",
       "    </tr>\n",
       "    <tr>\n",
       "      <th>33</th>\n",
       "      <td>Hisa</td>\n",
       "      <td>Fintech</td>\n",
       "      <td>Investtech</td>\n",
       "      <td>2020.0</td>\n",
       "      <td>Nairobi</td>\n",
       "      <td>https://hisa.co/</td>\n",
       "      <td>Investments app</td>\n",
       "      <td>Yes</td>\n",
       "      <td>Yes</td>\n",
       "      <td>10.0</td>\n",
       "    </tr>\n",
       "    <tr>\n",
       "      <th>22</th>\n",
       "      <td>Credrails</td>\n",
       "      <td>Fintech</td>\n",
       "      <td>Open finance</td>\n",
       "      <td>2020.0</td>\n",
       "      <td>Nairobi</td>\n",
       "      <td>https://www.credrails.com/</td>\n",
       "      <td>Open finance platform</td>\n",
       "      <td>Yes</td>\n",
       "      <td>No</td>\n",
       "      <td>19.0</td>\n",
       "    </tr>\n",
       "    <tr>\n",
       "      <th>219</th>\n",
       "      <td>Uncover Skincare</td>\n",
       "      <td>E-commerce and retail-tech</td>\n",
       "      <td>Other</td>\n",
       "      <td>2020.0</td>\n",
       "      <td>Nairobi</td>\n",
       "      <td>https://uncoverskincare.co/</td>\n",
       "      <td>Beauty commerce platform</td>\n",
       "      <td>Yes</td>\n",
       "      <td>Yes</td>\n",
       "      <td>17.0</td>\n",
       "    </tr>\n",
       "    <tr>\n",
       "      <th>228</th>\n",
       "      <td>FaidiHR</td>\n",
       "      <td>Recruitment and HR</td>\n",
       "      <td>NaN</td>\n",
       "      <td>2020.0</td>\n",
       "      <td>Nairobi</td>\n",
       "      <td>https://faidihr.com/</td>\n",
       "      <td>HR and payroll management system</td>\n",
       "      <td>Yes</td>\n",
       "      <td>No</td>\n",
       "      <td>8.0</td>\n",
       "    </tr>\n",
       "    <tr>\n",
       "      <th>209</th>\n",
       "      <td>Mawu Africa</td>\n",
       "      <td>E-commerce and retail-tech</td>\n",
       "      <td>Other</td>\n",
       "      <td>2021.0</td>\n",
       "      <td>Nairobi</td>\n",
       "      <td>https://mawuafrica.com/</td>\n",
       "      <td>Art marketplace</td>\n",
       "      <td>Yes</td>\n",
       "      <td>No</td>\n",
       "      <td>2.0</td>\n",
       "    </tr>\n",
       "    <tr>\n",
       "      <th>207</th>\n",
       "      <td>Elloe</td>\n",
       "      <td>E-commerce and retail-tech</td>\n",
       "      <td>E-commerce facilitation</td>\n",
       "      <td>2021.0</td>\n",
       "      <td>Nairobi</td>\n",
       "      <td>https://elloe.ai/</td>\n",
       "      <td>AI-powered conversational commerce platform</td>\n",
       "      <td>Yes</td>\n",
       "      <td>No</td>\n",
       "      <td>11.0</td>\n",
       "    </tr>\n",
       "    <tr>\n",
       "      <th>167</th>\n",
       "      <td>Crypsense</td>\n",
       "      <td>Fintech</td>\n",
       "      <td>Blockchain</td>\n",
       "      <td>2022.0</td>\n",
       "      <td>Nairobi</td>\n",
       "      <td>https://www.crypsense.io/</td>\n",
       "      <td>Digital assets management platform</td>\n",
       "      <td>Yes</td>\n",
       "      <td>Yes</td>\n",
       "      <td>7.0</td>\n",
       "    </tr>\n",
       "    <tr>\n",
       "      <th>145</th>\n",
       "      <td>Kuza</td>\n",
       "      <td>Agri-tech</td>\n",
       "      <td>Information and knowledge sharing</td>\n",
       "      <td>2022.0</td>\n",
       "      <td>Nairobi</td>\n",
       "      <td>https://kuza.io/</td>\n",
       "      <td>On-demand farming course provider</td>\n",
       "      <td>Yes</td>\n",
       "      <td>No</td>\n",
       "      <td>9.0</td>\n",
       "    </tr>\n",
       "    <tr>\n",
       "      <th>23</th>\n",
       "      <td>Crypsense</td>\n",
       "      <td>Fintech</td>\n",
       "      <td>Blockchain</td>\n",
       "      <td>2022.0</td>\n",
       "      <td>Nairobi</td>\n",
       "      <td>https://www.crypsense.io/</td>\n",
       "      <td>Digital assets management platform</td>\n",
       "      <td>Yes</td>\n",
       "      <td>Yes</td>\n",
       "      <td>7.0</td>\n",
       "    </tr>\n",
       "    <tr>\n",
       "      <th>325</th>\n",
       "      <td>Jumba</td>\n",
       "      <td>Construction</td>\n",
       "      <td>NaN</td>\n",
       "      <td>2022.0</td>\n",
       "      <td>Nairobi</td>\n",
       "      <td>https://www.thejumba.com/</td>\n",
       "      <td>Platform for construction materials</td>\n",
       "      <td>Yes</td>\n",
       "      <td>No</td>\n",
       "      <td>23.0</td>\n",
       "    </tr>\n",
       "  </tbody>\n",
       "</table>\n",
       "</div>"
      ],
      "text/plain": [
       "             Startup name                      Sector  \\\n",
       "324                Komaza                Conservation   \n",
       "221        Weddings Kenya  E-commerce and retail-tech   \n",
       "100  Afya Research Africa                    E-health   \n",
       "347   Farwell Innovations                    Software   \n",
       "147                M-Farm                   Agri-tech   \n",
       "214                  Soko  E-commerce and retail-tech   \n",
       "19                  Chura                     Fintech   \n",
       "227            Duma Works          Recruitment and HR   \n",
       "97            Access Afya                    E-health   \n",
       "253       Eneza Education                     Ed-tech   \n",
       "241            Tiny Titos          Recruitment and HR   \n",
       "163           AZA Finance                     Fintech   \n",
       "351            RafikiSoft                    Software   \n",
       "7             AZA Finance                     Fintech   \n",
       "259        Moringa School                     Ed-tech   \n",
       "48               LipaPlus                     Fintech   \n",
       "276                 Sendy                   Logistics   \n",
       "313      Gro Intelligence                      AI/IoT   \n",
       "321                  BRCK                Connectivity   \n",
       "149                  Pula                   Agri-tech   \n",
       "183                  Pula                   Agri-tech   \n",
       "111               Medixus                    E-health   \n",
       "112           MumsVillage                    E-health   \n",
       "79             SuperFluid                     Fintech   \n",
       "264                 Zydii                     Ed-tech   \n",
       "272          Lori Systems                   Logistics   \n",
       "234                Kisafi          Recruitment and HR   \n",
       "277                 Senga                   Logistics   \n",
       "257               M-Shule                     Ed-tech   \n",
       "172               Pezesha                     Fintech   \n",
       "101         Baobab Circle                    E-health   \n",
       "157               Taimba                    Agri-tech   \n",
       "66                Pezesha                     Fintech   \n",
       "104                 Flare                    E-health   \n",
       "10                Bismart                     Fintech   \n",
       "244                 Ziada          Recruitment and HR   \n",
       "240           TalentBoard          Recruitment and HR   \n",
       "232           Kazi Remote          Recruitment and HR   \n",
       "106           Hope Tech +                    E-health   \n",
       "164               Bismart                     Fintech   \n",
       "6                Asilimia                     Fintech   \n",
       "178         Nurse In Hand                    E-health   \n",
       "115         Nurse In Hand                    E-health   \n",
       "206              Dukapepe  E-commerce and retail-tech   \n",
       "42                  Kwara                     Fintech   \n",
       "45                   Lami                     Fintech   \n",
       "76              simplePOS                     Fintech   \n",
       "53                   mTek                     Fintech   \n",
       "262               Tustawi                     Ed-tech   \n",
       "233              LetaWera          Recruitment and HR   \n",
       "39                    Koa                     Fintech   \n",
       "33                   Hisa                     Fintech   \n",
       "22              Credrails                     Fintech   \n",
       "219      Uncover Skincare  E-commerce and retail-tech   \n",
       "228               FaidiHR          Recruitment and HR   \n",
       "209           Mawu Africa  E-commerce and retail-tech   \n",
       "207                 Elloe  E-commerce and retail-tech   \n",
       "167             Crypsense                     Fintech   \n",
       "145                  Kuza                   Agri-tech   \n",
       "23              Crypsense                     Fintech   \n",
       "325                 Jumba                Construction   \n",
       "\n",
       "                              Sub-sector  Year of launch       HQ  \\\n",
       "324                                  NaN          2006.0  Nairobi   \n",
       "221                                Other          2008.0  Nairobi   \n",
       "100  Practice management and procurement          2009.0  Nairobi   \n",
       "347                                  NaN          2010.0  Nairobi   \n",
       "147                           E-commerce          2011.0  Nairobi   \n",
       "214                Apparel & Accessories          2011.0  Nairobi   \n",
       "19              Payments and remittances          2012.0  Nairobi   \n",
       "227                                  NaN          2012.0  Nairobi   \n",
       "97                                 Other          2012.0  Nairobi   \n",
       "253  Learner-facing educational platform          2012.0  Nairobi   \n",
       "241                                  NaN          2013.0  Nairobi   \n",
       "163             Payments and remittances          2013.0  Nairobi   \n",
       "351                                  NaN          2013.0  Nairobi   \n",
       "7               Payments and remittances          2013.0  Nairobi   \n",
       "259  Learner-facing educational platform          2014.0  Nairobi   \n",
       "48              Payments and remittances          2014.0  Nairobi   \n",
       "276                                  NaN          2014.0  Nairobi   \n",
       "313                                  NaN          2014.0  Nairobi   \n",
       "321                                  NaN          2014.0  Nairobi   \n",
       "149                  Fintech for farmers          2014.0  Nairobi   \n",
       "183                  Fintech for farmers          2014.0  Nairobi   \n",
       "111     Health info / Virtual Healthcare          2015.0  Nairobi   \n",
       "112                      Maternal health          2015.0  Nairobi   \n",
       "79                 Lending and financing          2015.0  Nairobi   \n",
       "264  Learner-facing educational platform          2016.0  Nairobi   \n",
       "272                                  NaN          2016.0  Nairobi   \n",
       "234                                  NaN          2016.0  Nairobi   \n",
       "277                                  NaN          2016.0  Nairobi   \n",
       "257  Learner-facing educational platform          2016.0  Nairobi   \n",
       "172                Lending and financing          2016.0  Nairobi   \n",
       "101     Health info / Virtual Healthcare          2016.0  Nairobi   \n",
       "157                           E-commerce          2016.0  Nairobi   \n",
       "66                 Lending and financing          2016.0  Nairobi   \n",
       "104                   Emergency response          2016.0  Nairobi   \n",
       "10                             Insurtech          2017.0  Nairobi   \n",
       "244                                  NaN          2017.0  Nairobi   \n",
       "240                                  NaN          2017.0  Nairobi   \n",
       "232                                  NaN          2017.0  Nairobi   \n",
       "106                                Other          2017.0  Nairobi   \n",
       "164                            Insurtech          2017.0  Nairobi   \n",
       "6                         Business admin          2017.0  Nairobi   \n",
       "178                   Emergency response          2017.0  Nairobi   \n",
       "115                   Emergency response          2017.0  Nairobi   \n",
       "206                          Retail-tech          2017.0  Nairobi   \n",
       "42                 Lending and financing          2018.0  Nairobi   \n",
       "45                             Insurtech          2018.0  Nairobi   \n",
       "76                        Business admin          2018.0  Nairobi   \n",
       "53                             Insurtech          2019.0  Nairobi   \n",
       "262  Learner-facing educational platform          2019.0  Nairobi   \n",
       "233                                  NaN          2020.0  Nairobi   \n",
       "39                      Personal finance          2020.0  Nairobi   \n",
       "33                            Investtech          2020.0  Nairobi   \n",
       "22                          Open finance          2020.0  Nairobi   \n",
       "219                                Other          2020.0  Nairobi   \n",
       "228                                  NaN          2020.0  Nairobi   \n",
       "209                                Other          2021.0  Nairobi   \n",
       "207              E-commerce facilitation          2021.0  Nairobi   \n",
       "167                           Blockchain          2022.0  Nairobi   \n",
       "145    Information and knowledge sharing          2022.0  Nairobi   \n",
       "23                            Blockchain          2022.0  Nairobi   \n",
       "325                                  NaN          2022.0  Nairobi   \n",
       "\n",
       "                              Website  \\\n",
       "324           https://www.komaza.com/   \n",
       "221         http://weddingskenya.com/   \n",
       "100      http://www.afyaresearch.org/   \n",
       "347  https://farwell-consultants.com/   \n",
       "147          https://www.mfarm.co.ke/   \n",
       "214             https://shopsoko.com/   \n",
       "19           https://www.chura.co.ke/   \n",
       "227            https://dumaworks.com/   \n",
       "97        https://www.accessafya.com/   \n",
       "253         http://enezaeducation.com   \n",
       "241        https://www.tinytotos.com/   \n",
       "163       https://www.azafinance.com/   \n",
       "351        http://www.rafikisoft.com/   \n",
       "7         https://www.azafinance.com/   \n",
       "259        https://moringaschool.com/   \n",
       "48          https://www.lipaplus.com/   \n",
       "276              https://sendyit.com/   \n",
       "313     https://gro-intelligence.com/   \n",
       "321             https://www.brck.com/   \n",
       "149    https://www.pula-advisors.com/   \n",
       "183    https://www.pula-advisors.com/   \n",
       "111           https://www.medixus.co/   \n",
       "112          https://mumsvillage.com/   \n",
       "79          http://www.superfluid.io/   \n",
       "264                https://zydii.com/   \n",
       "272      https://www.lorisystems.com/   \n",
       "234               https://kisafi.com/   \n",
       "277                  http://senga.co/   \n",
       "257               https://mshule.com/   \n",
       "172               http://pezesha.com/   \n",
       "101      http://www.baobabcircle.com/   \n",
       "157             https://taimba.co.ke/   \n",
       "66                http://pezesha.com/   \n",
       "104       http://flare.capsule.co.ke/   \n",
       "10              https://bismart.co.ke   \n",
       "244         https://www.getziada.com/   \n",
       "240    https://www.talentboard.co.ke/   \n",
       "232       https://www.kaziremote.com/   \n",
       "106         https://hopetechplus.com/   \n",
       "164             https://bismart.co.ke   \n",
       "6         https://www.asilimia.co.ke/   \n",
       "178          https://nurseinhand.com/   \n",
       "115          https://nurseinhand.com/   \n",
       "206            https://dukapepe.tech/   \n",
       "42                 https://kwara.com/   \n",
       "45            https://www.lami.world/   \n",
       "76           https://simplepos.co.ke/   \n",
       "53         https://mtek-services.com/   \n",
       "262          https://www.tustawi.com/   \n",
       "233             https://letawera.com/   \n",
       "39           https://www.withkoa.com/   \n",
       "33                   https://hisa.co/   \n",
       "22         https://www.credrails.com/   \n",
       "219       https://uncoverskincare.co/   \n",
       "228              https://faidihr.com/   \n",
       "209           https://mawuafrica.com/   \n",
       "207                 https://elloe.ai/   \n",
       "167         https://www.crypsense.io/   \n",
       "145                  https://kuza.io/   \n",
       "23          https://www.crypsense.io/   \n",
       "325         https://www.thejumba.com/   \n",
       "\n",
       "                               Description of business Female founder?  \\\n",
       "324                                  Conservation tech             Yes   \n",
       "221                    Marketplace for wedding vendors             Yes   \n",
       "100  Stone HMIS open source health information and ...             Yes   \n",
       "347                               Software development             Yes   \n",
       "147  SMS and web-based produce marketplace for smal...             Yes   \n",
       "214                       Clothing and jewellery store             Yes   \n",
       "19                        Airime and payments platform             Yes   \n",
       "227          Online and SMS based recruitment platform             Yes   \n",
       "97                                Tech-enabled clinics             Yes   \n",
       "253                   SMS and web-based learning tools             Yes   \n",
       "241                                   Daycare platform             Yes   \n",
       "163               International money transfer service             Yes   \n",
       "351                               Software development             Yes   \n",
       "7                 International money transfer service             Yes   \n",
       "259                                      Coding school             Yes   \n",
       "48                               SME payments platform             Yes   \n",
       "276                         On-demand delivery service             Yes   \n",
       "313                            Data analytics platform             Yes   \n",
       "321  Hardware for internet connectivity, learning s...             Yes   \n",
       "149                    Agricultural insurance platform             Yes   \n",
       "183                    Agricultural insurance platform             Yes   \n",
       "111                                P2P doctors network             Yes   \n",
       "112                          Maternal info and support             Yes   \n",
       "79                             Credit-scoring platform             Yes   \n",
       "264                         Business training provider             Yes   \n",
       "272                                 Logistics platform             Yes   \n",
       "234                    On-demand home cleaning service             Yes   \n",
       "277                   Connect shippers with travellers             Yes   \n",
       "257       Mobile learning platform for primary schools             Yes   \n",
       "172                             SME financing platform             Yes   \n",
       "101   Health information app and virtual consultations             Yes   \n",
       "157  Business to business mobile-based cashless pla...             Yes   \n",
       "66                              SME financing platform             Yes   \n",
       "104  App for hospitals and public to locate and cal...             Yes   \n",
       "10                          Digital insurance platform             Yes   \n",
       "244                               Services marketplace             Yes   \n",
       "240                       Referral-based jobs platform             Yes   \n",
       "232                         Digital worker recruitment             Yes   \n",
       "106           Assistive hardware for visually impaired             Yes   \n",
       "164                         Digital insurance platform             Yes   \n",
       "6                         Data infrastructure for SMEs             Yes   \n",
       "178                         Emergency response service             Yes   \n",
       "115                         Emergency response service             Yes   \n",
       "206            Connects retailers with FMCGs companies             Yes   \n",
       "42                    Credit union management platform             Yes   \n",
       "45                              Insurance API provider             Yes   \n",
       "76                        Business management platform             Yes   \n",
       "53                          Digital insurance platform             Yes   \n",
       "262                         Business training provider             Yes   \n",
       "233                              Gig provider platform             Yes   \n",
       "39                                         Savings app             Yes   \n",
       "33                                     Investments app             Yes   \n",
       "22                               Open finance platform             Yes   \n",
       "219                           Beauty commerce platform             Yes   \n",
       "228                   HR and payroll management system             Yes   \n",
       "209                                    Art marketplace             Yes   \n",
       "207        AI-powered conversational commerce platform             Yes   \n",
       "167                 Digital assets management platform             Yes   \n",
       "145                  On-demand farming course provider             Yes   \n",
       "23                  Digital assets management platform             Yes   \n",
       "325                Platform for construction materials             Yes   \n",
       "\n",
       "    Accelerated?  Number of employees  \n",
       "324           No                242.0  \n",
       "221           No                  2.0  \n",
       "100           No                 30.0  \n",
       "347          Yes                 11.0  \n",
       "147           No                  7.0  \n",
       "214          Yes                 13.0  \n",
       "19           Yes                  4.0  \n",
       "227          Yes                 20.0  \n",
       "97           Yes                 48.0  \n",
       "253          Yes                 69.0  \n",
       "241           No                 25.0  \n",
       "163           No                218.0  \n",
       "351           No                  1.0  \n",
       "7             No                218.0  \n",
       "259           No                269.0  \n",
       "48            No                  3.0  \n",
       "276          Yes                391.0  \n",
       "313           No                199.0  \n",
       "321           No                 27.0  \n",
       "149           No                224.0  \n",
       "183           No                224.0  \n",
       "111           No                 10.0  \n",
       "112          Yes                  5.0  \n",
       "79           Yes                 12.0  \n",
       "264          Yes                 11.0  \n",
       "272           No                189.0  \n",
       "234          Yes                  4.0  \n",
       "277           No                 14.0  \n",
       "257           No                 10.0  \n",
       "172          Yes                 47.0  \n",
       "101           No                 40.0  \n",
       "157          Yes                 16.0  \n",
       "66           Yes                 47.0  \n",
       "104          Yes                 24.0  \n",
       "10            No                  8.0  \n",
       "244          Yes                 12.0  \n",
       "240           No                  3.0  \n",
       "232          Yes                  1.0  \n",
       "106           No                  3.0  \n",
       "164           No                  8.0  \n",
       "6            Yes                 23.0  \n",
       "178          Yes                  3.0  \n",
       "115          Yes                  3.0  \n",
       "206          Yes                  9.0  \n",
       "42           Yes                 83.0  \n",
       "45           Yes                 83.0  \n",
       "76            No                  4.0  \n",
       "53            No                 25.0  \n",
       "262          Yes                  7.0  \n",
       "233          Yes                  3.0  \n",
       "39           Yes                 29.0  \n",
       "33           Yes                 10.0  \n",
       "22            No                 19.0  \n",
       "219          Yes                 17.0  \n",
       "228           No                  8.0  \n",
       "209           No                  2.0  \n",
       "207           No                 11.0  \n",
       "167          Yes                  7.0  \n",
       "145           No                  9.0  \n",
       "23           Yes                  7.0  \n",
       "325           No                 23.0  "
      ]
     },
     "execution_count": 172,
     "metadata": {},
     "output_type": "execute_result"
    }
   ],
   "source": [
    "oldest = df[df['Female founder?'] == 'Yes'].sort_values(['Year of launch'], ascending=[True])\n",
    "oldest"
   ]
  },
  {
   "cell_type": "code",
   "execution_count": 166,
   "id": "08376460",
   "metadata": {},
   "outputs": [
    {
     "data": {
      "application/vnd.plotly.v1+json": {
       "config": {
        "plotlyServerURL": "https://plot.ly"
       },
       "data": [
        {
         "domain": {
          "x": [
           0,
           1
          ],
          "y": [
           0,
           1
          ]
         },
         "hovertemplate": "Sector=%{label}<br>Number=%{value}<extra></extra>",
         "labels": [
          "3D printing",
          "AI/IoT",
          "Agri-tech",
          "Cloud",
          "Communications",
          "Connectivity",
          "Conservation",
          "Construction",
          "Cybersecurity",
          "Digital identity",
          "Drones",
          "E-commerce and retail-tech",
          "E-health",
          "Ed-tech",
          "Energy",
          "Entertainment",
          "Field management",
          "Fintech",
          "Legal-tech",
          "Logistics",
          "Marketing",
          "Mobility",
          "Procurement",
          "Prop-tech",
          "Recruitment and HR",
          "Software",
          "Tourism",
          "Trade tech",
          "VR",
          "Waste management",
          "Water management"
         ],
         "legendgroup": "",
         "name": "",
         "showlegend": true,
         "textinfo": "percent+label",
         "textposition": "inside",
         "type": "pie",
         "values": [
          1,
          5,
          36,
          4,
          1,
          2,
          2,
          2,
          1,
          4,
          1,
          30,
          37,
          18,
          8,
          4,
          1,
          105,
          2,
          16,
          7,
          8,
          1,
          4,
          19,
          10,
          3,
          2,
          1,
          2,
          1
         ]
        }
       ],
       "layout": {
        "legend": {
         "tracegroupgap": 0
        },
        "template": {
         "data": {
          "bar": [
           {
            "error_x": {
             "color": "#2a3f5f"
            },
            "error_y": {
             "color": "#2a3f5f"
            },
            "marker": {
             "line": {
              "color": "#E5ECF6",
              "width": 0.5
             },
             "pattern": {
              "fillmode": "overlay",
              "size": 10,
              "solidity": 0.2
             }
            },
            "type": "bar"
           }
          ],
          "barpolar": [
           {
            "marker": {
             "line": {
              "color": "#E5ECF6",
              "width": 0.5
             },
             "pattern": {
              "fillmode": "overlay",
              "size": 10,
              "solidity": 0.2
             }
            },
            "type": "barpolar"
           }
          ],
          "carpet": [
           {
            "aaxis": {
             "endlinecolor": "#2a3f5f",
             "gridcolor": "white",
             "linecolor": "white",
             "minorgridcolor": "white",
             "startlinecolor": "#2a3f5f"
            },
            "baxis": {
             "endlinecolor": "#2a3f5f",
             "gridcolor": "white",
             "linecolor": "white",
             "minorgridcolor": "white",
             "startlinecolor": "#2a3f5f"
            },
            "type": "carpet"
           }
          ],
          "choropleth": [
           {
            "colorbar": {
             "outlinewidth": 0,
             "ticks": ""
            },
            "type": "choropleth"
           }
          ],
          "contour": [
           {
            "colorbar": {
             "outlinewidth": 0,
             "ticks": ""
            },
            "colorscale": [
             [
              0,
              "#0d0887"
             ],
             [
              0.1111111111111111,
              "#46039f"
             ],
             [
              0.2222222222222222,
              "#7201a8"
             ],
             [
              0.3333333333333333,
              "#9c179e"
             ],
             [
              0.4444444444444444,
              "#bd3786"
             ],
             [
              0.5555555555555556,
              "#d8576b"
             ],
             [
              0.6666666666666666,
              "#ed7953"
             ],
             [
              0.7777777777777778,
              "#fb9f3a"
             ],
             [
              0.8888888888888888,
              "#fdca26"
             ],
             [
              1,
              "#f0f921"
             ]
            ],
            "type": "contour"
           }
          ],
          "contourcarpet": [
           {
            "colorbar": {
             "outlinewidth": 0,
             "ticks": ""
            },
            "type": "contourcarpet"
           }
          ],
          "heatmap": [
           {
            "colorbar": {
             "outlinewidth": 0,
             "ticks": ""
            },
            "colorscale": [
             [
              0,
              "#0d0887"
             ],
             [
              0.1111111111111111,
              "#46039f"
             ],
             [
              0.2222222222222222,
              "#7201a8"
             ],
             [
              0.3333333333333333,
              "#9c179e"
             ],
             [
              0.4444444444444444,
              "#bd3786"
             ],
             [
              0.5555555555555556,
              "#d8576b"
             ],
             [
              0.6666666666666666,
              "#ed7953"
             ],
             [
              0.7777777777777778,
              "#fb9f3a"
             ],
             [
              0.8888888888888888,
              "#fdca26"
             ],
             [
              1,
              "#f0f921"
             ]
            ],
            "type": "heatmap"
           }
          ],
          "heatmapgl": [
           {
            "colorbar": {
             "outlinewidth": 0,
             "ticks": ""
            },
            "colorscale": [
             [
              0,
              "#0d0887"
             ],
             [
              0.1111111111111111,
              "#46039f"
             ],
             [
              0.2222222222222222,
              "#7201a8"
             ],
             [
              0.3333333333333333,
              "#9c179e"
             ],
             [
              0.4444444444444444,
              "#bd3786"
             ],
             [
              0.5555555555555556,
              "#d8576b"
             ],
             [
              0.6666666666666666,
              "#ed7953"
             ],
             [
              0.7777777777777778,
              "#fb9f3a"
             ],
             [
              0.8888888888888888,
              "#fdca26"
             ],
             [
              1,
              "#f0f921"
             ]
            ],
            "type": "heatmapgl"
           }
          ],
          "histogram": [
           {
            "marker": {
             "pattern": {
              "fillmode": "overlay",
              "size": 10,
              "solidity": 0.2
             }
            },
            "type": "histogram"
           }
          ],
          "histogram2d": [
           {
            "colorbar": {
             "outlinewidth": 0,
             "ticks": ""
            },
            "colorscale": [
             [
              0,
              "#0d0887"
             ],
             [
              0.1111111111111111,
              "#46039f"
             ],
             [
              0.2222222222222222,
              "#7201a8"
             ],
             [
              0.3333333333333333,
              "#9c179e"
             ],
             [
              0.4444444444444444,
              "#bd3786"
             ],
             [
              0.5555555555555556,
              "#d8576b"
             ],
             [
              0.6666666666666666,
              "#ed7953"
             ],
             [
              0.7777777777777778,
              "#fb9f3a"
             ],
             [
              0.8888888888888888,
              "#fdca26"
             ],
             [
              1,
              "#f0f921"
             ]
            ],
            "type": "histogram2d"
           }
          ],
          "histogram2dcontour": [
           {
            "colorbar": {
             "outlinewidth": 0,
             "ticks": ""
            },
            "colorscale": [
             [
              0,
              "#0d0887"
             ],
             [
              0.1111111111111111,
              "#46039f"
             ],
             [
              0.2222222222222222,
              "#7201a8"
             ],
             [
              0.3333333333333333,
              "#9c179e"
             ],
             [
              0.4444444444444444,
              "#bd3786"
             ],
             [
              0.5555555555555556,
              "#d8576b"
             ],
             [
              0.6666666666666666,
              "#ed7953"
             ],
             [
              0.7777777777777778,
              "#fb9f3a"
             ],
             [
              0.8888888888888888,
              "#fdca26"
             ],
             [
              1,
              "#f0f921"
             ]
            ],
            "type": "histogram2dcontour"
           }
          ],
          "mesh3d": [
           {
            "colorbar": {
             "outlinewidth": 0,
             "ticks": ""
            },
            "type": "mesh3d"
           }
          ],
          "parcoords": [
           {
            "line": {
             "colorbar": {
              "outlinewidth": 0,
              "ticks": ""
             }
            },
            "type": "parcoords"
           }
          ],
          "pie": [
           {
            "automargin": true,
            "type": "pie"
           }
          ],
          "scatter": [
           {
            "fillpattern": {
             "fillmode": "overlay",
             "size": 10,
             "solidity": 0.2
            },
            "type": "scatter"
           }
          ],
          "scatter3d": [
           {
            "line": {
             "colorbar": {
              "outlinewidth": 0,
              "ticks": ""
             }
            },
            "marker": {
             "colorbar": {
              "outlinewidth": 0,
              "ticks": ""
             }
            },
            "type": "scatter3d"
           }
          ],
          "scattercarpet": [
           {
            "marker": {
             "colorbar": {
              "outlinewidth": 0,
              "ticks": ""
             }
            },
            "type": "scattercarpet"
           }
          ],
          "scattergeo": [
           {
            "marker": {
             "colorbar": {
              "outlinewidth": 0,
              "ticks": ""
             }
            },
            "type": "scattergeo"
           }
          ],
          "scattergl": [
           {
            "marker": {
             "colorbar": {
              "outlinewidth": 0,
              "ticks": ""
             }
            },
            "type": "scattergl"
           }
          ],
          "scattermapbox": [
           {
            "marker": {
             "colorbar": {
              "outlinewidth": 0,
              "ticks": ""
             }
            },
            "type": "scattermapbox"
           }
          ],
          "scatterpolar": [
           {
            "marker": {
             "colorbar": {
              "outlinewidth": 0,
              "ticks": ""
             }
            },
            "type": "scatterpolar"
           }
          ],
          "scatterpolargl": [
           {
            "marker": {
             "colorbar": {
              "outlinewidth": 0,
              "ticks": ""
             }
            },
            "type": "scatterpolargl"
           }
          ],
          "scatterternary": [
           {
            "marker": {
             "colorbar": {
              "outlinewidth": 0,
              "ticks": ""
             }
            },
            "type": "scatterternary"
           }
          ],
          "surface": [
           {
            "colorbar": {
             "outlinewidth": 0,
             "ticks": ""
            },
            "colorscale": [
             [
              0,
              "#0d0887"
             ],
             [
              0.1111111111111111,
              "#46039f"
             ],
             [
              0.2222222222222222,
              "#7201a8"
             ],
             [
              0.3333333333333333,
              "#9c179e"
             ],
             [
              0.4444444444444444,
              "#bd3786"
             ],
             [
              0.5555555555555556,
              "#d8576b"
             ],
             [
              0.6666666666666666,
              "#ed7953"
             ],
             [
              0.7777777777777778,
              "#fb9f3a"
             ],
             [
              0.8888888888888888,
              "#fdca26"
             ],
             [
              1,
              "#f0f921"
             ]
            ],
            "type": "surface"
           }
          ],
          "table": [
           {
            "cells": {
             "fill": {
              "color": "#EBF0F8"
             },
             "line": {
              "color": "white"
             }
            },
            "header": {
             "fill": {
              "color": "#C8D4E3"
             },
             "line": {
              "color": "white"
             }
            },
            "type": "table"
           }
          ]
         },
         "layout": {
          "annotationdefaults": {
           "arrowcolor": "#2a3f5f",
           "arrowhead": 0,
           "arrowwidth": 1
          },
          "autotypenumbers": "strict",
          "coloraxis": {
           "colorbar": {
            "outlinewidth": 0,
            "ticks": ""
           }
          },
          "colorscale": {
           "diverging": [
            [
             0,
             "#8e0152"
            ],
            [
             0.1,
             "#c51b7d"
            ],
            [
             0.2,
             "#de77ae"
            ],
            [
             0.3,
             "#f1b6da"
            ],
            [
             0.4,
             "#fde0ef"
            ],
            [
             0.5,
             "#f7f7f7"
            ],
            [
             0.6,
             "#e6f5d0"
            ],
            [
             0.7,
             "#b8e186"
            ],
            [
             0.8,
             "#7fbc41"
            ],
            [
             0.9,
             "#4d9221"
            ],
            [
             1,
             "#276419"
            ]
           ],
           "sequential": [
            [
             0,
             "#0d0887"
            ],
            [
             0.1111111111111111,
             "#46039f"
            ],
            [
             0.2222222222222222,
             "#7201a8"
            ],
            [
             0.3333333333333333,
             "#9c179e"
            ],
            [
             0.4444444444444444,
             "#bd3786"
            ],
            [
             0.5555555555555556,
             "#d8576b"
            ],
            [
             0.6666666666666666,
             "#ed7953"
            ],
            [
             0.7777777777777778,
             "#fb9f3a"
            ],
            [
             0.8888888888888888,
             "#fdca26"
            ],
            [
             1,
             "#f0f921"
            ]
           ],
           "sequentialminus": [
            [
             0,
             "#0d0887"
            ],
            [
             0.1111111111111111,
             "#46039f"
            ],
            [
             0.2222222222222222,
             "#7201a8"
            ],
            [
             0.3333333333333333,
             "#9c179e"
            ],
            [
             0.4444444444444444,
             "#bd3786"
            ],
            [
             0.5555555555555556,
             "#d8576b"
            ],
            [
             0.6666666666666666,
             "#ed7953"
            ],
            [
             0.7777777777777778,
             "#fb9f3a"
            ],
            [
             0.8888888888888888,
             "#fdca26"
            ],
            [
             1,
             "#f0f921"
            ]
           ]
          },
          "colorway": [
           "#636efa",
           "#EF553B",
           "#00cc96",
           "#ab63fa",
           "#FFA15A",
           "#19d3f3",
           "#FF6692",
           "#B6E880",
           "#FF97FF",
           "#FECB52"
          ],
          "font": {
           "color": "#2a3f5f"
          },
          "geo": {
           "bgcolor": "white",
           "lakecolor": "white",
           "landcolor": "#E5ECF6",
           "showlakes": true,
           "showland": true,
           "subunitcolor": "white"
          },
          "hoverlabel": {
           "align": "left"
          },
          "hovermode": "closest",
          "mapbox": {
           "style": "light"
          },
          "paper_bgcolor": "white",
          "plot_bgcolor": "#E5ECF6",
          "polar": {
           "angularaxis": {
            "gridcolor": "white",
            "linecolor": "white",
            "ticks": ""
           },
           "bgcolor": "#E5ECF6",
           "radialaxis": {
            "gridcolor": "white",
            "linecolor": "white",
            "ticks": ""
           }
          },
          "scene": {
           "xaxis": {
            "backgroundcolor": "#E5ECF6",
            "gridcolor": "white",
            "gridwidth": 2,
            "linecolor": "white",
            "showbackground": true,
            "ticks": "",
            "zerolinecolor": "white"
           },
           "yaxis": {
            "backgroundcolor": "#E5ECF6",
            "gridcolor": "white",
            "gridwidth": 2,
            "linecolor": "white",
            "showbackground": true,
            "ticks": "",
            "zerolinecolor": "white"
           },
           "zaxis": {
            "backgroundcolor": "#E5ECF6",
            "gridcolor": "white",
            "gridwidth": 2,
            "linecolor": "white",
            "showbackground": true,
            "ticks": "",
            "zerolinecolor": "white"
           }
          },
          "shapedefaults": {
           "line": {
            "color": "#2a3f5f"
           }
          },
          "ternary": {
           "aaxis": {
            "gridcolor": "white",
            "linecolor": "white",
            "ticks": ""
           },
           "baxis": {
            "gridcolor": "white",
            "linecolor": "white",
            "ticks": ""
           },
           "bgcolor": "#E5ECF6",
           "caxis": {
            "gridcolor": "white",
            "linecolor": "white",
            "ticks": ""
           }
          },
          "title": {
           "x": 0.05
          },
          "xaxis": {
           "automargin": true,
           "gridcolor": "white",
           "linecolor": "white",
           "ticks": "",
           "title": {
            "standoff": 15
           },
           "zerolinecolor": "white",
           "zerolinewidth": 2
          },
          "yaxis": {
           "automargin": true,
           "gridcolor": "white",
           "linecolor": "white",
           "ticks": "",
           "title": {
            "standoff": 15
           },
           "zerolinecolor": "white",
           "zerolinewidth": 2
          }
         }
        },
        "title": {
         "text": "Sectors"
        }
       }
      },
      "text/html": [
       "<div>                            <div id=\"70857803-ff9d-4a1d-9168-3808d6265c5d\" class=\"plotly-graph-div\" style=\"height:525px; width:100%;\"></div>            <script type=\"text/javascript\">                require([\"plotly\"], function(Plotly) {                    window.PLOTLYENV=window.PLOTLYENV || {};                                    if (document.getElementById(\"70857803-ff9d-4a1d-9168-3808d6265c5d\")) {                    Plotly.newPlot(                        \"70857803-ff9d-4a1d-9168-3808d6265c5d\",                        [{\"domain\":{\"x\":[0.0,1.0],\"y\":[0.0,1.0]},\"hovertemplate\":\"Sector=%{label}<br>Number=%{value}<extra></extra>\",\"labels\":[\"3D printing\",\"AI/IoT\",\"Agri-tech\",\"Cloud\",\"Communications\",\"Connectivity\",\"Conservation\",\"Construction\",\"Cybersecurity\",\"Digital identity\",\"Drones\",\"E-commerce and retail-tech\",\"E-health\",\"Ed-tech\",\"Energy\",\"Entertainment\",\"Field management\",\"Fintech\",\"Legal-tech\",\"Logistics\",\"Marketing\",\"Mobility\",\"Procurement\",\"Prop-tech\",\"Recruitment and HR\",\"Software\",\"Tourism\",\"Trade tech\",\"VR\",\"Waste management\",\"Water management\"],\"legendgroup\":\"\",\"name\":\"\",\"showlegend\":true,\"values\":[1,5,36,4,1,2,2,2,1,4,1,30,37,18,8,4,1,105,2,16,7,8,1,4,19,10,3,2,1,2,1],\"type\":\"pie\",\"textinfo\":\"percent+label\",\"textposition\":\"inside\"}],                        {\"template\":{\"data\":{\"histogram2dcontour\":[{\"type\":\"histogram2dcontour\",\"colorbar\":{\"outlinewidth\":0,\"ticks\":\"\"},\"colorscale\":[[0.0,\"#0d0887\"],[0.1111111111111111,\"#46039f\"],[0.2222222222222222,\"#7201a8\"],[0.3333333333333333,\"#9c179e\"],[0.4444444444444444,\"#bd3786\"],[0.5555555555555556,\"#d8576b\"],[0.6666666666666666,\"#ed7953\"],[0.7777777777777778,\"#fb9f3a\"],[0.8888888888888888,\"#fdca26\"],[1.0,\"#f0f921\"]]}],\"choropleth\":[{\"type\":\"choropleth\",\"colorbar\":{\"outlinewidth\":0,\"ticks\":\"\"}}],\"histogram2d\":[{\"type\":\"histogram2d\",\"colorbar\":{\"outlinewidth\":0,\"ticks\":\"\"},\"colorscale\":[[0.0,\"#0d0887\"],[0.1111111111111111,\"#46039f\"],[0.2222222222222222,\"#7201a8\"],[0.3333333333333333,\"#9c179e\"],[0.4444444444444444,\"#bd3786\"],[0.5555555555555556,\"#d8576b\"],[0.6666666666666666,\"#ed7953\"],[0.7777777777777778,\"#fb9f3a\"],[0.8888888888888888,\"#fdca26\"],[1.0,\"#f0f921\"]]}],\"heatmap\":[{\"type\":\"heatmap\",\"colorbar\":{\"outlinewidth\":0,\"ticks\":\"\"},\"colorscale\":[[0.0,\"#0d0887\"],[0.1111111111111111,\"#46039f\"],[0.2222222222222222,\"#7201a8\"],[0.3333333333333333,\"#9c179e\"],[0.4444444444444444,\"#bd3786\"],[0.5555555555555556,\"#d8576b\"],[0.6666666666666666,\"#ed7953\"],[0.7777777777777778,\"#fb9f3a\"],[0.8888888888888888,\"#fdca26\"],[1.0,\"#f0f921\"]]}],\"heatmapgl\":[{\"type\":\"heatmapgl\",\"colorbar\":{\"outlinewidth\":0,\"ticks\":\"\"},\"colorscale\":[[0.0,\"#0d0887\"],[0.1111111111111111,\"#46039f\"],[0.2222222222222222,\"#7201a8\"],[0.3333333333333333,\"#9c179e\"],[0.4444444444444444,\"#bd3786\"],[0.5555555555555556,\"#d8576b\"],[0.6666666666666666,\"#ed7953\"],[0.7777777777777778,\"#fb9f3a\"],[0.8888888888888888,\"#fdca26\"],[1.0,\"#f0f921\"]]}],\"contourcarpet\":[{\"type\":\"contourcarpet\",\"colorbar\":{\"outlinewidth\":0,\"ticks\":\"\"}}],\"contour\":[{\"type\":\"contour\",\"colorbar\":{\"outlinewidth\":0,\"ticks\":\"\"},\"colorscale\":[[0.0,\"#0d0887\"],[0.1111111111111111,\"#46039f\"],[0.2222222222222222,\"#7201a8\"],[0.3333333333333333,\"#9c179e\"],[0.4444444444444444,\"#bd3786\"],[0.5555555555555556,\"#d8576b\"],[0.6666666666666666,\"#ed7953\"],[0.7777777777777778,\"#fb9f3a\"],[0.8888888888888888,\"#fdca26\"],[1.0,\"#f0f921\"]]}],\"surface\":[{\"type\":\"surface\",\"colorbar\":{\"outlinewidth\":0,\"ticks\":\"\"},\"colorscale\":[[0.0,\"#0d0887\"],[0.1111111111111111,\"#46039f\"],[0.2222222222222222,\"#7201a8\"],[0.3333333333333333,\"#9c179e\"],[0.4444444444444444,\"#bd3786\"],[0.5555555555555556,\"#d8576b\"],[0.6666666666666666,\"#ed7953\"],[0.7777777777777778,\"#fb9f3a\"],[0.8888888888888888,\"#fdca26\"],[1.0,\"#f0f921\"]]}],\"mesh3d\":[{\"type\":\"mesh3d\",\"colorbar\":{\"outlinewidth\":0,\"ticks\":\"\"}}],\"scatter\":[{\"fillpattern\":{\"fillmode\":\"overlay\",\"size\":10,\"solidity\":0.2},\"type\":\"scatter\"}],\"parcoords\":[{\"type\":\"parcoords\",\"line\":{\"colorbar\":{\"outlinewidth\":0,\"ticks\":\"\"}}}],\"scatterpolargl\":[{\"type\":\"scatterpolargl\",\"marker\":{\"colorbar\":{\"outlinewidth\":0,\"ticks\":\"\"}}}],\"bar\":[{\"error_x\":{\"color\":\"#2a3f5f\"},\"error_y\":{\"color\":\"#2a3f5f\"},\"marker\":{\"line\":{\"color\":\"#E5ECF6\",\"width\":0.5},\"pattern\":{\"fillmode\":\"overlay\",\"size\":10,\"solidity\":0.2}},\"type\":\"bar\"}],\"scattergeo\":[{\"type\":\"scattergeo\",\"marker\":{\"colorbar\":{\"outlinewidth\":0,\"ticks\":\"\"}}}],\"scatterpolar\":[{\"type\":\"scatterpolar\",\"marker\":{\"colorbar\":{\"outlinewidth\":0,\"ticks\":\"\"}}}],\"histogram\":[{\"marker\":{\"pattern\":{\"fillmode\":\"overlay\",\"size\":10,\"solidity\":0.2}},\"type\":\"histogram\"}],\"scattergl\":[{\"type\":\"scattergl\",\"marker\":{\"colorbar\":{\"outlinewidth\":0,\"ticks\":\"\"}}}],\"scatter3d\":[{\"type\":\"scatter3d\",\"line\":{\"colorbar\":{\"outlinewidth\":0,\"ticks\":\"\"}},\"marker\":{\"colorbar\":{\"outlinewidth\":0,\"ticks\":\"\"}}}],\"scattermapbox\":[{\"type\":\"scattermapbox\",\"marker\":{\"colorbar\":{\"outlinewidth\":0,\"ticks\":\"\"}}}],\"scatterternary\":[{\"type\":\"scatterternary\",\"marker\":{\"colorbar\":{\"outlinewidth\":0,\"ticks\":\"\"}}}],\"scattercarpet\":[{\"type\":\"scattercarpet\",\"marker\":{\"colorbar\":{\"outlinewidth\":0,\"ticks\":\"\"}}}],\"carpet\":[{\"aaxis\":{\"endlinecolor\":\"#2a3f5f\",\"gridcolor\":\"white\",\"linecolor\":\"white\",\"minorgridcolor\":\"white\",\"startlinecolor\":\"#2a3f5f\"},\"baxis\":{\"endlinecolor\":\"#2a3f5f\",\"gridcolor\":\"white\",\"linecolor\":\"white\",\"minorgridcolor\":\"white\",\"startlinecolor\":\"#2a3f5f\"},\"type\":\"carpet\"}],\"table\":[{\"cells\":{\"fill\":{\"color\":\"#EBF0F8\"},\"line\":{\"color\":\"white\"}},\"header\":{\"fill\":{\"color\":\"#C8D4E3\"},\"line\":{\"color\":\"white\"}},\"type\":\"table\"}],\"barpolar\":[{\"marker\":{\"line\":{\"color\":\"#E5ECF6\",\"width\":0.5},\"pattern\":{\"fillmode\":\"overlay\",\"size\":10,\"solidity\":0.2}},\"type\":\"barpolar\"}],\"pie\":[{\"automargin\":true,\"type\":\"pie\"}]},\"layout\":{\"autotypenumbers\":\"strict\",\"colorway\":[\"#636efa\",\"#EF553B\",\"#00cc96\",\"#ab63fa\",\"#FFA15A\",\"#19d3f3\",\"#FF6692\",\"#B6E880\",\"#FF97FF\",\"#FECB52\"],\"font\":{\"color\":\"#2a3f5f\"},\"hovermode\":\"closest\",\"hoverlabel\":{\"align\":\"left\"},\"paper_bgcolor\":\"white\",\"plot_bgcolor\":\"#E5ECF6\",\"polar\":{\"bgcolor\":\"#E5ECF6\",\"angularaxis\":{\"gridcolor\":\"white\",\"linecolor\":\"white\",\"ticks\":\"\"},\"radialaxis\":{\"gridcolor\":\"white\",\"linecolor\":\"white\",\"ticks\":\"\"}},\"ternary\":{\"bgcolor\":\"#E5ECF6\",\"aaxis\":{\"gridcolor\":\"white\",\"linecolor\":\"white\",\"ticks\":\"\"},\"baxis\":{\"gridcolor\":\"white\",\"linecolor\":\"white\",\"ticks\":\"\"},\"caxis\":{\"gridcolor\":\"white\",\"linecolor\":\"white\",\"ticks\":\"\"}},\"coloraxis\":{\"colorbar\":{\"outlinewidth\":0,\"ticks\":\"\"}},\"colorscale\":{\"sequential\":[[0.0,\"#0d0887\"],[0.1111111111111111,\"#46039f\"],[0.2222222222222222,\"#7201a8\"],[0.3333333333333333,\"#9c179e\"],[0.4444444444444444,\"#bd3786\"],[0.5555555555555556,\"#d8576b\"],[0.6666666666666666,\"#ed7953\"],[0.7777777777777778,\"#fb9f3a\"],[0.8888888888888888,\"#fdca26\"],[1.0,\"#f0f921\"]],\"sequentialminus\":[[0.0,\"#0d0887\"],[0.1111111111111111,\"#46039f\"],[0.2222222222222222,\"#7201a8\"],[0.3333333333333333,\"#9c179e\"],[0.4444444444444444,\"#bd3786\"],[0.5555555555555556,\"#d8576b\"],[0.6666666666666666,\"#ed7953\"],[0.7777777777777778,\"#fb9f3a\"],[0.8888888888888888,\"#fdca26\"],[1.0,\"#f0f921\"]],\"diverging\":[[0,\"#8e0152\"],[0.1,\"#c51b7d\"],[0.2,\"#de77ae\"],[0.3,\"#f1b6da\"],[0.4,\"#fde0ef\"],[0.5,\"#f7f7f7\"],[0.6,\"#e6f5d0\"],[0.7,\"#b8e186\"],[0.8,\"#7fbc41\"],[0.9,\"#4d9221\"],[1,\"#276419\"]]},\"xaxis\":{\"gridcolor\":\"white\",\"linecolor\":\"white\",\"ticks\":\"\",\"title\":{\"standoff\":15},\"zerolinecolor\":\"white\",\"automargin\":true,\"zerolinewidth\":2},\"yaxis\":{\"gridcolor\":\"white\",\"linecolor\":\"white\",\"ticks\":\"\",\"title\":{\"standoff\":15},\"zerolinecolor\":\"white\",\"automargin\":true,\"zerolinewidth\":2},\"scene\":{\"xaxis\":{\"backgroundcolor\":\"#E5ECF6\",\"gridcolor\":\"white\",\"linecolor\":\"white\",\"showbackground\":true,\"ticks\":\"\",\"zerolinecolor\":\"white\",\"gridwidth\":2},\"yaxis\":{\"backgroundcolor\":\"#E5ECF6\",\"gridcolor\":\"white\",\"linecolor\":\"white\",\"showbackground\":true,\"ticks\":\"\",\"zerolinecolor\":\"white\",\"gridwidth\":2},\"zaxis\":{\"backgroundcolor\":\"#E5ECF6\",\"gridcolor\":\"white\",\"linecolor\":\"white\",\"showbackground\":true,\"ticks\":\"\",\"zerolinecolor\":\"white\",\"gridwidth\":2}},\"shapedefaults\":{\"line\":{\"color\":\"#2a3f5f\"}},\"annotationdefaults\":{\"arrowcolor\":\"#2a3f5f\",\"arrowhead\":0,\"arrowwidth\":1},\"geo\":{\"bgcolor\":\"white\",\"landcolor\":\"#E5ECF6\",\"subunitcolor\":\"white\",\"showland\":true,\"showlakes\":true,\"lakecolor\":\"white\"},\"title\":{\"x\":0.05},\"mapbox\":{\"style\":\"light\"}}},\"legend\":{\"tracegroupgap\":0},\"title\":{\"text\":\"Sectors\"}},                        {\"responsive\": true}                    ).then(function(){\n",
       "                            \n",
       "var gd = document.getElementById('70857803-ff9d-4a1d-9168-3808d6265c5d');\n",
       "var x = new MutationObserver(function (mutations, observer) {{\n",
       "        var display = window.getComputedStyle(gd).display;\n",
       "        if (!display || display === 'none') {{\n",
       "            console.log([gd, 'removed!']);\n",
       "            Plotly.purge(gd);\n",
       "            observer.disconnect();\n",
       "        }}\n",
       "}});\n",
       "\n",
       "// Listen for the removal of the full notebook cells\n",
       "var notebookContainer = gd.closest('#notebook-container');\n",
       "if (notebookContainer) {{\n",
       "    x.observe(notebookContainer, {childList: true});\n",
       "}}\n",
       "\n",
       "// Listen for the clearing of the current output cell\n",
       "var outputEl = gd.closest('.output');\n",
       "if (outputEl) {{\n",
       "    x.observe(outputEl, {childList: true});\n",
       "}}\n",
       "\n",
       "                        })                };                });            </script>        </div>"
      ]
     },
     "metadata": {},
     "output_type": "display_data"
    }
   ],
   "source": [
    "sectors = df.groupby(['Sector']).size().to_frame('Number')\n",
    "fig_sectors = px.pie(sectors, values='Number', names=sectors.index, title='Sectors')\n",
    "fig_sectors.update_traces(textposition='inside', textinfo='percent+label')\n",
    "fig_sectors.show()"
   ]
  },
  {
   "cell_type": "code",
   "execution_count": 193,
   "id": "47197214",
   "metadata": {},
   "outputs": [
    {
     "data": {
      "application/vnd.plotly.v1+json": {
       "config": {
        "plotlyServerURL": "https://plot.ly"
       },
       "data": [
        {
         "domain": {
          "x": [
           0,
           1
          ],
          "y": [
           0,
           1
          ]
         },
         "hovertemplate": "Sector=%{label}<br>Number=%{value}<extra></extra>",
         "labels": [
          "AI/IoT",
          "Agri-tech",
          "Connectivity",
          "Conservation",
          "Construction",
          "E-commerce and retail-tech",
          "E-health",
          "Ed-tech",
          "Fintech",
          "Logistics",
          "Recruitment and HR",
          "Software"
         ],
         "legendgroup": "",
         "name": "",
         "showlegend": true,
         "textinfo": "percent+label",
         "textposition": "inside",
         "type": "pie",
         "values": [
          1,
          5,
          1,
          1,
          1,
          6,
          9,
          5,
          19,
          3,
          8,
          2
         ]
        }
       ],
       "layout": {
        "legend": {
         "tracegroupgap": 0
        },
        "template": {
         "data": {
          "bar": [
           {
            "error_x": {
             "color": "#2a3f5f"
            },
            "error_y": {
             "color": "#2a3f5f"
            },
            "marker": {
             "line": {
              "color": "#E5ECF6",
              "width": 0.5
             },
             "pattern": {
              "fillmode": "overlay",
              "size": 10,
              "solidity": 0.2
             }
            },
            "type": "bar"
           }
          ],
          "barpolar": [
           {
            "marker": {
             "line": {
              "color": "#E5ECF6",
              "width": 0.5
             },
             "pattern": {
              "fillmode": "overlay",
              "size": 10,
              "solidity": 0.2
             }
            },
            "type": "barpolar"
           }
          ],
          "carpet": [
           {
            "aaxis": {
             "endlinecolor": "#2a3f5f",
             "gridcolor": "white",
             "linecolor": "white",
             "minorgridcolor": "white",
             "startlinecolor": "#2a3f5f"
            },
            "baxis": {
             "endlinecolor": "#2a3f5f",
             "gridcolor": "white",
             "linecolor": "white",
             "minorgridcolor": "white",
             "startlinecolor": "#2a3f5f"
            },
            "type": "carpet"
           }
          ],
          "choropleth": [
           {
            "colorbar": {
             "outlinewidth": 0,
             "ticks": ""
            },
            "type": "choropleth"
           }
          ],
          "contour": [
           {
            "colorbar": {
             "outlinewidth": 0,
             "ticks": ""
            },
            "colorscale": [
             [
              0,
              "#0d0887"
             ],
             [
              0.1111111111111111,
              "#46039f"
             ],
             [
              0.2222222222222222,
              "#7201a8"
             ],
             [
              0.3333333333333333,
              "#9c179e"
             ],
             [
              0.4444444444444444,
              "#bd3786"
             ],
             [
              0.5555555555555556,
              "#d8576b"
             ],
             [
              0.6666666666666666,
              "#ed7953"
             ],
             [
              0.7777777777777778,
              "#fb9f3a"
             ],
             [
              0.8888888888888888,
              "#fdca26"
             ],
             [
              1,
              "#f0f921"
             ]
            ],
            "type": "contour"
           }
          ],
          "contourcarpet": [
           {
            "colorbar": {
             "outlinewidth": 0,
             "ticks": ""
            },
            "type": "contourcarpet"
           }
          ],
          "heatmap": [
           {
            "colorbar": {
             "outlinewidth": 0,
             "ticks": ""
            },
            "colorscale": [
             [
              0,
              "#0d0887"
             ],
             [
              0.1111111111111111,
              "#46039f"
             ],
             [
              0.2222222222222222,
              "#7201a8"
             ],
             [
              0.3333333333333333,
              "#9c179e"
             ],
             [
              0.4444444444444444,
              "#bd3786"
             ],
             [
              0.5555555555555556,
              "#d8576b"
             ],
             [
              0.6666666666666666,
              "#ed7953"
             ],
             [
              0.7777777777777778,
              "#fb9f3a"
             ],
             [
              0.8888888888888888,
              "#fdca26"
             ],
             [
              1,
              "#f0f921"
             ]
            ],
            "type": "heatmap"
           }
          ],
          "heatmapgl": [
           {
            "colorbar": {
             "outlinewidth": 0,
             "ticks": ""
            },
            "colorscale": [
             [
              0,
              "#0d0887"
             ],
             [
              0.1111111111111111,
              "#46039f"
             ],
             [
              0.2222222222222222,
              "#7201a8"
             ],
             [
              0.3333333333333333,
              "#9c179e"
             ],
             [
              0.4444444444444444,
              "#bd3786"
             ],
             [
              0.5555555555555556,
              "#d8576b"
             ],
             [
              0.6666666666666666,
              "#ed7953"
             ],
             [
              0.7777777777777778,
              "#fb9f3a"
             ],
             [
              0.8888888888888888,
              "#fdca26"
             ],
             [
              1,
              "#f0f921"
             ]
            ],
            "type": "heatmapgl"
           }
          ],
          "histogram": [
           {
            "marker": {
             "pattern": {
              "fillmode": "overlay",
              "size": 10,
              "solidity": 0.2
             }
            },
            "type": "histogram"
           }
          ],
          "histogram2d": [
           {
            "colorbar": {
             "outlinewidth": 0,
             "ticks": ""
            },
            "colorscale": [
             [
              0,
              "#0d0887"
             ],
             [
              0.1111111111111111,
              "#46039f"
             ],
             [
              0.2222222222222222,
              "#7201a8"
             ],
             [
              0.3333333333333333,
              "#9c179e"
             ],
             [
              0.4444444444444444,
              "#bd3786"
             ],
             [
              0.5555555555555556,
              "#d8576b"
             ],
             [
              0.6666666666666666,
              "#ed7953"
             ],
             [
              0.7777777777777778,
              "#fb9f3a"
             ],
             [
              0.8888888888888888,
              "#fdca26"
             ],
             [
              1,
              "#f0f921"
             ]
            ],
            "type": "histogram2d"
           }
          ],
          "histogram2dcontour": [
           {
            "colorbar": {
             "outlinewidth": 0,
             "ticks": ""
            },
            "colorscale": [
             [
              0,
              "#0d0887"
             ],
             [
              0.1111111111111111,
              "#46039f"
             ],
             [
              0.2222222222222222,
              "#7201a8"
             ],
             [
              0.3333333333333333,
              "#9c179e"
             ],
             [
              0.4444444444444444,
              "#bd3786"
             ],
             [
              0.5555555555555556,
              "#d8576b"
             ],
             [
              0.6666666666666666,
              "#ed7953"
             ],
             [
              0.7777777777777778,
              "#fb9f3a"
             ],
             [
              0.8888888888888888,
              "#fdca26"
             ],
             [
              1,
              "#f0f921"
             ]
            ],
            "type": "histogram2dcontour"
           }
          ],
          "mesh3d": [
           {
            "colorbar": {
             "outlinewidth": 0,
             "ticks": ""
            },
            "type": "mesh3d"
           }
          ],
          "parcoords": [
           {
            "line": {
             "colorbar": {
              "outlinewidth": 0,
              "ticks": ""
             }
            },
            "type": "parcoords"
           }
          ],
          "pie": [
           {
            "automargin": true,
            "type": "pie"
           }
          ],
          "scatter": [
           {
            "fillpattern": {
             "fillmode": "overlay",
             "size": 10,
             "solidity": 0.2
            },
            "type": "scatter"
           }
          ],
          "scatter3d": [
           {
            "line": {
             "colorbar": {
              "outlinewidth": 0,
              "ticks": ""
             }
            },
            "marker": {
             "colorbar": {
              "outlinewidth": 0,
              "ticks": ""
             }
            },
            "type": "scatter3d"
           }
          ],
          "scattercarpet": [
           {
            "marker": {
             "colorbar": {
              "outlinewidth": 0,
              "ticks": ""
             }
            },
            "type": "scattercarpet"
           }
          ],
          "scattergeo": [
           {
            "marker": {
             "colorbar": {
              "outlinewidth": 0,
              "ticks": ""
             }
            },
            "type": "scattergeo"
           }
          ],
          "scattergl": [
           {
            "marker": {
             "colorbar": {
              "outlinewidth": 0,
              "ticks": ""
             }
            },
            "type": "scattergl"
           }
          ],
          "scattermapbox": [
           {
            "marker": {
             "colorbar": {
              "outlinewidth": 0,
              "ticks": ""
             }
            },
            "type": "scattermapbox"
           }
          ],
          "scatterpolar": [
           {
            "marker": {
             "colorbar": {
              "outlinewidth": 0,
              "ticks": ""
             }
            },
            "type": "scatterpolar"
           }
          ],
          "scatterpolargl": [
           {
            "marker": {
             "colorbar": {
              "outlinewidth": 0,
              "ticks": ""
             }
            },
            "type": "scatterpolargl"
           }
          ],
          "scatterternary": [
           {
            "marker": {
             "colorbar": {
              "outlinewidth": 0,
              "ticks": ""
             }
            },
            "type": "scatterternary"
           }
          ],
          "surface": [
           {
            "colorbar": {
             "outlinewidth": 0,
             "ticks": ""
            },
            "colorscale": [
             [
              0,
              "#0d0887"
             ],
             [
              0.1111111111111111,
              "#46039f"
             ],
             [
              0.2222222222222222,
              "#7201a8"
             ],
             [
              0.3333333333333333,
              "#9c179e"
             ],
             [
              0.4444444444444444,
              "#bd3786"
             ],
             [
              0.5555555555555556,
              "#d8576b"
             ],
             [
              0.6666666666666666,
              "#ed7953"
             ],
             [
              0.7777777777777778,
              "#fb9f3a"
             ],
             [
              0.8888888888888888,
              "#fdca26"
             ],
             [
              1,
              "#f0f921"
             ]
            ],
            "type": "surface"
           }
          ],
          "table": [
           {
            "cells": {
             "fill": {
              "color": "#EBF0F8"
             },
             "line": {
              "color": "white"
             }
            },
            "header": {
             "fill": {
              "color": "#C8D4E3"
             },
             "line": {
              "color": "white"
             }
            },
            "type": "table"
           }
          ]
         },
         "layout": {
          "annotationdefaults": {
           "arrowcolor": "#2a3f5f",
           "arrowhead": 0,
           "arrowwidth": 1
          },
          "autotypenumbers": "strict",
          "coloraxis": {
           "colorbar": {
            "outlinewidth": 0,
            "ticks": ""
           }
          },
          "colorscale": {
           "diverging": [
            [
             0,
             "#8e0152"
            ],
            [
             0.1,
             "#c51b7d"
            ],
            [
             0.2,
             "#de77ae"
            ],
            [
             0.3,
             "#f1b6da"
            ],
            [
             0.4,
             "#fde0ef"
            ],
            [
             0.5,
             "#f7f7f7"
            ],
            [
             0.6,
             "#e6f5d0"
            ],
            [
             0.7,
             "#b8e186"
            ],
            [
             0.8,
             "#7fbc41"
            ],
            [
             0.9,
             "#4d9221"
            ],
            [
             1,
             "#276419"
            ]
           ],
           "sequential": [
            [
             0,
             "#0d0887"
            ],
            [
             0.1111111111111111,
             "#46039f"
            ],
            [
             0.2222222222222222,
             "#7201a8"
            ],
            [
             0.3333333333333333,
             "#9c179e"
            ],
            [
             0.4444444444444444,
             "#bd3786"
            ],
            [
             0.5555555555555556,
             "#d8576b"
            ],
            [
             0.6666666666666666,
             "#ed7953"
            ],
            [
             0.7777777777777778,
             "#fb9f3a"
            ],
            [
             0.8888888888888888,
             "#fdca26"
            ],
            [
             1,
             "#f0f921"
            ]
           ],
           "sequentialminus": [
            [
             0,
             "#0d0887"
            ],
            [
             0.1111111111111111,
             "#46039f"
            ],
            [
             0.2222222222222222,
             "#7201a8"
            ],
            [
             0.3333333333333333,
             "#9c179e"
            ],
            [
             0.4444444444444444,
             "#bd3786"
            ],
            [
             0.5555555555555556,
             "#d8576b"
            ],
            [
             0.6666666666666666,
             "#ed7953"
            ],
            [
             0.7777777777777778,
             "#fb9f3a"
            ],
            [
             0.8888888888888888,
             "#fdca26"
            ],
            [
             1,
             "#f0f921"
            ]
           ]
          },
          "colorway": [
           "#636efa",
           "#EF553B",
           "#00cc96",
           "#ab63fa",
           "#FFA15A",
           "#19d3f3",
           "#FF6692",
           "#B6E880",
           "#FF97FF",
           "#FECB52"
          ],
          "font": {
           "color": "#2a3f5f"
          },
          "geo": {
           "bgcolor": "white",
           "lakecolor": "white",
           "landcolor": "#E5ECF6",
           "showlakes": true,
           "showland": true,
           "subunitcolor": "white"
          },
          "hoverlabel": {
           "align": "left"
          },
          "hovermode": "closest",
          "mapbox": {
           "style": "light"
          },
          "paper_bgcolor": "white",
          "plot_bgcolor": "#E5ECF6",
          "polar": {
           "angularaxis": {
            "gridcolor": "white",
            "linecolor": "white",
            "ticks": ""
           },
           "bgcolor": "#E5ECF6",
           "radialaxis": {
            "gridcolor": "white",
            "linecolor": "white",
            "ticks": ""
           }
          },
          "scene": {
           "xaxis": {
            "backgroundcolor": "#E5ECF6",
            "gridcolor": "white",
            "gridwidth": 2,
            "linecolor": "white",
            "showbackground": true,
            "ticks": "",
            "zerolinecolor": "white"
           },
           "yaxis": {
            "backgroundcolor": "#E5ECF6",
            "gridcolor": "white",
            "gridwidth": 2,
            "linecolor": "white",
            "showbackground": true,
            "ticks": "",
            "zerolinecolor": "white"
           },
           "zaxis": {
            "backgroundcolor": "#E5ECF6",
            "gridcolor": "white",
            "gridwidth": 2,
            "linecolor": "white",
            "showbackground": true,
            "ticks": "",
            "zerolinecolor": "white"
           }
          },
          "shapedefaults": {
           "line": {
            "color": "#2a3f5f"
           }
          },
          "ternary": {
           "aaxis": {
            "gridcolor": "white",
            "linecolor": "white",
            "ticks": ""
           },
           "baxis": {
            "gridcolor": "white",
            "linecolor": "white",
            "ticks": ""
           },
           "bgcolor": "#E5ECF6",
           "caxis": {
            "gridcolor": "white",
            "linecolor": "white",
            "ticks": ""
           }
          },
          "title": {
           "x": 0.05
          },
          "xaxis": {
           "automargin": true,
           "gridcolor": "white",
           "linecolor": "white",
           "ticks": "",
           "title": {
            "standoff": 15
           },
           "zerolinecolor": "white",
           "zerolinewidth": 2
          },
          "yaxis": {
           "automargin": true,
           "gridcolor": "white",
           "linecolor": "white",
           "ticks": "",
           "title": {
            "standoff": 15
           },
           "zerolinecolor": "white",
           "zerolinewidth": 2
          }
         }
        },
        "title": {
         "text": "Female Founders by Sector"
        }
       }
      },
      "text/html": [
       "<div>                            <div id=\"835841e3-5cf1-43da-ac60-d4c87865447b\" class=\"plotly-graph-div\" style=\"height:525px; width:100%;\"></div>            <script type=\"text/javascript\">                require([\"plotly\"], function(Plotly) {                    window.PLOTLYENV=window.PLOTLYENV || {};                                    if (document.getElementById(\"835841e3-5cf1-43da-ac60-d4c87865447b\")) {                    Plotly.newPlot(                        \"835841e3-5cf1-43da-ac60-d4c87865447b\",                        [{\"domain\":{\"x\":[0.0,1.0],\"y\":[0.0,1.0]},\"hovertemplate\":\"Sector=%{label}<br>Number=%{value}<extra></extra>\",\"labels\":[\"AI/IoT\",\"Agri-tech\",\"Connectivity\",\"Conservation\",\"Construction\",\"E-commerce and retail-tech\",\"E-health\",\"Ed-tech\",\"Fintech\",\"Logistics\",\"Recruitment and HR\",\"Software\"],\"legendgroup\":\"\",\"name\":\"\",\"showlegend\":true,\"values\":[1,5,1,1,1,6,9,5,19,3,8,2],\"type\":\"pie\",\"textinfo\":\"percent+label\",\"textposition\":\"inside\"}],                        {\"template\":{\"data\":{\"histogram2dcontour\":[{\"type\":\"histogram2dcontour\",\"colorbar\":{\"outlinewidth\":0,\"ticks\":\"\"},\"colorscale\":[[0.0,\"#0d0887\"],[0.1111111111111111,\"#46039f\"],[0.2222222222222222,\"#7201a8\"],[0.3333333333333333,\"#9c179e\"],[0.4444444444444444,\"#bd3786\"],[0.5555555555555556,\"#d8576b\"],[0.6666666666666666,\"#ed7953\"],[0.7777777777777778,\"#fb9f3a\"],[0.8888888888888888,\"#fdca26\"],[1.0,\"#f0f921\"]]}],\"choropleth\":[{\"type\":\"choropleth\",\"colorbar\":{\"outlinewidth\":0,\"ticks\":\"\"}}],\"histogram2d\":[{\"type\":\"histogram2d\",\"colorbar\":{\"outlinewidth\":0,\"ticks\":\"\"},\"colorscale\":[[0.0,\"#0d0887\"],[0.1111111111111111,\"#46039f\"],[0.2222222222222222,\"#7201a8\"],[0.3333333333333333,\"#9c179e\"],[0.4444444444444444,\"#bd3786\"],[0.5555555555555556,\"#d8576b\"],[0.6666666666666666,\"#ed7953\"],[0.7777777777777778,\"#fb9f3a\"],[0.8888888888888888,\"#fdca26\"],[1.0,\"#f0f921\"]]}],\"heatmap\":[{\"type\":\"heatmap\",\"colorbar\":{\"outlinewidth\":0,\"ticks\":\"\"},\"colorscale\":[[0.0,\"#0d0887\"],[0.1111111111111111,\"#46039f\"],[0.2222222222222222,\"#7201a8\"],[0.3333333333333333,\"#9c179e\"],[0.4444444444444444,\"#bd3786\"],[0.5555555555555556,\"#d8576b\"],[0.6666666666666666,\"#ed7953\"],[0.7777777777777778,\"#fb9f3a\"],[0.8888888888888888,\"#fdca26\"],[1.0,\"#f0f921\"]]}],\"heatmapgl\":[{\"type\":\"heatmapgl\",\"colorbar\":{\"outlinewidth\":0,\"ticks\":\"\"},\"colorscale\":[[0.0,\"#0d0887\"],[0.1111111111111111,\"#46039f\"],[0.2222222222222222,\"#7201a8\"],[0.3333333333333333,\"#9c179e\"],[0.4444444444444444,\"#bd3786\"],[0.5555555555555556,\"#d8576b\"],[0.6666666666666666,\"#ed7953\"],[0.7777777777777778,\"#fb9f3a\"],[0.8888888888888888,\"#fdca26\"],[1.0,\"#f0f921\"]]}],\"contourcarpet\":[{\"type\":\"contourcarpet\",\"colorbar\":{\"outlinewidth\":0,\"ticks\":\"\"}}],\"contour\":[{\"type\":\"contour\",\"colorbar\":{\"outlinewidth\":0,\"ticks\":\"\"},\"colorscale\":[[0.0,\"#0d0887\"],[0.1111111111111111,\"#46039f\"],[0.2222222222222222,\"#7201a8\"],[0.3333333333333333,\"#9c179e\"],[0.4444444444444444,\"#bd3786\"],[0.5555555555555556,\"#d8576b\"],[0.6666666666666666,\"#ed7953\"],[0.7777777777777778,\"#fb9f3a\"],[0.8888888888888888,\"#fdca26\"],[1.0,\"#f0f921\"]]}],\"surface\":[{\"type\":\"surface\",\"colorbar\":{\"outlinewidth\":0,\"ticks\":\"\"},\"colorscale\":[[0.0,\"#0d0887\"],[0.1111111111111111,\"#46039f\"],[0.2222222222222222,\"#7201a8\"],[0.3333333333333333,\"#9c179e\"],[0.4444444444444444,\"#bd3786\"],[0.5555555555555556,\"#d8576b\"],[0.6666666666666666,\"#ed7953\"],[0.7777777777777778,\"#fb9f3a\"],[0.8888888888888888,\"#fdca26\"],[1.0,\"#f0f921\"]]}],\"mesh3d\":[{\"type\":\"mesh3d\",\"colorbar\":{\"outlinewidth\":0,\"ticks\":\"\"}}],\"scatter\":[{\"fillpattern\":{\"fillmode\":\"overlay\",\"size\":10,\"solidity\":0.2},\"type\":\"scatter\"}],\"parcoords\":[{\"type\":\"parcoords\",\"line\":{\"colorbar\":{\"outlinewidth\":0,\"ticks\":\"\"}}}],\"scatterpolargl\":[{\"type\":\"scatterpolargl\",\"marker\":{\"colorbar\":{\"outlinewidth\":0,\"ticks\":\"\"}}}],\"bar\":[{\"error_x\":{\"color\":\"#2a3f5f\"},\"error_y\":{\"color\":\"#2a3f5f\"},\"marker\":{\"line\":{\"color\":\"#E5ECF6\",\"width\":0.5},\"pattern\":{\"fillmode\":\"overlay\",\"size\":10,\"solidity\":0.2}},\"type\":\"bar\"}],\"scattergeo\":[{\"type\":\"scattergeo\",\"marker\":{\"colorbar\":{\"outlinewidth\":0,\"ticks\":\"\"}}}],\"scatterpolar\":[{\"type\":\"scatterpolar\",\"marker\":{\"colorbar\":{\"outlinewidth\":0,\"ticks\":\"\"}}}],\"histogram\":[{\"marker\":{\"pattern\":{\"fillmode\":\"overlay\",\"size\":10,\"solidity\":0.2}},\"type\":\"histogram\"}],\"scattergl\":[{\"type\":\"scattergl\",\"marker\":{\"colorbar\":{\"outlinewidth\":0,\"ticks\":\"\"}}}],\"scatter3d\":[{\"type\":\"scatter3d\",\"line\":{\"colorbar\":{\"outlinewidth\":0,\"ticks\":\"\"}},\"marker\":{\"colorbar\":{\"outlinewidth\":0,\"ticks\":\"\"}}}],\"scattermapbox\":[{\"type\":\"scattermapbox\",\"marker\":{\"colorbar\":{\"outlinewidth\":0,\"ticks\":\"\"}}}],\"scatterternary\":[{\"type\":\"scatterternary\",\"marker\":{\"colorbar\":{\"outlinewidth\":0,\"ticks\":\"\"}}}],\"scattercarpet\":[{\"type\":\"scattercarpet\",\"marker\":{\"colorbar\":{\"outlinewidth\":0,\"ticks\":\"\"}}}],\"carpet\":[{\"aaxis\":{\"endlinecolor\":\"#2a3f5f\",\"gridcolor\":\"white\",\"linecolor\":\"white\",\"minorgridcolor\":\"white\",\"startlinecolor\":\"#2a3f5f\"},\"baxis\":{\"endlinecolor\":\"#2a3f5f\",\"gridcolor\":\"white\",\"linecolor\":\"white\",\"minorgridcolor\":\"white\",\"startlinecolor\":\"#2a3f5f\"},\"type\":\"carpet\"}],\"table\":[{\"cells\":{\"fill\":{\"color\":\"#EBF0F8\"},\"line\":{\"color\":\"white\"}},\"header\":{\"fill\":{\"color\":\"#C8D4E3\"},\"line\":{\"color\":\"white\"}},\"type\":\"table\"}],\"barpolar\":[{\"marker\":{\"line\":{\"color\":\"#E5ECF6\",\"width\":0.5},\"pattern\":{\"fillmode\":\"overlay\",\"size\":10,\"solidity\":0.2}},\"type\":\"barpolar\"}],\"pie\":[{\"automargin\":true,\"type\":\"pie\"}]},\"layout\":{\"autotypenumbers\":\"strict\",\"colorway\":[\"#636efa\",\"#EF553B\",\"#00cc96\",\"#ab63fa\",\"#FFA15A\",\"#19d3f3\",\"#FF6692\",\"#B6E880\",\"#FF97FF\",\"#FECB52\"],\"font\":{\"color\":\"#2a3f5f\"},\"hovermode\":\"closest\",\"hoverlabel\":{\"align\":\"left\"},\"paper_bgcolor\":\"white\",\"plot_bgcolor\":\"#E5ECF6\",\"polar\":{\"bgcolor\":\"#E5ECF6\",\"angularaxis\":{\"gridcolor\":\"white\",\"linecolor\":\"white\",\"ticks\":\"\"},\"radialaxis\":{\"gridcolor\":\"white\",\"linecolor\":\"white\",\"ticks\":\"\"}},\"ternary\":{\"bgcolor\":\"#E5ECF6\",\"aaxis\":{\"gridcolor\":\"white\",\"linecolor\":\"white\",\"ticks\":\"\"},\"baxis\":{\"gridcolor\":\"white\",\"linecolor\":\"white\",\"ticks\":\"\"},\"caxis\":{\"gridcolor\":\"white\",\"linecolor\":\"white\",\"ticks\":\"\"}},\"coloraxis\":{\"colorbar\":{\"outlinewidth\":0,\"ticks\":\"\"}},\"colorscale\":{\"sequential\":[[0.0,\"#0d0887\"],[0.1111111111111111,\"#46039f\"],[0.2222222222222222,\"#7201a8\"],[0.3333333333333333,\"#9c179e\"],[0.4444444444444444,\"#bd3786\"],[0.5555555555555556,\"#d8576b\"],[0.6666666666666666,\"#ed7953\"],[0.7777777777777778,\"#fb9f3a\"],[0.8888888888888888,\"#fdca26\"],[1.0,\"#f0f921\"]],\"sequentialminus\":[[0.0,\"#0d0887\"],[0.1111111111111111,\"#46039f\"],[0.2222222222222222,\"#7201a8\"],[0.3333333333333333,\"#9c179e\"],[0.4444444444444444,\"#bd3786\"],[0.5555555555555556,\"#d8576b\"],[0.6666666666666666,\"#ed7953\"],[0.7777777777777778,\"#fb9f3a\"],[0.8888888888888888,\"#fdca26\"],[1.0,\"#f0f921\"]],\"diverging\":[[0,\"#8e0152\"],[0.1,\"#c51b7d\"],[0.2,\"#de77ae\"],[0.3,\"#f1b6da\"],[0.4,\"#fde0ef\"],[0.5,\"#f7f7f7\"],[0.6,\"#e6f5d0\"],[0.7,\"#b8e186\"],[0.8,\"#7fbc41\"],[0.9,\"#4d9221\"],[1,\"#276419\"]]},\"xaxis\":{\"gridcolor\":\"white\",\"linecolor\":\"white\",\"ticks\":\"\",\"title\":{\"standoff\":15},\"zerolinecolor\":\"white\",\"automargin\":true,\"zerolinewidth\":2},\"yaxis\":{\"gridcolor\":\"white\",\"linecolor\":\"white\",\"ticks\":\"\",\"title\":{\"standoff\":15},\"zerolinecolor\":\"white\",\"automargin\":true,\"zerolinewidth\":2},\"scene\":{\"xaxis\":{\"backgroundcolor\":\"#E5ECF6\",\"gridcolor\":\"white\",\"linecolor\":\"white\",\"showbackground\":true,\"ticks\":\"\",\"zerolinecolor\":\"white\",\"gridwidth\":2},\"yaxis\":{\"backgroundcolor\":\"#E5ECF6\",\"gridcolor\":\"white\",\"linecolor\":\"white\",\"showbackground\":true,\"ticks\":\"\",\"zerolinecolor\":\"white\",\"gridwidth\":2},\"zaxis\":{\"backgroundcolor\":\"#E5ECF6\",\"gridcolor\":\"white\",\"linecolor\":\"white\",\"showbackground\":true,\"ticks\":\"\",\"zerolinecolor\":\"white\",\"gridwidth\":2}},\"shapedefaults\":{\"line\":{\"color\":\"#2a3f5f\"}},\"annotationdefaults\":{\"arrowcolor\":\"#2a3f5f\",\"arrowhead\":0,\"arrowwidth\":1},\"geo\":{\"bgcolor\":\"white\",\"landcolor\":\"#E5ECF6\",\"subunitcolor\":\"white\",\"showland\":true,\"showlakes\":true,\"lakecolor\":\"white\"},\"title\":{\"x\":0.05},\"mapbox\":{\"style\":\"light\"}}},\"legend\":{\"tracegroupgap\":0},\"title\":{\"text\":\"Female Founders by Sector\"}},                        {\"responsive\": true}                    ).then(function(){\n",
       "                            \n",
       "var gd = document.getElementById('835841e3-5cf1-43da-ac60-d4c87865447b');\n",
       "var x = new MutationObserver(function (mutations, observer) {{\n",
       "        var display = window.getComputedStyle(gd).display;\n",
       "        if (!display || display === 'none') {{\n",
       "            console.log([gd, 'removed!']);\n",
       "            Plotly.purge(gd);\n",
       "            observer.disconnect();\n",
       "        }}\n",
       "}});\n",
       "\n",
       "// Listen for the removal of the full notebook cells\n",
       "var notebookContainer = gd.closest('#notebook-container');\n",
       "if (notebookContainer) {{\n",
       "    x.observe(notebookContainer, {childList: true});\n",
       "}}\n",
       "\n",
       "// Listen for the clearing of the current output cell\n",
       "var outputEl = gd.closest('.output');\n",
       "if (outputEl) {{\n",
       "    x.observe(outputEl, {childList: true});\n",
       "}}\n",
       "\n",
       "                        })                };                });            </script>        </div>"
      ]
     },
     "metadata": {},
     "output_type": "display_data"
    }
   ],
   "source": [
    "female_sectors = df[df['Female founder?'] == 'Yes'].groupby(['Sector']).size().to_frame('Number')\n",
    "fig_sectors = px.pie(female_sectors, values='Number', names=female_sectors.index, title='Female Founders by Sector')\n",
    "fig_sectors.update_traces(textposition='inside', textinfo='percent+label')\n",
    "fig_sectors.show()"
   ]
  },
  {
   "cell_type": "code",
   "execution_count": 248,
   "id": "733dc23d",
   "metadata": {},
   "outputs": [],
   "source": [
    "female_founded = df[df['Female founder?'] == 'Yes']\n",
    "male_founded = df[df['Female founder?'] == 'No']\n",
    "female_founded = female_founded.groupby(['Sector']).size().to_frame('Number').reset_index()\n",
    "male_founded = male_founded.groupby(['Sector']).size().to_frame('Number').reset_index()"
   ]
  },
  {
   "cell_type": "code",
   "execution_count": 251,
   "id": "db76c6d6",
   "metadata": {},
   "outputs": [
    {
     "ename": "ValueError",
     "evalue": "Value of 'color' is not the name of a column in 'data_frame'. Expected one of ['Sector', 'Female Founders', 'Male Founders'] but received: medal",
     "output_type": "error",
     "traceback": [
      "\u001b[0;31m---------------------------------------------------------------------------\u001b[0m",
      "\u001b[0;31mValueError\u001b[0m                                Traceback (most recent call last)",
      "Input \u001b[0;32mIn [251]\u001b[0m, in \u001b[0;36m<cell line: 5>\u001b[0;34m()\u001b[0m\n\u001b[1;32m      2\u001b[0m merged\u001b[38;5;241m.\u001b[39mrename(columns \u001b[38;5;241m=\u001b[39m {\u001b[38;5;124m'\u001b[39m\u001b[38;5;124mNumber_x\u001b[39m\u001b[38;5;124m'\u001b[39m:\u001b[38;5;124m'\u001b[39m\u001b[38;5;124mFemale Founders\u001b[39m\u001b[38;5;124m'\u001b[39m, \u001b[38;5;124m'\u001b[39m\u001b[38;5;124mNumber_y\u001b[39m\u001b[38;5;124m'\u001b[39m:\u001b[38;5;124m'\u001b[39m\u001b[38;5;124mMale Founders\u001b[39m\u001b[38;5;124m'\u001b[39m}, inplace \u001b[38;5;241m=\u001b[39m \u001b[38;5;28;01mTrue\u001b[39;00m)\n\u001b[1;32m      3\u001b[0m merged\u001b[38;5;241m.\u001b[39msort_values([\u001b[38;5;124m'\u001b[39m\u001b[38;5;124mFemale Founders\u001b[39m\u001b[38;5;124m'\u001b[39m, \u001b[38;5;124m'\u001b[39m\u001b[38;5;124mMale Founders\u001b[39m\u001b[38;5;124m'\u001b[39m], ascending\u001b[38;5;241m=\u001b[39m[\u001b[38;5;28;01mFalse\u001b[39;00m, \u001b[38;5;28;01mFalse\u001b[39;00m])\n\u001b[0;32m----> 5\u001b[0m fig \u001b[38;5;241m=\u001b[39m \u001b[43mpx\u001b[49m\u001b[38;5;241;43m.\u001b[39;49m\u001b[43mbar\u001b[49m\u001b[43m(\u001b[49m\u001b[43mmerged\u001b[49m\u001b[43m,\u001b[49m\u001b[43m \u001b[49m\u001b[43mx\u001b[49m\u001b[38;5;241;43m=\u001b[39;49m\u001b[38;5;124;43m\"\u001b[39;49m\u001b[38;5;124;43mSector\u001b[39;49m\u001b[38;5;124;43m\"\u001b[39;49m\u001b[43m,\u001b[49m\u001b[43m \u001b[49m\u001b[43my\u001b[49m\u001b[38;5;241;43m=\u001b[39;49m\u001b[43m[\u001b[49m\u001b[38;5;124;43m\"\u001b[39;49m\u001b[38;5;124;43mFemale Founders\u001b[39;49m\u001b[38;5;124;43m\"\u001b[39;49m\u001b[43m,\u001b[49m\u001b[38;5;124;43m\"\u001b[39;49m\u001b[38;5;124;43mMale Founders\u001b[39;49m\u001b[38;5;124;43m\"\u001b[39;49m\u001b[43m]\u001b[49m\u001b[43m,\u001b[49m\u001b[43m \u001b[49m\u001b[43mcolor\u001b[49m\u001b[38;5;241;43m=\u001b[39;49m\u001b[38;5;124;43m\"\u001b[39;49m\u001b[38;5;124;43mmedal\u001b[39;49m\u001b[38;5;124;43m\"\u001b[39;49m\u001b[43m,\u001b[49m\u001b[43m \u001b[49m\u001b[43mtitle\u001b[49m\u001b[38;5;241;43m=\u001b[39;49m\u001b[38;5;124;43m\"\u001b[39;49m\u001b[38;5;124;43mLong-Form Input\u001b[39;49m\u001b[38;5;124;43m\"\u001b[39;49m\u001b[43m)\u001b[49m\n\u001b[1;32m      6\u001b[0m fig\u001b[38;5;241m.\u001b[39mshow()\n",
      "File \u001b[0;32m/Library/Frameworks/Python.framework/Versions/3.10/lib/python3.10/site-packages/plotly/express/_chart_types.py:373\u001b[0m, in \u001b[0;36mbar\u001b[0;34m(data_frame, x, y, color, pattern_shape, facet_row, facet_col, facet_col_wrap, facet_row_spacing, facet_col_spacing, hover_name, hover_data, custom_data, text, base, error_x, error_x_minus, error_y, error_y_minus, animation_frame, animation_group, category_orders, labels, color_discrete_sequence, color_discrete_map, color_continuous_scale, pattern_shape_sequence, pattern_shape_map, range_color, color_continuous_midpoint, opacity, orientation, barmode, log_x, log_y, range_x, range_y, text_auto, title, template, width, height)\u001b[0m\n\u001b[1;32m    325\u001b[0m \u001b[38;5;28;01mdef\u001b[39;00m \u001b[38;5;21mbar\u001b[39m(\n\u001b[1;32m    326\u001b[0m     data_frame\u001b[38;5;241m=\u001b[39m\u001b[38;5;28;01mNone\u001b[39;00m,\n\u001b[1;32m    327\u001b[0m     x\u001b[38;5;241m=\u001b[39m\u001b[38;5;28;01mNone\u001b[39;00m,\n\u001b[0;32m   (...)\u001b[0m\n\u001b[1;32m    367\u001b[0m     height\u001b[38;5;241m=\u001b[39m\u001b[38;5;28;01mNone\u001b[39;00m,\n\u001b[1;32m    368\u001b[0m ) \u001b[38;5;241m-\u001b[39m\u001b[38;5;241m>\u001b[39m go\u001b[38;5;241m.\u001b[39mFigure:\n\u001b[1;32m    369\u001b[0m     \u001b[38;5;124;03m\"\"\"\u001b[39;00m\n\u001b[1;32m    370\u001b[0m \u001b[38;5;124;03m    In a bar plot, each row of `data_frame` is represented as a rectangular\u001b[39;00m\n\u001b[1;32m    371\u001b[0m \u001b[38;5;124;03m    mark.\u001b[39;00m\n\u001b[1;32m    372\u001b[0m \u001b[38;5;124;03m    \"\"\"\u001b[39;00m\n\u001b[0;32m--> 373\u001b[0m     \u001b[38;5;28;01mreturn\u001b[39;00m \u001b[43mmake_figure\u001b[49m\u001b[43m(\u001b[49m\n\u001b[1;32m    374\u001b[0m \u001b[43m        \u001b[49m\u001b[43margs\u001b[49m\u001b[38;5;241;43m=\u001b[39;49m\u001b[38;5;28;43mlocals\u001b[39;49m\u001b[43m(\u001b[49m\u001b[43m)\u001b[49m\u001b[43m,\u001b[49m\n\u001b[1;32m    375\u001b[0m \u001b[43m        \u001b[49m\u001b[43mconstructor\u001b[49m\u001b[38;5;241;43m=\u001b[39;49m\u001b[43mgo\u001b[49m\u001b[38;5;241;43m.\u001b[39;49m\u001b[43mBar\u001b[49m\u001b[43m,\u001b[49m\n\u001b[1;32m    376\u001b[0m \u001b[43m        \u001b[49m\u001b[43mtrace_patch\u001b[49m\u001b[38;5;241;43m=\u001b[39;49m\u001b[38;5;28;43mdict\u001b[39;49m\u001b[43m(\u001b[49m\u001b[43mtextposition\u001b[49m\u001b[38;5;241;43m=\u001b[39;49m\u001b[38;5;124;43m\"\u001b[39;49m\u001b[38;5;124;43mauto\u001b[39;49m\u001b[38;5;124;43m\"\u001b[39;49m\u001b[43m)\u001b[49m\u001b[43m,\u001b[49m\n\u001b[1;32m    377\u001b[0m \u001b[43m        \u001b[49m\u001b[43mlayout_patch\u001b[49m\u001b[38;5;241;43m=\u001b[39;49m\u001b[38;5;28;43mdict\u001b[39;49m\u001b[43m(\u001b[49m\u001b[43mbarmode\u001b[49m\u001b[38;5;241;43m=\u001b[39;49m\u001b[43mbarmode\u001b[49m\u001b[43m)\u001b[49m\u001b[43m,\u001b[49m\n\u001b[1;32m    378\u001b[0m \u001b[43m    \u001b[49m\u001b[43m)\u001b[49m\n",
      "File \u001b[0;32m/Library/Frameworks/Python.framework/Versions/3.10/lib/python3.10/site-packages/plotly/express/_core.py:1948\u001b[0m, in \u001b[0;36mmake_figure\u001b[0;34m(args, constructor, trace_patch, layout_patch)\u001b[0m\n\u001b[1;32m   1945\u001b[0m layout_patch \u001b[38;5;241m=\u001b[39m layout_patch \u001b[38;5;129;01mor\u001b[39;00m {}\n\u001b[1;32m   1946\u001b[0m apply_default_cascade(args)\n\u001b[0;32m-> 1948\u001b[0m args \u001b[38;5;241m=\u001b[39m \u001b[43mbuild_dataframe\u001b[49m\u001b[43m(\u001b[49m\u001b[43margs\u001b[49m\u001b[43m,\u001b[49m\u001b[43m \u001b[49m\u001b[43mconstructor\u001b[49m\u001b[43m)\u001b[49m\n\u001b[1;32m   1949\u001b[0m \u001b[38;5;28;01mif\u001b[39;00m constructor \u001b[38;5;129;01min\u001b[39;00m [go\u001b[38;5;241m.\u001b[39mTreemap, go\u001b[38;5;241m.\u001b[39mSunburst, go\u001b[38;5;241m.\u001b[39mIcicle] \u001b[38;5;129;01mand\u001b[39;00m args[\u001b[38;5;124m\"\u001b[39m\u001b[38;5;124mpath\u001b[39m\u001b[38;5;124m\"\u001b[39m] \u001b[38;5;129;01mis\u001b[39;00m \u001b[38;5;129;01mnot\u001b[39;00m \u001b[38;5;28;01mNone\u001b[39;00m:\n\u001b[1;32m   1950\u001b[0m     args \u001b[38;5;241m=\u001b[39m process_dataframe_hierarchy(args)\n",
      "File \u001b[0;32m/Library/Frameworks/Python.framework/Versions/3.10/lib/python3.10/site-packages/plotly/express/_core.py:1405\u001b[0m, in \u001b[0;36mbuild_dataframe\u001b[0;34m(args, constructor)\u001b[0m\n\u001b[1;32m   1402\u001b[0m     args[\u001b[38;5;124m\"\u001b[39m\u001b[38;5;124mcolor\u001b[39m\u001b[38;5;124m\"\u001b[39m] \u001b[38;5;241m=\u001b[39m \u001b[38;5;28;01mNone\u001b[39;00m\n\u001b[1;32m   1403\u001b[0m \u001b[38;5;66;03m# now that things have been prepped, we do the systematic rewriting of `args`\u001b[39;00m\n\u001b[0;32m-> 1405\u001b[0m df_output, wide_id_vars \u001b[38;5;241m=\u001b[39m \u001b[43mprocess_args_into_dataframe\u001b[49m\u001b[43m(\u001b[49m\n\u001b[1;32m   1406\u001b[0m \u001b[43m    \u001b[49m\u001b[43margs\u001b[49m\u001b[43m,\u001b[49m\u001b[43m \u001b[49m\u001b[43mwide_mode\u001b[49m\u001b[43m,\u001b[49m\u001b[43m \u001b[49m\u001b[43mvar_name\u001b[49m\u001b[43m,\u001b[49m\u001b[43m \u001b[49m\u001b[43mvalue_name\u001b[49m\n\u001b[1;32m   1407\u001b[0m \u001b[43m\u001b[49m\u001b[43m)\u001b[49m\n\u001b[1;32m   1409\u001b[0m \u001b[38;5;66;03m# now that `df_output` exists and `args` contains only references, we complete\u001b[39;00m\n\u001b[1;32m   1410\u001b[0m \u001b[38;5;66;03m# the special-case and wide-mode handling by further rewriting args and/or mutating\u001b[39;00m\n\u001b[1;32m   1411\u001b[0m \u001b[38;5;66;03m# df_output\u001b[39;00m\n\u001b[1;32m   1413\u001b[0m count_name \u001b[38;5;241m=\u001b[39m _escape_col_name(df_output, \u001b[38;5;124m\"\u001b[39m\u001b[38;5;124mcount\u001b[39m\u001b[38;5;124m\"\u001b[39m, [var_name, value_name])\n",
      "File \u001b[0;32m/Library/Frameworks/Python.framework/Versions/3.10/lib/python3.10/site-packages/plotly/express/_core.py:1207\u001b[0m, in \u001b[0;36mprocess_args_into_dataframe\u001b[0;34m(args, wide_mode, var_name, value_name)\u001b[0m\n\u001b[1;32m   1205\u001b[0m         \u001b[38;5;28;01mif\u001b[39;00m argument \u001b[38;5;241m==\u001b[39m \u001b[38;5;124m\"\u001b[39m\u001b[38;5;124mindex\u001b[39m\u001b[38;5;124m\"\u001b[39m:\n\u001b[1;32m   1206\u001b[0m             err_msg \u001b[38;5;241m+\u001b[39m\u001b[38;5;241m=\u001b[39m \u001b[38;5;124m\"\u001b[39m\u001b[38;5;130;01m\\n\u001b[39;00m\u001b[38;5;124m To use the index, pass it in directly as `df.index`.\u001b[39m\u001b[38;5;124m\"\u001b[39m\n\u001b[0;32m-> 1207\u001b[0m         \u001b[38;5;28;01mraise\u001b[39;00m \u001b[38;5;167;01mValueError\u001b[39;00m(err_msg)\n\u001b[1;32m   1208\u001b[0m \u001b[38;5;28;01melif\u001b[39;00m length \u001b[38;5;129;01mand\u001b[39;00m \u001b[38;5;28mlen\u001b[39m(df_input[argument]) \u001b[38;5;241m!=\u001b[39m length:\n\u001b[1;32m   1209\u001b[0m     \u001b[38;5;28;01mraise\u001b[39;00m \u001b[38;5;167;01mValueError\u001b[39;00m(\n\u001b[1;32m   1210\u001b[0m         \u001b[38;5;124m\"\u001b[39m\u001b[38;5;124mAll arguments should have the same length. \u001b[39m\u001b[38;5;124m\"\u001b[39m\n\u001b[1;32m   1211\u001b[0m         \u001b[38;5;124m\"\u001b[39m\u001b[38;5;124mThe length of column argument `df[\u001b[39m\u001b[38;5;132;01m%s\u001b[39;00m\u001b[38;5;124m]` is \u001b[39m\u001b[38;5;132;01m%d\u001b[39;00m\u001b[38;5;124m, whereas the \u001b[39m\u001b[38;5;124m\"\u001b[39m\n\u001b[0;32m   (...)\u001b[0m\n\u001b[1;32m   1218\u001b[0m         )\n\u001b[1;32m   1219\u001b[0m     )\n",
      "\u001b[0;31mValueError\u001b[0m: Value of 'color' is not the name of a column in 'data_frame'. Expected one of ['Sector', 'Female Founders', 'Male Founders'] but received: medal"
     ]
    }
   ],
   "source": [
    "merged = female_founded.merge(male_founded, how='left', on='Sector')\n",
    "merged.rename(columns = {'Number_x':'Female Founders', 'Number_y':'Male Founders'}, inplace = True)\n",
    "merged.sort_values(['Female Founders', 'Male Founders'], ascending=[False, False])\n",
    "\n",
    "fig = px.bar(merged, x=\"Sector\", y=[\"Female Founders\",\"Male Founders\"], color=\"medal\", title=\"Long-Form Input\")\n",
    "fig.show()"
   ]
  },
  {
   "cell_type": "code",
   "execution_count": 182,
   "id": "506f5a7e",
   "metadata": {},
   "outputs": [
    {
     "data": {
      "application/vnd.plotly.v1+json": {
       "config": {
        "plotlyServerURL": "https://plot.ly"
       },
       "data": [
        {
         "domain": {
          "x": [
           0,
           1
          ],
          "y": [
           0,
           1
          ]
         },
         "hovertemplate": "Accelerated?=%{label}<br>Number=%{value}<extra></extra>",
         "labels": [
          "No",
          "Yes"
         ],
         "legendgroup": "",
         "name": "",
         "showlegend": true,
         "textinfo": "percent+label",
         "textposition": "inside",
         "type": "pie",
         "values": [
          182,
          156
         ]
        }
       ],
       "layout": {
        "legend": {
         "tracegroupgap": 0
        },
        "template": {
         "data": {
          "bar": [
           {
            "error_x": {
             "color": "#2a3f5f"
            },
            "error_y": {
             "color": "#2a3f5f"
            },
            "marker": {
             "line": {
              "color": "#E5ECF6",
              "width": 0.5
             },
             "pattern": {
              "fillmode": "overlay",
              "size": 10,
              "solidity": 0.2
             }
            },
            "type": "bar"
           }
          ],
          "barpolar": [
           {
            "marker": {
             "line": {
              "color": "#E5ECF6",
              "width": 0.5
             },
             "pattern": {
              "fillmode": "overlay",
              "size": 10,
              "solidity": 0.2
             }
            },
            "type": "barpolar"
           }
          ],
          "carpet": [
           {
            "aaxis": {
             "endlinecolor": "#2a3f5f",
             "gridcolor": "white",
             "linecolor": "white",
             "minorgridcolor": "white",
             "startlinecolor": "#2a3f5f"
            },
            "baxis": {
             "endlinecolor": "#2a3f5f",
             "gridcolor": "white",
             "linecolor": "white",
             "minorgridcolor": "white",
             "startlinecolor": "#2a3f5f"
            },
            "type": "carpet"
           }
          ],
          "choropleth": [
           {
            "colorbar": {
             "outlinewidth": 0,
             "ticks": ""
            },
            "type": "choropleth"
           }
          ],
          "contour": [
           {
            "colorbar": {
             "outlinewidth": 0,
             "ticks": ""
            },
            "colorscale": [
             [
              0,
              "#0d0887"
             ],
             [
              0.1111111111111111,
              "#46039f"
             ],
             [
              0.2222222222222222,
              "#7201a8"
             ],
             [
              0.3333333333333333,
              "#9c179e"
             ],
             [
              0.4444444444444444,
              "#bd3786"
             ],
             [
              0.5555555555555556,
              "#d8576b"
             ],
             [
              0.6666666666666666,
              "#ed7953"
             ],
             [
              0.7777777777777778,
              "#fb9f3a"
             ],
             [
              0.8888888888888888,
              "#fdca26"
             ],
             [
              1,
              "#f0f921"
             ]
            ],
            "type": "contour"
           }
          ],
          "contourcarpet": [
           {
            "colorbar": {
             "outlinewidth": 0,
             "ticks": ""
            },
            "type": "contourcarpet"
           }
          ],
          "heatmap": [
           {
            "colorbar": {
             "outlinewidth": 0,
             "ticks": ""
            },
            "colorscale": [
             [
              0,
              "#0d0887"
             ],
             [
              0.1111111111111111,
              "#46039f"
             ],
             [
              0.2222222222222222,
              "#7201a8"
             ],
             [
              0.3333333333333333,
              "#9c179e"
             ],
             [
              0.4444444444444444,
              "#bd3786"
             ],
             [
              0.5555555555555556,
              "#d8576b"
             ],
             [
              0.6666666666666666,
              "#ed7953"
             ],
             [
              0.7777777777777778,
              "#fb9f3a"
             ],
             [
              0.8888888888888888,
              "#fdca26"
             ],
             [
              1,
              "#f0f921"
             ]
            ],
            "type": "heatmap"
           }
          ],
          "heatmapgl": [
           {
            "colorbar": {
             "outlinewidth": 0,
             "ticks": ""
            },
            "colorscale": [
             [
              0,
              "#0d0887"
             ],
             [
              0.1111111111111111,
              "#46039f"
             ],
             [
              0.2222222222222222,
              "#7201a8"
             ],
             [
              0.3333333333333333,
              "#9c179e"
             ],
             [
              0.4444444444444444,
              "#bd3786"
             ],
             [
              0.5555555555555556,
              "#d8576b"
             ],
             [
              0.6666666666666666,
              "#ed7953"
             ],
             [
              0.7777777777777778,
              "#fb9f3a"
             ],
             [
              0.8888888888888888,
              "#fdca26"
             ],
             [
              1,
              "#f0f921"
             ]
            ],
            "type": "heatmapgl"
           }
          ],
          "histogram": [
           {
            "marker": {
             "pattern": {
              "fillmode": "overlay",
              "size": 10,
              "solidity": 0.2
             }
            },
            "type": "histogram"
           }
          ],
          "histogram2d": [
           {
            "colorbar": {
             "outlinewidth": 0,
             "ticks": ""
            },
            "colorscale": [
             [
              0,
              "#0d0887"
             ],
             [
              0.1111111111111111,
              "#46039f"
             ],
             [
              0.2222222222222222,
              "#7201a8"
             ],
             [
              0.3333333333333333,
              "#9c179e"
             ],
             [
              0.4444444444444444,
              "#bd3786"
             ],
             [
              0.5555555555555556,
              "#d8576b"
             ],
             [
              0.6666666666666666,
              "#ed7953"
             ],
             [
              0.7777777777777778,
              "#fb9f3a"
             ],
             [
              0.8888888888888888,
              "#fdca26"
             ],
             [
              1,
              "#f0f921"
             ]
            ],
            "type": "histogram2d"
           }
          ],
          "histogram2dcontour": [
           {
            "colorbar": {
             "outlinewidth": 0,
             "ticks": ""
            },
            "colorscale": [
             [
              0,
              "#0d0887"
             ],
             [
              0.1111111111111111,
              "#46039f"
             ],
             [
              0.2222222222222222,
              "#7201a8"
             ],
             [
              0.3333333333333333,
              "#9c179e"
             ],
             [
              0.4444444444444444,
              "#bd3786"
             ],
             [
              0.5555555555555556,
              "#d8576b"
             ],
             [
              0.6666666666666666,
              "#ed7953"
             ],
             [
              0.7777777777777778,
              "#fb9f3a"
             ],
             [
              0.8888888888888888,
              "#fdca26"
             ],
             [
              1,
              "#f0f921"
             ]
            ],
            "type": "histogram2dcontour"
           }
          ],
          "mesh3d": [
           {
            "colorbar": {
             "outlinewidth": 0,
             "ticks": ""
            },
            "type": "mesh3d"
           }
          ],
          "parcoords": [
           {
            "line": {
             "colorbar": {
              "outlinewidth": 0,
              "ticks": ""
             }
            },
            "type": "parcoords"
           }
          ],
          "pie": [
           {
            "automargin": true,
            "type": "pie"
           }
          ],
          "scatter": [
           {
            "fillpattern": {
             "fillmode": "overlay",
             "size": 10,
             "solidity": 0.2
            },
            "type": "scatter"
           }
          ],
          "scatter3d": [
           {
            "line": {
             "colorbar": {
              "outlinewidth": 0,
              "ticks": ""
             }
            },
            "marker": {
             "colorbar": {
              "outlinewidth": 0,
              "ticks": ""
             }
            },
            "type": "scatter3d"
           }
          ],
          "scattercarpet": [
           {
            "marker": {
             "colorbar": {
              "outlinewidth": 0,
              "ticks": ""
             }
            },
            "type": "scattercarpet"
           }
          ],
          "scattergeo": [
           {
            "marker": {
             "colorbar": {
              "outlinewidth": 0,
              "ticks": ""
             }
            },
            "type": "scattergeo"
           }
          ],
          "scattergl": [
           {
            "marker": {
             "colorbar": {
              "outlinewidth": 0,
              "ticks": ""
             }
            },
            "type": "scattergl"
           }
          ],
          "scattermapbox": [
           {
            "marker": {
             "colorbar": {
              "outlinewidth": 0,
              "ticks": ""
             }
            },
            "type": "scattermapbox"
           }
          ],
          "scatterpolar": [
           {
            "marker": {
             "colorbar": {
              "outlinewidth": 0,
              "ticks": ""
             }
            },
            "type": "scatterpolar"
           }
          ],
          "scatterpolargl": [
           {
            "marker": {
             "colorbar": {
              "outlinewidth": 0,
              "ticks": ""
             }
            },
            "type": "scatterpolargl"
           }
          ],
          "scatterternary": [
           {
            "marker": {
             "colorbar": {
              "outlinewidth": 0,
              "ticks": ""
             }
            },
            "type": "scatterternary"
           }
          ],
          "surface": [
           {
            "colorbar": {
             "outlinewidth": 0,
             "ticks": ""
            },
            "colorscale": [
             [
              0,
              "#0d0887"
             ],
             [
              0.1111111111111111,
              "#46039f"
             ],
             [
              0.2222222222222222,
              "#7201a8"
             ],
             [
              0.3333333333333333,
              "#9c179e"
             ],
             [
              0.4444444444444444,
              "#bd3786"
             ],
             [
              0.5555555555555556,
              "#d8576b"
             ],
             [
              0.6666666666666666,
              "#ed7953"
             ],
             [
              0.7777777777777778,
              "#fb9f3a"
             ],
             [
              0.8888888888888888,
              "#fdca26"
             ],
             [
              1,
              "#f0f921"
             ]
            ],
            "type": "surface"
           }
          ],
          "table": [
           {
            "cells": {
             "fill": {
              "color": "#EBF0F8"
             },
             "line": {
              "color": "white"
             }
            },
            "header": {
             "fill": {
              "color": "#C8D4E3"
             },
             "line": {
              "color": "white"
             }
            },
            "type": "table"
           }
          ]
         },
         "layout": {
          "annotationdefaults": {
           "arrowcolor": "#2a3f5f",
           "arrowhead": 0,
           "arrowwidth": 1
          },
          "autotypenumbers": "strict",
          "coloraxis": {
           "colorbar": {
            "outlinewidth": 0,
            "ticks": ""
           }
          },
          "colorscale": {
           "diverging": [
            [
             0,
             "#8e0152"
            ],
            [
             0.1,
             "#c51b7d"
            ],
            [
             0.2,
             "#de77ae"
            ],
            [
             0.3,
             "#f1b6da"
            ],
            [
             0.4,
             "#fde0ef"
            ],
            [
             0.5,
             "#f7f7f7"
            ],
            [
             0.6,
             "#e6f5d0"
            ],
            [
             0.7,
             "#b8e186"
            ],
            [
             0.8,
             "#7fbc41"
            ],
            [
             0.9,
             "#4d9221"
            ],
            [
             1,
             "#276419"
            ]
           ],
           "sequential": [
            [
             0,
             "#0d0887"
            ],
            [
             0.1111111111111111,
             "#46039f"
            ],
            [
             0.2222222222222222,
             "#7201a8"
            ],
            [
             0.3333333333333333,
             "#9c179e"
            ],
            [
             0.4444444444444444,
             "#bd3786"
            ],
            [
             0.5555555555555556,
             "#d8576b"
            ],
            [
             0.6666666666666666,
             "#ed7953"
            ],
            [
             0.7777777777777778,
             "#fb9f3a"
            ],
            [
             0.8888888888888888,
             "#fdca26"
            ],
            [
             1,
             "#f0f921"
            ]
           ],
           "sequentialminus": [
            [
             0,
             "#0d0887"
            ],
            [
             0.1111111111111111,
             "#46039f"
            ],
            [
             0.2222222222222222,
             "#7201a8"
            ],
            [
             0.3333333333333333,
             "#9c179e"
            ],
            [
             0.4444444444444444,
             "#bd3786"
            ],
            [
             0.5555555555555556,
             "#d8576b"
            ],
            [
             0.6666666666666666,
             "#ed7953"
            ],
            [
             0.7777777777777778,
             "#fb9f3a"
            ],
            [
             0.8888888888888888,
             "#fdca26"
            ],
            [
             1,
             "#f0f921"
            ]
           ]
          },
          "colorway": [
           "#636efa",
           "#EF553B",
           "#00cc96",
           "#ab63fa",
           "#FFA15A",
           "#19d3f3",
           "#FF6692",
           "#B6E880",
           "#FF97FF",
           "#FECB52"
          ],
          "font": {
           "color": "#2a3f5f"
          },
          "geo": {
           "bgcolor": "white",
           "lakecolor": "white",
           "landcolor": "#E5ECF6",
           "showlakes": true,
           "showland": true,
           "subunitcolor": "white"
          },
          "hoverlabel": {
           "align": "left"
          },
          "hovermode": "closest",
          "mapbox": {
           "style": "light"
          },
          "paper_bgcolor": "white",
          "plot_bgcolor": "#E5ECF6",
          "polar": {
           "angularaxis": {
            "gridcolor": "white",
            "linecolor": "white",
            "ticks": ""
           },
           "bgcolor": "#E5ECF6",
           "radialaxis": {
            "gridcolor": "white",
            "linecolor": "white",
            "ticks": ""
           }
          },
          "scene": {
           "xaxis": {
            "backgroundcolor": "#E5ECF6",
            "gridcolor": "white",
            "gridwidth": 2,
            "linecolor": "white",
            "showbackground": true,
            "ticks": "",
            "zerolinecolor": "white"
           },
           "yaxis": {
            "backgroundcolor": "#E5ECF6",
            "gridcolor": "white",
            "gridwidth": 2,
            "linecolor": "white",
            "showbackground": true,
            "ticks": "",
            "zerolinecolor": "white"
           },
           "zaxis": {
            "backgroundcolor": "#E5ECF6",
            "gridcolor": "white",
            "gridwidth": 2,
            "linecolor": "white",
            "showbackground": true,
            "ticks": "",
            "zerolinecolor": "white"
           }
          },
          "shapedefaults": {
           "line": {
            "color": "#2a3f5f"
           }
          },
          "ternary": {
           "aaxis": {
            "gridcolor": "white",
            "linecolor": "white",
            "ticks": ""
           },
           "baxis": {
            "gridcolor": "white",
            "linecolor": "white",
            "ticks": ""
           },
           "bgcolor": "#E5ECF6",
           "caxis": {
            "gridcolor": "white",
            "linecolor": "white",
            "ticks": ""
           }
          },
          "title": {
           "x": 0.05
          },
          "xaxis": {
           "automargin": true,
           "gridcolor": "white",
           "linecolor": "white",
           "ticks": "",
           "title": {
            "standoff": 15
           },
           "zerolinecolor": "white",
           "zerolinewidth": 2
          },
          "yaxis": {
           "automargin": true,
           "gridcolor": "white",
           "linecolor": "white",
           "ticks": "",
           "title": {
            "standoff": 15
           },
           "zerolinecolor": "white",
           "zerolinewidth": 2
          }
         }
        },
        "title": {
         "text": "Accelerated?"
        }
       }
      },
      "text/html": [
       "<div>                            <div id=\"8e351900-4eec-4b2f-946f-43bd9d3e50ef\" class=\"plotly-graph-div\" style=\"height:525px; width:100%;\"></div>            <script type=\"text/javascript\">                require([\"plotly\"], function(Plotly) {                    window.PLOTLYENV=window.PLOTLYENV || {};                                    if (document.getElementById(\"8e351900-4eec-4b2f-946f-43bd9d3e50ef\")) {                    Plotly.newPlot(                        \"8e351900-4eec-4b2f-946f-43bd9d3e50ef\",                        [{\"domain\":{\"x\":[0.0,1.0],\"y\":[0.0,1.0]},\"hovertemplate\":\"Accelerated?=%{label}<br>Number=%{value}<extra></extra>\",\"labels\":[\"No\",\"Yes\"],\"legendgroup\":\"\",\"name\":\"\",\"showlegend\":true,\"values\":[182,156],\"type\":\"pie\",\"textinfo\":\"percent+label\",\"textposition\":\"inside\"}],                        {\"template\":{\"data\":{\"histogram2dcontour\":[{\"type\":\"histogram2dcontour\",\"colorbar\":{\"outlinewidth\":0,\"ticks\":\"\"},\"colorscale\":[[0.0,\"#0d0887\"],[0.1111111111111111,\"#46039f\"],[0.2222222222222222,\"#7201a8\"],[0.3333333333333333,\"#9c179e\"],[0.4444444444444444,\"#bd3786\"],[0.5555555555555556,\"#d8576b\"],[0.6666666666666666,\"#ed7953\"],[0.7777777777777778,\"#fb9f3a\"],[0.8888888888888888,\"#fdca26\"],[1.0,\"#f0f921\"]]}],\"choropleth\":[{\"type\":\"choropleth\",\"colorbar\":{\"outlinewidth\":0,\"ticks\":\"\"}}],\"histogram2d\":[{\"type\":\"histogram2d\",\"colorbar\":{\"outlinewidth\":0,\"ticks\":\"\"},\"colorscale\":[[0.0,\"#0d0887\"],[0.1111111111111111,\"#46039f\"],[0.2222222222222222,\"#7201a8\"],[0.3333333333333333,\"#9c179e\"],[0.4444444444444444,\"#bd3786\"],[0.5555555555555556,\"#d8576b\"],[0.6666666666666666,\"#ed7953\"],[0.7777777777777778,\"#fb9f3a\"],[0.8888888888888888,\"#fdca26\"],[1.0,\"#f0f921\"]]}],\"heatmap\":[{\"type\":\"heatmap\",\"colorbar\":{\"outlinewidth\":0,\"ticks\":\"\"},\"colorscale\":[[0.0,\"#0d0887\"],[0.1111111111111111,\"#46039f\"],[0.2222222222222222,\"#7201a8\"],[0.3333333333333333,\"#9c179e\"],[0.4444444444444444,\"#bd3786\"],[0.5555555555555556,\"#d8576b\"],[0.6666666666666666,\"#ed7953\"],[0.7777777777777778,\"#fb9f3a\"],[0.8888888888888888,\"#fdca26\"],[1.0,\"#f0f921\"]]}],\"heatmapgl\":[{\"type\":\"heatmapgl\",\"colorbar\":{\"outlinewidth\":0,\"ticks\":\"\"},\"colorscale\":[[0.0,\"#0d0887\"],[0.1111111111111111,\"#46039f\"],[0.2222222222222222,\"#7201a8\"],[0.3333333333333333,\"#9c179e\"],[0.4444444444444444,\"#bd3786\"],[0.5555555555555556,\"#d8576b\"],[0.6666666666666666,\"#ed7953\"],[0.7777777777777778,\"#fb9f3a\"],[0.8888888888888888,\"#fdca26\"],[1.0,\"#f0f921\"]]}],\"contourcarpet\":[{\"type\":\"contourcarpet\",\"colorbar\":{\"outlinewidth\":0,\"ticks\":\"\"}}],\"contour\":[{\"type\":\"contour\",\"colorbar\":{\"outlinewidth\":0,\"ticks\":\"\"},\"colorscale\":[[0.0,\"#0d0887\"],[0.1111111111111111,\"#46039f\"],[0.2222222222222222,\"#7201a8\"],[0.3333333333333333,\"#9c179e\"],[0.4444444444444444,\"#bd3786\"],[0.5555555555555556,\"#d8576b\"],[0.6666666666666666,\"#ed7953\"],[0.7777777777777778,\"#fb9f3a\"],[0.8888888888888888,\"#fdca26\"],[1.0,\"#f0f921\"]]}],\"surface\":[{\"type\":\"surface\",\"colorbar\":{\"outlinewidth\":0,\"ticks\":\"\"},\"colorscale\":[[0.0,\"#0d0887\"],[0.1111111111111111,\"#46039f\"],[0.2222222222222222,\"#7201a8\"],[0.3333333333333333,\"#9c179e\"],[0.4444444444444444,\"#bd3786\"],[0.5555555555555556,\"#d8576b\"],[0.6666666666666666,\"#ed7953\"],[0.7777777777777778,\"#fb9f3a\"],[0.8888888888888888,\"#fdca26\"],[1.0,\"#f0f921\"]]}],\"mesh3d\":[{\"type\":\"mesh3d\",\"colorbar\":{\"outlinewidth\":0,\"ticks\":\"\"}}],\"scatter\":[{\"fillpattern\":{\"fillmode\":\"overlay\",\"size\":10,\"solidity\":0.2},\"type\":\"scatter\"}],\"parcoords\":[{\"type\":\"parcoords\",\"line\":{\"colorbar\":{\"outlinewidth\":0,\"ticks\":\"\"}}}],\"scatterpolargl\":[{\"type\":\"scatterpolargl\",\"marker\":{\"colorbar\":{\"outlinewidth\":0,\"ticks\":\"\"}}}],\"bar\":[{\"error_x\":{\"color\":\"#2a3f5f\"},\"error_y\":{\"color\":\"#2a3f5f\"},\"marker\":{\"line\":{\"color\":\"#E5ECF6\",\"width\":0.5},\"pattern\":{\"fillmode\":\"overlay\",\"size\":10,\"solidity\":0.2}},\"type\":\"bar\"}],\"scattergeo\":[{\"type\":\"scattergeo\",\"marker\":{\"colorbar\":{\"outlinewidth\":0,\"ticks\":\"\"}}}],\"scatterpolar\":[{\"type\":\"scatterpolar\",\"marker\":{\"colorbar\":{\"outlinewidth\":0,\"ticks\":\"\"}}}],\"histogram\":[{\"marker\":{\"pattern\":{\"fillmode\":\"overlay\",\"size\":10,\"solidity\":0.2}},\"type\":\"histogram\"}],\"scattergl\":[{\"type\":\"scattergl\",\"marker\":{\"colorbar\":{\"outlinewidth\":0,\"ticks\":\"\"}}}],\"scatter3d\":[{\"type\":\"scatter3d\",\"line\":{\"colorbar\":{\"outlinewidth\":0,\"ticks\":\"\"}},\"marker\":{\"colorbar\":{\"outlinewidth\":0,\"ticks\":\"\"}}}],\"scattermapbox\":[{\"type\":\"scattermapbox\",\"marker\":{\"colorbar\":{\"outlinewidth\":0,\"ticks\":\"\"}}}],\"scatterternary\":[{\"type\":\"scatterternary\",\"marker\":{\"colorbar\":{\"outlinewidth\":0,\"ticks\":\"\"}}}],\"scattercarpet\":[{\"type\":\"scattercarpet\",\"marker\":{\"colorbar\":{\"outlinewidth\":0,\"ticks\":\"\"}}}],\"carpet\":[{\"aaxis\":{\"endlinecolor\":\"#2a3f5f\",\"gridcolor\":\"white\",\"linecolor\":\"white\",\"minorgridcolor\":\"white\",\"startlinecolor\":\"#2a3f5f\"},\"baxis\":{\"endlinecolor\":\"#2a3f5f\",\"gridcolor\":\"white\",\"linecolor\":\"white\",\"minorgridcolor\":\"white\",\"startlinecolor\":\"#2a3f5f\"},\"type\":\"carpet\"}],\"table\":[{\"cells\":{\"fill\":{\"color\":\"#EBF0F8\"},\"line\":{\"color\":\"white\"}},\"header\":{\"fill\":{\"color\":\"#C8D4E3\"},\"line\":{\"color\":\"white\"}},\"type\":\"table\"}],\"barpolar\":[{\"marker\":{\"line\":{\"color\":\"#E5ECF6\",\"width\":0.5},\"pattern\":{\"fillmode\":\"overlay\",\"size\":10,\"solidity\":0.2}},\"type\":\"barpolar\"}],\"pie\":[{\"automargin\":true,\"type\":\"pie\"}]},\"layout\":{\"autotypenumbers\":\"strict\",\"colorway\":[\"#636efa\",\"#EF553B\",\"#00cc96\",\"#ab63fa\",\"#FFA15A\",\"#19d3f3\",\"#FF6692\",\"#B6E880\",\"#FF97FF\",\"#FECB52\"],\"font\":{\"color\":\"#2a3f5f\"},\"hovermode\":\"closest\",\"hoverlabel\":{\"align\":\"left\"},\"paper_bgcolor\":\"white\",\"plot_bgcolor\":\"#E5ECF6\",\"polar\":{\"bgcolor\":\"#E5ECF6\",\"angularaxis\":{\"gridcolor\":\"white\",\"linecolor\":\"white\",\"ticks\":\"\"},\"radialaxis\":{\"gridcolor\":\"white\",\"linecolor\":\"white\",\"ticks\":\"\"}},\"ternary\":{\"bgcolor\":\"#E5ECF6\",\"aaxis\":{\"gridcolor\":\"white\",\"linecolor\":\"white\",\"ticks\":\"\"},\"baxis\":{\"gridcolor\":\"white\",\"linecolor\":\"white\",\"ticks\":\"\"},\"caxis\":{\"gridcolor\":\"white\",\"linecolor\":\"white\",\"ticks\":\"\"}},\"coloraxis\":{\"colorbar\":{\"outlinewidth\":0,\"ticks\":\"\"}},\"colorscale\":{\"sequential\":[[0.0,\"#0d0887\"],[0.1111111111111111,\"#46039f\"],[0.2222222222222222,\"#7201a8\"],[0.3333333333333333,\"#9c179e\"],[0.4444444444444444,\"#bd3786\"],[0.5555555555555556,\"#d8576b\"],[0.6666666666666666,\"#ed7953\"],[0.7777777777777778,\"#fb9f3a\"],[0.8888888888888888,\"#fdca26\"],[1.0,\"#f0f921\"]],\"sequentialminus\":[[0.0,\"#0d0887\"],[0.1111111111111111,\"#46039f\"],[0.2222222222222222,\"#7201a8\"],[0.3333333333333333,\"#9c179e\"],[0.4444444444444444,\"#bd3786\"],[0.5555555555555556,\"#d8576b\"],[0.6666666666666666,\"#ed7953\"],[0.7777777777777778,\"#fb9f3a\"],[0.8888888888888888,\"#fdca26\"],[1.0,\"#f0f921\"]],\"diverging\":[[0,\"#8e0152\"],[0.1,\"#c51b7d\"],[0.2,\"#de77ae\"],[0.3,\"#f1b6da\"],[0.4,\"#fde0ef\"],[0.5,\"#f7f7f7\"],[0.6,\"#e6f5d0\"],[0.7,\"#b8e186\"],[0.8,\"#7fbc41\"],[0.9,\"#4d9221\"],[1,\"#276419\"]]},\"xaxis\":{\"gridcolor\":\"white\",\"linecolor\":\"white\",\"ticks\":\"\",\"title\":{\"standoff\":15},\"zerolinecolor\":\"white\",\"automargin\":true,\"zerolinewidth\":2},\"yaxis\":{\"gridcolor\":\"white\",\"linecolor\":\"white\",\"ticks\":\"\",\"title\":{\"standoff\":15},\"zerolinecolor\":\"white\",\"automargin\":true,\"zerolinewidth\":2},\"scene\":{\"xaxis\":{\"backgroundcolor\":\"#E5ECF6\",\"gridcolor\":\"white\",\"linecolor\":\"white\",\"showbackground\":true,\"ticks\":\"\",\"zerolinecolor\":\"white\",\"gridwidth\":2},\"yaxis\":{\"backgroundcolor\":\"#E5ECF6\",\"gridcolor\":\"white\",\"linecolor\":\"white\",\"showbackground\":true,\"ticks\":\"\",\"zerolinecolor\":\"white\",\"gridwidth\":2},\"zaxis\":{\"backgroundcolor\":\"#E5ECF6\",\"gridcolor\":\"white\",\"linecolor\":\"white\",\"showbackground\":true,\"ticks\":\"\",\"zerolinecolor\":\"white\",\"gridwidth\":2}},\"shapedefaults\":{\"line\":{\"color\":\"#2a3f5f\"}},\"annotationdefaults\":{\"arrowcolor\":\"#2a3f5f\",\"arrowhead\":0,\"arrowwidth\":1},\"geo\":{\"bgcolor\":\"white\",\"landcolor\":\"#E5ECF6\",\"subunitcolor\":\"white\",\"showland\":true,\"showlakes\":true,\"lakecolor\":\"white\"},\"title\":{\"x\":0.05},\"mapbox\":{\"style\":\"light\"}}},\"legend\":{\"tracegroupgap\":0},\"title\":{\"text\":\"Accelerated?\"}},                        {\"responsive\": true}                    ).then(function(){\n",
       "                            \n",
       "var gd = document.getElementById('8e351900-4eec-4b2f-946f-43bd9d3e50ef');\n",
       "var x = new MutationObserver(function (mutations, observer) {{\n",
       "        var display = window.getComputedStyle(gd).display;\n",
       "        if (!display || display === 'none') {{\n",
       "            console.log([gd, 'removed!']);\n",
       "            Plotly.purge(gd);\n",
       "            observer.disconnect();\n",
       "        }}\n",
       "}});\n",
       "\n",
       "// Listen for the removal of the full notebook cells\n",
       "var notebookContainer = gd.closest('#notebook-container');\n",
       "if (notebookContainer) {{\n",
       "    x.observe(notebookContainer, {childList: true});\n",
       "}}\n",
       "\n",
       "// Listen for the clearing of the current output cell\n",
       "var outputEl = gd.closest('.output');\n",
       "if (outputEl) {{\n",
       "    x.observe(outputEl, {childList: true});\n",
       "}}\n",
       "\n",
       "                        })                };                });            </script>        </div>"
      ]
     },
     "metadata": {},
     "output_type": "display_data"
    }
   ],
   "source": [
    "accelerated = df.groupby(['Accelerated?']).size().to_frame('Number')\n",
    "fig_locations = px.pie(accelerated, values='Number', names=accelerated.index, title='Accelerated?')\n",
    "fig_locations.update_traces(textposition='inside', textinfo='percent+label')\n",
    "fig_locations.show()"
   ]
  },
  {
   "cell_type": "code",
   "execution_count": 179,
   "id": "4d015148",
   "metadata": {},
   "outputs": [
    {
     "data": {
      "application/vnd.plotly.v1+json": {
       "config": {
        "plotlyServerURL": "https://plot.ly"
       },
       "data": [
        {
         "hovertemplate": "<b>%{hovertext}</b><br><br>Year of launch=%{x}<br>Number=%{marker.color}<extra></extra>",
         "hovertext": [
          "Legal-tech",
          "E-commerce and retail-tech",
          "Software",
          "Agri-tech",
          "E-commerce and retail-tech",
          "Fintech",
          "E-commerce and retail-tech",
          "E-health",
          "Ed-tech",
          "Fintech",
          "Mobility",
          "Recruitment and HR",
          "Agri-tech",
          "E-commerce and retail-tech",
          "Ed-tech",
          "Entertainment",
          "Fintech",
          "Legal-tech",
          "E-health",
          "Entertainment",
          "Fintech",
          "Logistics",
          "Recruitment and HR",
          "AI/IoT",
          "Agri-tech",
          "E-commerce and retail-tech",
          "E-health",
          "Ed-tech",
          "Field management",
          "Fintech",
          "Logistics",
          "Prop-tech",
          "Recruitment and HR",
          "Agri-tech",
          "E-commerce and retail-tech",
          "E-health",
          "Ed-tech",
          "Fintech",
          "Logistics",
          "Recruitment and HR",
          "Trade tech",
          "Agri-tech",
          "E-commerce and retail-tech",
          "E-health",
          "Energy",
          "Fintech",
          "Mobility",
          "Recruitment and HR",
          "Tourism",
          "Waste management",
          "Agri-tech",
          "E-commerce and retail-tech",
          "E-health",
          "Energy",
          "Fintech",
          "3D printing",
          "Agri-tech",
          "Construction",
          "Digital identity",
          "Ed-tech",
          "Fintech",
          "Logistics",
          "Marketing",
          "Mobility",
          "Procurement",
          "Recruitment and HR",
          "Agri-tech",
          "E-commerce and retail-tech",
          "E-health",
          "Ed-tech",
          "Fintech",
          "Mobility",
          "Prop-tech",
          "Recruitment and HR",
          "Agri-tech",
          "Digital identity",
          "E-commerce and retail-tech",
          "Fintech",
          "E-commerce and retail-tech",
          "Fintech",
          "Logistics",
          "Tourism"
         ],
         "legendgroup": "",
         "marker": {
          "color": [
           1,
           1,
           1,
           1,
           1,
           1,
           1,
           2,
           2,
           1,
           1,
           1,
           2,
           1,
           1,
           1,
           2,
           1,
           2,
           1,
           1,
           2,
           1,
           2,
           2,
           1,
           1,
           1,
           1,
           4,
           2,
           1,
           2,
           3,
           1,
           2,
           2,
           7,
           2,
           1,
           1,
           5,
           1,
           6,
           1,
           4,
           1,
           3,
           1,
           1,
           1,
           3,
           3,
           1,
           6,
           1,
           1,
           1,
           2,
           2,
           2,
           3,
           2,
           1,
           1,
           1,
           2,
           4,
           1,
           1,
           11,
           1,
           3,
           1,
           1,
           2,
           4,
           1,
           1,
           2,
           1,
           1
          ],
          "coloraxis": "coloraxis",
          "size": [
           1,
           1,
           1,
           1,
           1,
           1,
           1,
           2,
           2,
           1,
           1,
           1,
           2,
           1,
           1,
           1,
           2,
           1,
           2,
           1,
           1,
           2,
           1,
           2,
           2,
           1,
           1,
           1,
           1,
           4,
           2,
           1,
           2,
           3,
           1,
           2,
           2,
           7,
           2,
           1,
           1,
           5,
           1,
           6,
           1,
           4,
           1,
           3,
           1,
           1,
           1,
           3,
           3,
           1,
           6,
           1,
           1,
           1,
           2,
           2,
           2,
           3,
           2,
           1,
           1,
           1,
           2,
           4,
           1,
           1,
           11,
           1,
           3,
           1,
           1,
           2,
           4,
           1,
           1,
           2,
           1,
           1
          ],
          "sizemode": "area",
          "sizeref": 0.006875,
          "symbol": "circle"
         },
         "mode": "markers",
         "name": "",
         "orientation": "v",
         "showlegend": false,
         "type": "scatter",
         "x": [
          2007,
          2010,
          2010,
          2011,
          2011,
          2011,
          2012,
          2012,
          2012,
          2012,
          2012,
          2012,
          2013,
          2013,
          2013,
          2013,
          2013,
          2013,
          2014,
          2014,
          2014,
          2014,
          2014,
          2015,
          2015,
          2015,
          2015,
          2015,
          2015,
          2015,
          2015,
          2015,
          2015,
          2016,
          2016,
          2016,
          2016,
          2016,
          2016,
          2016,
          2016,
          2017,
          2017,
          2017,
          2017,
          2017,
          2017,
          2017,
          2017,
          2017,
          2018,
          2018,
          2018,
          2018,
          2018,
          2019,
          2019,
          2019,
          2019,
          2019,
          2019,
          2019,
          2019,
          2019,
          2019,
          2019,
          2020,
          2020,
          2020,
          2020,
          2020,
          2020,
          2020,
          2020,
          2021,
          2021,
          2021,
          2021,
          2022,
          2022,
          2022,
          2022
         ],
         "xaxis": "x",
         "y": [
          1,
          1,
          1,
          1,
          1,
          1,
          1,
          2,
          2,
          1,
          1,
          1,
          2,
          1,
          1,
          1,
          2,
          1,
          2,
          1,
          1,
          2,
          1,
          2,
          2,
          1,
          1,
          1,
          1,
          4,
          2,
          1,
          2,
          3,
          1,
          2,
          2,
          7,
          2,
          1,
          1,
          5,
          1,
          6,
          1,
          4,
          1,
          3,
          1,
          1,
          1,
          3,
          3,
          1,
          6,
          1,
          1,
          1,
          2,
          2,
          2,
          3,
          2,
          1,
          1,
          1,
          2,
          4,
          1,
          1,
          11,
          1,
          3,
          1,
          1,
          2,
          4,
          1,
          1,
          2,
          1,
          1
         ],
         "yaxis": "y"
        }
       ],
       "layout": {
        "coloraxis": {
         "colorbar": {
          "title": {
           "text": "Number"
          }
         },
         "colorscale": [
          [
           0,
           "#0d0887"
          ],
          [
           0.1111111111111111,
           "#46039f"
          ],
          [
           0.2222222222222222,
           "#7201a8"
          ],
          [
           0.3333333333333333,
           "#9c179e"
          ],
          [
           0.4444444444444444,
           "#bd3786"
          ],
          [
           0.5555555555555556,
           "#d8576b"
          ],
          [
           0.6666666666666666,
           "#ed7953"
          ],
          [
           0.7777777777777778,
           "#fb9f3a"
          ],
          [
           0.8888888888888888,
           "#fdca26"
          ],
          [
           1,
           "#f0f921"
          ]
         ]
        },
        "legend": {
         "itemsizing": "constant",
         "tracegroupgap": 0
        },
        "margin": {
         "t": 60
        },
        "template": {
         "data": {
          "bar": [
           {
            "error_x": {
             "color": "#2a3f5f"
            },
            "error_y": {
             "color": "#2a3f5f"
            },
            "marker": {
             "line": {
              "color": "#E5ECF6",
              "width": 0.5
             },
             "pattern": {
              "fillmode": "overlay",
              "size": 10,
              "solidity": 0.2
             }
            },
            "type": "bar"
           }
          ],
          "barpolar": [
           {
            "marker": {
             "line": {
              "color": "#E5ECF6",
              "width": 0.5
             },
             "pattern": {
              "fillmode": "overlay",
              "size": 10,
              "solidity": 0.2
             }
            },
            "type": "barpolar"
           }
          ],
          "carpet": [
           {
            "aaxis": {
             "endlinecolor": "#2a3f5f",
             "gridcolor": "white",
             "linecolor": "white",
             "minorgridcolor": "white",
             "startlinecolor": "#2a3f5f"
            },
            "baxis": {
             "endlinecolor": "#2a3f5f",
             "gridcolor": "white",
             "linecolor": "white",
             "minorgridcolor": "white",
             "startlinecolor": "#2a3f5f"
            },
            "type": "carpet"
           }
          ],
          "choropleth": [
           {
            "colorbar": {
             "outlinewidth": 0,
             "ticks": ""
            },
            "type": "choropleth"
           }
          ],
          "contour": [
           {
            "colorbar": {
             "outlinewidth": 0,
             "ticks": ""
            },
            "colorscale": [
             [
              0,
              "#0d0887"
             ],
             [
              0.1111111111111111,
              "#46039f"
             ],
             [
              0.2222222222222222,
              "#7201a8"
             ],
             [
              0.3333333333333333,
              "#9c179e"
             ],
             [
              0.4444444444444444,
              "#bd3786"
             ],
             [
              0.5555555555555556,
              "#d8576b"
             ],
             [
              0.6666666666666666,
              "#ed7953"
             ],
             [
              0.7777777777777778,
              "#fb9f3a"
             ],
             [
              0.8888888888888888,
              "#fdca26"
             ],
             [
              1,
              "#f0f921"
             ]
            ],
            "type": "contour"
           }
          ],
          "contourcarpet": [
           {
            "colorbar": {
             "outlinewidth": 0,
             "ticks": ""
            },
            "type": "contourcarpet"
           }
          ],
          "heatmap": [
           {
            "colorbar": {
             "outlinewidth": 0,
             "ticks": ""
            },
            "colorscale": [
             [
              0,
              "#0d0887"
             ],
             [
              0.1111111111111111,
              "#46039f"
             ],
             [
              0.2222222222222222,
              "#7201a8"
             ],
             [
              0.3333333333333333,
              "#9c179e"
             ],
             [
              0.4444444444444444,
              "#bd3786"
             ],
             [
              0.5555555555555556,
              "#d8576b"
             ],
             [
              0.6666666666666666,
              "#ed7953"
             ],
             [
              0.7777777777777778,
              "#fb9f3a"
             ],
             [
              0.8888888888888888,
              "#fdca26"
             ],
             [
              1,
              "#f0f921"
             ]
            ],
            "type": "heatmap"
           }
          ],
          "heatmapgl": [
           {
            "colorbar": {
             "outlinewidth": 0,
             "ticks": ""
            },
            "colorscale": [
             [
              0,
              "#0d0887"
             ],
             [
              0.1111111111111111,
              "#46039f"
             ],
             [
              0.2222222222222222,
              "#7201a8"
             ],
             [
              0.3333333333333333,
              "#9c179e"
             ],
             [
              0.4444444444444444,
              "#bd3786"
             ],
             [
              0.5555555555555556,
              "#d8576b"
             ],
             [
              0.6666666666666666,
              "#ed7953"
             ],
             [
              0.7777777777777778,
              "#fb9f3a"
             ],
             [
              0.8888888888888888,
              "#fdca26"
             ],
             [
              1,
              "#f0f921"
             ]
            ],
            "type": "heatmapgl"
           }
          ],
          "histogram": [
           {
            "marker": {
             "pattern": {
              "fillmode": "overlay",
              "size": 10,
              "solidity": 0.2
             }
            },
            "type": "histogram"
           }
          ],
          "histogram2d": [
           {
            "colorbar": {
             "outlinewidth": 0,
             "ticks": ""
            },
            "colorscale": [
             [
              0,
              "#0d0887"
             ],
             [
              0.1111111111111111,
              "#46039f"
             ],
             [
              0.2222222222222222,
              "#7201a8"
             ],
             [
              0.3333333333333333,
              "#9c179e"
             ],
             [
              0.4444444444444444,
              "#bd3786"
             ],
             [
              0.5555555555555556,
              "#d8576b"
             ],
             [
              0.6666666666666666,
              "#ed7953"
             ],
             [
              0.7777777777777778,
              "#fb9f3a"
             ],
             [
              0.8888888888888888,
              "#fdca26"
             ],
             [
              1,
              "#f0f921"
             ]
            ],
            "type": "histogram2d"
           }
          ],
          "histogram2dcontour": [
           {
            "colorbar": {
             "outlinewidth": 0,
             "ticks": ""
            },
            "colorscale": [
             [
              0,
              "#0d0887"
             ],
             [
              0.1111111111111111,
              "#46039f"
             ],
             [
              0.2222222222222222,
              "#7201a8"
             ],
             [
              0.3333333333333333,
              "#9c179e"
             ],
             [
              0.4444444444444444,
              "#bd3786"
             ],
             [
              0.5555555555555556,
              "#d8576b"
             ],
             [
              0.6666666666666666,
              "#ed7953"
             ],
             [
              0.7777777777777778,
              "#fb9f3a"
             ],
             [
              0.8888888888888888,
              "#fdca26"
             ],
             [
              1,
              "#f0f921"
             ]
            ],
            "type": "histogram2dcontour"
           }
          ],
          "mesh3d": [
           {
            "colorbar": {
             "outlinewidth": 0,
             "ticks": ""
            },
            "type": "mesh3d"
           }
          ],
          "parcoords": [
           {
            "line": {
             "colorbar": {
              "outlinewidth": 0,
              "ticks": ""
             }
            },
            "type": "parcoords"
           }
          ],
          "pie": [
           {
            "automargin": true,
            "type": "pie"
           }
          ],
          "scatter": [
           {
            "fillpattern": {
             "fillmode": "overlay",
             "size": 10,
             "solidity": 0.2
            },
            "type": "scatter"
           }
          ],
          "scatter3d": [
           {
            "line": {
             "colorbar": {
              "outlinewidth": 0,
              "ticks": ""
             }
            },
            "marker": {
             "colorbar": {
              "outlinewidth": 0,
              "ticks": ""
             }
            },
            "type": "scatter3d"
           }
          ],
          "scattercarpet": [
           {
            "marker": {
             "colorbar": {
              "outlinewidth": 0,
              "ticks": ""
             }
            },
            "type": "scattercarpet"
           }
          ],
          "scattergeo": [
           {
            "marker": {
             "colorbar": {
              "outlinewidth": 0,
              "ticks": ""
             }
            },
            "type": "scattergeo"
           }
          ],
          "scattergl": [
           {
            "marker": {
             "colorbar": {
              "outlinewidth": 0,
              "ticks": ""
             }
            },
            "type": "scattergl"
           }
          ],
          "scattermapbox": [
           {
            "marker": {
             "colorbar": {
              "outlinewidth": 0,
              "ticks": ""
             }
            },
            "type": "scattermapbox"
           }
          ],
          "scatterpolar": [
           {
            "marker": {
             "colorbar": {
              "outlinewidth": 0,
              "ticks": ""
             }
            },
            "type": "scatterpolar"
           }
          ],
          "scatterpolargl": [
           {
            "marker": {
             "colorbar": {
              "outlinewidth": 0,
              "ticks": ""
             }
            },
            "type": "scatterpolargl"
           }
          ],
          "scatterternary": [
           {
            "marker": {
             "colorbar": {
              "outlinewidth": 0,
              "ticks": ""
             }
            },
            "type": "scatterternary"
           }
          ],
          "surface": [
           {
            "colorbar": {
             "outlinewidth": 0,
             "ticks": ""
            },
            "colorscale": [
             [
              0,
              "#0d0887"
             ],
             [
              0.1111111111111111,
              "#46039f"
             ],
             [
              0.2222222222222222,
              "#7201a8"
             ],
             [
              0.3333333333333333,
              "#9c179e"
             ],
             [
              0.4444444444444444,
              "#bd3786"
             ],
             [
              0.5555555555555556,
              "#d8576b"
             ],
             [
              0.6666666666666666,
              "#ed7953"
             ],
             [
              0.7777777777777778,
              "#fb9f3a"
             ],
             [
              0.8888888888888888,
              "#fdca26"
             ],
             [
              1,
              "#f0f921"
             ]
            ],
            "type": "surface"
           }
          ],
          "table": [
           {
            "cells": {
             "fill": {
              "color": "#EBF0F8"
             },
             "line": {
              "color": "white"
             }
            },
            "header": {
             "fill": {
              "color": "#C8D4E3"
             },
             "line": {
              "color": "white"
             }
            },
            "type": "table"
           }
          ]
         },
         "layout": {
          "annotationdefaults": {
           "arrowcolor": "#2a3f5f",
           "arrowhead": 0,
           "arrowwidth": 1
          },
          "autotypenumbers": "strict",
          "coloraxis": {
           "colorbar": {
            "outlinewidth": 0,
            "ticks": ""
           }
          },
          "colorscale": {
           "diverging": [
            [
             0,
             "#8e0152"
            ],
            [
             0.1,
             "#c51b7d"
            ],
            [
             0.2,
             "#de77ae"
            ],
            [
             0.3,
             "#f1b6da"
            ],
            [
             0.4,
             "#fde0ef"
            ],
            [
             0.5,
             "#f7f7f7"
            ],
            [
             0.6,
             "#e6f5d0"
            ],
            [
             0.7,
             "#b8e186"
            ],
            [
             0.8,
             "#7fbc41"
            ],
            [
             0.9,
             "#4d9221"
            ],
            [
             1,
             "#276419"
            ]
           ],
           "sequential": [
            [
             0,
             "#0d0887"
            ],
            [
             0.1111111111111111,
             "#46039f"
            ],
            [
             0.2222222222222222,
             "#7201a8"
            ],
            [
             0.3333333333333333,
             "#9c179e"
            ],
            [
             0.4444444444444444,
             "#bd3786"
            ],
            [
             0.5555555555555556,
             "#d8576b"
            ],
            [
             0.6666666666666666,
             "#ed7953"
            ],
            [
             0.7777777777777778,
             "#fb9f3a"
            ],
            [
             0.8888888888888888,
             "#fdca26"
            ],
            [
             1,
             "#f0f921"
            ]
           ],
           "sequentialminus": [
            [
             0,
             "#0d0887"
            ],
            [
             0.1111111111111111,
             "#46039f"
            ],
            [
             0.2222222222222222,
             "#7201a8"
            ],
            [
             0.3333333333333333,
             "#9c179e"
            ],
            [
             0.4444444444444444,
             "#bd3786"
            ],
            [
             0.5555555555555556,
             "#d8576b"
            ],
            [
             0.6666666666666666,
             "#ed7953"
            ],
            [
             0.7777777777777778,
             "#fb9f3a"
            ],
            [
             0.8888888888888888,
             "#fdca26"
            ],
            [
             1,
             "#f0f921"
            ]
           ]
          },
          "colorway": [
           "#636efa",
           "#EF553B",
           "#00cc96",
           "#ab63fa",
           "#FFA15A",
           "#19d3f3",
           "#FF6692",
           "#B6E880",
           "#FF97FF",
           "#FECB52"
          ],
          "font": {
           "color": "#2a3f5f"
          },
          "geo": {
           "bgcolor": "white",
           "lakecolor": "white",
           "landcolor": "#E5ECF6",
           "showlakes": true,
           "showland": true,
           "subunitcolor": "white"
          },
          "hoverlabel": {
           "align": "left"
          },
          "hovermode": "closest",
          "mapbox": {
           "style": "light"
          },
          "paper_bgcolor": "white",
          "plot_bgcolor": "#E5ECF6",
          "polar": {
           "angularaxis": {
            "gridcolor": "white",
            "linecolor": "white",
            "ticks": ""
           },
           "bgcolor": "#E5ECF6",
           "radialaxis": {
            "gridcolor": "white",
            "linecolor": "white",
            "ticks": ""
           }
          },
          "scene": {
           "xaxis": {
            "backgroundcolor": "#E5ECF6",
            "gridcolor": "white",
            "gridwidth": 2,
            "linecolor": "white",
            "showbackground": true,
            "ticks": "",
            "zerolinecolor": "white"
           },
           "yaxis": {
            "backgroundcolor": "#E5ECF6",
            "gridcolor": "white",
            "gridwidth": 2,
            "linecolor": "white",
            "showbackground": true,
            "ticks": "",
            "zerolinecolor": "white"
           },
           "zaxis": {
            "backgroundcolor": "#E5ECF6",
            "gridcolor": "white",
            "gridwidth": 2,
            "linecolor": "white",
            "showbackground": true,
            "ticks": "",
            "zerolinecolor": "white"
           }
          },
          "shapedefaults": {
           "line": {
            "color": "#2a3f5f"
           }
          },
          "ternary": {
           "aaxis": {
            "gridcolor": "white",
            "linecolor": "white",
            "ticks": ""
           },
           "baxis": {
            "gridcolor": "white",
            "linecolor": "white",
            "ticks": ""
           },
           "bgcolor": "#E5ECF6",
           "caxis": {
            "gridcolor": "white",
            "linecolor": "white",
            "ticks": ""
           }
          },
          "title": {
           "x": 0.05
          },
          "xaxis": {
           "automargin": true,
           "gridcolor": "white",
           "linecolor": "white",
           "ticks": "",
           "title": {
            "standoff": 15
           },
           "zerolinecolor": "white",
           "zerolinewidth": 2
          },
          "yaxis": {
           "automargin": true,
           "gridcolor": "white",
           "linecolor": "white",
           "ticks": "",
           "title": {
            "standoff": 15
           },
           "zerolinecolor": "white",
           "zerolinewidth": 2
          }
         }
        },
        "xaxis": {
         "anchor": "y",
         "domain": [
          0,
          1
         ],
         "title": {
          "text": "Year of launch"
         },
         "type": "log"
        },
        "yaxis": {
         "anchor": "x",
         "domain": [
          0,
          1
         ],
         "title": {
          "text": "Number"
         }
        }
       }
      },
      "text/html": [
       "<div>                            <div id=\"fad7680c-a795-4285-a410-6dbb4785b356\" class=\"plotly-graph-div\" style=\"height:525px; width:100%;\"></div>            <script type=\"text/javascript\">                require([\"plotly\"], function(Plotly) {                    window.PLOTLYENV=window.PLOTLYENV || {};                                    if (document.getElementById(\"fad7680c-a795-4285-a410-6dbb4785b356\")) {                    Plotly.newPlot(                        \"fad7680c-a795-4285-a410-6dbb4785b356\",                        [{\"hovertemplate\":\"<b>%{hovertext}</b><br><br>Year of launch=%{x}<br>Number=%{marker.color}<extra></extra>\",\"hovertext\":[\"Legal-tech\",\"E-commerce and retail-tech\",\"Software\",\"Agri-tech\",\"E-commerce and retail-tech\",\"Fintech\",\"E-commerce and retail-tech\",\"E-health\",\"Ed-tech\",\"Fintech\",\"Mobility\",\"Recruitment and HR\",\"Agri-tech\",\"E-commerce and retail-tech\",\"Ed-tech\",\"Entertainment\",\"Fintech\",\"Legal-tech\",\"E-health\",\"Entertainment\",\"Fintech\",\"Logistics\",\"Recruitment and HR\",\"AI/IoT\",\"Agri-tech\",\"E-commerce and retail-tech\",\"E-health\",\"Ed-tech\",\"Field management\",\"Fintech\",\"Logistics\",\"Prop-tech\",\"Recruitment and HR\",\"Agri-tech\",\"E-commerce and retail-tech\",\"E-health\",\"Ed-tech\",\"Fintech\",\"Logistics\",\"Recruitment and HR\",\"Trade tech\",\"Agri-tech\",\"E-commerce and retail-tech\",\"E-health\",\"Energy\",\"Fintech\",\"Mobility\",\"Recruitment and HR\",\"Tourism\",\"Waste management\",\"Agri-tech\",\"E-commerce and retail-tech\",\"E-health\",\"Energy\",\"Fintech\",\"3D printing\",\"Agri-tech\",\"Construction\",\"Digital identity\",\"Ed-tech\",\"Fintech\",\"Logistics\",\"Marketing\",\"Mobility\",\"Procurement\",\"Recruitment and HR\",\"Agri-tech\",\"E-commerce and retail-tech\",\"E-health\",\"Ed-tech\",\"Fintech\",\"Mobility\",\"Prop-tech\",\"Recruitment and HR\",\"Agri-tech\",\"Digital identity\",\"E-commerce and retail-tech\",\"Fintech\",\"E-commerce and retail-tech\",\"Fintech\",\"Logistics\",\"Tourism\"],\"legendgroup\":\"\",\"marker\":{\"color\":[1,1,1,1,1,1,1,2,2,1,1,1,2,1,1,1,2,1,2,1,1,2,1,2,2,1,1,1,1,4,2,1,2,3,1,2,2,7,2,1,1,5,1,6,1,4,1,3,1,1,1,3,3,1,6,1,1,1,2,2,2,3,2,1,1,1,2,4,1,1,11,1,3,1,1,2,4,1,1,2,1,1],\"coloraxis\":\"coloraxis\",\"size\":[1,1,1,1,1,1,1,2,2,1,1,1,2,1,1,1,2,1,2,1,1,2,1,2,2,1,1,1,1,4,2,1,2,3,1,2,2,7,2,1,1,5,1,6,1,4,1,3,1,1,1,3,3,1,6,1,1,1,2,2,2,3,2,1,1,1,2,4,1,1,11,1,3,1,1,2,4,1,1,2,1,1],\"sizemode\":\"area\",\"sizeref\":0.006875,\"symbol\":\"circle\"},\"mode\":\"markers\",\"name\":\"\",\"orientation\":\"v\",\"showlegend\":false,\"x\":[2007,2010,2010,2011,2011,2011,2012,2012,2012,2012,2012,2012,2013,2013,2013,2013,2013,2013,2014,2014,2014,2014,2014,2015,2015,2015,2015,2015,2015,2015,2015,2015,2015,2016,2016,2016,2016,2016,2016,2016,2016,2017,2017,2017,2017,2017,2017,2017,2017,2017,2018,2018,2018,2018,2018,2019,2019,2019,2019,2019,2019,2019,2019,2019,2019,2019,2020,2020,2020,2020,2020,2020,2020,2020,2021,2021,2021,2021,2022,2022,2022,2022],\"xaxis\":\"x\",\"y\":[1,1,1,1,1,1,1,2,2,1,1,1,2,1,1,1,2,1,2,1,1,2,1,2,2,1,1,1,1,4,2,1,2,3,1,2,2,7,2,1,1,5,1,6,1,4,1,3,1,1,1,3,3,1,6,1,1,1,2,2,2,3,2,1,1,1,2,4,1,1,11,1,3,1,1,2,4,1,1,2,1,1],\"yaxis\":\"y\",\"type\":\"scatter\"}],                        {\"template\":{\"data\":{\"histogram2dcontour\":[{\"type\":\"histogram2dcontour\",\"colorbar\":{\"outlinewidth\":0,\"ticks\":\"\"},\"colorscale\":[[0.0,\"#0d0887\"],[0.1111111111111111,\"#46039f\"],[0.2222222222222222,\"#7201a8\"],[0.3333333333333333,\"#9c179e\"],[0.4444444444444444,\"#bd3786\"],[0.5555555555555556,\"#d8576b\"],[0.6666666666666666,\"#ed7953\"],[0.7777777777777778,\"#fb9f3a\"],[0.8888888888888888,\"#fdca26\"],[1.0,\"#f0f921\"]]}],\"choropleth\":[{\"type\":\"choropleth\",\"colorbar\":{\"outlinewidth\":0,\"ticks\":\"\"}}],\"histogram2d\":[{\"type\":\"histogram2d\",\"colorbar\":{\"outlinewidth\":0,\"ticks\":\"\"},\"colorscale\":[[0.0,\"#0d0887\"],[0.1111111111111111,\"#46039f\"],[0.2222222222222222,\"#7201a8\"],[0.3333333333333333,\"#9c179e\"],[0.4444444444444444,\"#bd3786\"],[0.5555555555555556,\"#d8576b\"],[0.6666666666666666,\"#ed7953\"],[0.7777777777777778,\"#fb9f3a\"],[0.8888888888888888,\"#fdca26\"],[1.0,\"#f0f921\"]]}],\"heatmap\":[{\"type\":\"heatmap\",\"colorbar\":{\"outlinewidth\":0,\"ticks\":\"\"},\"colorscale\":[[0.0,\"#0d0887\"],[0.1111111111111111,\"#46039f\"],[0.2222222222222222,\"#7201a8\"],[0.3333333333333333,\"#9c179e\"],[0.4444444444444444,\"#bd3786\"],[0.5555555555555556,\"#d8576b\"],[0.6666666666666666,\"#ed7953\"],[0.7777777777777778,\"#fb9f3a\"],[0.8888888888888888,\"#fdca26\"],[1.0,\"#f0f921\"]]}],\"heatmapgl\":[{\"type\":\"heatmapgl\",\"colorbar\":{\"outlinewidth\":0,\"ticks\":\"\"},\"colorscale\":[[0.0,\"#0d0887\"],[0.1111111111111111,\"#46039f\"],[0.2222222222222222,\"#7201a8\"],[0.3333333333333333,\"#9c179e\"],[0.4444444444444444,\"#bd3786\"],[0.5555555555555556,\"#d8576b\"],[0.6666666666666666,\"#ed7953\"],[0.7777777777777778,\"#fb9f3a\"],[0.8888888888888888,\"#fdca26\"],[1.0,\"#f0f921\"]]}],\"contourcarpet\":[{\"type\":\"contourcarpet\",\"colorbar\":{\"outlinewidth\":0,\"ticks\":\"\"}}],\"contour\":[{\"type\":\"contour\",\"colorbar\":{\"outlinewidth\":0,\"ticks\":\"\"},\"colorscale\":[[0.0,\"#0d0887\"],[0.1111111111111111,\"#46039f\"],[0.2222222222222222,\"#7201a8\"],[0.3333333333333333,\"#9c179e\"],[0.4444444444444444,\"#bd3786\"],[0.5555555555555556,\"#d8576b\"],[0.6666666666666666,\"#ed7953\"],[0.7777777777777778,\"#fb9f3a\"],[0.8888888888888888,\"#fdca26\"],[1.0,\"#f0f921\"]]}],\"surface\":[{\"type\":\"surface\",\"colorbar\":{\"outlinewidth\":0,\"ticks\":\"\"},\"colorscale\":[[0.0,\"#0d0887\"],[0.1111111111111111,\"#46039f\"],[0.2222222222222222,\"#7201a8\"],[0.3333333333333333,\"#9c179e\"],[0.4444444444444444,\"#bd3786\"],[0.5555555555555556,\"#d8576b\"],[0.6666666666666666,\"#ed7953\"],[0.7777777777777778,\"#fb9f3a\"],[0.8888888888888888,\"#fdca26\"],[1.0,\"#f0f921\"]]}],\"mesh3d\":[{\"type\":\"mesh3d\",\"colorbar\":{\"outlinewidth\":0,\"ticks\":\"\"}}],\"scatter\":[{\"fillpattern\":{\"fillmode\":\"overlay\",\"size\":10,\"solidity\":0.2},\"type\":\"scatter\"}],\"parcoords\":[{\"type\":\"parcoords\",\"line\":{\"colorbar\":{\"outlinewidth\":0,\"ticks\":\"\"}}}],\"scatterpolargl\":[{\"type\":\"scatterpolargl\",\"marker\":{\"colorbar\":{\"outlinewidth\":0,\"ticks\":\"\"}}}],\"bar\":[{\"error_x\":{\"color\":\"#2a3f5f\"},\"error_y\":{\"color\":\"#2a3f5f\"},\"marker\":{\"line\":{\"color\":\"#E5ECF6\",\"width\":0.5},\"pattern\":{\"fillmode\":\"overlay\",\"size\":10,\"solidity\":0.2}},\"type\":\"bar\"}],\"scattergeo\":[{\"type\":\"scattergeo\",\"marker\":{\"colorbar\":{\"outlinewidth\":0,\"ticks\":\"\"}}}],\"scatterpolar\":[{\"type\":\"scatterpolar\",\"marker\":{\"colorbar\":{\"outlinewidth\":0,\"ticks\":\"\"}}}],\"histogram\":[{\"marker\":{\"pattern\":{\"fillmode\":\"overlay\",\"size\":10,\"solidity\":0.2}},\"type\":\"histogram\"}],\"scattergl\":[{\"type\":\"scattergl\",\"marker\":{\"colorbar\":{\"outlinewidth\":0,\"ticks\":\"\"}}}],\"scatter3d\":[{\"type\":\"scatter3d\",\"line\":{\"colorbar\":{\"outlinewidth\":0,\"ticks\":\"\"}},\"marker\":{\"colorbar\":{\"outlinewidth\":0,\"ticks\":\"\"}}}],\"scattermapbox\":[{\"type\":\"scattermapbox\",\"marker\":{\"colorbar\":{\"outlinewidth\":0,\"ticks\":\"\"}}}],\"scatterternary\":[{\"type\":\"scatterternary\",\"marker\":{\"colorbar\":{\"outlinewidth\":0,\"ticks\":\"\"}}}],\"scattercarpet\":[{\"type\":\"scattercarpet\",\"marker\":{\"colorbar\":{\"outlinewidth\":0,\"ticks\":\"\"}}}],\"carpet\":[{\"aaxis\":{\"endlinecolor\":\"#2a3f5f\",\"gridcolor\":\"white\",\"linecolor\":\"white\",\"minorgridcolor\":\"white\",\"startlinecolor\":\"#2a3f5f\"},\"baxis\":{\"endlinecolor\":\"#2a3f5f\",\"gridcolor\":\"white\",\"linecolor\":\"white\",\"minorgridcolor\":\"white\",\"startlinecolor\":\"#2a3f5f\"},\"type\":\"carpet\"}],\"table\":[{\"cells\":{\"fill\":{\"color\":\"#EBF0F8\"},\"line\":{\"color\":\"white\"}},\"header\":{\"fill\":{\"color\":\"#C8D4E3\"},\"line\":{\"color\":\"white\"}},\"type\":\"table\"}],\"barpolar\":[{\"marker\":{\"line\":{\"color\":\"#E5ECF6\",\"width\":0.5},\"pattern\":{\"fillmode\":\"overlay\",\"size\":10,\"solidity\":0.2}},\"type\":\"barpolar\"}],\"pie\":[{\"automargin\":true,\"type\":\"pie\"}]},\"layout\":{\"autotypenumbers\":\"strict\",\"colorway\":[\"#636efa\",\"#EF553B\",\"#00cc96\",\"#ab63fa\",\"#FFA15A\",\"#19d3f3\",\"#FF6692\",\"#B6E880\",\"#FF97FF\",\"#FECB52\"],\"font\":{\"color\":\"#2a3f5f\"},\"hovermode\":\"closest\",\"hoverlabel\":{\"align\":\"left\"},\"paper_bgcolor\":\"white\",\"plot_bgcolor\":\"#E5ECF6\",\"polar\":{\"bgcolor\":\"#E5ECF6\",\"angularaxis\":{\"gridcolor\":\"white\",\"linecolor\":\"white\",\"ticks\":\"\"},\"radialaxis\":{\"gridcolor\":\"white\",\"linecolor\":\"white\",\"ticks\":\"\"}},\"ternary\":{\"bgcolor\":\"#E5ECF6\",\"aaxis\":{\"gridcolor\":\"white\",\"linecolor\":\"white\",\"ticks\":\"\"},\"baxis\":{\"gridcolor\":\"white\",\"linecolor\":\"white\",\"ticks\":\"\"},\"caxis\":{\"gridcolor\":\"white\",\"linecolor\":\"white\",\"ticks\":\"\"}},\"coloraxis\":{\"colorbar\":{\"outlinewidth\":0,\"ticks\":\"\"}},\"colorscale\":{\"sequential\":[[0.0,\"#0d0887\"],[0.1111111111111111,\"#46039f\"],[0.2222222222222222,\"#7201a8\"],[0.3333333333333333,\"#9c179e\"],[0.4444444444444444,\"#bd3786\"],[0.5555555555555556,\"#d8576b\"],[0.6666666666666666,\"#ed7953\"],[0.7777777777777778,\"#fb9f3a\"],[0.8888888888888888,\"#fdca26\"],[1.0,\"#f0f921\"]],\"sequentialminus\":[[0.0,\"#0d0887\"],[0.1111111111111111,\"#46039f\"],[0.2222222222222222,\"#7201a8\"],[0.3333333333333333,\"#9c179e\"],[0.4444444444444444,\"#bd3786\"],[0.5555555555555556,\"#d8576b\"],[0.6666666666666666,\"#ed7953\"],[0.7777777777777778,\"#fb9f3a\"],[0.8888888888888888,\"#fdca26\"],[1.0,\"#f0f921\"]],\"diverging\":[[0,\"#8e0152\"],[0.1,\"#c51b7d\"],[0.2,\"#de77ae\"],[0.3,\"#f1b6da\"],[0.4,\"#fde0ef\"],[0.5,\"#f7f7f7\"],[0.6,\"#e6f5d0\"],[0.7,\"#b8e186\"],[0.8,\"#7fbc41\"],[0.9,\"#4d9221\"],[1,\"#276419\"]]},\"xaxis\":{\"gridcolor\":\"white\",\"linecolor\":\"white\",\"ticks\":\"\",\"title\":{\"standoff\":15},\"zerolinecolor\":\"white\",\"automargin\":true,\"zerolinewidth\":2},\"yaxis\":{\"gridcolor\":\"white\",\"linecolor\":\"white\",\"ticks\":\"\",\"title\":{\"standoff\":15},\"zerolinecolor\":\"white\",\"automargin\":true,\"zerolinewidth\":2},\"scene\":{\"xaxis\":{\"backgroundcolor\":\"#E5ECF6\",\"gridcolor\":\"white\",\"linecolor\":\"white\",\"showbackground\":true,\"ticks\":\"\",\"zerolinecolor\":\"white\",\"gridwidth\":2},\"yaxis\":{\"backgroundcolor\":\"#E5ECF6\",\"gridcolor\":\"white\",\"linecolor\":\"white\",\"showbackground\":true,\"ticks\":\"\",\"zerolinecolor\":\"white\",\"gridwidth\":2},\"zaxis\":{\"backgroundcolor\":\"#E5ECF6\",\"gridcolor\":\"white\",\"linecolor\":\"white\",\"showbackground\":true,\"ticks\":\"\",\"zerolinecolor\":\"white\",\"gridwidth\":2}},\"shapedefaults\":{\"line\":{\"color\":\"#2a3f5f\"}},\"annotationdefaults\":{\"arrowcolor\":\"#2a3f5f\",\"arrowhead\":0,\"arrowwidth\":1},\"geo\":{\"bgcolor\":\"white\",\"landcolor\":\"#E5ECF6\",\"subunitcolor\":\"white\",\"showland\":true,\"showlakes\":true,\"lakecolor\":\"white\"},\"title\":{\"x\":0.05},\"mapbox\":{\"style\":\"light\"}}},\"xaxis\":{\"anchor\":\"y\",\"domain\":[0.0,1.0],\"title\":{\"text\":\"Year of launch\"},\"type\":\"log\"},\"yaxis\":{\"anchor\":\"x\",\"domain\":[0.0,1.0],\"title\":{\"text\":\"Number\"}},\"coloraxis\":{\"colorbar\":{\"title\":{\"text\":\"Number\"}},\"colorscale\":[[0.0,\"#0d0887\"],[0.1111111111111111,\"#46039f\"],[0.2222222222222222,\"#7201a8\"],[0.3333333333333333,\"#9c179e\"],[0.4444444444444444,\"#bd3786\"],[0.5555555555555556,\"#d8576b\"],[0.6666666666666666,\"#ed7953\"],[0.7777777777777778,\"#fb9f3a\"],[0.8888888888888888,\"#fdca26\"],[1.0,\"#f0f921\"]]},\"legend\":{\"tracegroupgap\":0,\"itemsizing\":\"constant\"},\"margin\":{\"t\":60}},                        {\"responsive\": true}                    ).then(function(){\n",
       "                            \n",
       "var gd = document.getElementById('fad7680c-a795-4285-a410-6dbb4785b356');\n",
       "var x = new MutationObserver(function (mutations, observer) {{\n",
       "        var display = window.getComputedStyle(gd).display;\n",
       "        if (!display || display === 'none') {{\n",
       "            console.log([gd, 'removed!']);\n",
       "            Plotly.purge(gd);\n",
       "            observer.disconnect();\n",
       "        }}\n",
       "}});\n",
       "\n",
       "// Listen for the removal of the full notebook cells\n",
       "var notebookContainer = gd.closest('#notebook-container');\n",
       "if (notebookContainer) {{\n",
       "    x.observe(notebookContainer, {childList: true});\n",
       "}}\n",
       "\n",
       "// Listen for the clearing of the current output cell\n",
       "var outputEl = gd.closest('.output');\n",
       "if (outputEl) {{\n",
       "    x.observe(outputEl, {childList: true});\n",
       "}}\n",
       "\n",
       "                        })                };                });            </script>        </div>"
      ]
     },
     "metadata": {},
     "output_type": "display_data"
    }
   ],
   "source": [
    "accelerator = df[df['Accelerated?'] == 'Yes'].groupby(['Year of launch', 'Accelerated?', 'Sector']).size().to_frame('Number').reset_index()\n",
    "accelerator['Year of launch'] = accelerator['Year of launch'].astype('int')\n",
    "fig = px.scatter(accelerator, x=\"Year of launch\", y=\"Number\",\n",
    "\t         size=\"Number\", color=\"Number\",\n",
    "                 hover_name=\"Sector\", log_x=True, size_max=40)\n",
    "fig.show()"
   ]
  },
  {
   "cell_type": "code",
   "execution_count": 187,
   "id": "f66c9290",
   "metadata": {},
   "outputs": [
    {
     "data": {
      "application/vnd.plotly.v1+json": {
       "config": {
        "plotlyServerURL": "https://plot.ly"
       },
       "data": [
        {
         "alignmentgroup": "True",
         "hovertemplate": "Sector=%{x}<br>Average=%{y}<extra></extra>",
         "legendgroup": "",
         "marker": {
          "color": "#636efa",
          "pattern": {
           "shape": ""
          }
         },
         "name": "",
         "offsetgroup": "",
         "orientation": "v",
         "showlegend": false,
         "textposition": "auto",
         "type": "bar",
         "x": [
          "3D printing",
          "AI/IoT",
          "Agri-tech",
          "Cloud",
          "Communications",
          "Connectivity",
          "Conservation",
          "Construction",
          "Cybersecurity",
          "Digital identity",
          "Drones",
          "E-commerce and retail-tech",
          "E-health",
          "Ed-tech",
          "Energy",
          "Entertainment",
          "Field management",
          "Fintech",
          "Legal-tech",
          "Logistics",
          "Marketing",
          "Mobility",
          "Procurement",
          "Prop-tech",
          "Recruitment and HR",
          "Software",
          "Tourism",
          "Trade tech",
          "VR",
          "Waste management",
          "Water management"
         ],
         "xaxis": "x",
         "y": [
          10,
          50,
          86,
          9,
          76,
          17,
          122,
          12,
          1,
          1,
          11,
          60,
          25,
          40,
          33,
          17,
          45,
          32,
          3,
          54,
          37,
          24,
          39,
          4,
          17,
          10,
          3,
          17,
          18,
          43,
          9
         ],
         "yaxis": "y"
        }
       ],
       "layout": {
        "barmode": "relative",
        "legend": {
         "tracegroupgap": 0
        },
        "margin": {
         "t": 60
        },
        "template": {
         "data": {
          "bar": [
           {
            "error_x": {
             "color": "#2a3f5f"
            },
            "error_y": {
             "color": "#2a3f5f"
            },
            "marker": {
             "line": {
              "color": "#E5ECF6",
              "width": 0.5
             },
             "pattern": {
              "fillmode": "overlay",
              "size": 10,
              "solidity": 0.2
             }
            },
            "type": "bar"
           }
          ],
          "barpolar": [
           {
            "marker": {
             "line": {
              "color": "#E5ECF6",
              "width": 0.5
             },
             "pattern": {
              "fillmode": "overlay",
              "size": 10,
              "solidity": 0.2
             }
            },
            "type": "barpolar"
           }
          ],
          "carpet": [
           {
            "aaxis": {
             "endlinecolor": "#2a3f5f",
             "gridcolor": "white",
             "linecolor": "white",
             "minorgridcolor": "white",
             "startlinecolor": "#2a3f5f"
            },
            "baxis": {
             "endlinecolor": "#2a3f5f",
             "gridcolor": "white",
             "linecolor": "white",
             "minorgridcolor": "white",
             "startlinecolor": "#2a3f5f"
            },
            "type": "carpet"
           }
          ],
          "choropleth": [
           {
            "colorbar": {
             "outlinewidth": 0,
             "ticks": ""
            },
            "type": "choropleth"
           }
          ],
          "contour": [
           {
            "colorbar": {
             "outlinewidth": 0,
             "ticks": ""
            },
            "colorscale": [
             [
              0,
              "#0d0887"
             ],
             [
              0.1111111111111111,
              "#46039f"
             ],
             [
              0.2222222222222222,
              "#7201a8"
             ],
             [
              0.3333333333333333,
              "#9c179e"
             ],
             [
              0.4444444444444444,
              "#bd3786"
             ],
             [
              0.5555555555555556,
              "#d8576b"
             ],
             [
              0.6666666666666666,
              "#ed7953"
             ],
             [
              0.7777777777777778,
              "#fb9f3a"
             ],
             [
              0.8888888888888888,
              "#fdca26"
             ],
             [
              1,
              "#f0f921"
             ]
            ],
            "type": "contour"
           }
          ],
          "contourcarpet": [
           {
            "colorbar": {
             "outlinewidth": 0,
             "ticks": ""
            },
            "type": "contourcarpet"
           }
          ],
          "heatmap": [
           {
            "colorbar": {
             "outlinewidth": 0,
             "ticks": ""
            },
            "colorscale": [
             [
              0,
              "#0d0887"
             ],
             [
              0.1111111111111111,
              "#46039f"
             ],
             [
              0.2222222222222222,
              "#7201a8"
             ],
             [
              0.3333333333333333,
              "#9c179e"
             ],
             [
              0.4444444444444444,
              "#bd3786"
             ],
             [
              0.5555555555555556,
              "#d8576b"
             ],
             [
              0.6666666666666666,
              "#ed7953"
             ],
             [
              0.7777777777777778,
              "#fb9f3a"
             ],
             [
              0.8888888888888888,
              "#fdca26"
             ],
             [
              1,
              "#f0f921"
             ]
            ],
            "type": "heatmap"
           }
          ],
          "heatmapgl": [
           {
            "colorbar": {
             "outlinewidth": 0,
             "ticks": ""
            },
            "colorscale": [
             [
              0,
              "#0d0887"
             ],
             [
              0.1111111111111111,
              "#46039f"
             ],
             [
              0.2222222222222222,
              "#7201a8"
             ],
             [
              0.3333333333333333,
              "#9c179e"
             ],
             [
              0.4444444444444444,
              "#bd3786"
             ],
             [
              0.5555555555555556,
              "#d8576b"
             ],
             [
              0.6666666666666666,
              "#ed7953"
             ],
             [
              0.7777777777777778,
              "#fb9f3a"
             ],
             [
              0.8888888888888888,
              "#fdca26"
             ],
             [
              1,
              "#f0f921"
             ]
            ],
            "type": "heatmapgl"
           }
          ],
          "histogram": [
           {
            "marker": {
             "pattern": {
              "fillmode": "overlay",
              "size": 10,
              "solidity": 0.2
             }
            },
            "type": "histogram"
           }
          ],
          "histogram2d": [
           {
            "colorbar": {
             "outlinewidth": 0,
             "ticks": ""
            },
            "colorscale": [
             [
              0,
              "#0d0887"
             ],
             [
              0.1111111111111111,
              "#46039f"
             ],
             [
              0.2222222222222222,
              "#7201a8"
             ],
             [
              0.3333333333333333,
              "#9c179e"
             ],
             [
              0.4444444444444444,
              "#bd3786"
             ],
             [
              0.5555555555555556,
              "#d8576b"
             ],
             [
              0.6666666666666666,
              "#ed7953"
             ],
             [
              0.7777777777777778,
              "#fb9f3a"
             ],
             [
              0.8888888888888888,
              "#fdca26"
             ],
             [
              1,
              "#f0f921"
             ]
            ],
            "type": "histogram2d"
           }
          ],
          "histogram2dcontour": [
           {
            "colorbar": {
             "outlinewidth": 0,
             "ticks": ""
            },
            "colorscale": [
             [
              0,
              "#0d0887"
             ],
             [
              0.1111111111111111,
              "#46039f"
             ],
             [
              0.2222222222222222,
              "#7201a8"
             ],
             [
              0.3333333333333333,
              "#9c179e"
             ],
             [
              0.4444444444444444,
              "#bd3786"
             ],
             [
              0.5555555555555556,
              "#d8576b"
             ],
             [
              0.6666666666666666,
              "#ed7953"
             ],
             [
              0.7777777777777778,
              "#fb9f3a"
             ],
             [
              0.8888888888888888,
              "#fdca26"
             ],
             [
              1,
              "#f0f921"
             ]
            ],
            "type": "histogram2dcontour"
           }
          ],
          "mesh3d": [
           {
            "colorbar": {
             "outlinewidth": 0,
             "ticks": ""
            },
            "type": "mesh3d"
           }
          ],
          "parcoords": [
           {
            "line": {
             "colorbar": {
              "outlinewidth": 0,
              "ticks": ""
             }
            },
            "type": "parcoords"
           }
          ],
          "pie": [
           {
            "automargin": true,
            "type": "pie"
           }
          ],
          "scatter": [
           {
            "fillpattern": {
             "fillmode": "overlay",
             "size": 10,
             "solidity": 0.2
            },
            "type": "scatter"
           }
          ],
          "scatter3d": [
           {
            "line": {
             "colorbar": {
              "outlinewidth": 0,
              "ticks": ""
             }
            },
            "marker": {
             "colorbar": {
              "outlinewidth": 0,
              "ticks": ""
             }
            },
            "type": "scatter3d"
           }
          ],
          "scattercarpet": [
           {
            "marker": {
             "colorbar": {
              "outlinewidth": 0,
              "ticks": ""
             }
            },
            "type": "scattercarpet"
           }
          ],
          "scattergeo": [
           {
            "marker": {
             "colorbar": {
              "outlinewidth": 0,
              "ticks": ""
             }
            },
            "type": "scattergeo"
           }
          ],
          "scattergl": [
           {
            "marker": {
             "colorbar": {
              "outlinewidth": 0,
              "ticks": ""
             }
            },
            "type": "scattergl"
           }
          ],
          "scattermapbox": [
           {
            "marker": {
             "colorbar": {
              "outlinewidth": 0,
              "ticks": ""
             }
            },
            "type": "scattermapbox"
           }
          ],
          "scatterpolar": [
           {
            "marker": {
             "colorbar": {
              "outlinewidth": 0,
              "ticks": ""
             }
            },
            "type": "scatterpolar"
           }
          ],
          "scatterpolargl": [
           {
            "marker": {
             "colorbar": {
              "outlinewidth": 0,
              "ticks": ""
             }
            },
            "type": "scatterpolargl"
           }
          ],
          "scatterternary": [
           {
            "marker": {
             "colorbar": {
              "outlinewidth": 0,
              "ticks": ""
             }
            },
            "type": "scatterternary"
           }
          ],
          "surface": [
           {
            "colorbar": {
             "outlinewidth": 0,
             "ticks": ""
            },
            "colorscale": [
             [
              0,
              "#0d0887"
             ],
             [
              0.1111111111111111,
              "#46039f"
             ],
             [
              0.2222222222222222,
              "#7201a8"
             ],
             [
              0.3333333333333333,
              "#9c179e"
             ],
             [
              0.4444444444444444,
              "#bd3786"
             ],
             [
              0.5555555555555556,
              "#d8576b"
             ],
             [
              0.6666666666666666,
              "#ed7953"
             ],
             [
              0.7777777777777778,
              "#fb9f3a"
             ],
             [
              0.8888888888888888,
              "#fdca26"
             ],
             [
              1,
              "#f0f921"
             ]
            ],
            "type": "surface"
           }
          ],
          "table": [
           {
            "cells": {
             "fill": {
              "color": "#EBF0F8"
             },
             "line": {
              "color": "white"
             }
            },
            "header": {
             "fill": {
              "color": "#C8D4E3"
             },
             "line": {
              "color": "white"
             }
            },
            "type": "table"
           }
          ]
         },
         "layout": {
          "annotationdefaults": {
           "arrowcolor": "#2a3f5f",
           "arrowhead": 0,
           "arrowwidth": 1
          },
          "autotypenumbers": "strict",
          "coloraxis": {
           "colorbar": {
            "outlinewidth": 0,
            "ticks": ""
           }
          },
          "colorscale": {
           "diverging": [
            [
             0,
             "#8e0152"
            ],
            [
             0.1,
             "#c51b7d"
            ],
            [
             0.2,
             "#de77ae"
            ],
            [
             0.3,
             "#f1b6da"
            ],
            [
             0.4,
             "#fde0ef"
            ],
            [
             0.5,
             "#f7f7f7"
            ],
            [
             0.6,
             "#e6f5d0"
            ],
            [
             0.7,
             "#b8e186"
            ],
            [
             0.8,
             "#7fbc41"
            ],
            [
             0.9,
             "#4d9221"
            ],
            [
             1,
             "#276419"
            ]
           ],
           "sequential": [
            [
             0,
             "#0d0887"
            ],
            [
             0.1111111111111111,
             "#46039f"
            ],
            [
             0.2222222222222222,
             "#7201a8"
            ],
            [
             0.3333333333333333,
             "#9c179e"
            ],
            [
             0.4444444444444444,
             "#bd3786"
            ],
            [
             0.5555555555555556,
             "#d8576b"
            ],
            [
             0.6666666666666666,
             "#ed7953"
            ],
            [
             0.7777777777777778,
             "#fb9f3a"
            ],
            [
             0.8888888888888888,
             "#fdca26"
            ],
            [
             1,
             "#f0f921"
            ]
           ],
           "sequentialminus": [
            [
             0,
             "#0d0887"
            ],
            [
             0.1111111111111111,
             "#46039f"
            ],
            [
             0.2222222222222222,
             "#7201a8"
            ],
            [
             0.3333333333333333,
             "#9c179e"
            ],
            [
             0.4444444444444444,
             "#bd3786"
            ],
            [
             0.5555555555555556,
             "#d8576b"
            ],
            [
             0.6666666666666666,
             "#ed7953"
            ],
            [
             0.7777777777777778,
             "#fb9f3a"
            ],
            [
             0.8888888888888888,
             "#fdca26"
            ],
            [
             1,
             "#f0f921"
            ]
           ]
          },
          "colorway": [
           "#636efa",
           "#EF553B",
           "#00cc96",
           "#ab63fa",
           "#FFA15A",
           "#19d3f3",
           "#FF6692",
           "#B6E880",
           "#FF97FF",
           "#FECB52"
          ],
          "font": {
           "color": "#2a3f5f"
          },
          "geo": {
           "bgcolor": "white",
           "lakecolor": "white",
           "landcolor": "#E5ECF6",
           "showlakes": true,
           "showland": true,
           "subunitcolor": "white"
          },
          "hoverlabel": {
           "align": "left"
          },
          "hovermode": "closest",
          "mapbox": {
           "style": "light"
          },
          "paper_bgcolor": "white",
          "plot_bgcolor": "#E5ECF6",
          "polar": {
           "angularaxis": {
            "gridcolor": "white",
            "linecolor": "white",
            "ticks": ""
           },
           "bgcolor": "#E5ECF6",
           "radialaxis": {
            "gridcolor": "white",
            "linecolor": "white",
            "ticks": ""
           }
          },
          "scene": {
           "xaxis": {
            "backgroundcolor": "#E5ECF6",
            "gridcolor": "white",
            "gridwidth": 2,
            "linecolor": "white",
            "showbackground": true,
            "ticks": "",
            "zerolinecolor": "white"
           },
           "yaxis": {
            "backgroundcolor": "#E5ECF6",
            "gridcolor": "white",
            "gridwidth": 2,
            "linecolor": "white",
            "showbackground": true,
            "ticks": "",
            "zerolinecolor": "white"
           },
           "zaxis": {
            "backgroundcolor": "#E5ECF6",
            "gridcolor": "white",
            "gridwidth": 2,
            "linecolor": "white",
            "showbackground": true,
            "ticks": "",
            "zerolinecolor": "white"
           }
          },
          "shapedefaults": {
           "line": {
            "color": "#2a3f5f"
           }
          },
          "ternary": {
           "aaxis": {
            "gridcolor": "white",
            "linecolor": "white",
            "ticks": ""
           },
           "baxis": {
            "gridcolor": "white",
            "linecolor": "white",
            "ticks": ""
           },
           "bgcolor": "#E5ECF6",
           "caxis": {
            "gridcolor": "white",
            "linecolor": "white",
            "ticks": ""
           }
          },
          "title": {
           "x": 0.05
          },
          "xaxis": {
           "automargin": true,
           "gridcolor": "white",
           "linecolor": "white",
           "ticks": "",
           "title": {
            "standoff": 15
           },
           "zerolinecolor": "white",
           "zerolinewidth": 2
          },
          "yaxis": {
           "automargin": true,
           "gridcolor": "white",
           "linecolor": "white",
           "ticks": "",
           "title": {
            "standoff": 15
           },
           "zerolinecolor": "white",
           "zerolinewidth": 2
          }
         }
        },
        "xaxis": {
         "anchor": "y",
         "domain": [
          0,
          1
         ],
         "title": {
          "text": "Sector"
         }
        },
        "yaxis": {
         "anchor": "x",
         "domain": [
          0,
          1
         ],
         "title": {
          "text": "Average"
         }
        }
       }
      },
      "text/html": [
       "<div>                            <div id=\"02570352-423e-4936-a148-b88a0b96b485\" class=\"plotly-graph-div\" style=\"height:525px; width:100%;\"></div>            <script type=\"text/javascript\">                require([\"plotly\"], function(Plotly) {                    window.PLOTLYENV=window.PLOTLYENV || {};                                    if (document.getElementById(\"02570352-423e-4936-a148-b88a0b96b485\")) {                    Plotly.newPlot(                        \"02570352-423e-4936-a148-b88a0b96b485\",                        [{\"alignmentgroup\":\"True\",\"hovertemplate\":\"Sector=%{x}<br>Average=%{y}<extra></extra>\",\"legendgroup\":\"\",\"marker\":{\"color\":\"#636efa\",\"pattern\":{\"shape\":\"\"}},\"name\":\"\",\"offsetgroup\":\"\",\"orientation\":\"v\",\"showlegend\":false,\"textposition\":\"auto\",\"x\":[\"3D printing\",\"AI/IoT\",\"Agri-tech\",\"Cloud\",\"Communications\",\"Connectivity\",\"Conservation\",\"Construction\",\"Cybersecurity\",\"Digital identity\",\"Drones\",\"E-commerce and retail-tech\",\"E-health\",\"Ed-tech\",\"Energy\",\"Entertainment\",\"Field management\",\"Fintech\",\"Legal-tech\",\"Logistics\",\"Marketing\",\"Mobility\",\"Procurement\",\"Prop-tech\",\"Recruitment and HR\",\"Software\",\"Tourism\",\"Trade tech\",\"VR\",\"Waste management\",\"Water management\"],\"xaxis\":\"x\",\"y\":[10,50,86,9,76,17,122,12,1,1,11,60,25,40,33,17,45,32,3,54,37,24,39,4,17,10,3,17,18,43,9],\"yaxis\":\"y\",\"type\":\"bar\"}],                        {\"template\":{\"data\":{\"histogram2dcontour\":[{\"type\":\"histogram2dcontour\",\"colorbar\":{\"outlinewidth\":0,\"ticks\":\"\"},\"colorscale\":[[0.0,\"#0d0887\"],[0.1111111111111111,\"#46039f\"],[0.2222222222222222,\"#7201a8\"],[0.3333333333333333,\"#9c179e\"],[0.4444444444444444,\"#bd3786\"],[0.5555555555555556,\"#d8576b\"],[0.6666666666666666,\"#ed7953\"],[0.7777777777777778,\"#fb9f3a\"],[0.8888888888888888,\"#fdca26\"],[1.0,\"#f0f921\"]]}],\"choropleth\":[{\"type\":\"choropleth\",\"colorbar\":{\"outlinewidth\":0,\"ticks\":\"\"}}],\"histogram2d\":[{\"type\":\"histogram2d\",\"colorbar\":{\"outlinewidth\":0,\"ticks\":\"\"},\"colorscale\":[[0.0,\"#0d0887\"],[0.1111111111111111,\"#46039f\"],[0.2222222222222222,\"#7201a8\"],[0.3333333333333333,\"#9c179e\"],[0.4444444444444444,\"#bd3786\"],[0.5555555555555556,\"#d8576b\"],[0.6666666666666666,\"#ed7953\"],[0.7777777777777778,\"#fb9f3a\"],[0.8888888888888888,\"#fdca26\"],[1.0,\"#f0f921\"]]}],\"heatmap\":[{\"type\":\"heatmap\",\"colorbar\":{\"outlinewidth\":0,\"ticks\":\"\"},\"colorscale\":[[0.0,\"#0d0887\"],[0.1111111111111111,\"#46039f\"],[0.2222222222222222,\"#7201a8\"],[0.3333333333333333,\"#9c179e\"],[0.4444444444444444,\"#bd3786\"],[0.5555555555555556,\"#d8576b\"],[0.6666666666666666,\"#ed7953\"],[0.7777777777777778,\"#fb9f3a\"],[0.8888888888888888,\"#fdca26\"],[1.0,\"#f0f921\"]]}],\"heatmapgl\":[{\"type\":\"heatmapgl\",\"colorbar\":{\"outlinewidth\":0,\"ticks\":\"\"},\"colorscale\":[[0.0,\"#0d0887\"],[0.1111111111111111,\"#46039f\"],[0.2222222222222222,\"#7201a8\"],[0.3333333333333333,\"#9c179e\"],[0.4444444444444444,\"#bd3786\"],[0.5555555555555556,\"#d8576b\"],[0.6666666666666666,\"#ed7953\"],[0.7777777777777778,\"#fb9f3a\"],[0.8888888888888888,\"#fdca26\"],[1.0,\"#f0f921\"]]}],\"contourcarpet\":[{\"type\":\"contourcarpet\",\"colorbar\":{\"outlinewidth\":0,\"ticks\":\"\"}}],\"contour\":[{\"type\":\"contour\",\"colorbar\":{\"outlinewidth\":0,\"ticks\":\"\"},\"colorscale\":[[0.0,\"#0d0887\"],[0.1111111111111111,\"#46039f\"],[0.2222222222222222,\"#7201a8\"],[0.3333333333333333,\"#9c179e\"],[0.4444444444444444,\"#bd3786\"],[0.5555555555555556,\"#d8576b\"],[0.6666666666666666,\"#ed7953\"],[0.7777777777777778,\"#fb9f3a\"],[0.8888888888888888,\"#fdca26\"],[1.0,\"#f0f921\"]]}],\"surface\":[{\"type\":\"surface\",\"colorbar\":{\"outlinewidth\":0,\"ticks\":\"\"},\"colorscale\":[[0.0,\"#0d0887\"],[0.1111111111111111,\"#46039f\"],[0.2222222222222222,\"#7201a8\"],[0.3333333333333333,\"#9c179e\"],[0.4444444444444444,\"#bd3786\"],[0.5555555555555556,\"#d8576b\"],[0.6666666666666666,\"#ed7953\"],[0.7777777777777778,\"#fb9f3a\"],[0.8888888888888888,\"#fdca26\"],[1.0,\"#f0f921\"]]}],\"mesh3d\":[{\"type\":\"mesh3d\",\"colorbar\":{\"outlinewidth\":0,\"ticks\":\"\"}}],\"scatter\":[{\"fillpattern\":{\"fillmode\":\"overlay\",\"size\":10,\"solidity\":0.2},\"type\":\"scatter\"}],\"parcoords\":[{\"type\":\"parcoords\",\"line\":{\"colorbar\":{\"outlinewidth\":0,\"ticks\":\"\"}}}],\"scatterpolargl\":[{\"type\":\"scatterpolargl\",\"marker\":{\"colorbar\":{\"outlinewidth\":0,\"ticks\":\"\"}}}],\"bar\":[{\"error_x\":{\"color\":\"#2a3f5f\"},\"error_y\":{\"color\":\"#2a3f5f\"},\"marker\":{\"line\":{\"color\":\"#E5ECF6\",\"width\":0.5},\"pattern\":{\"fillmode\":\"overlay\",\"size\":10,\"solidity\":0.2}},\"type\":\"bar\"}],\"scattergeo\":[{\"type\":\"scattergeo\",\"marker\":{\"colorbar\":{\"outlinewidth\":0,\"ticks\":\"\"}}}],\"scatterpolar\":[{\"type\":\"scatterpolar\",\"marker\":{\"colorbar\":{\"outlinewidth\":0,\"ticks\":\"\"}}}],\"histogram\":[{\"marker\":{\"pattern\":{\"fillmode\":\"overlay\",\"size\":10,\"solidity\":0.2}},\"type\":\"histogram\"}],\"scattergl\":[{\"type\":\"scattergl\",\"marker\":{\"colorbar\":{\"outlinewidth\":0,\"ticks\":\"\"}}}],\"scatter3d\":[{\"type\":\"scatter3d\",\"line\":{\"colorbar\":{\"outlinewidth\":0,\"ticks\":\"\"}},\"marker\":{\"colorbar\":{\"outlinewidth\":0,\"ticks\":\"\"}}}],\"scattermapbox\":[{\"type\":\"scattermapbox\",\"marker\":{\"colorbar\":{\"outlinewidth\":0,\"ticks\":\"\"}}}],\"scatterternary\":[{\"type\":\"scatterternary\",\"marker\":{\"colorbar\":{\"outlinewidth\":0,\"ticks\":\"\"}}}],\"scattercarpet\":[{\"type\":\"scattercarpet\",\"marker\":{\"colorbar\":{\"outlinewidth\":0,\"ticks\":\"\"}}}],\"carpet\":[{\"aaxis\":{\"endlinecolor\":\"#2a3f5f\",\"gridcolor\":\"white\",\"linecolor\":\"white\",\"minorgridcolor\":\"white\",\"startlinecolor\":\"#2a3f5f\"},\"baxis\":{\"endlinecolor\":\"#2a3f5f\",\"gridcolor\":\"white\",\"linecolor\":\"white\",\"minorgridcolor\":\"white\",\"startlinecolor\":\"#2a3f5f\"},\"type\":\"carpet\"}],\"table\":[{\"cells\":{\"fill\":{\"color\":\"#EBF0F8\"},\"line\":{\"color\":\"white\"}},\"header\":{\"fill\":{\"color\":\"#C8D4E3\"},\"line\":{\"color\":\"white\"}},\"type\":\"table\"}],\"barpolar\":[{\"marker\":{\"line\":{\"color\":\"#E5ECF6\",\"width\":0.5},\"pattern\":{\"fillmode\":\"overlay\",\"size\":10,\"solidity\":0.2}},\"type\":\"barpolar\"}],\"pie\":[{\"automargin\":true,\"type\":\"pie\"}]},\"layout\":{\"autotypenumbers\":\"strict\",\"colorway\":[\"#636efa\",\"#EF553B\",\"#00cc96\",\"#ab63fa\",\"#FFA15A\",\"#19d3f3\",\"#FF6692\",\"#B6E880\",\"#FF97FF\",\"#FECB52\"],\"font\":{\"color\":\"#2a3f5f\"},\"hovermode\":\"closest\",\"hoverlabel\":{\"align\":\"left\"},\"paper_bgcolor\":\"white\",\"plot_bgcolor\":\"#E5ECF6\",\"polar\":{\"bgcolor\":\"#E5ECF6\",\"angularaxis\":{\"gridcolor\":\"white\",\"linecolor\":\"white\",\"ticks\":\"\"},\"radialaxis\":{\"gridcolor\":\"white\",\"linecolor\":\"white\",\"ticks\":\"\"}},\"ternary\":{\"bgcolor\":\"#E5ECF6\",\"aaxis\":{\"gridcolor\":\"white\",\"linecolor\":\"white\",\"ticks\":\"\"},\"baxis\":{\"gridcolor\":\"white\",\"linecolor\":\"white\",\"ticks\":\"\"},\"caxis\":{\"gridcolor\":\"white\",\"linecolor\":\"white\",\"ticks\":\"\"}},\"coloraxis\":{\"colorbar\":{\"outlinewidth\":0,\"ticks\":\"\"}},\"colorscale\":{\"sequential\":[[0.0,\"#0d0887\"],[0.1111111111111111,\"#46039f\"],[0.2222222222222222,\"#7201a8\"],[0.3333333333333333,\"#9c179e\"],[0.4444444444444444,\"#bd3786\"],[0.5555555555555556,\"#d8576b\"],[0.6666666666666666,\"#ed7953\"],[0.7777777777777778,\"#fb9f3a\"],[0.8888888888888888,\"#fdca26\"],[1.0,\"#f0f921\"]],\"sequentialminus\":[[0.0,\"#0d0887\"],[0.1111111111111111,\"#46039f\"],[0.2222222222222222,\"#7201a8\"],[0.3333333333333333,\"#9c179e\"],[0.4444444444444444,\"#bd3786\"],[0.5555555555555556,\"#d8576b\"],[0.6666666666666666,\"#ed7953\"],[0.7777777777777778,\"#fb9f3a\"],[0.8888888888888888,\"#fdca26\"],[1.0,\"#f0f921\"]],\"diverging\":[[0,\"#8e0152\"],[0.1,\"#c51b7d\"],[0.2,\"#de77ae\"],[0.3,\"#f1b6da\"],[0.4,\"#fde0ef\"],[0.5,\"#f7f7f7\"],[0.6,\"#e6f5d0\"],[0.7,\"#b8e186\"],[0.8,\"#7fbc41\"],[0.9,\"#4d9221\"],[1,\"#276419\"]]},\"xaxis\":{\"gridcolor\":\"white\",\"linecolor\":\"white\",\"ticks\":\"\",\"title\":{\"standoff\":15},\"zerolinecolor\":\"white\",\"automargin\":true,\"zerolinewidth\":2},\"yaxis\":{\"gridcolor\":\"white\",\"linecolor\":\"white\",\"ticks\":\"\",\"title\":{\"standoff\":15},\"zerolinecolor\":\"white\",\"automargin\":true,\"zerolinewidth\":2},\"scene\":{\"xaxis\":{\"backgroundcolor\":\"#E5ECF6\",\"gridcolor\":\"white\",\"linecolor\":\"white\",\"showbackground\":true,\"ticks\":\"\",\"zerolinecolor\":\"white\",\"gridwidth\":2},\"yaxis\":{\"backgroundcolor\":\"#E5ECF6\",\"gridcolor\":\"white\",\"linecolor\":\"white\",\"showbackground\":true,\"ticks\":\"\",\"zerolinecolor\":\"white\",\"gridwidth\":2},\"zaxis\":{\"backgroundcolor\":\"#E5ECF6\",\"gridcolor\":\"white\",\"linecolor\":\"white\",\"showbackground\":true,\"ticks\":\"\",\"zerolinecolor\":\"white\",\"gridwidth\":2}},\"shapedefaults\":{\"line\":{\"color\":\"#2a3f5f\"}},\"annotationdefaults\":{\"arrowcolor\":\"#2a3f5f\",\"arrowhead\":0,\"arrowwidth\":1},\"geo\":{\"bgcolor\":\"white\",\"landcolor\":\"#E5ECF6\",\"subunitcolor\":\"white\",\"showland\":true,\"showlakes\":true,\"lakecolor\":\"white\"},\"title\":{\"x\":0.05},\"mapbox\":{\"style\":\"light\"}}},\"xaxis\":{\"anchor\":\"y\",\"domain\":[0.0,1.0],\"title\":{\"text\":\"Sector\"}},\"yaxis\":{\"anchor\":\"x\",\"domain\":[0.0,1.0],\"title\":{\"text\":\"Average\"}},\"legend\":{\"tracegroupgap\":0},\"margin\":{\"t\":60},\"barmode\":\"relative\"},                        {\"responsive\": true}                    ).then(function(){\n",
       "                            \n",
       "var gd = document.getElementById('02570352-423e-4936-a148-b88a0b96b485');\n",
       "var x = new MutationObserver(function (mutations, observer) {{\n",
       "        var display = window.getComputedStyle(gd).display;\n",
       "        if (!display || display === 'none') {{\n",
       "            console.log([gd, 'removed!']);\n",
       "            Plotly.purge(gd);\n",
       "            observer.disconnect();\n",
       "        }}\n",
       "}});\n",
       "\n",
       "// Listen for the removal of the full notebook cells\n",
       "var notebookContainer = gd.closest('#notebook-container');\n",
       "if (notebookContainer) {{\n",
       "    x.observe(notebookContainer, {childList: true});\n",
       "}}\n",
       "\n",
       "// Listen for the clearing of the current output cell\n",
       "var outputEl = gd.closest('.output');\n",
       "if (outputEl) {{\n",
       "    x.observe(outputEl, {childList: true});\n",
       "}}\n",
       "\n",
       "                        })                };                });            </script>        </div>"
      ]
     },
     "metadata": {},
     "output_type": "display_data"
    }
   ],
   "source": [
    "average_employees = df.groupby(['Sector'])['Number of employees'].mean().to_frame('Average')\n",
    "average_employees['Average'] = average_employees['Average'].astype('int')\n",
    "# average_employees\n",
    "fig = px.bar(average_employees, x=average_employees.index, y='Average')\n",
    "fig.show()"
   ]
  },
  {
   "cell_type": "code",
   "execution_count": 189,
   "id": "f57642aa",
   "metadata": {},
   "outputs": [
    {
     "data": {
      "text/plain": [
       "13140.0"
      ]
     },
     "execution_count": 189,
     "metadata": {},
     "output_type": "execute_result"
    }
   ],
   "source": [
    "total_employees = df['Number of employees'].sum()\n",
    "total_employees"
   ]
  },
  {
   "cell_type": "code",
   "execution_count": null,
   "id": "d69216d1",
   "metadata": {},
   "outputs": [],
   "source": []
  },
  {
   "cell_type": "code",
   "execution_count": null,
   "id": "573a9f54",
   "metadata": {},
   "outputs": [],
   "source": []
  },
  {
   "cell_type": "code",
   "execution_count": null,
   "id": "1d6c2c3a",
   "metadata": {},
   "outputs": [],
   "source": []
  },
  {
   "cell_type": "code",
   "execution_count": null,
   "id": "985d4b0d",
   "metadata": {},
   "outputs": [],
   "source": []
  },
  {
   "cell_type": "code",
   "execution_count": null,
   "id": "a86b07e0",
   "metadata": {},
   "outputs": [],
   "source": []
  },
  {
   "cell_type": "code",
   "execution_count": null,
   "id": "14ea9c4c",
   "metadata": {},
   "outputs": [],
   "source": []
  },
  {
   "cell_type": "code",
   "execution_count": null,
   "id": "cf1c3a18",
   "metadata": {},
   "outputs": [],
   "source": []
  },
  {
   "cell_type": "code",
   "execution_count": null,
   "id": "7ba81b9b",
   "metadata": {},
   "outputs": [],
   "source": []
  },
  {
   "cell_type": "code",
   "execution_count": null,
   "id": "39abbb6e",
   "metadata": {},
   "outputs": [],
   "source": []
  },
  {
   "cell_type": "code",
   "execution_count": null,
   "id": "33c1c05c",
   "metadata": {},
   "outputs": [],
   "source": []
  },
  {
   "cell_type": "code",
   "execution_count": null,
   "id": "06f4ff09",
   "metadata": {},
   "outputs": [],
   "source": []
  },
  {
   "cell_type": "code",
   "execution_count": null,
   "id": "fed664f0",
   "metadata": {},
   "outputs": [],
   "source": []
  },
  {
   "cell_type": "code",
   "execution_count": null,
   "id": "cbf1f8be",
   "metadata": {},
   "outputs": [],
   "source": []
  },
  {
   "cell_type": "code",
   "execution_count": null,
   "id": "70cdd878",
   "metadata": {},
   "outputs": [],
   "source": []
  },
  {
   "cell_type": "code",
   "execution_count": null,
   "id": "7801d7fe",
   "metadata": {},
   "outputs": [],
   "source": []
  },
  {
   "cell_type": "code",
   "execution_count": null,
   "id": "714f0f08",
   "metadata": {},
   "outputs": [],
   "source": []
  },
  {
   "cell_type": "code",
   "execution_count": null,
   "id": "d2678cdc",
   "metadata": {},
   "outputs": [],
   "source": []
  },
  {
   "cell_type": "code",
   "execution_count": null,
   "id": "d64310ea",
   "metadata": {},
   "outputs": [],
   "source": []
  },
  {
   "cell_type": "code",
   "execution_count": null,
   "id": "bbf45761",
   "metadata": {},
   "outputs": [],
   "source": []
  },
  {
   "cell_type": "code",
   "execution_count": null,
   "id": "1616abae",
   "metadata": {},
   "outputs": [],
   "source": []
  },
  {
   "cell_type": "code",
   "execution_count": null,
   "id": "cb42b42a",
   "metadata": {},
   "outputs": [],
   "source": []
  },
  {
   "cell_type": "code",
   "execution_count": null,
   "id": "e75d7628",
   "metadata": {},
   "outputs": [],
   "source": []
  },
  {
   "cell_type": "code",
   "execution_count": null,
   "id": "8a8ec04c",
   "metadata": {},
   "outputs": [],
   "source": []
  },
  {
   "cell_type": "code",
   "execution_count": null,
   "id": "78b2a92a",
   "metadata": {},
   "outputs": [],
   "source": []
  },
  {
   "cell_type": "code",
   "execution_count": null,
   "id": "2240fdd2",
   "metadata": {},
   "outputs": [],
   "source": []
  },
  {
   "cell_type": "code",
   "execution_count": null,
   "id": "3aa15aa1",
   "metadata": {},
   "outputs": [],
   "source": []
  },
  {
   "cell_type": "code",
   "execution_count": null,
   "id": "a1a5b87d",
   "metadata": {},
   "outputs": [],
   "source": []
  },
  {
   "cell_type": "code",
   "execution_count": null,
   "id": "53a1fda7",
   "metadata": {},
   "outputs": [],
   "source": []
  },
  {
   "cell_type": "code",
   "execution_count": null,
   "id": "5a76a35a",
   "metadata": {},
   "outputs": [],
   "source": []
  }
 ],
 "metadata": {
  "kernelspec": {
   "display_name": "Python 3 (ipykernel)",
   "language": "python",
   "name": "python3"
  },
  "language_info": {
   "codemirror_mode": {
    "name": "ipython",
    "version": 3
   },
   "file_extension": ".py",
   "mimetype": "text/x-python",
   "name": "python",
   "nbconvert_exporter": "python",
   "pygments_lexer": "ipython3",
   "version": "3.10.2"
  }
 },
 "nbformat": 4,
 "nbformat_minor": 5
}
